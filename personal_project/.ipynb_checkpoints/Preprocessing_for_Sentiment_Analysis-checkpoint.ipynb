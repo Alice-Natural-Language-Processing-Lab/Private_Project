{
 "cells": [
  {
   "cell_type": "markdown",
   "metadata": {},
   "source": [
    "# Preprocessin for Sentiment Analysis\n",
    "> * [공공데이터포털](https://www.data.go.kr/) : 뉴스빅데이터 분석 정보\n",
    "> * 수정일 2017.12.26 "
   ]
  },
  {
   "cell_type": "code",
   "execution_count": 6,
   "metadata": {},
   "outputs": [],
   "source": [
    "import os\n",
    "from glob import glob\n",
    "import pandas as pd\n",
    "import html\n",
    "import itertools\n",
    "import re"
   ]
  },
  {
   "cell_type": "code",
   "execution_count": 2,
   "metadata": {},
   "outputs": [],
   "source": [
    "path1 = './data/news/have_negative_positive/constitution/'\n",
    "path2 = './data/news/have_negative_positive/household_debt/'\n",
    "path3 = './data/news/have_negative_positive/olymphic/'\n",
    "path4 = './data/news/have_negative_positive/'\n",
    "pathList = [path1, path2, path3, path4]"
   ]
  },
  {
   "cell_type": "code",
   "execution_count": 3,
   "metadata": {},
   "outputs": [],
   "source": [
    "def Get_CSVfileList(path):\n",
    "    filelist = glob(path+'*.csv')\n",
    "    filelist.extend(glob(path+'*.CSV'))\n",
    "    return filelist"
   ]
  },
  {
   "cell_type": "code",
   "execution_count": 65,
   "metadata": {
    "scrolled": false
   },
   "outputs": [
    {
     "name": "stdout",
     "output_type": "stream",
     "text": [
      "176643\n",
      "(176643, 3)\n"
     ]
    },
    {
     "data": {
      "text/html": [
       "<div>\n",
       "<style scoped>\n",
       "    .dataframe tbody tr th:only-of-type {\n",
       "        vertical-align: middle;\n",
       "    }\n",
       "\n",
       "    .dataframe tbody tr th {\n",
       "        vertical-align: top;\n",
       "    }\n",
       "\n",
       "    .dataframe thead th {\n",
       "        text-align: right;\n",
       "    }\n",
       "</style>\n",
       "<table border=\"1\" class=\"dataframe\">\n",
       "  <thead>\n",
       "    <tr style=\"text-align: right;\">\n",
       "      <th></th>\n",
       "      <th>감성분석</th>\n",
       "      <th>긍정 문장</th>\n",
       "      <th>부정 문장</th>\n",
       "    </tr>\n",
       "  </thead>\n",
       "  <tbody>\n",
       "    <tr>\n",
       "      <th>0</th>\n",
       "      <td>NEGATIVE 폭압 NEGATIVE 사이비 NEGATIVE 족쇄 NEGATIVE ...</td>\n",
       "      <td>주택조합 승인 자체가 몹시 어려웠던 시절 한국기자협회 주택조합 형식으로 추진된 이 ...</td>\n",
       "      <td>[도청도설] 기자 아파트 단독주택 420여 가구를 짓는 이 사업은 꼭 5년이 걸려 ...</td>\n",
       "    </tr>\n",
       "    <tr>\n",
       "      <th>1</th>\n",
       "      <td>NEGATIVE 문제</td>\n",
       "      <td>서 의원은 여의도 당사에서 기자회견을 열어 “압도적으로 승리할 것이고 국민, 당원이...</td>\n",
       "      <td>김 의원은 여의도 당사 기자회견에서 “대통령이 와서 지난 대선 때 도와준 핵심 간부...</td>\n",
       "    </tr>\n",
       "    <tr>\n",
       "      <th>2</th>\n",
       "      <td>NEGATIVE 제외 NEGATIVE 의혹 NEGATIVE 비리 NEGATIVE 포...</td>\n",
       "      <td>박근혜 대통령이 14일 열린 새누리당 전당대회에 참석한 것은 그만큼 아직 여권에서 ...</td>\n",
       "      <td>실제로 1987년 이후 역대 대통령들은 집권 초에는 여당에 막강한 영향력을 행사했지...</td>\n",
       "    </tr>\n",
       "    <tr>\n",
       "      <th>3</th>\n",
       "      <td>POSITIVE 최선 POSITIVE 열심히 NEGATIVE 비판 NEGATIVE ...</td>\n",
       "      <td>“살기 좋은 전북 만들기, 중앙정부와 연결고리 최선” “월드컵에 출전한 우리 국가대...</td>\n",
       "      <td>‘장기 비전이 없다면, 살아남을 수 없다’, ‘플랜B(위기 대응책)없이는 살아남을 ...</td>\n",
       "    </tr>\n",
       "    <tr>\n",
       "      <th>4</th>\n",
       "      <td>POSITIVE 고맙 NEGATIVE 탈락 NEGATIVE 어렵 POSITIVE 구...</td>\n",
       "      <td>\"여러분 너무나 고맙고 감사합니다. 도와주신 여러분께 저의 마음속의 큰 절을 받아주...</td>\n",
       "      <td>공천 탈락 직후 백의종군한 김무성 당시 선대본부장이 당을 떠나며 말없이 남긴 석 줄...</td>\n",
       "    </tr>\n",
       "  </tbody>\n",
       "</table>\n",
       "</div>"
      ],
      "text/plain": [
       "                                                감성분석  \\\n",
       "0  NEGATIVE 폭압 NEGATIVE 사이비 NEGATIVE 족쇄 NEGATIVE ...   \n",
       "1                                        NEGATIVE 문제   \n",
       "2  NEGATIVE 제외 NEGATIVE 의혹 NEGATIVE 비리 NEGATIVE 포...   \n",
       "3  POSITIVE 최선 POSITIVE 열심히 NEGATIVE 비판 NEGATIVE ...   \n",
       "4  POSITIVE 고맙 NEGATIVE 탈락 NEGATIVE 어렵 POSITIVE 구...   \n",
       "\n",
       "                                               긍정 문장  \\\n",
       "0  주택조합 승인 자체가 몹시 어려웠던 시절 한국기자협회 주택조합 형식으로 추진된 이 ...   \n",
       "1  서 의원은 여의도 당사에서 기자회견을 열어 “압도적으로 승리할 것이고 국민, 당원이...   \n",
       "2  박근혜 대통령이 14일 열린 새누리당 전당대회에 참석한 것은 그만큼 아직 여권에서 ...   \n",
       "3  “살기 좋은 전북 만들기, 중앙정부와 연결고리 최선” “월드컵에 출전한 우리 국가대...   \n",
       "4  \"여러분 너무나 고맙고 감사합니다. 도와주신 여러분께 저의 마음속의 큰 절을 받아주...   \n",
       "\n",
       "                                               부정 문장  \n",
       "0  [도청도설] 기자 아파트 단독주택 420여 가구를 짓는 이 사업은 꼭 5년이 걸려 ...  \n",
       "1  김 의원은 여의도 당사 기자회견에서 “대통령이 와서 지난 대선 때 도와준 핵심 간부...  \n",
       "2  실제로 1987년 이후 역대 대통령들은 집권 초에는 여당에 막강한 영향력을 행사했지...  \n",
       "3  ‘장기 비전이 없다면, 살아남을 수 없다’, ‘플랜B(위기 대응책)없이는 살아남을 ...  \n",
       "4  공천 탈락 직후 백의종군한 김무성 당시 선대본부장이 당을 떠나며 말없이 남긴 석 줄...  "
      ]
     },
     "execution_count": 65,
     "metadata": {},
     "output_type": "execute_result"
    }
   ],
   "source": [
    "df_data=pd.DataFrame()\n",
    "x = 0 \n",
    "for path in pathList:\n",
    "    fileList = Get_CSVfileList(path)\n",
    "    for file in fileList:\n",
    "        df = pd.read_csv(file,encoding='utf-8')\n",
    "        x += df.shape[0]\n",
    "        if len(df_data) == 0:\n",
    "            df_data = df[['감성분석', '긍정 문장', '부정 문장']]\n",
    "        else:\n",
    "            df_data = pd.concat([df_data, df[['감성분석', '긍정 문장', '부정 문장']]])\n",
    "df_data.reset_index(drop=True, inplace=True)        \n",
    "print (x)\n",
    "print (df_data.shape)\n",
    "df_data.head()"
   ]
  },
  {
   "cell_type": "code",
   "execution_count": 351,
   "metadata": {},
   "outputs": [],
   "source": [
    "df_words = df_data['감성분석'].copy()\n",
    "df_positive = df_data['긍정 문장'].copy()\n",
    "df_negative = df_data['부정 문장'].copy()"
   ]
  },
  {
   "cell_type": "markdown",
   "metadata": {},
   "source": [
    "* drop list\n",
    "> 기자 & 이메일 주소만 있는 문장  \n",
    "> Neutral 제거"
   ]
  },
  {
   "cell_type": "markdown",
   "metadata": {},
   "source": [
    "## 긍정 문장 추출"
   ]
  },
  {
   "cell_type": "markdown",
   "metadata": {},
   "source": [
    "### NaN & ' '제거"
   ]
  },
  {
   "cell_type": "code",
   "execution_count": 352,
   "metadata": {
    "scrolled": false
   },
   "outputs": [
    {
     "name": "stdout",
     "output_type": "stream",
     "text": [
      "(156189,)\n"
     ]
    }
   ],
   "source": [
    "df_positive.dropna(inplace = True)\n",
    "df_positive.reset_index(drop=True, inplace = True)\n",
    "df_positive.drop(df_positive[df_positive.str.match('^ $')].index, inplace = True)\n",
    "df_positive.reset_index(drop=True, inplace = True)\n",
    "print (df_positive.shape)"
   ]
  },
  {
   "cell_type": "markdown",
   "metadata": {},
   "source": [
    "### #*****? 인 값 제거"
   ]
  },
  {
   "cell_type": "code",
   "execution_count": 353,
   "metadata": {},
   "outputs": [
    {
     "name": "stdout",
     "output_type": "stream",
     "text": [
      "(156116,)\n"
     ]
    }
   ],
   "source": [
    "df_positive.drop(df_positive[df_positive.str.match('^#[a-zA-Z0-9]+\\?$')].index, inplace = True)\n",
    "df_positive.reset_index(drop=True, inplace = True)\n",
    "print (df_positive.shape)"
   ]
  },
  {
   "cell_type": "markdown",
   "metadata": {},
   "source": [
    "### #*****! 인 값 제거"
   ]
  },
  {
   "cell_type": "code",
   "execution_count": 354,
   "metadata": {},
   "outputs": [
    {
     "name": "stdout",
     "output_type": "stream",
     "text": [
      "(156089,)\n"
     ]
    }
   ],
   "source": [
    "df_positive.drop(df_positive[df_positive.str.match('^#[a-zA-Z0-9]+\\!$')].index, inplace = True)\n",
    "df_positive.reset_index(drop=True, inplace = True)\n",
    "print (df_positive.shape)"
   ]
  },
  {
   "cell_type": "markdown",
   "metadata": {},
   "source": [
    "### 이메일만 있는 값 제거"
   ]
  },
  {
   "cell_type": "code",
   "execution_count": 355,
   "metadata": {},
   "outputs": [
    {
     "name": "stdout",
     "output_type": "stream",
     "text": [
      "(155267,)\n"
     ]
    }
   ],
   "source": [
    "df_positive.drop(df_positive[df_positive.str.match('^[a-zA-Z0-9+-_.]+@[a-zA-Z0-9-]+\\.[a-zA-Z0-9-.]+$')].index,inplace = True)\n",
    "df_positive.reset_index(drop=True, inplace = True)\n",
    "print (df_positive.shape)"
   ]
  },
  {
   "cell_type": "markdown",
   "metadata": {},
   "source": [
    "### 이메일과 기자명만 있는 값 제거"
   ]
  },
  {
   "cell_type": "code",
   "execution_count": 367,
   "metadata": {},
   "outputs": [
    {
     "name": "stdout",
     "output_type": "stream",
     "text": [
      "(144438,)\n"
     ]
    }
   ],
   "source": [
    "df_positive.drop(df_positive[df_positive.str.match('^[가-힣]{3,3}[. ]기자[. ][a-zA-Z0-9+-_.]+@[a-zA-Z0-9-.\\|]*$')].index, inplace = True)\n",
    "df_positive.reset_index(drop=True, inplace = True)\n",
    "print (df_positive.shape)\n",
    "\n",
    "df_positive.drop(df_positive[df_positive.str.match('^[가-힣]{3,3}기자[. ][a-zA-Z0-9+-_.]+@[a-zA-Z0-9-.\\|]*$')].index , inplace = True)\n",
    "df_positive.reset_index(drop=True, inplace = True)\n",
    "print (df_positive.shape)\n",
    "\n",
    "df_positive.drop(df_positive[df_positive.str.match('^[가-힣]{3,3}[. ]기자[. ][a-zA-Z0-9+-_.]+@[a-zA-Z0-9-. ]*$')].index, inplace = True)\n",
    "df_positive.reset_index(drop=True, inplace = True)\n",
    "print (df_positive.shape)\n",
    "\n",
    "df_positive.drop(df_positive[df_positive.str.match('^[a-zA-Z0-9+-_.]+@[a-zA-Z0-9-]+\\.[a-zA-Z0-9-.]+[가-힣]{3,3}기자')].index, inplace = True)\n",
    "df_positive.reset_index(drop=True, inplace = True)\n",
    "print (df_positive.shape)\n",
    "\n",
    "df_positive.drop(df_positive[df_positive.str.match('^[a-zA-Z0-9+-_.]+@[a-zA-Z0-9-]+\\.[a-zA-Z0-9-.]+[. ][가-힣]{3,3}기자')].index, inplace = True)\n",
    "df_positive.reset_index(drop=True, inplace = True)\n",
    "print (df_positive.shape)\n",
    "\n",
    "df_positive.drop(df_positive[df_positive.str.match('[가-힣 ]{3,4}기자$')].index, inplace = True)\n",
    "df_positive.reset_index(drop=True, inplace = True)\n",
    "print (df_positive.shape)\n",
    "\n",
    "df_positive.drop(df_positive[df_positive.str.match('[a-zA-Z0-9+-_. ]+[가-힣 ]{3,4}기자$')].index, inplace = True)\n",
    "df_positive.reset_index(drop=True, inplace = True)\n",
    "print (df_positive.shape)\n",
    "\n",
    "df_positive.drop(df_positive[df_positive.str.match('[a-zA-Z0-9+-_.]+@$')].index, inplace = True)\n",
    "df_positive.reset_index(drop=True, inplace = True)\n",
    "print (df_positive.shape)\n",
    "\n",
    "df_positive.drop(df_positive[df_positive.str.match('[a-zA-Z0-9+-_.]+$')].index, inplace = True)\n",
    "df_positive.reset_index(drop=True, inplace = True)\n",
    "print (df_positive.shape)\n",
    "\n",
    "df_positive.drop(df_positive[df_positive.str.match('[a-zA-Z0-9+-_.]+@([a-zA-Z0-9-]+\\.[a-zA-Z0-9-.])*')].index, inplace = True)\n",
    "df_positive.reset_index(drop=True, inplace = True)\n",
    "print (df_positive.shape)\n",
    "\n",
    "df_positive.drop(df_positive[df_positive.str.match('.[가-힣]{3,4}[//. ]?기자[//. ]?[a-zA-Z0-9+-_.]+@[a-zA-Z0-9-.\\|]*?')].index, inplace = True)\n",
    "df_positive.reset_index(drop=True, inplace = True)\n",
    "print (df_positive.shape)\n",
    "\n",
    "df_positive.drop(df_positive[df_positive.str.match('[가-힣+_.=]+?[//. ]?기자[//. ]?[a-zA-Z0-9+-_.]+@[a-zA-Z0-9-.\\|]*?$')].index, inplace = True)\n",
    "df_positive.reset_index(drop=True, inplace = True)\n",
    "print (df_positive.shape)\n",
    "\n",
    "df_positive.drop(df_positive[df_positive.str.len() < 11].index, inplace = True)\n",
    "df_positive.reset_index(drop=True, inplace = True)\n",
    "print (df_positive.shape)\n",
    "\n",
    "df_positive.drop(df_positive[(df_positive.str.match('^[가-힣]{3,5}[//. ]?기자[//. ]?[a-zA-Z0-9+-_.]+@[a-zA-Z0-9-.\\| @]*?')) & (df_positive.str.len() < 100)].index, inplace = True)\n",
    "df_positive.reset_index(drop=True, inplace = True)\n",
    "print (df_positive.shape)\n",
    "\n",
    "print (df_positive[df_positive==''])\n",
    "\n",
    "df_positive = df_positive.apply(html.unescape)\n",
    "\n",
    "df_positive.drop_duplicates(inplace = True)\n",
    "df_positive.reset_index(drop=True, inplace = True)\n",
    "print (df_positive.shape)\n",
    "df_positive = df_positive.apply(html.unescape)\n",
    "df_positive.drop_duplicates(inplace = True)\n",
    "df_positive.reset_index(drop=True, inplace = True)\n",
    "print (df_positive.shape)"
   ]
  },
  {
   "cell_type": "code",
   "execution_count": 350,
   "metadata": {},
   "outputs": [],
   "source": [
    "df_positive.to_csv('./data/sentiment_data/positive_sentiment_sentence_from_news.csv', index=False, header= False)"
   ]
  },
  {
   "cell_type": "markdown",
   "metadata": {},
   "source": [
    "## 부정 문장 추출"
   ]
  },
  {
   "cell_type": "markdown",
   "metadata": {},
   "source": [
    "### NaN & ' '제거"
   ]
  },
  {
   "cell_type": "code",
   "execution_count": 368,
   "metadata": {
    "scrolled": false
   },
   "outputs": [
    {
     "name": "stdout",
     "output_type": "stream",
     "text": [
      "(160872,)\n"
     ]
    }
   ],
   "source": [
    "df_negative.dropna(inplace = True)\n",
    "df_negative.reset_index(drop=True, inplace = True)\n",
    "df_negative.drop(df_negative[df_negative.str.match('^ $')].index, inplace = True)\n",
    "df_negative.reset_index(drop=True, inplace = True)\n",
    "print (df_negative.shape)"
   ]
  },
  {
   "cell_type": "markdown",
   "metadata": {},
   "source": [
    "### #*****? 인 값 제거"
   ]
  },
  {
   "cell_type": "code",
   "execution_count": 369,
   "metadata": {},
   "outputs": [
    {
     "name": "stdout",
     "output_type": "stream",
     "text": [
      "(160832,)\n"
     ]
    }
   ],
   "source": [
    "df_negative.drop(df_negative[df_negative.str.match('^#[a-zA-Z0-9]+\\?$')].index, inplace = True)\n",
    "df_negative.reset_index(drop=True, inplace = True)\n",
    "print (df_negative.shape)"
   ]
  },
  {
   "cell_type": "markdown",
   "metadata": {},
   "source": [
    "### #*****! 인 값 제거"
   ]
  },
  {
   "cell_type": "code",
   "execution_count": 370,
   "metadata": {},
   "outputs": [
    {
     "name": "stdout",
     "output_type": "stream",
     "text": [
      "(160832,)\n"
     ]
    }
   ],
   "source": [
    "df_negative.drop(df_negative[df_negative.str.match('^#[a-zA-Z0-9]+\\!$')].index, inplace = True)\n",
    "df_negative.reset_index(drop=True, inplace = True)\n",
    "print (df_negative.shape)"
   ]
  },
  {
   "cell_type": "markdown",
   "metadata": {},
   "source": [
    "### 이메일만 있는 값 제거"
   ]
  },
  {
   "cell_type": "code",
   "execution_count": 371,
   "metadata": {},
   "outputs": [
    {
     "name": "stdout",
     "output_type": "stream",
     "text": [
      "(160832,)\n"
     ]
    }
   ],
   "source": [
    "df_negative.drop(df_negative[df_negative.str.match('^[a-zA-Z0-9+-_.]+@[a-zA-Z0-9-]+\\.[a-zA-Z0-9-.]+$')].index,inplace = True)\n",
    "df_negative.reset_index(drop=True, inplace = True)\n",
    "print (df_negative.shape)"
   ]
  },
  {
   "cell_type": "markdown",
   "metadata": {},
   "source": [
    "### 이메일과 기자명만 있는 값 제거"
   ]
  },
  {
   "cell_type": "code",
   "execution_count": 372,
   "metadata": {},
   "outputs": [
    {
     "name": "stdout",
     "output_type": "stream",
     "text": [
      "(160612,)\n",
      "(160558,)\n",
      "(160543,)\n",
      "(160536,)\n",
      "(160510,)\n",
      "(160227,)\n",
      "(160140,)\n",
      "(160140,)\n",
      "(159943,)\n",
      "(159863,)\n",
      "(159699,)\n",
      "(159500,)\n",
      "(158503,)\n",
      "(158341,)\n",
      "Series([], Name: 부정 문장, dtype: object)\n",
      "(151974,)\n",
      "(151972,)\n"
     ]
    }
   ],
   "source": [
    "df_negative.drop(df_negative[df_negative.str.match('^[가-힣]{3,3}[. ]기자[. ][a-zA-Z0-9+-_.]+@[a-zA-Z0-9-.\\|]*$')].index, inplace = True)\n",
    "df_negative.reset_index(drop=True, inplace = True)\n",
    "print (df_negative.shape)\n",
    "\n",
    "df_negative.drop(df_negative[df_negative.str.match('^[가-힣]{3,3}기자[. ][a-zA-Z0-9+-_.]+@[a-zA-Z0-9-.\\|]*$')].index , inplace = True)\n",
    "df_negative.reset_index(drop=True, inplace = True)\n",
    "print (df_negative.shape)\n",
    "\n",
    "df_negative.drop(df_negative[df_negative.str.match('^[가-힣]{3,3}[. ]기자[. ][a-zA-Z0-9+-_.]+@[a-zA-Z0-9-. ]*$')].index, inplace = True)\n",
    "df_negative.reset_index(drop=True, inplace = True)\n",
    "print (df_negative.shape)\n",
    "\n",
    "df_negative.drop(df_negative[df_negative.str.match('^[a-zA-Z0-9+-_.]+@[a-zA-Z0-9-]+\\.[a-zA-Z0-9-.]+[가-힣]{3,3}기자')].index, inplace = True)\n",
    "df_negative.reset_index(drop=True, inplace = True)\n",
    "print (df_negative.shape)\n",
    "\n",
    "df_negative.drop(df_negative[df_negative.str.match('^[a-zA-Z0-9+-_.]+@[a-zA-Z0-9-]+\\.[a-zA-Z0-9-.]+[. ][가-힣]{3,3}기자')].index, inplace = True)\n",
    "df_negative.reset_index(drop=True, inplace = True)\n",
    "print (df_negative.shape)\n",
    "\n",
    "df_negative.drop(df_negative[df_negative.str.match('[가-힣 ]{3,4}기자$')].index, inplace = True)\n",
    "df_negative.reset_index(drop=True, inplace = True)\n",
    "print (df_negative.shape)\n",
    "\n",
    "df_negative.drop(df_negative[df_negative.str.match('[a-zA-Z0-9+-_. ]+[가-힣 ]{3,4}기자$')].index, inplace = True)\n",
    "df_negative.reset_index(drop=True, inplace = True)\n",
    "print (df_negative.shape)\n",
    "\n",
    "df_negative.drop(df_negative[df_negative.str.match('[a-zA-Z0-9+-_.]+@$')].index, inplace = True)\n",
    "df_negative.reset_index(drop=True, inplace = True)\n",
    "print (df_negative.shape)\n",
    "\n",
    "df_negative.drop(df_negative[df_negative.str.match('[a-zA-Z0-9+-_.]+$')].index, inplace = True)\n",
    "df_negative.reset_index(drop=True, inplace = True)\n",
    "print (df_negative.shape)\n",
    "\n",
    "df_negative.drop(df_negative[df_negative.str.match('[a-zA-Z0-9+-_.]+@([a-zA-Z0-9-]+\\.[a-zA-Z0-9-.])*')].index, inplace = True)\n",
    "df_negative.reset_index(drop=True, inplace = True)\n",
    "print (df_negative.shape)\n",
    "\n",
    "df_negative.drop(df_negative[df_negative.str.match('.[가-힣]{3,4}[//. ]?기자[//. ]?[a-zA-Z0-9+-_.]+@[a-zA-Z0-9-.\\|]*?')].index, inplace = True)\n",
    "df_negative.reset_index(drop=True, inplace = True)\n",
    "print (df_negative.shape)\n",
    "\n",
    "df_negative.drop(df_negative[df_negative.str.match('[가-힣+_.=]+?[//. ]?기자[//. ]?[a-zA-Z0-9+-_.]+@[a-zA-Z0-9-.\\|]*?$')].index, inplace = True)\n",
    "df_negative.reset_index(drop=True, inplace = True)\n",
    "print (df_negative.shape)\n",
    "\n",
    "df_negative.drop(df_negative[df_negative.str.len() < 11].index, inplace = True)\n",
    "df_negative.reset_index(drop=True, inplace = True)\n",
    "print (df_negative.shape)\n",
    "\n",
    "df_negative.drop(df_negative[(df_negative.str.match('^[가-힣]{3,5}[//. ]?기자[//. ]?[a-zA-Z0-9+-_.]+@[a-zA-Z0-9-.\\| @]*?')) & (df_negative.str.len() < 100)].index, inplace = True)\n",
    "df_negative.reset_index(drop=True, inplace = True)\n",
    "print (df_negative.shape)\n",
    "\n",
    "print (df_negative[df_negative==''])\n",
    "\n",
    "df_negative = df_negative.apply(html.unescape)\n",
    "\n",
    "df_negative.drop_duplicates(inplace = True)\n",
    "df_negative.reset_index(drop=True, inplace = True)\n",
    "print (df_negative.shape)\n",
    "df_negative = df_negative.apply(html.unescape)\n",
    "df_negative.drop_duplicates(inplace = True)\n",
    "df_negative.reset_index(drop=True, inplace = True)\n",
    "print (df_negative.shape)"
   ]
  },
  {
   "cell_type": "code",
   "execution_count": 373,
   "metadata": {},
   "outputs": [],
   "source": [
    "df_negative.to_csv('./data/sentiment_data/negative_sentiment_sentence_from_news.csv', index=False, header=False)"
   ]
  },
  {
   "cell_type": "markdown",
   "metadata": {},
   "source": [
    "## 긍정 / 부정 단어 추출"
   ]
  },
  {
   "cell_type": "code",
   "execution_count": 374,
   "metadata": {},
   "outputs": [
    {
     "name": "stdout",
     "output_type": "stream",
     "text": [
      "(167087,)\n"
     ]
    }
   ],
   "source": [
    "df_words.dropna(inplace = True)\n",
    "df_words.reset_index(drop = True, inplace = True)\n",
    "df_words.drop(df_words[df_words.str.match('^ $')].index, inplace = True)\n",
    "df_words.reset_index(drop = True, inplace = True)\n",
    "df_words = df_words.apply(html.unescape)\n",
    "print(df_words.shape)"
   ]
  },
  {
   "cell_type": "code",
   "execution_count": 375,
   "metadata": {},
   "outputs": [
    {
     "name": "stdout",
     "output_type": "stream",
     "text": [
      "(164046,)\n"
     ]
    }
   ],
   "source": [
    "df_words = df_words[df_words.str.match('NEGATIVE|POSITIVE')]\n",
    "df_words.reset_index(drop = True, inplace = True)\n",
    "print (df_words.shape)"
   ]
  },
  {
   "cell_type": "code",
   "execution_count": 376,
   "metadata": {
    "scrolled": false
   },
   "outputs": [
    {
     "name": "stdout",
     "output_type": "stream",
     "text": [
      "(164046,) (164046,)\n"
     ]
    }
   ],
   "source": [
    "negativeWords = df_words.str.findall('(NEGATIVE [가-힣]+)').str.join(' ')\n",
    "negativeWords.dropna(inplace = True)\n",
    "negativeWords.reset_index(drop=True, inplace = True)\n",
    "positiveWords = df_words.str.findall('(POSITIVE [가-힣]+)').str.join(' ')\n",
    "positiveWords.dropna(inplace = True)\n",
    "positiveWords.reset_index(drop=True, inplace = True)\n",
    "print (negativeWords.shape, positiveWords.shape)"
   ]
  },
  {
   "cell_type": "code",
   "execution_count": 377,
   "metadata": {
    "scrolled": false
   },
   "outputs": [
    {
     "name": "stdout",
     "output_type": "stream",
     "text": [
      "(144425,) (123623,)\n"
     ]
    }
   ],
   "source": [
    "positiveWords.drop(positiveWords[positiveWords==''].index, inplace = True)\n",
    "positiveWords.reset_index(drop=True, inplace = True)\n",
    "negativeWords.drop(negativeWords[negativeWords==''].index, inplace = True)\n",
    "negativeWords.reset_index(drop=True, inplace = True)\n",
    "print (negativeWords.shape, positiveWords.shape)\n",
    "positiveWords = positiveWords.str.findall('([가-힣]+)')\n",
    "negativeWords = negativeWords.str.findall('([가-힣]+)')"
   ]
  },
  {
   "cell_type": "code",
   "execution_count": 378,
   "metadata": {
    "scrolled": true
   },
   "outputs": [
    {
     "name": "stdout",
     "output_type": "stream",
     "text": [
      "5010 7608\n"
     ]
    }
   ],
   "source": [
    "positiveWords = list(set(itertools.chain.from_iterable(positiveWords)))\n",
    "negativeWords = list(set(itertools.chain.from_iterable(negativeWords)))\n",
    "print (len(positiveWords), len(negativeWords))"
   ]
  },
  {
   "cell_type": "code",
   "execution_count": 379,
   "metadata": {},
   "outputs": [],
   "source": [
    "positiveWords = pd.Series(positiveWords)\n",
    "negativeWords = pd.Series(negativeWords)"
   ]
  },
  {
   "cell_type": "code",
   "execution_count": 381,
   "metadata": {},
   "outputs": [],
   "source": [
    "positiveWords.to_csv('./data/sentiment_data/positive_sentiment_word_from_news.csv', index=False, header=False)\n",
    "negativeWords.to_csv('./data/sentiment_data/negative_sentiment_word_from_news.csv', index=False, header=False)"
   ]
  },
  {
   "cell_type": "code",
   "execution_count": null,
   "metadata": {},
   "outputs": [],
   "source": []
  },
  {
   "cell_type": "code",
   "execution_count": null,
   "metadata": {},
   "outputs": [],
   "source": []
  }
 ],
 "metadata": {
  "kernelspec": {
   "display_name": "Python 3",
   "language": "python",
   "name": "python3"
  },
  "language_info": {
   "codemirror_mode": {
    "name": "ipython",
    "version": 3
   },
   "file_extension": ".py",
   "mimetype": "text/x-python",
   "name": "python",
   "nbconvert_exporter": "python",
   "pygments_lexer": "ipython3",
   "version": "3.6.4"
  }
 },
 "nbformat": 4,
 "nbformat_minor": 2
}
