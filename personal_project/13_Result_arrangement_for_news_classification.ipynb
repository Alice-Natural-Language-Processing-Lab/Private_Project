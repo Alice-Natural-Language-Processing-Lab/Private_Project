{
 "cells": [
  {
   "cell_type": "markdown",
   "metadata": {},
   "source": [
    "# Result Arrangement"
   ]
  },
  {
   "cell_type": "code",
   "execution_count": 25,
   "metadata": {},
   "outputs": [],
   "source": [
    "import pandas as pd\n",
    "from glob import glob\n",
    "import os\n",
    "import pickle\n",
    "import sys\n",
    "import re\n",
    "\n",
    "import numpy as np\n",
    "import matplotlib.pyplot as plt"
   ]
  },
  {
   "cell_type": "markdown",
   "metadata": {},
   "source": [
    "## Category "
   ]
  },
  {
   "cell_type": "code",
   "execution_count": 10,
   "metadata": {},
   "outputs": [
    {
     "name": "stdout",
     "output_type": "stream",
     "text": [
      "['IT/과학' '경제' '사회' '생활/문화' '세계' '스포츠' '연예' '정치']\n"
     ]
    }
   ],
   "source": [
    "if os.path.isfile('./data/pre_data/news_tagged_data/pre_data_category_label_encoder_by_ct_for_doc2vec_news_classification.pickled'):\n",
    "    le = pickle.load(open('./data/pre_data/news_tagged_data/pre_data_category_label_encoder_by_ct_for_doc2vec_news_classification.pickled','rb'))\n",
    "else:\n",
    "    le = LabelEncoder()\n",
    "    le.fit(naverData['category'])\n",
    "    pickle.dump(le, open('./data/pre_data/news_tagged_data/pre_data_category_label_encoder_by_ct_for_doc2vec_news_classification.pickled','wb'))\n",
    "print (le.classes_)"
   ]
  },
  {
   "cell_type": "markdown",
   "metadata": {},
   "source": [
    "## Path"
   ]
  },
  {
   "cell_type": "code",
   "execution_count": 12,
   "metadata": {},
   "outputs": [],
   "source": [
    "if sys.platform =='darwin':\n",
    "    loadModelPath = '/Volumes/disk1/news_model/'\n",
    "elif sys.platform =='win32':\n",
    "    loadModelPath = 'd:/news_model/'\n",
    "daumNewsPath = './data/pre_data/news_daum_news/'\n",
    "classifierPath = './data/pre_data/news_classifier/'\n",
    "outpath = './outcome/'"
   ]
  },
  {
   "cell_type": "code",
   "execution_count": 15,
   "metadata": {},
   "outputs": [],
   "source": [
    "outcomeFileList = glob(outpath+'outcome_news_classification'+'*')"
   ]
  },
  {
   "cell_type": "code",
   "execution_count": 66,
   "metadata": {},
   "outputs": [
    {
     "name": "stdout",
     "output_type": "stream",
     "text": [
      "Doc2Vec dbow\n",
      "fastText dbow\n",
      "Doc2Vec dm-c\n",
      "Doc2Vec dm-c\n",
      "Doc2Vec dbow\n",
      "Doc2Vec dm-m\n",
      "word2vec CBOW\n",
      "fastText CBOW\n",
      "word2vec CBOW\n",
      "fastText CBOW\n",
      "word2vec CBOW\n",
      "word2vec CBOW\n",
      "fastText CBOW\n",
      "Doc2Vec dm-m\n",
      "word2vec skip-gram\n",
      "fastText skip-gram\n",
      "fastText skip-gram\n",
      "word2vec skip-gram\n"
     ]
    }
   ],
   "source": [
    "for outcomeFile in outcomeFileList:\n",
    "    fileName = os.path.split(outcomeFile)[1]\n",
    "    df = pd.read_csv(outcomeFile, index_col = None, encoding='utf-8')\n",
    "    modelIs = re.search('(Doc2Vec)|(word2vec)|(fastText)', fileName)\n",
    "    modelIs = modelIs.group()\n",
    "    if modelIs == 'Doc2Vec':\n",
    "        modelType = re.search('(dbow)|(dm-c)|(dm-m)', fileName)\n",
    "        modelType = modelType.group()\n",
    "        \n",
    "    elif modelIs == 'word2vec':\n",
    "        modelType1 = re.search('(sg-[0-1])',fileName)\n",
    "        modelType1 = modelType1.group()\n",
    "        if re.search('[0-1]', modelType1).group() =='1':\n",
    "            modelType1 = 'skip-gram'\n",
    "        else:\n",
    "            modelType1 = 'CBOW'\n",
    "        modelType2 = re.search('cbow_mean-[0-1]', fileName)\n",
    "        modelType2 = modelType2.group()\n",
    "        modelType = modelType1 + '_'+modelType2\n",
    "        del modelType1,modelType2\n",
    "    elif modelIs == 'fastText':\n",
    "        modelType1 = re.search('(sg-[0-1])', fileName)\n",
    "        modelType1 = modelType1.group()\n",
    "        if re.search('[0-1]', modelType1).group() =='1':\n",
    "            modelType1 = 'skip-gram'\n",
    "        else:\n",
    "            modelType1 = 'CBOW'\n",
    "        modelType2 = re.search('cbow_mean-[0-1]', fileName)\n",
    "        modelType2 = modelType2.group()\n",
    "        modelType = modelType1 + '_'+modelType2\n",
    "        del modelType1,modelType2\n",
    "    print (modelIs, modelType)"
   ]
  },
  {
   "cell_type": "code",
   "execution_count": 65,
   "metadata": {},
   "outputs": [
    {
     "data": {
      "text/plain": [
       "<_sre.SRE_Match object; span=(3, 4), match='1'>"
      ]
     },
     "execution_count": 65,
     "metadata": {},
     "output_type": "execute_result"
    }
   ],
   "source": []
  },
  {
   "cell_type": "code",
   "execution_count": 60,
   "metadata": {},
   "outputs": [
    {
     "data": {
      "text/plain": [
       "<_sre.SRE_Match object; span=(82, 86), match='sg-1'>"
      ]
     },
     "execution_count": 60,
     "metadata": {},
     "output_type": "execute_result"
    }
   ],
   "source": []
  },
  {
   "cell_type": "code",
   "execution_count": 55,
   "metadata": {},
   "outputs": [
    {
     "data": {
      "text/plain": [
       "'word2vec'"
      ]
     },
     "execution_count": 55,
     "metadata": {},
     "output_type": "execute_result"
    }
   ],
   "source": [
    "x.group()"
   ]
  }
 ],
 "metadata": {
  "kernelspec": {
   "display_name": "Python 3",
   "language": "python",
   "name": "python3"
  },
  "language_info": {
   "codemirror_mode": {
    "name": "ipython",
    "version": 3
   },
   "file_extension": ".py",
   "mimetype": "text/x-python",
   "name": "python",
   "nbconvert_exporter": "python",
   "pygments_lexer": "ipython3",
   "version": "3.6.4"
  }
 },
 "nbformat": 4,
 "nbformat_minor": 2
}
