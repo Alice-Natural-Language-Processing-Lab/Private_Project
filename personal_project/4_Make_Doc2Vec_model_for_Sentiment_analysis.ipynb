{
 "cells": [
  {
   "cell_type": "markdown",
   "metadata": {},
   "source": [
    "# Doc2Vec model\n",
    "> * Positive or Negative"
   ]
  },
  {
   "cell_type": "code",
   "execution_count": 1,
   "metadata": {},
   "outputs": [],
   "source": [
    "import pickle\n",
    "\n",
    "from tqdm import tqdm\n",
    "tqdm.pandas(desc=\"progress-bar\")"
   ]
  },
  {
   "cell_type": "markdown",
   "metadata": {},
   "source": [
    "## 모델 생성을 위한 함수정의"
   ]
  },
  {
   "cell_type": "code",
   "execution_count": 2,
   "metadata": {},
   "outputs": [],
   "source": [
    "import multiprocessing\n",
    "cores = multiprocessing.cpu_count()\n",
    "def Make_Doc2Vec_Model(data, size, dm, dm_concat, dm_mean, hs, negative, epoch, window, alpha, min_alpha, workers, tagger):\n",
    "    from tqdm import tqdm\n",
    "    tqdm.pandas(desc=\"progress-bar\")\n",
    "    from datetime import datetime\n",
    "    from gensim.models import doc2vec\n",
    "    start = datetime.now()\n",
    "    modelPath = './model/'\n",
    "    modelName = 'doc2vec_size-{}_epoch-{}_window-{}_negative-{}_hs-{}_dm-{}_dm_concat-{}_dm_mean-{}_by-{}.model'.format(\n",
    "        size, epoch, window, negative, hs, dm, dm_concat, dm_mean, tagger)\n",
    "    modelName = modelPath+modelName\n",
    "    print (modelName)\n",
    "    if window!=None:\n",
    "        d2v_model = doc2vec.Doc2Vec(vector_size = size, dm = dm, dm_concat = dm_concat,\n",
    "                   dm_mean = dm_mean, negative = negative, hs = hs, window = window,\n",
    "                   alpha = alpha, min_alpha = min_alpha, workers = workers, epochs= epoch)\n",
    "    else:\n",
    "        d2v_model = doc2vec.Doc2Vec(vector_size = size, dm = dm, dm_concat = dm_concat,\n",
    "                   dm_mean = dm_mean, negative = negative, hs = hs,\n",
    "                   alpha = alpha, min_alpha = min_alpha, workers = workers, epochs= epoch)\n",
    "    d2v_model.build_vocab(tqdm(data))\n",
    "    d2v_model.train(tqdm(data), total_examples=d2v_model.corpus_count, epochs=d2v_model.iter)\n",
    "    \n",
    "    end = datetime.now()\n",
    "    d2v_model.save(modelName)\n",
    "    print (\"Total running time: \", end-start)\n",
    "    return d2v_model"
   ]
  },
  {
   "cell_type": "markdown",
   "metadata": {},
   "source": [
    "# Doc2Vec 생성"
   ]
  },
  {
   "cell_type": "markdown",
   "metadata": {},
   "source": [
    "* vector size\n",
    " [ 1000, 2000 ]"
   ]
  },
  {
   "cell_type": "code",
   "execution_count": 3,
   "metadata": {},
   "outputs": [],
   "source": [
    "import numpy as np\n",
    "import pandas as pd"
   ]
  },
  {
   "cell_type": "markdown",
   "metadata": {},
   "source": [
    "## 감정 분석을 위한 rawdata"
   ]
  },
  {
   "cell_type": "code",
   "execution_count": null,
   "metadata": {},
   "outputs": [],
   "source": [
    "rawdata = pd.read_csv('./data/sentiment_data/raw_data_for_sentiment.txt',header=None,encoding='utf-8')\n",
    "print (rawdata.shape)"
   ]
  },
  {
   "cell_type": "markdown",
   "metadata": {},
   "source": [
    "## Making Doc2Vec Using tagger Twitter"
   ]
  },
  {
   "cell_type": "code",
   "execution_count": 4,
   "metadata": {},
   "outputs": [
    {
     "name": "stderr",
     "output_type": "stream",
     "text": [
      "C:\\Users\\pc\\Anaconda3\\lib\\site-packages\\gensim\\utils.py:1167: UserWarning: detected Windows; aliasing chunkize to chunkize_serial\n",
      "  warnings.warn(\"detected Windows; aliasing chunkize to chunkize_serial\")\n"
     ]
    }
   ],
   "source": [
    "from collections import namedtuple\n",
    "from gensim.models.doc2vec import TaggedDocument\n",
    "TaggedDocument = namedtuple('TaggedDocument', 'words tags')"
   ]
  },
  {
   "cell_type": "markdown",
   "metadata": {},
   "source": [
    "### Tagging"
   ]
  },
  {
   "cell_type": "code",
   "execution_count": null,
   "metadata": {},
   "outputs": [],
   "source": [
    "from ckonlpy.tag import Twitter as ctwitter\n",
    "ct = ctwitter()"
   ]
  },
  {
   "cell_type": "code",
   "execution_count": null,
   "metadata": {},
   "outputs": [],
   "source": [
    "# twitter\n",
    "def tokenize1(doc):\n",
    "    return ['/'.join(t) for t in ct.pos(doc)]"
   ]
  },
  {
   "cell_type": "code",
   "execution_count": null,
   "metadata": {
    "scrolled": true
   },
   "outputs": [],
   "source": [
    "# pickle로 저장된 파일이 없을 때\n",
    "raw_doc_ct = [(tokenize1(rawdata.loc[idx][0]), rawdata.loc[idx][1]) for idx in tqdm(rawdata.index)]\n",
    "pickle.dump(raw_doc_ct, open('./data/pre_data/tagged_data/pre_data_by_ct_for_sentiment_analysis.pickled','wb'))"
   ]
  },
  {
   "cell_type": "markdown",
   "metadata": {},
   "source": [
    "### Doc2Vec 기본 포맷으로 변경"
   ]
  },
  {
   "cell_type": "code",
   "execution_count": null,
   "metadata": {},
   "outputs": [],
   "source": [
    "# pickle로 저장된 파일이 없을 때\n",
    "\n",
    "tagged_ct = [TaggedDocument(d, [c]) for d, c in tqdm(raw_doc_ct)]\n",
    "pickle.dump(tagged_ct, open('./data/pre_data/tagged_data/pre_by_ct_data_tagged_run_docs.pickled','wb'))"
   ]
  },
  {
   "cell_type": "code",
   "execution_count": null,
   "metadata": {},
   "outputs": [],
   "source": [
    "del raw_doc_ct"
   ]
  },
  {
   "cell_type": "markdown",
   "metadata": {},
   "source": [
    "## model 만들기"
   ]
  },
  {
   "cell_type": "code",
   "execution_count": null,
   "metadata": {},
   "outputs": [],
   "source": [
    "# pickle로 저장된 파일이 있을 때\n",
    "tagged_ct = pickle.load(open('./data/pre_data/tagged_data/pre_by_ct_data_tagged_run_docs.pickled','rb'))"
   ]
  },
  {
   "cell_type": "markdown",
   "metadata": {},
   "source": [
    "### train dataset & test dataset"
   ]
  },
  {
   "cell_type": "code",
   "execution_count": null,
   "metadata": {},
   "outputs": [],
   "source": [
    "from sklearn.model_selection import train_test_split"
   ]
  },
  {
   "cell_type": "code",
   "execution_count": null,
   "metadata": {},
   "outputs": [],
   "source": [
    "# pickle로 저장된 파일이 없을 때\n",
    "train, test = train_test_split(tagged_ct, test_size=0.1, random_state=42)\n",
    "del tagged_ct\n",
    "pickle.dump(train, open('./data/pre_data/train_test_Data/pre_by_ct_train.pickled','wb'))\n",
    "pickle.dump(test, open('./data/pre_data/train_test_Data/pre_by_ct_test.pickled','wb'))"
   ]
  },
  {
   "cell_type": "code",
   "execution_count": 5,
   "metadata": {},
   "outputs": [],
   "source": [
    "# pickle로 저장된 파일이 있을 때\n",
    "train = pickle.load(open('./data/pre_data/train_test_Data/pre_by_ct_train.pickled','rb'))\n",
    "test = pickle.load(open('./data/pre_data/train_test_Data/pre_by_ct_test.pickled','rb'))"
   ]
  },
  {
   "cell_type": "markdown",
   "metadata": {},
   "source": [
    "### model 1"
   ]
  },
  {
   "cell_type": "code",
   "execution_count": 6,
   "metadata": {},
   "outputs": [],
   "source": [
    "from konlpy.utils import pprint"
   ]
  },
  {
   "cell_type": "markdown",
   "metadata": {},
   "source": [
    "* size : Dimensionality of the feature vectors \n",
    "* dm : 1 - distibuted memory (PV-DM)  \n",
    "* dm_concat : 1 - use concatenation of context vectors rather than sum/average  \n",
    "* dm_mean : 0 - don't use the sum of the context word vectors  \n",
    "> dm is used in non-concatenative mode.\n",
    "* negative : 7 - neative specifies how many 'noise words' should be drawn.\n",
    "* hs : 0 - hierarchical softmax 사용여부\n",
    "* window : 5 - The maximum distance between the current and predicted word within a sentence.  \n",
    "* alpha : the initial learning rate  \n",
    "* min_alpha : learning rate will linearly drop to min_alpha as training progresses"
   ]
  },
  {
   "cell_type": "code",
   "execution_count": 7,
   "metadata": {},
   "outputs": [
    {
     "name": "stdout",
     "output_type": "stream",
     "text": [
      "./model/doc2vec_size-2000_epoch-20_window-5_negative-7_hs-0_dm-1_dm_concat-1_dm_mean-0_by-ct.model\n"
     ]
    },
    {
     "name": "stderr",
     "output_type": "stream",
     "text": [
      "100%|██████████| 442359/442359 [00:17<00:00, 24601.61it/s]\n",
      "  0%|          | 0/442359 [00:00<?, ?it/s]C:\\Users\\pc\\Anaconda3\\lib\\site-packages\\ipykernel_launcher.py:23: DeprecationWarning: Call to deprecated `iter` (Attribute will be removed in 4.0.0, use self.epochs instead).\n",
      "100%|██████████| 442359/442359 [2:04:35<00:00, 59.17it/s]  \n"
     ]
    },
    {
     "name": "stdout",
     "output_type": "stream",
     "text": [
      "Total running time:  9:02:40.866757\n"
     ]
    },
    {
     "name": "stderr",
     "output_type": "stream",
     "text": [
      "C:\\Users\\pc\\Anaconda3\\lib\\site-packages\\ipykernel_launcher.py:5: DeprecationWarning: Call to deprecated `most_similar` (Method will be removed in 4.0.0, use self.wv.most_similar() instead).\n",
      "  \"\"\"\n"
     ]
    },
    {
     "name": "stdout",
     "output_type": "stream",
     "text": [
      "[('김종인/Noun', 0.5183357000350952),\n",
      " ('안상수/Noun', 0.5107406377792358),\n",
      " ('박지원/Noun', 0.4917794466018677),\n",
      " ('추미애/Noun', 0.4915170669555664),\n",
      " ('손학규/Noun', 0.48670122027397156),\n",
      " ('김한길/Noun', 0.4859696328639984),\n",
      " ('이종걸/Noun', 0.48380544781684875),\n",
      " ('최병렬/Noun', 0.48350751399993896),\n",
      " ('강재섭/Noun', 0.46817871928215027),\n",
      " ('정몽준/Noun', 0.46718764305114746)]\n"
     ]
    },
    {
     "name": "stderr",
     "output_type": "stream",
     "text": [
      "C:\\Users\\pc\\Anaconda3\\lib\\site-packages\\ipykernel_launcher.py:6: DeprecationWarning: Call to deprecated `most_similar` (Method will be removed in 4.0.0, use self.wv.most_similar() instead).\n",
      "  \n"
     ]
    },
    {
     "name": "stdout",
     "output_type": "stream",
     "text": [
      "[('이명박/Noun', 0.5241331458091736),\n",
      " ('金泳三/Foreign', 0.5214452743530273),\n",
      " ('노태우/Noun', 0.4929990768432617),\n",
      " ('盧泰愚/Foreign', 0.47707486152648926),\n",
      " ('김영삼/Noun', 0.4678577184677124),\n",
      " ('루카셴코/Noun', 0.4637618660926819),\n",
      " ('마두로/Noun', 0.4572169780731201),\n",
      " ('박정희/Noun', 0.45470479130744934),\n",
      " ('金大中/Foreign', 0.4526221752166748),\n",
      " ('김대중/Noun', 0.45118850469589233)]\n"
     ]
    },
    {
     "name": "stderr",
     "output_type": "stream",
     "text": [
      "C:\\Users\\pc\\Anaconda3\\lib\\site-packages\\ipykernel_launcher.py:7: DeprecationWarning: Call to deprecated `most_similar` (Method will be removed in 4.0.0, use self.wv.most_similar() instead).\n",
      "  import sys\n"
     ]
    },
    {
     "name": "stdout",
     "output_type": "stream",
     "text": [
      "[('이명박/Noun', 0.45259445905685425),\n",
      " ('朴/Foreign', 0.41956573724746704),\n",
      " ('노무현/Noun', 0.38582926988601685),\n",
      " ('문재인/Noun', 0.38446545600891113),\n",
      " ('盧泰愚/Foreign', 0.37503623962402344),\n",
      " ('이회창/Noun', 0.37414059042930603),\n",
      " ('盧/Foreign', 0.3680959939956665),\n",
      " ('마두로/Noun', 0.36593005061149597),\n",
      " ('아로요/Noun', 0.36101600527763367),\n",
      " ('안상수/Noun', 0.3571595549583435)]\n",
      "Wall time: 9h 3min 23s\n"
     ]
    }
   ],
   "source": [
    "%%time\n",
    "#PV-DM W/\n",
    "d2v_model = Make_Doc2Vec_Model(data=train, size = 2000, dm = 1, dm_concat = 1,\n",
    "                   dm_mean = 0, negative = 7, hs = 0, epoch = 20, window = 5,\n",
    "                   alpha = 0.025, min_alpha = 0.025, workers = cores, tagger = 'ct')\n",
    "pprint(d2v_model.most_similar('문재인/Noun'))\n",
    "pprint(d2v_model.most_similar('노무현/Noun'))\n",
    "pprint(d2v_model.most_similar('박근혜/Noun'))"
   ]
  },
  {
   "cell_type": "code",
   "execution_count": 8,
   "metadata": {},
   "outputs": [],
   "source": [
    "del d2v_model"
   ]
  },
  {
   "cell_type": "markdown",
   "metadata": {},
   "source": [
    "### model 2"
   ]
  },
  {
   "cell_type": "markdown",
   "metadata": {},
   "source": [
    "* size : Dimensionality of the feature vectors \n",
    "* dm : 1 - distibuted memory (PV-DM)  \n",
    "* dm_concat : 0 - don't use concatenation of context vectors rather than sum/average  \n",
    "* dm_mean : 1 - don't use the sum of the context word vectors  \n",
    "> dm is used in non-concatenative mode.\n",
    "* negative : 7 - neative specifies how many 'noise words' should be drawn.\n",
    "* hs : 0 - hierarchical softmax 사용여부\n",
    "* window : 10 - The maximum distance between the current and predicted word within a sentence.  \n",
    "* alpha : the initial learning rate  \n",
    "* min_alpha : learning rate will linearly drop to min_alpha as training progresses"
   ]
  },
  {
   "cell_type": "code",
   "execution_count": 9,
   "metadata": {
    "scrolled": false
   },
   "outputs": [
    {
     "name": "stdout",
     "output_type": "stream",
     "text": [
      "./model/doc2vec_size-2000_epoch-20_window-10_negative-7_hs-0_dm-1_dm_concat-0_dm_mean-1_by-ct.model\n"
     ]
    },
    {
     "name": "stderr",
     "output_type": "stream",
     "text": [
      "100%|██████████| 442359/442359 [00:35<00:00, 12308.80it/s]\n",
      "  0%|          | 0/442359 [00:00<?, ?it/s]C:\\Users\\pc\\Anaconda3\\lib\\site-packages\\ipykernel_launcher.py:23: DeprecationWarning: Call to deprecated `iter` (Attribute will be removed in 4.0.0, use self.epochs instead).\n",
      "100%|██████████| 442359/442359 [04:41<00:00, 1571.53it/s]\n"
     ]
    },
    {
     "name": "stdout",
     "output_type": "stream",
     "text": [
      "Total running time:  1:27:47.740909\n"
     ]
    },
    {
     "name": "stderr",
     "output_type": "stream",
     "text": [
      "C:\\Users\\pc\\Anaconda3\\lib\\site-packages\\ipykernel_launcher.py:5: DeprecationWarning: Call to deprecated `most_similar` (Method will be removed in 4.0.0, use self.wv.most_similar() instead).\n",
      "  \"\"\"\n"
     ]
    },
    {
     "name": "stdout",
     "output_type": "stream",
     "text": [
      "[('문/Noun', 0.24678705632686615),\n",
      " ('이태근/Noun', 0.2418072372674942),\n",
      " ('조수용/Noun', 0.21648380160331726),\n",
      " ('이인찬/Noun', 0.2156585156917572),\n",
      " ('손학규/Noun', 0.20564328134059906),\n",
      " ('원희목/Noun', 0.19503045082092285),\n",
      " ('정세균/Noun', 0.19401618838310242),\n",
      " ('김상백/Noun', 0.19292360544204712),\n",
      " ('드림위즈/Noun', 0.19290193915367126),\n",
      " ('마에하라/Noun', 0.19176803529262543)]\n"
     ]
    },
    {
     "name": "stderr",
     "output_type": "stream",
     "text": [
      "C:\\Users\\pc\\Anaconda3\\lib\\site-packages\\ipykernel_launcher.py:6: DeprecationWarning: Call to deprecated `most_similar` (Method will be removed in 4.0.0, use self.wv.most_similar() instead).\n",
      "  \n"
     ]
    },
    {
     "name": "stdout",
     "output_type": "stream",
     "text": [
      "[('노/Noun', 0.3435490131378174),\n",
      " ('이명박/Noun', 0.3290066123008728),\n",
      " ('박근혜/Noun', 0.27620890736579895),\n",
      " ('김영삼/Noun', 0.2651824355125427),\n",
      " ('▒金/Foreign', 0.2198270857334137),\n",
      " ('셀라야/Noun', 0.21787340939044952),\n",
      " ('면노/Noun', 0.21710556745529175),\n",
      " ('탄자/Noun', 0.2153436541557312),\n",
      " ('기록관/Noun', 0.21247893571853638),\n",
      " ('취임일/Noun', 0.21080957353115082)]\n"
     ]
    },
    {
     "name": "stderr",
     "output_type": "stream",
     "text": [
      "C:\\Users\\pc\\Anaconda3\\lib\\site-packages\\ipykernel_launcher.py:7: DeprecationWarning: Call to deprecated `most_similar` (Method will be removed in 4.0.0, use self.wv.most_similar() instead).\n",
      "  import sys\n"
     ]
    },
    {
     "name": "stdout",
     "output_type": "stream",
     "text": [
      "[('박/Noun', 0.37544625997543335),\n",
      " ('이명박/Noun', 0.3380833864212036),\n",
      " ('노무현/Noun', 0.27620890736579895),\n",
      " ('면노/Noun', 0.2632753849029541),\n",
      " ('김영삼/Noun', 0.2564114034175873),\n",
      " ('■朴/Foreign', 0.2518764138221741),\n",
      " ('“朴/Foreign', 0.2517133951187134),\n",
      " ('아사드/Noun', 0.24524010717868805),\n",
      " ('지명전/Noun', 0.24189071357250214),\n",
      " ('바첼레트/Noun', 0.24139946699142456)]\n",
      "Wall time: 1h 27min 54s\n"
     ]
    }
   ],
   "source": [
    "%%time\n",
    "#PV-DM w/\n",
    "d2v_model = Make_Doc2Vec_Model(data=train, size = 2000, dm = 1, dm_concat = 0,\n",
    "                   dm_mean = 1, negative = 7, hs = 0, epoch = 20, window = 10,\n",
    "                   alpha = 0.025, min_alpha = 0.025, workers = cores, tagger = 'ct')\n",
    "pprint(d2v_model.most_similar('문재인/Noun'))\n",
    "pprint(d2v_model.most_similar('노무현/Noun'))\n",
    "pprint(d2v_model.most_similar('박근혜/Noun'))"
   ]
  },
  {
   "cell_type": "code",
   "execution_count": 10,
   "metadata": {},
   "outputs": [],
   "source": [
    "del d2v_model"
   ]
  },
  {
   "cell_type": "markdown",
   "metadata": {},
   "source": [
    "### model 3"
   ]
  },
  {
   "cell_type": "markdown",
   "metadata": {},
   "source": [
    "* size : Dimensionality of the feature vectors \n",
    "* dm : 0 - distributed bag of words (PV-DBOW)\n",
    "* dm_concat : 0 - don't use concatenation of context vectors rather than sum/average  \n",
    "* dm_mean : 0 - don't use the sum of the context word vectors  \n",
    "> dm is used in non-concatenative mode.\n",
    "* negative : 7 - neative specifies how many 'noise words' should be drawn.\n",
    "* hs : 0 - hierarchical softmax 사용여부\n",
    "* window : 5 - The maximum distance between the current and predicted word within a sentence.  \n",
    "* alpha : the initial learning rate  \n",
    "* min_alpha : learning rate will linearly drop to min_alpha as training progresses"
   ]
  },
  {
   "cell_type": "code",
   "execution_count": 11,
   "metadata": {},
   "outputs": [
    {
     "name": "stdout",
     "output_type": "stream",
     "text": [
      "./model/doc2vec_size-2000_epoch-20_window-None_negative-7_hs-0_dm-0_dm_concat-0_dm_mean-0_by-ct.model\n"
     ]
    },
    {
     "name": "stderr",
     "output_type": "stream",
     "text": [
      "100%|██████████| 442359/442359 [00:17<00:00, 24951.43it/s]\n",
      "  0%|          | 0/442359 [00:00<?, ?it/s]C:\\Users\\pc\\Anaconda3\\lib\\site-packages\\ipykernel_launcher.py:23: DeprecationWarning: Call to deprecated `iter` (Attribute will be removed in 4.0.0, use self.epochs instead).\n",
      "100%|██████████| 442359/442359 [05:08<00:00, 1433.95it/s]\n"
     ]
    },
    {
     "name": "stdout",
     "output_type": "stream",
     "text": [
      "Total running time:  1:24:22.376557\n"
     ]
    },
    {
     "name": "stderr",
     "output_type": "stream",
     "text": [
      "C:\\Users\\pc\\Anaconda3\\lib\\site-packages\\ipykernel_launcher.py:5: DeprecationWarning: Call to deprecated `most_similar` (Method will be removed in 4.0.0, use self.wv.most_similar() instead).\n",
      "  \"\"\"\n"
     ]
    },
    {
     "name": "stdout",
     "output_type": "stream",
     "text": [
      "[('카오스/Noun', 0.10608500987291336),\n",
      " ('통과하던/Verb', 0.10094453394412994),\n",
      " ('매복/Noun', 0.08865201473236084),\n",
      " ('티롤/Noun', 0.08777494728565216),\n",
      " ('서민수/Noun', 0.08608179539442062),\n",
      " ('인디안/Noun', 0.08595235645771027),\n",
      " ('라이트헤비급/Noun', 0.08498610556125641),\n",
      " ('통용/Noun', 0.0843491330742836),\n",
      " ('외부/Noun', 0.08415405452251434),\n",
      " ('입단속/Noun', 0.08380858600139618)]\n"
     ]
    },
    {
     "name": "stderr",
     "output_type": "stream",
     "text": [
      "C:\\Users\\pc\\Anaconda3\\lib\\site-packages\\ipykernel_launcher.py:6: DeprecationWarning: Call to deprecated `most_similar` (Method will be removed in 4.0.0, use self.wv.most_similar() instead).\n",
      "  \n"
     ]
    },
    {
     "name": "stdout",
     "output_type": "stream",
     "text": [
      "[('방배동/Noun', 0.09651711583137512),\n",
      " ('makim/Alpha', 0.09540006518363953),\n",
      " ('빈칸/Noun', 0.09387905150651932),\n",
      " ('최윤정/Noun', 0.08827579021453857),\n",
      " ('로동당/Noun', 0.08640139549970627),\n",
      " ('탈옥/Noun', 0.08564408868551254),\n",
      " ('수출상품/Noun', 0.08333203196525574),\n",
      " ('단언적/Noun', 0.0822734534740448),\n",
      " ('저커버그/Noun', 0.0815555602312088),\n",
      " ('통금/Noun', 0.08134506642818451)]\n"
     ]
    },
    {
     "name": "stderr",
     "output_type": "stream",
     "text": [
      "C:\\Users\\pc\\Anaconda3\\lib\\site-packages\\ipykernel_launcher.py:7: DeprecationWarning: Call to deprecated `most_similar` (Method will be removed in 4.0.0, use self.wv.most_similar() instead).\n",
      "  import sys\n"
     ]
    },
    {
     "name": "stdout",
     "output_type": "stream",
     "text": [
      "[('장보/Noun', 0.10854393988847733),\n",
      " ('사망하는/Verb', 0.097142793238163),\n",
      " ('읍성/Noun', 0.09556154906749725),\n",
      " ('막노동/Noun', 0.09376087784767151),\n",
      " ('약속어음/Noun', 0.09169736504554749),\n",
      " ('내쉰/Verb', 0.08903086185455322),\n",
      " ('생산자물가지수/Noun', 0.08887159824371338),\n",
      " ('격화됐/Noun', 0.08878053724765778),\n",
      " ('판타스틱/Noun', 0.08716996014118195),\n",
      " ('조직책/Noun', 0.08614011108875275)]\n",
      "Wall time: 1h 24min 59s\n"
     ]
    }
   ],
   "source": [
    "%%time\n",
    "# PV - DBOW\n",
    "d2v_model = Make_Doc2Vec_Model(data=train, size = 2000, dm = 0, dm_concat = 0,\n",
    "                   dm_mean = 0, negative = 7, hs = 0, epoch = 20, window = None,\n",
    "                   alpha = 0.025, min_alpha = 0.025, workers = cores, tagger = 'ct')\n",
    "pprint(d2v_model.most_similar('문재인/Noun'))\n",
    "pprint(d2v_model.most_similar('노무현/Noun'))\n",
    "pprint(d2v_model.most_similar('박근혜/Noun'))"
   ]
  },
  {
   "cell_type": "code",
   "execution_count": 12,
   "metadata": {},
   "outputs": [],
   "source": [
    "del train\n",
    "del test\n",
    "del d2v_model"
   ]
  },
  {
   "cell_type": "markdown",
   "metadata": {},
   "source": [
    "## Making Doc2Vec Using tagger mecab"
   ]
  },
  {
   "cell_type": "code",
   "execution_count": 13,
   "metadata": {},
   "outputs": [],
   "source": [
    "from collections import namedtuple\n",
    "from gensim.models.doc2vec import TaggedDocument\n",
    "TaggedDocument = namedtuple('TaggedDocument', 'words tags')"
   ]
  },
  {
   "cell_type": "markdown",
   "metadata": {},
   "source": [
    "### tagging"
   ]
  },
  {
   "cell_type": "code",
   "execution_count": null,
   "metadata": {},
   "outputs": [],
   "source": [
    "from konlpy.tag import Mecab\n",
    "mecab = Mecab()"
   ]
  },
  {
   "cell_type": "code",
   "execution_count": null,
   "metadata": {},
   "outputs": [],
   "source": [
    "# mecab\n",
    "def tokenize2(doc):\n",
    "    return ['/'.join(t) for t in mecab.pos(doc)]"
   ]
  },
  {
   "cell_type": "code",
   "execution_count": null,
   "metadata": {},
   "outputs": [],
   "source": [
    "# pickle로 저장된 파일이 없을 때\n",
    "raw_doc_mecab = [(tokenize2(rawdata.loc[idx][0]), rawdata.loc[idx][1]) for idx in tqdm(rawdata.index)]\n",
    "pickle.dump(raw_doc_mecab, open('./data/pre_data/tagged_data/pre_data_by_mecab_for_sentiment_analysis.pickled','wb'))"
   ]
  },
  {
   "cell_type": "markdown",
   "metadata": {},
   "source": [
    "### Doc2Vec 기본 포맷으로 변경"
   ]
  },
  {
   "cell_type": "code",
   "execution_count": null,
   "metadata": {},
   "outputs": [],
   "source": [
    "# pickle로 저장된 파일이 없을 때\n",
    "tagged_mecab = [TaggedDocument(d, [c]) for d, c in raw_doc_mecab]\n",
    "pickle.dump(tagged_mecab, open('./data/pre_data/tagged_data/pre_by_mecab_data_tagged_run_docs.pickled','wb'))"
   ]
  },
  {
   "cell_type": "code",
   "execution_count": null,
   "metadata": {},
   "outputs": [],
   "source": [
    "del raw_doc_mecab"
   ]
  },
  {
   "cell_type": "markdown",
   "metadata": {},
   "source": [
    "## model 만들기"
   ]
  },
  {
   "cell_type": "code",
   "execution_count": null,
   "metadata": {},
   "outputs": [],
   "source": [
    "# pickle로 저장된 파일이 있을 때\n",
    "tagged_mecab = pickle.load(open('./data/pre_data/tagged_data/pre_by_mecab_data_tagged_run_docs.pickled','rb'))"
   ]
  },
  {
   "cell_type": "markdown",
   "metadata": {},
   "source": [
    "### train dataset & test dataset"
   ]
  },
  {
   "cell_type": "code",
   "execution_count": null,
   "metadata": {},
   "outputs": [],
   "source": [
    "from sklearn.model_selection import train_test_split"
   ]
  },
  {
   "cell_type": "code",
   "execution_count": null,
   "metadata": {},
   "outputs": [],
   "source": [
    "# pickle로 저장된 파일이 없을 때\n",
    "train2, test2 = train_test_split(tagged_mecab, test_size=0.1, random_state=42)\n",
    "del tagged_ct\n",
    "pickle.dump(train2, open('./data/pre_data/train_test_Data/pre_by_mecab_train.pickled','wb'))\n",
    "pickle.dump(test2, open('./data/pre_data/train_test_Data/pre_by_mecab_test.pickled','wb'))"
   ]
  },
  {
   "cell_type": "code",
   "execution_count": 14,
   "metadata": {},
   "outputs": [],
   "source": [
    "# pickle로 저장된 파일이 있을 때\n",
    "train2 = pickle.load(open('./data/pre_data/train_test_Data/pre_by_mecab_train.pickled','rb'))\n",
    "test2 = pickle.load(open('./data/pre_data/train_test_Data/pre_by_mecab_test.pickled','rb'))"
   ]
  },
  {
   "cell_type": "markdown",
   "metadata": {},
   "source": [
    "\n",
    "### model 1"
   ]
  },
  {
   "cell_type": "markdown",
   "metadata": {},
   "source": [
    "* size : Dimensionality of the feature vectors \n",
    "* dm : 1 - distibuted memory (PV-DM)  \n",
    "* dm_concat : 1 - use concatenation of context vectors rather than sum/average  \n",
    "* dm_mean : 0 - don't use the sum of the context word vectors  \n",
    "> dm is used in non-concatenative mode.\n",
    "* negative : 7 - neative specifies how many 'noise words' should be drawn.\n",
    "* hs : 0 - hierarchical softmax 사용여부\n",
    "* window : 5 - The maximum distance between the current and predicted word within a sentence.  \n",
    "* alpha : the initial learning rate  \n",
    "* min_alpha : learning rate will linearly drop to min_alpha as training progresses"
   ]
  },
  {
   "cell_type": "code",
   "execution_count": 15,
   "metadata": {},
   "outputs": [],
   "source": [
    "from konlpy.utils import pprint"
   ]
  },
  {
   "cell_type": "code",
   "execution_count": 16,
   "metadata": {
    "scrolled": false
   },
   "outputs": [
    {
     "name": "stdout",
     "output_type": "stream",
     "text": [
      "./model/doc2vec_size-2000_epoch-20_window-5_negative-7_hs-0_dm-1_dm_concat-1_dm_mean-0_by-mecab.model\n"
     ]
    },
    {
     "name": "stderr",
     "output_type": "stream",
     "text": [
      "100%|██████████| 442359/442359 [00:25<00:00, 17177.83it/s]\n",
      "  0%|          | 0/442359 [00:00<?, ?it/s]C:\\Users\\pc\\Anaconda3\\lib\\site-packages\\ipykernel_launcher.py:23: DeprecationWarning: Call to deprecated `iter` (Attribute will be removed in 4.0.0, use self.epochs instead).\n",
      "100%|██████████| 442359/442359 [2:32:40<00:00, 48.29it/s]  \n"
     ]
    },
    {
     "name": "stdout",
     "output_type": "stream",
     "text": [
      "Total running time:  9:11:46.111764\n"
     ]
    },
    {
     "name": "stderr",
     "output_type": "stream",
     "text": [
      "C:\\Users\\pc\\Anaconda3\\lib\\site-packages\\ipykernel_launcher.py:5: DeprecationWarning: Call to deprecated `most_similar` (Method will be removed in 4.0.0, use self.wv.most_similar() instead).\n",
      "  \"\"\"\n"
     ]
    },
    {
     "name": "stdout",
     "output_type": "stream",
     "text": [
      "[('안철수/NNP', 0.5724848508834839),\n",
      " ('김무성/NNP', 0.5294156074523926),\n",
      " ('김한길/NNP', 0.525905430316925),\n",
      " ('박지원/NNP', 0.5178284645080566),\n",
      " ('안상수/NNP', 0.5129897594451904),\n",
      " ('정몽준/NNP', 0.5129006505012512),\n",
      " ('김종인/NNP', 0.5113946199417114),\n",
      " ('손학규/NNP', 0.5102208852767944),\n",
      " ('문희상/NNP', 0.50984126329422),\n",
      " ('정세균/NNP', 0.5082828402519226)]\n"
     ]
    },
    {
     "name": "stderr",
     "output_type": "stream",
     "text": [
      "C:\\Users\\pc\\Anaconda3\\lib\\site-packages\\ipykernel_launcher.py:6: DeprecationWarning: Call to deprecated `most_similar` (Method will be removed in 4.0.0, use self.wv.most_similar() instead).\n",
      "  \n"
     ]
    },
    {
     "name": "stdout",
     "output_type": "stream",
     "text": [
      "[('이명박/NNP', 0.5427179932594299),\n",
      " ('노태우/NNP', 0.5334432125091553),\n",
      " ('김대중/NNP', 0.5133453607559204),\n",
      " ('전두환/NNP', 0.502194344997406),\n",
      " ('김영삼/NNP', 0.49199628829956055),\n",
      " ('아로요/NNP', 0.4718013107776642),\n",
      " ('MB/SL', 0.4612730145454407),\n",
      " ('박정희/NNP', 0.45217856764793396),\n",
      " ('盧/NNG', 0.448153018951416),\n",
      " ('盧/NNG', 0.44479823112487793)]\n"
     ]
    },
    {
     "name": "stderr",
     "output_type": "stream",
     "text": [
      "C:\\Users\\pc\\Anaconda3\\lib\\site-packages\\ipykernel_launcher.py:7: DeprecationWarning: Call to deprecated `most_similar` (Method will be removed in 4.0.0, use self.wv.most_similar() instead).\n",
      "  import sys\n"
     ]
    },
    {
     "name": "stdout",
     "output_type": "stream",
     "text": [
      "[('이명박/NNP', 0.5788164138793945),\n",
      " ('MB/SL', 0.4639942944049835),\n",
      " ('노태우/NNP', 0.45901602506637573),\n",
      " ('노무현/NNP', 0.4367173910140991),\n",
      " ('박/NNP', 0.43140652775764465),\n",
      " ('어김없/VA', 0.428242027759552),\n",
      " ('문재인/NNP', 0.42159518599510193),\n",
      " ('서청원/NNP', 0.41485822200775146),\n",
      " ('윤보선/NNP', 0.41140493750572205),\n",
      " ('김무성/NNP', 0.408000648021698)]\n",
      "Wall time: 9h 15min 42s\n"
     ]
    }
   ],
   "source": [
    "%%time\n",
    "#PV-DM W/\n",
    "d2v_model = Make_Doc2Vec_Model(data=train2, size = 2000, dm = 1, dm_concat = 1,\n",
    "                   dm_mean = 0, negative = 7, hs = 0, epoch = 20, window = 5,\n",
    "                   alpha = 0.025, min_alpha = 0.025, workers = cores, tagger = 'mecab')\n",
    "pprint(d2v_model.most_similar('문재인/NNP'))\n",
    "pprint(d2v_model.most_similar('노무현/NNP'))\n",
    "pprint(d2v_model.most_similar('박근혜/NNP'))"
   ]
  },
  {
   "cell_type": "code",
   "execution_count": 17,
   "metadata": {},
   "outputs": [],
   "source": [
    "del d2v_model"
   ]
  },
  {
   "cell_type": "markdown",
   "metadata": {},
   "source": [
    "### model 2"
   ]
  },
  {
   "cell_type": "markdown",
   "metadata": {},
   "source": [
    "* size : Dimensionality of the feature vectors \n",
    "* dm : 1 - distibuted memory (PV-DM)  \n",
    "* dm_concat : 0 - don't use concatenation of context vectors rather than sum/average  \n",
    "* dm_mean : 1 - don't use the sum of the context word vectors  \n",
    "> dm is used in non-concatenative mode.\n",
    "* negative : 7 - neative specifies how many 'noise words' should be drawn.\n",
    "* hs : 0 - hierarchical softmax 사용여부\n",
    "* window : 10 - The maximum distance between the current and predicted word within a sentence.  \n",
    "* alpha : the initial learning rate  \n",
    "* min_alpha : learning rate will linearly drop to min_alpha as training progresses"
   ]
  },
  {
   "cell_type": "code",
   "execution_count": 18,
   "metadata": {},
   "outputs": [
    {
     "name": "stdout",
     "output_type": "stream",
     "text": [
      "./model/doc2vec_size-2000_epoch-20_window-10_negative-7_hs-0_dm-1_dm_concat-0_dm_mean-1_by-mecab.model\n"
     ]
    },
    {
     "name": "stderr",
     "output_type": "stream",
     "text": [
      "100%|██████████| 442359/442359 [00:41<00:00, 10705.90it/s]\n",
      "  0%|          | 0/442359 [00:00<?, ?it/s]C:\\Users\\pc\\Anaconda3\\lib\\site-packages\\ipykernel_launcher.py:23: DeprecationWarning: Call to deprecated `iter` (Attribute will be removed in 4.0.0, use self.epochs instead).\n",
      "100%|██████████| 442359/442359 [04:36<00:00, 1599.22it/s]\n"
     ]
    },
    {
     "name": "stdout",
     "output_type": "stream",
     "text": [
      "Total running time:  1:23:08.893789\n"
     ]
    },
    {
     "name": "stderr",
     "output_type": "stream",
     "text": [
      "C:\\Users\\pc\\Anaconda3\\lib\\site-packages\\ipykernel_launcher.py:5: DeprecationWarning: Call to deprecated `most_similar` (Method will be removed in 4.0.0, use self.wv.most_similar() instead).\n",
      "  \"\"\"\n"
     ]
    },
    {
     "name": "stdout",
     "output_type": "stream",
     "text": [
      "[('문/VV+ETM', 0.28360697627067566),\n",
      " ('문재/NNG', 0.2664259672164917),\n",
      " ('이태근/NNP', 0.24687394499778748),\n",
      " ('전혜숙/NNP', 0.2448309361934662),\n",
      " ('정세균/NNP', 0.24112921953201294),\n",
      " ('원희목/NNP', 0.23862120509147644),\n",
      " ('조순형/NNP', 0.224394291639328),\n",
      " ('손학규/NNP', 0.2221895456314087),\n",
      " ('정호준/NNP', 0.21453070640563965),\n",
      " ('추미애/NNP', 0.21410048007965088)]\n"
     ]
    },
    {
     "name": "stderr",
     "output_type": "stream",
     "text": [
      "C:\\Users\\pc\\Anaconda3\\lib\\site-packages\\ipykernel_launcher.py:6: DeprecationWarning: Call to deprecated `most_similar` (Method will be removed in 4.0.0, use self.wv.most_similar() instead).\n",
      "  \n"
     ]
    },
    {
     "name": "stdout",
     "output_type": "stream",
     "text": [
      "[('노/NNP', 0.34591615200042725),\n",
      " ('이명박/NNP', 0.3437889814376831),\n",
      " ('박근혜/NNP', 0.29280489683151245),\n",
      " ('나온다든지/VV+EC', 0.2774888277053833),\n",
      " ('노/IC', 0.27348142862319946),\n",
      " ('김영삼/NNP', 0.2703419327735901),\n",
      " ('ㆍ노무현/UNKNOWN', 0.2680293917655945),\n",
      " ('노/XPN', 0.2668951451778412),\n",
      " ('유셴코/NNP', 0.26135867834091187),\n",
      " ('룰라/IC', 0.2592846155166626)]\n"
     ]
    },
    {
     "name": "stderr",
     "output_type": "stream",
     "text": [
      "C:\\Users\\pc\\Anaconda3\\lib\\site-packages\\ipykernel_launcher.py:7: DeprecationWarning: Call to deprecated `most_similar` (Method will be removed in 4.0.0, use self.wv.most_similar() instead).\n",
      "  import sys\n"
     ]
    },
    {
     "name": "stdout",
     "output_type": "stream",
     "text": [
      "[('박/NNP', 0.4148608148097992),\n",
      " ('정문목/NNP', 0.30864912271499634),\n",
      " ('노무현/NNP', 0.2928048372268677),\n",
      " ('이명박/NNP', 0.2873270511627197),\n",
      " ('우말라/NNP', 0.2748571038246155),\n",
      " ('이기흥/NNP', 0.2692067623138428),\n",
      " ('노/NNP', 0.2534322440624237),\n",
      " ('나온다든지/VV+EC', 0.2485388070344925),\n",
      " ('유셴코/NNP', 0.24410727620124817),\n",
      " ('김영삼/NNP', 0.244068905711174)]\n",
      "Wall time: 1h 23min 16s\n"
     ]
    }
   ],
   "source": [
    "%%time\n",
    "#PV-DBOW\n",
    "d2v_model = Make_Doc2Vec_Model(data=train2, size = 2000, dm = 1, dm_concat = 0,\n",
    "                   dm_mean = 1, negative = 7, hs = 0, epoch = 20, window = 10,\n",
    "                   alpha = 0.025, min_alpha = 0.025, workers = cores, tagger = 'mecab')\n",
    "pprint(d2v_model.most_similar('문재인/NNP'))\n",
    "pprint(d2v_model.most_similar('노무현/NNP'))\n",
    "pprint(d2v_model.most_similar('박근혜/NNP'))"
   ]
  },
  {
   "cell_type": "code",
   "execution_count": 19,
   "metadata": {},
   "outputs": [],
   "source": [
    "del d2v_model"
   ]
  },
  {
   "cell_type": "markdown",
   "metadata": {},
   "source": [
    "### model 3"
   ]
  },
  {
   "cell_type": "markdown",
   "metadata": {},
   "source": [
    "* size : Dimensionality of the feature vectors \n",
    "* dm : 0 - distributed bag of words (PV-DBOW)\n",
    "* dm_concat : 0 - don't use concatenation of context vectors rather than sum/average  \n",
    "* dm_mean : 0 - don't use the sum of the context word vectors  \n",
    "> dm is used in non-concatenative mode.\n",
    "* negative : 7 - neative specifies how many 'noise words' should be drawn.\n",
    "* hs : 0 - hierarchical softmax 사용여부\n",
    "* window : 5 - The maximum distance between the current and predicted word within a sentence.  \n",
    "* alpha : the initial learning rate  \n",
    "* min_alpha : learning rate will linearly drop to min_alpha as training progresses"
   ]
  },
  {
   "cell_type": "code",
   "execution_count": 20,
   "metadata": {},
   "outputs": [
    {
     "name": "stdout",
     "output_type": "stream",
     "text": [
      "./model/doc2vec_size-2000_epoch-20_window-None_negative-7_hs-0_dm-0_dm_concat-0_dm_mean-0_by-mecab.model\n"
     ]
    },
    {
     "name": "stderr",
     "output_type": "stream",
     "text": [
      "100%|██████████| 442359/442359 [00:15<00:00, 28443.12it/s]\n",
      "  0%|          | 0/442359 [00:00<?, ?it/s]C:\\Users\\pc\\Anaconda3\\lib\\site-packages\\ipykernel_launcher.py:23: DeprecationWarning: Call to deprecated `iter` (Attribute will be removed in 4.0.0, use self.epochs instead).\n",
      "100%|██████████| 442359/442359 [03:48<00:00, 1933.01it/s]\n"
     ]
    },
    {
     "name": "stdout",
     "output_type": "stream",
     "text": [
      "Total running time:  1:15:33.483903\n"
     ]
    },
    {
     "name": "stderr",
     "output_type": "stream",
     "text": [
      "C:\\Users\\pc\\Anaconda3\\lib\\site-packages\\ipykernel_launcher.py:5: DeprecationWarning: Call to deprecated `most_similar` (Method will be removed in 4.0.0, use self.wv.most_similar() instead).\n",
      "  \"\"\"\n"
     ]
    },
    {
     "name": "stdout",
     "output_type": "stream",
     "text": [
      "[('백화점식/NNP', 0.09711657464504242),\n",
      " ('버스정류장/NNP', 0.08856742829084396),\n",
      " ('사회지도층/NNP', 0.08808135986328125),\n",
      " ('햇발/NNG', 0.08589445054531097),\n",
      " ('불가피/XR', 0.08572833985090256),\n",
      " ('htchoi/SL', 0.08566995710134506),\n",
      " ('나빴/VA+EP', 0.08528344333171844),\n",
      " ('원화/NNG', 0.08455102145671844),\n",
      " ('강종/NNP', 0.08450424671173096),\n",
      " ('토론회/NNG', 0.08347360789775848)]\n"
     ]
    },
    {
     "name": "stderr",
     "output_type": "stream",
     "text": [
      "C:\\Users\\pc\\Anaconda3\\lib\\site-packages\\ipykernel_launcher.py:6: DeprecationWarning: Call to deprecated `most_similar` (Method will be removed in 4.0.0, use self.wv.most_similar() instead).\n",
      "  \n"
     ]
    },
    {
     "name": "stdout",
     "output_type": "stream",
     "text": [
      "[('중소기업청장/NNP', 0.09881342947483063),\n",
      " ('맵/NNP', 0.09794344753026962),\n",
      " ('폭격/NNG', 0.09161762148141861),\n",
      " ('알파인/NNP', 0.0907985121011734),\n",
      " ('예치/NNG', 0.09036141633987427),\n",
      " ('코르코바두산/NNP', 0.08970692753791809),\n",
      " ('박노해/NNP', 0.08800055086612701),\n",
      " ('절충/NNP', 0.0862005352973938),\n",
      " ('해진다고/XSA+EC+VX+EC', 0.08506476879119873),\n",
      " ('봉화군/NNG', 0.08451708406209946)]\n"
     ]
    },
    {
     "name": "stderr",
     "output_type": "stream",
     "text": [
      "C:\\Users\\pc\\Anaconda3\\lib\\site-packages\\ipykernel_launcher.py:7: DeprecationWarning: Call to deprecated `most_similar` (Method will be removed in 4.0.0, use self.wv.most_similar() instead).\n",
      "  import sys\n"
     ]
    },
    {
     "name": "stdout",
     "output_type": "stream",
     "text": [
      "[('OTC/SL', 0.10523991286754608),\n",
      " ('무샤라프/NNP', 0.09607601165771484),\n",
      " ('김한표/NNP', 0.09233810007572174),\n",
      " ('패권국/NNP', 0.09138218313455582),\n",
      " ('방북/NNG', 0.08726222813129425),\n",
      " ('역도계/NNP', 0.08249004185199738),\n",
      " ('어니/NNP', 0.08202850818634033),\n",
      " ('옛적/NNG', 0.08199796080589294),\n",
      " ('인거/NNG', 0.0809951201081276),\n",
      " ('누들/NNG', 0.08086809515953064)]\n",
      "Wall time: 1h 15min 40s\n"
     ]
    }
   ],
   "source": [
    "%%time\n",
    "#PV-DM w/\n",
    "d2v_model = Make_Doc2Vec_Model(data=train2, size = 2000, dm = 0, dm_concat = 0,\n",
    "                   dm_mean = 0, negative = 7, hs = 0, epoch = 20, window = None,\n",
    "                   alpha = 0.025, min_alpha = 0.025, workers = cores, tagger = 'mecab')\n",
    "pprint(d2v_model.most_similar('문재인/NNP'))\n",
    "pprint(d2v_model.most_similar('노무현/NNP'))\n",
    "pprint(d2v_model.most_similar('박근혜/NNP'))"
   ]
  },
  {
   "cell_type": "code",
   "execution_count": 21,
   "metadata": {},
   "outputs": [],
   "source": [
    "del train2\n",
    "del test2\n",
    "del d2v_model"
   ]
  },
  {
   "cell_type": "code",
   "execution_count": null,
   "metadata": {},
   "outputs": [],
   "source": []
  }
 ],
 "metadata": {
  "kernelspec": {
   "display_name": "Python 3",
   "language": "python",
   "name": "python3"
  },
  "language_info": {
   "codemirror_mode": {
    "name": "ipython",
    "version": 3
   },
   "file_extension": ".py",
   "mimetype": "text/x-python",
   "name": "python",
   "nbconvert_exporter": "python",
   "pygments_lexer": "ipython3",
   "version": "3.6.4"
  }
 },
 "nbformat": 4,
 "nbformat_minor": 2
}
