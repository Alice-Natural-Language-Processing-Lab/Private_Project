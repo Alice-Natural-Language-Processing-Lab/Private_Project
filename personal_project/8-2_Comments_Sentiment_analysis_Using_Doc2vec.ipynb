{
 "cells": [
  {
   "cell_type": "markdown",
   "metadata": {},
   "source": [
    "# 수집된 뉴스 기사 및 댓글에 대한 감정 분석\n",
    "## * Doc2Vec \n",
    "* 데이터 \n",
    "> 2017년 12월 1일부터 2018년 2월 1일까지 63일간 [네이버](http://www.naver.com)와 [다음](http://www.daum.net)의 랭킹뉴스와 뉴스의 댓글을 크롤링함."
   ]
  },
  {
   "cell_type": "code",
   "execution_count": 1,
   "metadata": {
    "scrolled": true
   },
   "outputs": [
    {
     "name": "stderr",
     "output_type": "stream",
     "text": [
      "/Users/hyunyoun/anaconda3/lib/python3.6/site-packages/h5py/__init__.py:36: FutureWarning: Conversion of the second argument of issubdtype from `float` to `np.floating` is deprecated. In future, it will be treated as `np.float64 == np.dtype(float).type`.\n",
      "  from ._conv import register_converters as _register_converters\n",
      "Using TensorFlow backend.\n"
     ]
    }
   ],
   "source": [
    "import pickle\n",
    "import html\n",
    "import multiprocessing\n",
    "from collections import namedtuple, OrderedDict\n",
    "import re\n",
    "import sys\n",
    "import os\n",
    "from glob import glob\n",
    "import warnings\n",
    "\n",
    "os.environ['KERAS_BACKEND']='tensorflow'\n",
    "\n",
    "from numba import jit\n",
    "import numpy as np\n",
    "from tqdm import tqdm\n",
    "tqdm.pandas(desc=\"progress-bar\")\n",
    "import pandas as pd\n",
    "\n",
    "from gensim.models import doc2vec, KeyedVectors\n",
    "from gensim.models.doc2vec import TaggedDocument\n",
    "\n",
    "from konlpy.utils import pprint\n",
    "\n",
    "from sklearn.model_selection import train_test_split\n",
    "from sklearn.linear_model import LogisticRegression\n",
    "from sklearn.ensemble import RandomForestClassifier\n",
    "from sklearn.svm import SVC\n",
    "from sklearn.metrics import confusion_matrix, classification_report, roc_curve,  accuracy_score\n",
    "from sklearn.feature_extraction.text import TfidfVectorizer\n",
    "from sklearn.preprocessing import scale, MinMaxScaler\n",
    "from sklearn.manifold import TSNE\n",
    "\n",
    "import keras.backend.tensorflow_backend as K\n",
    "from keras.preprocessing import sequence\n",
    "from keras_tqdm import TQDMCallback, TQDMNotebookCallback\n",
    "from keras.models import Model, Sequential\n",
    "from keras.regularizers import l2\n",
    "from keras.optimizers import SGD\n",
    "from keras.utils import np_utils\n",
    "from keras.layers import Input, Flatten, Dense, Embedding, embeddings, merge, Dropout, Activation,  LSTM, Bidirectional, SimpleRNN, GRU\n",
    "from keras.layers.convolutional import Conv1D, Conv2D\n",
    "from keras.layers.pooling import MaxPooling1D, GlobalMaxPooling1D\n",
    "from keras.layers.normalization import BatchNormalization\n",
    "from keras.layers.core import SpatialDropout1D\n",
    "from keras.utils import np_utils\n",
    "from tensorflow.python.client import device_lib\n",
    "from keras.layers.merge import dot\n",
    "\n",
    "import xgboost as xgb\n",
    "\n",
    "import matplotlib.pyplot as plt\n",
    "\n",
    "import bokeh.plotting as bp\n",
    "from bokeh.models import HoverTool, BoxSelectTool\n",
    "from bokeh.plotting import figure, show, output_notebook"
   ]
  },
  {
   "cell_type": "code",
   "execution_count": 2,
   "metadata": {},
   "outputs": [],
   "source": [
    "import Database_Handler as dh\n",
    "import Basic_Module as bm"
   ]
  },
  {
   "cell_type": "code",
   "execution_count": 3,
   "metadata": {},
   "outputs": [],
   "source": [
    "import dask.dataframe as dd"
   ]
  },
  {
   "cell_type": "code",
   "execution_count": 4,
   "metadata": {},
   "outputs": [],
   "source": [
    "from ckonlpy.tag import Twitter\n",
    "from konlpy.tag import Mecab\n",
    "ct = Twitter()\n",
    "mecab = Mecab()"
   ]
  },
  {
   "cell_type": "markdown",
   "metadata": {},
   "source": [
    "## Stopwords"
   ]
  },
  {
   "cell_type": "code",
   "execution_count": 5,
   "metadata": {},
   "outputs": [],
   "source": [
    "stopwords = open('./data/stopwordsList.txt',encoding='utf-8').readlines()\n",
    "stopwords = list(map(lambda x: x.strip(), stopwords))"
   ]
  },
  {
   "cell_type": "markdown",
   "metadata": {},
   "source": [
    "## TaggedDocument For Doc2Vec"
   ]
  },
  {
   "cell_type": "code",
   "execution_count": 6,
   "metadata": {},
   "outputs": [],
   "source": [
    "TaggedDocument = namedtuple('TaggedDocument', 'words tags sentiment')"
   ]
  },
  {
   "cell_type": "markdown",
   "metadata": {},
   "source": [
    "## Load Data"
   ]
  },
  {
   "cell_type": "markdown",
   "metadata": {},
   "source": [
    "#### Path"
   ]
  },
  {
   "cell_type": "code",
   "execution_count": 18,
   "metadata": {},
   "outputs": [],
   "source": [
    "if sys.platform =='darwin':\n",
    "    loadModelPath = '/Volumes/disk1/model/'\n",
    "    classifierPath = '/Volumes/disk1/data/pre_data/classifier/'\n",
    "    news_senti_outcome = '/Volumes/disk1/outcome_for_News_sentiment_analysis/'\n",
    "    daumCommentsPath = '/Volumes/disk1/data/daum_Comments/'\n",
    "    naverCommentsPath = '/Volumes/disk1/data/naver_Comments/'\n",
    "    outcomeDaumCommentsPath = '/Volumes/disk1/outcome_comments_for_daum/'\n",
    "    outcomeNaverCommentsPath = '/Volumes/disk1/outcome_comments_for_naver/'\n",
    "    outcome_predata = '/Volumes/disk1/pre_data_for_comments/'\n",
    "    outcome_tagged_data = '/Volumes/disk1/pre_data_for_comments2/'\n",
    "elif sys.platform =='win32':\n",
    "    loadModelPath = 'd:/model/'\n",
    "    classifierPath = 'd:/data/pre_data/classifier/'\n",
    "    newsPath = './data/pre_data/news_sentiment/'\n",
    "    news_senti_outcome = './outcome_for_News_sentiment_analysis/'\n",
    "    daumCommentsPath = 'd:/data/daum_Comments/'\n",
    "    naverCommentsPath = 'd:/data/naver_Comments/'\n",
    "    outcomeDaumCommentsPath = 'd:/outcome_comments_for_daum/'\n",
    "    outcomeNaverCommentsPath = 'd:/outcome_comments_for_naver/'\n",
    "    outcome_predata = 'd:/pre_data_for_comments/'\n",
    "    outcome_tagged_data = 'd:/pre_data_for_comments2/'"
   ]
  },
  {
   "cell_type": "markdown",
   "metadata": {},
   "source": [
    "#### News "
   ]
  },
  {
   "cell_type": "code",
   "execution_count": 8,
   "metadata": {},
   "outputs": [
    {
     "data": {
      "text/plain": [
       "['naver_news_sentiment_analysis.csv', 'daum_news_sentiment_analysis.csv']"
      ]
     },
     "execution_count": 8,
     "metadata": {},
     "output_type": "execute_result"
    }
   ],
   "source": [
    "os.listdir(news_senti_outcome)"
   ]
  },
  {
   "cell_type": "code",
   "execution_count": 9,
   "metadata": {},
   "outputs": [
    {
     "name": "stdout",
     "output_type": "stream",
     "text": [
      "(15015, 14)\n"
     ]
    },
    {
     "data": {
      "text/html": [
       "<div>\n",
       "<style scoped>\n",
       "    .dataframe tbody tr th:only-of-type {\n",
       "        vertical-align: middle;\n",
       "    }\n",
       "\n",
       "    .dataframe tbody tr th {\n",
       "        vertical-align: top;\n",
       "    }\n",
       "\n",
       "    .dataframe thead th {\n",
       "        text-align: right;\n",
       "    }\n",
       "</style>\n",
       "<table border=\"1\" class=\"dataframe\">\n",
       "  <thead>\n",
       "    <tr style=\"text-align: right;\">\n",
       "      <th></th>\n",
       "      <th>category</th>\n",
       "      <th>date</th>\n",
       "      <th>press</th>\n",
       "      <th>number_of_comment</th>\n",
       "      <th>number_of_crawled_comment</th>\n",
       "      <th>rank</th>\n",
       "      <th>title</th>\n",
       "      <th>mainText</th>\n",
       "      <th>keywords</th>\n",
       "      <th>extracted_keywords</th>\n",
       "      <th>negative</th>\n",
       "      <th>positive</th>\n",
       "      <th>Decision</th>\n",
       "      <th>site</th>\n",
       "    </tr>\n",
       "    <tr>\n",
       "      <th>id</th>\n",
       "      <th></th>\n",
       "      <th></th>\n",
       "      <th></th>\n",
       "      <th></th>\n",
       "      <th></th>\n",
       "      <th></th>\n",
       "      <th></th>\n",
       "      <th></th>\n",
       "      <th></th>\n",
       "      <th></th>\n",
       "      <th></th>\n",
       "      <th></th>\n",
       "      <th></th>\n",
       "      <th></th>\n",
       "    </tr>\n",
       "  </thead>\n",
       "  <tbody>\n",
       "    <tr>\n",
       "      <th>5a29c445588c132954d1973a</th>\n",
       "      <td>정치</td>\n",
       "      <td>2017.12.07</td>\n",
       "      <td>연합뉴스</td>\n",
       "      <td>1713</td>\n",
       "      <td>1465</td>\n",
       "      <td>1</td>\n",
       "      <td>北외무성 \"전쟁 바라지 않지만 결코 피하지 않을 것\"</td>\n",
       "      <td>美고위인사 대북언급 비난하며 \"전쟁 기정사실화\" 위협  며칠 새 이어지는 북한 군민...</td>\n",
       "      <td>['외무성', '핵전쟁', '대변인']</td>\n",
       "      <td>{'미국', '조선반도', '핵전쟁', '북한', '중앙', '도화선', '고위',...</td>\n",
       "      <td>86.0</td>\n",
       "      <td>22.0</td>\n",
       "      <td>negative</td>\n",
       "      <td>Naver</td>\n",
       "    </tr>\n",
       "    <tr>\n",
       "      <th>5a29c445588c132954d1973b</th>\n",
       "      <td>정치</td>\n",
       "      <td>2017.12.07</td>\n",
       "      <td>한국일보</td>\n",
       "      <td>2551</td>\n",
       "      <td>2062</td>\n",
       "      <td>2</td>\n",
       "      <td>예산전쟁, 예결위 간사ㆍ호남이 웃었다</td>\n",
       "      <td>예결위 간사들이 최대 수혜자..당 지도부 내 몫 챙기기도 여전   황주홍ㆍ김도읍 등...</td>\n",
       "      <td>['예산', '예결위', 'soc']</td>\n",
       "      <td>{'호남', '예산안', '의원', '정부안', '증액', '지역구', '국민의당'}</td>\n",
       "      <td>46.0</td>\n",
       "      <td>62.0</td>\n",
       "      <td>positive</td>\n",
       "      <td>Naver</td>\n",
       "    </tr>\n",
       "    <tr>\n",
       "      <th>5a29c445588c132954d1973c</th>\n",
       "      <td>정치</td>\n",
       "      <td>2017.12.07</td>\n",
       "      <td>뉴시스</td>\n",
       "      <td>610</td>\n",
       "      <td>536</td>\n",
       "      <td>3</td>\n",
       "      <td>혐의 부인에 20시간 조사…檢, 최경환 구속 카드 꺼내나</td>\n",
       "      <td>【서울=뉴시스】 최진석 기자 = 박근혜 정부 시절 국가정보원 특수활동비 수수 의혹 ...</td>\n",
       "      <td>['최경환', '구속영장', '국가정보원']</td>\n",
       "      <td>{'구속영장 청구', '조사', '의원', '정기국회', '국정원장', '검찰', ...</td>\n",
       "      <td>77.0</td>\n",
       "      <td>31.0</td>\n",
       "      <td>negative</td>\n",
       "      <td>Naver</td>\n",
       "    </tr>\n",
       "    <tr>\n",
       "      <th>5a29c445588c132954d1973d</th>\n",
       "      <td>정치</td>\n",
       "      <td>2017.12.07</td>\n",
       "      <td>연합뉴스</td>\n",
       "      <td>145</td>\n",
       "      <td>133</td>\n",
       "      <td>4</td>\n",
       "      <td>최재형 감사원장 후보자 \"독립성 강화는 임명권자의 뜻\"</td>\n",
       "      <td>감사원장에 내정된 최재형 사법연수원장(고양=연합뉴스) 이희열 기자 = 7일 감사원장...</td>\n",
       "      <td>['이슈 · 최재형 감사원장 내정', '감사원장', '최재형', '감사원']</td>\n",
       "      <td>{'공직 사회', '법관', '생활', '감사원장', '지명', '후보자'}</td>\n",
       "      <td>39.0</td>\n",
       "      <td>69.0</td>\n",
       "      <td>positive</td>\n",
       "      <td>Naver</td>\n",
       "    </tr>\n",
       "    <tr>\n",
       "      <th>5a29c445588c132954d1973e</th>\n",
       "      <td>정치</td>\n",
       "      <td>2017.12.07</td>\n",
       "      <td>동아일보</td>\n",
       "      <td>1074</td>\n",
       "      <td>932</td>\n",
       "      <td>5</td>\n",
       "      <td>B-1B 한반도에 뜨자, 평양 비운 김정은</td>\n",
       "      <td>[동아일보] 북중 접경지 양강도 삼지연 시찰… 방북 유엔 사무차장 면담 안할듯 B-...</td>\n",
       "      <td>['김정은', 'b-1b', '한반도']</td>\n",
       "      <td>{'공장', '양강도', '사무차장', '삼지연', '시찰', '훈련', '접경',...</td>\n",
       "      <td>72.0</td>\n",
       "      <td>36.0</td>\n",
       "      <td>negative</td>\n",
       "      <td>Naver</td>\n",
       "    </tr>\n",
       "  </tbody>\n",
       "</table>\n",
       "</div>"
      ],
      "text/plain": [
       "                         category        date press  number_of_comment  \\\n",
       "id                                                                       \n",
       "5a29c445588c132954d1973a       정치  2017.12.07  연합뉴스               1713   \n",
       "5a29c445588c132954d1973b       정치  2017.12.07  한국일보               2551   \n",
       "5a29c445588c132954d1973c       정치  2017.12.07   뉴시스                610   \n",
       "5a29c445588c132954d1973d       정치  2017.12.07  연합뉴스                145   \n",
       "5a29c445588c132954d1973e       정치  2017.12.07  동아일보               1074   \n",
       "\n",
       "                          number_of_crawled_comment  rank  \\\n",
       "id                                                          \n",
       "5a29c445588c132954d1973a                       1465     1   \n",
       "5a29c445588c132954d1973b                       2062     2   \n",
       "5a29c445588c132954d1973c                        536     3   \n",
       "5a29c445588c132954d1973d                        133     4   \n",
       "5a29c445588c132954d1973e                        932     5   \n",
       "\n",
       "                                                    title  \\\n",
       "id                                                          \n",
       "5a29c445588c132954d1973a    北외무성 \"전쟁 바라지 않지만 결코 피하지 않을 것\"   \n",
       "5a29c445588c132954d1973b             예산전쟁, 예결위 간사ㆍ호남이 웃었다   \n",
       "5a29c445588c132954d1973c  혐의 부인에 20시간 조사…檢, 최경환 구속 카드 꺼내나   \n",
       "5a29c445588c132954d1973d   최재형 감사원장 후보자 \"독립성 강화는 임명권자의 뜻\"   \n",
       "5a29c445588c132954d1973e          B-1B 한반도에 뜨자, 평양 비운 김정은   \n",
       "\n",
       "                                                                   mainText  \\\n",
       "id                                                                            \n",
       "5a29c445588c132954d1973a  美고위인사 대북언급 비난하며 \"전쟁 기정사실화\" 위협  며칠 새 이어지는 북한 군민...   \n",
       "5a29c445588c132954d1973b  예결위 간사들이 최대 수혜자..당 지도부 내 몫 챙기기도 여전   황주홍ㆍ김도읍 등...   \n",
       "5a29c445588c132954d1973c  【서울=뉴시스】 최진석 기자 = 박근혜 정부 시절 국가정보원 특수활동비 수수 의혹 ...   \n",
       "5a29c445588c132954d1973d  감사원장에 내정된 최재형 사법연수원장(고양=연합뉴스) 이희열 기자 = 7일 감사원장...   \n",
       "5a29c445588c132954d1973e  [동아일보] 북중 접경지 양강도 삼지연 시찰… 방북 유엔 사무차장 면담 안할듯 B-...   \n",
       "\n",
       "                                                            keywords  \\\n",
       "id                                                                     \n",
       "5a29c445588c132954d1973a                       ['외무성', '핵전쟁', '대변인']   \n",
       "5a29c445588c132954d1973b                        ['예산', '예결위', 'soc']   \n",
       "5a29c445588c132954d1973c                    ['최경환', '구속영장', '국가정보원']   \n",
       "5a29c445588c132954d1973d  ['이슈 · 최재형 감사원장 내정', '감사원장', '최재형', '감사원']   \n",
       "5a29c445588c132954d1973e                      ['김정은', 'b-1b', '한반도']   \n",
       "\n",
       "                                                         extracted_keywords  \\\n",
       "id                                                                            \n",
       "5a29c445588c132954d1973a  {'미국', '조선반도', '핵전쟁', '북한', '중앙', '도화선', '고위',...   \n",
       "5a29c445588c132954d1973b    {'호남', '예산안', '의원', '정부안', '증액', '지역구', '국민의당'}   \n",
       "5a29c445588c132954d1973c  {'구속영장 청구', '조사', '의원', '정기국회', '국정원장', '검찰', ...   \n",
       "5a29c445588c132954d1973d         {'공직 사회', '법관', '생활', '감사원장', '지명', '후보자'}   \n",
       "5a29c445588c132954d1973e  {'공장', '양강도', '사무차장', '삼지연', '시찰', '훈련', '접경',...   \n",
       "\n",
       "                          negative  positive  Decision   site  \n",
       "id                                                             \n",
       "5a29c445588c132954d1973a      86.0      22.0  negative  Naver  \n",
       "5a29c445588c132954d1973b      46.0      62.0  positive  Naver  \n",
       "5a29c445588c132954d1973c      77.0      31.0  negative  Naver  \n",
       "5a29c445588c132954d1973d      39.0      69.0  positive  Naver  \n",
       "5a29c445588c132954d1973e      72.0      36.0  negative  Naver  "
      ]
     },
     "execution_count": 9,
     "metadata": {},
     "output_type": "execute_result"
    }
   ],
   "source": [
    "# Naver\n",
    "naverData = pd.read_csv(os.path.join(news_senti_outcome, 'naver_news_sentiment_analysis.csv'), index_col=0, header= 0, encoding = 'utf-8')\n",
    "naverData['site'] = ['Naver'] * naverData.shape[0]\n",
    "reNaverData = naverData[naverData.number_of_crawled_comment != 0]\n",
    "print (reNaverData.shape)\n",
    "reNaverData.head()"
   ]
  },
  {
   "cell_type": "code",
   "execution_count": 10,
   "metadata": {
    "scrolled": true
   },
   "outputs": [
    {
     "name": "stdout",
     "output_type": "stream",
     "text": [
      "(9369, 14)\n"
     ]
    },
    {
     "data": {
      "text/html": [
       "<div>\n",
       "<style scoped>\n",
       "    .dataframe tbody tr th:only-of-type {\n",
       "        vertical-align: middle;\n",
       "    }\n",
       "\n",
       "    .dataframe tbody tr th {\n",
       "        vertical-align: top;\n",
       "    }\n",
       "\n",
       "    .dataframe thead th {\n",
       "        text-align: right;\n",
       "    }\n",
       "</style>\n",
       "<table border=\"1\" class=\"dataframe\">\n",
       "  <thead>\n",
       "    <tr style=\"text-align: right;\">\n",
       "      <th></th>\n",
       "      <th>category</th>\n",
       "      <th>date</th>\n",
       "      <th>press</th>\n",
       "      <th>number_of_comment</th>\n",
       "      <th>number_of_crawled_comment</th>\n",
       "      <th>rank</th>\n",
       "      <th>title</th>\n",
       "      <th>mainText</th>\n",
       "      <th>keywords</th>\n",
       "      <th>extracted_keywords</th>\n",
       "      <th>negative</th>\n",
       "      <th>positive</th>\n",
       "      <th>Decision</th>\n",
       "      <th>site</th>\n",
       "    </tr>\n",
       "    <tr>\n",
       "      <th>id</th>\n",
       "      <th></th>\n",
       "      <th></th>\n",
       "      <th></th>\n",
       "      <th></th>\n",
       "      <th></th>\n",
       "      <th></th>\n",
       "      <th></th>\n",
       "      <th></th>\n",
       "      <th></th>\n",
       "      <th></th>\n",
       "      <th></th>\n",
       "      <th></th>\n",
       "      <th></th>\n",
       "      <th></th>\n",
       "    </tr>\n",
       "  </thead>\n",
       "  <tbody>\n",
       "    <tr>\n",
       "      <th>5a2a61bf588c13481c229d1e</th>\n",
       "      <td>뉴스</td>\n",
       "      <td>2017.12.07</td>\n",
       "      <td>세계일보</td>\n",
       "      <td>1093</td>\n",
       "      <td>903</td>\n",
       "      <td>1</td>\n",
       "      <td>\"밤이 무섭다\"..비아그라 공장 연기에 남성들 부작용 호소</td>\n",
       "      <td>주민들은 공장에서 배출된 연기가 '남성이 매우 건강해지는 부작용'을 일으킨다며, ...</td>\n",
       "      <td>['부작용', '비아그라', '아일랜드']</td>\n",
       "      <td>{'건강', '부작용', '공장', '남성들', '지역', '세보 효과', '연기'}</td>\n",
       "      <td>50.0</td>\n",
       "      <td>58.0</td>\n",
       "      <td>positive</td>\n",
       "      <td>daum</td>\n",
       "    </tr>\n",
       "    <tr>\n",
       "      <th>5a2a61bf588c13481c229d1f</th>\n",
       "      <td>뉴스</td>\n",
       "      <td>2017.12.07</td>\n",
       "      <td>헬스조선</td>\n",
       "      <td>603</td>\n",
       "      <td>386</td>\n",
       "      <td>2</td>\n",
       "      <td>식후 커피·늦은 양치질..점심식사 후 하면 안 좋은 습관 3가지</td>\n",
       "      <td>점심식사를 마친 후 후식으로 커피를 마시는 사람들이 많다. 실제로 직장이 밀집돼 ...</td>\n",
       "      <td>['커피', '낮잠', '음식물']</td>\n",
       "      <td>{'건강', '커피', '자세', '치아', '철분', '디스크', '점심 식사',...</td>\n",
       "      <td>81.0</td>\n",
       "      <td>27.0</td>\n",
       "      <td>negative</td>\n",
       "      <td>daum</td>\n",
       "    </tr>\n",
       "    <tr>\n",
       "      <th>5a2a61bf588c13481c229d20</th>\n",
       "      <td>뉴스</td>\n",
       "      <td>2017.12.07</td>\n",
       "      <td>연합뉴스</td>\n",
       "      <td>1067</td>\n",
       "      <td>807</td>\n",
       "      <td>3</td>\n",
       "      <td>'십년지기 생매장' 진짜 이유는..\"'청부 통정' 알려질까 봐\"</td>\n",
       "      <td>(성남=연합뉴스) 최해민 기자 = 십년지기 지인을 산 채로 묻어 살해한 50대 여...</td>\n",
       "      <td>['살인혐의', '철원', '검찰송치']</td>\n",
       "      <td>{'앙심', '남편', '성관계', '주변', '진술', '지인', '범행', '아...</td>\n",
       "      <td>99.0</td>\n",
       "      <td>9.0</td>\n",
       "      <td>negative</td>\n",
       "      <td>daum</td>\n",
       "    </tr>\n",
       "    <tr>\n",
       "      <th>5a2a61bf588c13481c229d21</th>\n",
       "      <td>뉴스</td>\n",
       "      <td>2017.12.07</td>\n",
       "      <td>헤럴드경제</td>\n",
       "      <td>418</td>\n",
       "      <td>368</td>\n",
       "      <td>4</td>\n",
       "      <td>신영자, 억 소리나는 갑질</td>\n",
       "      <td>신영자, 적용안된 혐의→검찰 상고에서 인정\\n신영자, 얼마를 어떻게 받았나  [헤럴...</td>\n",
       "      <td>['신영자', '갑질', '롯데백화점']</td>\n",
       "      <td>{'네이처리퍼블릭', '롯데', '징역', '유통업체', '신영자 이사장', '검찰...</td>\n",
       "      <td>77.0</td>\n",
       "      <td>31.0</td>\n",
       "      <td>negative</td>\n",
       "      <td>daum</td>\n",
       "    </tr>\n",
       "    <tr>\n",
       "      <th>5a2a61bf588c13481c229d22</th>\n",
       "      <td>뉴스</td>\n",
       "      <td>2017.12.07</td>\n",
       "      <td>연합뉴스</td>\n",
       "      <td>434</td>\n",
       "      <td>367</td>\n",
       "      <td>5</td>\n",
       "      <td>\"배신하지마\" 20대女 살인 피의자 유치장서 공범 남친에 쪽지</td>\n",
       "      <td>(청주=연합뉴스) 이승민 기자 = 지난 9월 청주의 한 하천에서 20대 여성을 둔기...</td>\n",
       "      <td>['공범', '살인', '과자']</td>\n",
       "      <td>{'폭행', '혐의', '과자', '범행', '쪽지', '남자친구', '경찰', '...</td>\n",
       "      <td>102.0</td>\n",
       "      <td>6.0</td>\n",
       "      <td>negative</td>\n",
       "      <td>daum</td>\n",
       "    </tr>\n",
       "  </tbody>\n",
       "</table>\n",
       "</div>"
      ],
      "text/plain": [
       "                         category        date  press  number_of_comment  \\\n",
       "id                                                                        \n",
       "5a2a61bf588c13481c229d1e       뉴스  2017.12.07   세계일보               1093   \n",
       "5a2a61bf588c13481c229d1f       뉴스  2017.12.07   헬스조선                603   \n",
       "5a2a61bf588c13481c229d20       뉴스  2017.12.07   연합뉴스               1067   \n",
       "5a2a61bf588c13481c229d21       뉴스  2017.12.07  헤럴드경제                418   \n",
       "5a2a61bf588c13481c229d22       뉴스  2017.12.07   연합뉴스                434   \n",
       "\n",
       "                          number_of_crawled_comment  rank  \\\n",
       "id                                                          \n",
       "5a2a61bf588c13481c229d1e                        903     1   \n",
       "5a2a61bf588c13481c229d1f                        386     2   \n",
       "5a2a61bf588c13481c229d20                        807     3   \n",
       "5a2a61bf588c13481c229d21                        368     4   \n",
       "5a2a61bf588c13481c229d22                        367     5   \n",
       "\n",
       "                                                        title  \\\n",
       "id                                                              \n",
       "5a2a61bf588c13481c229d1e     \"밤이 무섭다\"..비아그라 공장 연기에 남성들 부작용 호소   \n",
       "5a2a61bf588c13481c229d1f  식후 커피·늦은 양치질..점심식사 후 하면 안 좋은 습관 3가지   \n",
       "5a2a61bf588c13481c229d20  '십년지기 생매장' 진짜 이유는..\"'청부 통정' 알려질까 봐\"   \n",
       "5a2a61bf588c13481c229d21                       신영자, 억 소리나는 갑질   \n",
       "5a2a61bf588c13481c229d22   \"배신하지마\" 20대女 살인 피의자 유치장서 공범 남친에 쪽지   \n",
       "\n",
       "                                                                   mainText  \\\n",
       "id                                                                            \n",
       "5a2a61bf588c13481c229d1e   주민들은 공장에서 배출된 연기가 '남성이 매우 건강해지는 부작용'을 일으킨다며, ...   \n",
       "5a2a61bf588c13481c229d1f   점심식사를 마친 후 후식으로 커피를 마시는 사람들이 많다. 실제로 직장이 밀집돼 ...   \n",
       "5a2a61bf588c13481c229d20   (성남=연합뉴스) 최해민 기자 = 십년지기 지인을 산 채로 묻어 살해한 50대 여...   \n",
       "5a2a61bf588c13481c229d21  신영자, 적용안된 혐의→검찰 상고에서 인정\\n신영자, 얼마를 어떻게 받았나  [헤럴...   \n",
       "5a2a61bf588c13481c229d22  (청주=연합뉴스) 이승민 기자 = 지난 9월 청주의 한 하천에서 20대 여성을 둔기...   \n",
       "\n",
       "                                         keywords  \\\n",
       "id                                                  \n",
       "5a2a61bf588c13481c229d1e  ['부작용', '비아그라', '아일랜드']   \n",
       "5a2a61bf588c13481c229d1f      ['커피', '낮잠', '음식물']   \n",
       "5a2a61bf588c13481c229d20   ['살인혐의', '철원', '검찰송치']   \n",
       "5a2a61bf588c13481c229d21   ['신영자', '갑질', '롯데백화점']   \n",
       "5a2a61bf588c13481c229d22       ['공범', '살인', '과자']   \n",
       "\n",
       "                                                         extracted_keywords  \\\n",
       "id                                                                            \n",
       "5a2a61bf588c13481c229d1e    {'건강', '부작용', '공장', '남성들', '지역', '세보 효과', '연기'}   \n",
       "5a2a61bf588c13481c229d1f  {'건강', '커피', '자세', '치아', '철분', '디스크', '점심 식사',...   \n",
       "5a2a61bf588c13481c229d20  {'앙심', '남편', '성관계', '주변', '진술', '지인', '범행', '아...   \n",
       "5a2a61bf588c13481c229d21  {'네이처리퍼블릭', '롯데', '징역', '유통업체', '신영자 이사장', '검찰...   \n",
       "5a2a61bf588c13481c229d22  {'폭행', '혐의', '과자', '범행', '쪽지', '남자친구', '경찰', '...   \n",
       "\n",
       "                          negative  positive  Decision  site  \n",
       "id                                                            \n",
       "5a2a61bf588c13481c229d1e      50.0      58.0  positive  daum  \n",
       "5a2a61bf588c13481c229d1f      81.0      27.0  negative  daum  \n",
       "5a2a61bf588c13481c229d20      99.0       9.0  negative  daum  \n",
       "5a2a61bf588c13481c229d21      77.0      31.0  negative  daum  \n",
       "5a2a61bf588c13481c229d22     102.0       6.0  negative  daum  "
      ]
     },
     "execution_count": 10,
     "metadata": {},
     "output_type": "execute_result"
    }
   ],
   "source": [
    "# Daum\n",
    "daumData = pd.read_csv(os.path.join(news_senti_outcome, 'daum_news_sentiment_analysis.csv'), index_col=0, header= 0, encoding = 'utf-8')\n",
    "daumData['site'] = ['daum'] * daumData.shape[0]\n",
    "reDaumData = daumData[daumData.number_of_crawled_comment != 0]\n",
    "print (reDaumData.shape)\n",
    "reDaumData.head()"
   ]
  },
  {
   "cell_type": "markdown",
   "metadata": {},
   "source": [
    "### 댓글 파일"
   ]
  },
  {
   "cell_type": "code",
   "execution_count": 11,
   "metadata": {},
   "outputs": [
    {
     "data": {
      "text/plain": [
       "['predata_for_daum_news_comment.csv', 'predata_for_naver_news_comment.csv']"
      ]
     },
     "execution_count": 11,
     "metadata": {},
     "output_type": "execute_result"
    }
   ],
   "source": [
    "os.listdir(outcome_predata)"
   ]
  },
  {
   "cell_type": "code",
   "execution_count": 12,
   "metadata": {
    "scrolled": true
   },
   "outputs": [
    {
     "data": {
      "text/plain": [
       "(11889935, 9)"
      ]
     },
     "execution_count": 12,
     "metadata": {},
     "output_type": "execute_result"
    }
   ],
   "source": [
    "%%time\n",
    "predata_naver = outcome_predata +  'predata_for_naver_news_comment.csv'\n",
    "dfNaver = pd.read_csv(predata_naver, header = 0, encoding = 'utf-8')\n",
    "dfNaver.shape"
   ]
  },
  {
   "cell_type": "code",
   "execution_count": 17,
   "metadata": {},
   "outputs": [],
   "source": [
    "tagged_by_ct_naver_file = outcome_tagged_data+'tagged_data_by_ct_for_naver_news_comment.pickled'\n",
    "if os.path.isfile(tagged_by_ct_naver_file):\n",
    "    tagged_naver_ct = pickle.load(open(tagged_by_ct_naver_file, 'rb'))\n",
    "else:\n",
    "    tagged_naver_ct = [bm.TokenizeAndTag(ct, dfNaver.loc[idx], stopwords, TaggedDocument) for idx in tqdm(dfNaver.index)]\n",
    "    pickle.dump(open(tagged_by_ct_naver_file, 'wb'))"
   ]
  },
  {
   "cell_type": "code",
   "execution_count": null,
   "metadata": {},
   "outputs": [],
   "source": [
    "tagged_by_mecab_naver_file = outcome_tagged_data+'tagged_data_by_mecab_for_naver_news_comment.pickled'\n",
    "if os.path.isfile(tagged_by_mecab_naver_file):\n",
    "    tagged_naver_mecab = pickle.load(open(tagged_by_mecab_naver_file, 'rb'))\n",
    "else:\n",
    "    tagged_naver_mecab = [bm.TokenizeAndTag(mecab, dfNaver.loc[idx], stopwords, TaggedDocument) for idx in tqdm(dfNaver.index)]\n",
    "    pickle.dump(open(tagged_by_mecab_naver_file, 'wb'))"
   ]
  },
  {
   "cell_type": "code",
   "execution_count": 13,
   "metadata": {},
   "outputs": [
    {
     "data": {
      "text/plain": [
       "(4924599, 9)"
      ]
     },
     "execution_count": 13,
     "metadata": {},
     "output_type": "execute_result"
    }
   ],
   "source": [
    "%%time\n",
    "predata_daum = outcome_predata +  'predata_for_daum_news_comment.csv'\n",
    "dfDaum = pd.read_csv(predata_daum, header = 0, encoding = 'utf-8')\n",
    "dfDaum.shape"
   ]
  },
  {
   "cell_type": "code",
   "execution_count": 22,
   "metadata": {
    "scrolled": true
   },
   "outputs": [
    {
     "name": "stderr",
     "output_type": "stream",
     "text": [
      "  0%|          | 4272/4924599 [00:21<6:47:54, 201.04it/s]"
     ]
    },
    {
     "ename": "KeyboardInterrupt",
     "evalue": "",
     "output_type": "error",
     "traceback": [
      "\u001b[0;31m---------------------------------------------------------------------------\u001b[0m",
      "\u001b[0;31mKeyboardInterrupt\u001b[0m                         Traceback (most recent call last)",
      "\u001b[0;32m<ipython-input-22-3ef77b5592a9>\u001b[0m in \u001b[0;36m<module>\u001b[0;34m()\u001b[0m\n\u001b[1;32m      3\u001b[0m     \u001b[0mtagged_daum_ct\u001b[0m \u001b[0;34m=\u001b[0m \u001b[0mpickle\u001b[0m\u001b[0;34m.\u001b[0m\u001b[0mload\u001b[0m\u001b[0;34m(\u001b[0m\u001b[0mopen\u001b[0m\u001b[0;34m(\u001b[0m\u001b[0mtagged_by_ct_daum_file\u001b[0m\u001b[0;34m,\u001b[0m \u001b[0;34m'rb'\u001b[0m\u001b[0;34m)\u001b[0m\u001b[0;34m)\u001b[0m\u001b[0;34m\u001b[0m\u001b[0m\n\u001b[1;32m      4\u001b[0m \u001b[0;32melse\u001b[0m\u001b[0;34m:\u001b[0m\u001b[0;34m\u001b[0m\u001b[0m\n\u001b[0;32m----> 5\u001b[0;31m     \u001b[0mtagged_daum_ct\u001b[0m \u001b[0;34m=\u001b[0m \u001b[0;34m[\u001b[0m\u001b[0mbm\u001b[0m\u001b[0;34m.\u001b[0m\u001b[0mTokenizeAndTag\u001b[0m\u001b[0;34m(\u001b[0m\u001b[0mct\u001b[0m\u001b[0;34m,\u001b[0m \u001b[0mdfDaum\u001b[0m\u001b[0;34m.\u001b[0m\u001b[0mloc\u001b[0m\u001b[0;34m[\u001b[0m\u001b[0midx\u001b[0m\u001b[0;34m]\u001b[0m\u001b[0;34m,\u001b[0m \u001b[0mstopwords\u001b[0m\u001b[0;34m,\u001b[0m \u001b[0mTaggedDocument\u001b[0m\u001b[0;34m)\u001b[0m \u001b[0;32mfor\u001b[0m \u001b[0midx\u001b[0m \u001b[0;32min\u001b[0m \u001b[0mtqdm\u001b[0m\u001b[0;34m(\u001b[0m\u001b[0mdfDaum\u001b[0m\u001b[0;34m.\u001b[0m\u001b[0mindex\u001b[0m\u001b[0;34m)\u001b[0m\u001b[0;34m]\u001b[0m\u001b[0;34m\u001b[0m\u001b[0m\n\u001b[0m\u001b[1;32m      6\u001b[0m     \u001b[0mpickle\u001b[0m\u001b[0;34m.\u001b[0m\u001b[0mdump\u001b[0m\u001b[0;34m(\u001b[0m\u001b[0mopen\u001b[0m\u001b[0;34m(\u001b[0m\u001b[0mtagged_by_ct_daum_file\u001b[0m\u001b[0;34m,\u001b[0m \u001b[0;34m'wb'\u001b[0m\u001b[0;34m)\u001b[0m\u001b[0;34m)\u001b[0m\u001b[0;34m\u001b[0m\u001b[0m\n",
      "\u001b[0;32m<ipython-input-22-3ef77b5592a9>\u001b[0m in \u001b[0;36m<listcomp>\u001b[0;34m(.0)\u001b[0m\n\u001b[1;32m      3\u001b[0m     \u001b[0mtagged_daum_ct\u001b[0m \u001b[0;34m=\u001b[0m \u001b[0mpickle\u001b[0m\u001b[0;34m.\u001b[0m\u001b[0mload\u001b[0m\u001b[0;34m(\u001b[0m\u001b[0mopen\u001b[0m\u001b[0;34m(\u001b[0m\u001b[0mtagged_by_ct_daum_file\u001b[0m\u001b[0;34m,\u001b[0m \u001b[0;34m'rb'\u001b[0m\u001b[0;34m)\u001b[0m\u001b[0;34m)\u001b[0m\u001b[0;34m\u001b[0m\u001b[0m\n\u001b[1;32m      4\u001b[0m \u001b[0;32melse\u001b[0m\u001b[0;34m:\u001b[0m\u001b[0;34m\u001b[0m\u001b[0m\n\u001b[0;32m----> 5\u001b[0;31m     \u001b[0mtagged_daum_ct\u001b[0m \u001b[0;34m=\u001b[0m \u001b[0;34m[\u001b[0m\u001b[0mbm\u001b[0m\u001b[0;34m.\u001b[0m\u001b[0mTokenizeAndTag\u001b[0m\u001b[0;34m(\u001b[0m\u001b[0mct\u001b[0m\u001b[0;34m,\u001b[0m \u001b[0mdfDaum\u001b[0m\u001b[0;34m.\u001b[0m\u001b[0mloc\u001b[0m\u001b[0;34m[\u001b[0m\u001b[0midx\u001b[0m\u001b[0;34m]\u001b[0m\u001b[0;34m,\u001b[0m \u001b[0mstopwords\u001b[0m\u001b[0;34m,\u001b[0m \u001b[0mTaggedDocument\u001b[0m\u001b[0;34m)\u001b[0m \u001b[0;32mfor\u001b[0m \u001b[0midx\u001b[0m \u001b[0;32min\u001b[0m \u001b[0mtqdm\u001b[0m\u001b[0;34m(\u001b[0m\u001b[0mdfDaum\u001b[0m\u001b[0;34m.\u001b[0m\u001b[0mindex\u001b[0m\u001b[0;34m)\u001b[0m\u001b[0;34m]\u001b[0m\u001b[0;34m\u001b[0m\u001b[0m\n\u001b[0m\u001b[1;32m      6\u001b[0m     \u001b[0mpickle\u001b[0m\u001b[0;34m.\u001b[0m\u001b[0mdump\u001b[0m\u001b[0;34m(\u001b[0m\u001b[0mopen\u001b[0m\u001b[0;34m(\u001b[0m\u001b[0mtagged_by_ct_daum_file\u001b[0m\u001b[0;34m,\u001b[0m \u001b[0;34m'wb'\u001b[0m\u001b[0;34m)\u001b[0m\u001b[0;34m)\u001b[0m\u001b[0;34m\u001b[0m\u001b[0m\n",
      "\u001b[0;32m~/Documents/GitHub/Private_Project/personal_project/Basic_Module.py\u001b[0m in \u001b[0;36mTokenizeAndTag\u001b[0;34m(tagger, row, stopwords, tagDoc)\u001b[0m\n\u001b[1;32m    525\u001b[0m \u001b[0;34m\u001b[0m\u001b[0m\n\u001b[1;32m    526\u001b[0m \u001b[0;32mdef\u001b[0m \u001b[0mTokenizeAndTag\u001b[0m\u001b[0;34m(\u001b[0m\u001b[0mtagger\u001b[0m\u001b[0;34m,\u001b[0m \u001b[0mrow\u001b[0m\u001b[0;34m,\u001b[0m \u001b[0mstopwords\u001b[0m\u001b[0;34m,\u001b[0m \u001b[0mtagDoc\u001b[0m\u001b[0;34m)\u001b[0m\u001b[0;34m:\u001b[0m\u001b[0;34m\u001b[0m\u001b[0m\n\u001b[0;32m--> 527\u001b[0;31m     \u001b[0mpos\u001b[0m \u001b[0;34m=\u001b[0m \u001b[0mnav_tokenizer\u001b[0m\u001b[0;34m(\u001b[0m\u001b[0mtagger\u001b[0m\u001b[0;34m,\u001b[0m \u001b[0mrow\u001b[0m\u001b[0;34m.\u001b[0m\u001b[0mcomments\u001b[0m\u001b[0;34m,\u001b[0m \u001b[0mstopwords\u001b[0m\u001b[0;34m)\u001b[0m\u001b[0;34m\u001b[0m\u001b[0m\n\u001b[0m\u001b[1;32m    528\u001b[0m     \u001b[0mcategory\u001b[0m \u001b[0;34m=\u001b[0m \u001b[0;34m'comments'\u001b[0m\u001b[0;34m\u001b[0m\u001b[0m\n\u001b[1;32m    529\u001b[0m     \u001b[0mlabel\u001b[0m \u001b[0;34m=\u001b[0m \u001b[0;34m[\u001b[0m\u001b[0mrow\u001b[0m\u001b[0;34m.\u001b[0m\u001b[0msite\u001b[0m \u001b[0;34m+\u001b[0m \u001b[0;34m'_'\u001b[0m \u001b[0;34m+\u001b[0m \u001b[0mrow\u001b[0m\u001b[0;34m.\u001b[0m\u001b[0mcategory\u001b[0m\u001b[0;34m.\u001b[0m\u001b[0mstrip\u001b[0m\u001b[0;34m(\u001b[0m\u001b[0;34m)\u001b[0m \u001b[0;34m+\u001b[0m \u001b[0;34m'_'\u001b[0m \u001b[0;34m+\u001b[0m \u001b[0mrow\u001b[0m\u001b[0;34m.\u001b[0m\u001b[0mdate\u001b[0m \u001b[0;34m+\u001b[0m \u001b[0;34m'_'\u001b[0m \u001b[0;34m+\u001b[0m \u001b[0mstr\u001b[0m\u001b[0;34m(\u001b[0m\u001b[0mrow\u001b[0m\u001b[0;34m[\u001b[0m\u001b[0;34m'rank'\u001b[0m\u001b[0;34m]\u001b[0m\u001b[0;34m)\u001b[0m \u001b[0;34m+\u001b[0m \u001b[0;34m'_'\u001b[0m \u001b[0;34m+\u001b[0m \u001b[0mstr\u001b[0m\u001b[0;34m(\u001b[0m\u001b[0mrow\u001b[0m\u001b[0;34m.\u001b[0m\u001b[0mname\u001b[0m\u001b[0;34m)\u001b[0m\u001b[0;34m]\u001b[0m\u001b[0;34m\u001b[0m\u001b[0m\n",
      "\u001b[0;32m~/Documents/GitHub/Private_Project/personal_project/Basic_Module.py\u001b[0m in \u001b[0;36mnav_tokenizer\u001b[0;34m(tagger, corpus, stopwords)\u001b[0m\n\u001b[1;32m    354\u001b[0m \u001b[0;34m\u001b[0m\u001b[0m\n\u001b[1;32m    355\u001b[0m \u001b[0;32mdef\u001b[0m \u001b[0mnav_tokenizer\u001b[0m\u001b[0;34m(\u001b[0m\u001b[0mtagger\u001b[0m\u001b[0;34m,\u001b[0m \u001b[0mcorpus\u001b[0m\u001b[0;34m,\u001b[0m \u001b[0mstopwords\u001b[0m\u001b[0;34m)\u001b[0m\u001b[0;34m:\u001b[0m\u001b[0;34m\u001b[0m\u001b[0m\n\u001b[0;32m--> 356\u001b[0;31m     \u001b[0mpos\u001b[0m \u001b[0;34m=\u001b[0m \u001b[0mtagger\u001b[0m\u001b[0;34m.\u001b[0m\u001b[0mpos\u001b[0m\u001b[0;34m(\u001b[0m\u001b[0mcorpus\u001b[0m\u001b[0;34m)\u001b[0m\u001b[0;34m\u001b[0m\u001b[0m\n\u001b[0m\u001b[1;32m    357\u001b[0m     \u001b[0mpos\u001b[0m \u001b[0;34m=\u001b[0m \u001b[0;34m[\u001b[0m\u001b[0;34m'/'\u001b[0m\u001b[0;34m.\u001b[0m\u001b[0mjoin\u001b[0m\u001b[0;34m(\u001b[0m\u001b[0mt\u001b[0m\u001b[0;34m)\u001b[0m \u001b[0;32mfor\u001b[0m \u001b[0mt\u001b[0m \u001b[0;32min\u001b[0m \u001b[0mpos\u001b[0m \u001b[0;32mif\u001b[0m \u001b[0;32mnot\u001b[0m \u001b[0mt\u001b[0m\u001b[0;34m[\u001b[0m\u001b[0;36m0\u001b[0m\u001b[0;34m]\u001b[0m \u001b[0;32min\u001b[0m \u001b[0mstopwords\u001b[0m\u001b[0;34m]\u001b[0m\u001b[0;34m\u001b[0m\u001b[0m\n\u001b[1;32m    358\u001b[0m     \u001b[0;32mreturn\u001b[0m \u001b[0mpos\u001b[0m\u001b[0;34m\u001b[0m\u001b[0m\n",
      "\u001b[0;32m~/anaconda3/lib/python3.6/site-packages/ckonlpy/tag/_twitter.py\u001b[0m in \u001b[0;36mpos\u001b[0;34m(self, phrase)\u001b[0m\n\u001b[1;32m     39\u001b[0m                 \u001b[0mtagged\u001b[0m \u001b[0;34m+=\u001b[0m \u001b[0mtagged0\u001b[0m\u001b[0;34m\u001b[0m\u001b[0m\n\u001b[1;32m     40\u001b[0m                 \u001b[0;32mcontinue\u001b[0m\u001b[0;34m\u001b[0m\u001b[0m\n\u001b[0;32m---> 41\u001b[0;31m             \u001b[0mtagged\u001b[0m \u001b[0;34m+=\u001b[0m \u001b[0mself\u001b[0m\u001b[0;34m.\u001b[0m\u001b[0m_base\u001b[0m\u001b[0;34m.\u001b[0m\u001b[0mpos\u001b[0m\u001b[0;34m(\u001b[0m\u001b[0meojeol\u001b[0m\u001b[0;34m)\u001b[0m\u001b[0;34m\u001b[0m\u001b[0m\n\u001b[0m\u001b[1;32m     42\u001b[0m         \u001b[0;32mreturn\u001b[0m \u001b[0mtagged\u001b[0m\u001b[0;34m\u001b[0m\u001b[0m\n\u001b[1;32m     43\u001b[0m \u001b[0;34m\u001b[0m\u001b[0m\n",
      "\u001b[0;32m~/anaconda3/lib/python3.6/site-packages/konlpy/tag/_twitter.py\u001b[0m in \u001b[0;36mpos\u001b[0;34m(self, phrase, norm, stem)\u001b[0m\n\u001b[1;32m     49\u001b[0m                     \u001b[0mphrase\u001b[0m\u001b[0;34m,\u001b[0m\u001b[0;34m\u001b[0m\u001b[0m\n\u001b[1;32m     50\u001b[0m                     \u001b[0mjpype\u001b[0m\u001b[0;34m.\u001b[0m\u001b[0mjava\u001b[0m\u001b[0;34m.\u001b[0m\u001b[0mlang\u001b[0m\u001b[0;34m.\u001b[0m\u001b[0mBoolean\u001b[0m\u001b[0;34m(\u001b[0m\u001b[0mnorm\u001b[0m\u001b[0;34m)\u001b[0m\u001b[0;34m,\u001b[0m\u001b[0;34m\u001b[0m\u001b[0m\n\u001b[0;32m---> 51\u001b[0;31m                     jpype.java.lang.Boolean(stem)).toArray()\n\u001b[0m\u001b[1;32m     52\u001b[0m         \u001b[0;32mreturn\u001b[0m \u001b[0;34m[\u001b[0m\u001b[0mtuple\u001b[0m\u001b[0;34m(\u001b[0m\u001b[0mt\u001b[0m\u001b[0;34m.\u001b[0m\u001b[0mrsplit\u001b[0m\u001b[0;34m(\u001b[0m\u001b[0;34m'/'\u001b[0m\u001b[0;34m,\u001b[0m \u001b[0;36m1\u001b[0m\u001b[0;34m)\u001b[0m\u001b[0;34m)\u001b[0m \u001b[0;32mfor\u001b[0m \u001b[0mt\u001b[0m \u001b[0;32min\u001b[0m \u001b[0mtokens\u001b[0m\u001b[0;34m]\u001b[0m\u001b[0;34m\u001b[0m\u001b[0m\n\u001b[1;32m     53\u001b[0m \u001b[0;34m\u001b[0m\u001b[0m\n",
      "\u001b[0;32m~/anaconda3/lib/python3.6/site-packages/jpype/_jclass.py\u001b[0m in \u001b[0;36m_getClassFor\u001b[0;34m(javaClass)\u001b[0m\n\u001b[1;32m     58\u001b[0m \u001b[0;34m\u001b[0m\u001b[0m\n\u001b[1;32m     59\u001b[0m \u001b[0;34m\u001b[0m\u001b[0m\n\u001b[0;32m---> 60\u001b[0;31m \u001b[0;32mdef\u001b[0m \u001b[0m_getClassFor\u001b[0m\u001b[0;34m(\u001b[0m\u001b[0mjavaClass\u001b[0m\u001b[0;34m)\u001b[0m\u001b[0;34m:\u001b[0m\u001b[0;34m\u001b[0m\u001b[0m\n\u001b[0m\u001b[1;32m     61\u001b[0m     \u001b[0mname\u001b[0m \u001b[0;34m=\u001b[0m \u001b[0mjavaClass\u001b[0m\u001b[0;34m.\u001b[0m\u001b[0mgetName\u001b[0m\u001b[0;34m(\u001b[0m\u001b[0;34m)\u001b[0m\u001b[0;34m\u001b[0m\u001b[0m\n\u001b[1;32m     62\u001b[0m     \u001b[0;32mif\u001b[0m \u001b[0mname\u001b[0m \u001b[0;32min\u001b[0m \u001b[0m_CLASSES\u001b[0m\u001b[0;34m:\u001b[0m\u001b[0;34m\u001b[0m\u001b[0m\n",
      "\u001b[0;31mKeyboardInterrupt\u001b[0m: "
     ]
    },
    {
     "name": "stderr",
     "output_type": "stream",
     "text": [
      "\r",
      "  0%|          | 4272/4924599 [00:40<12:48:00, 106.78it/s]"
     ]
    }
   ],
   "source": [
    "tagged_by_ct_daum_file = outcome_tagged_data+'tagged_data_by_ct_for_daum_news_comment.pickled'\n",
    "if os.path.isfile(tagged_by_ct_daum_file):\n",
    "    tagged_daum_ct = pickle.load(open(tagged_by_ct_daum_file, 'rb'))\n",
    "else:\n",
    "    tagged_daum_ct = [bm.TokenizeAndTag(ct, dfDaum.loc[idx], stopwords, TaggedDocument) for idx in tqdm(dfDaum.index)]\n",
    "    pickle.dump(open(tagged_by_ct_daum_file, 'wb'))"
   ]
  },
  {
   "cell_type": "code",
   "execution_count": null,
   "metadata": {},
   "outputs": [],
   "source": [
    "tagged_by_mecab_daum_file = outcome_tagged_data+'tagged_data_by_mecab_for_daum_news_comment.pickled'\n",
    "if os.path.isfile(tagged_by_mecab_daum_file):\n",
    "    tagged_daum_mecab = pickle.load(open(tagged_by_mecab_daum_file, 'rb'))\n",
    "else:\n",
    "    tagged_daum_mecab = [bm.TokenizeAndTag(mecab, dfDaum.loc[idx], stopwords, TaggedDocument) for idx in tqdm(dfDaum.index)]\n",
    "    pickle.dump(open(tagged_by_mecab_daum_file, 'wb'))"
   ]
  },
  {
   "cell_type": "markdown",
   "metadata": {},
   "source": [
    "### Twitter & Mecab\n",
    "> * 메모리, 시간상의 문제점\n",
    ">> * 메모리는 dataframe apply로 하면 kernel이 죽어버림.\n",
    ">> * 시간 for 문으로 할 수 있는건 한번에 해버리는게 낫겠지? "
   ]
  },
  {
   "cell_type": "code",
   "execution_count": 13,
   "metadata": {},
   "outputs": [
    {
     "name": "stdout",
     "output_type": "stream",
     "text": [
      "ct\n",
      "Load model\n",
      "Load model\n",
      "Load model\n",
      "mecab\n",
      "Load model\n",
      "Load model\n",
      "Load model\n"
     ]
    }
   ],
   "source": [
    "taggerName_ct = 'ct'\n",
    "print ('{}'.format(taggerName_ct))\n",
    "model1_ct = doc2vec.Doc2Vec.load(loadModelPath+'doc2vec_size-1000_epoch-20_window-10_negative-7_hs-0_dm-1_dm_concat-0_dm_mean-1_by-ct.model')\n",
    "name1_ct = '-'.join(re.split('[\\(\\),\\/]',str(model1_ct)))+taggerName_ct\n",
    "print ('Load model')\n",
    "model2_ct = doc2vec.Doc2Vec.load(loadModelPath+'doc2vec_size-1000_epoch-20_window-5_negative-7_hs-0_dm-1_dm_concat-1_dm_mean-0_by-ct.model')\n",
    "name2_ct = '-'.join(re.split('[\\(\\),\\/]',str(model2_ct)))+taggerName_ct\n",
    "print ('Load model')\n",
    "model3_ct = doc2vec.Doc2Vec.load(loadModelPath+'doc2vec_size-1000_epoch-20_window-None_negative-7_hs-0_dm-0_dm_concat-0_dm_mean-0_by-ct.model')\n",
    "name3_ct = '-'.join(re.split('[\\(\\),\\/]',str(model3_ct)))+taggerName_ct\n",
    "print ('Load model')\n",
    "taggerName_mecab = 'mecab'\n",
    "print ('{}'.format(taggerName_mecab))\n",
    "model1_mecab = doc2vec.Doc2Vec.load(loadModelPath+'doc2vec_size-1000_epoch-20_window-10_negative-7_hs-0_dm-1_dm_concat-0_dm_mean-1_by-mecab.model')\n",
    "name1_mecab = '-'.join(re.split('[\\(\\),\\/]',str(model1_mecab)))+taggerName_mecab\n",
    "print ('Load model')\n",
    "model2_mecab = doc2vec.Doc2Vec.load(loadModelPath+'doc2vec_size-1000_epoch-20_window-5_negative-7_hs-0_dm-1_dm_concat-1_dm_mean-0_by-mecab.model')\n",
    "name2_mecab = '-'.join(re.split('[\\(\\),\\/]',str(model2_mecab)))+taggerName_mecab\n",
    "print ('Load model')\n",
    "model3_mecab = doc2vec.Doc2Vec.load(loadModelPath+'doc2vec_size-1000_epoch-20_window-None_negative-7_hs-0_dm-0_dm_concat-0_dm_mean-0_by-mecab.model')\n",
    "name3_mecab = '-'.join(re.split('[\\(\\),\\/]',str(model3_mecab)))+taggerName_mecab\n",
    "print ('Load model')"
   ]
  },
  {
   "cell_type": "code",
   "execution_count": 14,
   "metadata": {
    "scrolled": true
   },
   "outputs": [
    {
     "ename": "UnicodeDecodeError",
     "evalue": "'cp949' codec can't decode byte 0x90 in position 52: illegal multibyte sequence",
     "output_type": "error",
     "traceback": [
      "\u001b[1;31m---------------------------------------------------------------------------\u001b[0m",
      "\u001b[1;31mUnicodeDecodeError\u001b[0m                        Traceback (most recent call last)",
      "\u001b[1;32m<timed exec>\u001b[0m in \u001b[0;36m<module>\u001b[1;34m()\u001b[0m\n",
      "\u001b[1;31mUnicodeDecodeError\u001b[0m: 'cp949' codec can't decode byte 0x90 in position 52: illegal multibyte sequence"
     ]
    }
   ],
   "source": [
    "%%time\n",
    "for idx in reNaverData.index:\n",
    "    commentFile = os.path.join(naverCommentsPath, idx+'.csv')\n",
    "    '''\n",
    "    if os.path.isfile(commentFile):\n",
    "        print (idx)\n",
    "        data = reNaverData.loc[idx]\n",
    "        ## model 1 ct\n",
    "        bm.PipeLineForSentimentAnalysis(naverCommentsPath, classifierPath, outcomeNaverCommentsPath, data, ct, stopwords, TaggedDocument, model1_ct, name1_ct)\n",
    "        ## model 2 ct\n",
    "        bm.PipeLineForSentimentAnalysis(naverCommentsPath, classifierPath, outcomeNaverCommentsPath, data, ct, stopwords, TaggedDocument, model2_ct, name2_ct)\n",
    "        ## model 3 ct\n",
    "        bm.PipeLineForSentimentAnalysis(naverCommentsPath, classifierPath, outcomeNaverCommentsPath, data, ct, stopwords, TaggedDocument, model3_ct, name3_ct)  \n",
    "\n",
    "        ## model 1 mecab\n",
    "        bm.PipeLineForSentimentAnalysis(naverCommentsPath, classifierPath, outcomeNaverCommentsPath, data, mecab, stopwords, TaggedDocument, model1_mecab, name1_mecab)\n",
    "        ## model 2 mecab\n",
    "        bm.PipeLineForSentimentAnalysis(naverCommentsPath, classifierPath, outcomeNaverCommentsPath, data, mecab, stopwords, TaggedDocument, model2_mecab, name2_mecab)\n",
    "        ## model 3 mecab\n",
    "        bm.PipeLineForSentimentAnalysis(naverCommentsPath, classifierPath, outcomeNaverCommentsPath, data, mecab, stopwords, TaggedDocument, model3_mecab, name3_mecab)  \n",
    "    '''"
   ]
  },
  {
   "cell_type": "code",
   "execution_count": 15,
   "metadata": {},
   "outputs": [
    {
     "ename": "UnicodeDecodeError",
     "evalue": "'cp949' codec can't decode byte 0x90 in position 52: illegal multibyte sequence",
     "output_type": "error",
     "traceback": [
      "\u001b[1;31m---------------------------------------------------------------------------\u001b[0m",
      "\u001b[1;31mUnicodeDecodeError\u001b[0m                        Traceback (most recent call last)",
      "\u001b[1;32m<timed exec>\u001b[0m in \u001b[0;36m<module>\u001b[1;34m()\u001b[0m\n",
      "\u001b[1;31mUnicodeDecodeError\u001b[0m: 'cp949' codec can't decode byte 0x90 in position 52: illegal multibyte sequence"
     ]
    }
   ],
   "source": [
    "%%time\n",
    "for idx in reDaumData.index:\n",
    "    commentFile = os.path.join(daumCommentsPath, idx+'.csv')\n",
    "    if os.path.isfile(commentFile):\n",
    "        if not os.path.isdir(os.path.join(daumCommentsPath, idx)):\n",
    "            data = reDaumData.loc[idx]\n",
    "            ## model 1 ct\n",
    "            bm.PipeLineForSentimentAnalysis(daumCommentsPath, classifierPath, outcomeDaumCommentsPath, data, ct, stopwords, TaggedDocument, model1_ct, name1_ct)\n",
    "            ## model 2 ct\n",
    "            bm.PipeLineForSentimentAnalysis(daumCommentsPath, classifierPath, outcomeDaumCommentsPath, data, ct, stopwords, TaggedDocument, model2_ct, name2_ct)\n",
    "            ## model 3 ct\n",
    "            bm.PipeLineForSentimentAnalysis(daumCommentsPath, classifierPath, outcomeDaumCommentsPath, data, ct, stopwords, TaggedDocument, model3_ct, name3_ct)  \n",
    "\n",
    "            ## model 1 mecab\n",
    "            bm.PipeLineForSentimentAnalysis(daumCommentsPath, classifierPath, outcomeDaumCommentsPath, data, mecab, stopwords, TaggedDocument, model1_mecab, name1_mecab)\n",
    "            ## model 2 mecab\n",
    "            bm.PipeLineForSentimentAnalysis(daumCommentsPath, classifierPath, outcomeDaumCommentsPath, data, mecab, stopwords, TaggedDocument, model2_mecab, name2_mecab)\n",
    "            ## model 3 mecab\n",
    "            bm.PipeLineForSentimentAnalysis(daumCommentsPath, classifierPath, outcomeDaumCommentsPath, data, mecab, stopwords, TaggedDocument, model3_mecab, name3_mecab)  "
   ]
  },
  {
   "cell_type": "code",
   "execution_count": null,
   "metadata": {},
   "outputs": [],
   "source": []
  }
 ],
 "metadata": {
  "kernelspec": {
   "display_name": "Python 3",
   "language": "python",
   "name": "python3"
  },
  "language_info": {
   "codemirror_mode": {
    "name": "ipython",
    "version": 3
   },
   "file_extension": ".py",
   "mimetype": "text/x-python",
   "name": "python",
   "nbconvert_exporter": "python",
   "pygments_lexer": "ipython3",
   "version": "3.6.4"
  },
  "widgets": {
   "application/vnd.jupyter.widget-state+json": {
    "state": {},
    "version_major": 2,
    "version_minor": 0
   }
  }
 },
 "nbformat": 4,
 "nbformat_minor": 2
}
