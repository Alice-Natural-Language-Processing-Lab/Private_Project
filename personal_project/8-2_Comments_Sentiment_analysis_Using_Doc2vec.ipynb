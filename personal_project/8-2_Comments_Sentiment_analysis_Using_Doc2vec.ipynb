{
 "cells": [
  {
   "cell_type": "markdown",
   "metadata": {},
   "source": [
    "# 수집된 뉴스 기사 및 댓글에 대한 감정 분석\n",
    "## * Doc2Vec \n",
    "* 데이터 \n",
    "> 2017년 12월 1일부터 2018년 2월 1일까지 63일간 [네이버](http://www.naver.com)와 [다음](http://www.daum.net)의 랭킹뉴스와 뉴스의 댓글을 크롤링함."
   ]
  },
  {
   "cell_type": "code",
   "execution_count": null,
   "metadata": {
    "scrolled": true
   },
   "outputs": [],
   "source": [
    "import pickle\n",
    "import html\n",
    "import multiprocessing\n",
    "from collections import namedtuple, OrderedDict\n",
    "import re\n",
    "import sys\n",
    "import os\n",
    "from glob import glob\n",
    "import warnings\n",
    "\n",
    "os.environ['KERAS_BACKEND']='tensorflow'\n",
    "\n",
    "from numba import jit\n",
    "import numpy as np\n",
    "from tqdm import tqdm\n",
    "tqdm.pandas(desc=\"progress-bar\")\n",
    "import pandas as pd\n",
    "\n",
    "from gensim.models import doc2vec, KeyedVectors\n",
    "from gensim.models.doc2vec import TaggedDocument\n",
    "\n",
    "from konlpy.utils import pprint\n",
    "\n",
    "from sklearn.model_selection import train_test_split\n",
    "from sklearn.linear_model import LogisticRegression\n",
    "from sklearn.ensemble import RandomForestClassifier\n",
    "from sklearn.svm import SVC\n",
    "from sklearn.metrics import confusion_matrix, classification_report, roc_curve,  accuracy_score\n",
    "from sklearn.feature_extraction.text import TfidfVectorizer\n",
    "from sklearn.preprocessing import scale, MinMaxScaler\n",
    "from sklearn.manifold import TSNE\n",
    "\n",
    "import keras.backend.tensorflow_backend as K\n",
    "from keras.preprocessing import sequence\n",
    "from keras_tqdm import TQDMCallback, TQDMNotebookCallback\n",
    "from keras.models import Model, Sequential\n",
    "from keras.regularizers import l2\n",
    "from keras.optimizers import SGD\n",
    "from keras.utils import np_utils\n",
    "from keras.layers import Input, Flatten, Dense, Embedding, embeddings, merge, Dropout, Activation,  LSTM, Bidirectional, SimpleRNN, GRU\n",
    "from keras.layers.convolutional import Conv1D, Conv2D\n",
    "from keras.layers.pooling import MaxPooling1D, GlobalMaxPooling1D\n",
    "from keras.layers.normalization import BatchNormalization\n",
    "from keras.layers.core import SpatialDropout1D\n",
    "from keras.utils import np_utils\n",
    "from tensorflow.python.client import device_lib\n",
    "from keras.layers.merge import dot\n",
    "\n",
    "import xgboost as xgb\n",
    "\n",
    "import matplotlib.pyplot as plt\n",
    "\n",
    "import bokeh.plotting as bp\n",
    "from bokeh.models import HoverTool, BoxSelectTool\n",
    "from bokeh.plotting import figure, show, output_notebook"
   ]
  },
  {
   "cell_type": "code",
   "execution_count": null,
   "metadata": {},
   "outputs": [],
   "source": [
    "import Database_Handler as dh\n",
    "import Basic_Module as bm"
   ]
  },
  {
   "cell_type": "code",
   "execution_count": null,
   "metadata": {},
   "outputs": [],
   "source": [
    "import dask.dataframe as dd"
   ]
  },
  {
   "cell_type": "code",
   "execution_count": null,
   "metadata": {},
   "outputs": [],
   "source": [
    "from ckonlpy.tag import Twitter\n",
    "from konlpy.tag import Mecab\n",
    "ct = Twitter()\n",
    "mecab = Mecab()"
   ]
  },
  {
   "cell_type": "markdown",
   "metadata": {},
   "source": [
    "## Stopwords"
   ]
  },
  {
   "cell_type": "code",
   "execution_count": null,
   "metadata": {},
   "outputs": [],
   "source": [
    "stopwords = open('./data/stopwordsList.txt',encoding='utf-8').readlines()\n",
    "stopwords = list(map(lambda x: x.strip(), stopwords))"
   ]
  },
  {
   "cell_type": "markdown",
   "metadata": {},
   "source": [
    "## TaggedDocument For Doc2Vec"
   ]
  },
  {
   "cell_type": "code",
   "execution_count": null,
   "metadata": {},
   "outputs": [],
   "source": [
    "TaggedDocument = namedtuple('TaggedDocument', 'words tags sentiment')"
   ]
  },
  {
   "cell_type": "markdown",
   "metadata": {},
   "source": [
    "## Load Data"
   ]
  },
  {
   "cell_type": "markdown",
   "metadata": {},
   "source": [
    "#### Path"
   ]
  },
  {
   "cell_type": "code",
   "execution_count": null,
   "metadata": {},
   "outputs": [],
   "source": [
    "if sys.platform =='darwin':\n",
    "    loadModelPath = '/Volumes/disk1/model/'\n",
    "    classifierPath = '/Volumes/disk1/data/pre_data/classifier/'\n",
    "    news_senti_outcome = '/Volumes/disk1/outcome_for_News_sentiment_analysis/'\n",
    "    daumCommentsPath = '/Volumes/disk1/data/daum_Comments/'\n",
    "    naverCommentsPath = '/Volumes/disk1/data/naver_Comments/'\n",
    "    outcomeDaumCommentsPath = '/Volumes/disk1/outcome_comments_for_daum/'\n",
    "    outcomeNaverCommentsPath = '/Volumes/disk1/outcome_comments_for_naver/'\n",
    "    outcome_predata = '/Volumes/disk1/pre_data_for_comments/'\n",
    "    outcome_tagged_data = '/Volumes/disk1/pre_data_for_comments2/'\n",
    "elif sys.platform =='win32':\n",
    "    loadModelPath = 'd:/model/'\n",
    "    classifierPath = 'd:/data/pre_data/classifier/'\n",
    "    newsPath = './data/pre_data/news_sentiment/'\n",
    "    news_senti_outcome = './outcome_for_News_sentiment_analysis/'\n",
    "    daumCommentsPath = 'd:/data/daum_Comments/'\n",
    "    naverCommentsPath = 'd:/data/naver_Comments/'\n",
    "    outcomeDaumCommentsPath = 'd:/outcome_comments_for_daum/'\n",
    "    outcomeNaverCommentsPath = 'd:/outcome_comments_for_naver/'\n",
    "    outcome_predata = 'd:/pre_data_for_comments/'\n",
    "    outcome_tagged_data = 'd:/pre_data_for_comments2/'"
   ]
  },
  {
   "cell_type": "markdown",
   "metadata": {},
   "source": [
    "#### News "
   ]
  },
  {
   "cell_type": "code",
   "execution_count": null,
   "metadata": {},
   "outputs": [],
   "source": [
    "os.listdir(news_senti_outcome)"
   ]
  },
  {
   "cell_type": "code",
   "execution_count": null,
   "metadata": {},
   "outputs": [],
   "source": [
    "# Naver\n",
    "naverData = pd.read_csv(os.path.join(news_senti_outcome, 'naver_news_sentiment_analysis.csv'), index_col=0, header= 0, encoding = 'utf-8')\n",
    "naverData['site'] = ['Naver'] * naverData.shape[0]\n",
    "reNaverData = naverData[naverData.number_of_crawled_comment != 0]\n",
    "print (reNaverData.shape)\n",
    "reNaverData.head()"
   ]
  },
  {
   "cell_type": "code",
   "execution_count": null,
   "metadata": {
    "scrolled": true
   },
   "outputs": [],
   "source": [
    "# Daum\n",
    "daumData = pd.read_csv(os.path.join(news_senti_outcome, 'daum_news_sentiment_analysis.csv'), index_col=0, header= 0, encoding = 'utf-8')\n",
    "daumData['site'] = ['daum'] * daumData.shape[0]\n",
    "reDaumData = daumData[daumData.number_of_crawled_comment != 0]\n",
    "print (reDaumData.shape)\n",
    "reDaumData.head()"
   ]
  },
  {
   "cell_type": "markdown",
   "metadata": {},
   "source": [
    "### 댓글 파일"
   ]
  },
  {
   "cell_type": "code",
   "execution_count": null,
   "metadata": {},
   "outputs": [],
   "source": [
    "os.listdir(outcome_predata)"
   ]
  },
  {
   "cell_type": "code",
   "execution_count": null,
   "metadata": {
    "scrolled": true
   },
   "outputs": [],
   "source": [
    "%%time\n",
    "predata_naver = outcome_predata +  'filtered_predata_for_naver_news_comment.csv'\n",
    "dfNaver = pd.read_csv(predata_naver, header = 0, encoding = 'utf-8')\n",
    "print (dfNaver.shape)"
   ]
  },
  {
   "cell_type": "code",
   "execution_count": null,
   "metadata": {
    "scrolled": true
   },
   "outputs": [],
   "source": [
    "%%time\n",
    "tagged_by_ct_naver_file = outcome_tagged_data+'tagged_data_by_ct_for_naver_news_comment.pickled'\n",
    "if os.path.isfile(tagged_by_ct_naver_file):\n",
    "    tagged_naver_ct = pickle.load(open(tagged_by_ct_naver_file, 'rb'))\n",
    "else:\n",
    "    tagged_naver_ct = [bm.TokenizeAndTag(ct, dfNaver.loc[idx], stopwords, TaggedDocument) for idx in tqdm(dfNaver.index)]\n",
    "    pickle.dump(open(tagged_by_ct_naver_file, 'wb'))"
   ]
  },
  {
   "cell_type": "code",
   "execution_count": null,
   "metadata": {},
   "outputs": [],
   "source": [
    "%%time\n",
    "tagged_by_mecab_naver_file = outcome_tagged_data+'tagged_data_by_mecab_for_naver_news_comment.pickled'\n",
    "if os.path.isfile(tagged_by_mecab_naver_file):\n",
    "    tagged_naver_mecab = pickle.load(open(tagged_by_mecab_naver_file, 'rb'))\n",
    "else:\n",
    "    tagged_naver_mecab = [bm.TokenizeAndTag(mecab, dfNaver.loc[idx], stopwords, TaggedDocument) for idx in tqdm(dfNaver.index)]\n",
    "    pickle.dump(open(tagged_by_mecab_naver_file, 'wb'))"
   ]
  },
  {
   "cell_type": "code",
   "execution_count": null,
   "metadata": {},
   "outputs": [],
   "source": [
    "%%time\n",
    "predata_daum = outcome_predata +  'filtered_predata_for_daum_news_comment.csv'\n",
    "dfDaum = pd.read_csv(predata_daum, header = 0, encoding = 'utf-8')\n",
    "print (dfDaum.shape)"
   ]
  },
  {
   "cell_type": "code",
   "execution_count": null,
   "metadata": {
    "scrolled": true
   },
   "outputs": [],
   "source": [
    "%%time\n",
    "tagged_by_ct_daum_file = outcome_tagged_data+'tagged_data_by_ct_for_daum_news_comment.pickled'\n",
    "if os.path.isfile(tagged_by_ct_daum_file):\n",
    "    tagged_daum_ct = pickle.load(open(tagged_by_ct_daum_file, 'rb'))\n",
    "else:\n",
    "    tagged_daum_ct = [bm.TokenizeAndTag(ct, dfDaum.loc[idx], stopwords, TaggedDocument) for idx in tqdm(dfDaum.index)]\n",
    "    pickle.dump(open(tagged_by_ct_daum_file, 'wb'))"
   ]
  },
  {
   "cell_type": "code",
   "execution_count": null,
   "metadata": {},
   "outputs": [],
   "source": [
    "%%time\n",
    "tagged_by_mecab_daum_file = outcome_tagged_data+'tagged_data_by_mecab_for_daum_news_comment.pickled'\n",
    "if os.path.isfile(tagged_by_mecab_daum_file):\n",
    "    tagged_daum_mecab = pickle.load(open(tagged_by_mecab_daum_file, 'rb'))\n",
    "else:\n",
    "    tagged_daum_mecab = [bm.TokenizeAndTag(mecab, dfDaum.loc[idx], stopwords, TaggedDocument) for idx in tqdm(dfDaum.index)]\n",
    "    pickle.dump(open(tagged_by_mecab_daum_file, 'wb'))"
   ]
  },
  {
   "cell_type": "markdown",
   "metadata": {},
   "source": [
    "### Twitter & Mecab\n",
    "> * 메모리, 시간상의 문제점\n",
    ">> * 메모리는 dataframe apply로 하면 kernel이 죽어버림.\n",
    ">> * 시간 for 문으로 할 수 있는건 한번에 해버리는게 낫겠지? "
   ]
  },
  {
   "cell_type": "code",
   "execution_count": null,
   "metadata": {},
   "outputs": [],
   "source": [
    "taggerName_ct = 'ct'\n",
    "print ('{}'.format(taggerName_ct))\n",
    "model1_ct = doc2vec.Doc2Vec.load(loadModelPath+'doc2vec_size-1000_epoch-20_window-10_negative-7_hs-0_dm-1_dm_concat-0_dm_mean-1_by-ct.model')\n",
    "name1_ct = '-'.join(re.split('[\\(\\),\\/]',str(model1_ct)))+taggerName_ct\n",
    "print ('Load model')\n",
    "model2_ct = doc2vec.Doc2Vec.load(loadModelPath+'doc2vec_size-1000_epoch-20_window-5_negative-7_hs-0_dm-1_dm_concat-1_dm_mean-0_by-ct.model')\n",
    "name2_ct = '-'.join(re.split('[\\(\\),\\/]',str(model2_ct)))+taggerName_ct\n",
    "print ('Load model')\n",
    "model3_ct = doc2vec.Doc2Vec.load(loadModelPath+'doc2vec_size-1000_epoch-20_window-None_negative-7_hs-0_dm-0_dm_concat-0_dm_mean-0_by-ct.model')\n",
    "name3_ct = '-'.join(re.split('[\\(\\),\\/]',str(model3_ct)))+taggerName_ct\n",
    "print ('Load model')\n",
    "taggerName_mecab = 'mecab'\n",
    "print ('{}'.format(taggerName_mecab))\n",
    "model1_mecab = doc2vec.Doc2Vec.load(loadModelPath+'doc2vec_size-1000_epoch-20_window-10_negative-7_hs-0_dm-1_dm_concat-0_dm_mean-1_by-mecab.model')\n",
    "name1_mecab = '-'.join(re.split('[\\(\\),\\/]',str(model1_mecab)))+taggerName_mecab\n",
    "print ('Load model')\n",
    "model2_mecab = doc2vec.Doc2Vec.load(loadModelPath+'doc2vec_size-1000_epoch-20_window-5_negative-7_hs-0_dm-1_dm_concat-1_dm_mean-0_by-mecab.model')\n",
    "name2_mecab = '-'.join(re.split('[\\(\\),\\/]',str(model2_mecab)))+taggerName_mecab\n",
    "print ('Load model')\n",
    "model3_mecab = doc2vec.Doc2Vec.load(loadModelPath+'doc2vec_size-1000_epoch-20_window-None_negative-7_hs-0_dm-0_dm_concat-0_dm_mean-0_by-mecab.model')\n",
    "name3_mecab = '-'.join(re.split('[\\(\\),\\/]',str(model3_mecab)))+taggerName_mecab\n",
    "print ('Load model')"
   ]
  },
  {
   "cell_type": "code",
   "execution_count": null,
   "metadata": {
    "scrolled": true
   },
   "outputs": [],
   "source": [
    "%%time\n",
    "for idx in reNaverData.index:\n",
    "    commentFile = os.path.join(naverCommentsPath, idx+'.csv')\n",
    "    '''\n",
    "    if os.path.isfile(commentFile):\n",
    "        print (idx)\n",
    "        data = reNaverData.loc[idx]\n",
    "        ## model 1 ct\n",
    "        bm.PipeLineForSentimentAnalysis(naverCommentsPath, classifierPath, outcomeNaverCommentsPath, data, ct, stopwords, TaggedDocument, model1_ct, name1_ct)\n",
    "        ## model 2 ct\n",
    "        bm.PipeLineForSentimentAnalysis(naverCommentsPath, classifierPath, outcomeNaverCommentsPath, data, ct, stopwords, TaggedDocument, model2_ct, name2_ct)\n",
    "        ## model 3 ct\n",
    "        bm.PipeLineForSentimentAnalysis(naverCommentsPath, classifierPath, outcomeNaverCommentsPath, data, ct, stopwords, TaggedDocument, model3_ct, name3_ct)  \n",
    "\n",
    "        ## model 1 mecab\n",
    "        bm.PipeLineForSentimentAnalysis(naverCommentsPath, classifierPath, outcomeNaverCommentsPath, data, mecab, stopwords, TaggedDocument, model1_mecab, name1_mecab)\n",
    "        ## model 2 mecab\n",
    "        bm.PipeLineForSentimentAnalysis(naverCommentsPath, classifierPath, outcomeNaverCommentsPath, data, mecab, stopwords, TaggedDocument, model2_mecab, name2_mecab)\n",
    "        ## model 3 mecab\n",
    "        bm.PipeLineForSentimentAnalysis(naverCommentsPath, classifierPath, outcomeNaverCommentsPath, data, mecab, stopwords, TaggedDocument, model3_mecab, name3_mecab)  \n",
    "    '''"
   ]
  },
  {
   "cell_type": "code",
   "execution_count": null,
   "metadata": {},
   "outputs": [],
   "source": [
    "%%time\n",
    "for idx in reDaumData.index:\n",
    "    commentFile = os.path.join(daumCommentsPath, idx+'.csv')\n",
    "    if os.path.isfile(commentFile):\n",
    "        if not os.path.isdir(os.path.join(daumCommentsPath, idx)):\n",
    "            data = reDaumData.loc[idx]\n",
    "            ## model 1 ct\n",
    "            bm.PipeLineForSentimentAnalysis(daumCommentsPath, classifierPath, outcomeDaumCommentsPath, data, ct, stopwords, TaggedDocument, model1_ct, name1_ct)\n",
    "            ## model 2 ct\n",
    "            bm.PipeLineForSentimentAnalysis(daumCommentsPath, classifierPath, outcomeDaumCommentsPath, data, ct, stopwords, TaggedDocument, model2_ct, name2_ct)\n",
    "            ## model 3 ct\n",
    "            bm.PipeLineForSentimentAnalysis(daumCommentsPath, classifierPath, outcomeDaumCommentsPath, data, ct, stopwords, TaggedDocument, model3_ct, name3_ct)  \n",
    "\n",
    "            ## model 1 mecab\n",
    "            bm.PipeLineForSentimentAnalysis(daumCommentsPath, classifierPath, outcomeDaumCommentsPath, data, mecab, stopwords, TaggedDocument, model1_mecab, name1_mecab)\n",
    "            ## model 2 mecab\n",
    "            bm.PipeLineForSentimentAnalysis(daumCommentsPath, classifierPath, outcomeDaumCommentsPath, data, mecab, stopwords, TaggedDocument, model2_mecab, name2_mecab)\n",
    "            ## model 3 mecab\n",
    "            bm.PipeLineForSentimentAnalysis(daumCommentsPath, classifierPath, outcomeDaumCommentsPath, data, mecab, stopwords, TaggedDocument, model3_mecab, name3_mecab)  "
   ]
  },
  {
   "cell_type": "code",
   "execution_count": null,
   "metadata": {},
   "outputs": [],
   "source": []
  }
 ],
 "metadata": {
  "kernelspec": {
   "display_name": "Python 3",
   "language": "python",
   "name": "python3"
  },
  "language_info": {
   "codemirror_mode": {
    "name": "ipython",
    "version": 3
   },
   "file_extension": ".py",
   "mimetype": "text/x-python",
   "name": "python",
   "nbconvert_exporter": "python",
   "pygments_lexer": "ipython3",
   "version": "3.6.4"
  },
  "widgets": {
   "application/vnd.jupyter.widget-state+json": {
    "state": {},
    "version_major": 2,
    "version_minor": 0
   }
  }
 },
 "nbformat": 4,
 "nbformat_minor": 2
}
