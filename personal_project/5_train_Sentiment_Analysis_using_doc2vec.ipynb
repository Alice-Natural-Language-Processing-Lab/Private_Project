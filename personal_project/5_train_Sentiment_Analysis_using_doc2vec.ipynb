{
 "cells": [
  {
   "cell_type": "markdown",
   "metadata": {},
   "source": [
    "# Sentiment Analysis\n",
    "> * Positive or Negative"
   ]
  },
  {
   "cell_type": "code",
   "execution_count": 1,
   "metadata": {},
   "outputs": [
    {
     "name": "stderr",
     "output_type": "stream",
     "text": [
      "C:\\Users\\pc\\Anaconda3\\lib\\site-packages\\gensim\\utils.py:860: UserWarning: detected Windows; aliasing chunkize to chunkize_serial\n",
      "  warnings.warn(\"detected Windows; aliasing chunkize to chunkize_serial\")\n"
     ]
    }
   ],
   "source": [
    "import os\n",
    "from glob import glob\n",
    "import pandas as pd\n",
    "import html\n",
    "import itertools\n",
    "import pickle\n",
    "import re\n",
    "\n",
    "from collections import namedtuple\n",
    "from gensim.models import doc2vec\n",
    "import multiprocessing\n",
    "from konlpy.tag import Mecab\n",
    "from konlpy.utils import pprint\n",
    "import numpy as np\n",
    "from ckonlpy.tag import Twitter as ctwitter\n",
    "from sklearn.model_selection import train_test_split\n",
    "from sklearn.linear_model import LogisticRegression\n",
    "from sklearn.ensemble import RandomForestRegressor\n",
    "from gensim.models.doc2vec import TaggedDocument\n",
    "from sklearn.metrics import classification_report,accuracy_score\n",
    "mecab = Mecab()\n",
    "ct = ctwitter()"
   ]
  },
  {
   "cell_type": "code",
   "execution_count": 2,
   "metadata": {},
   "outputs": [],
   "source": [
    "from tqdm import tqdm\n",
    "tqdm.pandas(desc=\"progress-bar\")"
   ]
  },
  {
   "cell_type": "markdown",
   "metadata": {},
   "source": [
    "## Doc2Vec"
   ]
  },
  {
   "cell_type": "code",
   "execution_count": 3,
   "metadata": {},
   "outputs": [],
   "source": [
    "TaggedDocument = namedtuple('TaggedDocument', 'words tags')"
   ]
  },
  {
   "cell_type": "markdown",
   "metadata": {},
   "source": [
    "#### twitter"
   ]
  },
  {
   "cell_type": "code",
   "execution_count": 4,
   "metadata": {},
   "outputs": [],
   "source": [
    "train = pickle.load(open('./data/pre_data/train_test_Data/pre_by_ct_train.pickled','rb'))"
   ]
  },
  {
   "cell_type": "code",
   "execution_count": 5,
   "metadata": {},
   "outputs": [],
   "source": [
    "model = doc2vec.Doc2Vec.load('./model/doc2vec_size2000_epoch15_window5_dbow_words_by_ct.model')"
   ]
  },
  {
   "cell_type": "code",
   "execution_count": 6,
   "metadata": {
    "scrolled": true
   },
   "outputs": [
    {
     "name": "stderr",
     "output_type": "stream",
     "text": [
      "100%|██████████| 442359/442359 [44:55<00:00, 164.12it/s]\n",
      "100%|██████████| 442359/442359 [00:12<00:00, 34653.68it/s]\n"
     ]
    }
   ],
   "source": [
    "train_x = [model.infer_vector(doc.words) for doc in tqdm(train)]\n",
    "train_y = [doc.tags[0] for doc in tqdm(train)]\n",
    "pickle.dump(train_x,open('./data/pre_data/train_test_Data/train_x_by_ct_from_doc2vec_size2000_epoch15_window5_dbow_words.pickled','wb'))\n",
    "pickle.dump(train_y,open('./data/pre_data/train_test_Data/train_y_by_ct_from_doc2vec_size2000_epoch15_window5_dbow_words.pickled','wb'))"
   ]
  },
  {
   "cell_type": "code",
   "execution_count": 7,
   "metadata": {},
   "outputs": [],
   "source": [
    "del train\n",
    "del train_x\n",
    "del train_y"
   ]
  },
  {
   "cell_type": "code",
   "execution_count": 8,
   "metadata": {},
   "outputs": [],
   "source": [
    "test = pickle.load(open('./data/pre_data/train_test_Data/pre_by_ct_test.pickled','rb'))"
   ]
  },
  {
   "cell_type": "code",
   "execution_count": 9,
   "metadata": {},
   "outputs": [
    {
     "name": "stderr",
     "output_type": "stream",
     "text": [
      "100%|██████████| 49151/49151 [06:42<00:00, 122.03it/s]\n",
      "100%|██████████| 49151/49151 [00:00<00:00, 1401847.12it/s]\n"
     ]
    }
   ],
   "source": [
    "test_x = [model.infer_vector(doc.words) for doc in tqdm(test)]\n",
    "test_y = [doc.tags[0] for doc in tqdm(test)]\n",
    "pickle.dump(test_x,open('./data/pre_data/train_test_Data/test_x_by_ct_from_doc2vec_size2000_epoch15_window5_dbow_words.pickled','wb'))\n",
    "pickle.dump(test_y,open('./data/pre_data/train_test_Data/test_y_by_ct_from_doc2vec_size2000_epoch15_window5_dbow_words.pickled','wb'))"
   ]
  },
  {
   "cell_type": "code",
   "execution_count": 10,
   "metadata": {},
   "outputs": [],
   "source": [
    "del model"
   ]
  },
  {
   "cell_type": "code",
   "execution_count": null,
   "metadata": {},
   "outputs": [],
   "source": [
    "train_x = pickle.load(open('./data/pre_data/train_test_Data/train_x_by_ct_from_doc2vec_size2000_epoch15_window5_dbow_words.pickled','rb'))\n",
    "train_y = pickle.load(open('./data/pre_data/train_test_Data/train_y_by_ct_from_doc2vec_size2000_epoch15_window5_dbow_words.pickled','rb'))"
   ]
  },
  {
   "cell_type": "code",
   "execution_count": null,
   "metadata": {},
   "outputs": [],
   "source": [
    "classifier = LogisticRegression(random_state=1234)\n",
    "classifier.fit(train_x, train_y)"
   ]
  },
  {
   "cell_type": "code",
   "execution_count": null,
   "metadata": {},
   "outputs": [],
   "source": [
    "pickle.dump(classifier,open('./data/pre_data/classifier/classifier_by_ct_from_doc2vec_size2000_epoch15_window5_dbow_words.pickled','wb'))"
   ]
  },
  {
   "cell_type": "code",
   "execution_count": null,
   "metadata": {},
   "outputs": [],
   "source": [
    "classifier2 = RandomForestRegressor(random_state=1234)\n",
    "classifier2.fit(train_x, train_y)"
   ]
  },
  {
   "cell_type": "code",
   "execution_count": null,
   "metadata": {},
   "outputs": [],
   "source": [
    "pickle.dump(classifier2,open('./data/pre_data/classifier/classifier_randomforest_by_ct_from_doc2vec_size2000_epoch15_window5_dbow_words.pickled','wb'))"
   ]
  },
  {
   "cell_type": "code",
   "execution_count": null,
   "metadata": {},
   "outputs": [],
   "source": [
    "del train_x\n",
    "del train_y"
   ]
  },
  {
   "cell_type": "code",
   "execution_count": null,
   "metadata": {},
   "outputs": [],
   "source": [
    "test_x = pickle.load(open('./data/pre_data/train_test_Data/test_x_by_ct_from_doc2vec_size2000_epoch15_window5_dbow_words.pickled','rb'))\n",
    "test_y = pickle.load(open('./data/pre_data/train_test_Data/test_y_by_ct_from_doc2vec_size2000_epoch15_window5_dbow_words.pickled','rb'))"
   ]
  },
  {
   "cell_type": "code",
   "execution_count": null,
   "metadata": {},
   "outputs": [],
   "source": [
    "print( classifier.score(test_x, test_y) )"
   ]
  },
  {
   "cell_type": "code",
   "execution_count": null,
   "metadata": {},
   "outputs": [],
   "source": [
    "print( classifier2.score(test_x, test_y) )"
   ]
  },
  {
   "cell_type": "code",
   "execution_count": null,
   "metadata": {},
   "outputs": [],
   "source": [
    "del test_x\n",
    "del test_y\n",
    "del classifier\n",
    "del classifier2"
   ]
  },
  {
   "cell_type": "markdown",
   "metadata": {},
   "source": [
    "* size 1000 : 0.640541518255\n",
    "* size 2000 : 0.646232190561\n",
    "* size 2500 : "
   ]
  },
  {
   "cell_type": "markdown",
   "metadata": {},
   "source": [
    "#### mecab"
   ]
  },
  {
   "cell_type": "code",
   "execution_count": null,
   "metadata": {},
   "outputs": [],
   "source": [
    "train2 = pickle.load(open('./data/pre_data/train_test_Data/pre_by_mecab_train.pickled','rb'))"
   ]
  },
  {
   "cell_type": "code",
   "execution_count": null,
   "metadata": {},
   "outputs": [],
   "source": [
    "model2 = doc2vec.Doc2Vec.load('./model/doc2vec_size2000_epoch15_window5_dbow_words_by_mecab.model')"
   ]
  },
  {
   "cell_type": "code",
   "execution_count": null,
   "metadata": {},
   "outputs": [],
   "source": [
    "train2_x = [model2.infer_vector(doc.words) for doc in tqdm(train2)]\n",
    "train2_y = [doc.tags[0] for doc in tqdm(train2)]\n",
    "pickle.dump(train2_x,open('./data/pre_data/train_test_Data/train2_x_by_mecab_from_doc2vec_size2000_epoch15_window5_dbow_words.pickled','wb'))\n",
    "pickle.dump(train2_y,open('./data/pre_data/train_test_Data/train2_y_by_mecab_from_doc2vec_size2000_epoch15_window5_dbow_words.pickled','wb'))"
   ]
  },
  {
   "cell_type": "code",
   "execution_count": null,
   "metadata": {},
   "outputs": [],
   "source": [
    "del train2\n",
    "del train2_x\n",
    "del train2_y"
   ]
  },
  {
   "cell_type": "code",
   "execution_count": null,
   "metadata": {},
   "outputs": [],
   "source": [
    "test2 = pickle.load(open('./data/pre_data/train_test_Data/pre_by_mecab_test.pickled','rb'))"
   ]
  },
  {
   "cell_type": "code",
   "execution_count": null,
   "metadata": {},
   "outputs": [],
   "source": [
    "test2_x = [model2.infer_vector(doc.words) for doc in tqdm(test2)]\n",
    "test2_y = [doc.tags[0] for doc in tqdm(test2)]\n",
    "pickle.dump(test2_x,open('./data/pre_data/train_test_Data/test2_x_by_mecab_from_doc2vec_size1500_epoch15_window5_dbow_words.pickled','wb'))\n",
    "pickle.dump(test2_y,open('./data/pre_data/train_test_Data/test2_y_by_mecab_from_doc2vec_size1500_epoch15_window5_dbow_words.pickled','wb'))"
   ]
  },
  {
   "cell_type": "code",
   "execution_count": null,
   "metadata": {},
   "outputs": [],
   "source": [
    "del model2"
   ]
  },
  {
   "cell_type": "code",
   "execution_count": null,
   "metadata": {},
   "outputs": [],
   "source": [
    "train2_x = pickle.load(open('./data/pre_data/train_test_Data/train2_x_by_mecab_from_doc2vec_size2000_epoch15_window5_dbow_words.pickled','rb'))\n",
    "train2_y = pickle.load(open('./data/pre_data/train_test_Data/train2_y_by_mecab_from_doc2vec_size2000_epoch15_window5_dbow_words.pickled','rb'))"
   ]
  },
  {
   "cell_type": "code",
   "execution_count": null,
   "metadata": {},
   "outputs": [],
   "source": [
    "classifier_ = LogisticRegression(random_state=1234)\n",
    "classifier_.fit(train2_x, train2_y)"
   ]
  },
  {
   "cell_type": "code",
   "execution_count": null,
   "metadata": {},
   "outputs": [],
   "source": [
    "pickle.dump(classifier_,open('./data/pre_data/classifier/classifier_by_mecab_from_doc2vec_size2000_epoch15_window5_dbow_words.pickled','wb'))"
   ]
  },
  {
   "cell_type": "code",
   "execution_count": null,
   "metadata": {},
   "outputs": [],
   "source": [
    "classifier2_ = RandomForestRegressor(random_state=1234)\n",
    "classifier2_.fit(train2_x, train2_y)"
   ]
  },
  {
   "cell_type": "code",
   "execution_count": null,
   "metadata": {},
   "outputs": [],
   "source": [
    "pickle.dump(classifier2_,open('./data/pre_data/classifier/classifier_randomforest_by_mecab_from_doc2vec_size2000_epoch15_window5_dbow_words.pickled','wb'))"
   ]
  },
  {
   "cell_type": "code",
   "execution_count": null,
   "metadata": {},
   "outputs": [],
   "source": [
    "del train2_x\n",
    "del train2_y"
   ]
  },
  {
   "cell_type": "code",
   "execution_count": null,
   "metadata": {},
   "outputs": [],
   "source": [
    "test2_x = pickle.load(open('./data/pre_data/train_test_Data/test2_x_by_mecab_from_doc2vec_size2000_epoch15_window5_dbow_words.pickled','rb'))\n",
    "test2_y = pickle.load(open('./data/pre_data/train_test_Data/test2_y_by_mecab_from_doc2vec_size2000_epoch15_window5_dbow_words.pickled','rb'))"
   ]
  },
  {
   "cell_type": "code",
   "execution_count": null,
   "metadata": {},
   "outputs": [],
   "source": [
    "print( classifier_.score(test2_x, test2_y) )"
   ]
  },
  {
   "cell_type": "code",
   "execution_count": null,
   "metadata": {},
   "outputs": [],
   "source": [
    "print( classifier2_.score(test2_x, test2_y) )"
   ]
  },
  {
   "cell_type": "code",
   "execution_count": null,
   "metadata": {},
   "outputs": [],
   "source": [
    "del test2_x\n",
    "del test2_y\n",
    "del classifier_\n",
    "del classifier2_"
   ]
  },
  {
   "cell_type": "markdown",
   "metadata": {},
   "source": [
    "* size 1000 : 0.64909839715\n",
    "* size 2000 : 0.663053762244\n",
    "* size 2500 : "
   ]
  },
  {
   "cell_type": "code",
   "execution_count": null,
   "metadata": {},
   "outputs": [],
   "source": [
    "classifier2_."
   ]
  }
 ],
 "metadata": {
  "kernelspec": {
   "display_name": "Python 3",
   "language": "python",
   "name": "python3"
  },
  "language_info": {
   "codemirror_mode": {
    "name": "ipython",
    "version": 3
   },
   "file_extension": ".py",
   "mimetype": "text/x-python",
   "name": "python",
   "nbconvert_exporter": "python",
   "pygments_lexer": "ipython3",
   "version": "3.6.4"
  }
 },
 "nbformat": 4,
 "nbformat_minor": 2
}
