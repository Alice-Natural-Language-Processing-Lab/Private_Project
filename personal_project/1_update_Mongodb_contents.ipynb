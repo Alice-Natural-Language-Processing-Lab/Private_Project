{
 "cells": [
  {
   "cell_type": "code",
   "execution_count": 1,
   "metadata": {},
   "outputs": [],
   "source": [
    "import sys\n",
    "sys.path.append('C:/Users/pc/Documents/GitHub/Private_Project/personal_project')\n",
    "from collections import defaultdict\n",
    "from datetime import datetime, timedelta\n",
    "import time\n",
    "import re\n",
    "import requests\n",
    "import pandas as pd\n",
    "from bs4 import BeautifulSoup\n",
    "from selenium import webdriver\n",
    "from selenium.webdriver.support.ui import WebDriverWait\n",
    "from selenium.common.exceptions import TimeoutException, NoSuchElementException, StaleElementReferenceException\n",
    "from selenium.webdriver.support import expected_conditions as EC\n",
    "from selenium.webdriver.common.by import By\n",
    "from selenium.webdriver import ActionChains\n",
    "import pickle\n",
    "import chat_bot as cb\n",
    "import Database_Handler as dh\n",
    "from multiprocessing import Pool\n",
    "from functools import partial"
   ]
  },
  {
   "cell_type": "code",
   "execution_count": 3,
   "metadata": {},
   "outputs": [],
   "source": []
  },
  {
   "cell_type": "code",
   "execution_count": 39,
   "metadata": {
    "scrolled": false
   },
   "outputs": [
    {
     "name": "stdout",
     "output_type": "stream",
     "text": [
      "[서형욱] '8경기 7골' 손흥민은 이렇게 진화했다 NAVER NAVER\n",
      "[러시아 월드컵 분석③] 한국 최종 상대, 독일은 누구 하나 막는다고 되는 팀이 아니다 NAVER NAVER\n",
      "[맨투맨] ‘성공률 최악’ 샤킬 오닐, FT 11개 던져 모두 실패하던 날 NAVER NAVER\n",
      "[맨투맨] 슬램덩크 명대사와 17-18시즌 NBA NAVER NAVER\n",
      "[서호정의 킥오프] 김병지, “일어나야 한다. 아이들 가르쳐야 하니까…” NAVER NAVER\n",
      "[이영미 人터뷰] 병실에서 만난 박민우, “골든글러브가 내게 올까요?” NAVER NAVER\n",
      "[서호정의 킥오프] 믿을 건 황금세대뿐, 한국 여자 축구의 현실 NAVER NAVER\n",
      "[홍기자의 아웃사이더] 입단 1년차 KIA 박정우 현역 입대,' 강해져 돌아오겠다' NAVER NAVER\n",
      "[러시아 월드컵 분석시리즈①] ‘본선 강자’ 스웨덴은 결코 쉬운 상대가 아니다 NAVER NAVER\n",
      "이강인의 해외생활 적응기 “스페인 애들이 견제해도...” NAVER NAVER\n",
      "[인사이드MLB] 양 리그 홈런왕, 양키스에서 뭉치다 NAVER NAVER\n",
      "[한준] 전술 상성으로 본 F조…한국의 강점, 상대국도 다 가졌다 NAVER NAVER\n",
      "[박문성] 맨유 경기에서 나온 오프사이드 논란 해석 NAVER NAVER\n",
      "[서호정의 킥오프] 역사적인 한일전 대승에도 헹가래는 없었다 NAVER NAVER\n",
      "[박문성] 토트넘은 다르게 싸웠지만 맨시티엔 통하지 않았다 NAVER NAVER\n",
      "[박문성] 간결해진 손흥민 NAVER NAVER\n",
      "[서형욱] '17맨시티 08맨유 05첼시 04아스널' EPL 역대 최고의 팀은? NAVER NAVER\n",
      "[이영미의 핫이슈] 김현수 LG행에 담긴 숨은 이야기 NAVER NAVER\n",
      "[러시아 월드컵 분석⑤] 데브라위너의 벨기에는 러시아에서 사고를 칠 수 있을까 NAVER NAVER\n",
      "[오늘의 NBA] (12/21) 핵펀치장착 시카고, 7연승 폭풍질주 NAVER NAVER\n",
      "[이영미 人터뷰] 야구의 답을 찾고자 떠났던 오재원의 미국행 NAVER NAVER\n",
      "[한준] 카카의 마지막 10년, 왜 레알과 잘못된 만남이 됐을까? NAVER NAVER\n",
      "[러시아 월드컵 분석⑦] 메시의 마지막 월드컵 NAVER NAVER\n",
      "[오늘의 NBA] (12/26) 겨울의 축제, NBA 2017 크리스마스매치  NAVER NAVER\n",
      "[박문성] 맨유의 고민 NAVER NAVER\n",
      "[2017 리뷰] <29> '빗나간 한 발' LA 다저스 NAVER NAVER\n",
      "[박문성] 맨시티와 10백 NAVER NAVER\n",
      "[코보올스타] 올스타 명단 확정! 역대 최다득표 남녀부 1위는? NAVER NAVER\n",
      "[야큐 리포트] '주니치 테스트 앞둔' 마쓰자카의 실망스러운 말 한마디 NAVER NAVER\n",
      "[오늘의 NBA] (12/31) GSW 판타지스타 스테픈 커리의 귀환  NAVER NAVER\n",
      "[박문성] 손흥민이 더 대단한 이유 NAVER NAVER\n",
      "[서형욱] 맨유가 산체스를 원하는 까닭은? NAVER NAVER\n",
      "[서형욱] 셀링 클럽의 경계에 선 리버풀과 토트넘 NAVER NAVER\n",
      "[서형욱] 청용의 미래는 청용의 것 NAVER NAVER\n",
      "[서형욱] 맨유가 산체스를 원하는 까닭은? NAVER NAVER\n",
      "[박문성] 리버풀이 강요한 맨시티의 실수 NAVER NAVER\n",
      "[서호정의 킥오프] 베트남 축구사 새로 쓴 박항서 감독, “히딩크 감독 심정 알 듯” NAVER NAVER\n",
      "[서호정의 킥오프] 윤승원의 파넨카킥 실패, 어떻게 볼 것인가? NAVER NAVER\n",
      "박문성 기사 목록 트위터 페이스북 포스트 NAVER NAVER\n",
      "박문성 기사 목록 트위터 페이스북 포스트 NAVER NAVER\n"
     ]
    }
   ],
   "source": [
    "site = 'Naver'\n",
    "#site = 'daum'\n",
    "if site == 'daum':\n",
    "    collection = 'newsDaum'\n",
    "elif site.lower() == 'naver':\n",
    "    collection = 'newsNaver'\n",
    "mongodb = dh.ToMongoDB(*dh.AWS_MongoDB_Information())\n",
    "dbname = 'hy_db'\n",
    "useDb = dh.Use_Database(mongodb, dbname)\n",
    "slack = cb.Slacker(cb.slacktoken())\n",
    "useCollection = dh.Use_Collection(useDb, collection)\n",
    "keywordList = list()\n",
    "pressList = list()\n",
    "i = 0\n",
    "for data in useCollection.find({'press':'NAVER'}):\n",
    "    pressClassList = ['press_logo','logo']\n",
    "    res = requests.get(data['link'])\n",
    "    soup = BeautifulSoup(res.content, 'html.parser')\n",
    "    try:\n",
    "        press = soup.find(class_=pressClassList[0]).find('img').attrs['alt']\n",
    "    except:\n",
    "        press = soup.find(class_=pressClassList[1]).find('img').attrs['alt']\n",
    "    print (data['title'], press, data['press'])\n",
    "    useCollection.update_one({\"_id\": data['_id']},{'$set': {\"press\": press}})\n",
    "    "
   ]
  },
  {
   "cell_type": "code",
   "execution_count": 28,
   "metadata": {},
   "outputs": [
    {
     "data": {
      "text/plain": [
       "<a class=\"logo\" href=\"http://www.navercorp.com/\" onclick=\"clickcr(this, 'fot.nhn', '', '', event);\" target=\"_blank\"><img alt=\"NAVER\" height=\"11\" src=\"https://ssl.pstatic.net/static/common/footer/ci_naver.gif\" width=\"63\"/></a>"
      ]
     },
     "execution_count": 28,
     "metadata": {},
     "output_type": "execute_result"
    }
   ],
   "source": []
  },
  {
   "cell_type": "code",
   "execution_count": 8,
   "metadata": {},
   "outputs": [],
   "source": []
  },
  {
   "cell_type": "code",
   "execution_count": 15,
   "metadata": {},
   "outputs": [],
   "source": []
  }
 ],
 "metadata": {
  "kernelspec": {
   "display_name": "Python 3",
   "language": "python",
   "name": "python3"
  },
  "language_info": {
   "codemirror_mode": {
    "name": "ipython",
    "version": 3
   },
   "file_extension": ".py",
   "mimetype": "text/x-python",
   "name": "python",
   "nbconvert_exporter": "python",
   "pygments_lexer": "ipython3",
   "version": "3.6.4"
  }
 },
 "nbformat": 4,
 "nbformat_minor": 2
}
