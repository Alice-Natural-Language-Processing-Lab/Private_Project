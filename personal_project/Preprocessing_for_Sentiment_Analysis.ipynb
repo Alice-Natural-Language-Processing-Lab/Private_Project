{
 "cells": [
  {
   "cell_type": "markdown",
   "metadata": {},
   "source": [
    "# Preprocessin for Sentiment Analysis\n",
    "> * [공공데이터포털](https://www.data.go.kr/) : 뉴스빅데이터 분석 정보\n",
    "> * 수정일 2017.12.26 "
   ]
  },
  {
   "cell_type": "code",
   "execution_count": 69,
   "metadata": {},
   "outputs": [],
   "source": [
    "# -*- coding: utf-8 -*-"
   ]
  },
  {
   "cell_type": "code",
   "execution_count": 70,
   "metadata": {},
   "outputs": [],
   "source": [
    "import os\n",
    "from glob import glob\n",
    "import pandas as pd\n",
    "import html\n",
    "import itertools\n",
    "import re"
   ]
  },
  {
   "cell_type": "code",
   "execution_count": 71,
   "metadata": {},
   "outputs": [],
   "source": [
    "path1 = './data/news/have_negative_positive/constitution/'\n",
    "path2 = './data/news/have_negative_positive/household_debt/'\n",
    "path3 = './data/news/have_negative_positive/olymphic/'\n",
    "path4 = './data/news/have_negative_positive/'\n",
    "pathList = [path1, path2, path3, path4]"
   ]
  },
  {
   "cell_type": "code",
   "execution_count": 72,
   "metadata": {},
   "outputs": [],
   "source": [
    "def Get_CSVfileList(path):\n",
    "    filelist = glob(path+'*.csv')\n",
    "    filelist.extend(glob(path+'*.CSV'))\n",
    "    return filelist"
   ]
  },
  {
   "cell_type": "code",
   "execution_count": 73,
   "metadata": {
    "scrolled": false
   },
   "outputs": [
    {
     "name": "stdout",
     "output_type": "stream",
     "text": [
      "353286\n",
      "(353286, 3)\n"
     ]
    },
    {
     "data": {
      "text/html": [
       "<div>\n",
       "<style scoped>\n",
       "    .dataframe tbody tr th:only-of-type {\n",
       "        vertical-align: middle;\n",
       "    }\n",
       "\n",
       "    .dataframe tbody tr th {\n",
       "        vertical-align: top;\n",
       "    }\n",
       "\n",
       "    .dataframe thead th {\n",
       "        text-align: right;\n",
       "    }\n",
       "</style>\n",
       "<table border=\"1\" class=\"dataframe\">\n",
       "  <thead>\n",
       "    <tr style=\"text-align: right;\">\n",
       "      <th></th>\n",
       "      <th>감성분석</th>\n",
       "      <th>긍정 문장</th>\n",
       "      <th>부정 문장</th>\n",
       "    </tr>\n",
       "  </thead>\n",
       "  <tbody>\n",
       "    <tr>\n",
       "      <th>0</th>\n",
       "      <td>NEGATIVE 고통 NEGATIVE 좌절 NEGATIVE 갈등 NEGATIVE 불...</td>\n",
       "      <td>이젠 민주개혁의 길로(사설) 이 90년대가 우리 모두에게 성취의 시대이기를 기원하고...</td>\n",
       "      <td>우리는 과연 과거의 온갖 간난과 고통을 극복하고 새 시대에 들어섰는가. 이젠 갈등과...</td>\n",
       "    </tr>\n",
       "    <tr>\n",
       "      <th>1</th>\n",
       "      <td>NEGATIVE 가하 NEGATIVE 배제 NEGATIVE 까지 NEGATIVE 문...</td>\n",
       "      <td>민주당과 공화당은 새해부터 정계개편을 적극 추진한다는 방침이며 양당의 김영삼ㆍ김종필...</td>\n",
       "      <td>여야는 특히 금년 상반기중에 실시토록 돼 있는 지방선거에서 연합공천의 길이 열림에 ...</td>\n",
       "    </tr>\n",
       "    <tr>\n",
       "      <th>2</th>\n",
       "      <td>NEGATIVE 힘들 NEGATIVE 동상이몽 NEGATIVE 힘들 NEGATIVE...</td>\n",
       "      <td>4당,지자제 연합공천 대비 「파트너 탐색전」 이같은 구상을 실현시키기 위해 민정당은...</td>\n",
       "      <td>또 연합공천의 길이 열려 있는 지방선거를 앞두고 각 정당간에 구체적인 막후협상이 활...</td>\n",
       "    </tr>\n",
       "    <tr>\n",
       "      <th>3</th>\n",
       "      <td>NEGATIVE 배제 NEGATIVE 미달 NEGATIVE 모순 NEGATIVE 약하</td>\n",
       "      <td>NaN</td>\n",
       "      <td>민정당은 일단 평민ㆍ민주ㆍ공화 등 기존 모든 야당과의 정책제휴및 정당연합 가능성을 ...</td>\n",
       "    </tr>\n",
       "    <tr>\n",
       "      <th>4</th>\n",
       "      <td>POSITIVE 선진국 POSITIVE 극복 NEGATIVE 파산 NEGATIVE ...</td>\n",
       "      <td>90년대는 국내적으로 정치민주화와 선진국에로의 도약여부가 판가름날 것이고 한반도를 ...</td>\n",
       "      <td>세대교체가 될 가능성은 없습니까. 3김은 이미 도덕적 파산선고를 받은 사람들 아닙니...</td>\n",
       "    </tr>\n",
       "  </tbody>\n",
       "</table>\n",
       "</div>"
      ],
      "text/plain": [
       "                                                감성분석  \\\n",
       "0  NEGATIVE 고통 NEGATIVE 좌절 NEGATIVE 갈등 NEGATIVE 불...   \n",
       "1  NEGATIVE 가하 NEGATIVE 배제 NEGATIVE 까지 NEGATIVE 문...   \n",
       "2  NEGATIVE 힘들 NEGATIVE 동상이몽 NEGATIVE 힘들 NEGATIVE...   \n",
       "3    NEGATIVE 배제 NEGATIVE 미달 NEGATIVE 모순 NEGATIVE 약하   \n",
       "4  POSITIVE 선진국 POSITIVE 극복 NEGATIVE 파산 NEGATIVE ...   \n",
       "\n",
       "                                               긍정 문장  \\\n",
       "0  이젠 민주개혁의 길로(사설) 이 90년대가 우리 모두에게 성취의 시대이기를 기원하고...   \n",
       "1  민주당과 공화당은 새해부터 정계개편을 적극 추진한다는 방침이며 양당의 김영삼ㆍ김종필...   \n",
       "2  4당,지자제 연합공천 대비 「파트너 탐색전」 이같은 구상을 실현시키기 위해 민정당은...   \n",
       "3                                                NaN   \n",
       "4  90년대는 국내적으로 정치민주화와 선진국에로의 도약여부가 판가름날 것이고 한반도를 ...   \n",
       "\n",
       "                                               부정 문장  \n",
       "0  우리는 과연 과거의 온갖 간난과 고통을 극복하고 새 시대에 들어섰는가. 이젠 갈등과...  \n",
       "1  여야는 특히 금년 상반기중에 실시토록 돼 있는 지방선거에서 연합공천의 길이 열림에 ...  \n",
       "2  또 연합공천의 길이 열려 있는 지방선거를 앞두고 각 정당간에 구체적인 막후협상이 활...  \n",
       "3  민정당은 일단 평민ㆍ민주ㆍ공화 등 기존 모든 야당과의 정책제휴및 정당연합 가능성을 ...  \n",
       "4  세대교체가 될 가능성은 없습니까. 3김은 이미 도덕적 파산선고를 받은 사람들 아닙니...  "
      ]
     },
     "execution_count": 73,
     "metadata": {},
     "output_type": "execute_result"
    }
   ],
   "source": [
    "df_data=pd.DataFrame()\n",
    "x = 0 \n",
    "for path in pathList:\n",
    "    fileList = Get_CSVfileList(path)\n",
    "    for file in fileList:\n",
    "        df = pd.read_csv(file,encoding='utf-8', engine='python')\n",
    "        x += df.shape[0]\n",
    "        if len(df_data) == 0:\n",
    "            df_data = df[['감성분석', '긍정 문장', '부정 문장']]\n",
    "        else:\n",
    "            df_data = pd.concat([df_data, df[['감성분석', '긍정 문장', '부정 문장']]])\n",
    "df_data.reset_index(drop=True, inplace=True)        \n",
    "print (x)\n",
    "print (df_data.shape)\n",
    "df_data.head()"
   ]
  },
  {
   "cell_type": "code",
   "execution_count": 74,
   "metadata": {},
   "outputs": [],
   "source": [
    "df_words = df_data['감성분석'].copy()\n",
    "df_positive = df_data['긍정 문장'].copy()\n",
    "df_negative = df_data['부정 문장'].copy()"
   ]
  },
  {
   "cell_type": "markdown",
   "metadata": {},
   "source": [
    "* drop list\n",
    "> 기자 & 이메일 주소만 있는 문장  \n",
    "> Neutral 제거"
   ]
  },
  {
   "cell_type": "markdown",
   "metadata": {},
   "source": [
    "## 긍정 문장 추출"
   ]
  },
  {
   "cell_type": "markdown",
   "metadata": {},
   "source": [
    "### NaN & ' '제거"
   ]
  },
  {
   "cell_type": "code",
   "execution_count": 75,
   "metadata": {
    "scrolled": false
   },
   "outputs": [
    {
     "name": "stdout",
     "output_type": "stream",
     "text": [
      "(312378,)\n"
     ]
    }
   ],
   "source": [
    "df_positive.dropna(inplace = True)\n",
    "df_positive = df_positive.apply(html.unescape)\n",
    "df_positive.reset_index(drop=True, inplace = True)\n",
    "df_positive.drop(df_positive[df_positive.str.match('^ $')].index, inplace = True)\n",
    "df_positive.reset_index(drop=True, inplace = True)\n",
    "print (df_positive.shape)"
   ]
  },
  {
   "cell_type": "markdown",
   "metadata": {},
   "source": [
    "### #*****? 인 값 제거"
   ]
  },
  {
   "cell_type": "code",
   "execution_count": 76,
   "metadata": {},
   "outputs": [
    {
     "name": "stdout",
     "output_type": "stream",
     "text": [
      "(312232,)\n"
     ]
    }
   ],
   "source": [
    "df_positive.drop(df_positive[df_positive.str.match('^#[a-zA-Z0-9]+\\?$')].index, inplace = True)\n",
    "df_positive.reset_index(drop=True, inplace = True)\n",
    "print (df_positive.shape)"
   ]
  },
  {
   "cell_type": "markdown",
   "metadata": {},
   "source": [
    "### #*****! 인 값 제거"
   ]
  },
  {
   "cell_type": "code",
   "execution_count": 77,
   "metadata": {},
   "outputs": [
    {
     "name": "stdout",
     "output_type": "stream",
     "text": [
      "(312178,)\n"
     ]
    }
   ],
   "source": [
    "df_positive.drop(df_positive[df_positive.str.match('^#[a-zA-Z0-9]+\\!$')].index, inplace = True)\n",
    "df_positive.reset_index(drop=True, inplace = True)\n",
    "print (df_positive.shape)"
   ]
  },
  {
   "cell_type": "markdown",
   "metadata": {},
   "source": [
    "### 이메일만 있는 값 제거"
   ]
  },
  {
   "cell_type": "code",
   "execution_count": 78,
   "metadata": {},
   "outputs": [
    {
     "name": "stdout",
     "output_type": "stream",
     "text": [
      "(310534,)\n"
     ]
    }
   ],
   "source": [
    "df_positive.drop(df_positive[df_positive.str.match('^[a-zA-Z0-9+-_.]+@[a-zA-Z0-9-]+\\.[a-zA-Z0-9-.]+$')].index,inplace = True)\n",
    "df_positive.reset_index(drop=True, inplace = True)\n",
    "print (df_positive.shape)"
   ]
  },
  {
   "cell_type": "markdown",
   "metadata": {},
   "source": [
    "### 이메일과 기자명만 있는 값 제거"
   ]
  },
  {
   "cell_type": "code",
   "execution_count": 79,
   "metadata": {},
   "outputs": [
    {
     "name": "stdout",
     "output_type": "stream",
     "text": [
      "(309106,)\n",
      "(308258,)\n",
      "(308204,)\n",
      "(308164,)\n",
      "(308104,)\n",
      "(308070,)\n",
      "(307538,)\n",
      "(307524,)\n",
      "(307310,)\n",
      "(307000,)\n",
      "(306200,)\n",
      "(305706,)\n",
      "(302802,)\n",
      "(302544,)\n",
      "Series([], Name: 긍정 문장, dtype: object)\n",
      "(144397,)\n",
      "(144397,)\n"
     ]
    }
   ],
   "source": [
    "df_positive.drop(df_positive[df_positive.str.match('^[가-힣]{3,3}[. ]기자[. ][a-zA-Z0-9+-_.]+@[a-zA-Z0-9-.\\|]*$')].index, inplace = True)\n",
    "df_positive.reset_index(drop=True, inplace = True)\n",
    "print (df_positive.shape)\n",
    "\n",
    "df_positive.drop(df_positive[df_positive.str.match('^[가-힣]{3,3}기자[. ][a-zA-Z0-9+-_.]+@[a-zA-Z0-9-.\\|]*$')].index , inplace = True)\n",
    "df_positive.reset_index(drop=True, inplace = True)\n",
    "print (df_positive.shape)\n",
    "\n",
    "df_positive.drop(df_positive[df_positive.str.match('^[가-힣]{3,3}[. ]기자[. ][a-zA-Z0-9+-_.]+@[a-zA-Z0-9-. ]*$')].index, inplace = True)\n",
    "df_positive.reset_index(drop=True, inplace = True)\n",
    "print (df_positive.shape)\n",
    "\n",
    "df_positive.drop(df_positive[df_positive.str.match('^[a-zA-Z0-9+-_.]+@[a-zA-Z0-9-]+\\.[a-zA-Z0-9-.]+[가-힣]{3,3}기자')].index, inplace = True)\n",
    "df_positive.reset_index(drop=True, inplace = True)\n",
    "print (df_positive.shape)\n",
    "\n",
    "df_positive.drop(df_positive[df_positive.str.match('^[a-zA-Z0-9+-_.]+@[a-zA-Z0-9-]+\\.[a-zA-Z0-9-.]+[. ][가-힣]{3,3}기자')].index, inplace = True)\n",
    "df_positive.reset_index(drop=True, inplace = True)\n",
    "print (df_positive.shape)\n",
    "\n",
    "df_positive.drop(df_positive[df_positive.str.match('[가-힣 ]{3,4}기자$')].index, inplace = True)\n",
    "df_positive.reset_index(drop=True, inplace = True)\n",
    "print (df_positive.shape)\n",
    "\n",
    "df_positive.drop(df_positive[df_positive.str.match('[a-zA-Z0-9+-_. ]+[가-힣 ]{3,4}기자$')].index, inplace = True)\n",
    "df_positive.reset_index(drop=True, inplace = True)\n",
    "print (df_positive.shape)\n",
    "\n",
    "df_positive.drop(df_positive[df_positive.str.match('[a-zA-Z0-9+-_.]+@$')].index, inplace = True)\n",
    "df_positive.reset_index(drop=True, inplace = True)\n",
    "print (df_positive.shape)\n",
    "\n",
    "df_positive.drop(df_positive[df_positive.str.match('[a-zA-Z0-9+-_.]+$')].index, inplace = True)\n",
    "df_positive.reset_index(drop=True, inplace = True)\n",
    "print (df_positive.shape)\n",
    "\n",
    "df_positive.drop(df_positive[df_positive.str.match('[a-zA-Z0-9+-_.]+@([a-zA-Z0-9-]+\\.[a-zA-Z0-9-.])*')].index, inplace = True)\n",
    "df_positive.reset_index(drop=True, inplace = True)\n",
    "print (df_positive.shape)\n",
    "\n",
    "df_positive.drop(df_positive[df_positive.str.match('.[가-힣]{3,4}[//. ]?기자[//. ]?[a-zA-Z0-9+-_.]+@[a-zA-Z0-9-.\\|]*?')].index, inplace = True)\n",
    "df_positive.reset_index(drop=True, inplace = True)\n",
    "print (df_positive.shape)\n",
    "\n",
    "df_positive.drop(df_positive[df_positive.str.match('[가-힣+_.=]+?[//. ]?기자[//. ]?[a-zA-Z0-9+-_.]+@[a-zA-Z0-9-.\\|]*?$')].index, inplace = True)\n",
    "df_positive.reset_index(drop=True, inplace = True)\n",
    "print (df_positive.shape)\n",
    "\n",
    "df_positive.drop(df_positive[df_positive.str.len() < 11].index, inplace = True)\n",
    "df_positive.reset_index(drop=True, inplace = True)\n",
    "print (df_positive.shape)\n",
    "\n",
    "df_positive.drop(df_positive[(df_positive.str.match('^[가-힣]{3,5}[//. ]?기자[//. ]?[a-zA-Z0-9+-_.]+@[a-zA-Z0-9-.\\| @]*?')) & (df_positive.str.len() < 100)].index, inplace = True)\n",
    "df_positive.reset_index(drop=True, inplace = True)\n",
    "print (df_positive.shape)\n",
    "\n",
    "print (df_positive[df_positive==''])\n",
    "\n",
    "df_positive = df_positive.apply(html.unescape)\n",
    "\n",
    "df_positive.drop_duplicates(inplace = True)\n",
    "df_positive.reset_index(drop=True, inplace = True)\n",
    "print (df_positive.shape)\n",
    "df_positive = df_positive.apply(html.unescape)\n",
    "df_positive.drop_duplicates(inplace = True)\n",
    "df_positive.reset_index(drop=True, inplace = True)\n",
    "print (df_positive.shape)"
   ]
  },
  {
   "cell_type": "code",
   "execution_count": 80,
   "metadata": {},
   "outputs": [],
   "source": [
    "df_positive.to_csv('./data/sentiment_data/positive_sentiment_sentence_from_news.csv', index=False, header= False, encoding='utf-8')"
   ]
  },
  {
   "cell_type": "markdown",
   "metadata": {},
   "source": [
    "## 부정 문장 추출"
   ]
  },
  {
   "cell_type": "markdown",
   "metadata": {},
   "source": [
    "### NaN & ' '제거"
   ]
  },
  {
   "cell_type": "code",
   "execution_count": 81,
   "metadata": {
    "scrolled": false
   },
   "outputs": [
    {
     "name": "stdout",
     "output_type": "stream",
     "text": [
      "(321744,)\n"
     ]
    }
   ],
   "source": [
    "df_negative.dropna(inplace = True)\n",
    "df_negative = df_negative.apply(html.unescape)\n",
    "df_negative.reset_index(drop=True, inplace = True)\n",
    "df_negative.drop(df_negative[df_negative.str.match('^ $')].index, inplace = True)\n",
    "df_negative.reset_index(drop=True, inplace = True)\n",
    "print (df_negative.shape)"
   ]
  },
  {
   "cell_type": "markdown",
   "metadata": {},
   "source": [
    "### #*****? 인 값 제거"
   ]
  },
  {
   "cell_type": "code",
   "execution_count": 82,
   "metadata": {},
   "outputs": [
    {
     "name": "stdout",
     "output_type": "stream",
     "text": [
      "(321664,)\n"
     ]
    }
   ],
   "source": [
    "df_negative.drop(df_negative[df_negative.str.match('^#[a-zA-Z0-9]+\\?$')].index, inplace = True)\n",
    "df_negative.reset_index(drop=True, inplace = True)\n",
    "print (df_negative.shape)"
   ]
  },
  {
   "cell_type": "markdown",
   "metadata": {},
   "source": [
    "### #*****! 인 값 제거"
   ]
  },
  {
   "cell_type": "code",
   "execution_count": 83,
   "metadata": {},
   "outputs": [
    {
     "name": "stdout",
     "output_type": "stream",
     "text": [
      "(321664,)\n"
     ]
    }
   ],
   "source": [
    "df_negative.drop(df_negative[df_negative.str.match('^#[a-zA-Z0-9]+\\!$')].index, inplace = True)\n",
    "df_negative.reset_index(drop=True, inplace = True)\n",
    "print (df_negative.shape)"
   ]
  },
  {
   "cell_type": "markdown",
   "metadata": {},
   "source": [
    "### 이메일만 있는 값 제거"
   ]
  },
  {
   "cell_type": "code",
   "execution_count": 84,
   "metadata": {},
   "outputs": [
    {
     "name": "stdout",
     "output_type": "stream",
     "text": [
      "(321664,)\n"
     ]
    }
   ],
   "source": [
    "df_negative.drop(df_negative[df_negative.str.match('^[a-zA-Z0-9+-_.]+@[a-zA-Z0-9-]+\\.[a-zA-Z0-9-.]+$')].index,inplace = True)\n",
    "df_negative.reset_index(drop=True, inplace = True)\n",
    "print (df_negative.shape)"
   ]
  },
  {
   "cell_type": "markdown",
   "metadata": {},
   "source": [
    "### 이메일과 기자명만 있는 값 제거"
   ]
  },
  {
   "cell_type": "code",
   "execution_count": 85,
   "metadata": {},
   "outputs": [
    {
     "name": "stdout",
     "output_type": "stream",
     "text": [
      "(321224,)\n",
      "(321116,)\n",
      "(321086,)\n",
      "(321072,)\n",
      "(321020,)\n",
      "(320454,)\n",
      "(320280,)\n",
      "(320280,)\n",
      "(319886,)\n",
      "(319726,)\n",
      "(319398,)\n",
      "(319000,)\n",
      "(316976,)\n",
      "(316652,)\n",
      "Series([], Name: 부정 문장, dtype: object)\n",
      "(151957,)\n",
      "(151957,)\n"
     ]
    }
   ],
   "source": [
    "df_negative.drop(df_negative[df_negative.str.match('^[가-힣]{3,3}[. ]기자[. ][a-zA-Z0-9+-_.]+@[a-zA-Z0-9-.\\|]*$')].index, inplace = True)\n",
    "df_negative.reset_index(drop=True, inplace = True)\n",
    "print (df_negative.shape)\n",
    "\n",
    "df_negative.drop(df_negative[df_negative.str.match('^[가-힣]{3,3}기자[. ][a-zA-Z0-9+-_.]+@[a-zA-Z0-9-.\\|]*$')].index , inplace = True)\n",
    "df_negative.reset_index(drop=True, inplace = True)\n",
    "print (df_negative.shape)\n",
    "\n",
    "df_negative.drop(df_negative[df_negative.str.match('^[가-힣]{3,3}[. ]기자[. ][a-zA-Z0-9+-_.]+@[a-zA-Z0-9-. ]*$')].index, inplace = True)\n",
    "df_negative.reset_index(drop=True, inplace = True)\n",
    "print (df_negative.shape)\n",
    "\n",
    "df_negative.drop(df_negative[df_negative.str.match('^[a-zA-Z0-9+-_.]+@[a-zA-Z0-9-]+\\.[a-zA-Z0-9-.]+[가-힣]{3,3}기자')].index, inplace = True)\n",
    "df_negative.reset_index(drop=True, inplace = True)\n",
    "print (df_negative.shape)\n",
    "\n",
    "df_negative.drop(df_negative[df_negative.str.match('^[a-zA-Z0-9+-_.]+@[a-zA-Z0-9-]+\\.[a-zA-Z0-9-.]+[. ][가-힣]{3,3}기자')].index, inplace = True)\n",
    "df_negative.reset_index(drop=True, inplace = True)\n",
    "print (df_negative.shape)\n",
    "\n",
    "df_negative.drop(df_negative[df_negative.str.match('[가-힣 ]{3,4}기자$')].index, inplace = True)\n",
    "df_negative.reset_index(drop=True, inplace = True)\n",
    "print (df_negative.shape)\n",
    "\n",
    "df_negative.drop(df_negative[df_negative.str.match('[a-zA-Z0-9+-_. ]+[가-힣 ]{3,4}기자$')].index, inplace = True)\n",
    "df_negative.reset_index(drop=True, inplace = True)\n",
    "print (df_negative.shape)\n",
    "\n",
    "df_negative.drop(df_negative[df_negative.str.match('[a-zA-Z0-9+-_.]+@$')].index, inplace = True)\n",
    "df_negative.reset_index(drop=True, inplace = True)\n",
    "print (df_negative.shape)\n",
    "\n",
    "df_negative.drop(df_negative[df_negative.str.match('[a-zA-Z0-9+-_.]+$')].index, inplace = True)\n",
    "df_negative.reset_index(drop=True, inplace = True)\n",
    "print (df_negative.shape)\n",
    "\n",
    "df_negative.drop(df_negative[df_negative.str.match('[a-zA-Z0-9+-_.]+@([a-zA-Z0-9-]+\\.[a-zA-Z0-9-.])*')].index, inplace = True)\n",
    "df_negative.reset_index(drop=True, inplace = True)\n",
    "print (df_negative.shape)\n",
    "\n",
    "df_negative.drop(df_negative[df_negative.str.match('.[가-힣]{3,4}[//. ]?기자[//. ]?[a-zA-Z0-9+-_.]+@[a-zA-Z0-9-.\\|]*?')].index, inplace = True)\n",
    "df_negative.reset_index(drop=True, inplace = True)\n",
    "print (df_negative.shape)\n",
    "\n",
    "df_negative.drop(df_negative[df_negative.str.match('[가-힣+_.=]+?[//. ]?기자[//. ]?[a-zA-Z0-9+-_.]+@[a-zA-Z0-9-.\\|]*?$')].index, inplace = True)\n",
    "df_negative.reset_index(drop=True, inplace = True)\n",
    "print (df_negative.shape)\n",
    "\n",
    "df_negative.drop(df_negative[df_negative.str.len() < 11].index, inplace = True)\n",
    "df_negative.reset_index(drop=True, inplace = True)\n",
    "print (df_negative.shape)\n",
    "\n",
    "df_negative.drop(df_negative[(df_negative.str.match('^[가-힣]{3,5}[//. ]?기자[//. ]?[a-zA-Z0-9+-_.]+@[a-zA-Z0-9-.\\| @]*?')) & (df_negative.str.len() < 100)].index, inplace = True)\n",
    "df_negative.reset_index(drop=True, inplace = True)\n",
    "print (df_negative.shape)\n",
    "\n",
    "print (df_negative[df_negative==''])\n",
    "\n",
    "df_negative = df_negative.apply(html.unescape)\n",
    "\n",
    "df_negative.drop_duplicates(inplace = True)\n",
    "df_negative.reset_index(drop=True, inplace = True)\n",
    "print (df_negative.shape)\n",
    "df_negative = df_negative.apply(html.unescape)\n",
    "df_negative.drop_duplicates(inplace = True)\n",
    "df_negative.reset_index(drop=True, inplace = True)\n",
    "print (df_negative.shape)"
   ]
  },
  {
   "cell_type": "code",
   "execution_count": 86,
   "metadata": {},
   "outputs": [],
   "source": [
    "df_negative.to_csv('./data/sentiment_data/negative_sentiment_sentence_from_news.csv', index=False, header=False, encoding='utf-8')"
   ]
  },
  {
   "cell_type": "markdown",
   "metadata": {},
   "source": [
    "## 긍정 / 부정 단어 추출"
   ]
  },
  {
   "cell_type": "code",
   "execution_count": 87,
   "metadata": {},
   "outputs": [
    {
     "name": "stdout",
     "output_type": "stream",
     "text": [
      "(334174,)\n"
     ]
    }
   ],
   "source": [
    "df_words.dropna(inplace = True)\n",
    "df_words = df_words.apply(html.unescape)\n",
    "df_words.reset_index(drop = True, inplace = True)\n",
    "df_words.drop(df_words[df_words.str.match('^ $')].index, inplace = True)\n",
    "df_words.reset_index(drop = True, inplace = True)\n",
    "df_words = df_words.apply(html.unescape)\n",
    "print(df_words.shape)"
   ]
  },
  {
   "cell_type": "code",
   "execution_count": 88,
   "metadata": {},
   "outputs": [
    {
     "name": "stdout",
     "output_type": "stream",
     "text": [
      "(328092,)\n"
     ]
    }
   ],
   "source": [
    "df_words = df_words[df_words.str.match('NEGATIVE|POSITIVE')]\n",
    "df_words.reset_index(drop = True, inplace = True)\n",
    "print (df_words.shape)"
   ]
  },
  {
   "cell_type": "code",
   "execution_count": 89,
   "metadata": {
    "scrolled": false
   },
   "outputs": [
    {
     "name": "stdout",
     "output_type": "stream",
     "text": [
      "(328092,) (328092,)\n"
     ]
    }
   ],
   "source": [
    "negativeWords = df_words.str.findall('(NEGATIVE [가-힣]+)').str.join(' ')\n",
    "negativeWords.dropna(inplace = True)\n",
    "negativeWords.reset_index(drop=True, inplace = True)\n",
    "positiveWords = df_words.str.findall('(POSITIVE [가-힣]+)').str.join(' ')\n",
    "positiveWords.dropna(inplace = True)\n",
    "positiveWords.reset_index(drop=True, inplace = True)\n",
    "print (negativeWords.shape, positiveWords.shape)"
   ]
  },
  {
   "cell_type": "code",
   "execution_count": 90,
   "metadata": {
    "scrolled": false
   },
   "outputs": [
    {
     "name": "stdout",
     "output_type": "stream",
     "text": [
      "(288850,) (247246,)\n"
     ]
    }
   ],
   "source": [
    "positiveWords.drop(positiveWords[positiveWords==''].index, inplace = True)\n",
    "positiveWords.reset_index(drop=True, inplace = True)\n",
    "negativeWords.drop(negativeWords[negativeWords==''].index, inplace = True)\n",
    "negativeWords.reset_index(drop=True, inplace = True)\n",
    "print (negativeWords.shape, positiveWords.shape)\n",
    "positiveWords = positiveWords.str.findall('([가-힣]+)')\n",
    "negativeWords = negativeWords.str.findall('([가-힣]+)')"
   ]
  },
  {
   "cell_type": "code",
   "execution_count": 91,
   "metadata": {
    "scrolled": true
   },
   "outputs": [
    {
     "name": "stdout",
     "output_type": "stream",
     "text": [
      "5010 7608\n"
     ]
    }
   ],
   "source": [
    "positiveWords = list(set(itertools.chain.from_iterable(positiveWords)))\n",
    "negativeWords = list(set(itertools.chain.from_iterable(negativeWords)))\n",
    "print (len(positiveWords), len(negativeWords))"
   ]
  },
  {
   "cell_type": "code",
   "execution_count": 92,
   "metadata": {},
   "outputs": [],
   "source": [
    "positiveWords = pd.Series(positiveWords)\n",
    "negativeWords = pd.Series(negativeWords)"
   ]
  },
  {
   "cell_type": "code",
   "execution_count": 93,
   "metadata": {},
   "outputs": [],
   "source": [
    "positiveWords.to_csv('./data/sentiment_data/positive_sentiment_word_from_news.csv', index=False, header=False)\n",
    "negativeWords.to_csv('./data/sentiment_data/negative_sentiment_word_from_news.csv', index=False, header=False)"
   ]
  },
  {
   "cell_type": "code",
   "execution_count": 94,
   "metadata": {},
   "outputs": [],
   "source": [
    "df_positive = pd.concat([df_positive, pd.DataFrame(len(df_positive)*[1], columns=[1])],axis = 1)\n",
    "df_positive.rename(columns={'긍정 문장':0},inplace = True)\n",
    "df_negative = pd.concat([df_negative, pd.DataFrame(len(df_negative)*[0], columns=[1])],axis = 1)\n",
    "df_negative.rename(columns={'부정 문장':0},inplace = True)\n"
   ]
  },
  {
   "cell_type": "code",
   "execution_count": 95,
   "metadata": {},
   "outputs": [
    {
     "name": "stdout",
     "output_type": "stream",
     "text": [
      "(296354, 2)\n"
     ]
    },
    {
     "data": {
      "text/html": [
       "<div>\n",
       "<style scoped>\n",
       "    .dataframe tbody tr th:only-of-type {\n",
       "        vertical-align: middle;\n",
       "    }\n",
       "\n",
       "    .dataframe tbody tr th {\n",
       "        vertical-align: top;\n",
       "    }\n",
       "\n",
       "    .dataframe thead th {\n",
       "        text-align: right;\n",
       "    }\n",
       "</style>\n",
       "<table border=\"1\" class=\"dataframe\">\n",
       "  <thead>\n",
       "    <tr style=\"text-align: right;\">\n",
       "      <th></th>\n",
       "      <th>0</th>\n",
       "      <th>1</th>\n",
       "    </tr>\n",
       "  </thead>\n",
       "  <tbody>\n",
       "    <tr>\n",
       "      <th>0</th>\n",
       "      <td>이젠 민주개혁의 길로(사설) 이 90년대가 우리 모두에게 성취의 시대이기를 기원하고...</td>\n",
       "      <td>1</td>\n",
       "    </tr>\n",
       "    <tr>\n",
       "      <th>1</th>\n",
       "      <td>민주당과 공화당은 새해부터 정계개편을 적극 추진한다는 방침이며 양당의 김영삼ㆍ김종필...</td>\n",
       "      <td>1</td>\n",
       "    </tr>\n",
       "    <tr>\n",
       "      <th>2</th>\n",
       "      <td>4당,지자제 연합공천 대비 「파트너 탐색전」 이같은 구상을 실현시키기 위해 민정당은...</td>\n",
       "      <td>1</td>\n",
       "    </tr>\n",
       "    <tr>\n",
       "      <th>3</th>\n",
       "      <td>90년대는 국내적으로 정치민주화와 선진국에로의 도약여부가 판가름날 것이고 한반도를 ...</td>\n",
       "      <td>1</td>\n",
       "    </tr>\n",
       "    <tr>\n",
       "      <th>4</th>\n",
       "      <td>특히 노태우대통령이 3일 대국민 특별담화를 발표,「지난시대」의 완전청산을 선언한 후...</td>\n",
       "      <td>1</td>\n",
       "    </tr>\n",
       "  </tbody>\n",
       "</table>\n",
       "</div>"
      ],
      "text/plain": [
       "                                                   0  1\n",
       "0  이젠 민주개혁의 길로(사설) 이 90년대가 우리 모두에게 성취의 시대이기를 기원하고...  1\n",
       "1  민주당과 공화당은 새해부터 정계개편을 적극 추진한다는 방침이며 양당의 김영삼ㆍ김종필...  1\n",
       "2  4당,지자제 연합공천 대비 「파트너 탐색전」 이같은 구상을 실현시키기 위해 민정당은...  1\n",
       "3  90년대는 국내적으로 정치민주화와 선진국에로의 도약여부가 판가름날 것이고 한반도를 ...  1\n",
       "4  특히 노태우대통령이 3일 대국민 특별담화를 발표,「지난시대」의 완전청산을 선언한 후...  1"
      ]
     },
     "execution_count": 95,
     "metadata": {},
     "output_type": "execute_result"
    }
   ],
   "source": [
    "newsSentence = pd.concat([df_positive, df_negative], axis = 0)\n",
    "newsSentence.reset_index(drop=True, inplace = True)\n",
    "print (newsSentence.shape)\n",
    "newsSentence.head()"
   ]
  },
  {
   "cell_type": "markdown",
   "metadata": {},
   "source": [
    "## 기자명 & 이메일 제거 및 50자 이내 제거"
   ]
  },
  {
   "cell_type": "code",
   "execution_count": 96,
   "metadata": {},
   "outputs": [
    {
     "name": "stdout",
     "output_type": "stream",
     "text": [
      "(296354, 2)\n",
      "(295847, 2)\n",
      "(278959, 2)\n"
     ]
    },
    {
     "data": {
      "text/html": [
       "<div>\n",
       "<style scoped>\n",
       "    .dataframe tbody tr th:only-of-type {\n",
       "        vertical-align: middle;\n",
       "    }\n",
       "\n",
       "    .dataframe tbody tr th {\n",
       "        vertical-align: top;\n",
       "    }\n",
       "\n",
       "    .dataframe thead th {\n",
       "        text-align: right;\n",
       "    }\n",
       "</style>\n",
       "<table border=\"1\" class=\"dataframe\">\n",
       "  <thead>\n",
       "    <tr style=\"text-align: right;\">\n",
       "      <th></th>\n",
       "      <th>0</th>\n",
       "      <th>1</th>\n",
       "    </tr>\n",
       "  </thead>\n",
       "  <tbody>\n",
       "    <tr>\n",
       "      <th>0</th>\n",
       "      <td>이젠 민주개혁의 길로 사설  이 90년대가 우리 모두에게 성취의 시대이기를 기원하고...</td>\n",
       "      <td>1</td>\n",
       "    </tr>\n",
       "    <tr>\n",
       "      <th>1</th>\n",
       "      <td>민주당과 공화당은 새해부터 정계개편을 적극 추진한다는 방침이며 양당의 김영삼ㆍ김종필...</td>\n",
       "      <td>1</td>\n",
       "    </tr>\n",
       "    <tr>\n",
       "      <th>2</th>\n",
       "      <td>4당,지자제 연합공천 대비  파트너 탐색전  이같은 구상을 실현시키기 위해 민정당은...</td>\n",
       "      <td>1</td>\n",
       "    </tr>\n",
       "    <tr>\n",
       "      <th>3</th>\n",
       "      <td>90년대는 국내적으로 정치민주화와 선진국에로의 도약여부가 판가름날 것이고 한반도를 ...</td>\n",
       "      <td>1</td>\n",
       "    </tr>\n",
       "    <tr>\n",
       "      <th>4</th>\n",
       "      <td>특히 노태우대통령이 3일 대국민 특별담화를 발표, 지난시대 의 완전청산을 선언한 후...</td>\n",
       "      <td>1</td>\n",
       "    </tr>\n",
       "  </tbody>\n",
       "</table>\n",
       "</div>"
      ],
      "text/plain": [
       "                                                   0  1\n",
       "0  이젠 민주개혁의 길로 사설  이 90년대가 우리 모두에게 성취의 시대이기를 기원하고...  1\n",
       "1  민주당과 공화당은 새해부터 정계개편을 적극 추진한다는 방침이며 양당의 김영삼ㆍ김종필...  1\n",
       "2  4당,지자제 연합공천 대비  파트너 탐색전  이같은 구상을 실현시키기 위해 민정당은...  1\n",
       "3  90년대는 국내적으로 정치민주화와 선진국에로의 도약여부가 판가름날 것이고 한반도를 ...  1\n",
       "4  특히 노태우대통령이 3일 대국민 특별담화를 발표, 지난시대 의 완전청산을 선언한 후...  1"
      ]
     },
     "execution_count": 96,
     "metadata": {},
     "output_type": "execute_result"
    }
   ],
   "source": [
    "newsSentence[0] = newsSentence[0].str.replace('^[가-힣]{3,4}[//. ]?기자[//. ]',' ')\n",
    "\n",
    "newsSentence[0] = newsSentence[0].str.replace('^[ ]?[a-zA-Z0-9+-_.]+@[a-zA-Z0-9-]+\\.[a-zA-Z0-9-.]*',' ')\n",
    "\n",
    "newsSentence[0] = newsSentence[0].str.replace('[가-힣]{3,4}[//. ]?기자[//. ]?[a-zA-Z0-9+-_.]+@[a-zA-Z0-9-]+\\.[a-zA-Z0-9-.]+',' ')\n",
    "print (newsSentence.shape)\n",
    "\n",
    "newsSentence[0] = newsSentence[0].str.replace('[가-힣]{3,4}[//. ]?기자',' ')\n",
    "\n",
    "newsPress = pd.read_csv('./data/newspress.txt',encoding='utf-8',header=None)\n",
    "newsPress.head()\n",
    "\n",
    "for idx in newsPress.index:\n",
    "    newsSentence[0] = newsSentence[0].str.replace(newsPress.loc[idx][0],' ')\n",
    "\n",
    "newsSentence[0] = newsSentence[0].str.replace('[☜\\[\\]☞※©◀◆◁◀◈○◌◎●◑◐☆★\\|♠♡〈〉『」「』▲=⑨ ①② ③「」◎○~!@#$%^&*()_+|<>?:{}]', ' ')\n",
    "\n",
    "newsSentence[0] = newsSentence[0].str.replace('[//. ]?[a-zA-Z0-9+-_.]+@[a-zA-Z0-9-]+\\.[a-zA-Z0-9-.]*','')\n",
    "\n",
    "newsSentence[0] = newsSentence[0].str.replace('[a-zA-Z0-9+-.]+@','')\n",
    "\n",
    "newsSentence[0] = newsSentence[0].str.strip()\n",
    "\n",
    "newsSentence.drop(newsSentence[newsSentence[0].str.len()<10].index, inplace = True)\n",
    "newsSentence.reset_index(drop=True, inplace=True)\n",
    "newsSentence.dropna(inplace=True)\n",
    "print (newsSentence.shape)\n",
    "\n",
    "newsSentence.drop(newsSentence[newsSentence[0].str.len()<50].index, inplace = True)\n",
    "newsSentence.reset_index(drop=True, inplace=True)\n",
    "newsSentence.dropna(inplace=True)\n",
    "newsSentence.reset_index(drop=True, inplace=True)\n",
    "newsSentence.drop_duplicates(inplace = True)\n",
    "newsSentence.reset_index(drop=True, inplace=True)\n",
    "print (newsSentence.shape)\n",
    "newsSentence.to_csv('./data/sentiment_data/merged_sentiment_data.txt',index=None, header=None)\n",
    "newsSentence.head()"
   ]
  }
 ],
 "metadata": {
  "kernelspec": {
   "display_name": "Python 3",
   "language": "python",
   "name": "python3"
  },
  "language_info": {
   "codemirror_mode": {
    "name": "ipython",
    "version": 3
   },
   "file_extension": ".py",
   "mimetype": "text/x-python",
   "name": "python",
   "nbconvert_exporter": "python",
   "pygments_lexer": "ipython3",
   "version": "3.6.4"
  }
 },
 "nbformat": 4,
 "nbformat_minor": 2
}
