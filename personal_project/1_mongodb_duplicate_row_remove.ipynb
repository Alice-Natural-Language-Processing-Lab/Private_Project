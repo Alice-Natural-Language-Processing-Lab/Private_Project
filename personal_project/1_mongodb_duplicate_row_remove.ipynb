{
 "cells": [
  {
   "cell_type": "code",
   "execution_count": 1,
   "metadata": {
    "collapsed": true
   },
   "outputs": [],
   "source": [
    "import pymongo\n",
    "import pandas as pd"
   ]
  },
  {
   "cell_type": "code",
   "execution_count": 2,
   "metadata": {
    "collapsed": true
   },
   "outputs": [],
   "source": [
    "def ToMongoDB(username, password, dbPath):\n",
    "    connection = pymongo.MongoClient('mongodb://{}:{}@{}'.format(username, password, dbPath))\n",
    "    return connection\n",
    "\n",
    "def AWS_MongoDB_Information():\n",
    "    import pickle\n",
    "    file = pickle.load(open('./aws_mongo_User_Information','rb'))\n",
    "    user = file['user']\n",
    "    password = file['password']\n",
    "    webpath = file['webpath']\n",
    "    return user, password, webpath\n",
    "\n",
    "def Use_Database(connection, dbname):\n",
    "    db = connection[dbname]\n",
    "    return db\n",
    "\n",
    "def Use_Collection(db, collectionName):\n",
    "    collection = db[collectionName]\n",
    "    return collection\n",
    "\n",
    "def Close_db(db):\n",
    "    db.close()\n",
    "if __name__ == \"__main__\":\n",
    "    db_name = 'hy_db'\n",
    "    mongodb = ToMongoDB(*AWS_MongoDB_Information())\n",
    "    dbname = db_name\n",
    "    useDb = Use_Database(mongodb, dbname)"
   ]
  },
  {
   "cell_type": "code",
   "execution_count": 3,
   "metadata": {
    "collapsed": true
   },
   "outputs": [],
   "source": [
    "useCollection = Use_Collection(useDb, 'newsNaver')"
   ]
  },
  {
   "cell_type": "code",
   "execution_count": 5,
   "metadata": {},
   "outputs": [
    {
     "ename": "NameError",
     "evalue": "name '_id' is not defined",
     "output_type": "error",
     "traceback": [
      "\u001b[0;31m---------------------------------------------------------------------------\u001b[0m",
      "\u001b[0;31mNameError\u001b[0m                                 Traceback (most recent call last)",
      "\u001b[0;32m<ipython-input-5-d327e48241e3>\u001b[0m in \u001b[0;36m<module>\u001b[0;34m()\u001b[0m\n\u001b[0;32m----> 1\u001b[0;31m \u001b[0museCollection\u001b[0m\u001b[0;34m.\u001b[0m\u001b[0mfind\u001b[0m\u001b[0;34m(\u001b[0m\u001b[0;34m{\u001b[0m\u001b[0;34m}\u001b[0m\u001b[0;34m,\u001b[0m \u001b[0;34m{\u001b[0m\u001b[0;34m'mainText'\u001b[0m\u001b[0;34m:\u001b[0m\u001b[0;36m1\u001b[0m\u001b[0;34m}\u001b[0m\u001b[0;34m)\u001b[0m\u001b[0;34m.\u001b[0m\u001b[0msort\u001b[0m\u001b[0;34m(\u001b[0m\u001b[0;34m{\u001b[0m\u001b[0m_id\u001b[0m\u001b[0;34m:\u001b[0m\u001b[0;36m1\u001b[0m\u001b[0;34m}\u001b[0m\u001b[0;34m)\u001b[0m\u001b[0;34m\u001b[0m\u001b[0m\n\u001b[0m",
      "\u001b[0;31mNameError\u001b[0m: name '_id' is not defined"
     ]
    }
   ],
   "source": [
    "useCollection.find({}, {'mainText':1}).sort({_id:1})"
   ]
  },
  {
   "cell_type": "code",
   "execution_count": 8,
   "metadata": {},
   "outputs": [
    {
     "ename": "SyntaxError",
     "evalue": "invalid syntax (<ipython-input-8-392a9fcfef9f>, line 3)",
     "output_type": "error",
     "traceback": [
      "\u001b[0;36m  File \u001b[0;32m\"<ipython-input-8-392a9fcfef9f>\"\u001b[0;36m, line \u001b[0;32m3\u001b[0m\n\u001b[0;31m    ]).forEach(function(doc){\u001b[0m\n\u001b[0m                            ^\u001b[0m\n\u001b[0;31mSyntaxError\u001b[0m\u001b[0;31m:\u001b[0m invalid syntax\n"
     ]
    }
   ],
   "source": [
    "db.dups.aggregate([{'$group':{'_id':\"$mainText\", dups:{'$push':\"$_id\"}, count: {'$sum': 1}}},\n",
    "{'$match':{count: {'$gt': 1}}}\n",
    "]).forEach(function(doc){\n",
    "  doc.dups.shift();\n",
    "  db.dups.remove({'_id' : {'$in': doc.dups}});\n",
    "});"
   ]
  },
  {
   "cell_type": "code",
   "execution_count": null,
   "metadata": {
    "collapsed": true
   },
   "outputs": [],
   "source": []
  }
 ],
 "metadata": {
  "kernelspec": {
   "display_name": "Python 3",
   "language": "python",
   "name": "python3"
  },
  "language_info": {
   "codemirror_mode": {
    "name": "ipython",
    "version": 3
   },
   "file_extension": ".py",
   "mimetype": "text/x-python",
   "name": "python",
   "nbconvert_exporter": "python",
   "pygments_lexer": "ipython3",
   "version": "3.6.3"
  }
 },
 "nbformat": 4,
 "nbformat_minor": 2
}
