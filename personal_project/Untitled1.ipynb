{
 "cells": [
  {
   "cell_type": "code",
   "execution_count": 3,
   "metadata": {},
   "outputs": [],
   "source": [
    "import sys\n",
    "sys.path.append('C:/Users/pc/Documents/GitHub/Private_Project/personal_project')\n",
    "from collections import defaultdict\n",
    "from datetime import datetime, timedelta\n",
    "import time\n",
    "import re\n",
    "import requests\n",
    "import pandas as pd\n",
    "from bs4 import BeautifulSoup\n",
    "from selenium import webdriver\n",
    "from selenium.webdriver.support.ui import WebDriverWait\n",
    "from selenium.common.exceptions import TimeoutException, NoSuchElementException, StaleElementReferenceException\n",
    "from selenium.webdriver.support import expected_conditions as EC\n",
    "from selenium.webdriver.common.by import By\n",
    "from selenium.webdriver import ActionChains\n",
    "import pickle\n",
    "import chat_bot as cb\n",
    "import Database_Handler as dh\n",
    "from multiprocessing import Pool\n",
    "from functools import partial\n",
    "# [Default]\n",
    "\n",
    "def OS_Driver(os,browser):\n",
    "    if os.lower() == 'windows':\n",
    "        if browser.lower() == 'phantom':\n",
    "            driver = webdriver.PhantomJS('C:/Users/pc/Documents/phantomjs-2.1.1-window/bin/phantomjs.exe')\n",
    "        else:\n",
    "            driver = webdriver.Chrome('C:/Users/pc/Documents/chromedriver.exe')\n",
    "    elif os.lower() == 'mac':\n",
    "        if browser.lowser() == 'phantom':\n",
    "            driver = webdriver.PhantomJS(\n",
    "                '/Users/hyunyoun/Documents/GitHub/Private_Project/phantomjs-2.1.1/bin/phantomjs')\n",
    "        else:\n",
    "            driver = webdriver.Chrome('../chromedriver')\n",
    "    return driver\n",
    "def OpenAPI(apiFile):\n",
    "    apiKey = pickle.load(open(apiFile, 'rb'))\n",
    "    return apiKey\n",
    "## Define Error\n",
    "class NotMatch(Exception):\n",
    "    def __init__(self, f):\n",
    "        self.f = f\n",
    "    def __str__(self):\n",
    "        return self.f\n",
    "## Setting BeautifulSoup\n",
    "def Setting_BeautifulSoup(parser):\n",
    "    if parser.lower() == 'xml':\n",
    "        parser = 'lxml'\n",
    "    elif parser.lower() == 'html':\n",
    "        parser = 'html.parser'\n",
    "    else:\n",
    "        raise NotMatch('Not Match parser')\n",
    "    return parser\n",
    "## Using BeautifulSoup\n",
    "def WebPageUsingBS(url, htmltype, openApi=None):\n",
    "    htmltype = Setting_BeautifulSoup(htmltype)\n",
    "    if openApi == None:\n",
    "        response = requests.get(url)\n",
    "    else:\n",
    "        response = requests.get(url, headers=openApi)\n",
    "    soup = BeautifulSoup(response.content, htmltype)\n",
    "    return soup"
   ]
  },
  {
   "cell_type": "code",
   "execution_count": 7,
   "metadata": {},
   "outputs": [],
   "source": [
    "driver = webdriver.Chrome('../../../chromedriver.exe')"
   ]
  },
  {
   "cell_type": "code",
   "execution_count": 13,
   "metadata": {},
   "outputs": [],
   "source": [
    "w2 = 'http://v.media.daum.net/v/20171202023910089'"
   ]
  },
  {
   "cell_type": "code",
   "execution_count": 14,
   "metadata": {},
   "outputs": [],
   "source": [
    "driver.get(w2)"
   ]
  },
  {
   "cell_type": "code",
   "execution_count": 15,
   "metadata": {},
   "outputs": [],
   "source": [
    "try:\n",
    "    element = WebDriverWait(driver, 2).until(EC.presence_of_element_located((By.ID, 'alex-area')))\n",
    "except:pass\n",
    "else:\n",
    "    loop = True\n",
    "    while loop:\n",
    "        try:\n",
    "            commentsByclass = 'alex_more'\n",
    "            element = WebDriverWait(driver, 3).until(\n",
    "                    EC.presence_of_element_located((By.CLASS_NAME, commentsByclass)))\n",
    "            more_button = driver.find_element_by_class_name(commentsByclass)\n",
    "            webdriver.ActionChains(driver).move_to_element(more_button).click(more_button).perform()\n",
    "            commentElements = driver.find_elements_by_class_name('cmt_info')\n",
    "        except:\n",
    "            loop = False"
   ]
  },
  {
   "cell_type": "code",
   "execution_count": 18,
   "metadata": {},
   "outputs": [],
   "source": [
    "def CommentsInDaum(df):\n",
    "    df[r'공감'] = re.search('[\\d]+', df[r'공감']).group()\n",
    "    df[r'비공감'] = re.search('[\\d]+', df[r'비공감']).group()\n",
    "    if df['comments'] == '':\n",
    "        comments = '오직 이모티콘만 있는 댓글입니다.'\n",
    "    else:\n",
    "        comments = ' '.join(df['comments'].split('\\n'))\n",
    "    df['comments'] = comments\n",
    "    return df"
   ]
  },
  {
   "cell_type": "code",
   "execution_count": 19,
   "metadata": {},
   "outputs": [],
   "source": [
    "soup = BeautifulSoup(driver.page_source, 'html.parser')\n",
    "comments= soup.select('#alex-area > div > div > div > div.cmt_box > ul.list_comment > li > div.cmt_info')"
   ]
  },
  {
   "cell_type": "code",
   "execution_count": 20,
   "metadata": {},
   "outputs": [
    {
     "ename": "AttributeError",
     "evalue": "'NoneType' object has no attribute 'text'",
     "output_type": "error",
     "traceback": [
      "\u001b[1;31m---------------------------------------------------------------------------\u001b[0m",
      "\u001b[1;31mAttributeError\u001b[0m                            Traceback (most recent call last)",
      "\u001b[1;32m<ipython-input-20-18efe4c733ff>\u001b[0m in \u001b[0;36m<module>\u001b[1;34m()\u001b[0m\n\u001b[1;32m----> 1\u001b[1;33m \u001b[0mxx\u001b[0m \u001b[1;33m=\u001b[0m \u001b[0mlist\u001b[0m\u001b[1;33m(\u001b[0m\u001b[0mmap\u001b[0m\u001b[1;33m(\u001b[0m\u001b[1;32mlambda\u001b[0m \u001b[0mx\u001b[0m\u001b[1;33m:\u001b[0m \u001b[1;33m(\u001b[0m\u001b[0mx\u001b[0m\u001b[1;33m.\u001b[0m\u001b[0mfind\u001b[0m\u001b[1;33m(\u001b[0m\u001b[1;34m'p'\u001b[0m\u001b[1;33m,\u001b[0m \u001b[0mclass_\u001b[0m \u001b[1;33m=\u001b[0m \u001b[1;34m'desc_txt'\u001b[0m\u001b[1;33m)\u001b[0m\u001b[1;33m.\u001b[0m\u001b[0mtext\u001b[0m\u001b[1;33m,\u001b[0m \u001b[0mx\u001b[0m\u001b[1;33m.\u001b[0m\u001b[0mfind\u001b[0m\u001b[1;33m(\u001b[0m\u001b[1;34m'button'\u001b[0m\u001b[1;33m,\u001b[0m\u001b[0mclass_\u001b[0m \u001b[1;33m=\u001b[0m \u001b[1;34m'#like'\u001b[0m\u001b[1;33m)\u001b[0m\u001b[1;33m.\u001b[0m\u001b[0mtext\u001b[0m\u001b[1;33m,\u001b[0m \u001b[0mx\u001b[0m\u001b[1;33m.\u001b[0m\u001b[0mfind\u001b[0m\u001b[1;33m(\u001b[0m\u001b[1;34m'button'\u001b[0m\u001b[1;33m,\u001b[0m\u001b[0mclass_\u001b[0m \u001b[1;33m=\u001b[0m \u001b[1;34m'#dislike'\u001b[0m\u001b[1;33m)\u001b[0m\u001b[1;33m.\u001b[0m\u001b[0mtext\u001b[0m\u001b[1;33m)\u001b[0m\u001b[1;33m,\u001b[0m \u001b[0mcomments\u001b[0m\u001b[1;33m)\u001b[0m\u001b[1;33m)\u001b[0m\u001b[1;33m\u001b[0m\u001b[0m\n\u001b[0m\u001b[0;32m      2\u001b[0m \u001b[0mxx\u001b[0m \u001b[1;33m=\u001b[0m \u001b[0mpd\u001b[0m\u001b[1;33m.\u001b[0m\u001b[0mDataFrame\u001b[0m\u001b[1;33m(\u001b[0m\u001b[0mxx\u001b[0m\u001b[1;33m)\u001b[0m\u001b[1;33m\u001b[0m\u001b[0m\n",
      "\u001b[1;32m<ipython-input-20-18efe4c733ff>\u001b[0m in \u001b[0;36m<lambda>\u001b[1;34m(x)\u001b[0m\n\u001b[1;32m----> 1\u001b[1;33m \u001b[0mxx\u001b[0m \u001b[1;33m=\u001b[0m \u001b[0mlist\u001b[0m\u001b[1;33m(\u001b[0m\u001b[0mmap\u001b[0m\u001b[1;33m(\u001b[0m\u001b[1;32mlambda\u001b[0m \u001b[0mx\u001b[0m\u001b[1;33m:\u001b[0m \u001b[1;33m(\u001b[0m\u001b[0mx\u001b[0m\u001b[1;33m.\u001b[0m\u001b[0mfind\u001b[0m\u001b[1;33m(\u001b[0m\u001b[1;34m'p'\u001b[0m\u001b[1;33m,\u001b[0m \u001b[0mclass_\u001b[0m \u001b[1;33m=\u001b[0m \u001b[1;34m'desc_txt'\u001b[0m\u001b[1;33m)\u001b[0m\u001b[1;33m.\u001b[0m\u001b[0mtext\u001b[0m\u001b[1;33m,\u001b[0m \u001b[0mx\u001b[0m\u001b[1;33m.\u001b[0m\u001b[0mfind\u001b[0m\u001b[1;33m(\u001b[0m\u001b[1;34m'button'\u001b[0m\u001b[1;33m,\u001b[0m\u001b[0mclass_\u001b[0m \u001b[1;33m=\u001b[0m \u001b[1;34m'#like'\u001b[0m\u001b[1;33m)\u001b[0m\u001b[1;33m.\u001b[0m\u001b[0mtext\u001b[0m\u001b[1;33m,\u001b[0m \u001b[0mx\u001b[0m\u001b[1;33m.\u001b[0m\u001b[0mfind\u001b[0m\u001b[1;33m(\u001b[0m\u001b[1;34m'button'\u001b[0m\u001b[1;33m,\u001b[0m\u001b[0mclass_\u001b[0m \u001b[1;33m=\u001b[0m \u001b[1;34m'#dislike'\u001b[0m\u001b[1;33m)\u001b[0m\u001b[1;33m.\u001b[0m\u001b[0mtext\u001b[0m\u001b[1;33m)\u001b[0m\u001b[1;33m,\u001b[0m \u001b[0mcomments\u001b[0m\u001b[1;33m)\u001b[0m\u001b[1;33m)\u001b[0m\u001b[1;33m\u001b[0m\u001b[0m\n\u001b[0m\u001b[0;32m      2\u001b[0m \u001b[0mxx\u001b[0m \u001b[1;33m=\u001b[0m \u001b[0mpd\u001b[0m\u001b[1;33m.\u001b[0m\u001b[0mDataFrame\u001b[0m\u001b[1;33m(\u001b[0m\u001b[0mxx\u001b[0m\u001b[1;33m)\u001b[0m\u001b[1;33m\u001b[0m\u001b[0m\n",
      "\u001b[1;31mAttributeError\u001b[0m: 'NoneType' object has no attribute 'text'"
     ]
    }
   ],
   "source": [
    "xx = list(map(lambda x: (x.find('p', class_ = 'desc_txt').text, x.find('button',class_ = '#like').text, x.find('button',class_ = '#dislike').text), comments))\n",
    "xx = pd.DataFrame(xx)"
   ]
  },
  {
   "cell_type": "code",
   "execution_count": 21,
   "metadata": {},
   "outputs": [
    {
     "name": "stdout",
     "output_type": "stream",
     "text": [
      "<div class=\"cmt_info\" data-reactid=\".0.0.0.4.1.$194300815.0\"><strong class=\"tit_nick\" data-reactid=\".0.0.0.4.1.$194300815.0.0\"><span class=\"info_author\" data-reactid=\".0.0.0.4.1.$194300815.0.0.0\"><span class=\"link_nick\" data-reactid=\".0.0.0.4.1.$194300815.0.0.0.0\"><span class=\"img_daum\" data-reactid=\".0.0.0.4.1.$194300815.0.0.0.0.0\"></span></span><a class=\"link_nick\" data-reactid=\".0.0.0.4.1.$194300815.0.0.0.1\">탈퇴한 사용자</a><span class=\"txt_date\" data-reactid=\".0.0.0.4.1.$194300815.0.0.0.2\">2017.12.02 12:25</span></span></strong><p class=\"desc_txt font_size_17\" data-reactid=\".0.0.0.4.1.$194300815.0.2\"><em class=\"emph_txt\" data-reactid=\".0.0.0.4.1.$194300815.0.2.0\">삭제</em><span data-reactid=\".0.0.0.4.1.$194300815.0.2.1\">된 글입니다.</span></p></div>\n"
     ]
    }
   ],
   "source": [
    "for i in comments:\n",
    "    try:\n",
    "        i.find('p',class_='desc_txt').text\n",
    "        i.find('button',class_ = '#like').text\n",
    "        i.find('button',class_ = '#dislike').text\n",
    "    except:\n",
    "        print (i)\n",
    "        break"
   ]
  },
  {
   "cell_type": "code",
   "execution_count": null,
   "metadata": {},
   "outputs": [],
   "source": []
  }
 ],
 "metadata": {
  "kernelspec": {
   "display_name": "Python 3",
   "language": "python",
   "name": "python3"
  },
  "language_info": {
   "codemirror_mode": {
    "name": "ipython",
    "version": 3
   },
   "file_extension": ".py",
   "mimetype": "text/x-python",
   "name": "python",
   "nbconvert_exporter": "python",
   "pygments_lexer": "ipython3",
   "version": "3.6.3"
  }
 },
 "nbformat": 4,
 "nbformat_minor": 2
}
