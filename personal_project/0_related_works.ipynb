{
 "cells": [
  {
   "cell_type": "code",
   "execution_count": null,
   "metadata": {},
   "outputs": [],
   "source": []
  },
  {
   "cell_type": "markdown",
   "metadata": {},
   "source": [
    "# 나무위키 & 위키피디아로부터 사용자사전 추가하기\n",
    "* 데이터베이스 다운로드할 수 있는 곳\n",
    "> * [나무위키](https://mu-star.net/wikidb)\n",
    "> * [위키피디아](https://dumps.wikimedia.org/kowiki/)"
   ]
  },
  {
   "cell_type": "markdown",
   "metadata": {},
   "source": [
    "## 나무위키의 제목 추출"
   ]
  },
  {
   "cell_type": "code",
   "execution_count": null,
   "metadata": {},
   "outputs": [],
   "source": [
    "import json\n",
    "import sys\n",
    "filename = 'C:/Users/pc/Documents/GitHub/Private_Project/personal_project/data/wikidumps/namuwiki_20170327.json'\n",
    "with open(filename,'r',encoding='utf-8') as data_file:\n",
    "    data = json.load(data_file )\n",
    "    data_file.close()\n",
    "with open('./data/out_namu_wiki2.txt','w',encoding='utf-8') as f:\n",
    "    for article in data:\n",
    "        if 'title' in article.keys():\n",
    "            f.write(article['title']+'\\n')"
   ]
  },
  {
   "cell_type": "markdown",
   "metadata": {},
   "source": [
    "## 위키피디아의 제목 추출\n",
    "* Python Package [wikiextractor](https://github.com/attardi/wikiextractor)\n",
    "> !python WikiExtractor.py < WikiPedia dump file >"
   ]
  },
  {
   "cell_type": "markdown",
   "metadata": {},
   "source": [
    "[이후 과정-1](https://github.com/buenhygoon/Private_Project/blob/master/personal_project/1_Making_User_Dictionary_1.ipynb)  \n",
    "[이후 과정-2](https://github.com/buenhygoon/Private_Project/blob/master/personal_project/1_Making_User_Dictionary_2.ipynb)"
   ]
  },
  {
   "cell_type": "code",
   "execution_count": null,
   "metadata": {},
   "outputs": [],
   "source": [
    "# 자연어처리를 위해 주로 사용한 파이썬 패키지\n",
    "!pip install gensim\n",
    "!pip install customized_konlpy"
   ]
  },
  {
   "cell_type": "markdown",
   "metadata": {},
   "source": [
    "* Customized Konlpy\n",
    "> 파이썬 라이브러리가 설치된 폴더에 만들어진 텍스트 파일을 옮겨 놓으면 된다.   \n",
    "> 맥의 경우, /Users/hyunyoun/anaconda3/lib/python3.6/site-packages/ckonlpy/data/twitter/\n",
    "\n",
    "* Mecab\n",
    "> [Mecab-ko](https://bitbucket.org/eunjeon/mecab-ko)\n",
    "> [Mecab-ko-dic](https://bitbucket.org/eunjeon/mecab-ko-dic)\n",
    "> [Mecab python module](https://bitbucket.org/eunjeon/mecab-python-0.996)\n",
    "\n",
    "> Mecab의 윈도우 설치 및 사용자사전 추가는 https://github.com/Pusnow/mecab-ko-dic-msvc 를 참고  \n",
    "> ~/mecab-ko-dic/user-dic/ 에 만들어진 텍스트파일을 넣어두고 ~/tools/add-userdic.sh 를 실행"
   ]
  },
  {
   "cell_type": "code",
   "execution_count": null,
   "metadata": {},
   "outputs": [],
   "source": []
  }
 ],
 "metadata": {
  "kernelspec": {
   "display_name": "Python 3",
   "language": "python",
   "name": "python3"
  },
  "language_info": {
   "codemirror_mode": {
    "name": "ipython",
    "version": 3
   },
   "file_extension": ".py",
   "mimetype": "text/x-python",
   "name": "python",
   "nbconvert_exporter": "python",
   "pygments_lexer": "ipython3",
   "version": "3.6.4"
  }
 },
 "nbformat": 4,
 "nbformat_minor": 2
}
