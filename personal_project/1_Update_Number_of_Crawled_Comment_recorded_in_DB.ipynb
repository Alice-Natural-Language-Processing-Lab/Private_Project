{
 "cells": [
  {
   "cell_type": "code",
   "execution_count": 12,
   "metadata": {},
   "outputs": [
    {
     "name": "stdout",
     "output_type": "stream",
     "text": [
      "Daum : (9372, 11)\n"
     ]
    },
    {
     "data": {
      "text/plain": [
       "'\\nif __name__ == \"__main__\":\\n    start = datetime.now()\\n    extData.apply(GetNumberOfCommentInDB, axis = 1)\\n    end = datetime.now()\\n    print (\\'running time : {}\\'.format(end - start))\\n'"
      ]
     },
     "execution_count": 12,
     "metadata": {},
     "output_type": "execute_result"
    }
   ],
   "source": [
    "# coding: utf-8\n",
    "\n",
    "\n",
    "import pickle\n",
    "import sys\n",
    "from datetime import datetime\n",
    "from multiprocessing import cpu_count\n",
    "\n",
    "import pandas as pd\n",
    "import dask.dataframe as dd\n",
    "\n",
    "import Database_Handler as dh\n",
    "import Basic_Module as bm\n",
    "\n",
    "if sys.argv[1] == 'naver':\n",
    "    #Naver\n",
    "    data = pickle.load(open('./data/pre_data/stastics/for_statistics_Naver_from_mongodb.pickled','rb'))\n",
    "    data = pd.DataFrame.from_dict(data, orient = 'index')\n",
    "    data.reset_index(inplace = True)\n",
    "    data.rename(columns = {'index' : 'id'}, inplace = True)\n",
    "    print ('Naver : {}'.format(data.shape))\n",
    "    extData = data.loc[:, ['id', 'title', 'date', 'press', 'rank', 'category', 'number_of_comment', 'number_of_crawled_comment']].copy()\n",
    "    extData['site'] = pd.Series(['Naver']*extData.shape[0]\n",
    "    \n",
    "else:\n",
    "    #Daum\n",
    "    data = pickle.load(open('./data/pre_data/stastics/for_statistics_daum_from_mongodb.pickled','rb'))\n",
    "    data = pd.DataFrame.from_dict(data, orient = 'index')\n",
    "    data.reset_index(inplace = True)\n",
    "    data.rename(columns = {'index' : 'id'}, inplace = True)\n",
    "    print ('Daum : {}'.format(data.shape))\n",
    "    extData = data.loc[:, ['id', 'title', 'date', 'press', 'rank', 'category', 'number_of_comment', 'number_of_crawled_comment']].copy()\n",
    "    extData['site'] = pd.Series(['daum']*extData.shape[0])\n",
    "\n",
    "def GetNumberOfCommentInDB(row)\n",
    "    import Database_Handler as dh\n",
    "    from bson import ObjectId\n",
    "    mongodb = dh.ToMongoDB(*dh.AWS_MongoDB_Information())\n",
    "    dbname = 'hy_db'\n",
    "    useDB = dh.Use_Database(mongodb, dbname)\n",
    "    commentCollection = dh.Use_Collection(useDB, 'comments')\n",
    "    info = {'site' : row['site'],\n",
    "           'category' : row['category'],\n",
    "           'date' : row['date'],\n",
    "           'rank' : row['rank']}\n",
    "    commentsForNews = useCollection.find(info)\n",
    "    realNumCount = commentsForNews.count()\n",
    "    site = row['site']\n",
    "    oid = ObjectId(row['id'])\n",
    "    if site == 'daum':\n",
    "        newsCollection = dh.Use_Collection(useDB, 'newsDaum')\n",
    "    else:\n",
    "        newsCollection = dh.Use_Collection(useDB, 'newsNaver')\n",
    "    if realNumCount != row['number_of_crawled_comment']:\n",
    "        newsCollection.update_one({'_id' : oid}, \n",
    "                                 {'$set' : {'real_number_of_comment' : realNumCount}})\n",
    "\n",
    "if __name__ == \"__main__\":\n",
    "    start = datetime.now()\n",
    "    extData.apply(GetNumberOfCommentInDB, axis = 1)\n",
    "    end = datetime.now()\n",
    "    print ('running time : {}'.format(end - start))"
   ]
  },
  {
   "cell_type": "code",
   "execution_count": null,
   "metadata": {},
   "outputs": [],
   "source": [
    "ddf = dd.from_pandas(extData2, npartitions=num_partitions)"
   ]
  },
  {
   "cell_type": "code",
   "execution_count": null,
   "metadata": {},
   "outputs": [],
   "source": [
    "for "
   ]
  },
  {
   "cell_type": "code",
   "execution_count": null,
   "metadata": {
    "scrolled": false
   },
   "outputs": [],
   "source": [
    "ddf.apply(GetNumberOfCommentInDB_forDask, axis = 1).compute()"
   ]
  },
  {
   "cell_type": "code",
   "execution_count": null,
   "metadata": {},
   "outputs": [],
   "source": [
    "extData"
   ]
  },
  {
   "cell_type": "code",
   "execution_count": null,
   "metadata": {},
   "outputs": [],
   "source": []
  }
 ],
 "metadata": {
  "kernelspec": {
   "display_name": "Python 3",
   "language": "python",
   "name": "python3"
  },
  "language_info": {
   "codemirror_mode": {
    "name": "ipython",
    "version": 3
   },
   "file_extension": ".py",
   "mimetype": "text/x-python",
   "name": "python",
   "nbconvert_exporter": "python",
   "pygments_lexer": "ipython3",
   "version": "3.6.4"
  }
 },
 "nbformat": 4,
 "nbformat_minor": 2
}
