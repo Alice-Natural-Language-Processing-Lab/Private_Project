{
 "cells": [
  {
   "cell_type": "code",
   "execution_count": 12,
   "metadata": {},
   "outputs": [
    {
     "name": "stdout",
     "output_type": "stream",
     "text": [
      "Daum : (9372, 11)\n"
     ]
    }
   ],
   "source": [
    "# coding: utf-8\n",
    "\n",
    "\n",
    "import pickle\n",
    "import sys\n",
    "from datetime import datetime\n",
    "from multiprocessing import cpu_count\n",
    "\n",
    "import pandas as pd\n",
    "import dask.dataframe as dd\n",
    "\n",
    "import Database_Handler as dh\n",
    "import Basic_Module as bm\n",
    "\n",
    "if sys.argv[1] == 'naver':\n",
    "    # Naver\n",
    "    data = pickle.load(open('./data/pre_data/stastics/for_statistics_Naver_from_mongodb.pickled', 'rb'))\n",
    "    data = pd.DataFrame.from_dict(data, orient='index')\n",
    "    data.reset_index(inplace=True)\n",
    "    data.rename(columns={'index': 'id'}, inplace=True)\n",
    "    print('Naver : {}'.format(data.shape))\n",
    "    extData = data.loc[:, ['id', 'title', 'date', 'press', 'rank', 'category', 'number_of_comment',\n",
    "                           'number_of_crawled_comment']].copy()\n",
    "    extData['site'] = pd.Series(['Naver'] * extData.shape[0])\n",
    "\n",
    "else:\n",
    "    # Daum\n",
    "    data = pickle.load(open('./data/pre_data/stastics/for_statistics_daum_from_mongodb.pickled', 'rb'))\n",
    "    data = pd.DataFrame.from_dict(data, orient='index')\n",
    "    data.reset_index(inplace=True)\n",
    "    data.rename(columns={'index': 'id'}, inplace=True)\n",
    "    print('Daum : {}'.format(data.shape))\n",
    "    extData = data.loc[:, ['id', 'title', 'date', 'press', 'rank', 'category', 'number_of_comment',\n",
    "                           'number_of_crawled_comment']].copy()\n",
    "    extData['site'] = pd.Series(['daum'] * extData.shape[0])\n",
    "\n",
    "\n",
    "def GetNumberOfCommentInDB(row):\n",
    "    import Database_Handler as dh\n",
    "    from bson import ObjectId\n",
    "    mongodb = dh.ToMongoDB(*dh.AWS_MongoDB_Information())\n",
    "    dbname = 'hy_db'\n",
    "    useDB = dh.Use_Database(mongodb, dbname)\n",
    "    commentCollection = dh.Use_Collection(useDB, 'comments')\n",
    "    info = {'site': row['site'],\n",
    "            'category': row['category'],\n",
    "            'date': row['date'],\n",
    "            'rank': row['rank']}\n",
    "    commentsForNews = commentCollection.find(info)\n",
    "    realNumCount = commentsForNews.count()\n",
    "    site = row['site']\n",
    "    oid = ObjectId(row['id'])\n",
    "    if site == 'daum':\n",
    "        newsCollection = dh.Use_Collection(useDB, 'newsDaum')\n",
    "    else:\n",
    "        newsCollection = dh.Use_Collection(useDB, 'newsNaver')\n",
    "    if realNumCount != row['number_of_crawled_comment']:\n",
    "        newsCollection.update_one({'_id': oid},\n",
    "                                  {'$set': {'real_number_of_comment': realNumCount}})\n",
    "    if row.name % 100 == 0:\n",
    "        print(row.name)\n",
    "\n",
    "\n",
    "if __name__ == \"__main__\":\n",
    "    start = datetime.now()\n",
    "    ddf = dd.from_pandas(extData, npartitions=30)\n",
    "    ddf.apply(GetNumberOfCommentInDB, axis=1, meta = int).compute()\n",
    "    end = datetime.now()\n",
    "    print('running time : {}'.format(end - start))"
   ]
  },
  {
   "cell_type": "code",
   "execution_count": 13,
   "metadata": {},
   "outputs": [],
   "source": [
    "x = extData.loc[0]"
   ]
  },
  {
   "cell_type": "code",
   "execution_count": 14,
   "metadata": {},
   "outputs": [
    {
     "name": "stdout",
     "output_type": "stream",
     "text": [
      "0\n"
     ]
    }
   ],
   "source": [
    "GetNumberOfCommentInDB(x)"
   ]
  },
  {
   "cell_type": "code",
   "execution_count": 15,
   "metadata": {},
   "outputs": [],
   "source": [
    "from bson import ObjectId"
   ]
  },
  {
   "cell_type": "code",
   "execution_count": 16,
   "metadata": {},
   "outputs": [],
   "source": [
    "x = ObjectId(x['id'])"
   ]
  },
  {
   "cell_type": "code",
   "execution_count": 18,
   "metadata": {},
   "outputs": [],
   "source": [
    "import Database_Handler as dh\n",
    "from bson import ObjectId\n",
    "mongodb = dh.ToMongoDB(*dh.AWS_MongoDB_Information())\n",
    "dbname = 'hy_db'\n",
    "useDB = dh.Use_Database(mongodb, dbname)\n",
    "commentCollection = dh.Use_Collection(useDB, 'comments')\n",
    "newsCollection = dh.Use_Collection(useDB, 'newsDaum')"
   ]
  },
  {
   "cell_type": "code",
   "execution_count": 20,
   "metadata": {
    "scrolled": false
   },
   "outputs": [],
   "source": [
    "x2 = newsCollection.find({'_id' : x})"
   ]
  },
  {
   "cell_type": "code",
   "execution_count": 23,
   "metadata": {},
   "outputs": [
    {
     "name": "stdout",
     "output_type": "stream",
     "text": [
      "{'_id': ObjectId('5a2a61bf588c13481c229d1e'), 'category': '뉴스', 'date': '2017.12.07', 'link': 'http://v.media.daum.net/v/20171207100332307', 'press': '세계일보', 'rank': '1', 'title': '\"밤이 무섭다\"..비아그라 공장 연기에 남성들 부작용 호소', 'mainText': \" 주민들은 공장에서 배출된 연기가 '남성이 매우 건강해지는 부작용'을 일으킨다며, 이러한 부작용은 사람에 그치지 않고 개에도 나타난다고 지적했다. 이어 부작용으로 '일상생활에 어려움을 느낄 정도'라며 역학조사가 필요하다고 덧붙였다. 지역에서 간호사로 일하는 한 여성은 “공장 인근을 산책하던 중 강아지가 흥분상태인 것을 확인했다”며 “공장이 환경규제를 준수하는지 확인해야 한다”고 주장했다. 공장은 약 20년 전 마을에 들어선 후 현재까지 치료제를 생산했는데 최근 들어 지역 남성들에게 예상치 못한 영향을 미치고 있다. 시민들 문제 제기에 공장 대변인은 “사랑의 연기는 존재하지 않는다”고 일축하며 “남성들에게서 ‘플라세보효과‘가 나타난 듯하다”고 밝혔다. 한편 공장 성명에도 ‘알 수 없는 큰 힘이 작용한다‘는 생각에 반려견과 이곳을 찾는 남성들이 부쩍 늘었다고 전해진다. 이런 모습에 “건강은 연기가 아닌 운동에서 비롯된 것”이라는 추측이 나오고 있다.  * 플라세보효과는 의사가 효과 없는 가짜 약 또는 꾸며낸 치료법을 환자에게 처방하고, 환자의 긍정적인 믿음으로 인해 병세가 호전되는 현상을 말한다. 이동준 기자 blondie@segye.com\\n사진= 선데이타임스 캡처\", 'keywords': ['부작용', '비아그라', '아일랜드'], 'number_of_comment': 1093, 'real_number_of_comment': 903, 'site': 'daum'}\n"
     ]
    }
   ],
   "source": [
    "for i in x2:\n",
    "    print (i)"
   ]
  },
  {
   "cell_type": "code",
   "execution_count": 24,
   "metadata": {},
   "outputs": [
    {
     "data": {
      "text/plain": [
       "ObjectId('5a2a61bf588c13481c229d1e')"
      ]
     },
     "execution_count": 24,
     "metadata": {},
     "output_type": "execute_result"
    }
   ],
   "source": [
    "x"
   ]
  },
  {
   "cell_type": "code",
   "execution_count": 25,
   "metadata": {},
   "outputs": [
    {
     "data": {
      "text/plain": [
       "id                                   5a2a61bf588c13481c229d1e\n",
       "title                        \"밤이 무섭다\"..비아그라 공장 연기에 남성들 부작용 호소\n",
       "date                                               2017.12.07\n",
       "press                                                    세계일보\n",
       "rank                                                        1\n",
       "category                                                   뉴스\n",
       "number_of_comment                                        1093\n",
       "number_of_crawled_comment                                 911\n",
       "site                                                     daum\n",
       "Name: 0, dtype: object"
      ]
     },
     "execution_count": 25,
     "metadata": {},
     "output_type": "execute_result"
    }
   ],
   "source": [
    "extData.loc[0]"
   ]
  },
  {
   "cell_type": "code",
   "execution_count": null,
   "metadata": {},
   "outputs": [],
   "source": []
  }
 ],
 "metadata": {
  "kernelspec": {
   "display_name": "Python 3",
   "language": "python",
   "name": "python3"
  },
  "language_info": {
   "codemirror_mode": {
    "name": "ipython",
    "version": 3
   },
   "file_extension": ".py",
   "mimetype": "text/x-python",
   "name": "python",
   "nbconvert_exporter": "python",
   "pygments_lexer": "ipython3",
   "version": "3.6.4"
  }
 },
 "nbformat": 4,
 "nbformat_minor": 2
}
