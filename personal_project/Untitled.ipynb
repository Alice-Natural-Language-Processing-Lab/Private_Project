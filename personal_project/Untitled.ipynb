{
 "cells": [
  {
   "cell_type": "code",
   "execution_count": 2,
   "metadata": {},
   "outputs": [],
   "source": [
    "import crawling_ranking_news_ver17 as crnv"
   ]
  },
  {
   "cell_type": "code",
   "execution_count": 136,
   "metadata": {},
   "outputs": [],
   "source": [
    "def isElementPresent(driver, locator):\n",
    "    try:\n",
    "        driver.find_element_by_class_name(locator)\n",
    "    except NoSuchElementException:\n",
    "        return False\n",
    "    return True\n",
    "def SearchKeywordsFromDaumForNaver(title, press):\n",
    "    driver = crnv.webdriver.Chrome('C:/Users/pc/Documents/chromedriver.exe')\n",
    "    driver.get('http:www.daum.net')\n",
    "    tf_keyword = title + '&' + press\n",
    "    element = crnv.WebDriverWait(driver, 2).until(EC.presence_of_element_located((By.CLASS_NAME, 'tf_keyword')))\n",
    "    element.send_keys(tf_keyword)\n",
    "    button = driver.find_element_by_css_selector('#daumSearch > fieldset > div > div > button')\n",
    "    webdriver.ActionChains(driver).move_to_element(button).click(button).perform()\n",
    "    webpage = driver.find_element_by_css_selector('#clusterResultUL > li > div.wrap_cont > div > span > a').get_attribute('href')\n",
    "    driver.get(webpage)\n",
    "    element = crnv.WebDriverWait(driver, 2).until(EC.presence_of_element_located((By.CLASS_NAME, 'copyright_view')))\n",
    "    if isElementPresent(driver, 'tag_relate') == False:\n",
    "        keywords = 'NaN'\n",
    "    else:\n",
    "        element = WebDriverWait(driver, 2).until(EC.presence_of_element_located((By.CLASS_NAME, 'tag_relate')))\n",
    "        keywords = driver.find_elements_by_class_name('tag_relate')\n",
    "        keywords = list(map(lambda x: x.text, keywords))\n",
    "        keywords = list(map(lambda x: re.sub('#', '', x), keywords))\n",
    "    driver.quit()\n",
    "    return keywords"
   ]
  },
  {
   "cell_type": "code",
   "execution_count": 137,
   "metadata": {},
   "outputs": [],
   "source": [
    "site = 'Naver'\n",
    "collection = 'test'\n",
    "#etri_outcome = './data/ETRI_OUTCOME/naver2/'"
   ]
  },
  {
   "cell_type": "code",
   "execution_count": 138,
   "metadata": {},
   "outputs": [],
   "source": [
    "mongodb = crnv.dh.ToMongoDB(*crnv.dh.AWS_MongoDB_Information())\n",
    "dbname = 'hy_db'\n",
    "useDb = crnv.dh.Use_Database(mongodb, dbname)\n",
    "slack = crnv.cb.Slacker(crnv.cb.slacktoken())\n",
    "useCollection = crnv.dh.Use_Collection(useDb, collection)"
   ]
  },
  {
   "cell_type": "code",
   "execution_count": 139,
   "metadata": {
    "scrolled": false
   },
   "outputs": [
    {
     "name": "stderr",
     "output_type": "stream",
     "text": [
      "C:\\Users\\pc\\Anaconda3\\lib\\site-packages\\ipykernel_launcher.py:8: DeprecationWarning: update is deprecated. Use replace_one, update_one or update_many instead.\n",
      "  \n"
     ]
    }
   ],
   "source": [
    "for data in useCollection.find({'site':site}):\n",
    "    idis = data['_id']._ObjectId__id.hex()\n",
    "    title = data['title']\n",
    "    press = data['press']\n",
    "    keywords = SearchKeywordsFromDaumForNaver(title, press)\n",
    "    useCollection.update(\n",
    "    {\"_id\":data['_id']},\n",
    "    {'$set' : {\"keywords\" :keywords}})"
   ]
  },
  {
   "cell_type": "code",
   "execution_count": 115,
   "metadata": {},
   "outputs": [
    {
     "data": {
      "text/plain": [
       "['연준', '한국은행', '기준금리']"
      ]
     },
     "execution_count": 115,
     "metadata": {},
     "output_type": "execute_result"
    }
   ],
   "source": [
    "keywords"
   ]
  },
  {
   "cell_type": "code",
   "execution_count": 130,
   "metadata": {},
   "outputs": [
    {
     "data": {
      "text/plain": [
       "ObjectId('5a2ec677588c1360805f8a36')"
      ]
     },
     "execution_count": 130,
     "metadata": {},
     "output_type": "execute_result"
    }
   ],
   "source": [
    "data['_id']"
   ]
  },
  {
   "cell_type": "code",
   "execution_count": 133,
   "metadata": {},
   "outputs": [
    {
     "name": "stderr",
     "output_type": "stream",
     "text": [
      "C:\\Users\\pc\\Anaconda3\\lib\\site-packages\\ipykernel_launcher.py:3: DeprecationWarning: update is deprecated. Use replace_one, update_one or update_many instead.\n",
      "  This is separate from the ipykernel package so we can avoid doing imports until\n"
     ]
    },
    {
     "data": {
      "text/plain": [
       "{'n': 1, 'nModified': 1, 'ok': 1.0, 'updatedExisting': True}"
      ]
     },
     "execution_count": 133,
     "metadata": {},
     "output_type": "execute_result"
    }
   ],
   "source": []
  },
  {
   "cell_type": "code",
   "execution_count": null,
   "metadata": {},
   "outputs": [],
   "source": []
  }
 ],
 "metadata": {
  "kernelspec": {
   "display_name": "Python 3",
   "language": "python",
   "name": "python3"
  },
  "language_info": {
   "codemirror_mode": {
    "name": "ipython",
    "version": 3
   },
   "file_extension": ".py",
   "mimetype": "text/x-python",
   "name": "python",
   "nbconvert_exporter": "python",
   "pygments_lexer": "ipython3",
   "version": "3.6.3"
  }
 },
 "nbformat": 4,
 "nbformat_minor": 2
}
