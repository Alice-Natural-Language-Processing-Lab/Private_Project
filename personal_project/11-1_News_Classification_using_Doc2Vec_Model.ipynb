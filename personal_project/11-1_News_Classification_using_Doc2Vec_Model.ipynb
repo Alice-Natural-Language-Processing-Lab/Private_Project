{
 "cells": [
  {
   "cell_type": "markdown",
   "metadata": {},
   "source": [
    "# 다음의 News Classification Using Doc2Vec"
   ]
  },
  {
   "cell_type": "code",
   "execution_count": 1,
   "metadata": {},
   "outputs": [
    {
     "name": "stderr",
     "output_type": "stream",
     "text": [
      "/Users/hyunyoun/anaconda3/lib/python3.6/site-packages/h5py/__init__.py:36: FutureWarning: Conversion of the second argument of issubdtype from `float` to `np.floating` is deprecated. In future, it will be treated as `np.float64 == np.dtype(float).type`.\n",
      "  from ._conv import register_converters as _register_converters\n",
      "Using TensorFlow backend.\n"
     ]
    }
   ],
   "source": [
    "import pickle\n",
    "import html\n",
    "import multiprocessing\n",
    "from collections import namedtuple, OrderedDict\n",
    "import re\n",
    "import sys\n",
    "import os\n",
    "from glob import glob \n",
    "import warnings\n",
    "\n",
    "os.environ['KERAS_BACKEND']='tensorflow'\n",
    "\n",
    "import multiprocessing\n",
    "import numpy as np\n",
    "from tqdm import tqdm\n",
    "tqdm.pandas(desc=\"progress-bar\")\n",
    "import pandas as pd\n",
    "\n",
    "from gensim.models import doc2vec, KeyedVectors\n",
    "from gensim.models.doc2vec import TaggedDocument\n",
    "\n",
    "from konlpy.utils import pprint\n",
    "\n",
    "from sklearn.model_selection import train_test_split\n",
    "from sklearn.linear_model import LogisticRegression\n",
    "from sklearn.ensemble import RandomForestClassifier\n",
    "from sklearn.svm import SVC\n",
    "from sklearn.metrics import confusion_matrix, classification_report, roc_curve,  accuracy_score\n",
    "from sklearn.feature_extraction.text import TfidfVectorizer\n",
    "from sklearn.preprocessing import scale, MinMaxScaler, LabelEncoder\n",
    "from sklearn.manifold import TSNE\n",
    "\n",
    "import keras.backend.tensorflow_backend as K\n",
    "from keras.preprocessing import sequence\n",
    "from keras_tqdm import TQDMCallback, TQDMNotebookCallback\n",
    "from keras.models import Model, Sequential, load_model\n",
    "from keras.regularizers import l2\n",
    "from keras.optimizers import SGD\n",
    "from keras.utils import np_utils\n",
    "from keras.layers import Input, Flatten, Dense, Embedding, embeddings, merge, Dropout, Activation,  LSTM, Bidirectional, SimpleRNN, GRU\n",
    "from keras.layers.convolutional import Conv1D, Conv2D\n",
    "from keras.layers.pooling import MaxPooling1D, GlobalMaxPooling1D\n",
    "from keras.layers.normalization import BatchNormalization\n",
    "from keras.layers.core import SpatialDropout1D\n",
    "from keras.utils import np_utils\n",
    "from tensorflow.python.client import device_lib\n",
    "from keras.layers.merge import dot\n",
    "\n",
    "import xgboost as xgb\n",
    "\n",
    "import matplotlib.pyplot as plt\n",
    "\n",
    "import bokeh.plotting as bp\n",
    "from bokeh.models import HoverTool, BoxSelectTool\n",
    "from bokeh.plotting import figure, show, output_notebook"
   ]
  },
  {
   "cell_type": "code",
   "execution_count": 2,
   "metadata": {
    "scrolled": true
   },
   "outputs": [
    {
     "name": "stdout",
     "output_type": "stream",
     "text": [
      "[name: \"/device:CPU:0\"\n",
      "device_type: \"CPU\"\n",
      "memory_limit: 268435456\n",
      "locality {\n",
      "}\n",
      "incarnation: 2143610298218877933\n",
      "]\n"
     ]
    }
   ],
   "source": [
    "print (device_lib.list_local_devices())"
   ]
  },
  {
   "cell_type": "code",
   "execution_count": 3,
   "metadata": {},
   "outputs": [],
   "source": [
    "cores = int(multiprocessing.cpu_count())"
   ]
  },
  {
   "cell_type": "code",
   "execution_count": 4,
   "metadata": {},
   "outputs": [],
   "source": [
    "import Basic_Module as bm"
   ]
  },
  {
   "cell_type": "code",
   "execution_count": 5,
   "metadata": {},
   "outputs": [],
   "source": [
    "from ckonlpy.tag import Twitter\n",
    "from konlpy.tag import Mecab\n",
    "ct = Twitter()\n",
    "mecab = Mecab()\n",
    "def nav_tokenizer(tagger, corpus, stopwords):\n",
    "    pos = tagger.pos(corpus)\n",
    "    pos = ['/'.join(t) for t in pos if not t[0] in stopwords]\n",
    "    return pos"
   ]
  },
  {
   "cell_type": "markdown",
   "metadata": {},
   "source": [
    "## Load Data"
   ]
  },
  {
   "cell_type": "code",
   "execution_count": 6,
   "metadata": {},
   "outputs": [
    {
     "name": "stdout",
     "output_type": "stream",
     "text": [
      "Daum : (9372, 11)\n"
     ]
    }
   ],
   "source": [
    "#Daum\n",
    "daumData = pickle.load(open('./data/pre_data/stastics/for_statistics_daum_from_mongodb.pickled','rb'))\n",
    "daumData = pd.DataFrame.from_dict(daumData, orient = 'index')\n",
    "daumData.reset_index(inplace = True)\n",
    "daumData.rename(columns = {'index' : 'id'}, inplace = True)\n",
    "print ('Daum : {}'.format(daumData.shape))"
   ]
  },
  {
   "cell_type": "markdown",
   "metadata": {},
   "source": [
    "## Stopwords"
   ]
  },
  {
   "cell_type": "code",
   "execution_count": 7,
   "metadata": {},
   "outputs": [],
   "source": [
    "stopwords = open('./data/stopwordsList.txt',encoding='utf-8').readlines()\n",
    "stopwords = list(map(lambda x: x.strip(), stopwords))"
   ]
  },
  {
   "cell_type": "markdown",
   "metadata": {},
   "source": [
    "## Document Labeling"
   ]
  },
  {
   "cell_type": "code",
   "execution_count": 8,
   "metadata": {},
   "outputs": [],
   "source": [
    "TaggedDocument = namedtuple('TaggedDocument', 'words tags category')"
   ]
  },
  {
   "cell_type": "markdown",
   "metadata": {},
   "source": [
    "## Category"
   ]
  },
  {
   "cell_type": "code",
   "execution_count": 9,
   "metadata": {
    "scrolled": true
   },
   "outputs": [
    {
     "name": "stdout",
     "output_type": "stream",
     "text": [
      "['IT/과학' '경제' '사회' '생활/문화' '세계' '스포츠' '연예' '정치']\n"
     ]
    }
   ],
   "source": [
    "if os.path.isfile('./data/pre_data/news_tagged_data/pre_data_category_label_encoder_by_ct_for_doc2vec_news_classification.pickled'):\n",
    "    le = pickle.load(open('./data/pre_data/news_tagged_data/pre_data_category_label_encoder_by_ct_for_doc2vec_news_classification.pickled','rb'))\n",
    "else:\n",
    "    le = LabelEncoder()\n",
    "    le.fit(naverData['category'])\n",
    "    pickle.dump(le, open('./data/pre_data/news_tagged_data/pre_data_category_label_encoder_by_ct_for_doc2vec_news_classification.pickled','wb'))\n",
    "print (le.classes_)"
   ]
  },
  {
   "cell_type": "code",
   "execution_count": 10,
   "metadata": {},
   "outputs": [],
   "source": [
    "if sys.platform =='darwin':\n",
    "    loadModelPath = '/Volumes/disk1/news_model/'\n",
    "elif sys.platform =='win32':\n",
    "    loadModelPath = 'd:/news_model/'\n",
    "daumNewsPath = './data/pre_data/news_daum_news/'\n",
    "classifierPath = './data/pre_data/news_classifier/'"
   ]
  },
  {
   "cell_type": "code",
   "execution_count": 11,
   "metadata": {},
   "outputs": [
    {
     "data": {
      "text/html": [
       "<div>\n",
       "<style scoped>\n",
       "    .dataframe tbody tr th:only-of-type {\n",
       "        vertical-align: middle;\n",
       "    }\n",
       "\n",
       "    .dataframe tbody tr th {\n",
       "        vertical-align: top;\n",
       "    }\n",
       "\n",
       "    .dataframe thead th {\n",
       "        text-align: right;\n",
       "    }\n",
       "</style>\n",
       "<table border=\"1\" class=\"dataframe\">\n",
       "  <thead>\n",
       "    <tr style=\"text-align: right;\">\n",
       "      <th></th>\n",
       "      <th>id</th>\n",
       "      <th>category</th>\n",
       "      <th>date</th>\n",
       "      <th>press</th>\n",
       "      <th>number_of_comment</th>\n",
       "      <th>number_of_crawled_comment</th>\n",
       "      <th>rank</th>\n",
       "      <th>title</th>\n",
       "      <th>mainText</th>\n",
       "      <th>keywords</th>\n",
       "      <th>extracted_keywords</th>\n",
       "    </tr>\n",
       "  </thead>\n",
       "  <tbody>\n",
       "    <tr>\n",
       "      <th>0</th>\n",
       "      <td>5a2a61bf588c13481c229d1e</td>\n",
       "      <td>뉴스</td>\n",
       "      <td>2017.12.07</td>\n",
       "      <td>세계일보</td>\n",
       "      <td>1093</td>\n",
       "      <td>911</td>\n",
       "      <td>1</td>\n",
       "      <td>\"밤이 무섭다\"..비아그라 공장 연기에 남성들 부작용 호소</td>\n",
       "      <td>주민들은 공장에서 배출된 연기가 '남성이 매우 건강해지는 부작용'을 일으킨다며, ...</td>\n",
       "      <td>[부작용, 비아그라, 아일랜드]</td>\n",
       "      <td>{부작용, 남성들, 세보 효과, 공장, 건강, 연기, 지역}</td>\n",
       "    </tr>\n",
       "    <tr>\n",
       "      <th>1</th>\n",
       "      <td>5a2a61bf588c13481c229d1f</td>\n",
       "      <td>뉴스</td>\n",
       "      <td>2017.12.07</td>\n",
       "      <td>헬스조선</td>\n",
       "      <td>603</td>\n",
       "      <td>386</td>\n",
       "      <td>2</td>\n",
       "      <td>식후 커피·늦은 양치질..점심식사 후 하면 안 좋은 습관 3가지</td>\n",
       "      <td>점심식사를 마친 후 후식으로 커피를 마시는 사람들이 많다. 실제로 직장이 밀집돼 ...</td>\n",
       "      <td>[커피, 낮잠, 음식물]</td>\n",
       "      <td>{디스크, 건강, 철분, 식후, 점심 식사, 자세, 낮잠, 커피, 치아, 입냄새}</td>\n",
       "    </tr>\n",
       "    <tr>\n",
       "      <th>2</th>\n",
       "      <td>5a2a61bf588c13481c229d20</td>\n",
       "      <td>뉴스</td>\n",
       "      <td>2017.12.07</td>\n",
       "      <td>연합뉴스</td>\n",
       "      <td>1067</td>\n",
       "      <td>811</td>\n",
       "      <td>3</td>\n",
       "      <td>'십년지기 생매장' 진짜 이유는..\"'청부 통정' 알려질까 봐\"</td>\n",
       "      <td>(성남=연합뉴스) 최해민 기자 = 십년지기 지인을 산 채로 묻어 살해한 50대 여...</td>\n",
       "      <td>[살인혐의, 철원, 검찰송치]</td>\n",
       "      <td>{철원, 지인, 성관계, 경찰, 진술, 주변, 남편, 아들, 앙심, 범행}</td>\n",
       "    </tr>\n",
       "    <tr>\n",
       "      <th>3</th>\n",
       "      <td>5a2a61bf588c13481c229d21</td>\n",
       "      <td>뉴스</td>\n",
       "      <td>2017.12.07</td>\n",
       "      <td>헤럴드경제</td>\n",
       "      <td>418</td>\n",
       "      <td>369</td>\n",
       "      <td>4</td>\n",
       "      <td>신영자, 억 소리나는 갑질</td>\n",
       "      <td>신영자, 적용안된 혐의→검찰 상고에서 인정\\n신영자, 얼마를 어떻게 받았나  [헤럴...</td>\n",
       "      <td>[신영자, 갑질, 롯데백화점]</td>\n",
       "      <td>{유통업체, 검찰, 네이처리퍼블릭, 매장, 롯데, 징역, 신영자 이사장, 혐의}</td>\n",
       "    </tr>\n",
       "    <tr>\n",
       "      <th>4</th>\n",
       "      <td>5a2a61bf588c13481c229d22</td>\n",
       "      <td>뉴스</td>\n",
       "      <td>2017.12.07</td>\n",
       "      <td>연합뉴스</td>\n",
       "      <td>434</td>\n",
       "      <td>368</td>\n",
       "      <td>5</td>\n",
       "      <td>\"배신하지마\" 20대女 살인 피의자 유치장서 공범 남친에 쪽지</td>\n",
       "      <td>(청주=연합뉴스) 이승민 기자 = 지난 9월 청주의 한 하천에서 20대 여성을 둔기...</td>\n",
       "      <td>[공범, 살인, 과자]</td>\n",
       "      <td>{과자, 남자친구, 유치장, 경찰, 쪽지, 폭행, 혐의, 범행}</td>\n",
       "    </tr>\n",
       "  </tbody>\n",
       "</table>\n",
       "</div>"
      ],
      "text/plain": [
       "                         id category        date  press  number_of_comment  \\\n",
       "0  5a2a61bf588c13481c229d1e       뉴스  2017.12.07   세계일보               1093   \n",
       "1  5a2a61bf588c13481c229d1f       뉴스  2017.12.07   헬스조선                603   \n",
       "2  5a2a61bf588c13481c229d20       뉴스  2017.12.07   연합뉴스               1067   \n",
       "3  5a2a61bf588c13481c229d21       뉴스  2017.12.07  헤럴드경제                418   \n",
       "4  5a2a61bf588c13481c229d22       뉴스  2017.12.07   연합뉴스                434   \n",
       "\n",
       "   number_of_crawled_comment rank                                title  \\\n",
       "0                        911    1     \"밤이 무섭다\"..비아그라 공장 연기에 남성들 부작용 호소   \n",
       "1                        386    2  식후 커피·늦은 양치질..점심식사 후 하면 안 좋은 습관 3가지   \n",
       "2                        811    3  '십년지기 생매장' 진짜 이유는..\"'청부 통정' 알려질까 봐\"   \n",
       "3                        369    4                       신영자, 억 소리나는 갑질   \n",
       "4                        368    5   \"배신하지마\" 20대女 살인 피의자 유치장서 공범 남친에 쪽지   \n",
       "\n",
       "                                            mainText           keywords  \\\n",
       "0   주민들은 공장에서 배출된 연기가 '남성이 매우 건강해지는 부작용'을 일으킨다며, ...  [부작용, 비아그라, 아일랜드]   \n",
       "1   점심식사를 마친 후 후식으로 커피를 마시는 사람들이 많다. 실제로 직장이 밀집돼 ...      [커피, 낮잠, 음식물]   \n",
       "2   (성남=연합뉴스) 최해민 기자 = 십년지기 지인을 산 채로 묻어 살해한 50대 여...   [살인혐의, 철원, 검찰송치]   \n",
       "3  신영자, 적용안된 혐의→검찰 상고에서 인정\\n신영자, 얼마를 어떻게 받았나  [헤럴...   [신영자, 갑질, 롯데백화점]   \n",
       "4  (청주=연합뉴스) 이승민 기자 = 지난 9월 청주의 한 하천에서 20대 여성을 둔기...       [공범, 살인, 과자]   \n",
       "\n",
       "                              extracted_keywords  \n",
       "0              {부작용, 남성들, 세보 효과, 공장, 건강, 연기, 지역}  \n",
       "1  {디스크, 건강, 철분, 식후, 점심 식사, 자세, 낮잠, 커피, 치아, 입냄새}  \n",
       "2      {철원, 지인, 성관계, 경찰, 진술, 주변, 남편, 아들, 앙심, 범행}  \n",
       "3   {유통업체, 검찰, 네이처리퍼블릭, 매장, 롯데, 징역, 신영자 이사장, 혐의}  \n",
       "4            {과자, 남자친구, 유치장, 경찰, 쪽지, 폭행, 혐의, 범행}  "
      ]
     },
     "execution_count": 11,
     "metadata": {},
     "output_type": "execute_result"
    }
   ],
   "source": [
    "daumData.head()"
   ]
  },
  {
   "cell_type": "markdown",
   "metadata": {},
   "source": [
    "## Doc2Vec Model"
   ]
  },
  {
   "cell_type": "markdown",
   "metadata": {},
   "source": [
    "### Twitter"
   ]
  },
  {
   "cell_type": "markdown",
   "metadata": {},
   "source": [
    "#### News to tagged Document"
   ]
  },
  {
   "cell_type": "code",
   "execution_count": 12,
   "metadata": {},
   "outputs": [],
   "source": [
    "if os.path.isfile('./data/pre_data/news_tagged_data/pre_data_daum_news_by_ct_for_doc2vec_news_classification.pickled'):\n",
    "    daumData2 = pickle.load(open('./data/pre_data/news_tagged_data/pre_data_daum_news_by_ct_for_doc2vec_news_classification.pickled', 'rb'))\n",
    "else:\n",
    "    daumData2 = bm.MakeTaggedDataDAUM(daumData, TaggedDocument, ct, stopwords, 'daum')\n",
    "    pickle.dump(daumData2, open('./data/pre_data/news_tagged_data/pre_data_daum_news_by_ct_for_doc2vec_news_classification.pickled', 'wb'))"
   ]
  },
  {
   "cell_type": "markdown",
   "metadata": {},
   "source": [
    "#### Load Model"
   ]
  },
  {
   "cell_type": "code",
   "execution_count": 13,
   "metadata": {},
   "outputs": [],
   "source": [
    "model1 = doc2vec.Doc2Vec.load(loadModelPath+'doc2vec_size-500_epoch-20_window-10_negative-7_hs-0_dm-1_dm_concat-0_dm_mean-1_by-ct.model')\n",
    "model2 = doc2vec.Doc2Vec.load(loadModelPath+'doc2vec_size-500_epoch-20_window-5_negative-7_hs-0_dm-1_dm_concat-1_dm_mean-0_by-ct.model')\n",
    "model3 = doc2vec.Doc2Vec.load(loadModelPath+'doc2vec_size-500_epoch-20_window-None_negative-7_hs-0_dm-0_dm_concat-0_dm_mean-0_by-ct.model')"
   ]
  },
  {
   "cell_type": "markdown",
   "metadata": {},
   "source": [
    "#### tagged Document to Vector"
   ]
  },
  {
   "cell_type": "code",
   "execution_count": 14,
   "metadata": {},
   "outputs": [],
   "source": [
    "taggerName = 'ct'\n",
    "name1 = '-'.join(re.split('[\\(\\),\\/]',str(model1)))+taggerName\n",
    "if not os.path.isfile(daumNewsPath+'daum_news_'+name1):\n",
    "    daum_news_by_m1 = bm.Get_Infer_Vector(daumData2, model1)\n",
    "    \n",
    "    pickle.dump(daum_news_by_m1,open(daumNewsPath+'daum_news_'+name1,'wb'))\n",
    "    del daum_news_by_m1\n",
    "    #del name1\n",
    "    \n",
    "name2 = '-'.join(re.split('[\\(\\),\\/]',str(model2)))+taggerName\n",
    "if not os.path.isfile(daumNewsPath+'daum_news_'+name2):\n",
    "    daum_news_by_m2 = bm.Get_Infer_Vector(daumData2, model2)\n",
    "\n",
    "    pickle.dump(daum_news_by_m2,open(daumNewsPath+'daum_news_'+name2,'wb'))\n",
    "    del daum_news_by_m2\n",
    "    #del name2\n",
    "\n",
    "name3 = '-'.join(re.split('[\\(\\),\\/]',str(model3)))+taggerName\n",
    "if not os.path.isfile(daumNewsPath+'daum_news_'+name3):\n",
    "    daum_news_by_m3 = bm.Get_Infer_Vector(daumData2, model3)\n",
    "\n",
    "    pickle.dump(daum_news_by_m3,open(daumNewsPath+'daum_news_'+name3,'wb'))\n",
    "    del daum_news_by_m3\n",
    "    #del name3\n",
    "    \n",
    "if not os.path.isfile(daumNewsPath+'daum_news_tags_y_ct_for_news_classification'):\n",
    "    daum_news_tags_y = [doc.tags for doc in tqdm(daumData2)]\n",
    "    \n",
    "    pickle.dump(daum_news_tags_y, open(daumNewsPath+'daum_news_tags_y_ct_for_news_classification','wb'))\n",
    "    del daum_news_tags_y\n",
    "\n",
    "if 'daumData2' in locals():\n",
    "    del daumData2"
   ]
  },
  {
   "cell_type": "code",
   "execution_count": 15,
   "metadata": {},
   "outputs": [],
   "source": [
    "extDaumData = daumData.loc[:,['id','title','extracted_keywords']].copy()"
   ]
  },
  {
   "cell_type": "markdown",
   "metadata": {},
   "source": [
    "#### model1"
   ]
  },
  {
   "cell_type": "code",
   "execution_count": 16,
   "metadata": {},
   "outputs": [],
   "source": [
    "classifierList = glob(classifierPath+'*'+name1)"
   ]
  },
  {
   "cell_type": "code",
   "execution_count": 17,
   "metadata": {},
   "outputs": [
    {
     "name": "stdout",
     "output_type": "stream",
     "text": [
      "SVC\n",
      "RandomForestClassifier\n",
      "XGBoost\n",
      "NeuralNetwork_1\n",
      "NeuralNetwork_2\n",
      "LogisticRegression\n"
     ]
    }
   ],
   "source": [
    "loadClassifierDict = dict(map(lambda x:bm.LoadClassifier(x), classifierList))"
   ]
  },
  {
   "cell_type": "code",
   "execution_count": 18,
   "metadata": {},
   "outputs": [],
   "source": [
    "daum_news_by_m1_name = daumNewsPath+'daum_news_'+name1\n",
    "daum_news_by_m1 = pickle.load(open(daum_news_by_m1_name, 'rb'))"
   ]
  },
  {
   "cell_type": "code",
   "execution_count": 24,
   "metadata": {},
   "outputs": [
    {
     "name": "stderr",
     "output_type": "stream",
     "text": [
      "9372it [00:00, 505666.76it/s]\n",
      "9372it [00:00, 629417.60it/s]\n",
      "9372it [00:00, 432133.43it/s]\n"
     ]
    },
    {
     "name": "stdout",
     "output_type": "stream",
     "text": [
      "CPU times: user 56.9 s, sys: 1.24 s, total: 58.2 s\n",
      "Wall time: 58.7 s\n"
     ]
    }
   ],
   "source": [
    "%%time\n",
    "warnings.filterwarnings('ignore')\n",
    "predictOutcome = dict(map(lambda x: bm.PredictNewsClassification(daum_news_by_m1, x, loadClassifierDict[x]), loadClassifierDict))\n",
    "predictOutcome = pd.DataFrame.from_dict(predictOutcome)\n",
    "predictOutcome = predictOutcome.applymap(lambda x: le.inverse_transform(int(x)))\n",
    "predictOutcome = extDaumData.merge(predictOutcome,\n",
    "                                   left_index = True, right_index = True)\n",
    "predictOutcome.to_csv('./outcome/outcome_news_classification_'+name1,index=None, encoding='utf-8')"
   ]
  },
  {
   "cell_type": "code",
   "execution_count": null,
   "metadata": {},
   "outputs": [],
   "source": []
  },
  {
   "cell_type": "markdown",
   "metadata": {},
   "source": [
    "#### model2"
   ]
  },
  {
   "cell_type": "code",
   "execution_count": 25,
   "metadata": {},
   "outputs": [],
   "source": [
    "classifierList = glob(classifierPath+'*'+name2)"
   ]
  },
  {
   "cell_type": "code",
   "execution_count": 26,
   "metadata": {},
   "outputs": [
    {
     "name": "stdout",
     "output_type": "stream",
     "text": [
      "SVC\n",
      "XGBoost\n",
      "NeuralNetwork_2\n",
      "RandomForestClassifier\n",
      "NeuralNetwork_1\n",
      "LogisticRegression\n"
     ]
    }
   ],
   "source": [
    "loadClassifierDict = dict(map(lambda x:bm.LoadClassifier(x), classifierList))"
   ]
  },
  {
   "cell_type": "code",
   "execution_count": 27,
   "metadata": {},
   "outputs": [],
   "source": [
    "daum_news_by_m2_name = daumNewsPath+'daum_news_'+name2\n",
    "daum_news_by_m2 = pickle.load(open(daum_news_by_m2_name, 'rb'))"
   ]
  },
  {
   "cell_type": "code",
   "execution_count": 28,
   "metadata": {},
   "outputs": [
    {
     "name": "stderr",
     "output_type": "stream",
     "text": [
      "9372it [00:00, 744573.57it/s]\n",
      "9372it [00:00, 932708.91it/s]\n",
      "9372it [00:00, 705018.60it/s]\n"
     ]
    },
    {
     "name": "stdout",
     "output_type": "stream",
     "text": [
      "CPU times: user 1min 9s, sys: 998 ms, total: 1min 10s\n",
      "Wall time: 1min 10s\n"
     ]
    }
   ],
   "source": [
    "%%time\n",
    "warnings.filterwarnings('ignore')\n",
    "predictOutcome = dict(map(lambda x: bm.PredictNewsClassification(daum_news_by_m2, x, loadClassifierDict[x]), loadClassifierDict))\n",
    "predictOutcome = pd.DataFrame.from_dict(predictOutcome)\n",
    "predictOutcome = predictOutcome.applymap(lambda x: le.inverse_transform(int(x)))\n",
    "predictOutcome = extDaumData.merge(predictOutcome,\n",
    "                                   left_index = True, right_index = True)\n",
    "predictOutcome.to_csv('./outcome/outcome_news_classification_'+name2,index=None, encoding='utf-8')"
   ]
  },
  {
   "cell_type": "markdown",
   "metadata": {},
   "source": [
    "#### model3"
   ]
  },
  {
   "cell_type": "code",
   "execution_count": 29,
   "metadata": {},
   "outputs": [],
   "source": [
    "classifierList = glob(classifierPath+'*'+name3)"
   ]
  },
  {
   "cell_type": "code",
   "execution_count": 30,
   "metadata": {},
   "outputs": [
    {
     "name": "stdout",
     "output_type": "stream",
     "text": [
      "RandomForestClassifier\n",
      "LogisticRegression\n",
      "SVC\n",
      "NeuralNetwork_1\n",
      "XGBoost\n",
      "NeuralNetwork_2\n"
     ]
    }
   ],
   "source": [
    "loadClassifierDict = dict(map(lambda x:bm.LoadClassifier(x), classifierList))"
   ]
  },
  {
   "cell_type": "code",
   "execution_count": 31,
   "metadata": {},
   "outputs": [],
   "source": [
    "daum_news_by_m3_name = daumNewsPath+'daum_news_'+name3\n",
    "daum_news_by_m3 = pickle.load(open(daum_news_by_m3_name, 'rb'))"
   ]
  },
  {
   "cell_type": "code",
   "execution_count": 32,
   "metadata": {},
   "outputs": [
    {
     "name": "stderr",
     "output_type": "stream",
     "text": [
      "9372it [00:00, 160318.02it/s]\n",
      "9372it [00:00, 458195.11it/s]\n",
      "9372it [00:00, 279709.80it/s]\n"
     ]
    },
    {
     "name": "stdout",
     "output_type": "stream",
     "text": [
      "CPU times: user 1min 7s, sys: 1.25 s, total: 1min 8s\n",
      "Wall time: 1min 12s\n"
     ]
    }
   ],
   "source": [
    "%%time\n",
    "warnings.filterwarnings('ignore')\n",
    "predictOutcome = dict(map(lambda x: bm.PredictNewsClassification(daum_news_by_m3, x, loadClassifierDict[x]), loadClassifierDict))\n",
    "predictOutcome = pd.DataFrame.from_dict(predictOutcome)\n",
    "predictOutcome = predictOutcome.applymap(lambda x: le.inverse_transform(int(x)))\n",
    "predictOutcome = extDaumData.merge(predictOutcome,\n",
    "                                   left_index = True, right_index = True)\n",
    "predictOutcome.to_csv('./outcome/outcome_news_classification_'+name3,index=None, encoding='utf-8')"
   ]
  },
  {
   "cell_type": "markdown",
   "metadata": {},
   "source": [
    "### Mecab"
   ]
  },
  {
   "cell_type": "markdown",
   "metadata": {},
   "source": [
    "#### News to tagged Document"
   ]
  },
  {
   "cell_type": "code",
   "execution_count": 33,
   "metadata": {},
   "outputs": [],
   "source": [
    "if os.path.isfile('./data/pre_data/news_tagged_data/pre_data_daum_news_by_mecab_for_doc2vec_news_classification.pickled'):\n",
    "    daumData2 = pickle.load(open('./data/pre_data/news_tagged_data/pre_data_daum_news_by_mecab_for_doc2vec_news_classification.pickled', 'rb'))\n",
    "else:\n",
    "    daumData2 = bm.MakeTaggedDataDAUM(daumData, TaggedDocument, mecab, stopwords, 'daum')\n",
    "    pickle.dump(daumData2, open('./data/pre_data/news_tagged_data/pre_data_daum_news_by_mecab_for_doc2vec_news_classification.pickled', 'wb'))\n",
    "\n"
   ]
  },
  {
   "cell_type": "markdown",
   "metadata": {},
   "source": [
    "#### Load Model"
   ]
  },
  {
   "cell_type": "code",
   "execution_count": 34,
   "metadata": {},
   "outputs": [],
   "source": [
    "model1 = doc2vec.Doc2Vec.load(loadModelPath+'doc2vec_size-500_epoch-20_window-10_negative-7_hs-0_dm-1_dm_concat-0_dm_mean-1_by-mecab.model')\n",
    "model2 = doc2vec.Doc2Vec.load(loadModelPath+'doc2vec_size-500_epoch-20_window-5_negative-7_hs-0_dm-1_dm_concat-1_dm_mean-0_by-mecab.model')\n",
    "model3 = doc2vec.Doc2Vec.load(loadModelPath+'doc2vec_size-500_epoch-20_window-None_negative-7_hs-0_dm-0_dm_concat-0_dm_mean-0_by-mecab.model')"
   ]
  },
  {
   "cell_type": "markdown",
   "metadata": {},
   "source": [
    "#### tagged Document to Vector"
   ]
  },
  {
   "cell_type": "code",
   "execution_count": 35,
   "metadata": {},
   "outputs": [],
   "source": [
    "taggerName = 'mecab'\n",
    "name1 = '-'.join(re.split('[\\(\\),\\/]',str(model1)))+taggerName\n",
    "if not os.path.isfile(daumNewsPath+'daum_news_'+name1):\n",
    "    daum_news_by_m1 = bm.Get_Infer_Vector(daumData2, model1)\n",
    "    \n",
    "    pickle.dump(daum_news_by_m1,open(daumNewsPath+'daum_news_'+name1,'wb'))\n",
    "    del daum_news_by_m1\n",
    "    #del name1\n",
    "    \n",
    "name2 = '-'.join(re.split('[\\(\\),\\/]',str(model2)))+taggerName\n",
    "if not os.path.isfile(daumNewsPath+'daum_news_'+name2):\n",
    "    daum_news_by_m2 = bm.Get_Infer_Vector(daumData2, model2)\n",
    "\n",
    "    pickle.dump(daum_news_by_m2,open(daumNewsPath+'daum_news_'+name2,'wb'))\n",
    "    del daum_news_by_m2\n",
    "    #del name2\n",
    "\n",
    "name3 = '-'.join(re.split('[\\(\\),\\/]',str(model3)))+taggerName\n",
    "if not os.path.isfile(daumNewsPath+'daum_news_'+name3):\n",
    "    daum_news_by_m3 = bm.Get_Infer_Vector(daumData2, model3)\n",
    "\n",
    "    pickle.dump(daum_news_by_m3,open(daumNewsPath+'daum_news_'+name3,'wb'))\n",
    "    del daum_news_by_m3\n",
    "    #del name3\n",
    "    \n",
    "if not os.path.isfile(daumNewsPath+'daum_news_tags_y_ct_for_news_classification'):\n",
    "    daum_news_tags_y = [doc.tags for doc in tqdm(daumData2)]\n",
    "    \n",
    "    pickle.dump(daum_news_tags_y, open(daumNewsPath+'daum_news_tags_y_ct_for_news_classification','wb'))\n",
    "    del daum_news_tags_y\n",
    "\n",
    "if 'daumData2' in locals():\n",
    "    del daumData2"
   ]
  },
  {
   "cell_type": "code",
   "execution_count": 36,
   "metadata": {},
   "outputs": [],
   "source": [
    "extDaumData = daumData.loc[:,['id','title','extracted_keywords']].copy()"
   ]
  },
  {
   "cell_type": "markdown",
   "metadata": {},
   "source": [
    "#### model1"
   ]
  },
  {
   "cell_type": "code",
   "execution_count": 37,
   "metadata": {},
   "outputs": [],
   "source": [
    "classifierList = glob(classifierPath+'*'+name1)"
   ]
  },
  {
   "cell_type": "code",
   "execution_count": 38,
   "metadata": {},
   "outputs": [
    {
     "name": "stdout",
     "output_type": "stream",
     "text": [
      "XGBoost\n",
      "NeuralNetwork_1\n",
      "SVC\n",
      "RandomForestClassifier\n",
      "LogisticRegression\n",
      "NeuralNetwork_2\n"
     ]
    }
   ],
   "source": [
    "loadClassifierDict = dict(map(lambda x:bm.LoadClassifier(x), classifierList))"
   ]
  },
  {
   "cell_type": "code",
   "execution_count": 39,
   "metadata": {},
   "outputs": [],
   "source": [
    "daum_news_by_m1_name = daumNewsPath+'daum_news_'+name1\n",
    "daum_news_by_m1 = pickle.load(open(daum_news_by_m1_name, 'rb'))"
   ]
  },
  {
   "cell_type": "code",
   "execution_count": 40,
   "metadata": {},
   "outputs": [
    {
     "name": "stderr",
     "output_type": "stream",
     "text": [
      "9372it [00:00, 603713.86it/s]\n",
      "9372it [00:00, 370284.36it/s]\n",
      "9372it [00:00, 869360.78it/s]\n"
     ]
    },
    {
     "name": "stdout",
     "output_type": "stream",
     "text": [
      "CPU times: user 54.3 s, sys: 827 ms, total: 55.1 s\n",
      "Wall time: 58.4 s\n"
     ]
    }
   ],
   "source": [
    "%%time\n",
    "warnings.filterwarnings('ignore')\n",
    "predictOutcome = dict(map(lambda x: bm.PredictNewsClassification(daum_news_by_m1, x, loadClassifierDict[x]), loadClassifierDict))\n",
    "predictOutcome = pd.DataFrame.from_dict(predictOutcome)\n",
    "predictOutcome = predictOutcome.applymap(lambda x: le.inverse_transform(int(x)))\n",
    "predictOutcome = extDaumData.merge(predictOutcome,\n",
    "                                   left_index = True, right_index = True)\n",
    "predictOutcome.to_csv('./outcome/outcome_news_classification_'+name1,index=None, encoding='utf-8')"
   ]
  },
  {
   "cell_type": "code",
   "execution_count": null,
   "metadata": {},
   "outputs": [],
   "source": []
  },
  {
   "cell_type": "markdown",
   "metadata": {},
   "source": [
    "#### model2"
   ]
  },
  {
   "cell_type": "code",
   "execution_count": 41,
   "metadata": {},
   "outputs": [],
   "source": [
    "classifierList = glob(classifierPath+'*'+name2)"
   ]
  },
  {
   "cell_type": "code",
   "execution_count": 42,
   "metadata": {},
   "outputs": [
    {
     "name": "stdout",
     "output_type": "stream",
     "text": [
      "NeuralNetwork_2\n",
      "RandomForestClassifier\n",
      "SVC\n",
      "LogisticRegression\n",
      "NeuralNetwork_1\n",
      "XGBoost\n"
     ]
    }
   ],
   "source": [
    "loadClassifierDict = dict(map(lambda x:bm.LoadClassifier(x), classifierList))"
   ]
  },
  {
   "cell_type": "code",
   "execution_count": 43,
   "metadata": {},
   "outputs": [],
   "source": [
    "daum_news_by_m2_name = daumNewsPath+'daum_news_'+name2\n",
    "daum_news_by_m2 = pickle.load(open(daum_news_by_m2_name, 'rb'))"
   ]
  },
  {
   "cell_type": "code",
   "execution_count": 44,
   "metadata": {},
   "outputs": [
    {
     "name": "stderr",
     "output_type": "stream",
     "text": [
      "9372it [00:00, 564776.61it/s]\n",
      "9372it [00:00, 877923.33it/s]\n",
      "9372it [00:00, 789686.55it/s]\n"
     ]
    },
    {
     "name": "stdout",
     "output_type": "stream",
     "text": [
      "CPU times: user 1min 9s, sys: 981 ms, total: 1min 10s\n",
      "Wall time: 1min 12s\n"
     ]
    }
   ],
   "source": [
    "%%time\n",
    "warnings.filterwarnings('ignore')\n",
    "predictOutcome = dict(map(lambda x: bm.PredictNewsClassification(daum_news_by_m2, x, loadClassifierDict[x]), loadClassifierDict))\n",
    "predictOutcome = pd.DataFrame.from_dict(predictOutcome)\n",
    "predictOutcome = predictOutcome.applymap(lambda x: le.inverse_transform(int(x)))\n",
    "predictOutcome = extDaumData.merge(predictOutcome,\n",
    "                                   left_index = True, right_index = True)\n",
    "predictOutcome.to_csv('./outcome/outcome_news_classification_'+name2,index=None, encoding='utf-8')"
   ]
  },
  {
   "cell_type": "markdown",
   "metadata": {},
   "source": [
    "#### model3"
   ]
  },
  {
   "cell_type": "code",
   "execution_count": 45,
   "metadata": {},
   "outputs": [],
   "source": [
    "classifierList = glob(classifierPath+'*'+name3)"
   ]
  },
  {
   "cell_type": "code",
   "execution_count": 46,
   "metadata": {},
   "outputs": [
    {
     "name": "stdout",
     "output_type": "stream",
     "text": [
      "NeuralNetwork_2\n",
      "XGBoost\n",
      "SVC\n",
      "LogisticRegression\n",
      "NeuralNetwork_1\n",
      "RandomForestClassifier\n"
     ]
    }
   ],
   "source": [
    "loadClassifierDict = dict(map(lambda x:bm.LoadClassifier(x), classifierList))"
   ]
  },
  {
   "cell_type": "code",
   "execution_count": 47,
   "metadata": {},
   "outputs": [],
   "source": [
    "daum_news_by_m3_name = daumNewsPath+'daum_news_'+name3\n",
    "daum_news_by_m3 = pickle.load(open(daum_news_by_m3_name, 'rb'))"
   ]
  },
  {
   "cell_type": "code",
   "execution_count": 48,
   "metadata": {},
   "outputs": [
    {
     "name": "stderr",
     "output_type": "stream",
     "text": [
      "9372it [00:00, 529735.42it/s]\n",
      "9372it [00:00, 624517.69it/s]\n",
      "9372it [00:00, 802044.79it/s]\n"
     ]
    },
    {
     "name": "stdout",
     "output_type": "stream",
     "text": [
      "CPU times: user 1min 1s, sys: 928 ms, total: 1min 2s\n",
      "Wall time: 1min 2s\n"
     ]
    }
   ],
   "source": [
    "%%time\n",
    "warnings.filterwarnings('ignore')\n",
    "predictOutcome = dict(map(lambda x: bm.PredictNewsClassification(daum_news_by_m3, x, loadClassifierDict[x]), loadClassifierDict))\n",
    "predictOutcome = pd.DataFrame.from_dict(predictOutcome)\n",
    "predictOutcome = predictOutcome.applymap(lambda x: le.inverse_transform(int(x)))\n",
    "predictOutcome = extDaumData.merge(predictOutcome,\n",
    "                                   left_index = True, right_index = True)\n",
    "predictOutcome.to_csv('./outcome/outcome_news_classification_'+name3,index=None, encoding='utf-8')"
   ]
  },
  {
   "cell_type": "code",
   "execution_count": null,
   "metadata": {},
   "outputs": [],
   "source": []
  }
 ],
 "metadata": {
  "kernelspec": {
   "display_name": "Python 3",
   "language": "python",
   "name": "python3"
  },
  "language_info": {
   "codemirror_mode": {
    "name": "ipython",
    "version": 3
   },
   "file_extension": ".py",
   "mimetype": "text/x-python",
   "name": "python",
   "nbconvert_exporter": "python",
   "pygments_lexer": "ipython3",
   "version": "3.6.4"
  }
 },
 "nbformat": 4,
 "nbformat_minor": 2
}
