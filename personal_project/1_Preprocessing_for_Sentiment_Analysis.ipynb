{
 "cells": [
  {
   "cell_type": "markdown",
   "metadata": {},
   "source": [
    "# Preprocessin for Sentiment Analysis\n",
    "> * [공공데이터포털](https://www.data.go.kr/) : 뉴스빅데이터 분석 정보\n",
    "> * 수정일 2017.12.26 "
   ]
  },
  {
   "cell_type": "code",
   "execution_count": 1,
   "metadata": {},
   "outputs": [],
   "source": [
    "# -*- coding: utf-8 -*-"
   ]
  },
  {
   "cell_type": "code",
   "execution_count": 2,
   "metadata": {},
   "outputs": [],
   "source": [
    "import os\n",
    "from glob import glob\n",
    "import pandas as pd\n",
    "import html\n",
    "import itertools\n",
    "import re"
   ]
  },
  {
   "cell_type": "markdown",
   "metadata": {},
   "source": [
    "## 뉴스 빅데이터 현황으로부터 감정분석 문장 추출"
   ]
  },
  {
   "cell_type": "code",
   "execution_count": 3,
   "metadata": {},
   "outputs": [],
   "source": [
    "path1 = './data/news/have_negative_positive/constitution/'\n",
    "path2 = './data/news/have_negative_positive/household_debt/'\n",
    "path3 = './data/news/have_negative_positive/olymphic/'\n",
    "path4 = './data/news/have_negative_positive/'\n",
    "pathList = [path1, path2, path3, path4]"
   ]
  },
  {
   "cell_type": "code",
   "execution_count": null,
   "metadata": {},
   "outputs": [],
   "source": [
    "def Get_CSVfileList(path):\n",
    "    filelist = glob(path+'*.csv')\n",
    "    filelist.extend(glob(path+'*.CSV'))\n",
    "    return filelist"
   ]
  },
  {
   "cell_type": "code",
   "execution_count": null,
   "metadata": {
    "scrolled": false
   },
   "outputs": [],
   "source": [
    "df_data=pd.DataFrame()\n",
    "x = 0 \n",
    "for path in pathList:\n",
    "    fileList = Get_CSVfileList(path)\n",
    "    for file in fileList:\n",
    "        df = pd.read_csv(file,encoding='utf-8', engine='python')\n",
    "        x += df.shape[0]\n",
    "        if len(df_data) == 0:\n",
    "            df_data = df[['감성분석', '긍정 문장', '부정 문장']]\n",
    "        else:\n",
    "            df_data = pd.concat([df_data, df[['감성분석', '긍정 문장', '부정 문장']]])\n",
    "df_data.reset_index(drop=True, inplace=True)        \n",
    "print (x)\n",
    "print (df_data.shape)\n",
    "df_data.head()"
   ]
  },
  {
   "cell_type": "code",
   "execution_count": null,
   "metadata": {},
   "outputs": [],
   "source": [
    "df_words = df_data['감성분석'].copy()\n",
    "df_positive = df_data['긍정 문장'].copy()\n",
    "df_negative = df_data['부정 문장'].copy()"
   ]
  },
  {
   "cell_type": "markdown",
   "metadata": {},
   "source": [
    "* drop list\n",
    "> 기자 & 이메일 주소만 있는 문장  \n",
    "> Neutral 제거"
   ]
  },
  {
   "cell_type": "markdown",
   "metadata": {},
   "source": [
    "## 긍정 문장 추출"
   ]
  },
  {
   "cell_type": "markdown",
   "metadata": {},
   "source": [
    "### NaN & ' '제거"
   ]
  },
  {
   "cell_type": "code",
   "execution_count": null,
   "metadata": {
    "scrolled": false
   },
   "outputs": [],
   "source": [
    "df_positive.dropna(inplace = True)\n",
    "df_positive = df_positive.apply(html.unescape)\n",
    "df_positive.reset_index(drop=True, inplace = True)\n",
    "df_positive.drop(df_positive[df_positive.str.match('^ $')].index, inplace = True)\n",
    "df_positive.reset_index(drop=True, inplace = True)\n",
    "print (df_positive.shape)"
   ]
  },
  {
   "cell_type": "markdown",
   "metadata": {},
   "source": [
    "### #*****? 인 값 제거"
   ]
  },
  {
   "cell_type": "code",
   "execution_count": null,
   "metadata": {},
   "outputs": [],
   "source": [
    "df_positive.drop(df_positive[df_positive.str.match('^#[a-zA-Z0-9]+\\?$')].index, inplace = True)\n",
    "df_positive.reset_index(drop=True, inplace = True)\n",
    "print (df_positive.shape)"
   ]
  },
  {
   "cell_type": "markdown",
   "metadata": {},
   "source": [
    "### #*****! 인 값 제거"
   ]
  },
  {
   "cell_type": "code",
   "execution_count": null,
   "metadata": {},
   "outputs": [],
   "source": [
    "df_positive.drop(df_positive[df_positive.str.match('^#[a-zA-Z0-9]+\\!$')].index, inplace = True)\n",
    "df_positive.reset_index(drop=True, inplace = True)\n",
    "print (df_positive.shape)"
   ]
  },
  {
   "cell_type": "markdown",
   "metadata": {},
   "source": [
    "### 이메일만 있는 값 제거"
   ]
  },
  {
   "cell_type": "code",
   "execution_count": null,
   "metadata": {},
   "outputs": [],
   "source": [
    "df_positive.drop(df_positive[df_positive.str.match('^[a-zA-Z0-9+-_.]+@[a-zA-Z0-9-]+\\.[a-zA-Z0-9-.]+$')].index,inplace = True)\n",
    "df_positive.reset_index(drop=True, inplace = True)\n",
    "print (df_positive.shape)"
   ]
  },
  {
   "cell_type": "markdown",
   "metadata": {},
   "source": [
    "### 이메일과 기자명만 있는 값 제거"
   ]
  },
  {
   "cell_type": "code",
   "execution_count": null,
   "metadata": {},
   "outputs": [],
   "source": [
    "df_positive.drop(df_positive[df_positive.str.match('^[가-힣]{3,3}[. ]기자[. ][a-zA-Z0-9+-_.]+@[a-zA-Z0-9-.\\|]*$')].index, inplace = True)\n",
    "df_positive.reset_index(drop=True, inplace = True)\n",
    "print (df_positive.shape)\n",
    "\n",
    "df_positive.drop(df_positive[df_positive.str.match('^[가-힣]{3,3}기자[. ][a-zA-Z0-9+-_.]+@[a-zA-Z0-9-.\\|]*$')].index , inplace = True)\n",
    "df_positive.reset_index(drop=True, inplace = True)\n",
    "print (df_positive.shape)\n",
    "\n",
    "df_positive.drop(df_positive[df_positive.str.match('^[가-힣]{3,3}[. ]기자[. ][a-zA-Z0-9+-_.]+@[a-zA-Z0-9-. ]*$')].index, inplace = True)\n",
    "df_positive.reset_index(drop=True, inplace = True)\n",
    "print (df_positive.shape)\n",
    "\n",
    "df_positive.drop(df_positive[df_positive.str.match('^[a-zA-Z0-9+-_.]+@[a-zA-Z0-9-]+\\.[a-zA-Z0-9-.]+[가-힣]{3,3}기자')].index, inplace = True)\n",
    "df_positive.reset_index(drop=True, inplace = True)\n",
    "print (df_positive.shape)\n",
    "\n",
    "df_positive.drop(df_positive[df_positive.str.match('^[a-zA-Z0-9+-_.]+@[a-zA-Z0-9-]+\\.[a-zA-Z0-9-.]+[. ][가-힣]{3,3}기자')].index, inplace = True)\n",
    "df_positive.reset_index(drop=True, inplace = True)\n",
    "print (df_positive.shape)\n",
    "\n",
    "df_positive.drop(df_positive[df_positive.str.match('[가-힣 ]{3,4}기자$')].index, inplace = True)\n",
    "df_positive.reset_index(drop=True, inplace = True)\n",
    "print (df_positive.shape)\n",
    "\n",
    "df_positive.drop(df_positive[df_positive.str.match('[a-zA-Z0-9+-_. ]+[가-힣 ]{3,4}기자$')].index, inplace = True)\n",
    "df_positive.reset_index(drop=True, inplace = True)\n",
    "print (df_positive.shape)\n",
    "\n",
    "df_positive.drop(df_positive[df_positive.str.match('[a-zA-Z0-9+-_.]+@$')].index, inplace = True)\n",
    "df_positive.reset_index(drop=True, inplace = True)\n",
    "print (df_positive.shape)\n",
    "\n",
    "df_positive.drop(df_positive[df_positive.str.match('[a-zA-Z0-9+-_.]+$')].index, inplace = True)\n",
    "df_positive.reset_index(drop=True, inplace = True)\n",
    "print (df_positive.shape)\n",
    "\n",
    "df_positive.drop(df_positive[df_positive.str.match('[a-zA-Z0-9+-_.]+@([a-zA-Z0-9-]+\\.[a-zA-Z0-9-.])*')].index, inplace = True)\n",
    "df_positive.reset_index(drop=True, inplace = True)\n",
    "print (df_positive.shape)\n",
    "\n",
    "df_positive.drop(df_positive[df_positive.str.match('.[가-힣]{3,4}[//. ]?기자[//. ]?[a-zA-Z0-9+-_.]+@[a-zA-Z0-9-.\\|]*?')].index, inplace = True)\n",
    "df_positive.reset_index(drop=True, inplace = True)\n",
    "print (df_positive.shape)\n",
    "\n",
    "df_positive.drop(df_positive[df_positive.str.match('[가-힣+_.=]+?[//. ]?기자[//. ]?[a-zA-Z0-9+-_.]+@[a-zA-Z0-9-.\\|]*?$')].index, inplace = True)\n",
    "df_positive.reset_index(drop=True, inplace = True)\n",
    "print (df_positive.shape)\n",
    "\n",
    "df_positive.drop(df_positive[df_positive.str.len() < 11].index, inplace = True)\n",
    "df_positive.reset_index(drop=True, inplace = True)\n",
    "print (df_positive.shape)\n",
    "\n",
    "df_positive.drop(df_positive[(df_positive.str.match('^[가-힣]{3,5}[//. ]?기자[//. ]?[a-zA-Z0-9+-_.]+@[a-zA-Z0-9-.\\| @]*?')) & (df_positive.str.len() < 100)].index, inplace = True)\n",
    "df_positive.reset_index(drop=True, inplace = True)\n",
    "print (df_positive.shape)\n",
    "\n",
    "print (df_positive[df_positive==''])\n",
    "\n",
    "df_positive = df_positive.apply(html.unescape)\n",
    "\n",
    "df_positive.drop_duplicates(inplace = True)\n",
    "df_positive.reset_index(drop=True, inplace = True)\n",
    "print (df_positive.shape)\n",
    "df_positive = df_positive.apply(html.unescape)\n",
    "df_positive.drop_duplicates(inplace = True)\n",
    "df_positive.reset_index(drop=True, inplace = True)\n",
    "print (df_positive.shape)"
   ]
  },
  {
   "cell_type": "code",
   "execution_count": null,
   "metadata": {},
   "outputs": [],
   "source": [
    "df_positive.to_csv('./data/sentiment_data/positive_sentiment_sentence_from_news.csv', index=False, header= False, encoding='utf-8')"
   ]
  },
  {
   "cell_type": "markdown",
   "metadata": {},
   "source": [
    "## 부정 문장 추출"
   ]
  },
  {
   "cell_type": "markdown",
   "metadata": {},
   "source": [
    "### NaN & ' '제거"
   ]
  },
  {
   "cell_type": "code",
   "execution_count": null,
   "metadata": {
    "scrolled": false
   },
   "outputs": [],
   "source": [
    "df_negative.dropna(inplace = True)\n",
    "df_negative = df_negative.apply(html.unescape)\n",
    "df_negative.reset_index(drop=True, inplace = True)\n",
    "df_negative.drop(df_negative[df_negative.str.match('^ $')].index, inplace = True)\n",
    "df_negative.reset_index(drop=True, inplace = True)\n",
    "print (df_negative.shape)"
   ]
  },
  {
   "cell_type": "markdown",
   "metadata": {},
   "source": [
    "### #*****? 인 값 제거"
   ]
  },
  {
   "cell_type": "code",
   "execution_count": null,
   "metadata": {},
   "outputs": [],
   "source": [
    "df_negative.drop(df_negative[df_negative.str.match('^#[a-zA-Z0-9]+\\?$')].index, inplace = True)\n",
    "df_negative.reset_index(drop=True, inplace = True)\n",
    "print (df_negative.shape)"
   ]
  },
  {
   "cell_type": "markdown",
   "metadata": {},
   "source": [
    "### #*****! 인 값 제거"
   ]
  },
  {
   "cell_type": "code",
   "execution_count": null,
   "metadata": {},
   "outputs": [],
   "source": [
    "df_negative.drop(df_negative[df_negative.str.match('^#[a-zA-Z0-9]+\\!$')].index, inplace = True)\n",
    "df_negative.reset_index(drop=True, inplace = True)\n",
    "print (df_negative.shape)"
   ]
  },
  {
   "cell_type": "markdown",
   "metadata": {},
   "source": [
    "### 이메일만 있는 값 제거"
   ]
  },
  {
   "cell_type": "code",
   "execution_count": null,
   "metadata": {},
   "outputs": [],
   "source": [
    "df_negative.drop(df_negative[df_negative.str.match('^[a-zA-Z0-9+-_.]+@[a-zA-Z0-9-]+\\.[a-zA-Z0-9-.]+$')].index,inplace = True)\n",
    "df_negative.reset_index(drop=True, inplace = True)\n",
    "print (df_negative.shape)"
   ]
  },
  {
   "cell_type": "markdown",
   "metadata": {},
   "source": [
    "### 이메일과 기자명만 있는 값 제거"
   ]
  },
  {
   "cell_type": "code",
   "execution_count": null,
   "metadata": {},
   "outputs": [],
   "source": [
    "df_negative.drop(df_negative[df_negative.str.match('^[가-힣]{3,3}[. ]기자[. ][a-zA-Z0-9+-_.]+@[a-zA-Z0-9-.\\|]*$')].index, inplace = True)\n",
    "df_negative.reset_index(drop=True, inplace = True)\n",
    "print (df_negative.shape)\n",
    "\n",
    "df_negative.drop(df_negative[df_negative.str.match('^[가-힣]{3,3}기자[. ][a-zA-Z0-9+-_.]+@[a-zA-Z0-9-.\\|]*$')].index , inplace = True)\n",
    "df_negative.reset_index(drop=True, inplace = True)\n",
    "print (df_negative.shape)\n",
    "\n",
    "df_negative.drop(df_negative[df_negative.str.match('^[가-힣]{3,3}[. ]기자[. ][a-zA-Z0-9+-_.]+@[a-zA-Z0-9-. ]*$')].index, inplace = True)\n",
    "df_negative.reset_index(drop=True, inplace = True)\n",
    "print (df_negative.shape)\n",
    "\n",
    "df_negative.drop(df_negative[df_negative.str.match('^[a-zA-Z0-9+-_.]+@[a-zA-Z0-9-]+\\.[a-zA-Z0-9-.]+[가-힣]{3,3}기자')].index, inplace = True)\n",
    "df_negative.reset_index(drop=True, inplace = True)\n",
    "print (df_negative.shape)\n",
    "\n",
    "df_negative.drop(df_negative[df_negative.str.match('^[a-zA-Z0-9+-_.]+@[a-zA-Z0-9-]+\\.[a-zA-Z0-9-.]+[. ][가-힣]{3,3}기자')].index, inplace = True)\n",
    "df_negative.reset_index(drop=True, inplace = True)\n",
    "print (df_negative.shape)\n",
    "\n",
    "df_negative.drop(df_negative[df_negative.str.match('[가-힣 ]{3,4}기자$')].index, inplace = True)\n",
    "df_negative.reset_index(drop=True, inplace = True)\n",
    "print (df_negative.shape)\n",
    "\n",
    "df_negative.drop(df_negative[df_negative.str.match('[a-zA-Z0-9+-_. ]+[가-힣 ]{3,4}기자$')].index, inplace = True)\n",
    "df_negative.reset_index(drop=True, inplace = True)\n",
    "print (df_negative.shape)\n",
    "\n",
    "df_negative.drop(df_negative[df_negative.str.match('[a-zA-Z0-9+-_.]+@$')].index, inplace = True)\n",
    "df_negative.reset_index(drop=True, inplace = True)\n",
    "print (df_negative.shape)\n",
    "\n",
    "df_negative.drop(df_negative[df_negative.str.match('[a-zA-Z0-9+-_.]+$')].index, inplace = True)\n",
    "df_negative.reset_index(drop=True, inplace = True)\n",
    "print (df_negative.shape)\n",
    "\n",
    "df_negative.drop(df_negative[df_negative.str.match('[a-zA-Z0-9+-_.]+@([a-zA-Z0-9-]+\\.[a-zA-Z0-9-.])*')].index, inplace = True)\n",
    "df_negative.reset_index(drop=True, inplace = True)\n",
    "print (df_negative.shape)\n",
    "\n",
    "df_negative.drop(df_negative[df_negative.str.match('.[가-힣]{3,4}[//. ]?기자[//. ]?[a-zA-Z0-9+-_.]+@[a-zA-Z0-9-.\\|]*?')].index, inplace = True)\n",
    "df_negative.reset_index(drop=True, inplace = True)\n",
    "print (df_negative.shape)\n",
    "\n",
    "df_negative.drop(df_negative[df_negative.str.match('[가-힣+_.=]+?[//. ]?기자[//. ]?[a-zA-Z0-9+-_.]+@[a-zA-Z0-9-.\\|]*?$')].index, inplace = True)\n",
    "df_negative.reset_index(drop=True, inplace = True)\n",
    "print (df_negative.shape)\n",
    "\n",
    "df_negative.drop(df_negative[df_negative.str.len() < 11].index, inplace = True)\n",
    "df_negative.reset_index(drop=True, inplace = True)\n",
    "print (df_negative.shape)\n",
    "\n",
    "df_negative.drop(df_negative[(df_negative.str.match('^[가-힣]{3,5}[//. ]?기자[//. ]?[a-zA-Z0-9+-_.]+@[a-zA-Z0-9-.\\| @]*?')) & (df_negative.str.len() < 100)].index, inplace = True)\n",
    "df_negative.reset_index(drop=True, inplace = True)\n",
    "print (df_negative.shape)\n",
    "\n",
    "print (df_negative[df_negative==''])\n",
    "\n",
    "df_negative = df_negative.apply(html.unescape)\n",
    "\n",
    "df_negative.drop_duplicates(inplace = True)\n",
    "df_negative.reset_index(drop=True, inplace = True)\n",
    "print (df_negative.shape)\n",
    "df_negative = df_negative.apply(html.unescape)\n",
    "df_negative.drop_duplicates(inplace = True)\n",
    "df_negative.reset_index(drop=True, inplace = True)\n",
    "print (df_negative.shape)"
   ]
  },
  {
   "cell_type": "code",
   "execution_count": null,
   "metadata": {},
   "outputs": [],
   "source": [
    "df_negative.to_csv('./data/sentiment_data/negative_sentiment_sentence_from_news.csv', index=False, header=False, encoding='utf-8')"
   ]
  },
  {
   "cell_type": "code",
   "execution_count": null,
   "metadata": {},
   "outputs": [],
   "source": [
    "df_positive = pd.concat([df_positive, pd.DataFrame(len(df_positive)*[1], columns=[1])],axis = 1)\n",
    "df_positive.rename(columns={'긍정 문장':0},inplace = True)\n",
    "df_negative = pd.concat([df_negative, pd.DataFrame(len(df_negative)*[0], columns=[1])],axis = 1)\n",
    "df_negative.rename(columns={'부정 문장':0},inplace = True)\n"
   ]
  },
  {
   "cell_type": "code",
   "execution_count": null,
   "metadata": {},
   "outputs": [],
   "source": [
    "newsSentence = pd.concat([df_positive, df_negative], axis = 0)\n",
    "newsSentence.reset_index(drop=True, inplace = True)\n",
    "print (newsSentence.shape)\n",
    "newsSentence.head()"
   ]
  },
  {
   "cell_type": "markdown",
   "metadata": {},
   "source": [
    "## 특수문자 & 기자명 & 이메일 제거 및 50자 이내 제거"
   ]
  },
  {
   "cell_type": "code",
   "execution_count": null,
   "metadata": {},
   "outputs": [],
   "source": [
    "newsSentence[0] = newsSentence[0].str.replace('^[가-힣]{3,4}[//. ]?기자[//. ]',' ')\n",
    "\n",
    "newsSentence[0] = newsSentence[0].str.replace('^[ ]?[a-zA-Z0-9+-_.]+@[a-zA-Z0-9-]+\\.[a-zA-Z0-9-.]*',' ')\n",
    "\n",
    "newsSentence[0] = newsSentence[0].str.replace('[가-힣]{3,4}[//. ]?기자[//. ]?[a-zA-Z0-9+-_.]+@[a-zA-Z0-9-]+\\.[a-zA-Z0-9-.]+',' ')\n",
    "print (newsSentence.shape)\n",
    "\n",
    "newsSentence[0] = newsSentence[0].str.replace('[가-힣]{3,4}[//. ]?기자',' ')\n",
    "\n",
    "newsPress = pd.read_csv('./data/newspress.txt',encoding='utf-8',header=None)\n",
    "newsPress.head()\n",
    "\n",
    "for idx in newsPress.index:\n",
    "    newsSentence[0] = newsSentence[0].str.replace(newsPress.loc[idx][0],' ')\n",
    "\n",
    "newsSentence[0] = newsSentence[0].str.replace('[☜\\[\\]☞※©◀◆◁◀◈○◌◎●◑◐☆★\\|♠♡〈〉『」「』▲=⑨①②ⓒ③「」◎○~!@#$%^&*()_+|<>?:{}]', ' ')\n",
    "\n",
    "newsSentence[0] = newsSentence[0].str.replace('[//. ]?[a-zA-Z0-9+-_.]+@[a-zA-Z0-9-]+\\.[a-zA-Z0-9-.]*','')\n",
    "\n",
    "newsSentence[0] = newsSentence[0].str.replace('[a-zA-Z0-9+-.]+@','')\n",
    "\n",
    "newsSentence[0] = newsSentence[0].str.strip()\n",
    "\n",
    "newsSentence.drop(newsSentence[newsSentence[0].str.len()<10].index, inplace = True)\n",
    "newsSentence.reset_index(drop=True, inplace=True)\n",
    "newsSentence.dropna(inplace=True)\n",
    "print (newsSentence.shape)\n",
    "\n",
    "newsSentence.drop(newsSentence[newsSentence[0].str.len()<50].index, inplace = True)\n",
    "newsSentence.reset_index(drop=True, inplace=True)\n",
    "newsSentence.dropna(inplace=True)\n",
    "newsSentence.reset_index(drop=True, inplace=True)\n",
    "newsSentence.drop_duplicates(inplace = True)\n",
    "newsSentence.reset_index(drop=True, inplace=True)\n",
    "print (newsSentence.shape)\n",
    "newsSentence.to_csv('./data/sentiment_data/merged_sentiment_data_from_news_bigdata.txt',index=False, header=False)\n",
    "newsSentence.head()"
   ]
  },
  {
   "cell_type": "code",
   "execution_count": null,
   "metadata": {},
   "outputs": [],
   "source": [
    "newsSentence = pd.read_csv('./data/sentiment_data/merged_sentiment_data_from_news_bigdata.txt',header=None,encoding='utf-8')\n",
    "print (newsSentence.shape)\n",
    "newsSentence.head()"
   ]
  },
  {
   "cell_type": "markdown",
   "metadata": {},
   "source": [
    "## 네이버 영화 리뷰"
   ]
  },
  {
   "cell_type": "code",
   "execution_count": null,
   "metadata": {},
   "outputs": [],
   "source": [
    "def read_data(filename):\n",
    "    with open(filename, 'r',encoding='utf-8') as f:\n",
    "        data = [line.split('\\t') for line in f.read().splitlines()]\n",
    "        data = data[1:] # header\n",
    "    return data\n",
    "rating = pd.DataFrame(read_data('./data/sentiment_data/ratings.txt'))\n",
    "rating.drop(0, axis = 1, inplace = True)\n",
    "rating.rename(columns = {1:0, 2:1}, inplace = True)\n",
    "print (rating.shape)\n",
    "rating.head()"
   ]
  },
  {
   "cell_type": "code",
   "execution_count": null,
   "metadata": {},
   "outputs": [],
   "source": [
    "totalData = pd.concat([newsSentence, rating])\n",
    "totalData.reset_index(drop=True, inplace = True)\n",
    "totalData.dropna(inplace=True)\n",
    "print (totalData.shape)\n",
    "totalData.reset_index(drop=True, inplace = True)\n",
    "totalData.drop(totalData[totalData[0] ==''].index, inplace = True)\n",
    "print (totalData.shape)\n",
    "totalData.reset_index(drop=True, inplace = True)\n",
    "totalData.to_csv('./data/sentiment_data/merged_rawdata_for_sentiment_analysis.txt',index=False, header=False, encoding='utf-8')\n",
    "print (totalData.shape)\n",
    "totalData.head()"
   ]
  },
  {
   "cell_type": "markdown",
   "metadata": {},
   "source": [
    "## 긍정 / 부정 단어 추출"
   ]
  },
  {
   "cell_type": "code",
   "execution_count": null,
   "metadata": {},
   "outputs": [],
   "source": [
    "df_words.dropna(inplace = True)\n",
    "df_words = df_words.apply(html.unescape)\n",
    "df_words.reset_index(drop = True, inplace = True)\n",
    "df_words.drop(df_words[df_words.str.match('^ $')].index, inplace = True)\n",
    "df_words.reset_index(drop = True, inplace = True)\n",
    "df_words = df_words.apply(html.unescape)\n",
    "print(df_words.shape)"
   ]
  },
  {
   "cell_type": "code",
   "execution_count": null,
   "metadata": {},
   "outputs": [],
   "source": [
    "df_words = df_words[df_words.str.match('NEGATIVE|POSITIVE')]\n",
    "df_words.reset_index(drop = True, inplace = True)\n",
    "print (df_words.shape)"
   ]
  },
  {
   "cell_type": "code",
   "execution_count": null,
   "metadata": {
    "scrolled": false
   },
   "outputs": [],
   "source": [
    "negativeWords = df_words.str.findall('(NEGATIVE [가-힣]+)').str.join(' ')\n",
    "negativeWords.dropna(inplace = True)\n",
    "negativeWords.reset_index(drop=True, inplace = True)\n",
    "positiveWords = df_words.str.findall('(POSITIVE [가-힣]+)').str.join(' ')\n",
    "positiveWords.dropna(inplace = True)\n",
    "positiveWords.reset_index(drop=True, inplace = True)\n",
    "print (negativeWords.shape, positiveWords.shape)"
   ]
  },
  {
   "cell_type": "code",
   "execution_count": null,
   "metadata": {
    "scrolled": false
   },
   "outputs": [],
   "source": [
    "positiveWords.drop(positiveWords[positiveWords==''].index, inplace = True)\n",
    "positiveWords.reset_index(drop=True, inplace = True)\n",
    "negativeWords.drop(negativeWords[negativeWords==''].index, inplace = True)\n",
    "negativeWords.reset_index(drop=True, inplace = True)\n",
    "print (negativeWords.shape, positiveWords.shape)\n",
    "positiveWords = positiveWords.str.findall('([가-힣]+)')\n",
    "negativeWords = negativeWords.str.findall('([가-힣]+)')"
   ]
  },
  {
   "cell_type": "code",
   "execution_count": null,
   "metadata": {
    "scrolled": true
   },
   "outputs": [],
   "source": [
    "positiveWords = list(set(itertools.chain.from_iterable(positiveWords)))\n",
    "negativeWords = list(set(itertools.chain.from_iterable(negativeWords)))\n",
    "print (len(positiveWords), len(negativeWords))"
   ]
  },
  {
   "cell_type": "code",
   "execution_count": null,
   "metadata": {},
   "outputs": [],
   "source": [
    "positiveWords = pd.Series(positiveWords)\n",
    "negativeWords = pd.Series(negativeWords)"
   ]
  },
  {
   "cell_type": "code",
   "execution_count": null,
   "metadata": {},
   "outputs": [],
   "source": [
    "positiveWords = pd.concat([positiveWords, pd.DataFrame(len(positiveWords) * [1], columns=[1])], axis = 1)\n",
    "negativeWords = pd.concat([negativeWords, pd.DataFrame(len(negativeWords) * [0], columns=[1])], axis = 1)"
   ]
  },
  {
   "cell_type": "code",
   "execution_count": null,
   "metadata": {},
   "outputs": [],
   "source": [
    "positiveWords.to_csv('./data/sentiment_data/positive_sentiment_word_from_news.csv', index=False, header=False)\n",
    "negativeWords.to_csv('./data/sentiment_data/negative_sentiment_word_from_news.csv', index=False, header=False)"
   ]
  },
  {
   "cell_type": "code",
   "execution_count": null,
   "metadata": {},
   "outputs": [],
   "source": [
    "rawdata = pd.concat([totalData, positiveWords, negativeWords])\n",
    "print (rawdata.shape)"
   ]
  },
  {
   "cell_type": "code",
   "execution_count": null,
   "metadata": {},
   "outputs": [],
   "source": [
    "rawdata.to_csv('./data/sentiment_data/raw_data_for_sentiment.txt',index=False, header = False, encoding='utf-8')"
   ]
  }
 ],
 "metadata": {
  "kernelspec": {
   "display_name": "Python 3",
   "language": "python",
   "name": "python3"
  },
  "language_info": {
   "codemirror_mode": {
    "name": "ipython",
    "version": 3
   },
   "file_extension": ".py",
   "mimetype": "text/x-python",
   "name": "python",
   "nbconvert_exporter": "python",
   "pygments_lexer": "ipython3",
   "version": "3.6.4"
  }
 },
 "nbformat": 4,
 "nbformat_minor": 2
}
