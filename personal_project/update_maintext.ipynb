{
 "cells": [
  {
   "cell_type": "code",
   "execution_count": 2,
   "metadata": {},
   "outputs": [],
   "source": [
    "import sys\n",
    "sys.path.append('C:/Users/pc/Documents/GitHub/Private_Project/personal_project')\n",
    "from collections import defaultdict\n",
    "from datetime import datetime, timedelta\n",
    "import time\n",
    "import re\n",
    "import requests\n",
    "import pandas as pd\n",
    "from bs4 import BeautifulSoup\n",
    "from selenium import webdriver\n",
    "from selenium.webdriver.support.ui import WebDriverWait\n",
    "from selenium.common.exceptions import TimeoutException, NoSuchElementException, StaleElementReferenceException\n",
    "from selenium.webdriver.support import expected_conditions as EC\n",
    "from selenium.webdriver.common.by import By\n",
    "from selenium.webdriver import ActionChains\n",
    "import pickle\n",
    "import chat_bot as cb\n",
    "import Database_Handler as dh\n",
    "from multiprocessing import Pool\n",
    "from functools import partial"
   ]
  },
  {
   "cell_type": "code",
   "execution_count": 3,
   "metadata": {},
   "outputs": [],
   "source": [
    "aeasda = binList.copy()"
   ]
  },
  {
   "cell_type": "code",
   "execution_count": 17,
   "metadata": {
    "scrolled": false
   },
   "outputs": [
    {
     "name": "stdout",
     "output_type": "stream",
     "text": [
      "http://v.media.daum.net/v/20171205151743503\n",
      "1\n",
      "[마이데일리 = 이승길 기자] JTBC '내 이름을 불러줘-한명(名)회'(이하 '한명회')가 막을 내린다. 최근 진행된 '한명회' 9회 녹화는 별난 이름 특집으로 꾸며졌다. 이날은 특집 명에 맞게 녹화 전까지 철저히 출연자들이 서로 이름을 공유하지 못하도록 조치를 취했다. 출연자들은 서로의 이름을 추측하며 자신의 이름보다 특이 한 지 궁금해 했다. 이날 8명의 출연자는 모두 \"출석 부르는 시간, 자기소개 시간을 가장 싫어한다\"며 다른 이름이지만 같은 심정으로 공감 대화를 나눴다. 그중 유독 눈에 띄는 한 남성 출연자의 기상천외한 이름이 밝혀져, 나머지 출연진은 물론 MC들도 당황하며 이름을 재차 물어 웃음을 자아냈다. 하지만 후에 밝혀진 이름 탄생 배경에는 마냥 웃을 수만은 없는 인생 스토리가 담겨있어 눈길을 끌기도 했다. 한편, 지난 10월 10일부터 방송된 '한명회'는 9회로 막을 내린다. 오는 12일부터 '한명회' 방송 시간에는 편성 시간이 변경된 '패키지로 세계일주-뭉쳐야 뜬다'가 전파를 탄다. '한명회' 마지막 회는 5일 오후 9시 30분에 방송된다. [사진 = JTBC 제공]- ⓒ마이데일리(www.mydaily.co.kr). 무단전재&재배포 금지 -\n"
     ]
    }
   ],
   "source": [
    "#site = 'Naver'\n",
    "site = 'daum'\n",
    "if site == 'daum':\n",
    "    binList = []\n",
    "    collection = 'newsDaum'\n",
    "    etri_outcome = '/Users/hyunyoun/Documents/GitHub/Private_Project/personal_project/data/ETRI_OUTCOME/daum2/'\n",
    "elif site.lower() == 'naver':\n",
    "    binList = []\n",
    "    collection = 'newsNaver'\n",
    "    etri_outcome = '/Users/hyunyoun/Documents/GitHub/Private_Project/personal_project/data/ETRI_OUTCOME/naver2/'\n",
    "\n",
    "mongodb = dh.ToMongoDB(*dh.AWS_MongoDB_Information())\n",
    "dbname = 'hy_db'\n",
    "useDb = dh.Use_Database(mongodb, dbname)\n",
    "slack = cb.Slacker(cb.slacktoken())\n",
    "useCollection = dh.Use_Collection(useDb, collection)\n",
    "keywordList = list()\n",
    "pressList = list()\n",
    "i = 0\n",
    "for data in useCollection.find({'site':site}):\n",
    "    pressList.append(data['press'])\n",
    "    if len(data['mainText'].strip()) <= 1000:\n",
    "        binList.append(data['_id'])\n",
    "        print (data['link'])\n",
    "        res = requests.get(data['link'])\n",
    "        soup = BeautifulSoup(res.content, 'html.parser')\n",
    "        x = soup.find(class_='article_view')\n",
    "        x2 = x.select('section')\n",
    "        print (len(x2))\n",
    "        x3 = ' '.join(list(map(lambda xx: xx.text.strip(), x2)))\n",
    "        mainText = ' '.join(list(map(lambda xx: xx.strip(), x3.split(u'\\xa0'))))\n",
    "        mainText = ' '.join(list(map(lambda xx: xx.strip(), mainText.split('\\n'))))\n",
    "        print (mainText)\n",
    "        #useCollection.update({\"_id\": data['_id']},{'$set': {\"mainText\": mainText}})\n",
    "        #print (mainText)\n",
    "        break\n",
    "    "
   ]
  },
  {
   "cell_type": "code",
   "execution_count": 13,
   "metadata": {},
   "outputs": [
    {
     "data": {
      "text/plain": [
       "\"[그래픽] 최순실 국정농단 의혹 제기부터 재판 구형까지(종합)      결심공판 법정 출석하는 최순실 (서울=연합뉴스) 최재구 기자 = 헌정 초유의 대통령 탄핵을 몰고 온 국정농단 사건의 핵심 인물인 '비선실세' 최순실씨가 1심 결심공판에 참석하기 위해 14일 오전 서울 서초구 서울중앙지법에 들어서고 있다. 2017.12.14 jjaeck9@yna.co.kr\""
      ]
     },
     "execution_count": 13,
     "metadata": {},
     "output_type": "execute_result"
    }
   ],
   "source": [
    "mainText"
   ]
  },
  {
   "cell_type": "code",
   "execution_count": 48,
   "metadata": {},
   "outputs": [],
   "source": [
    "x = soup.find(class_='article_view')\n",
    "x2 = x.select('section > div')\n",
    "x3 = ' '.join(list(map(lambda xx: xx.text.strip(), x2)))\n",
    "mainText = ' '.join(list(map(lambda xx: xx.strip(), x3.split(u'\\xa0'))))"
   ]
  },
  {
   "cell_type": "code",
   "execution_count": 49,
   "metadata": {},
   "outputs": [],
   "source": []
  },
  {
   "cell_type": "code",
   "execution_count": 61,
   "metadata": {},
   "outputs": [],
   "source": []
  },
  {
   "cell_type": "code",
   "execution_count": 65,
   "metadata": {},
   "outputs": [
    {
     "data": {
      "text/plain": [
       "'ㅣ삼성 라이온즈가 전 롯데 자이언츠 출신의 외국인 투수 조쉬 린드블럼과 현역 메이저리그 출신의 투수를 놓고 고민 중이다. 분명한 건 삼성이 말이 아닌 행동으로 전력강화에 나서고 있다는 점이다. [엠스플뉴스] 삼성 라이온즈가 전 롯데 자이언츠 출신의 외국인 투수 조쉬 린드블럼 영입에 뛰어들었다. 롯데는 12월 9일 “린드블럼과의 재계약이 불발됐다”고 공식 발표했다. 린드블럼은 올 시즌 대체 외국인 선수로 롯데로 복귀하면서 ‘시즌 종료 후 롯데와의 재계약이 불발될 경우 보류권을 푼다’는 조항을 계약서에 넣은 바 있다. 린드블럼을 향한 KBO리그 구단들의 관심은 뜨겁다. 모 구단 운영팀장은 “최근 롯데와 재계약이 불발된 린드블럼을 노리는 팀이 두산 베어스·삼성 라이온즈·kt 위즈까지 총 3팀”이라고 귀띔한 뒤 \"세 팀 가운데 한 팀으로 린드블럼의 거취가 결정될 것으로 본다\"고 말했다. 삼성 “린드블럼은 검증된 선수, 강민호와의 배터리 호흡도 기대” 언급된 세 팀 가운데 삼성은 린드블럼 영입에 관심이 없는 것으로 알려졌던 팀이다. 현역 메이저리거들을 영입 리스트에 올려두고 협상을 진행 중이었기 때문이다.  상황이 급격히 변한 건 12월 초다. 이때부터 “삼성이 린드블럼 영입에 뛰어들었다”는 소문이 야구계에 퍼지기 시작했다. 삼성 관계자는 “린드블럼은 KBO리그에서 검증을 마쳤기에 활약이 보장된 외국인 투수다. 또 강력한 구위로 선발진의 중심축 역할을 충분히 해낼 수 있는 투수”라며 린드블럼 영입전에 뛰어든 이유를 설명했다. 린드블럼은 한국에서 2시즌 반을 뛰면서 28승 27패 평균자책 4.25를 기록했다. 2016시즌엔 10승 13패 평균자책 5.28로 부진했지만, 2015시즌 13승 11패 평균자책 3.56, 2017시즌 5승 3패 평균자책 3.72로 좋은 활약을 펼쳤다. 한 가지 이유가 더 있다. 바로 올 시즌 종료 후 FA(자유계약선수)로 영입한 포수 강민호와의 호흡이다. 강민호와 린드블럼은 롯데에서 2시즌 반 동안 함께 뛰었다. 서로의 장점을 누구보다 잘 알고 있다. 배터리 간의 소통이 원활하기에 ‘팀 적응이 쉽지 않겠느냐\\'는 게 삼성의 생각이다. 삼성, 린드블럼? 아니면 더 강력한 새로운 투수? 삼성은 스카우트 팀을 재편하고, 외부 자문 인력을 충원하는 등 공격적인 움직임을 통해 현역 메이저리거인 팀 아델만을 데려왔다. 추가로 아델만 이상의 외국인 투수를 영입해 ‘강력한 원투펀치’를 구성하려 했다. 하지만, 삼성의 영입리스트 1순위 후보였던 투수가 최근 메이저리그 잔류 의사를 밝히면서 영입이 무산됐다. 삼성이 린드블럼으로 방향을 돌린 것도 이런 사정이 영향을 미쳤다는 후문이다. 단, 린드블럼 영입이 삼성의 ‘최우선 목표’는 아니다. 삼성 관계자는 “린드블럼 영입 타진은 모든 가능성을 열어둔 차원일뿐, 미국에서 계속 영입 후보들을 살펴보고 있다”며 “지금 상태로만 본다면 미국에서 새로운 투수가 올 가능성이 조금 더 높다”고 밝혔다.  다른 삼성 관계자도 “린드블럼 영입은 외국인 선수 영입 리스크를 최대한 줄이기 위한 보험 같은 성격”이라며 “다른 재계약 불발 외국인 투수들의 한국 잔류 의지, 성공 가능성, 계약 가능성도 꼼꼼히 살펴보고 있다”고 전했다.  실제로 삼성 내부에선 ‘린드블럼보다 더 강력한 투수를 데려오자’는 의견도 강하게 제기되는 것으로 알려졌다. 엠스플뉴스 취재 결과 린드블럼은 180만 달러 이상의 몸값을 원하는 것으로 확인됐다.  오프시즌 중 과감한 투자로 팀 체질 변화에 나선 삼성은 \"돈은 큰 걸림돌이 되지 않는다. 가장 중요한 건 선수와 구단의 의지\"라고 강조했다. 야구계는 일단 린드블럼의 \\'두산행\\'에 더 무게를 두는 상황이다. 김근한 기자 kimgernhan@mbcplus.com'"
      ]
     },
     "execution_count": 65,
     "metadata": {},
     "output_type": "execute_result"
    }
   ],
   "source": []
  },
  {
   "cell_type": "code",
   "execution_count": 52,
   "metadata": {},
   "outputs": [],
   "source": [
    "re.split('[]')"
   ]
  },
  {
   "cell_type": "code",
   "execution_count": 53,
   "metadata": {},
   "outputs": [
    {
     "data": {
      "text/plain": [
       "'ㅣ삼성 라이온즈가 전 롯데 자이언츠 출신의 외국인 투수 조쉬 린드블럼과 현역 메이저리그 출신의 투수를 놓고 고민 중이다. 분명한 건 삼성이 말이 아닌 행동으로 전력강화에 나서고 있다는 점이다. [엠스플뉴스]                                                삼성 라이온즈가 전 롯데 자이언츠 출신의 외국인 투수 조쉬 린드블럼 영입에 뛰어들었다.                                                롯데는 12월 9일 “린드블럼과의 재계약이 불발됐다”고 공식 발표했다. 린드블럼은 올 시즌 대체 외국인 선수로 롯데로 복귀하면서 ‘시즌 종료 후 롯데와의 재계약이 불발될 경우 보류권을 푼다’는 조항을 계약서에 넣은 바 있다.                                                린드블럼을 향한 KBO리그 구단들의 관심은 뜨겁다. 모 구단 운영팀장은 “최근 롯데와 재계약이 불발된 린드블럼을 노리는 팀이 두산 베어스·삼성 라이온즈·kt 위즈까지 총 3팀”이라고 귀띔한 뒤 \"세 팀 가운데 한 팀으로 린드블럼의 거취가 결정될 것으로 본다\"고 말했다.                                     삼성 “린드블럼은 검증된 선수, 강민호와의 배터리 호흡도 기대” 언급된 세 팀 가운데 삼성은 린드블럼 영입에 관심이 없는 것으로 알려졌던 팀이다. 현역 메이저리거들을 영입 리스트에 올려두고 협상을 진행 중이었기 때문이다.                                                상황이 급격히 변한 건 12월 초다. 이때부터 “삼성이 린드블럼 영입에 뛰어들었다”는 소문이 야구계에 퍼지기 시작했다.                                                삼성 관계자는 “린드블럼은 KBO리그에서 검증을 마쳤기에 활약이 보장된 외국인 투수다. 또 강력한 구위로 선발진의 중심축 역할을 충분히 해낼 수 있는 투수”라며 린드블럼 영입전에 뛰어든 이유를 설명했다.                                                린드블럼은 한국에서 2시즌 반을 뛰면서 28승 27패 평균자책 4.25를 기록했다. 2016시즌엔 10승 13패 평균자책 5.28로 부진했지만, 2015시즌 13승 11패 평균자책 3.56, 2017시즌 5승 3패 평균자책 3.72로 좋은 활약을 펼쳤다.                                                한 가지 이유가 더 있다. 바로 올 시즌 종료 후 FA(자유계약선수)로 영입한 포수 강민호와의 호흡이다. 강민호와 린드블럼은 롯데에서 2시즌 반 동안 함께 뛰었다. 서로의 장점을 누구보다 잘 알고 있다. 배터리 간의 소통이 원활하기에 ‘팀 적응이 쉽지 않겠느냐\\'는 게 삼성의 생각이다.                                     삼성, 린드블럼? 아니면 더 강력한 새로운 투수? 삼성은 스카우트 팀을 재편하고, 외부 자문 인력을 충원하는 등 공격적인 움직임을 통해 현역 메이저리거인 팀 아델만을 데려왔다. 추가로 아델만 이상의 외국인 투수를 영입해 ‘강력한 원투펀치’를 구성하려 했다.                                                하지만, 삼성의 영입리스트 1순위 후보였던 투수가 최근 메이저리그 잔류 의사를 밝히면서 영입이 무산됐다. 삼성이 린드블럼으로 방향을 돌린 것도 이런 사정이 영향을 미쳤다는 후문이다. 단, 린드블럼 영입이 삼성의 ‘최우선 목표’는 아니다.                                                삼성 관계자는 “린드블럼 영입 타진은 모든 가능성을 열어둔 차원일뿐, 미국에서 계속 영입 후보들을 살펴보고 있다”며 “지금 상태로만 본다면 미국에서 새로운 투수가 올 가능성이 조금 더 높다”고 밝혔다.                                                다른 삼성 관계자도 “린드블럼 영입은 외국인 선수 영입 리스크를 최대한 줄이기 위한 보험 같은 성격”이라며 “다른 재계약 불발 외국인 투수들의 한국 잔류 의지, 성공 가능성, 계약 가능성도 꼼꼼히 살펴보고 있다”고 전했다.                                                실제로 삼성 내부에선 ‘린드블럼보다 더 강력한 투수를 데려오자’는 의견도 강하게 제기되는 것으로 알려졌다.                                                엠스플뉴스 취재 결과 린드블럼은 180만 달러 이상의 몸값을 원하는 것으로 확인됐다.                                                오프시즌 중 과감한 투자로 팀 체질 변화에 나선 삼성은 \"돈은 큰 걸림돌이 되지 않는다. 가장 중요한 건 선수와 구단의 의지\"라고 강조했다.                                                야구계는 일단 린드블럼의 \\'두산행\\'에 더 무게를 두는 상황이다.                                     김근한 기자 kimgernhan@mbcplus.com'"
      ]
     },
     "execution_count": 53,
     "metadata": {},
     "output_type": "execute_result"
    }
   ],
   "source": [
    "x5"
   ]
  },
  {
   "cell_type": "code",
   "execution_count": null,
   "metadata": {},
   "outputs": [],
   "source": []
  }
 ],
 "metadata": {
  "kernelspec": {
   "display_name": "Python 3",
   "language": "python",
   "name": "python3"
  },
  "language_info": {
   "codemirror_mode": {
    "name": "ipython",
    "version": 3
   },
   "file_extension": ".py",
   "mimetype": "text/x-python",
   "name": "python",
   "nbconvert_exporter": "python",
   "pygments_lexer": "ipython3",
   "version": "3.6.3"
  }
 },
 "nbformat": 4,
 "nbformat_minor": 2
}
