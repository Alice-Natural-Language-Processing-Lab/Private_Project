{
 "cells": [
  {
   "cell_type": "code",
   "execution_count": 2,
   "metadata": {},
   "outputs": [],
   "source": [
    "import sys\n",
    "sys.path.append('C:/Users/pc/Documents/GitHub/Private_Project/personal_project')\n",
    "from collections import defaultdict\n",
    "from datetime import datetime, timedelta\n",
    "import time\n",
    "import re\n",
    "import requests\n",
    "import pandas as pd\n",
    "from bs4 import BeautifulSoup\n",
    "from selenium import webdriver\n",
    "from selenium.webdriver.support.ui import WebDriverWait\n",
    "from selenium.common.exceptions import TimeoutException, NoSuchElementException, StaleElementReferenceException\n",
    "from selenium.webdriver.support import expected_conditions as EC\n",
    "from selenium.webdriver.common.by import By\n",
    "from selenium.webdriver import ActionChains\n",
    "import pickle\n",
    "import chat_bot as cb\n",
    "import Database_Handler as dh\n",
    "from multiprocessing import Pool\n",
    "from functools import partial"
   ]
  },
  {
   "cell_type": "code",
   "execution_count": 3,
   "metadata": {},
   "outputs": [],
   "source": [
    "aeasda = binList.copy()"
   ]
  },
  {
   "cell_type": "code",
   "execution_count": 17,
   "metadata": {
    "scrolled": false
   },
   "outputs": [
    {
     "name": "stdout",
     "output_type": "stream",
     "text": [
      "http://v.media.daum.net/v/20171205151743503\n",
      "1\n",
      "[마이데일리 = 이승길 기자] JTBC '내 이름을 불러줘-한명(名)회'(이하 '한명회')가 막을 내린다. 최근 진행된 '한명회' 9회 녹화는 별난 이름 특집으로 꾸며졌다. 이날은 특집 명에 맞게 녹화 전까지 철저히 출연자들이 서로 이름을 공유하지 못하도록 조치를 취했다. 출연자들은 서로의 이름을 추측하며 자신의 이름보다 특이 한 지 궁금해 했다. 이날 8명의 출연자는 모두 \"출석 부르는 시간, 자기소개 시간을 가장 싫어한다\"며 다른 이름이지만 같은 심정으로 공감 대화를 나눴다. 그중 유독 눈에 띄는 한 남성 출연자의 기상천외한 이름이 밝혀져, 나머지 출연진은 물론 MC들도 당황하며 이름을 재차 물어 웃음을 자아냈다. 하지만 후에 밝혀진 이름 탄생 배경에는 마냥 웃을 수만은 없는 인생 스토리가 담겨있어 눈길을 끌기도 했다. 한편, 지난 10월 10일부터 방송된 '한명회'는 9회로 막을 내린다. 오는 12일부터 '한명회' 방송 시간에는 편성 시간이 변경된 '패키지로 세계일주-뭉쳐야 뜬다'가 전파를 탄다. '한명회' 마지막 회는 5일 오후 9시 30분에 방송된다. [사진 = JTBC 제공]- ⓒ마이데일리(www.mydaily.co.kr). 무단전재&재배포 금지 -\n"
     ]
    }
   ],
   "source": [
    "#site = 'Naver'\n",
    "site = 'daum'\n",
    "if site == 'daum':\n",
    "    binList = []\n",
    "    collection = 'newsDaum'\n",
    "    etri_outcome = '/Users/hyunyoun/Documents/GitHub/Private_Project/personal_project/data/ETRI_OUTCOME/daum2/'\n",
    "elif site.lower() == 'naver':\n",
    "    binList = []\n",
    "    collection = 'newsNaver'\n",
    "    etri_outcome = '/Users/hyunyoun/Documents/GitHub/Private_Project/personal_project/data/ETRI_OUTCOME/naver2/'\n",
    "\n",
    "mongodb = dh.ToMongoDB(*dh.AWS_MongoDB_Information())\n",
    "dbname = 'hy_db'\n",
    "useDb = dh.Use_Database(mongodb, dbname)\n",
    "slack = cb.Slacker(cb.slacktoken())\n",
    "useCollection = dh.Use_Collection(useDb, collection)\n",
    "keywordList = list()\n",
    "pressList = list()\n",
    "i = 0\n",
    "for data in useCollection.find({'site':site}):\n",
    "    pressList.append(data['press'])\n",
    "    if len(data['mainText'].strip()) <= 1000:\n",
    "        binList.append(data['_id'])\n",
    "        print (data['link'])\n",
    "        res = requests.get(data['link'])\n",
    "        soup = BeautifulSoup(res.content, 'html.parser')\n",
    "        x = soup.find(class_='article_view')\n",
    "        x2 = x.select('section')\n",
    "        print (len(x2))\n",
    "        x3 = ' '.join(list(map(lambda xx: xx.text.strip(), x2)))\n",
    "        mainText = ' '.join(list(map(lambda xx: xx.strip(), x3.split(u'\\xa0'))))\n",
    "        mainText = ' '.join(list(map(lambda xx: xx.strip(), mainText.split('\\n'))))\n",
    "        print (mainText)\n",
    "        #useCollection.update({\"_id\": data['_id']},{'$set': {\"mainText\": mainText}})\n",
    "        #print (mainText)\n",
    "        break\n",
    "    "
   ]
  },
  {
   "cell_type": "code",
   "execution_count": 48,
   "metadata": {},
   "outputs": [],
   "source": [
    "x = soup.find(class_='article_view')\n",
    "x2 = x.select('section > div')\n",
    "x3 = ' '.join(list(map(lambda xx: xx.text.strip(), x2)))\n",
    "mainText = ' '.join(list(map(lambda xx: xx.strip(), x3.split(u'\\xa0'))))"
   ]
  }
 ],
 "metadata": {
  "kernelspec": {
   "display_name": "Python 3",
   "language": "python",
   "name": "python3"
  },
  "language_info": {
   "codemirror_mode": {
    "name": "ipython",
    "version": 3
   },
   "file_extension": ".py",
   "mimetype": "text/x-python",
   "name": "python",
   "nbconvert_exporter": "python",
   "pygments_lexer": "ipython3",
   "version": "3.6.4"
  }
 },
 "nbformat": 4,
 "nbformat_minor": 2
}
