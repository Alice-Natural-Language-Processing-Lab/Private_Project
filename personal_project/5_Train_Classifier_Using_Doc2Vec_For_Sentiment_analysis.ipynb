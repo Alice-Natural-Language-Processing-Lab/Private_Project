{
 "cells": [
  {
   "cell_type": "markdown",
   "metadata": {},
   "source": [
    "# 만들어진 Doc2Vec model을 통한 감정분석 실시\n",
    "> * Positive or Negative"
   ]
  },
  {
   "cell_type": "code",
   "execution_count": 1,
   "metadata": {},
   "outputs": [
    {
     "name": "stderr",
     "output_type": "stream",
     "text": [
      "C:\\Users\\pc\\Anaconda3\\lib\\site-packages\\gensim\\utils.py:1167: UserWarning: detected Windows; aliasing chunkize to chunkize_serial\n",
      "  warnings.warn(\"detected Windows; aliasing chunkize to chunkize_serial\")\n",
      "C:\\Users\\pc\\Anaconda3\\lib\\site-packages\\h5py\\__init__.py:36: FutureWarning: Conversion of the second argument of issubdtype from `float` to `np.floating` is deprecated. In future, it will be treated as `np.float64 == np.dtype(float).type`.\n",
      "  from ._conv import register_converters as _register_converters\n",
      "Using TensorFlow backend.\n",
      "C:\\Users\\pc\\Anaconda3\\lib\\site-packages\\sklearn\\cross_validation.py:41: DeprecationWarning: This module was deprecated in version 0.18 in favor of the model_selection module into which all the refactored classes and functions are moved. Also note that the interface of the new CV iterators are different from that of this module. This module will be removed in 0.20.\n",
      "  \"This module will be removed in 0.20.\", DeprecationWarning)\n"
     ]
    }
   ],
   "source": [
    "import pickle\n",
    "import html\n",
    "import multiprocessing\n",
    "from collections import namedtuple, OrderedDict\n",
    "import re\n",
    "import sys\n",
    "import os\n",
    "\n",
    "os.environ['KERAS_BACKEND']='tensorflow'\n",
    "\n",
    "import numpy as np\n",
    "from tqdm import tqdm\n",
    "tqdm.pandas(desc=\"progress-bar\")\n",
    "import pandas as pd\n",
    "\n",
    "from gensim.models import doc2vec, KeyedVectors\n",
    "from gensim.models.doc2vec import TaggedDocument\n",
    "\n",
    "from konlpy.utils import pprint\n",
    "\n",
    "from sklearn.model_selection import train_test_split\n",
    "from sklearn.linear_model import LogisticRegression\n",
    "from sklearn.ensemble import RandomForestClassifier\n",
    "from sklearn.svm import SVC\n",
    "from sklearn.metrics import confusion_matrix, classification_report, roc_curve,  accuracy_score\n",
    "from sklearn.feature_extraction.text import TfidfVectorizer\n",
    "from sklearn.preprocessing import scale, MinMaxScaler\n",
    "from sklearn.manifold import TSNE\n",
    "\n",
    "import keras.backend.tensorflow_backend as K\n",
    "from keras.preprocessing import sequence\n",
    "from keras_tqdm import TQDMCallback, TQDMNotebookCallback\n",
    "from keras.models import Model, Sequential\n",
    "from keras.regularizers import l2\n",
    "from keras.optimizers import SGD\n",
    "from keras.utils import np_utils\n",
    "from keras.layers import Input, Flatten, Dense, Embedding, embeddings, merge, Dropout, Activation,  LSTM, Bidirectional, SimpleRNN, GRU\n",
    "from keras.layers.convolutional import Conv1D, Conv2D\n",
    "from keras.layers.pooling import MaxPooling1D, GlobalMaxPooling1D\n",
    "from keras.layers.normalization import BatchNormalization\n",
    "from keras.layers.core import SpatialDropout1D\n",
    "from keras.utils import np_utils\n",
    "from tensorflow.python.client import device_lib\n",
    "from keras.layers.merge import dot\n",
    "\n",
    "import xgboost as xgb\n",
    "\n",
    "import matplotlib.pyplot as plt\n",
    "\n",
    "import bokeh.plotting as bp\n",
    "from bokeh.models import HoverTool, BoxSelectTool\n",
    "from bokeh.plotting import figure, show, output_notebook"
   ]
  },
  {
   "cell_type": "code",
   "execution_count": 2,
   "metadata": {},
   "outputs": [
    {
     "name": "stdout",
     "output_type": "stream",
     "text": [
      "[name: \"/device:CPU:0\"\n",
      "device_type: \"CPU\"\n",
      "memory_limit: 268435456\n",
      "locality {\n",
      "}\n",
      "incarnation: 14883758371977377695\n",
      ", name: \"/device:GPU:0\"\n",
      "device_type: \"GPU\"\n",
      "memory_limit: 4969044377\n",
      "locality {\n",
      "  bus_id: 1\n",
      "}\n",
      "incarnation: 10946100625587963883\n",
      "physical_device_desc: \"device: 0, name: GeForce GTX 1060 6GB, pci bus id: 0000:09:00.0, compute capability: 6.1\"\n",
      "]\n"
     ]
    }
   ],
   "source": [
    "print (device_lib.list_local_devices())"
   ]
  },
  {
   "cell_type": "code",
   "execution_count": 3,
   "metadata": {},
   "outputs": [],
   "source": [
    "def Make_Roc_Curve(x, y, model1, model2, model3, model4):\n",
    "    print ('Logistic Regression')\n",
    "    fpr1, tpr1, thresholds1 = roc_curve(y, model1.predict(x))\n",
    "    print ('Random Forest')\n",
    "    fpr2, tpr2, thresholds2 = roc_curve(y, model2.predict(x))\n",
    "    print ('Kernel SVM')\n",
    "    fpr3, tpr3, thresholds3 = roc_curve(y, model3.predict(x))\n",
    "    print ('XGBoost')\n",
    "    import xgboost as xgb\n",
    "    fpr4, tpr4, thresholds4 = roc_curve(y, model4.predict(xgb.DMatrix(x)))\n",
    "    plt.plot(fpr1, tpr1, label=\"Logistic Regression\")\n",
    "    plt.plot(fpr2, tpr2, label=\"RandomForest\")\n",
    "    plt.plot(fpr3, tpr3, label=\"Kernel SVM\")\n",
    "    plt.plot(fpr4, tpr4, label='XGBoost')\n",
    "    plt.legend()\n",
    "    plt.plot([0, 1], [0, 1], 'k--', label=\"random guess\")\n",
    "    plt.xlabel('False Positive Rate (Fall-Out)')\n",
    "    plt.ylabel('True Positive Rate (Recall)')\n",
    "    plt.title('Receiver operating characteristic example')\n",
    "    plt.show()"
   ]
  },
  {
   "cell_type": "code",
   "execution_count": 4,
   "metadata": {},
   "outputs": [],
   "source": [
    "def plot_history(history):\n",
    "    \"\"\"Plot model history after `fit()`.\n",
    "    \"\"\"\n",
    "\n",
    "    # summarize history for accuracy\n",
    "    plt.plot(history.history['acc'])\n",
    "    plt.plot(history.history['val_acc'])\n",
    "    plt.title('model accuracy')\n",
    "    plt.ylabel('accuracy')\n",
    "    plt.xlabel('epoch')\n",
    "    plt.legend(['train', 'valid'], loc='upper left')\n",
    "    plt.show()\n",
    "\n",
    "    # summarize history for loss\n",
    "    plt.plot(history.history['loss'])\n",
    "    plt.plot(history.history['val_loss'])\n",
    "    plt.title('model loss')\n",
    "    plt.ylabel('loss')\n",
    "    plt.xlabel('epoch')\n",
    "    plt.legend(['train', 'valid'], loc='upper left')\n",
    "    plt.show()"
   ]
  },
  {
   "cell_type": "code",
   "execution_count": 5,
   "metadata": {},
   "outputs": [
    {
     "data": {
      "text/plain": [
       "'3.3.0'"
      ]
     },
     "execution_count": 5,
     "metadata": {},
     "output_type": "execute_result"
    }
   ],
   "source": [
    "import gensim\n",
    "gensim.__version__"
   ]
  },
  {
   "cell_type": "markdown",
   "metadata": {},
   "source": [
    "* windows에서 모델을 만들때 사용한 gensim의 버전이 3.3이었고, mac에서는 버전이 맞지 않아서 만들어둔 모델을 불러오지 못하였음."
   ]
  },
  {
   "cell_type": "markdown",
   "metadata": {},
   "source": [
    "## Doc2Vec"
   ]
  },
  {
   "cell_type": "code",
   "execution_count": 6,
   "metadata": {},
   "outputs": [],
   "source": [
    "TaggedDocument = namedtuple('TaggedDocument', 'words tags sentiment')"
   ]
  },
  {
   "cell_type": "code",
   "execution_count": 7,
   "metadata": {},
   "outputs": [],
   "source": [
    "def Get_Infer_Vector(docs, model):\n",
    "    return [model.infer_vector(doc.words) for doc in tqdm(docs)]"
   ]
  },
  {
   "cell_type": "code",
   "execution_count": 8,
   "metadata": {},
   "outputs": [],
   "source": [
    "if sys.platform =='darwin':\n",
    "    loadModelPath = '/Volumes/disk1/model/'\n",
    "elif sys.platform =='win32':\n",
    "    loadModelPath = 'd:/model/'\n",
    "saveTrainPath = './data/pre_data/train_test_Data2/'\n",
    "saveClassifierPath = './data/pre_data/classifier/'"
   ]
  },
  {
   "cell_type": "code",
   "execution_count": 9,
   "metadata": {},
   "outputs": [
    {
     "name": "stdout",
     "output_type": "stream",
     "text": [
      "12\n"
     ]
    }
   ],
   "source": [
    "cores = int(multiprocessing.cpu_count() )\n",
    "print (cores)"
   ]
  },
  {
   "cell_type": "markdown",
   "metadata": {},
   "source": [
    "### twitter"
   ]
  },
  {
   "cell_type": "markdown",
   "metadata": {},
   "source": [
    "#### Load Model"
   ]
  },
  {
   "cell_type": "code",
   "execution_count": null,
   "metadata": {},
   "outputs": [],
   "source": [
    "model1 = doc2vec.Doc2Vec.load(loadModelPath+'doc2vec_size-1000_epoch-20_window-10_negative-7_hs-0_dm-1_dm_concat-0_dm_mean-1_by-ct.model')\n",
    "model2 = doc2vec.Doc2Vec.load(loadModelPath+'doc2vec_size-1000_epoch-20_window-5_negative-7_hs-0_dm-1_dm_concat-1_dm_mean-0_by-ct.model')\n",
    "model3 = doc2vec.Doc2Vec.load(loadModelPath+'doc2vec_size-1000_epoch-20_window-None_negative-7_hs-0_dm-0_dm_concat-0_dm_mean-0_by-ct.model')"
   ]
  },
  {
   "cell_type": "markdown",
   "metadata": {},
   "source": [
    "#### Word to Vector"
   ]
  },
  {
   "cell_type": "markdown",
   "metadata": {},
   "source": [
    "##### train set"
   ]
  },
  {
   "cell_type": "code",
   "execution_count": null,
   "metadata": {},
   "outputs": [],
   "source": [
    "train = pickle.load(open('./data/pre_data/train_test_Data/pre_data_by_ct_train_for_doc2vec_sentiment_analysis.pickled','rb'))"
   ]
  },
  {
   "cell_type": "code",
   "execution_count": null,
   "metadata": {},
   "outputs": [],
   "source": [
    "name1 = '-'.join(re.split('[\\(\\),\\/]',str(model1)))+'ct'\n",
    "if not os.path.isfile(saveTrainPath+'train_x_'+name1):\n",
    "    train_x_by_m1 = Get_Infer_Vector(train, model1)\n",
    "    \n",
    "    pickle.dump(train_x_by_m1,open(saveTrainPath+'train_x_'+name1,'wb'))\n",
    "    del train_x_by_m1\n",
    "    del name1\n",
    "    \n",
    "name2 = '-'.join(re.split('[\\(\\),\\/]',str(model2)))+'ct'\n",
    "if not os.path.isfile(saveTrainPath+'train_x_'+name2):\n",
    "    train_x_by_m2 = Get_Infer_Vector(train, model2)\n",
    "\n",
    "    pickle.dump(train_x_by_m2,open(saveTrainPath+'train_x_'+name2,'wb'))\n",
    "    del train_x_by_m2\n",
    "    del name2\n",
    "\n",
    "name3 = '-'.join(re.split('[\\(\\),\\/]',str(model3)))+'ct'\n",
    "if not os.path.isfile(saveTrainPath+'train_x_'+name3):\n",
    "    train_x_by_m3 = Get_Infer_Vector(train, model3)\n",
    "\n",
    "    pickle.dump(train_x_by_m3,open(saveTrainPath+'train_x_'+name3,'wb'))\n",
    "    del train_x_by_m3\n",
    "    del name3\n",
    "\n",
    "if not os.path.isfile(saveTrainPath+'train_senti_y_ct_for_sentiment_analysis'):\n",
    "    train_senti_y = [doc.sentiment for doc in tqdm(train)]\n",
    "    \n",
    "    pickle.dump(train_senti_y, open(saveTrainPath+'train_senti_y_ct_for_sentiment_analysis','wb'))\n",
    "    del train_senti_y\n",
    "    \n",
    "if not os.path.isfile(saveTrainPath+'train_tags_y_ct_for_sentiment_analysis'):\n",
    "    train_tags_y = [doc.tags for doc in tqdm(train)]\n",
    "    \n",
    "    pickle.dump(train_tags_y, open(saveTrainPath+'train_tags_y_ct_for_sentiment_analysis','wb'))\n",
    "    del train_tags_y\n",
    "\n",
    "if 'train' in locals():\n",
    "    del train"
   ]
  },
  {
   "cell_type": "markdown",
   "metadata": {},
   "source": [
    "##### test set"
   ]
  },
  {
   "cell_type": "code",
   "execution_count": null,
   "metadata": {},
   "outputs": [],
   "source": [
    "test = pickle.load(open('./data/pre_data/train_test_Data/pre_data_by_ct_test_for_doc2vec_sentiment_analysis.pickled','rb'))"
   ]
  },
  {
   "cell_type": "code",
   "execution_count": null,
   "metadata": {},
   "outputs": [],
   "source": [
    "name1 = '-'.join(re.split('[\\(\\),\\/]',str(model1)))+'ct'\n",
    "if not os.path.isfile(saveTrainPath+'test_x_'+name1):\n",
    "    test_x_by_m1 = Get_Infer_Vector(test, model1)\n",
    "    \n",
    "    pickle.dump(test_x_by_m1,open(saveTrainPath+'test_x_'+name1,'wb'))\n",
    "    del test_x_by_m1\n",
    "    del name1\n",
    "    \n",
    "name2 = '-'.join(re.split('[\\(\\),\\/]',str(model2)))+'ct'\n",
    "if not os.path.isfile(saveTrainPath+'test_x_'+name2):\n",
    "    test_x_by_m2 = Get_Infer_Vector(test, model2)\n",
    "\n",
    "    pickle.dump(test_x_by_m2,open(saveTrainPath+'test_x_'+name2,'wb'))\n",
    "    del test_x_by_m2\n",
    "    del name2\n",
    "\n",
    "name3 = '-'.join(re.split('[\\(\\),\\/]',str(model3)))+'ct'\n",
    "if not os.path.isfile(saveTrainPath+'test_x_'+name3):\n",
    "    test_x_by_m3 = Get_Infer_Vector(test, model3)\n",
    "\n",
    "    pickle.dump(test_x_by_m3,open(saveTrainPath+'test_x_'+name3,'wb'))\n",
    "    del test_x_by_m3\n",
    "    del name3\n",
    "\n",
    "if not os.path.isfile(saveTrainPath+'test_senti_y_ct_for_sentiment_analysis'):\n",
    "    test_senti_y = [doc.sentiment for doc in tqdm(test)]\n",
    "    \n",
    "    pickle.dump(test_senti_y, open(saveTrainPath+'test_senti_y_ct_for_sentiment_analysis','wb'))\n",
    "    del test_senti_y\n",
    "    \n",
    "if not os.path.isfile(saveTrainPath+'test_tags_y_ct_for_sentiment_analysis'):\n",
    "    test_tags_y = [doc.tags for doc in tqdm(test)]\n",
    "    \n",
    "    pickle.dump(test_tags_y, open(saveTrainPath+'test_tags_y_ct_for_sentiment_analysis','wb'))\n",
    "    del test_tags_y\n",
    "\n",
    "if 'test' in locals():\n",
    "    del test"
   ]
  },
  {
   "cell_type": "markdown",
   "metadata": {},
   "source": [
    "#### model1\n",
    "* Doc2Vec(dm/m,d1000,n7,w10,mc5,s0.001,t12)\n",
    "* size-1000\n",
    "* epoch-20\n",
    "* window-10\n",
    "* negative-7\n",
    "* hs-0\n",
    "* dm-1\n",
    "* dm_concat-0\n",
    "* dm_mean-1"
   ]
  },
  {
   "cell_type": "code",
   "execution_count": null,
   "metadata": {},
   "outputs": [],
   "source": [
    "train_x_by_m1_name = 'train_x_Doc2Vec-dm-m-d1000-n7-w10-mc5-s0.001-t12-ct'\n",
    "train_x_by_m1 = pickle.load(open(saveTrainPath+train_x_by_m1_name,'rb'))\n",
    "train_y = pickle.load(open(saveTrainPath+'train_senti_y_ct_for_sentiment_analysis','rb'))"
   ]
  },
  {
   "cell_type": "code",
   "execution_count": null,
   "metadata": {},
   "outputs": [],
   "source": [
    "test_x_by_m1_name = 'test_x_Doc2Vec-dm-m-d1000-n7-w10-mc5-s0.001-t12-ct'\n",
    "test_x_by_m1 = pickle.load(open(saveTrainPath+test_x_by_m1_name,'rb'))\n",
    "test_y = pickle.load(open(saveTrainPath+'test_senti_y_ct_for_sentiment_analysis','rb'))"
   ]
  },
  {
   "cell_type": "markdown",
   "metadata": {},
   "source": [
    "#### 분류 모델 : Logistic Regression"
   ]
  },
  {
   "cell_type": "code",
   "execution_count": null,
   "metadata": {},
   "outputs": [],
   "source": [
    "train_y2 = [y[0] for y in tqdm(train_y)]\n",
    "test_y2 = [y[0] for y in tqdm(test_y)]"
   ]
  },
  {
   "cell_type": "code",
   "execution_count": null,
   "metadata": {},
   "outputs": [],
   "source": [
    "%%time\n",
    "classifier = LogisticRegression(random_state=1234, max_iter = 250, n_jobs=cores)\n",
    "classifier.fit(train_x_by_m1, train_y2)\n",
    "print (classifier.get_params())\n",
    "print( 'score : {}'.format(classifier.score(test_x_by_m1, test_y2)))\n",
    "print ('classification report')\n",
    "print (classification_report(test_y2, classifier.predict(test_x_by_m1)))"
   ]
  },
  {
   "cell_type": "code",
   "execution_count": null,
   "metadata": {},
   "outputs": [],
   "source": [
    "pickle.dump(classifier,open(saveClassifierPath+'LogisticRegression_'+train_x_by_m1_name, 'wb'))"
   ]
  },
  {
   "cell_type": "markdown",
   "metadata": {},
   "source": [
    "#### 분류모델 : RandomForest Classifier"
   ]
  },
  {
   "cell_type": "code",
   "execution_count": null,
   "metadata": {},
   "outputs": [],
   "source": [
    "%%time\n",
    "classifier2 = RandomForestClassifier(random_state=1234, n_estimators = 75, n_jobs=cores)\n",
    "classifier2.fit(train_x_by_m1, train_y2)\n",
    "print (classifier2.get_params())\n",
    "print( 'score : {}'.format(classifier2.score(test_x_by_m1, test_y2)))\n",
    "print ('classification report')\n",
    "print (classification_report(test_y2, classifier2.predict(test_x_by_m1)))"
   ]
  },
  {
   "cell_type": "code",
   "execution_count": null,
   "metadata": {},
   "outputs": [],
   "source": [
    "pickle.dump(classifier2,open(saveClassifierPath+'RandomForestClassifier_'+train_x_by_m1_name, 'wb'))"
   ]
  },
  {
   "cell_type": "markdown",
   "metadata": {},
   "source": [
    "#### 분류모델 : C-Support Vector Classification"
   ]
  },
  {
   "cell_type": "code",
   "execution_count": null,
   "metadata": {
    "scrolled": true
   },
   "outputs": [],
   "source": [
    "%%time\n",
    "scaling = MinMaxScaler(feature_range=(-1, 1)).fit(train_x_by_m1)\n",
    "train_x_by_m1_2 = scaling.transform(train_x_by_m1)\n",
    "test_x_by_m1_2 = scaling.transform(test_x_by_m1)\n",
    "classifier3 =  SVC(kernel = 'linear', \n",
    "        cache_size= 1024, max_iter = 1500, verbose = True) \n",
    "classifier3.fit(train_x_by_m1_2, train_y2)\n",
    "print (classifier3.get_params())\n",
    "print( 'score : {}'.format(classifier3.score(test_x_by_m1_2, test_y2)))\n",
    "print ('classification report')\n",
    "print (classification_report(test_y2, classifier3.predict(test_x_by_m1_2)))"
   ]
  },
  {
   "cell_type": "code",
   "execution_count": null,
   "metadata": {},
   "outputs": [],
   "source": [
    "del scaling\n",
    "del train_x_by_m1_2\n",
    "del test_x_by_m1_2"
   ]
  },
  {
   "cell_type": "code",
   "execution_count": null,
   "metadata": {},
   "outputs": [],
   "source": [
    "pickle.dump(classifier3,open(saveClassifierPath+'SVC_'+train_x_by_m1_name, 'wb'))"
   ]
  },
  {
   "cell_type": "markdown",
   "metadata": {},
   "source": [
    "#### 분류모델 : XGBOOST"
   ]
  },
  {
   "cell_type": "code",
   "execution_count": null,
   "metadata": {
    "scrolled": false
   },
   "outputs": [],
   "source": [
    "%%time\n",
    "train_vecs_w2v = np.concatenate([z.reshape(1,-1) for z in tqdm(map(lambda x: x,train_x_by_m1))])\n",
    "train_vecs_w2v = scale(train_vecs_w2v)\n",
    "\n",
    "test_vecs_w2v = np.concatenate([z.reshape(1,-1) for z in tqdm(map(lambda x: x, test_x_by_m1))])\n",
    "test_vecs_w2v = scale(test_vecs_w2v)\n",
    "\n",
    "y_test = np.array(test_y)\n",
    "y_train = np.array(train_y)"
   ]
  },
  {
   "cell_type": "code",
   "execution_count": null,
   "metadata": {},
   "outputs": [],
   "source": [
    "%%time\n",
    "dtrain = xgb.DMatrix(train_vecs_w2v, y_train)\n",
    "dvalid = xgb.DMatrix(test_vecs_w2v, y_test)"
   ]
  },
  {
   "cell_type": "code",
   "execution_count": 37,
   "metadata": {
    "scrolled": true
   },
   "outputs": [
    {
     "name": "stdout",
     "output_type": "stream",
     "text": [
      "[0]\ttrain-auc:0.607793\teval-auc:0.610414\n",
      "Multiple eval metrics have been passed: 'eval-auc' will be used for early stopping.\n",
      "\n",
      "Will train until eval-auc hasn't improved in 10 rounds.\n",
      "[1]\ttrain-auc:0.620366\teval-auc:0.624268\n",
      "[2]\ttrain-auc:0.629444\teval-auc:0.634942\n",
      "[3]\ttrain-auc:0.633468\teval-auc:0.639657\n",
      "[4]\ttrain-auc:0.638111\teval-auc:0.642708\n",
      "[5]\ttrain-auc:0.641881\teval-auc:0.645733\n",
      "[6]\ttrain-auc:0.644185\teval-auc:0.648052\n",
      "[7]\ttrain-auc:0.646831\teval-auc:0.650695\n",
      "[8]\ttrain-auc:0.650333\teval-auc:0.653901\n",
      "[9]\ttrain-auc:0.653317\teval-auc:0.656875\n",
      "[10]\ttrain-auc:0.656777\teval-auc:0.660439\n",
      "[11]\ttrain-auc:0.658605\teval-auc:0.662213\n",
      "[12]\ttrain-auc:0.660999\teval-auc:0.664014\n",
      "[13]\ttrain-auc:0.663079\teval-auc:0.666033\n",
      "[14]\ttrain-auc:0.664794\teval-auc:0.667817\n",
      "[15]\ttrain-auc:0.665767\teval-auc:0.669134\n",
      "[16]\ttrain-auc:0.667282\teval-auc:0.670268\n",
      "[17]\ttrain-auc:0.669103\teval-auc:0.672211\n",
      "[18]\ttrain-auc:0.672656\teval-auc:0.675675\n",
      "[19]\ttrain-auc:0.674681\teval-auc:0.677895\n",
      "[20]\ttrain-auc:0.676836\teval-auc:0.679945\n",
      "[21]\ttrain-auc:0.678191\teval-auc:0.681112\n",
      "[22]\ttrain-auc:0.679869\teval-auc:0.682357\n",
      "[23]\ttrain-auc:0.680939\teval-auc:0.6835\n",
      "[24]\ttrain-auc:0.681924\teval-auc:0.684519\n",
      "[25]\ttrain-auc:0.683548\teval-auc:0.686314\n",
      "[26]\ttrain-auc:0.684718\teval-auc:0.687365\n",
      "[27]\ttrain-auc:0.685945\teval-auc:0.68838\n",
      "[28]\ttrain-auc:0.688061\teval-auc:0.690595\n",
      "[29]\ttrain-auc:0.68925\teval-auc:0.691607\n",
      "[30]\ttrain-auc:0.690811\teval-auc:0.693266\n",
      "[31]\ttrain-auc:0.692466\teval-auc:0.694589\n",
      "[32]\ttrain-auc:0.693668\teval-auc:0.695506\n",
      "[33]\ttrain-auc:0.695023\teval-auc:0.696833\n",
      "[34]\ttrain-auc:0.696437\teval-auc:0.698319\n",
      "[35]\ttrain-auc:0.697911\teval-auc:0.699624\n",
      "[36]\ttrain-auc:0.699426\teval-auc:0.701047\n",
      "[37]\ttrain-auc:0.700857\teval-auc:0.702295\n",
      "[38]\ttrain-auc:0.702011\teval-auc:0.703258\n",
      "[39]\ttrain-auc:0.703254\teval-auc:0.704633\n",
      "[40]\ttrain-auc:0.704207\teval-auc:0.705732\n",
      "[41]\ttrain-auc:0.705055\teval-auc:0.706439\n",
      "[42]\ttrain-auc:0.706099\teval-auc:0.707408\n",
      "[43]\ttrain-auc:0.707393\teval-auc:0.708926\n",
      "[44]\ttrain-auc:0.708637\teval-auc:0.710265\n",
      "[45]\ttrain-auc:0.709983\teval-auc:0.71172\n",
      "[46]\ttrain-auc:0.711393\teval-auc:0.71323\n",
      "[47]\ttrain-auc:0.712238\teval-auc:0.714349\n",
      "[48]\ttrain-auc:0.713343\teval-auc:0.715417\n",
      "[49]\ttrain-auc:0.714246\teval-auc:0.716041\n",
      "[50]\ttrain-auc:0.715228\teval-auc:0.717118\n",
      "[51]\ttrain-auc:0.715953\teval-auc:0.71777\n",
      "[52]\ttrain-auc:0.716908\teval-auc:0.718472\n",
      "[53]\ttrain-auc:0.718034\teval-auc:0.719608\n",
      "[54]\ttrain-auc:0.718801\teval-auc:0.720392\n",
      "[55]\ttrain-auc:0.71986\teval-auc:0.721217\n",
      "[56]\ttrain-auc:0.720877\teval-auc:0.722084\n",
      "[57]\ttrain-auc:0.722003\teval-auc:0.723298\n",
      "[58]\ttrain-auc:0.722978\teval-auc:0.724327\n",
      "[59]\ttrain-auc:0.723913\teval-auc:0.725202\n",
      "[60]\ttrain-auc:0.72461\teval-auc:0.725687\n",
      "[61]\ttrain-auc:0.725636\teval-auc:0.726521\n",
      "[62]\ttrain-auc:0.726308\teval-auc:0.727052\n",
      "[63]\ttrain-auc:0.727361\teval-auc:0.72783\n",
      "[64]\ttrain-auc:0.728179\teval-auc:0.728483\n",
      "[65]\ttrain-auc:0.729136\teval-auc:0.729327\n",
      "[66]\ttrain-auc:0.729809\teval-auc:0.729834\n",
      "[67]\ttrain-auc:0.730581\teval-auc:0.730344\n",
      "[68]\ttrain-auc:0.731368\teval-auc:0.731317\n",
      "[69]\ttrain-auc:0.731967\teval-auc:0.731797\n",
      "[70]\ttrain-auc:0.732694\teval-auc:0.732483\n",
      "[71]\ttrain-auc:0.733425\teval-auc:0.733282\n",
      "[72]\ttrain-auc:0.734181\teval-auc:0.733809\n",
      "[73]\ttrain-auc:0.734923\teval-auc:0.734363\n",
      "[74]\ttrain-auc:0.735605\teval-auc:0.73498\n",
      "[75]\ttrain-auc:0.736217\teval-auc:0.735674\n",
      "[76]\ttrain-auc:0.736913\teval-auc:0.736122\n",
      "[77]\ttrain-auc:0.737549\teval-auc:0.736549\n",
      "[78]\ttrain-auc:0.738264\teval-auc:0.737213\n",
      "[79]\ttrain-auc:0.738991\teval-auc:0.737955\n",
      "[80]\ttrain-auc:0.739405\teval-auc:0.738465\n",
      "[81]\ttrain-auc:0.740085\teval-auc:0.739092\n",
      "[82]\ttrain-auc:0.740861\teval-auc:0.73951\n",
      "[83]\ttrain-auc:0.741534\teval-auc:0.74001\n",
      "[84]\ttrain-auc:0.74228\teval-auc:0.740689\n",
      "[85]\ttrain-auc:0.742896\teval-auc:0.74117\n",
      "[86]\ttrain-auc:0.743528\teval-auc:0.741602\n",
      "[87]\ttrain-auc:0.744027\teval-auc:0.742008\n",
      "[88]\ttrain-auc:0.744514\teval-auc:0.742386\n",
      "[89]\ttrain-auc:0.745046\teval-auc:0.74289\n",
      "[90]\ttrain-auc:0.745532\teval-auc:0.74325\n",
      "[91]\ttrain-auc:0.746138\teval-auc:0.743697\n",
      "[92]\ttrain-auc:0.746696\teval-auc:0.744109\n",
      "[93]\ttrain-auc:0.747261\teval-auc:0.744433\n",
      "[94]\ttrain-auc:0.747833\teval-auc:0.744745\n",
      "[95]\ttrain-auc:0.748295\teval-auc:0.745205\n",
      "[96]\ttrain-auc:0.748669\teval-auc:0.745486\n",
      "[97]\ttrain-auc:0.749274\teval-auc:0.745924\n",
      "[98]\ttrain-auc:0.749778\teval-auc:0.746092\n",
      "[99]\ttrain-auc:0.750253\teval-auc:0.746453\n",
      "[100]\ttrain-auc:0.750735\teval-auc:0.746744\n",
      "[101]\ttrain-auc:0.751301\teval-auc:0.747208\n",
      "[102]\ttrain-auc:0.751753\teval-auc:0.747457\n",
      "[103]\ttrain-auc:0.752132\teval-auc:0.747863\n",
      "[104]\ttrain-auc:0.752577\teval-auc:0.748209\n",
      "[105]\ttrain-auc:0.75295\teval-auc:0.748495\n",
      "[106]\ttrain-auc:0.753432\teval-auc:0.748808\n",
      "[107]\ttrain-auc:0.753825\teval-auc:0.749203\n",
      "[108]\ttrain-auc:0.754221\teval-auc:0.749446\n",
      "[109]\ttrain-auc:0.754782\teval-auc:0.749679\n",
      "[110]\ttrain-auc:0.755231\teval-auc:0.750051\n",
      "[111]\ttrain-auc:0.75552\teval-auc:0.750323\n",
      "[112]\ttrain-auc:0.755944\teval-auc:0.750677\n",
      "[113]\ttrain-auc:0.756362\teval-auc:0.751052\n",
      "[114]\ttrain-auc:0.756861\teval-auc:0.751367\n",
      "[115]\ttrain-auc:0.757269\teval-auc:0.751799\n",
      "[116]\ttrain-auc:0.757753\teval-auc:0.752163\n",
      "[117]\ttrain-auc:0.758141\teval-auc:0.752498\n",
      "[118]\ttrain-auc:0.758487\teval-auc:0.752716\n",
      "[119]\ttrain-auc:0.758842\teval-auc:0.753062\n",
      "[120]\ttrain-auc:0.759362\teval-auc:0.753363\n",
      "[121]\ttrain-auc:0.759929\teval-auc:0.753776\n",
      "[122]\ttrain-auc:0.760318\teval-auc:0.753884\n",
      "[123]\ttrain-auc:0.760634\teval-auc:0.754169\n",
      "[124]\ttrain-auc:0.761158\teval-auc:0.754518\n",
      "[125]\ttrain-auc:0.761525\teval-auc:0.754768\n",
      "[126]\ttrain-auc:0.761934\teval-auc:0.755075\n",
      "[127]\ttrain-auc:0.762316\teval-auc:0.755391\n",
      "[128]\ttrain-auc:0.762706\teval-auc:0.755618\n",
      "[129]\ttrain-auc:0.762994\teval-auc:0.755704\n",
      "[130]\ttrain-auc:0.763446\teval-auc:0.755969\n",
      "[131]\ttrain-auc:0.763834\teval-auc:0.756326\n",
      "[132]\ttrain-auc:0.764134\teval-auc:0.756484\n",
      "[133]\ttrain-auc:0.764494\teval-auc:0.756753\n",
      "[134]\ttrain-auc:0.764994\teval-auc:0.757012\n",
      "[135]\ttrain-auc:0.765419\teval-auc:0.757238\n",
      "[136]\ttrain-auc:0.765846\teval-auc:0.75751\n",
      "[137]\ttrain-auc:0.766205\teval-auc:0.75772\n",
      "[138]\ttrain-auc:0.766551\teval-auc:0.757978\n",
      "[139]\ttrain-auc:0.767078\teval-auc:0.758308\n",
      "[140]\ttrain-auc:0.767562\teval-auc:0.758759\n",
      "[141]\ttrain-auc:0.767791\teval-auc:0.758883\n",
      "[142]\ttrain-auc:0.768123\teval-auc:0.759045\n",
      "[143]\ttrain-auc:0.768376\teval-auc:0.759171\n",
      "[144]\ttrain-auc:0.768736\teval-auc:0.759449\n",
      "[145]\ttrain-auc:0.768975\teval-auc:0.759484\n",
      "[146]\ttrain-auc:0.769212\teval-auc:0.759729\n",
      "[147]\ttrain-auc:0.76948\teval-auc:0.759868\n",
      "[148]\ttrain-auc:0.769822\teval-auc:0.760112\n",
      "[149]\ttrain-auc:0.770029\teval-auc:0.760308\n",
      "[150]\ttrain-auc:0.770347\teval-auc:0.760521\n",
      "[151]\ttrain-auc:0.770661\teval-auc:0.760683\n",
      "[152]\ttrain-auc:0.770938\teval-auc:0.760912\n",
      "[153]\ttrain-auc:0.77131\teval-auc:0.76114\n",
      "[154]\ttrain-auc:0.771712\teval-auc:0.76144\n",
      "[155]\ttrain-auc:0.77206\teval-auc:0.761646\n",
      "[156]\ttrain-auc:0.77243\teval-auc:0.761925\n",
      "[157]\ttrain-auc:0.772701\teval-auc:0.762104\n",
      "[158]\ttrain-auc:0.772997\teval-auc:0.762285\n",
      "[159]\ttrain-auc:0.773244\teval-auc:0.762414\n",
      "[160]\ttrain-auc:0.773509\teval-auc:0.762595\n",
      "[161]\ttrain-auc:0.773792\teval-auc:0.762813\n",
      "[162]\ttrain-auc:0.77411\teval-auc:0.762997\n",
      "[163]\ttrain-auc:0.774478\teval-auc:0.763239\n",
      "[164]\ttrain-auc:0.774658\teval-auc:0.763412\n",
      "[165]\ttrain-auc:0.774951\teval-auc:0.763754\n",
      "[166]\ttrain-auc:0.775177\teval-auc:0.76387\n",
      "[167]\ttrain-auc:0.77551\teval-auc:0.764214\n",
      "[168]\ttrain-auc:0.775828\teval-auc:0.764403\n",
      "[169]\ttrain-auc:0.776071\teval-auc:0.764493\n",
      "[170]\ttrain-auc:0.776393\teval-auc:0.764685\n",
      "[171]\ttrain-auc:0.776645\teval-auc:0.764869\n",
      "[172]\ttrain-auc:0.77695\teval-auc:0.765011\n",
      "[173]\ttrain-auc:0.777111\teval-auc:0.765105\n",
      "[174]\ttrain-auc:0.777461\teval-auc:0.76528\n",
      "[175]\ttrain-auc:0.777687\teval-auc:0.765428\n",
      "[176]\ttrain-auc:0.777944\teval-auc:0.765584\n",
      "[177]\ttrain-auc:0.77833\teval-auc:0.765707\n",
      "[178]\ttrain-auc:0.778579\teval-auc:0.765953\n",
      "[179]\ttrain-auc:0.778779\teval-auc:0.766089\n",
      "[180]\ttrain-auc:0.77918\teval-auc:0.766278\n",
      "[181]\ttrain-auc:0.77936\teval-auc:0.766338\n",
      "[182]\ttrain-auc:0.779702\teval-auc:0.766564\n",
      "[183]\ttrain-auc:0.779944\teval-auc:0.766716\n",
      "[184]\ttrain-auc:0.780149\teval-auc:0.766891\n",
      "[185]\ttrain-auc:0.780479\teval-auc:0.76715\n",
      "[186]\ttrain-auc:0.780736\teval-auc:0.76731\n",
      "[187]\ttrain-auc:0.78109\teval-auc:0.767665\n",
      "[188]\ttrain-auc:0.78136\teval-auc:0.767835\n",
      "[189]\ttrain-auc:0.781645\teval-auc:0.767934\n",
      "[190]\ttrain-auc:0.781932\teval-auc:0.768031\n"
     ]
    },
    {
     "name": "stdout",
     "output_type": "stream",
     "text": [
      "[191]\ttrain-auc:0.782306\teval-auc:0.768404\n",
      "[192]\ttrain-auc:0.782584\teval-auc:0.768594\n",
      "[193]\ttrain-auc:0.782716\teval-auc:0.76856\n",
      "[194]\ttrain-auc:0.78307\teval-auc:0.768706\n",
      "[195]\ttrain-auc:0.78344\teval-auc:0.769013\n",
      "[196]\ttrain-auc:0.783701\teval-auc:0.769175\n",
      "[197]\ttrain-auc:0.783974\teval-auc:0.769309\n",
      "[198]\ttrain-auc:0.784242\teval-auc:0.769435\n",
      "[199]\ttrain-auc:0.784381\teval-auc:0.769608\n",
      "0.7696077384862317\n"
     ]
    }
   ],
   "source": [
    "%%time\n",
    "max_depth = 5\n",
    "subsample = 0.7\n",
    "colsample_bytree = 0.7\n",
    "params = {\n",
    "    'objective' : 'binary:logistic', \n",
    "    'booster' : 'gbtree',\n",
    "    'max_depth' : max_depth, \n",
    "    'subsample' : subsample,\n",
    "    'eval_metric' : 'auc', \n",
    "    'colsample_bytree' : colsample_bytree,\n",
    "    'silent' : 1, \n",
    "    'eta' : 0.1,\n",
    "    'nthread' : cores\n",
    "}\n",
    "num_boost_round = 200\n",
    "early_stopping_rounds = 10\n",
    "test_size = 0.15\n",
    "\n",
    "watchlist = [(dtrain, 'train'), (dvalid, 'eval')]\n",
    "gbm = xgb.train(params, dtrain, num_boost_round, evals = watchlist,\n",
    "                early_stopping_rounds = early_stopping_rounds, verbose_eval = True)\n",
    "test_prediction = gbm.predict(xgb.DMatrix(test_vecs_w2v))\n",
    "test_class = np.round(test_prediction)\n",
    "test_acc = accuracy_score(y_test, test_class)\n",
    "print (test_acc)\n",
    "gbm.save_model(saveClassifierPath+'XGBOost_'+train_x_by_m1_name)"
   ]
  },
  {
   "cell_type": "code",
   "execution_count": 38,
   "metadata": {},
   "outputs": [
    {
     "name": "stdout",
     "output_type": "stream",
     "text": [
      "Logistic Regression\n",
      "Random Forest\n",
      "Kernel SVM\n",
      "XGBoost\n"
     ]
    },
    {
     "data": {
      "image/png": "[encoded data removed]",
      "text/plain": [
       "<matplotlib.figure.Figure at 0x21223417550>"
      ]
     },
     "metadata": {},
     "output_type": "display_data"
    }
   ],
   "source": [
    "%%time\n",
    "Make_Roc_Curve(test_x_by_m1, test_y, classifier, classifier2, classifier3, gbm)"
   ]
  },
  {
   "cell_type": "code",
   "execution_count": null,
   "metadata": {},
   "outputs": [],
   "source": [
    "del classifier\n",
    "del classifier2\n",
    "del classifier3\n",
    "del gbm"
   ]
  },
  {
   "cell_type": "markdown",
   "metadata": {},
   "source": [
    "#### 분류모델 :  Neural Network"
   ]
  },
  {
   "cell_type": "code",
   "execution_count": null,
   "metadata": {},
   "outputs": [],
   "source": [
    "model = Sequential()\n",
    "model.add(Dense(32, activation='relu', input_dim=1000))\n",
    "model.add(Dense(1, activation='sigmoid'))\n",
    "model.compile(optimizer='rmsprop',\n",
    "              loss='binary_crossentropy',\n",
    "              metrics=['accuracy'])\n",
    "history = model.fit(train_vecs_w2v, y_train, epochs=300, batch_size = 250000,  verbose=0,\n",
    "          validation_split=0.2,\n",
    "          callbacks=[TQDMNotebookCallback(show_inner=False)])\n",
    "score, acc = model.evaluate(test_vecs_w2v, y_test, verbose=0)\n",
    "print('Score: %1.4f' % score)\n",
    "print('Accuracy: %1.4f' % acc)"
   ]
  },
  {
   "cell_type": "code",
   "execution_count": null,
   "metadata": {},
   "outputs": [],
   "source": [
    "model.save(saveClassifierPath+'NeuralNetwork_1_'+train_x_by_m1_name)"
   ]
  },
  {
   "cell_type": "code",
   "execution_count": null,
   "metadata": {},
   "outputs": [],
   "source": [
    "plot_history(history)"
   ]
  },
  {
   "cell_type": "code",
   "execution_count": null,
   "metadata": {
    "scrolled": true
   },
   "outputs": [],
   "source": [
    "model = Sequential()\n",
    "model.add(Dense(128, activation='relu', input_dim=1000))\n",
    "model.add(Dense(64, activation='relu', kernel_regularizer=l2(0.001)))\n",
    "model.add(Dropout(0.1))\n",
    "model.add(Dense(32, activation='relu', kernel_regularizer=l2(0.001)))\n",
    "model.add(Dropout(0.1))\n",
    "model.add(Dense(1, activation='sigmoid'))\n",
    "model.compile(#optimizer='rmsprop',\n",
    "    optimizer='adadelta',\n",
    "              #loss='binary_crossentropy',\n",
    "    #optimizer=SGD(lr=0.2), \n",
    "    loss='binary_crossentropy',\n",
    "    metrics=['accuracy'])\n",
    "\n",
    "history = model.fit(train_vecs_w2v, y_train, epochs=300, batch_size = 250000,  verbose=0, validation_split=0.2,\n",
    "          callbacks=[TQDMNotebookCallback(show_inner=False)])\n",
    "score, acc = model.evaluate(test_vecs_w2v, y_test, verbose=0)\n",
    "print('Score: %1.4f' % score)\n",
    "print('Accuracy: %1.4f' % acc)"
   ]
  },
  {
   "cell_type": "code",
   "execution_count": null,
   "metadata": {},
   "outputs": [],
   "source": [
    "model.save(saveClassifierPath+'NeuralNetwork_2_'+train_x_by_m1_name)"
   ]
  },
  {
   "cell_type": "code",
   "execution_count": null,
   "metadata": {},
   "outputs": [],
   "source": [
    "plot_history(history)"
   ]
  },
  {
   "cell_type": "code",
   "execution_count": null,
   "metadata": {},
   "outputs": [],
   "source": [
    "del train_x_by_m1\n",
    "del train_x_by_m1_name\n",
    "del test_x_by_m1\n",
    "del test_x_by_m1_name"
   ]
  },
  {
   "cell_type": "markdown",
   "metadata": {},
   "source": [
    "#### model2\n",
    "* Doc2Vec(dm/c,d1000,n7,w5,mc5,s0.001,t12)\n",
    "* size-1000\n",
    "* epoch-20\n",
    "* window-5\n",
    "* negative-7\n",
    "* hs-0\n",
    "* dm-1\n",
    "* dm_concat-1\n",
    "* dm_mean-0"
   ]
  },
  {
   "cell_type": "code",
   "execution_count": null,
   "metadata": {},
   "outputs": [],
   "source": [
    "train_x_by_m2_name = 'train_x_Doc2Vec-dm-c-d1000-n7-w5-mc5-s0.001-t12-ct'\n",
    "train_x_by_m2 = pickle.load(open(saveTrainPath+train_x_by_m2_name,'rb'))\n",
    "train_y = pickle.load(open(saveTrainPath+'train_senti_y_ct_for_sentiment_analysis','rb'))"
   ]
  },
  {
   "cell_type": "code",
   "execution_count": null,
   "metadata": {},
   "outputs": [],
   "source": [
    "test_x_by_m2_name = 'test_x_Doc2Vec-dm-c-d1000-n7-w5-mc5-s0.001-t12-ct'\n",
    "test_x_by_m2 = pickle.load(open(saveTrainPath+test_x_by_m2_name,'rb'))\n",
    "test_y = pickle.load(open(saveTrainPath+'test_senti_y_ct_for_sentiment_analysis','rb'))"
   ]
  },
  {
   "cell_type": "code",
   "execution_count": null,
   "metadata": {},
   "outputs": [],
   "source": [
    "train_y2 = [y[0] for y in tqdm(train_y)]\n",
    "test_y2 = [y[0] for y in tqdm(test_y)]"
   ]
  },
  {
   "cell_type": "markdown",
   "metadata": {},
   "source": [
    "#### 분류 모델 : Logistic Regression"
   ]
  },
  {
   "cell_type": "code",
   "execution_count": null,
   "metadata": {},
   "outputs": [],
   "source": [
    "%%time\n",
    "classifier = LogisticRegression(random_state=1234, max_iter = 250, n_jobs=cores)\n",
    "classifier.fit(train_x_by_m2, train_y2)\n",
    "print (classifier.get_params())\n",
    "print( 'score : {}'.format(classifier.score(test_x_by_m2, test_y2)))\n",
    "print ('classification report')\n",
    "print (classification_report(test_y2, classifier.predict(test_x_by_m2)))"
   ]
  },
  {
   "cell_type": "code",
   "execution_count": null,
   "metadata": {},
   "outputs": [],
   "source": [
    "pickle.dump(classifier,open(saveClassifierPath+'LogisticRegression_'+train_x_by_m2_name, 'wb'))"
   ]
  },
  {
   "cell_type": "markdown",
   "metadata": {},
   "source": [
    "#### 분류모델 : RandomForest Classifier"
   ]
  },
  {
   "cell_type": "code",
   "execution_count": null,
   "metadata": {},
   "outputs": [],
   "source": [
    "%%time\n",
    "classifier2 = RandomForestClassifier(random_state=1234, n_estimators = 75, n_jobs=cores)\n",
    "classifier2.fit(train_x_by_m2, train_y2)\n",
    "print (classifier2.get_params())\n",
    "print( 'score : {}'.format(classifier2.score(test_x_by_m2, test_y2)))\n",
    "print ('classification report')\n",
    "print (classification_report(test_y2, classifier2.predict(test_x_by_m2)))"
   ]
  },
  {
   "cell_type": "code",
   "execution_count": null,
   "metadata": {},
   "outputs": [],
   "source": [
    "pickle.dump(classifier2,open(saveClassifierPath+'RandomForestClassifier_'+train_x_by_m2_name, 'wb'))"
   ]
  },
  {
   "cell_type": "markdown",
   "metadata": {},
   "source": [
    "#### 분류모델 : C-Support Vector Classification"
   ]
  },
  {
   "cell_type": "code",
   "execution_count": null,
   "metadata": {},
   "outputs": [],
   "source": [
    "%%time\n",
    "scaling = MinMaxScaler(feature_range=(-1, 1)).fit(train_x_by_m2)\n",
    "train_x_by_m2_2 = scaling.transform(train_x_by_m2)\n",
    "test_x_by_m2_2 = scaling.transform(test_x_by_m2)\n",
    "classifier3 =  SVC(kernel = 'linear', \n",
    "        cache_size= 1024, max_iter = 1500, verbose = True) \n",
    "classifier3.fit(train_x_by_m2_2, train_y2)\n",
    "print (classifier3.get_params())\n",
    "print( 'score : {}'.format(classifier3.score(test_x_by_m2_2, test_y2)))\n",
    "print ('classification report')\n",
    "print (classification_report(test_y2, classifier3.predict(test_x_by_m2_2)))"
   ]
  },
  {
   "cell_type": "code",
   "execution_count": null,
   "metadata": {},
   "outputs": [],
   "source": [
    "del scaling\n",
    "del train_x_by_m2_2\n",
    "del test_x_by_m2_2"
   ]
  },
  {
   "cell_type": "code",
   "execution_count": null,
   "metadata": {},
   "outputs": [],
   "source": [
    "pickle.dump(classifier3,open(saveClassifierPath+'SVC_'+train_x_by_m2_name, 'wb'))"
   ]
  },
  {
   "cell_type": "markdown",
   "metadata": {},
   "source": [
    "#### 분류모델 : XGBOOST"
   ]
  },
  {
   "cell_type": "code",
   "execution_count": null,
   "metadata": {
    "scrolled": true
   },
   "outputs": [],
   "source": [
    "%%time\n",
    "train_vecs_w2v = np.concatenate([z.reshape(1,-1) for z in tqdm(map(lambda x: x,train_x_by_m2))])\n",
    "train_vecs_w2v = scale(train_vecs_w2v)\n",
    "\n",
    "test_vecs_w2v = np.concatenate([z.reshape(1,-1) for z in tqdm(map(lambda x: x, test_x_by_m2))])\n",
    "test_vecs_w2v = scale(test_vecs_w2v)\n",
    "\n",
    "y_test = np.array(test_y)\n",
    "y_train = np.array(train_y)"
   ]
  },
  {
   "cell_type": "code",
   "execution_count": null,
   "metadata": {},
   "outputs": [],
   "source": [
    "%%time\n",
    "dtrain = xgb.DMatrix(train_vecs_w2v, y_train)\n",
    "dvalid = xgb.DMatrix(test_vecs_w2v, y_test)"
   ]
  },
  {
   "cell_type": "code",
   "execution_count": 37,
   "metadata": {
    "scrolled": true
   },
   "outputs": [
    {
     "name": "stdout",
     "output_type": "stream",
     "text": [
      "[0]\ttrain-auc:0.607793\teval-auc:0.610414\n",
      "Multiple eval metrics have been passed: 'eval-auc' will be used for early stopping.\n",
      "\n",
      "Will train until eval-auc hasn't improved in 10 rounds.\n",
      "[1]\ttrain-auc:0.620366\teval-auc:0.624268\n",
      "[2]\ttrain-auc:0.629444\teval-auc:0.634942\n",
      "[3]\ttrain-auc:0.633468\teval-auc:0.639657\n",
      "[4]\ttrain-auc:0.638111\teval-auc:0.642708\n",
      "[5]\ttrain-auc:0.641881\teval-auc:0.645733\n",
      "[6]\ttrain-auc:0.644185\teval-auc:0.648052\n",
      "[7]\ttrain-auc:0.646831\teval-auc:0.650695\n",
      "[8]\ttrain-auc:0.650333\teval-auc:0.653901\n",
      "[9]\ttrain-auc:0.653317\teval-auc:0.656875\n",
      "[10]\ttrain-auc:0.656777\teval-auc:0.660439\n",
      "[11]\ttrain-auc:0.658605\teval-auc:0.662213\n",
      "[12]\ttrain-auc:0.660999\teval-auc:0.664014\n",
      "[13]\ttrain-auc:0.663079\teval-auc:0.666033\n",
      "[14]\ttrain-auc:0.664794\teval-auc:0.667817\n",
      "[15]\ttrain-auc:0.665767\teval-auc:0.669134\n",
      "[16]\ttrain-auc:0.667282\teval-auc:0.670268\n",
      "[17]\ttrain-auc:0.669103\teval-auc:0.672211\n",
      "[18]\ttrain-auc:0.672656\teval-auc:0.675675\n",
      "[19]\ttrain-auc:0.674681\teval-auc:0.677895\n",
      "[20]\ttrain-auc:0.676836\teval-auc:0.679945\n",
      "[21]\ttrain-auc:0.678191\teval-auc:0.681112\n",
      "[22]\ttrain-auc:0.679869\teval-auc:0.682357\n",
      "[23]\ttrain-auc:0.680939\teval-auc:0.6835\n",
      "[24]\ttrain-auc:0.681924\teval-auc:0.684519\n",
      "[25]\ttrain-auc:0.683548\teval-auc:0.686314\n",
      "[26]\ttrain-auc:0.684718\teval-auc:0.687365\n",
      "[27]\ttrain-auc:0.685945\teval-auc:0.68838\n",
      "[28]\ttrain-auc:0.688061\teval-auc:0.690595\n",
      "[29]\ttrain-auc:0.68925\teval-auc:0.691607\n",
      "[30]\ttrain-auc:0.690811\teval-auc:0.693266\n",
      "[31]\ttrain-auc:0.692466\teval-auc:0.694589\n",
      "[32]\ttrain-auc:0.693668\teval-auc:0.695506\n",
      "[33]\ttrain-auc:0.695023\teval-auc:0.696833\n",
      "[34]\ttrain-auc:0.696437\teval-auc:0.698319\n",
      "[35]\ttrain-auc:0.697911\teval-auc:0.699624\n",
      "[36]\ttrain-auc:0.699426\teval-auc:0.701047\n",
      "[37]\ttrain-auc:0.700857\teval-auc:0.702295\n",
      "[38]\ttrain-auc:0.702011\teval-auc:0.703258\n",
      "[39]\ttrain-auc:0.703254\teval-auc:0.704633\n",
      "[40]\ttrain-auc:0.704207\teval-auc:0.705732\n",
      "[41]\ttrain-auc:0.705055\teval-auc:0.706439\n",
      "[42]\ttrain-auc:0.706099\teval-auc:0.707408\n",
      "[43]\ttrain-auc:0.707393\teval-auc:0.708926\n",
      "[44]\ttrain-auc:0.708637\teval-auc:0.710265\n",
      "[45]\ttrain-auc:0.709983\teval-auc:0.71172\n",
      "[46]\ttrain-auc:0.711393\teval-auc:0.71323\n",
      "[47]\ttrain-auc:0.712238\teval-auc:0.714349\n",
      "[48]\ttrain-auc:0.713343\teval-auc:0.715417\n",
      "[49]\ttrain-auc:0.714246\teval-auc:0.716041\n",
      "[50]\ttrain-auc:0.715228\teval-auc:0.717118\n",
      "[51]\ttrain-auc:0.715953\teval-auc:0.71777\n",
      "[52]\ttrain-auc:0.716908\teval-auc:0.718472\n",
      "[53]\ttrain-auc:0.718034\teval-auc:0.719608\n",
      "[54]\ttrain-auc:0.718801\teval-auc:0.720392\n",
      "[55]\ttrain-auc:0.71986\teval-auc:0.721217\n",
      "[56]\ttrain-auc:0.720877\teval-auc:0.722084\n",
      "[57]\ttrain-auc:0.722003\teval-auc:0.723298\n",
      "[58]\ttrain-auc:0.722978\teval-auc:0.724327\n",
      "[59]\ttrain-auc:0.723913\teval-auc:0.725202\n",
      "[60]\ttrain-auc:0.72461\teval-auc:0.725687\n",
      "[61]\ttrain-auc:0.725636\teval-auc:0.726521\n",
      "[62]\ttrain-auc:0.726308\teval-auc:0.727052\n",
      "[63]\ttrain-auc:0.727361\teval-auc:0.72783\n",
      "[64]\ttrain-auc:0.728179\teval-auc:0.728483\n",
      "[65]\ttrain-auc:0.729136\teval-auc:0.729327\n",
      "[66]\ttrain-auc:0.729809\teval-auc:0.729834\n",
      "[67]\ttrain-auc:0.730581\teval-auc:0.730344\n",
      "[68]\ttrain-auc:0.731368\teval-auc:0.731317\n",
      "[69]\ttrain-auc:0.731967\teval-auc:0.731797\n",
      "[70]\ttrain-auc:0.732694\teval-auc:0.732483\n",
      "[71]\ttrain-auc:0.733425\teval-auc:0.733282\n",
      "[72]\ttrain-auc:0.734181\teval-auc:0.733809\n",
      "[73]\ttrain-auc:0.734923\teval-auc:0.734363\n",
      "[74]\ttrain-auc:0.735605\teval-auc:0.73498\n",
      "[75]\ttrain-auc:0.736217\teval-auc:0.735674\n",
      "[76]\ttrain-auc:0.736913\teval-auc:0.736122\n",
      "[77]\ttrain-auc:0.737549\teval-auc:0.736549\n",
      "[78]\ttrain-auc:0.738264\teval-auc:0.737213\n",
      "[79]\ttrain-auc:0.738991\teval-auc:0.737955\n",
      "[80]\ttrain-auc:0.739405\teval-auc:0.738465\n",
      "[81]\ttrain-auc:0.740085\teval-auc:0.739092\n",
      "[82]\ttrain-auc:0.740861\teval-auc:0.73951\n",
      "[83]\ttrain-auc:0.741534\teval-auc:0.74001\n",
      "[84]\ttrain-auc:0.74228\teval-auc:0.740689\n",
      "[85]\ttrain-auc:0.742896\teval-auc:0.74117\n",
      "[86]\ttrain-auc:0.743528\teval-auc:0.741602\n",
      "[87]\ttrain-auc:0.744027\teval-auc:0.742008\n",
      "[88]\ttrain-auc:0.744514\teval-auc:0.742386\n",
      "[89]\ttrain-auc:0.745046\teval-auc:0.74289\n",
      "[90]\ttrain-auc:0.745532\teval-auc:0.74325\n",
      "[91]\ttrain-auc:0.746138\teval-auc:0.743697\n",
      "[92]\ttrain-auc:0.746696\teval-auc:0.744109\n",
      "[93]\ttrain-auc:0.747261\teval-auc:0.744433\n",
      "[94]\ttrain-auc:0.747833\teval-auc:0.744745\n",
      "[95]\ttrain-auc:0.748295\teval-auc:0.745205\n",
      "[96]\ttrain-auc:0.748669\teval-auc:0.745486\n",
      "[97]\ttrain-auc:0.749274\teval-auc:0.745924\n",
      "[98]\ttrain-auc:0.749778\teval-auc:0.746092\n",
      "[99]\ttrain-auc:0.750253\teval-auc:0.746453\n",
      "[100]\ttrain-auc:0.750735\teval-auc:0.746744\n",
      "[101]\ttrain-auc:0.751301\teval-auc:0.747208\n",
      "[102]\ttrain-auc:0.751753\teval-auc:0.747457\n",
      "[103]\ttrain-auc:0.752132\teval-auc:0.747863\n",
      "[104]\ttrain-auc:0.752577\teval-auc:0.748209\n",
      "[105]\ttrain-auc:0.75295\teval-auc:0.748495\n",
      "[106]\ttrain-auc:0.753432\teval-auc:0.748808\n",
      "[107]\ttrain-auc:0.753825\teval-auc:0.749203\n",
      "[108]\ttrain-auc:0.754221\teval-auc:0.749446\n",
      "[109]\ttrain-auc:0.754782\teval-auc:0.749679\n",
      "[110]\ttrain-auc:0.755231\teval-auc:0.750051\n",
      "[111]\ttrain-auc:0.75552\teval-auc:0.750323\n",
      "[112]\ttrain-auc:0.755944\teval-auc:0.750677\n",
      "[113]\ttrain-auc:0.756362\teval-auc:0.751052\n",
      "[114]\ttrain-auc:0.756861\teval-auc:0.751367\n",
      "[115]\ttrain-auc:0.757269\teval-auc:0.751799\n",
      "[116]\ttrain-auc:0.757753\teval-auc:0.752163\n",
      "[117]\ttrain-auc:0.758141\teval-auc:0.752498\n",
      "[118]\ttrain-auc:0.758487\teval-auc:0.752716\n",
      "[119]\ttrain-auc:0.758842\teval-auc:0.753062\n",
      "[120]\ttrain-auc:0.759362\teval-auc:0.753363\n",
      "[121]\ttrain-auc:0.759929\teval-auc:0.753776\n",
      "[122]\ttrain-auc:0.760318\teval-auc:0.753884\n",
      "[123]\ttrain-auc:0.760634\teval-auc:0.754169\n",
      "[124]\ttrain-auc:0.761158\teval-auc:0.754518\n",
      "[125]\ttrain-auc:0.761525\teval-auc:0.754768\n",
      "[126]\ttrain-auc:0.761934\teval-auc:0.755075\n",
      "[127]\ttrain-auc:0.762316\teval-auc:0.755391\n",
      "[128]\ttrain-auc:0.762706\teval-auc:0.755618\n",
      "[129]\ttrain-auc:0.762994\teval-auc:0.755704\n",
      "[130]\ttrain-auc:0.763446\teval-auc:0.755969\n",
      "[131]\ttrain-auc:0.763834\teval-auc:0.756326\n",
      "[132]\ttrain-auc:0.764134\teval-auc:0.756484\n",
      "[133]\ttrain-auc:0.764494\teval-auc:0.756753\n",
      "[134]\ttrain-auc:0.764994\teval-auc:0.757012\n",
      "[135]\ttrain-auc:0.765419\teval-auc:0.757238\n",
      "[136]\ttrain-auc:0.765846\teval-auc:0.75751\n",
      "[137]\ttrain-auc:0.766205\teval-auc:0.75772\n",
      "[138]\ttrain-auc:0.766551\teval-auc:0.757978\n",
      "[139]\ttrain-auc:0.767078\teval-auc:0.758308\n",
      "[140]\ttrain-auc:0.767562\teval-auc:0.758759\n",
      "[141]\ttrain-auc:0.767791\teval-auc:0.758883\n",
      "[142]\ttrain-auc:0.768123\teval-auc:0.759045\n",
      "[143]\ttrain-auc:0.768376\teval-auc:0.759171\n",
      "[144]\ttrain-auc:0.768736\teval-auc:0.759449\n",
      "[145]\ttrain-auc:0.768975\teval-auc:0.759484\n",
      "[146]\ttrain-auc:0.769212\teval-auc:0.759729\n",
      "[147]\ttrain-auc:0.76948\teval-auc:0.759868\n",
      "[148]\ttrain-auc:0.769822\teval-auc:0.760112\n",
      "[149]\ttrain-auc:0.770029\teval-auc:0.760308\n",
      "[150]\ttrain-auc:0.770347\teval-auc:0.760521\n",
      "[151]\ttrain-auc:0.770661\teval-auc:0.760683\n",
      "[152]\ttrain-auc:0.770938\teval-auc:0.760912\n",
      "[153]\ttrain-auc:0.77131\teval-auc:0.76114\n",
      "[154]\ttrain-auc:0.771712\teval-auc:0.76144\n",
      "[155]\ttrain-auc:0.77206\teval-auc:0.761646\n",
      "[156]\ttrain-auc:0.77243\teval-auc:0.761925\n",
      "[157]\ttrain-auc:0.772701\teval-auc:0.762104\n",
      "[158]\ttrain-auc:0.772997\teval-auc:0.762285\n",
      "[159]\ttrain-auc:0.773244\teval-auc:0.762414\n",
      "[160]\ttrain-auc:0.773509\teval-auc:0.762595\n",
      "[161]\ttrain-auc:0.773792\teval-auc:0.762813\n",
      "[162]\ttrain-auc:0.77411\teval-auc:0.762997\n",
      "[163]\ttrain-auc:0.774478\teval-auc:0.763239\n",
      "[164]\ttrain-auc:0.774658\teval-auc:0.763412\n",
      "[165]\ttrain-auc:0.774951\teval-auc:0.763754\n",
      "[166]\ttrain-auc:0.775177\teval-auc:0.76387\n",
      "[167]\ttrain-auc:0.77551\teval-auc:0.764214\n",
      "[168]\ttrain-auc:0.775828\teval-auc:0.764403\n",
      "[169]\ttrain-auc:0.776071\teval-auc:0.764493\n",
      "[170]\ttrain-auc:0.776393\teval-auc:0.764685\n",
      "[171]\ttrain-auc:0.776645\teval-auc:0.764869\n",
      "[172]\ttrain-auc:0.77695\teval-auc:0.765011\n",
      "[173]\ttrain-auc:0.777111\teval-auc:0.765105\n",
      "[174]\ttrain-auc:0.777461\teval-auc:0.76528\n",
      "[175]\ttrain-auc:0.777687\teval-auc:0.765428\n",
      "[176]\ttrain-auc:0.777944\teval-auc:0.765584\n",
      "[177]\ttrain-auc:0.77833\teval-auc:0.765707\n",
      "[178]\ttrain-auc:0.778579\teval-auc:0.765953\n",
      "[179]\ttrain-auc:0.778779\teval-auc:0.766089\n",
      "[180]\ttrain-auc:0.77918\teval-auc:0.766278\n",
      "[181]\ttrain-auc:0.77936\teval-auc:0.766338\n",
      "[182]\ttrain-auc:0.779702\teval-auc:0.766564\n",
      "[183]\ttrain-auc:0.779944\teval-auc:0.766716\n",
      "[184]\ttrain-auc:0.780149\teval-auc:0.766891\n",
      "[185]\ttrain-auc:0.780479\teval-auc:0.76715\n",
      "[186]\ttrain-auc:0.780736\teval-auc:0.76731\n",
      "[187]\ttrain-auc:0.78109\teval-auc:0.767665\n",
      "[188]\ttrain-auc:0.78136\teval-auc:0.767835\n",
      "[189]\ttrain-auc:0.781645\teval-auc:0.767934\n",
      "[190]\ttrain-auc:0.781932\teval-auc:0.768031\n"
     ]
    },
    {
     "name": "stdout",
     "output_type": "stream",
     "text": [
      "[191]\ttrain-auc:0.782306\teval-auc:0.768404\n",
      "[192]\ttrain-auc:0.782584\teval-auc:0.768594\n",
      "[193]\ttrain-auc:0.782716\teval-auc:0.76856\n",
      "[194]\ttrain-auc:0.78307\teval-auc:0.768706\n",
      "[195]\ttrain-auc:0.78344\teval-auc:0.769013\n",
      "[196]\ttrain-auc:0.783701\teval-auc:0.769175\n",
      "[197]\ttrain-auc:0.783974\teval-auc:0.769309\n",
      "[198]\ttrain-auc:0.784242\teval-auc:0.769435\n",
      "[199]\ttrain-auc:0.784381\teval-auc:0.769608\n",
      "0.7696077384862317\n"
     ]
    }
   ],
   "source": [
    "%%time\n",
    "max_depth = 5\n",
    "subsample = 0.7\n",
    "colsample_bytree = 0.7\n",
    "params = {\n",
    "    'objective' : 'binary:logistic', \n",
    "    'booster' : 'gbtree',\n",
    "    'max_depth' : max_depth, \n",
    "    'subsample' : subsample,\n",
    "    'eval_metric' : 'auc', \n",
    "    'colsample_bytree' : colsample_bytree,\n",
    "    'silent' : 1, \n",
    "    'eta' : 0.1,\n",
    "    'nthread' : cores\n",
    "}\n",
    "num_boost_round = 200\n",
    "early_stopping_rounds = 10\n",
    "test_size = 0.15\n",
    "\n",
    "watchlist = [(dtrain, 'train'), (dvalid, 'eval')]\n",
    "gbm = xgb.train(params, dtrain, num_boost_round, evals = watchlist,\n",
    "                early_stopping_rounds = early_stopping_rounds, verbose_eval = True)\n",
    "test_prediction = gbm.predict(xgb.DMatrix(test_vecs_w2v))\n",
    "test_class = np.round(test_prediction)\n",
    "test_acc = accuracy_score(y_test, test_class)\n",
    "print (test_acc)\n",
    "gbm.save_model(saveClassifierPath+'XGBOost_'+train_x_by_m1_name)"
   ]
  },
  {
   "cell_type": "code",
   "execution_count": 38,
   "metadata": {},
   "outputs": [
    {
     "name": "stdout",
     "output_type": "stream",
     "text": [
      "Logistic Regression\n",
      "Random Forest\n",
      "Kernel SVM\n",
      "XGBoost\n"
     ]
    },
    {
     "data": {
      "image/png": "[encoded data removed]",
      "text/plain": [
       "<matplotlib.figure.Figure at 0x21223417550>"
      ]
     },
     "metadata": {},
     "output_type": "display_data"
    }
   ],
   "source": [
    "%%time\n",
    "Make_Roc_Curve(test_x_by_m1, test_y, classifier, classifier2, classifier3, gbm)"
   ]
  },
  {
   "cell_type": "code",
   "execution_count": null,
   "metadata": {},
   "outputs": [],
   "source": [
    "del classifier\n",
    "del classifier2\n",
    "del classifier3\n",
    "del gbm"
   ]
  },
  {
   "cell_type": "markdown",
   "metadata": {},
   "source": [
    "#### 분류모델 : Neural Network"
   ]
  },
  {
   "cell_type": "code",
   "execution_count": null,
   "metadata": {},
   "outputs": [],
   "source": [
    "model = Sequential()\n",
    "model.add(Dense(32, activation='relu', input_dim=1000))\n",
    "model.add(Dense(1, activation='sigmoid'))\n",
    "model.compile(optimizer='rmsprop',\n",
    "              loss='binary_crossentropy',\n",
    "              metrics=['accuracy'])\n",
    "history = model.fit(train_vecs_w2v, y_train, epochs=300, batch_size = 250000,  verbose=0,\n",
    "          validation_split=0.2,\n",
    "          callbacks=[TQDMNotebookCallback(show_inner=False)])\n",
    "score, acc = model.evaluate(test_vecs_w2v, y_test, verbose=0)\n",
    "print('Score: %1.4f' % score)\n",
    "print('Accuracy: %1.4f' % acc)"
   ]
  },
  {
   "cell_type": "code",
   "execution_count": null,
   "metadata": {},
   "outputs": [],
   "source": [
    "model.save(saveClassifierPath+'NeuralNetwork_1_'+train_x_by_m2_name)"
   ]
  },
  {
   "cell_type": "code",
   "execution_count": null,
   "metadata": {},
   "outputs": [],
   "source": [
    "plot_history(history)"
   ]
  },
  {
   "cell_type": "code",
   "execution_count": null,
   "metadata": {
    "scrolled": true
   },
   "outputs": [],
   "source": [
    "model = Sequential()\n",
    "model.add(Dense(128, activation='relu', input_dim=1000))\n",
    "model.add(Dense(64, activation='relu', kernel_regularizer=l2(0.001)))\n",
    "model.add(Dropout(0.1))\n",
    "model.add(Dense(32, activation='relu', kernel_regularizer=l2(0.001)))\n",
    "model.add(Dropout(0.1))\n",
    "model.add(Dense(1, activation='sigmoid'))\n",
    "model.compile(#optimizer='rmsprop',\n",
    "    optimizer='adadelta',\n",
    "              #loss='binary_crossentropy',\n",
    "    #optimizer=SGD(lr=0.2), \n",
    "    loss='binary_crossentropy',\n",
    "    metrics=['accuracy'])\n",
    "\n",
    "history = model.fit(train_vecs_w2v, y_train, epochs=300, batch_size = 250000,  verbose=0, validation_split=0.2,\n",
    "          callbacks=[TQDMNotebookCallback(show_inner=False)])\n",
    "score, acc = model.evaluate(test_vecs_w2v, y_test, verbose=0)\n",
    "print('Score: %1.4f' % score)\n",
    "print('Accuracy: %1.4f' % acc)"
   ]
  },
  {
   "cell_type": "code",
   "execution_count": null,
   "metadata": {},
   "outputs": [],
   "source": [
    "model.save(saveClassifierPath+'NeuralNetwork_2_'+train_x_by_m2_name)"
   ]
  },
  {
   "cell_type": "code",
   "execution_count": null,
   "metadata": {},
   "outputs": [],
   "source": [
    "plot_history(history)"
   ]
  },
  {
   "cell_type": "code",
   "execution_count": null,
   "metadata": {},
   "outputs": [],
   "source": [
    "del train_x_by_m2\n",
    "del train_x_by_m2_name\n",
    "del test_x_by_m2\n",
    "del test_x_by_m2_name"
   ]
  },
  {
   "cell_type": "markdown",
   "metadata": {},
   "source": [
    "#### model3\n",
    "* Doc2Vec(dbow,d1000,n7,mc5,s0.001,t12)\n",
    "* size-1000\n",
    "* epoch-20\n",
    "* window-None\n",
    "* negative-7\n",
    "* hs-0\n",
    "* dm-0\n",
    "* dm_concat-0\n",
    "* dm_mean-0"
   ]
  },
  {
   "cell_type": "code",
   "execution_count": null,
   "metadata": {},
   "outputs": [],
   "source": [
    "train_x_by_m3_name = 'train_x_Doc2Vec-dbow-d1000-n7-mc5-s0.001-t12-ct'\n",
    "train_x_by_m3 = pickle.load(open(saveTrainPath+train_x_by_m3_name,'rb'))\n",
    "train_y = pickle.load(open(saveTrainPath+'train_senti_y_ct_for_sentiment_analysis','rb'))"
   ]
  },
  {
   "cell_type": "code",
   "execution_count": null,
   "metadata": {},
   "outputs": [],
   "source": [
    "test_x_by_m3_name = 'test_x_Doc2Vec-dbow-d1000-n7-mc5-s0.001-t12-ct'\n",
    "test_x_by_m3 = pickle.load(open(saveTrainPath+test_x_by_m3_name,'rb'))\n",
    "test_y = pickle.load(open(saveTrainPath+'test_senti_y_ct_for_sentiment_analysis','rb'))"
   ]
  },
  {
   "cell_type": "code",
   "execution_count": null,
   "metadata": {},
   "outputs": [],
   "source": [
    "train_y2 = [y[0] for y in tqdm(train_y)]\n",
    "test_y2 = [y[0] for y in tqdm(test_y)]"
   ]
  },
  {
   "cell_type": "markdown",
   "metadata": {},
   "source": [
    "#### 분류 모델 : Logistic Regression"
   ]
  },
  {
   "cell_type": "code",
   "execution_count": null,
   "metadata": {
    "scrolled": true
   },
   "outputs": [],
   "source": [
    "%%time\n",
    "classifier = LogisticRegression(random_state=1234, max_iter = 250, n_jobs=cores)\n",
    "classifier.fit(train_x_by_m3, train_y2)\n",
    "print (classifier.get_params())\n",
    "print( 'score : {}'.format(classifier.score(test_x_by_m3, test_y2)))\n",
    "print ('classification report')\n",
    "print (classification_report(test_y2, classifier.predict(test_x_by_m3)))"
   ]
  },
  {
   "cell_type": "code",
   "execution_count": null,
   "metadata": {},
   "outputs": [],
   "source": [
    "pickle.dump(classifier,open(saveClassifierPath+'LogisticRegression_'+train_x_by_m3_name, 'wb'))"
   ]
  },
  {
   "cell_type": "markdown",
   "metadata": {},
   "source": [
    "#### 분류모델 : RandomForest Classifier"
   ]
  },
  {
   "cell_type": "code",
   "execution_count": null,
   "metadata": {},
   "outputs": [],
   "source": [
    "%%time\n",
    "classifier2 = RandomForestClassifier(random_state=1234, n_estimators = 75, n_jobs=cores)\n",
    "classifier2.fit(train_x_b _m3, train_y2)\n",
    "print (classifier2.get_params())\n",
    "print( 'score : {}'.format(classifier2.score(test_x_by_m3, test_y2)))\n",
    "print ('classification report')\n",
    "print (classification_report(test_y2, classifier2.predict(test_x_by_m3)))"
   ]
  },
  {
   "cell_type": "code",
   "execution_count": null,
   "metadata": {},
   "outputs": [],
   "source": [
    "pickle.dump(classifier2,open(saveClassifierPath+'RandomForestClassifier_'+train_x_by_m3_name, 'wb'))"
   ]
  },
  {
   "cell_type": "markdown",
   "metadata": {},
   "source": [
    "#### 분류모델 : C-Support Vector Classification"
   ]
  },
  {
   "cell_type": "code",
   "execution_count": null,
   "metadata": {},
   "outputs": [],
   "source": [
    "%%time\n",
    "scaling = MinMaxScaler(feature_range=(-1, 1)).fit(train_x_by_m3)\n",
    "train_x_by_m3_2 = scaling.transform(train_x_by_m3)\n",
    "test_x_by_m3_2 = scaling.transform(test_x_by_m3)\n",
    "classifier3 =  SVC(kernel = 'linear', \n",
    "        cache_size= 1024, max_iter = 1500, verbose = True) \n",
    "classifier3.fit(train_x_by_m3_2, train_y2)\n",
    "print (classifier3.get_params())\n",
    "print( 'score : {}'.format(classifier3.score(test_x_by_m3_2, test_y2)))\n",
    "print ('classification report')\n",
    "print (classification_report(test_y2, classifier3.predict(test_x_by_m3_2)))"
   ]
  },
  {
   "cell_type": "code",
   "execution_count": null,
   "metadata": {},
   "outputs": [],
   "source": [
    "del scaling\n",
    "del train_x_by_m3_2\n",
    "del test_x_by_m3_2"
   ]
  },
  {
   "cell_type": "code",
   "execution_count": null,
   "metadata": {},
   "outputs": [],
   "source": [
    "pickle.dump(classifier3,open(saveClassifierPath+'SVC_'+train_x_by_m3_name, 'wb'))"
   ]
  },
  {
   "cell_type": "markdown",
   "metadata": {},
   "source": [
    "#### 분류모델 : XGBOOST"
   ]
  },
  {
   "cell_type": "code",
   "execution_count": null,
   "metadata": {
    "scrolled": true
   },
   "outputs": [],
   "source": [
    "%%time\n",
    "train_vecs_w2v = np.concatenate([z.reshape(1,-1) for z in tqdm(map(lambda x: x,train_x_by_m3))])\n",
    "train_vecs_w2v = scale(train_vecs_w2v)\n",
    "\n",
    "test_vecs_w2v = np.concatenate([z.reshape(1,-1) for z in tqdm(map(lambda x: x, test_x_by_m3))])\n",
    "test_vecs_w2v = scale(test_vecs_w2v)\n",
    "\n",
    "y_test = np.array(test_y)\n",
    "y_train = np.array(train_y)"
   ]
  },
  {
   "cell_type": "code",
   "execution_count": null,
   "metadata": {},
   "outputs": [],
   "source": [
    "%%time\n",
    "dtrain = xgb.DMatrix(train_vecs_w2v, y_train)\n",
    "dvalid = xgb.DMatrix(test_vecs_w2v, y_test)"
   ]
  },
  {
   "cell_type": "code",
   "execution_count": 37,
   "metadata": {
    "scrolled": true
   },
   "outputs": [
    {
     "name": "stdout",
     "output_type": "stream",
     "text": [
      "[0]\ttrain-auc:0.607793\teval-auc:0.610414\n",
      "Multiple eval metrics have been passed: 'eval-auc' will be used for early stopping.\n",
      "\n",
      "Will train until eval-auc hasn't improved in 10 rounds.\n",
      "[1]\ttrain-auc:0.620366\teval-auc:0.624268\n",
      "[2]\ttrain-auc:0.629444\teval-auc:0.634942\n",
      "[3]\ttrain-auc:0.633468\teval-auc:0.639657\n",
      "[4]\ttrain-auc:0.638111\teval-auc:0.642708\n",
      "[5]\ttrain-auc:0.641881\teval-auc:0.645733\n",
      "[6]\ttrain-auc:0.644185\teval-auc:0.648052\n",
      "[7]\ttrain-auc:0.646831\teval-auc:0.650695\n",
      "[8]\ttrain-auc:0.650333\teval-auc:0.653901\n",
      "[9]\ttrain-auc:0.653317\teval-auc:0.656875\n",
      "[10]\ttrain-auc:0.656777\teval-auc:0.660439\n",
      "[11]\ttrain-auc:0.658605\teval-auc:0.662213\n",
      "[12]\ttrain-auc:0.660999\teval-auc:0.664014\n",
      "[13]\ttrain-auc:0.663079\teval-auc:0.666033\n",
      "[14]\ttrain-auc:0.664794\teval-auc:0.667817\n",
      "[15]\ttrain-auc:0.665767\teval-auc:0.669134\n",
      "[16]\ttrain-auc:0.667282\teval-auc:0.670268\n",
      "[17]\ttrain-auc:0.669103\teval-auc:0.672211\n",
      "[18]\ttrain-auc:0.672656\teval-auc:0.675675\n",
      "[19]\ttrain-auc:0.674681\teval-auc:0.677895\n",
      "[20]\ttrain-auc:0.676836\teval-auc:0.679945\n",
      "[21]\ttrain-auc:0.678191\teval-auc:0.681112\n",
      "[22]\ttrain-auc:0.679869\teval-auc:0.682357\n",
      "[23]\ttrain-auc:0.680939\teval-auc:0.6835\n",
      "[24]\ttrain-auc:0.681924\teval-auc:0.684519\n",
      "[25]\ttrain-auc:0.683548\teval-auc:0.686314\n",
      "[26]\ttrain-auc:0.684718\teval-auc:0.687365\n",
      "[27]\ttrain-auc:0.685945\teval-auc:0.68838\n",
      "[28]\ttrain-auc:0.688061\teval-auc:0.690595\n",
      "[29]\ttrain-auc:0.68925\teval-auc:0.691607\n",
      "[30]\ttrain-auc:0.690811\teval-auc:0.693266\n",
      "[31]\ttrain-auc:0.692466\teval-auc:0.694589\n",
      "[32]\ttrain-auc:0.693668\teval-auc:0.695506\n",
      "[33]\ttrain-auc:0.695023\teval-auc:0.696833\n",
      "[34]\ttrain-auc:0.696437\teval-auc:0.698319\n",
      "[35]\ttrain-auc:0.697911\teval-auc:0.699624\n",
      "[36]\ttrain-auc:0.699426\teval-auc:0.701047\n",
      "[37]\ttrain-auc:0.700857\teval-auc:0.702295\n",
      "[38]\ttrain-auc:0.702011\teval-auc:0.703258\n",
      "[39]\ttrain-auc:0.703254\teval-auc:0.704633\n",
      "[40]\ttrain-auc:0.704207\teval-auc:0.705732\n",
      "[41]\ttrain-auc:0.705055\teval-auc:0.706439\n",
      "[42]\ttrain-auc:0.706099\teval-auc:0.707408\n",
      "[43]\ttrain-auc:0.707393\teval-auc:0.708926\n",
      "[44]\ttrain-auc:0.708637\teval-auc:0.710265\n",
      "[45]\ttrain-auc:0.709983\teval-auc:0.71172\n",
      "[46]\ttrain-auc:0.711393\teval-auc:0.71323\n",
      "[47]\ttrain-auc:0.712238\teval-auc:0.714349\n",
      "[48]\ttrain-auc:0.713343\teval-auc:0.715417\n",
      "[49]\ttrain-auc:0.714246\teval-auc:0.716041\n",
      "[50]\ttrain-auc:0.715228\teval-auc:0.717118\n",
      "[51]\ttrain-auc:0.715953\teval-auc:0.71777\n",
      "[52]\ttrain-auc:0.716908\teval-auc:0.718472\n",
      "[53]\ttrain-auc:0.718034\teval-auc:0.719608\n",
      "[54]\ttrain-auc:0.718801\teval-auc:0.720392\n",
      "[55]\ttrain-auc:0.71986\teval-auc:0.721217\n",
      "[56]\ttrain-auc:0.720877\teval-auc:0.722084\n",
      "[57]\ttrain-auc:0.722003\teval-auc:0.723298\n",
      "[58]\ttrain-auc:0.722978\teval-auc:0.724327\n",
      "[59]\ttrain-auc:0.723913\teval-auc:0.725202\n",
      "[60]\ttrain-auc:0.72461\teval-auc:0.725687\n",
      "[61]\ttrain-auc:0.725636\teval-auc:0.726521\n",
      "[62]\ttrain-auc:0.726308\teval-auc:0.727052\n",
      "[63]\ttrain-auc:0.727361\teval-auc:0.72783\n",
      "[64]\ttrain-auc:0.728179\teval-auc:0.728483\n",
      "[65]\ttrain-auc:0.729136\teval-auc:0.729327\n",
      "[66]\ttrain-auc:0.729809\teval-auc:0.729834\n",
      "[67]\ttrain-auc:0.730581\teval-auc:0.730344\n",
      "[68]\ttrain-auc:0.731368\teval-auc:0.731317\n",
      "[69]\ttrain-auc:0.731967\teval-auc:0.731797\n",
      "[70]\ttrain-auc:0.732694\teval-auc:0.732483\n",
      "[71]\ttrain-auc:0.733425\teval-auc:0.733282\n",
      "[72]\ttrain-auc:0.734181\teval-auc:0.733809\n",
      "[73]\ttrain-auc:0.734923\teval-auc:0.734363\n",
      "[74]\ttrain-auc:0.735605\teval-auc:0.73498\n",
      "[75]\ttrain-auc:0.736217\teval-auc:0.735674\n",
      "[76]\ttrain-auc:0.736913\teval-auc:0.736122\n",
      "[77]\ttrain-auc:0.737549\teval-auc:0.736549\n",
      "[78]\ttrain-auc:0.738264\teval-auc:0.737213\n",
      "[79]\ttrain-auc:0.738991\teval-auc:0.737955\n",
      "[80]\ttrain-auc:0.739405\teval-auc:0.738465\n",
      "[81]\ttrain-auc:0.740085\teval-auc:0.739092\n",
      "[82]\ttrain-auc:0.740861\teval-auc:0.73951\n",
      "[83]\ttrain-auc:0.741534\teval-auc:0.74001\n",
      "[84]\ttrain-auc:0.74228\teval-auc:0.740689\n",
      "[85]\ttrain-auc:0.742896\teval-auc:0.74117\n",
      "[86]\ttrain-auc:0.743528\teval-auc:0.741602\n",
      "[87]\ttrain-auc:0.744027\teval-auc:0.742008\n",
      "[88]\ttrain-auc:0.744514\teval-auc:0.742386\n",
      "[89]\ttrain-auc:0.745046\teval-auc:0.74289\n",
      "[90]\ttrain-auc:0.745532\teval-auc:0.74325\n",
      "[91]\ttrain-auc:0.746138\teval-auc:0.743697\n",
      "[92]\ttrain-auc:0.746696\teval-auc:0.744109\n",
      "[93]\ttrain-auc:0.747261\teval-auc:0.744433\n",
      "[94]\ttrain-auc:0.747833\teval-auc:0.744745\n",
      "[95]\ttrain-auc:0.748295\teval-auc:0.745205\n",
      "[96]\ttrain-auc:0.748669\teval-auc:0.745486\n",
      "[97]\ttrain-auc:0.749274\teval-auc:0.745924\n",
      "[98]\ttrain-auc:0.749778\teval-auc:0.746092\n",
      "[99]\ttrain-auc:0.750253\teval-auc:0.746453\n",
      "[100]\ttrain-auc:0.750735\teval-auc:0.746744\n",
      "[101]\ttrain-auc:0.751301\teval-auc:0.747208\n",
      "[102]\ttrain-auc:0.751753\teval-auc:0.747457\n",
      "[103]\ttrain-auc:0.752132\teval-auc:0.747863\n",
      "[104]\ttrain-auc:0.752577\teval-auc:0.748209\n",
      "[105]\ttrain-auc:0.75295\teval-auc:0.748495\n",
      "[106]\ttrain-auc:0.753432\teval-auc:0.748808\n",
      "[107]\ttrain-auc:0.753825\teval-auc:0.749203\n",
      "[108]\ttrain-auc:0.754221\teval-auc:0.749446\n",
      "[109]\ttrain-auc:0.754782\teval-auc:0.749679\n",
      "[110]\ttrain-auc:0.755231\teval-auc:0.750051\n",
      "[111]\ttrain-auc:0.75552\teval-auc:0.750323\n",
      "[112]\ttrain-auc:0.755944\teval-auc:0.750677\n",
      "[113]\ttrain-auc:0.756362\teval-auc:0.751052\n",
      "[114]\ttrain-auc:0.756861\teval-auc:0.751367\n",
      "[115]\ttrain-auc:0.757269\teval-auc:0.751799\n",
      "[116]\ttrain-auc:0.757753\teval-auc:0.752163\n",
      "[117]\ttrain-auc:0.758141\teval-auc:0.752498\n",
      "[118]\ttrain-auc:0.758487\teval-auc:0.752716\n",
      "[119]\ttrain-auc:0.758842\teval-auc:0.753062\n",
      "[120]\ttrain-auc:0.759362\teval-auc:0.753363\n",
      "[121]\ttrain-auc:0.759929\teval-auc:0.753776\n",
      "[122]\ttrain-auc:0.760318\teval-auc:0.753884\n",
      "[123]\ttrain-auc:0.760634\teval-auc:0.754169\n",
      "[124]\ttrain-auc:0.761158\teval-auc:0.754518\n",
      "[125]\ttrain-auc:0.761525\teval-auc:0.754768\n",
      "[126]\ttrain-auc:0.761934\teval-auc:0.755075\n",
      "[127]\ttrain-auc:0.762316\teval-auc:0.755391\n",
      "[128]\ttrain-auc:0.762706\teval-auc:0.755618\n",
      "[129]\ttrain-auc:0.762994\teval-auc:0.755704\n",
      "[130]\ttrain-auc:0.763446\teval-auc:0.755969\n",
      "[131]\ttrain-auc:0.763834\teval-auc:0.756326\n",
      "[132]\ttrain-auc:0.764134\teval-auc:0.756484\n",
      "[133]\ttrain-auc:0.764494\teval-auc:0.756753\n",
      "[134]\ttrain-auc:0.764994\teval-auc:0.757012\n",
      "[135]\ttrain-auc:0.765419\teval-auc:0.757238\n",
      "[136]\ttrain-auc:0.765846\teval-auc:0.75751\n",
      "[137]\ttrain-auc:0.766205\teval-auc:0.75772\n",
      "[138]\ttrain-auc:0.766551\teval-auc:0.757978\n",
      "[139]\ttrain-auc:0.767078\teval-auc:0.758308\n",
      "[140]\ttrain-auc:0.767562\teval-auc:0.758759\n",
      "[141]\ttrain-auc:0.767791\teval-auc:0.758883\n",
      "[142]\ttrain-auc:0.768123\teval-auc:0.759045\n",
      "[143]\ttrain-auc:0.768376\teval-auc:0.759171\n",
      "[144]\ttrain-auc:0.768736\teval-auc:0.759449\n",
      "[145]\ttrain-auc:0.768975\teval-auc:0.759484\n",
      "[146]\ttrain-auc:0.769212\teval-auc:0.759729\n",
      "[147]\ttrain-auc:0.76948\teval-auc:0.759868\n",
      "[148]\ttrain-auc:0.769822\teval-auc:0.760112\n",
      "[149]\ttrain-auc:0.770029\teval-auc:0.760308\n",
      "[150]\ttrain-auc:0.770347\teval-auc:0.760521\n",
      "[151]\ttrain-auc:0.770661\teval-auc:0.760683\n",
      "[152]\ttrain-auc:0.770938\teval-auc:0.760912\n",
      "[153]\ttrain-auc:0.77131\teval-auc:0.76114\n",
      "[154]\ttrain-auc:0.771712\teval-auc:0.76144\n",
      "[155]\ttrain-auc:0.77206\teval-auc:0.761646\n",
      "[156]\ttrain-auc:0.77243\teval-auc:0.761925\n",
      "[157]\ttrain-auc:0.772701\teval-auc:0.762104\n",
      "[158]\ttrain-auc:0.772997\teval-auc:0.762285\n",
      "[159]\ttrain-auc:0.773244\teval-auc:0.762414\n",
      "[160]\ttrain-auc:0.773509\teval-auc:0.762595\n",
      "[161]\ttrain-auc:0.773792\teval-auc:0.762813\n",
      "[162]\ttrain-auc:0.77411\teval-auc:0.762997\n",
      "[163]\ttrain-auc:0.774478\teval-auc:0.763239\n",
      "[164]\ttrain-auc:0.774658\teval-auc:0.763412\n",
      "[165]\ttrain-auc:0.774951\teval-auc:0.763754\n",
      "[166]\ttrain-auc:0.775177\teval-auc:0.76387\n",
      "[167]\ttrain-auc:0.77551\teval-auc:0.764214\n",
      "[168]\ttrain-auc:0.775828\teval-auc:0.764403\n",
      "[169]\ttrain-auc:0.776071\teval-auc:0.764493\n",
      "[170]\ttrain-auc:0.776393\teval-auc:0.764685\n",
      "[171]\ttrain-auc:0.776645\teval-auc:0.764869\n",
      "[172]\ttrain-auc:0.77695\teval-auc:0.765011\n",
      "[173]\ttrain-auc:0.777111\teval-auc:0.765105\n",
      "[174]\ttrain-auc:0.777461\teval-auc:0.76528\n",
      "[175]\ttrain-auc:0.777687\teval-auc:0.765428\n",
      "[176]\ttrain-auc:0.777944\teval-auc:0.765584\n",
      "[177]\ttrain-auc:0.77833\teval-auc:0.765707\n",
      "[178]\ttrain-auc:0.778579\teval-auc:0.765953\n",
      "[179]\ttrain-auc:0.778779\teval-auc:0.766089\n",
      "[180]\ttrain-auc:0.77918\teval-auc:0.766278\n",
      "[181]\ttrain-auc:0.77936\teval-auc:0.766338\n",
      "[182]\ttrain-auc:0.779702\teval-auc:0.766564\n",
      "[183]\ttrain-auc:0.779944\teval-auc:0.766716\n",
      "[184]\ttrain-auc:0.780149\teval-auc:0.766891\n",
      "[185]\ttrain-auc:0.780479\teval-auc:0.76715\n",
      "[186]\ttrain-auc:0.780736\teval-auc:0.76731\n",
      "[187]\ttrain-auc:0.78109\teval-auc:0.767665\n",
      "[188]\ttrain-auc:0.78136\teval-auc:0.767835\n",
      "[189]\ttrain-auc:0.781645\teval-auc:0.767934\n",
      "[190]\ttrain-auc:0.781932\teval-auc:0.768031\n"
     ]
    },
    {
     "name": "stdout",
     "output_type": "stream",
     "text": [
      "[191]\ttrain-auc:0.782306\teval-auc:0.768404\n",
      "[192]\ttrain-auc:0.782584\teval-auc:0.768594\n",
      "[193]\ttrain-auc:0.782716\teval-auc:0.76856\n",
      "[194]\ttrain-auc:0.78307\teval-auc:0.768706\n",
      "[195]\ttrain-auc:0.78344\teval-auc:0.769013\n",
      "[196]\ttrain-auc:0.783701\teval-auc:0.769175\n",
      "[197]\ttrain-auc:0.783974\teval-auc:0.769309\n",
      "[198]\ttrain-auc:0.784242\teval-auc:0.769435\n",
      "[199]\ttrain-auc:0.784381\teval-auc:0.769608\n",
      "0.7696077384862317\n"
     ]
    }
   ],
   "source": [
    "%%time\n",
    "max_depth = 5\n",
    "subsample = 0.7\n",
    "colsample_bytree = 0.7\n",
    "params = {\n",
    "    'objective' : 'binary:logistic', \n",
    "    'booster' : 'gbtree',\n",
    "    'max_depth' : max_depth, \n",
    "    'subsample' : subsample,\n",
    "    'eval_metric' : 'auc', \n",
    "    'colsample_bytree' : colsample_bytree,\n",
    "    'silent' : 1, \n",
    "    'eta' : 0.1,\n",
    "    'nthread' : cores\n",
    "}\n",
    "num_boost_round = 200\n",
    "early_stopping_rounds = 10\n",
    "test_size = 0.15\n",
    "\n",
    "watchlist = [(dtrain, 'train'), (dvalid, 'eval')]\n",
    "gbm = xgb.train(params, dtrain, num_boost_round, evals = watchlist,\n",
    "                early_stopping_rounds = early_stopping_rounds, verbose_eval = True)\n",
    "test_prediction = gbm.predict(xgb.DMatrix(test_vecs_w2v))\n",
    "test_class = np.round(test_prediction)\n",
    "test_acc = accuracy_score(y_test, test_class)\n",
    "print (test_acc)\n",
    "gbm.save_model(saveClassifierPath+'XGBOost_'+train_x_by_m1_name)"
   ]
  },
  {
   "cell_type": "code",
   "execution_count": 38,
   "metadata": {},
   "outputs": [
    {
     "name": "stdout",
     "output_type": "stream",
     "text": [
      "Logistic Regression\n",
      "Random Forest\n",
      "Kernel SVM\n",
      "XGBoost\n"
     ]
    },
    {
     "data": {
      "image/png": "[encoded data removed]",
      "text/plain": [
       "<matplotlib.figure.Figure at 0x21223417550>"
      ]
     },
     "metadata": {},
     "output_type": "display_data"
    }
   ],
   "source": [
    "%%time\n",
    "Make_Roc_Curve(test_x_by_m1, test_y, classifier, classifier2, classifier3, gbm)"
   ]
  },
  {
   "cell_type": "code",
   "execution_count": null,
   "metadata": {},
   "outputs": [],
   "source": [
    "del classifier\n",
    "del classifier2\n",
    "del classifier3\n",
    "del gbm"
   ]
  },
  {
   "cell_type": "markdown",
   "metadata": {},
   "source": [
    "#### 분류모델 : Neural Network"
   ]
  },
  {
   "cell_type": "code",
   "execution_count": null,
   "metadata": {},
   "outputs": [],
   "source": [
    "model = Sequential()\n",
    "model.add(Dense(32, activation='relu', input_dim=1000))\n",
    "model.add(Dense(1, activation='sigmoid'))\n",
    "model.compile(optimizer='rmsprop',\n",
    "              loss='binary_crossentropy',\n",
    "              metrics=['accuracy'])\n",
    "history = model.fit(train_vecs_w2v, y_train, epochs=300, batch_size = 250000,  verbose=0,\n",
    "          validation_split=0.2,\n",
    "          callbacks=[TQDMNotebookCallback(show_inner=False)])\n",
    "score, acc = model.evaluate(test_vecs_w2v, y_test, verbose=0)\n",
    "print('Score: %1.4f' % score)\n",
    "print('Accuracy: %1.4f' % acc)"
   ]
  },
  {
   "cell_type": "code",
   "execution_count": null,
   "metadata": {},
   "outputs": [],
   "source": [
    "model.save(saveClassifierPath+'NeuralNetwork_1_'+train_x_by_m3_name)"
   ]
  },
  {
   "cell_type": "code",
   "execution_count": null,
   "metadata": {},
   "outputs": [],
   "source": [
    "plot_history(history)"
   ]
  },
  {
   "cell_type": "code",
   "execution_count": null,
   "metadata": {
    "scrolled": true
   },
   "outputs": [],
   "source": [
    "model = Sequential()\n",
    "model.add(Dense(128, activation='relu', input_dim=1000))\n",
    "model.add(Dense(64, activation='relu', kernel_regularizer=l2(0.001)))\n",
    "model.add(Dropout(0.1))\n",
    "model.add(Dense(32, activation='relu', kernel_regularizer=l2(0.001)))\n",
    "model.add(Dropout(0.1))\n",
    "model.add(Dense(1, activation='sigmoid'))\n",
    "model.compile(#optimizer='rmsprop',\n",
    "    optimizer='adadelta',\n",
    "              #loss='binary_crossentropy',\n",
    "    #optimizer=SGD(lr=0.2), \n",
    "    loss='binary_crossentropy',\n",
    "    metrics=['accuracy'])\n",
    "\n",
    "history = model.fit(train_vecs_w2v, y_train, epochs=300, batch_size = 250000,  verbose=0, validation_split=0.2,\n",
    "          callbacks=[TQDMNotebookCallback(show_inner=False)])\n",
    "score, acc = model.evaluate(test_vecs_w2v, y_test, verbose=0)\n",
    "print('Score: %1.4f' % score)\n",
    "print('Accuracy: %1.4f' % acc)"
   ]
  },
  {
   "cell_type": "code",
   "execution_count": null,
   "metadata": {},
   "outputs": [],
   "source": [
    "model.save(saveClassifierPath+'NeuralNetwork_2_'+train_x_by_m3_name)"
   ]
  },
  {
   "cell_type": "code",
   "execution_count": null,
   "metadata": {},
   "outputs": [],
   "source": [
    "plot_history(history)"
   ]
  },
  {
   "cell_type": "code",
   "execution_count": null,
   "metadata": {},
   "outputs": [],
   "source": [
    "del train_x_by_m3\n",
    "del train_x_by_m3_name\n",
    "del test_x_by_m3\n",
    "del test_x_by_m3_name"
   ]
  },
  {
   "cell_type": "markdown",
   "metadata": {},
   "source": [
    "#### mecab"
   ]
  },
  {
   "cell_type": "markdown",
   "metadata": {},
   "source": [
    "#### Load Model"
   ]
  },
  {
   "cell_type": "code",
   "execution_count": null,
   "metadata": {},
   "outputs": [],
   "source": [
    "model1 = doc2vec.Doc2Vec.load(loadModelPath+'doc2vec_size-1000_epoch-20_window-10_negative-7_hs-0_dm-1_dm_concat-0_dm_mean-1_by-mecab.model')\n",
    "model2 = doc2vec.Doc2Vec.load(loadModelPath+'doc2vec_size-1000_epoch-20_window-5_negative-7_hs-0_dm-1_dm_concat-1_dm_mean-0_by-mecab.model')\n",
    "model3 = doc2vec.Doc2Vec.load(loadModelPath+'doc2vec_size-1000_epoch-20_window-None_negative-7_hs-0_dm-0_dm_concat-0_dm_mean-0_by-mecab.model')"
   ]
  },
  {
   "cell_type": "markdown",
   "metadata": {},
   "source": [
    "#### Word to Vector"
   ]
  },
  {
   "cell_type": "markdown",
   "metadata": {},
   "source": [
    "##### train set"
   ]
  },
  {
   "cell_type": "code",
   "execution_count": null,
   "metadata": {},
   "outputs": [],
   "source": [
    "train = pickle.load(open('./data/pre_data/train_test_Data/pre_data_by_mecab_train_for_doc2vec_sentiment_analysis','rb'))"
   ]
  },
  {
   "cell_type": "code",
   "execution_count": null,
   "metadata": {},
   "outputs": [],
   "source": [
    "name1 = '-'.join(re.split('[\\(\\),\\/]',str(model1)))+'mecab'\n",
    "if not os.path.isfile(saveTrainPath+'train_x_'+name1):\n",
    "    train_x_by_m1 = Get_Infer_Vector(train, model1)\n",
    "    \n",
    "    pickle.dump(train_x_by_m1,open(saveTrainPath+'train_x_'+name1,'wb'))\n",
    "    del train_x_by_m1\n",
    "    del name1\n",
    "    \n",
    "name2 = '-'.join(re.split('[\\(\\),\\/]',str(model2)))+'mecab'\n",
    "if not os.path.isfile(saveTrainPath+'train_x_'+name2):\n",
    "    train_x_by_m2 = Get_Infer_Vector(train, model2)\n",
    "\n",
    "    pickle.dump(train_x_by_m2,open(saveTrainPath+'train_x_'+name2,'wb'))\n",
    "    del train_x_by_m2\n",
    "    del name2\n",
    "\n",
    "name3 = '-'.join(re.split('[\\(\\),\\/]',str(model3)))+'mecab'\n",
    "if not os.path.isfile(saveTrainPath+'train_x_'+name3):\n",
    "    train_x_by_m3 = Get_Infer_Vector(train, model3)\n",
    "\n",
    "    pickle.dump(train_x_by_m3,open(saveTrainPath+'train_x_'+name3,'wb'))\n",
    "    del train_x_by_m3\n",
    "    del name3\n",
    "\n",
    "if not os.path.isfile(saveTrainPath+'train_senti_y_mecab_for_sentiment_analysis'):\n",
    "    train_senti_y = [doc.sentiment for doc in tqdm(train)]\n",
    "    \n",
    "    pickle.dump(train_senti_y, open(saveTrainPath+'train_senti_y_mecab_for_sentiment_analysis','wb'))\n",
    "    del train_senti_y\n",
    "    \n",
    "if not os.path.isfile(saveTrainPath+'train_tags_y_mecab_for_sentiment_analysis'):\n",
    "    train_tags_y = [doc.tags for doc in tqdm(train)]\n",
    "    \n",
    "    pickle.dump(train_tags_y, open(saveTrainPath+'train_tags_y_mecab_for_sentiment_analysis','wb'))\n",
    "    del train_tags_y\n",
    "\n",
    "if 'train' in locals():\n",
    "    del train"
   ]
  },
  {
   "cell_type": "markdown",
   "metadata": {},
   "source": [
    "##### test set"
   ]
  },
  {
   "cell_type": "code",
   "execution_count": null,
   "metadata": {},
   "outputs": [],
   "source": [
    "test = pickle.load(open('./data/pre_data/train_test_Data/pre_data_by_mecab_test_for_doc2vec_sentiment_analysis','rb'))"
   ]
  },
  {
   "cell_type": "code",
   "execution_count": null,
   "metadata": {},
   "outputs": [],
   "source": [
    "name1 = '-'.join(re.split('[\\(\\),\\/]',str(model1)))+'mecab'\n",
    "if not os.path.isfile(saveTrainPath+'test_x_'+name1):\n",
    "    test_x_by_m1 = Get_Infer_Vector(test, model1)\n",
    "    \n",
    "    pickle.dump(test_x_by_m1,open(saveTrainPath+'test_x_'+name1,'wb'))\n",
    "    del test_x_by_m1\n",
    "    del name1\n",
    "    \n",
    "name2 = '-'.join(re.split('[\\(\\),\\/]',str(model2)))+'mecab'\n",
    "if not os.path.isfile(saveTrainPath+'test_x_'+name2):\n",
    "    test_x_by_m2 = Get_Infer_Vector(test, model2)\n",
    "\n",
    "    pickle.dump(test_x_by_m2,open(saveTrainPath+'test_x_'+name2,'wb'))\n",
    "    del test_x_by_m2\n",
    "    del name2\n",
    "\n",
    "name3 = '-'.join(re.split('[\\(\\),\\/]',str(model3)))+'mecab'\n",
    "if not os.path.isfile(saveTrainPath+'test_x_'+name3):\n",
    "    test_x_by_m3 = Get_Infer_Vector(test, model3)\n",
    "\n",
    "    pickle.dump(test_x_by_m3,open(saveTrainPath+'test_x_'+name3,'wb'))\n",
    "    del test_x_by_m3\n",
    "    del name3\n",
    "\n",
    "if not os.path.isfile(saveTrainPath+'test_senti_y_mecab_for_sentiment_analysis'):\n",
    "    test_senti_y = [doc.sentiment for doc in tqdm(test)]\n",
    "    \n",
    "    pickle.dump(test_senti_y, open(saveTrainPath+'test_senti_y_mecab_for_sentiment_analysis','wb'))\n",
    "    del test_senti_y\n",
    "    \n",
    "if not os.path.isfile(saveTrainPath+'test_tags_y_mecab_for_sentiment_analysis'):\n",
    "    test_tags_y = [doc.tags for doc in tqdm(test)]\n",
    "    \n",
    "    pickle.dump(test_tags_y, open(saveTrainPath+'test_tags_y_mecab_for_sentiment_analysis','wb'))\n",
    "    del test_tags_y\n",
    "\n",
    "if 'test' in locals():\n",
    "    del test"
   ]
  },
  {
   "cell_type": "markdown",
   "metadata": {},
   "source": [
    "#### model1\n",
    "* Doc2Vec(dm/m,d1000,n7,w10,mc5,s0.001,t12)\n",
    "* size-1000\n",
    "* epoch-20\n",
    "* window-10\n",
    "* negative-7\n",
    "* hs-0\n",
    "* dm-1\n",
    "* dm_concat-0\n",
    "* dm_mean-1"
   ]
  },
  {
   "cell_type": "code",
   "execution_count": null,
   "metadata": {},
   "outputs": [],
   "source": [
    "train_x_by_m1_name = 'train_x_Doc2Vec-dm-m-d1000-n7-w10-mc5-s0.001-t12-mecab'\n",
    "train_x_by_m1 = pickle.load(open(saveTrainPath+train_x_by_m1_name,'rb'))\n",
    "train_y = pickle.load(open(saveTrainPath+'train_senti_y_mecab_for_sentiment_analysis','rb'))"
   ]
  },
  {
   "cell_type": "code",
   "execution_count": null,
   "metadata": {},
   "outputs": [],
   "source": [
    "test_x_by_m1_name = 'test_x_Doc2Vec-dm-m-d1000-n7-w10-mc5-s0.001-t12-mecab'\n",
    "test_x_by_m1 = pickle.load(open(saveTrainPath+test_x_by_m1_name,'rb'))\n",
    "test_y = pickle.load(open(saveTrainPath+'test_senti_y_mecab_for_sentiment_analysis','rb'))"
   ]
  },
  {
   "cell_type": "markdown",
   "metadata": {},
   "source": [
    "#### 분류 모델 : Logistic Regression"
   ]
  },
  {
   "cell_type": "code",
   "execution_count": null,
   "metadata": {},
   "outputs": [],
   "source": [
    "train_y2 = [y[0] for y in tqdm(train_y)]\n",
    "test_y2 = [y[0] for y in tqdm(test_y)]"
   ]
  },
  {
   "cell_type": "code",
   "execution_count": null,
   "metadata": {},
   "outputs": [],
   "source": [
    "%%time\n",
    "classifier = LogisticRegression(random_state=1234, max_iter = 250, n_jobs=cores)\n",
    "classifier.fit(train_x_by_m1, train_y2)\n",
    "print (classifier.get_params())\n",
    "print( 'score : {}'.format(classifier.score(test_x_by_m1, test_y2)))\n",
    "print ('classification report')\n",
    "print (classification_report(test_y2, classifier.predict(test_x_by_m1)))"
   ]
  },
  {
   "cell_type": "code",
   "execution_count": null,
   "metadata": {},
   "outputs": [],
   "source": [
    "pickle.dump(classifier,open(saveClassifierPath+'LogisticRegression_'+train_x_by_m1_name, 'wb'))"
   ]
  },
  {
   "cell_type": "markdown",
   "metadata": {},
   "source": [
    "#### 분류모델 : RandomForest Classifier"
   ]
  },
  {
   "cell_type": "code",
   "execution_count": null,
   "metadata": {},
   "outputs": [],
   "source": [
    "%%time\n",
    "classifier2 = RandomForestClassifier(random_state=1234, n_estimators = 75, n_jobs=cores)\n",
    "classifier2.fit(train_x_by_m1, train_y2)\n",
    "print (classifier2.get_params())\n",
    "print( 'score : {}'.format(classifier2.score(test_x_by_m1, test_y2)))\n",
    "print ('classification report')\n",
    "print (classification_report(test_y2, classifier2.predict(test_x_by_m1)))"
   ]
  },
  {
   "cell_type": "code",
   "execution_count": null,
   "metadata": {},
   "outputs": [],
   "source": [
    "pickle.dump(classifier2,open(saveClassifierPath+'RandomForestClassifier_'+train_x_by_m1_name, 'wb'))"
   ]
  },
  {
   "cell_type": "markdown",
   "metadata": {},
   "source": [
    "#### 분류모델 : C-Support Vector Classification"
   ]
  },
  {
   "cell_type": "code",
   "execution_count": null,
   "metadata": {},
   "outputs": [],
   "source": [
    "%%time\n",
    "scaling = MinMaxScaler(feature_range=(-1, 1)).fit(train_x_by_m1)\n",
    "train_x_by_m1_2 = scaling.transform(train_x_by_m1)\n",
    "test_x_by_m1_2 = scaling.transform(test_x_by_m1)\n",
    "classifier3 =  SVC(kernel = 'linear', \n",
    "        cache_size= 1024, max_iter = 1500, verbose = True) \n",
    "classifier3.fit(train_x_by_m1_2, train_y2)\n",
    "print (classifier3.get_params())\n",
    "print( 'score : {}'.format(classifier3.score(test_x_by_m1_2, test_y2)))\n",
    "print ('classification report')\n",
    "print (classification_report(test_y2, classifier3.predict(test_x_by_m1_2)))"
   ]
  },
  {
   "cell_type": "code",
   "execution_count": null,
   "metadata": {},
   "outputs": [],
   "source": [
    "del scaling\n",
    "del train_x_by_m1_2\n",
    "del test_x_by_m1_2"
   ]
  },
  {
   "cell_type": "code",
   "execution_count": null,
   "metadata": {},
   "outputs": [],
   "source": [
    "pickle.dump(classifier3,open(saveClassifierPath+'SVC_'+train_x_by_m1_name, 'wb'))"
   ]
  },
  {
   "cell_type": "markdown",
   "metadata": {},
   "source": [
    "#### 분류모델 : XGBOOST"
   ]
  },
  {
   "cell_type": "code",
   "execution_count": null,
   "metadata": {
    "scrolled": true
   },
   "outputs": [],
   "source": [
    "%%time\n",
    "train_vecs_w2v = np.concatenate([z.reshape(1,-1) for z in tqdm(map(lambda x: x,train_x_by_m1))])\n",
    "train_vecs_w2v = scale(train_vecs_w2v)\n",
    "\n",
    "test_vecs_w2v = np.concatenate([z.reshape(1,-1) for z in tqdm(map(lambda x: x, test_x_by_m1))])\n",
    "test_vecs_w2v = scale(test_vecs_w2v)\n",
    "\n",
    "y_test = np.array(test_y)\n",
    "y_train = np.array(train_y)"
   ]
  },
  {
   "cell_type": "code",
   "execution_count": null,
   "metadata": {},
   "outputs": [],
   "source": [
    "%%time\n",
    "dtrain = xgb.DMatrix(train_vecs_w2v, y_train)\n",
    "dvalid = xgb.DMatrix(test_vecs_w2v, y_test)"
   ]
  },
  {
   "cell_type": "code",
   "execution_count": 37,
   "metadata": {
    "scrolled": true
   },
   "outputs": [
    {
     "name": "stdout",
     "output_type": "stream",
     "text": [
      "[0]\ttrain-auc:0.607793\teval-auc:0.610414\n",
      "Multiple eval metrics have been passed: 'eval-auc' will be used for early stopping.\n",
      "\n",
      "Will train until eval-auc hasn't improved in 10 rounds.\n",
      "[1]\ttrain-auc:0.620366\teval-auc:0.624268\n",
      "[2]\ttrain-auc:0.629444\teval-auc:0.634942\n",
      "[3]\ttrain-auc:0.633468\teval-auc:0.639657\n",
      "[4]\ttrain-auc:0.638111\teval-auc:0.642708\n",
      "[5]\ttrain-auc:0.641881\teval-auc:0.645733\n",
      "[6]\ttrain-auc:0.644185\teval-auc:0.648052\n",
      "[7]\ttrain-auc:0.646831\teval-auc:0.650695\n",
      "[8]\ttrain-auc:0.650333\teval-auc:0.653901\n",
      "[9]\ttrain-auc:0.653317\teval-auc:0.656875\n",
      "[10]\ttrain-auc:0.656777\teval-auc:0.660439\n",
      "[11]\ttrain-auc:0.658605\teval-auc:0.662213\n",
      "[12]\ttrain-auc:0.660999\teval-auc:0.664014\n",
      "[13]\ttrain-auc:0.663079\teval-auc:0.666033\n",
      "[14]\ttrain-auc:0.664794\teval-auc:0.667817\n",
      "[15]\ttrain-auc:0.665767\teval-auc:0.669134\n",
      "[16]\ttrain-auc:0.667282\teval-auc:0.670268\n",
      "[17]\ttrain-auc:0.669103\teval-auc:0.672211\n",
      "[18]\ttrain-auc:0.672656\teval-auc:0.675675\n",
      "[19]\ttrain-auc:0.674681\teval-auc:0.677895\n",
      "[20]\ttrain-auc:0.676836\teval-auc:0.679945\n",
      "[21]\ttrain-auc:0.678191\teval-auc:0.681112\n",
      "[22]\ttrain-auc:0.679869\teval-auc:0.682357\n",
      "[23]\ttrain-auc:0.680939\teval-auc:0.6835\n",
      "[24]\ttrain-auc:0.681924\teval-auc:0.684519\n",
      "[25]\ttrain-auc:0.683548\teval-auc:0.686314\n",
      "[26]\ttrain-auc:0.684718\teval-auc:0.687365\n",
      "[27]\ttrain-auc:0.685945\teval-auc:0.68838\n",
      "[28]\ttrain-auc:0.688061\teval-auc:0.690595\n",
      "[29]\ttrain-auc:0.68925\teval-auc:0.691607\n",
      "[30]\ttrain-auc:0.690811\teval-auc:0.693266\n",
      "[31]\ttrain-auc:0.692466\teval-auc:0.694589\n",
      "[32]\ttrain-auc:0.693668\teval-auc:0.695506\n",
      "[33]\ttrain-auc:0.695023\teval-auc:0.696833\n",
      "[34]\ttrain-auc:0.696437\teval-auc:0.698319\n",
      "[35]\ttrain-auc:0.697911\teval-auc:0.699624\n",
      "[36]\ttrain-auc:0.699426\teval-auc:0.701047\n",
      "[37]\ttrain-auc:0.700857\teval-auc:0.702295\n",
      "[38]\ttrain-auc:0.702011\teval-auc:0.703258\n",
      "[39]\ttrain-auc:0.703254\teval-auc:0.704633\n",
      "[40]\ttrain-auc:0.704207\teval-auc:0.705732\n",
      "[41]\ttrain-auc:0.705055\teval-auc:0.706439\n",
      "[42]\ttrain-auc:0.706099\teval-auc:0.707408\n",
      "[43]\ttrain-auc:0.707393\teval-auc:0.708926\n",
      "[44]\ttrain-auc:0.708637\teval-auc:0.710265\n",
      "[45]\ttrain-auc:0.709983\teval-auc:0.71172\n",
      "[46]\ttrain-auc:0.711393\teval-auc:0.71323\n",
      "[47]\ttrain-auc:0.712238\teval-auc:0.714349\n",
      "[48]\ttrain-auc:0.713343\teval-auc:0.715417\n",
      "[49]\ttrain-auc:0.714246\teval-auc:0.716041\n",
      "[50]\ttrain-auc:0.715228\teval-auc:0.717118\n",
      "[51]\ttrain-auc:0.715953\teval-auc:0.71777\n",
      "[52]\ttrain-auc:0.716908\teval-auc:0.718472\n",
      "[53]\ttrain-auc:0.718034\teval-auc:0.719608\n",
      "[54]\ttrain-auc:0.718801\teval-auc:0.720392\n",
      "[55]\ttrain-auc:0.71986\teval-auc:0.721217\n",
      "[56]\ttrain-auc:0.720877\teval-auc:0.722084\n",
      "[57]\ttrain-auc:0.722003\teval-auc:0.723298\n",
      "[58]\ttrain-auc:0.722978\teval-auc:0.724327\n",
      "[59]\ttrain-auc:0.723913\teval-auc:0.725202\n",
      "[60]\ttrain-auc:0.72461\teval-auc:0.725687\n",
      "[61]\ttrain-auc:0.725636\teval-auc:0.726521\n",
      "[62]\ttrain-auc:0.726308\teval-auc:0.727052\n",
      "[63]\ttrain-auc:0.727361\teval-auc:0.72783\n",
      "[64]\ttrain-auc:0.728179\teval-auc:0.728483\n",
      "[65]\ttrain-auc:0.729136\teval-auc:0.729327\n",
      "[66]\ttrain-auc:0.729809\teval-auc:0.729834\n",
      "[67]\ttrain-auc:0.730581\teval-auc:0.730344\n",
      "[68]\ttrain-auc:0.731368\teval-auc:0.731317\n",
      "[69]\ttrain-auc:0.731967\teval-auc:0.731797\n",
      "[70]\ttrain-auc:0.732694\teval-auc:0.732483\n",
      "[71]\ttrain-auc:0.733425\teval-auc:0.733282\n",
      "[72]\ttrain-auc:0.734181\teval-auc:0.733809\n",
      "[73]\ttrain-auc:0.734923\teval-auc:0.734363\n",
      "[74]\ttrain-auc:0.735605\teval-auc:0.73498\n",
      "[75]\ttrain-auc:0.736217\teval-auc:0.735674\n",
      "[76]\ttrain-auc:0.736913\teval-auc:0.736122\n",
      "[77]\ttrain-auc:0.737549\teval-auc:0.736549\n",
      "[78]\ttrain-auc:0.738264\teval-auc:0.737213\n",
      "[79]\ttrain-auc:0.738991\teval-auc:0.737955\n",
      "[80]\ttrain-auc:0.739405\teval-auc:0.738465\n",
      "[81]\ttrain-auc:0.740085\teval-auc:0.739092\n",
      "[82]\ttrain-auc:0.740861\teval-auc:0.73951\n",
      "[83]\ttrain-auc:0.741534\teval-auc:0.74001\n",
      "[84]\ttrain-auc:0.74228\teval-auc:0.740689\n",
      "[85]\ttrain-auc:0.742896\teval-auc:0.74117\n",
      "[86]\ttrain-auc:0.743528\teval-auc:0.741602\n",
      "[87]\ttrain-auc:0.744027\teval-auc:0.742008\n",
      "[88]\ttrain-auc:0.744514\teval-auc:0.742386\n",
      "[89]\ttrain-auc:0.745046\teval-auc:0.74289\n",
      "[90]\ttrain-auc:0.745532\teval-auc:0.74325\n",
      "[91]\ttrain-auc:0.746138\teval-auc:0.743697\n",
      "[92]\ttrain-auc:0.746696\teval-auc:0.744109\n",
      "[93]\ttrain-auc:0.747261\teval-auc:0.744433\n",
      "[94]\ttrain-auc:0.747833\teval-auc:0.744745\n",
      "[95]\ttrain-auc:0.748295\teval-auc:0.745205\n",
      "[96]\ttrain-auc:0.748669\teval-auc:0.745486\n",
      "[97]\ttrain-auc:0.749274\teval-auc:0.745924\n",
      "[98]\ttrain-auc:0.749778\teval-auc:0.746092\n",
      "[99]\ttrain-auc:0.750253\teval-auc:0.746453\n",
      "[100]\ttrain-auc:0.750735\teval-auc:0.746744\n",
      "[101]\ttrain-auc:0.751301\teval-auc:0.747208\n",
      "[102]\ttrain-auc:0.751753\teval-auc:0.747457\n",
      "[103]\ttrain-auc:0.752132\teval-auc:0.747863\n",
      "[104]\ttrain-auc:0.752577\teval-auc:0.748209\n",
      "[105]\ttrain-auc:0.75295\teval-auc:0.748495\n",
      "[106]\ttrain-auc:0.753432\teval-auc:0.748808\n",
      "[107]\ttrain-auc:0.753825\teval-auc:0.749203\n",
      "[108]\ttrain-auc:0.754221\teval-auc:0.749446\n",
      "[109]\ttrain-auc:0.754782\teval-auc:0.749679\n",
      "[110]\ttrain-auc:0.755231\teval-auc:0.750051\n",
      "[111]\ttrain-auc:0.75552\teval-auc:0.750323\n",
      "[112]\ttrain-auc:0.755944\teval-auc:0.750677\n",
      "[113]\ttrain-auc:0.756362\teval-auc:0.751052\n",
      "[114]\ttrain-auc:0.756861\teval-auc:0.751367\n",
      "[115]\ttrain-auc:0.757269\teval-auc:0.751799\n",
      "[116]\ttrain-auc:0.757753\teval-auc:0.752163\n",
      "[117]\ttrain-auc:0.758141\teval-auc:0.752498\n",
      "[118]\ttrain-auc:0.758487\teval-auc:0.752716\n",
      "[119]\ttrain-auc:0.758842\teval-auc:0.753062\n",
      "[120]\ttrain-auc:0.759362\teval-auc:0.753363\n",
      "[121]\ttrain-auc:0.759929\teval-auc:0.753776\n",
      "[122]\ttrain-auc:0.760318\teval-auc:0.753884\n",
      "[123]\ttrain-auc:0.760634\teval-auc:0.754169\n",
      "[124]\ttrain-auc:0.761158\teval-auc:0.754518\n",
      "[125]\ttrain-auc:0.761525\teval-auc:0.754768\n",
      "[126]\ttrain-auc:0.761934\teval-auc:0.755075\n",
      "[127]\ttrain-auc:0.762316\teval-auc:0.755391\n",
      "[128]\ttrain-auc:0.762706\teval-auc:0.755618\n",
      "[129]\ttrain-auc:0.762994\teval-auc:0.755704\n",
      "[130]\ttrain-auc:0.763446\teval-auc:0.755969\n",
      "[131]\ttrain-auc:0.763834\teval-auc:0.756326\n",
      "[132]\ttrain-auc:0.764134\teval-auc:0.756484\n",
      "[133]\ttrain-auc:0.764494\teval-auc:0.756753\n",
      "[134]\ttrain-auc:0.764994\teval-auc:0.757012\n",
      "[135]\ttrain-auc:0.765419\teval-auc:0.757238\n",
      "[136]\ttrain-auc:0.765846\teval-auc:0.75751\n",
      "[137]\ttrain-auc:0.766205\teval-auc:0.75772\n",
      "[138]\ttrain-auc:0.766551\teval-auc:0.757978\n",
      "[139]\ttrain-auc:0.767078\teval-auc:0.758308\n",
      "[140]\ttrain-auc:0.767562\teval-auc:0.758759\n",
      "[141]\ttrain-auc:0.767791\teval-auc:0.758883\n",
      "[142]\ttrain-auc:0.768123\teval-auc:0.759045\n",
      "[143]\ttrain-auc:0.768376\teval-auc:0.759171\n",
      "[144]\ttrain-auc:0.768736\teval-auc:0.759449\n",
      "[145]\ttrain-auc:0.768975\teval-auc:0.759484\n",
      "[146]\ttrain-auc:0.769212\teval-auc:0.759729\n",
      "[147]\ttrain-auc:0.76948\teval-auc:0.759868\n",
      "[148]\ttrain-auc:0.769822\teval-auc:0.760112\n",
      "[149]\ttrain-auc:0.770029\teval-auc:0.760308\n",
      "[150]\ttrain-auc:0.770347\teval-auc:0.760521\n",
      "[151]\ttrain-auc:0.770661\teval-auc:0.760683\n",
      "[152]\ttrain-auc:0.770938\teval-auc:0.760912\n",
      "[153]\ttrain-auc:0.77131\teval-auc:0.76114\n",
      "[154]\ttrain-auc:0.771712\teval-auc:0.76144\n",
      "[155]\ttrain-auc:0.77206\teval-auc:0.761646\n",
      "[156]\ttrain-auc:0.77243\teval-auc:0.761925\n",
      "[157]\ttrain-auc:0.772701\teval-auc:0.762104\n",
      "[158]\ttrain-auc:0.772997\teval-auc:0.762285\n",
      "[159]\ttrain-auc:0.773244\teval-auc:0.762414\n",
      "[160]\ttrain-auc:0.773509\teval-auc:0.762595\n",
      "[161]\ttrain-auc:0.773792\teval-auc:0.762813\n",
      "[162]\ttrain-auc:0.77411\teval-auc:0.762997\n",
      "[163]\ttrain-auc:0.774478\teval-auc:0.763239\n",
      "[164]\ttrain-auc:0.774658\teval-auc:0.763412\n",
      "[165]\ttrain-auc:0.774951\teval-auc:0.763754\n",
      "[166]\ttrain-auc:0.775177\teval-auc:0.76387\n",
      "[167]\ttrain-auc:0.77551\teval-auc:0.764214\n",
      "[168]\ttrain-auc:0.775828\teval-auc:0.764403\n",
      "[169]\ttrain-auc:0.776071\teval-auc:0.764493\n",
      "[170]\ttrain-auc:0.776393\teval-auc:0.764685\n",
      "[171]\ttrain-auc:0.776645\teval-auc:0.764869\n",
      "[172]\ttrain-auc:0.77695\teval-auc:0.765011\n",
      "[173]\ttrain-auc:0.777111\teval-auc:0.765105\n",
      "[174]\ttrain-auc:0.777461\teval-auc:0.76528\n",
      "[175]\ttrain-auc:0.777687\teval-auc:0.765428\n",
      "[176]\ttrain-auc:0.777944\teval-auc:0.765584\n",
      "[177]\ttrain-auc:0.77833\teval-auc:0.765707\n",
      "[178]\ttrain-auc:0.778579\teval-auc:0.765953\n",
      "[179]\ttrain-auc:0.778779\teval-auc:0.766089\n",
      "[180]\ttrain-auc:0.77918\teval-auc:0.766278\n",
      "[181]\ttrain-auc:0.77936\teval-auc:0.766338\n",
      "[182]\ttrain-auc:0.779702\teval-auc:0.766564\n",
      "[183]\ttrain-auc:0.779944\teval-auc:0.766716\n",
      "[184]\ttrain-auc:0.780149\teval-auc:0.766891\n",
      "[185]\ttrain-auc:0.780479\teval-auc:0.76715\n",
      "[186]\ttrain-auc:0.780736\teval-auc:0.76731\n",
      "[187]\ttrain-auc:0.78109\teval-auc:0.767665\n",
      "[188]\ttrain-auc:0.78136\teval-auc:0.767835\n",
      "[189]\ttrain-auc:0.781645\teval-auc:0.767934\n",
      "[190]\ttrain-auc:0.781932\teval-auc:0.768031\n"
     ]
    },
    {
     "name": "stdout",
     "output_type": "stream",
     "text": [
      "[191]\ttrain-auc:0.782306\teval-auc:0.768404\n",
      "[192]\ttrain-auc:0.782584\teval-auc:0.768594\n",
      "[193]\ttrain-auc:0.782716\teval-auc:0.76856\n",
      "[194]\ttrain-auc:0.78307\teval-auc:0.768706\n",
      "[195]\ttrain-auc:0.78344\teval-auc:0.769013\n",
      "[196]\ttrain-auc:0.783701\teval-auc:0.769175\n",
      "[197]\ttrain-auc:0.783974\teval-auc:0.769309\n",
      "[198]\ttrain-auc:0.784242\teval-auc:0.769435\n",
      "[199]\ttrain-auc:0.784381\teval-auc:0.769608\n",
      "0.7696077384862317\n"
     ]
    }
   ],
   "source": [
    "%%time\n",
    "max_depth = 5\n",
    "subsample = 0.7\n",
    "colsample_bytree = 0.7\n",
    "params = {\n",
    "    'objective' : 'binary:logistic', \n",
    "    'booster' : 'gbtree',\n",
    "    'max_depth' : max_depth, \n",
    "    'subsample' : subsample,\n",
    "    'eval_metric' : 'auc', \n",
    "    'colsample_bytree' : colsample_bytree,\n",
    "    'silent' : 1, \n",
    "    'eta' : 0.1,\n",
    "    'nthread' : cores\n",
    "}\n",
    "num_boost_round = 200\n",
    "early_stopping_rounds = 10\n",
    "test_size = 0.15\n",
    "\n",
    "watchlist = [(dtrain, 'train'), (dvalid, 'eval')]\n",
    "gbm = xgb.train(params, dtrain, num_boost_round, evals = watchlist,\n",
    "                early_stopping_rounds = early_stopping_rounds, verbose_eval = True)\n",
    "test_prediction = gbm.predict(xgb.DMatrix(test_vecs_w2v))\n",
    "test_class = np.round(test_prediction)\n",
    "test_acc = accuracy_score(y_test, test_class)\n",
    "print (test_acc)\n",
    "gbm.save_model(saveClassifierPath+'XGBOost_'+train_x_by_m1_name)"
   ]
  },
  {
   "cell_type": "code",
   "execution_count": 38,
   "metadata": {},
   "outputs": [
    {
     "name": "stdout",
     "output_type": "stream",
     "text": [
      "Logistic Regression\n",
      "Random Forest\n",
      "Kernel SVM\n",
      "XGBoost\n"
     ]
    },
    {
     "data": {
      "image/png": "[encoded data removed]",
      "text/plain": [
       "<matplotlib.figure.Figure at 0x21223417550>"
      ]
     },
     "metadata": {},
     "output_type": "display_data"
    }
   ],
   "source": [
    "%%time\n",
    "Make_Roc_Curve(test_x_by_m1, test_y, classifier, classifier2, classifier3, gbm)"
   ]
  },
  {
   "cell_type": "code",
   "execution_count": null,
   "metadata": {},
   "outputs": [],
   "source": [
    "del classifier\n",
    "del classifier2\n",
    "del classifier3\n",
    "del gbm"
   ]
  },
  {
   "cell_type": "markdown",
   "metadata": {},
   "source": [
    "#### 분류모델 : Neural Network"
   ]
  },
  {
   "cell_type": "code",
   "execution_count": null,
   "metadata": {},
   "outputs": [],
   "source": [
    "model = Sequential()\n",
    "model.add(Dense(32, activation='relu', input_dim=1000))\n",
    "model.add(Dense(1, activation='sigmoid'))\n",
    "model.compile(optimizer='rmsprop',\n",
    "              loss='binary_crossentropy',\n",
    "              metrics=['accuracy'])\n",
    "history = model.fit(train_vecs_w2v, y_train, epochs=300, batch_size = 250000,  verbose=0,\n",
    "          validation_split=0.2,\n",
    "          callbacks=[TQDMNotebookCallback(show_inner=False)])\n",
    "score, acc = model.evaluate(test_vecs_w2v, y_test, verbose=0)\n",
    "print('Score: %1.4f' % score)\n",
    "print('Accuracy: %1.4f' % acc)"
   ]
  },
  {
   "cell_type": "code",
   "execution_count": null,
   "metadata": {},
   "outputs": [],
   "source": [
    "model.save(saveClassifierPath+'NeuralNetwork_1_'+train_x_by_m1_name)"
   ]
  },
  {
   "cell_type": "code",
   "execution_count": null,
   "metadata": {},
   "outputs": [],
   "source": [
    "plot_history(history)"
   ]
  },
  {
   "cell_type": "code",
   "execution_count": null,
   "metadata": {
    "scrolled": true
   },
   "outputs": [],
   "source": [
    "model = Sequential()\n",
    "model.add(Dense(128, activation='relu', input_dim=1000))\n",
    "model.add(Dense(64, activation='relu', kernel_regularizer=l2(0.001)))\n",
    "model.add(Dropout(0.1))\n",
    "model.add(Dense(32, activation='relu', kernel_regularizer=l2(0.001)))\n",
    "model.add(Dropout(0.1))\n",
    "model.add(Dense(1, activation='sigmoid'))\n",
    "model.compile(#optimizer='rmsprop',\n",
    "    optimizer='adadelta',\n",
    "              #loss='binary_crossentropy',\n",
    "    #optimizer=SGD(lr=0.2), \n",
    "    loss='binary_crossentropy',\n",
    "    metrics=['accuracy'])\n",
    "\n",
    "history = model.fit(train_vecs_w2v, y_train, epochs=300, batch_size = 250000,  verbose=0, validation_split=0.2,\n",
    "          callbacks=[TQDMNotebookCallback(show_inner=False)])\n",
    "score, acc = model.evaluate(test_vecs_w2v, y_test, verbose=0)\n",
    "print('Score: %1.4f' % score)\n",
    "print('Accuracy: %1.4f' % acc)"
   ]
  },
  {
   "cell_type": "code",
   "execution_count": null,
   "metadata": {},
   "outputs": [],
   "source": [
    "model.save(saveClassifierPath+'NeuralNetwork_2_'+train_x_by_m1_name)"
   ]
  },
  {
   "cell_type": "code",
   "execution_count": null,
   "metadata": {},
   "outputs": [],
   "source": [
    "plot_history(history)"
   ]
  },
  {
   "cell_type": "code",
   "execution_count": null,
   "metadata": {},
   "outputs": [],
   "source": [
    "del train_x_by_m1\n",
    "del train_x_by_m1_name\n",
    "del test_x_by_m1\n",
    "del test_x_by_m1_name"
   ]
  },
  {
   "cell_type": "markdown",
   "metadata": {},
   "source": [
    "#### model2\n",
    "* Doc2Vec(dm/c,d1000,n7,w5,mc5,s0.001,t12)\n",
    "* size-1000\n",
    "* epoch-20\n",
    "* window-5\n",
    "* negative-7\n",
    "* hs-0\n",
    "* dm-1\n",
    "* dm_concat-1\n",
    "* dm_mean-0"
   ]
  },
  {
   "cell_type": "code",
   "execution_count": null,
   "metadata": {},
   "outputs": [],
   "source": [
    "train_x_by_m2_name = 'train_x_Doc2Vec-dm-c-d1000-n7-w5-mc5-s0.001-t12-mecab'\n",
    "train_x_by_m2 = pickle.load(open(saveTrainPath+train_x_by_m2_name,'rb'))\n",
    "train_y = pickle.load(open(saveTrainPath+'train_senti_y_mecab_for_sentiment_analysis','rb'))"
   ]
  },
  {
   "cell_type": "code",
   "execution_count": null,
   "metadata": {},
   "outputs": [],
   "source": [
    "test_x_by_m2_name = 'test_x_Doc2Vec-dm-c-d1000-n7-w5-mc5-s0.001-t12-mecab'\n",
    "test_x_by_m2 = pickle.load(open(saveTrainPath+test_x_by_m2_name,'rb'))\n",
    "test_y = pickle.load(open(saveTrainPath+'test_senti_y_mecab_for_sentiment_analysis','rb'))"
   ]
  },
  {
   "cell_type": "code",
   "execution_count": null,
   "metadata": {},
   "outputs": [],
   "source": [
    "train_y2 = [y[0] for y in tqdm(train_y)]\n",
    "test_y2 = [y[0] for y in tqdm(test_y)]"
   ]
  },
  {
   "cell_type": "markdown",
   "metadata": {},
   "source": [
    "#### 분류 모델 : Logistic Regression"
   ]
  },
  {
   "cell_type": "code",
   "execution_count": null,
   "metadata": {},
   "outputs": [],
   "source": [
    "%%time\n",
    "classifier = LogisticRegression(random_state=1234, max_iter = 250, n_jobs=cores)\n",
    "classifier.fit(train_x_by_m2, train_y2)\n",
    "print (classifier.get_params())\n",
    "print( 'score : {}'.format(classifier.score(test_x_by_m2, test_y2)))\n",
    "print ('classification report')\n",
    "print (classification_report(test_y2, classifier.predict(test_x_by_m2)))"
   ]
  },
  {
   "cell_type": "code",
   "execution_count": null,
   "metadata": {},
   "outputs": [],
   "source": [
    "pickle.dump(classifier,open(saveClassifierPath+'LogisticRegression_'+train_x_by_m2_name, 'wb'))"
   ]
  },
  {
   "cell_type": "markdown",
   "metadata": {},
   "source": [
    "#### 분류모델 : RandomForest Classifier"
   ]
  },
  {
   "cell_type": "code",
   "execution_count": null,
   "metadata": {},
   "outputs": [],
   "source": [
    "%%time\n",
    "classifier2 = RandomForestClassifier(random_state=1234, n_estimators = 75, n_jobs=cores)\n",
    "classifier2.fit(train_x_by_m2, train_y2)\n",
    "print (classifier2.get_params())\n",
    "print( 'score : {}'.format(classifier2.score(test_x_by_m2, test_y2)))\n",
    "print ('classification report')\n",
    "print (classification_report(test_y2, classifier2.predict(test_x_by_m2)))"
   ]
  },
  {
   "cell_type": "code",
   "execution_count": null,
   "metadata": {},
   "outputs": [],
   "source": [
    "pickle.dump(classifier2,open(saveClassifierPath+'RandomForestClassifier_'+train_x_by_m2_name, 'wb'))"
   ]
  },
  {
   "cell_type": "markdown",
   "metadata": {},
   "source": [
    "#### 분류모델 : C-Support Vector Classification"
   ]
  },
  {
   "cell_type": "code",
   "execution_count": null,
   "metadata": {},
   "outputs": [],
   "source": [
    "%%time\n",
    "scaling = MinMaxScaler(feature_range=(-1, 1)).fit(train_x_by_m2)\n",
    "train_x_by_m2_2 = scaling.transform(train_x_by_m2)\n",
    "test_x_by_m2_2 = scaling.transform(test_x_by_m2)\n",
    "classifier3 =  SVC(kernel = 'linear', \n",
    "        cache_size= 1024, max_iter = 1500, verbose = True) \n",
    "classifier3.fit(train_x_by_m2_2, train_y2)\n",
    "print (classifier3.get_params())\n",
    "print( 'score : {}'.format(classifier3.score(test_x_by_m2_2, test_y2)))\n",
    "print ('classification report')\n",
    "print (classification_report(test_y2, classifier3.predict(test_x_by_m2_2)))"
   ]
  },
  {
   "cell_type": "code",
   "execution_count": null,
   "metadata": {},
   "outputs": [],
   "source": [
    "del scaling\n",
    "del train_x_by_m2_2\n",
    "del test_x_by_m2_2"
   ]
  },
  {
   "cell_type": "code",
   "execution_count": null,
   "metadata": {},
   "outputs": [],
   "source": [
    "pickle.dump(classifier3,open(saveClassifierPath+'SVC_'+train_x_by_m2_name, 'wb'))"
   ]
  },
  {
   "cell_type": "markdown",
   "metadata": {},
   "source": [
    "#### 분류모델 : XGBOOST"
   ]
  },
  {
   "cell_type": "code",
   "execution_count": null,
   "metadata": {
    "scrolled": true
   },
   "outputs": [],
   "source": [
    "%%time\n",
    "train_vecs_w2v = np.concatenate([z.reshape(1,-1) for z in tqdm(map(lambda x: x,train_x_by_m2))])\n",
    "train_vecs_w2v = scale(train_vecs_w2v)\n",
    "\n",
    "test_vecs_w2v = np.concatenate([z.reshape(1,-1) for z in tqdm(map(lambda x: x, test_x_by_m2))])\n",
    "test_vecs_w2v = scale(test_vecs_w2v)\n",
    "\n",
    "y_test = np.array(test_y)\n",
    "y_train = np.array(train_y)"
   ]
  },
  {
   "cell_type": "code",
   "execution_count": null,
   "metadata": {},
   "outputs": [],
   "source": [
    "%%time\n",
    "dtrain = xgb.DMatrix(train_vecs_w2v, y_train)\n",
    "dvalid = xgb.DMatrix(test_vecs_w2v, y_test)"
   ]
  },
  {
   "cell_type": "code",
   "execution_count": 37,
   "metadata": {
    "scrolled": true
   },
   "outputs": [
    {
     "name": "stdout",
     "output_type": "stream",
     "text": [
      "[0]\ttrain-auc:0.607793\teval-auc:0.610414\n",
      "Multiple eval metrics have been passed: 'eval-auc' will be used for early stopping.\n",
      "\n",
      "Will train until eval-auc hasn't improved in 10 rounds.\n",
      "[1]\ttrain-auc:0.620366\teval-auc:0.624268\n",
      "[2]\ttrain-auc:0.629444\teval-auc:0.634942\n",
      "[3]\ttrain-auc:0.633468\teval-auc:0.639657\n",
      "[4]\ttrain-auc:0.638111\teval-auc:0.642708\n",
      "[5]\ttrain-auc:0.641881\teval-auc:0.645733\n",
      "[6]\ttrain-auc:0.644185\teval-auc:0.648052\n",
      "[7]\ttrain-auc:0.646831\teval-auc:0.650695\n",
      "[8]\ttrain-auc:0.650333\teval-auc:0.653901\n",
      "[9]\ttrain-auc:0.653317\teval-auc:0.656875\n",
      "[10]\ttrain-auc:0.656777\teval-auc:0.660439\n",
      "[11]\ttrain-auc:0.658605\teval-auc:0.662213\n",
      "[12]\ttrain-auc:0.660999\teval-auc:0.664014\n",
      "[13]\ttrain-auc:0.663079\teval-auc:0.666033\n",
      "[14]\ttrain-auc:0.664794\teval-auc:0.667817\n",
      "[15]\ttrain-auc:0.665767\teval-auc:0.669134\n",
      "[16]\ttrain-auc:0.667282\teval-auc:0.670268\n",
      "[17]\ttrain-auc:0.669103\teval-auc:0.672211\n",
      "[18]\ttrain-auc:0.672656\teval-auc:0.675675\n",
      "[19]\ttrain-auc:0.674681\teval-auc:0.677895\n",
      "[20]\ttrain-auc:0.676836\teval-auc:0.679945\n",
      "[21]\ttrain-auc:0.678191\teval-auc:0.681112\n",
      "[22]\ttrain-auc:0.679869\teval-auc:0.682357\n",
      "[23]\ttrain-auc:0.680939\teval-auc:0.6835\n",
      "[24]\ttrain-auc:0.681924\teval-auc:0.684519\n",
      "[25]\ttrain-auc:0.683548\teval-auc:0.686314\n",
      "[26]\ttrain-auc:0.684718\teval-auc:0.687365\n",
      "[27]\ttrain-auc:0.685945\teval-auc:0.68838\n",
      "[28]\ttrain-auc:0.688061\teval-auc:0.690595\n",
      "[29]\ttrain-auc:0.68925\teval-auc:0.691607\n",
      "[30]\ttrain-auc:0.690811\teval-auc:0.693266\n",
      "[31]\ttrain-auc:0.692466\teval-auc:0.694589\n",
      "[32]\ttrain-auc:0.693668\teval-auc:0.695506\n",
      "[33]\ttrain-auc:0.695023\teval-auc:0.696833\n",
      "[34]\ttrain-auc:0.696437\teval-auc:0.698319\n",
      "[35]\ttrain-auc:0.697911\teval-auc:0.699624\n",
      "[36]\ttrain-auc:0.699426\teval-auc:0.701047\n",
      "[37]\ttrain-auc:0.700857\teval-auc:0.702295\n",
      "[38]\ttrain-auc:0.702011\teval-auc:0.703258\n",
      "[39]\ttrain-auc:0.703254\teval-auc:0.704633\n",
      "[40]\ttrain-auc:0.704207\teval-auc:0.705732\n",
      "[41]\ttrain-auc:0.705055\teval-auc:0.706439\n",
      "[42]\ttrain-auc:0.706099\teval-auc:0.707408\n",
      "[43]\ttrain-auc:0.707393\teval-auc:0.708926\n",
      "[44]\ttrain-auc:0.708637\teval-auc:0.710265\n",
      "[45]\ttrain-auc:0.709983\teval-auc:0.71172\n",
      "[46]\ttrain-auc:0.711393\teval-auc:0.71323\n",
      "[47]\ttrain-auc:0.712238\teval-auc:0.714349\n",
      "[48]\ttrain-auc:0.713343\teval-auc:0.715417\n",
      "[49]\ttrain-auc:0.714246\teval-auc:0.716041\n",
      "[50]\ttrain-auc:0.715228\teval-auc:0.717118\n",
      "[51]\ttrain-auc:0.715953\teval-auc:0.71777\n",
      "[52]\ttrain-auc:0.716908\teval-auc:0.718472\n",
      "[53]\ttrain-auc:0.718034\teval-auc:0.719608\n",
      "[54]\ttrain-auc:0.718801\teval-auc:0.720392\n",
      "[55]\ttrain-auc:0.71986\teval-auc:0.721217\n",
      "[56]\ttrain-auc:0.720877\teval-auc:0.722084\n",
      "[57]\ttrain-auc:0.722003\teval-auc:0.723298\n",
      "[58]\ttrain-auc:0.722978\teval-auc:0.724327\n",
      "[59]\ttrain-auc:0.723913\teval-auc:0.725202\n",
      "[60]\ttrain-auc:0.72461\teval-auc:0.725687\n",
      "[61]\ttrain-auc:0.725636\teval-auc:0.726521\n",
      "[62]\ttrain-auc:0.726308\teval-auc:0.727052\n",
      "[63]\ttrain-auc:0.727361\teval-auc:0.72783\n",
      "[64]\ttrain-auc:0.728179\teval-auc:0.728483\n",
      "[65]\ttrain-auc:0.729136\teval-auc:0.729327\n",
      "[66]\ttrain-auc:0.729809\teval-auc:0.729834\n",
      "[67]\ttrain-auc:0.730581\teval-auc:0.730344\n",
      "[68]\ttrain-auc:0.731368\teval-auc:0.731317\n",
      "[69]\ttrain-auc:0.731967\teval-auc:0.731797\n",
      "[70]\ttrain-auc:0.732694\teval-auc:0.732483\n",
      "[71]\ttrain-auc:0.733425\teval-auc:0.733282\n",
      "[72]\ttrain-auc:0.734181\teval-auc:0.733809\n",
      "[73]\ttrain-auc:0.734923\teval-auc:0.734363\n",
      "[74]\ttrain-auc:0.735605\teval-auc:0.73498\n",
      "[75]\ttrain-auc:0.736217\teval-auc:0.735674\n",
      "[76]\ttrain-auc:0.736913\teval-auc:0.736122\n",
      "[77]\ttrain-auc:0.737549\teval-auc:0.736549\n",
      "[78]\ttrain-auc:0.738264\teval-auc:0.737213\n",
      "[79]\ttrain-auc:0.738991\teval-auc:0.737955\n",
      "[80]\ttrain-auc:0.739405\teval-auc:0.738465\n",
      "[81]\ttrain-auc:0.740085\teval-auc:0.739092\n",
      "[82]\ttrain-auc:0.740861\teval-auc:0.73951\n",
      "[83]\ttrain-auc:0.741534\teval-auc:0.74001\n",
      "[84]\ttrain-auc:0.74228\teval-auc:0.740689\n",
      "[85]\ttrain-auc:0.742896\teval-auc:0.74117\n",
      "[86]\ttrain-auc:0.743528\teval-auc:0.741602\n",
      "[87]\ttrain-auc:0.744027\teval-auc:0.742008\n",
      "[88]\ttrain-auc:0.744514\teval-auc:0.742386\n",
      "[89]\ttrain-auc:0.745046\teval-auc:0.74289\n",
      "[90]\ttrain-auc:0.745532\teval-auc:0.74325\n",
      "[91]\ttrain-auc:0.746138\teval-auc:0.743697\n",
      "[92]\ttrain-auc:0.746696\teval-auc:0.744109\n",
      "[93]\ttrain-auc:0.747261\teval-auc:0.744433\n",
      "[94]\ttrain-auc:0.747833\teval-auc:0.744745\n",
      "[95]\ttrain-auc:0.748295\teval-auc:0.745205\n",
      "[96]\ttrain-auc:0.748669\teval-auc:0.745486\n",
      "[97]\ttrain-auc:0.749274\teval-auc:0.745924\n",
      "[98]\ttrain-auc:0.749778\teval-auc:0.746092\n",
      "[99]\ttrain-auc:0.750253\teval-auc:0.746453\n",
      "[100]\ttrain-auc:0.750735\teval-auc:0.746744\n",
      "[101]\ttrain-auc:0.751301\teval-auc:0.747208\n",
      "[102]\ttrain-auc:0.751753\teval-auc:0.747457\n",
      "[103]\ttrain-auc:0.752132\teval-auc:0.747863\n",
      "[104]\ttrain-auc:0.752577\teval-auc:0.748209\n",
      "[105]\ttrain-auc:0.75295\teval-auc:0.748495\n",
      "[106]\ttrain-auc:0.753432\teval-auc:0.748808\n",
      "[107]\ttrain-auc:0.753825\teval-auc:0.749203\n",
      "[108]\ttrain-auc:0.754221\teval-auc:0.749446\n",
      "[109]\ttrain-auc:0.754782\teval-auc:0.749679\n",
      "[110]\ttrain-auc:0.755231\teval-auc:0.750051\n",
      "[111]\ttrain-auc:0.75552\teval-auc:0.750323\n",
      "[112]\ttrain-auc:0.755944\teval-auc:0.750677\n",
      "[113]\ttrain-auc:0.756362\teval-auc:0.751052\n",
      "[114]\ttrain-auc:0.756861\teval-auc:0.751367\n",
      "[115]\ttrain-auc:0.757269\teval-auc:0.751799\n",
      "[116]\ttrain-auc:0.757753\teval-auc:0.752163\n",
      "[117]\ttrain-auc:0.758141\teval-auc:0.752498\n",
      "[118]\ttrain-auc:0.758487\teval-auc:0.752716\n",
      "[119]\ttrain-auc:0.758842\teval-auc:0.753062\n",
      "[120]\ttrain-auc:0.759362\teval-auc:0.753363\n",
      "[121]\ttrain-auc:0.759929\teval-auc:0.753776\n",
      "[122]\ttrain-auc:0.760318\teval-auc:0.753884\n",
      "[123]\ttrain-auc:0.760634\teval-auc:0.754169\n",
      "[124]\ttrain-auc:0.761158\teval-auc:0.754518\n",
      "[125]\ttrain-auc:0.761525\teval-auc:0.754768\n",
      "[126]\ttrain-auc:0.761934\teval-auc:0.755075\n",
      "[127]\ttrain-auc:0.762316\teval-auc:0.755391\n",
      "[128]\ttrain-auc:0.762706\teval-auc:0.755618\n",
      "[129]\ttrain-auc:0.762994\teval-auc:0.755704\n",
      "[130]\ttrain-auc:0.763446\teval-auc:0.755969\n",
      "[131]\ttrain-auc:0.763834\teval-auc:0.756326\n",
      "[132]\ttrain-auc:0.764134\teval-auc:0.756484\n",
      "[133]\ttrain-auc:0.764494\teval-auc:0.756753\n",
      "[134]\ttrain-auc:0.764994\teval-auc:0.757012\n",
      "[135]\ttrain-auc:0.765419\teval-auc:0.757238\n",
      "[136]\ttrain-auc:0.765846\teval-auc:0.75751\n",
      "[137]\ttrain-auc:0.766205\teval-auc:0.75772\n",
      "[138]\ttrain-auc:0.766551\teval-auc:0.757978\n",
      "[139]\ttrain-auc:0.767078\teval-auc:0.758308\n",
      "[140]\ttrain-auc:0.767562\teval-auc:0.758759\n",
      "[141]\ttrain-auc:0.767791\teval-auc:0.758883\n",
      "[142]\ttrain-auc:0.768123\teval-auc:0.759045\n",
      "[143]\ttrain-auc:0.768376\teval-auc:0.759171\n",
      "[144]\ttrain-auc:0.768736\teval-auc:0.759449\n",
      "[145]\ttrain-auc:0.768975\teval-auc:0.759484\n",
      "[146]\ttrain-auc:0.769212\teval-auc:0.759729\n",
      "[147]\ttrain-auc:0.76948\teval-auc:0.759868\n",
      "[148]\ttrain-auc:0.769822\teval-auc:0.760112\n",
      "[149]\ttrain-auc:0.770029\teval-auc:0.760308\n",
      "[150]\ttrain-auc:0.770347\teval-auc:0.760521\n",
      "[151]\ttrain-auc:0.770661\teval-auc:0.760683\n",
      "[152]\ttrain-auc:0.770938\teval-auc:0.760912\n",
      "[153]\ttrain-auc:0.77131\teval-auc:0.76114\n",
      "[154]\ttrain-auc:0.771712\teval-auc:0.76144\n",
      "[155]\ttrain-auc:0.77206\teval-auc:0.761646\n",
      "[156]\ttrain-auc:0.77243\teval-auc:0.761925\n",
      "[157]\ttrain-auc:0.772701\teval-auc:0.762104\n",
      "[158]\ttrain-auc:0.772997\teval-auc:0.762285\n",
      "[159]\ttrain-auc:0.773244\teval-auc:0.762414\n",
      "[160]\ttrain-auc:0.773509\teval-auc:0.762595\n",
      "[161]\ttrain-auc:0.773792\teval-auc:0.762813\n",
      "[162]\ttrain-auc:0.77411\teval-auc:0.762997\n",
      "[163]\ttrain-auc:0.774478\teval-auc:0.763239\n",
      "[164]\ttrain-auc:0.774658\teval-auc:0.763412\n",
      "[165]\ttrain-auc:0.774951\teval-auc:0.763754\n",
      "[166]\ttrain-auc:0.775177\teval-auc:0.76387\n",
      "[167]\ttrain-auc:0.77551\teval-auc:0.764214\n",
      "[168]\ttrain-auc:0.775828\teval-auc:0.764403\n",
      "[169]\ttrain-auc:0.776071\teval-auc:0.764493\n",
      "[170]\ttrain-auc:0.776393\teval-auc:0.764685\n",
      "[171]\ttrain-auc:0.776645\teval-auc:0.764869\n",
      "[172]\ttrain-auc:0.77695\teval-auc:0.765011\n",
      "[173]\ttrain-auc:0.777111\teval-auc:0.765105\n",
      "[174]\ttrain-auc:0.777461\teval-auc:0.76528\n",
      "[175]\ttrain-auc:0.777687\teval-auc:0.765428\n",
      "[176]\ttrain-auc:0.777944\teval-auc:0.765584\n",
      "[177]\ttrain-auc:0.77833\teval-auc:0.765707\n",
      "[178]\ttrain-auc:0.778579\teval-auc:0.765953\n",
      "[179]\ttrain-auc:0.778779\teval-auc:0.766089\n",
      "[180]\ttrain-auc:0.77918\teval-auc:0.766278\n",
      "[181]\ttrain-auc:0.77936\teval-auc:0.766338\n",
      "[182]\ttrain-auc:0.779702\teval-auc:0.766564\n",
      "[183]\ttrain-auc:0.779944\teval-auc:0.766716\n",
      "[184]\ttrain-auc:0.780149\teval-auc:0.766891\n",
      "[185]\ttrain-auc:0.780479\teval-auc:0.76715\n",
      "[186]\ttrain-auc:0.780736\teval-auc:0.76731\n",
      "[187]\ttrain-auc:0.78109\teval-auc:0.767665\n",
      "[188]\ttrain-auc:0.78136\teval-auc:0.767835\n",
      "[189]\ttrain-auc:0.781645\teval-auc:0.767934\n",
      "[190]\ttrain-auc:0.781932\teval-auc:0.768031\n"
     ]
    },
    {
     "name": "stdout",
     "output_type": "stream",
     "text": [
      "[191]\ttrain-auc:0.782306\teval-auc:0.768404\n",
      "[192]\ttrain-auc:0.782584\teval-auc:0.768594\n",
      "[193]\ttrain-auc:0.782716\teval-auc:0.76856\n",
      "[194]\ttrain-auc:0.78307\teval-auc:0.768706\n",
      "[195]\ttrain-auc:0.78344\teval-auc:0.769013\n",
      "[196]\ttrain-auc:0.783701\teval-auc:0.769175\n",
      "[197]\ttrain-auc:0.783974\teval-auc:0.769309\n",
      "[198]\ttrain-auc:0.784242\teval-auc:0.769435\n",
      "[199]\ttrain-auc:0.784381\teval-auc:0.769608\n",
      "0.7696077384862317\n"
     ]
    }
   ],
   "source": [
    "%%time\n",
    "max_depth = 5\n",
    "subsample = 0.7\n",
    "colsample_bytree = 0.7\n",
    "params = {\n",
    "    'objective' : 'binary:logistic', \n",
    "    'booster' : 'gbtree',\n",
    "    'max_depth' : max_depth, \n",
    "    'subsample' : subsample,\n",
    "    'eval_metric' : 'auc', \n",
    "    'colsample_bytree' : colsample_bytree,\n",
    "    'silent' : 1, \n",
    "    'eta' : 0.1,\n",
    "    'nthread' : cores\n",
    "}\n",
    "num_boost_round = 200\n",
    "early_stopping_rounds = 10\n",
    "test_size = 0.15\n",
    "\n",
    "watchlist = [(dtrain, 'train'), (dvalid, 'eval')]\n",
    "gbm = xgb.train(params, dtrain, num_boost_round, evals = watchlist,\n",
    "                early_stopping_rounds = early_stopping_rounds, verbose_eval = True)\n",
    "test_prediction = gbm.predict(xgb.DMatrix(test_vecs_w2v))\n",
    "test_class = np.round(test_prediction)\n",
    "test_acc = accuracy_score(y_test, test_class)\n",
    "print (test_acc)\n",
    "gbm.save_model(saveClassifierPath+'XGBOost_'+train_x_by_m1_name)"
   ]
  },
  {
   "cell_type": "code",
   "execution_count": 38,
   "metadata": {},
   "outputs": [
    {
     "name": "stdout",
     "output_type": "stream",
     "text": [
      "Logistic Regression\n",
      "Random Forest\n",
      "Kernel SVM\n",
      "XGBoost\n"
     ]
    },
    {
     "data": {
      "image/png": "[encoded data removed]",
      "text/plain": [
       "<matplotlib.figure.Figure at 0x21223417550>"
      ]
     },
     "metadata": {},
     "output_type": "display_data"
    }
   ],
   "source": [
    "%%time\n",
    "Make_Roc_Curve(test_x_by_m1, test_y, classifier, classifier2, classifier3, gbm)"
   ]
  },
  {
   "cell_type": "code",
   "execution_count": null,
   "metadata": {},
   "outputs": [],
   "source": [
    "del classifier\n",
    "del classifier2\n",
    "del classifier3\n",
    "del gbm"
   ]
  },
  {
   "cell_type": "markdown",
   "metadata": {},
   "source": [
    "#### 분류모델 : Neural Network"
   ]
  },
  {
   "cell_type": "code",
   "execution_count": null,
   "metadata": {},
   "outputs": [],
   "source": [
    "model = Sequential()\n",
    "model.add(Dense(32, activation='relu', input_dim=1000))\n",
    "model.add(Dense(1, activation='sigmoid'))\n",
    "model.compile(optimizer='rmsprop',\n",
    "              loss='binary_crossentropy',\n",
    "              metrics=['accuracy'])\n",
    "history = model.fit(train_vecs_w2v, y_train, epochs=300, batch_size = 250000,  verbose=0,\n",
    "          validation_split=0.2,\n",
    "          callbacks=[TQDMNotebookCallback(show_inner=False)])\n",
    "score, acc = model.evaluate(test_vecs_w2v, y_test, verbose=0)\n",
    "print('Score: %1.4f' % score)\n",
    "print('Accuracy: %1.4f' % acc)"
   ]
  },
  {
   "cell_type": "code",
   "execution_count": null,
   "metadata": {},
   "outputs": [],
   "source": [
    "model.save(saveClassifierPath+'NeuralNetwork_1_'+train_x_by_m2_name)"
   ]
  },
  {
   "cell_type": "code",
   "execution_count": null,
   "metadata": {},
   "outputs": [],
   "source": [
    "plot_history(history)"
   ]
  },
  {
   "cell_type": "code",
   "execution_count": null,
   "metadata": {
    "scrolled": true
   },
   "outputs": [],
   "source": [
    "model = Sequential()\n",
    "model.add(Dense(128, activation='relu', input_dim=1000))\n",
    "model.add(Dense(64, activation='relu', kernel_regularizer=l2(0.001)))\n",
    "model.add(Dropout(0.1))\n",
    "model.add(Dense(32, activation='relu', kernel_regularizer=l2(0.001)))\n",
    "model.add(Dropout(0.1))\n",
    "model.add(Dense(1, activation='sigmoid'))\n",
    "model.compile(#optimizer='rmsprop',\n",
    "    optimizer='adadelta',\n",
    "              #loss='binary_crossentropy',\n",
    "    #optimizer=SGD(lr=0.2), \n",
    "    loss='binary_crossentropy',\n",
    "    metrics=['accuracy'])\n",
    "\n",
    "history = model.fit(train_vecs_w2v, y_train, epochs=300, batch_size = 250000,  verbose=0, validation_split=0.2,\n",
    "          callbacks=[TQDMNotebookCallback(show_inner=False)])\n",
    "score, acc = model.evaluate(test_vecs_w2v, y_test, verbose=0)\n",
    "print('Score: %1.4f' % score)\n",
    "print('Accuracy: %1.4f' % acc)"
   ]
  },
  {
   "cell_type": "code",
   "execution_count": null,
   "metadata": {},
   "outputs": [],
   "source": [
    "model.save(saveClassifierPath+'NeuralNetwork_2_'+train_x_by_m2_name)"
   ]
  },
  {
   "cell_type": "code",
   "execution_count": null,
   "metadata": {},
   "outputs": [],
   "source": [
    "plot_history(history)"
   ]
  },
  {
   "cell_type": "code",
   "execution_count": null,
   "metadata": {},
   "outputs": [],
   "source": [
    "del train_x_by_m2\n",
    "del train_x_by_m2_name\n",
    "del test_x_by_m2\n",
    "del test_x_by_m2_name\n"
   ]
  },
  {
   "cell_type": "markdown",
   "metadata": {},
   "source": [
    "#### model3\n",
    "* Doc2Vec(dbow,d1000,n7,mc5,s0.001,t12)\n",
    "* size-1000\n",
    "* epoch-20\n",
    "* window-None\n",
    "* negative-7\n",
    "* hs-0\n",
    "* dm-0\n",
    "* dm_concat-0\n",
    "* dm_mean-0"
   ]
  },
  {
   "cell_type": "code",
   "execution_count": null,
   "metadata": {},
   "outputs": [],
   "source": [
    "train_x_by_m3_name = 'train_x_Doc2Vec-dbow-d1000-n7-mc5-s0.001-t12-mecab'\n",
    "train_x_by_m3 = pickle.load(open(saveTrainPath+train_x_by_m3_name,'rb'))\n",
    "train_y = pickle.load(open(saveTrainPath+'train_senti_y_mecab_for_sentiment_analysis','rb'))"
   ]
  },
  {
   "cell_type": "code",
   "execution_count": null,
   "metadata": {},
   "outputs": [],
   "source": [
    "test_x_by_m3_name = 'test_x_Doc2Vec-dbow-d1000-n7-mc5-s0.001-t12-mecab'\n",
    "test_x_by_m3 = pickle.load(open(saveTrainPath+test_x_by_m3_name,'rb'))\n",
    "test_y = pickle.load(open(saveTrainPath+'test_senti_y_mecab_for_sentiment_analysis','rb'))"
   ]
  },
  {
   "cell_type": "markdown",
   "metadata": {},
   "source": [
    "#### 분류 모델 : Logistic Regression"
   ]
  },
  {
   "cell_type": "code",
   "execution_count": null,
   "metadata": {},
   "outputs": [],
   "source": [
    "%%time\n",
    "classifier = LogisticRegression(random_state=1234, max_iter = 250, n_jobs=cores)\n",
    "classifier.fit(train_x_by_m3, train_y)\n",
    "print (classifier.get_params())\n",
    "print( 'score : {}'.format(classifier.score(test_x_by_m3, test_y)))\n",
    "print ('classification report')\n",
    "print (classification_report(test_y, classifier.predict(test_x_by_m3)))"
   ]
  },
  {
   "cell_type": "code",
   "execution_count": null,
   "metadata": {},
   "outputs": [],
   "source": [
    "pickle.dump(classifier,open(saveClassifierPath+'LogisticRegression_'+train_x_by_m3_name, 'wb'))"
   ]
  },
  {
   "cell_type": "markdown",
   "metadata": {},
   "source": [
    "#### 분류모델 : RandomForest Classifier"
   ]
  },
  {
   "cell_type": "code",
   "execution_count": null,
   "metadata": {},
   "outputs": [],
   "source": [
    "%%time\n",
    "classifier2 = RandomForestClassifier(random_state=1234, n_estimators = 75, n_jobs=cores)\n",
    "classifier2.fit(train_x_by_m3, train_y)\n",
    "print (classifier2.get_params())\n",
    "print( 'score : {}'.format(classifier2.score(test_x_by_m3, test_y)))\n",
    "print ('classification report')\n",
    "print (classification_report(test_y, classifier2.predict(test_x_by_m3)))"
   ]
  },
  {
   "cell_type": "code",
   "execution_count": null,
   "metadata": {},
   "outputs": [],
   "source": [
    "pickle.dump(classifier2,open(saveClassifierPath+'RandomForestClassifier_'+train_x_by_m3_name, 'wb'))"
   ]
  },
  {
   "cell_type": "markdown",
   "metadata": {},
   "source": [
    "#### 분류모델 : C-Support Vector Classification"
   ]
  },
  {
   "cell_type": "code",
   "execution_count": null,
   "metadata": {},
   "outputs": [],
   "source": [
    "%%time\n",
    "scaling = MinMaxScaler(feature_range=(-1, 1)).fit(train_x_by_m3)\n",
    "train_x_by_m3_2 = scaling.transform(train_x_by_m3)\n",
    "test_x_by_m3_2 = scaling.transform(test_x_by_m3)\n",
    "classifier3 =  SVC(kernel = 'linear', \n",
    "        cache_size= 1024, max_iter = 1500, verbose = True) \n",
    "classifier3.fit(train_x_by_m3_2, train_y)\n",
    "print (classifier3.get_params())\n",
    "print( 'score : {}'.format(classifier3.score(test_x_by_m3_2, test_y)))\n",
    "print ('classification report')\n",
    "print (classification_report(test_y, classifier3.predict(test_x_by_m3_2)))"
   ]
  },
  {
   "cell_type": "code",
   "execution_count": null,
   "metadata": {},
   "outputs": [],
   "source": [
    "del scaling\n",
    "del train_x_by_m3_2\n",
    "del test_x_by_m3_2"
   ]
  },
  {
   "cell_type": "code",
   "execution_count": null,
   "metadata": {},
   "outputs": [],
   "source": [
    "pickle.dump(classifier3,open(saveClassifierPath+'SVC_'+train_x_by_m3_name, 'wb'))"
   ]
  },
  {
   "cell_type": "markdown",
   "metadata": {},
   "source": [
    "#### 분류모델 : XGBOOST"
   ]
  },
  {
   "cell_type": "code",
   "execution_count": null,
   "metadata": {
    "scrolled": true
   },
   "outputs": [],
   "source": [
    "%%time\n",
    "train_vecs_w2v = np.concatenate([z.reshape(1,-1) for z in tqdm(map(lambda x: x,train_x_by_m3))])\n",
    "train_vecs_w2v = scale(train_vecs_w2v)\n",
    "\n",
    "test_vecs_w2v = np.concatenate([z.reshape(1,-1) for z in tqdm(map(lambda x: x, test_x_by_m3))])\n",
    "test_vecs_w2v = scale(test_vecs_w2v)\n",
    "\n",
    "y_test = np.array(test_y)\n",
    "y_train = np.array(train_y)"
   ]
  },
  {
   "cell_type": "code",
   "execution_count": null,
   "metadata": {},
   "outputs": [],
   "source": [
    "%%time\n",
    "dtrain = xgb.DMatrix(train_vecs_w2v, y_train)\n",
    "dvalid = xgb.DMatrix(test_vecs_w2v, y_test)"
   ]
  },
  {
   "cell_type": "code",
   "execution_count": 37,
   "metadata": {
    "scrolled": true
   },
   "outputs": [
    {
     "name": "stdout",
     "output_type": "stream",
     "text": [
      "[0]\ttrain-auc:0.607793\teval-auc:0.610414\n",
      "Multiple eval metrics have been passed: 'eval-auc' will be used for early stopping.\n",
      "\n",
      "Will train until eval-auc hasn't improved in 10 rounds.\n",
      "[1]\ttrain-auc:0.620366\teval-auc:0.624268\n",
      "[2]\ttrain-auc:0.629444\teval-auc:0.634942\n",
      "[3]\ttrain-auc:0.633468\teval-auc:0.639657\n",
      "[4]\ttrain-auc:0.638111\teval-auc:0.642708\n",
      "[5]\ttrain-auc:0.641881\teval-auc:0.645733\n",
      "[6]\ttrain-auc:0.644185\teval-auc:0.648052\n",
      "[7]\ttrain-auc:0.646831\teval-auc:0.650695\n",
      "[8]\ttrain-auc:0.650333\teval-auc:0.653901\n",
      "[9]\ttrain-auc:0.653317\teval-auc:0.656875\n",
      "[10]\ttrain-auc:0.656777\teval-auc:0.660439\n",
      "[11]\ttrain-auc:0.658605\teval-auc:0.662213\n",
      "[12]\ttrain-auc:0.660999\teval-auc:0.664014\n",
      "[13]\ttrain-auc:0.663079\teval-auc:0.666033\n",
      "[14]\ttrain-auc:0.664794\teval-auc:0.667817\n",
      "[15]\ttrain-auc:0.665767\teval-auc:0.669134\n",
      "[16]\ttrain-auc:0.667282\teval-auc:0.670268\n",
      "[17]\ttrain-auc:0.669103\teval-auc:0.672211\n",
      "[18]\ttrain-auc:0.672656\teval-auc:0.675675\n",
      "[19]\ttrain-auc:0.674681\teval-auc:0.677895\n",
      "[20]\ttrain-auc:0.676836\teval-auc:0.679945\n",
      "[21]\ttrain-auc:0.678191\teval-auc:0.681112\n",
      "[22]\ttrain-auc:0.679869\teval-auc:0.682357\n",
      "[23]\ttrain-auc:0.680939\teval-auc:0.6835\n",
      "[24]\ttrain-auc:0.681924\teval-auc:0.684519\n",
      "[25]\ttrain-auc:0.683548\teval-auc:0.686314\n",
      "[26]\ttrain-auc:0.684718\teval-auc:0.687365\n",
      "[27]\ttrain-auc:0.685945\teval-auc:0.68838\n",
      "[28]\ttrain-auc:0.688061\teval-auc:0.690595\n",
      "[29]\ttrain-auc:0.68925\teval-auc:0.691607\n",
      "[30]\ttrain-auc:0.690811\teval-auc:0.693266\n",
      "[31]\ttrain-auc:0.692466\teval-auc:0.694589\n",
      "[32]\ttrain-auc:0.693668\teval-auc:0.695506\n",
      "[33]\ttrain-auc:0.695023\teval-auc:0.696833\n",
      "[34]\ttrain-auc:0.696437\teval-auc:0.698319\n",
      "[35]\ttrain-auc:0.697911\teval-auc:0.699624\n",
      "[36]\ttrain-auc:0.699426\teval-auc:0.701047\n",
      "[37]\ttrain-auc:0.700857\teval-auc:0.702295\n",
      "[38]\ttrain-auc:0.702011\teval-auc:0.703258\n",
      "[39]\ttrain-auc:0.703254\teval-auc:0.704633\n",
      "[40]\ttrain-auc:0.704207\teval-auc:0.705732\n",
      "[41]\ttrain-auc:0.705055\teval-auc:0.706439\n",
      "[42]\ttrain-auc:0.706099\teval-auc:0.707408\n",
      "[43]\ttrain-auc:0.707393\teval-auc:0.708926\n",
      "[44]\ttrain-auc:0.708637\teval-auc:0.710265\n",
      "[45]\ttrain-auc:0.709983\teval-auc:0.71172\n",
      "[46]\ttrain-auc:0.711393\teval-auc:0.71323\n",
      "[47]\ttrain-auc:0.712238\teval-auc:0.714349\n",
      "[48]\ttrain-auc:0.713343\teval-auc:0.715417\n",
      "[49]\ttrain-auc:0.714246\teval-auc:0.716041\n",
      "[50]\ttrain-auc:0.715228\teval-auc:0.717118\n",
      "[51]\ttrain-auc:0.715953\teval-auc:0.71777\n",
      "[52]\ttrain-auc:0.716908\teval-auc:0.718472\n",
      "[53]\ttrain-auc:0.718034\teval-auc:0.719608\n",
      "[54]\ttrain-auc:0.718801\teval-auc:0.720392\n",
      "[55]\ttrain-auc:0.71986\teval-auc:0.721217\n",
      "[56]\ttrain-auc:0.720877\teval-auc:0.722084\n",
      "[57]\ttrain-auc:0.722003\teval-auc:0.723298\n",
      "[58]\ttrain-auc:0.722978\teval-auc:0.724327\n",
      "[59]\ttrain-auc:0.723913\teval-auc:0.725202\n",
      "[60]\ttrain-auc:0.72461\teval-auc:0.725687\n",
      "[61]\ttrain-auc:0.725636\teval-auc:0.726521\n",
      "[62]\ttrain-auc:0.726308\teval-auc:0.727052\n",
      "[63]\ttrain-auc:0.727361\teval-auc:0.72783\n",
      "[64]\ttrain-auc:0.728179\teval-auc:0.728483\n",
      "[65]\ttrain-auc:0.729136\teval-auc:0.729327\n",
      "[66]\ttrain-auc:0.729809\teval-auc:0.729834\n",
      "[67]\ttrain-auc:0.730581\teval-auc:0.730344\n",
      "[68]\ttrain-auc:0.731368\teval-auc:0.731317\n",
      "[69]\ttrain-auc:0.731967\teval-auc:0.731797\n",
      "[70]\ttrain-auc:0.732694\teval-auc:0.732483\n",
      "[71]\ttrain-auc:0.733425\teval-auc:0.733282\n",
      "[72]\ttrain-auc:0.734181\teval-auc:0.733809\n",
      "[73]\ttrain-auc:0.734923\teval-auc:0.734363\n",
      "[74]\ttrain-auc:0.735605\teval-auc:0.73498\n",
      "[75]\ttrain-auc:0.736217\teval-auc:0.735674\n",
      "[76]\ttrain-auc:0.736913\teval-auc:0.736122\n",
      "[77]\ttrain-auc:0.737549\teval-auc:0.736549\n",
      "[78]\ttrain-auc:0.738264\teval-auc:0.737213\n",
      "[79]\ttrain-auc:0.738991\teval-auc:0.737955\n",
      "[80]\ttrain-auc:0.739405\teval-auc:0.738465\n",
      "[81]\ttrain-auc:0.740085\teval-auc:0.739092\n",
      "[82]\ttrain-auc:0.740861\teval-auc:0.73951\n",
      "[83]\ttrain-auc:0.741534\teval-auc:0.74001\n",
      "[84]\ttrain-auc:0.74228\teval-auc:0.740689\n",
      "[85]\ttrain-auc:0.742896\teval-auc:0.74117\n",
      "[86]\ttrain-auc:0.743528\teval-auc:0.741602\n",
      "[87]\ttrain-auc:0.744027\teval-auc:0.742008\n",
      "[88]\ttrain-auc:0.744514\teval-auc:0.742386\n",
      "[89]\ttrain-auc:0.745046\teval-auc:0.74289\n",
      "[90]\ttrain-auc:0.745532\teval-auc:0.74325\n",
      "[91]\ttrain-auc:0.746138\teval-auc:0.743697\n",
      "[92]\ttrain-auc:0.746696\teval-auc:0.744109\n",
      "[93]\ttrain-auc:0.747261\teval-auc:0.744433\n",
      "[94]\ttrain-auc:0.747833\teval-auc:0.744745\n",
      "[95]\ttrain-auc:0.748295\teval-auc:0.745205\n",
      "[96]\ttrain-auc:0.748669\teval-auc:0.745486\n",
      "[97]\ttrain-auc:0.749274\teval-auc:0.745924\n",
      "[98]\ttrain-auc:0.749778\teval-auc:0.746092\n",
      "[99]\ttrain-auc:0.750253\teval-auc:0.746453\n",
      "[100]\ttrain-auc:0.750735\teval-auc:0.746744\n",
      "[101]\ttrain-auc:0.751301\teval-auc:0.747208\n",
      "[102]\ttrain-auc:0.751753\teval-auc:0.747457\n",
      "[103]\ttrain-auc:0.752132\teval-auc:0.747863\n",
      "[104]\ttrain-auc:0.752577\teval-auc:0.748209\n",
      "[105]\ttrain-auc:0.75295\teval-auc:0.748495\n",
      "[106]\ttrain-auc:0.753432\teval-auc:0.748808\n",
      "[107]\ttrain-auc:0.753825\teval-auc:0.749203\n",
      "[108]\ttrain-auc:0.754221\teval-auc:0.749446\n",
      "[109]\ttrain-auc:0.754782\teval-auc:0.749679\n",
      "[110]\ttrain-auc:0.755231\teval-auc:0.750051\n",
      "[111]\ttrain-auc:0.75552\teval-auc:0.750323\n",
      "[112]\ttrain-auc:0.755944\teval-auc:0.750677\n",
      "[113]\ttrain-auc:0.756362\teval-auc:0.751052\n",
      "[114]\ttrain-auc:0.756861\teval-auc:0.751367\n",
      "[115]\ttrain-auc:0.757269\teval-auc:0.751799\n",
      "[116]\ttrain-auc:0.757753\teval-auc:0.752163\n",
      "[117]\ttrain-auc:0.758141\teval-auc:0.752498\n",
      "[118]\ttrain-auc:0.758487\teval-auc:0.752716\n",
      "[119]\ttrain-auc:0.758842\teval-auc:0.753062\n",
      "[120]\ttrain-auc:0.759362\teval-auc:0.753363\n",
      "[121]\ttrain-auc:0.759929\teval-auc:0.753776\n",
      "[122]\ttrain-auc:0.760318\teval-auc:0.753884\n",
      "[123]\ttrain-auc:0.760634\teval-auc:0.754169\n",
      "[124]\ttrain-auc:0.761158\teval-auc:0.754518\n",
      "[125]\ttrain-auc:0.761525\teval-auc:0.754768\n",
      "[126]\ttrain-auc:0.761934\teval-auc:0.755075\n",
      "[127]\ttrain-auc:0.762316\teval-auc:0.755391\n",
      "[128]\ttrain-auc:0.762706\teval-auc:0.755618\n",
      "[129]\ttrain-auc:0.762994\teval-auc:0.755704\n",
      "[130]\ttrain-auc:0.763446\teval-auc:0.755969\n",
      "[131]\ttrain-auc:0.763834\teval-auc:0.756326\n",
      "[132]\ttrain-auc:0.764134\teval-auc:0.756484\n",
      "[133]\ttrain-auc:0.764494\teval-auc:0.756753\n",
      "[134]\ttrain-auc:0.764994\teval-auc:0.757012\n",
      "[135]\ttrain-auc:0.765419\teval-auc:0.757238\n",
      "[136]\ttrain-auc:0.765846\teval-auc:0.75751\n",
      "[137]\ttrain-auc:0.766205\teval-auc:0.75772\n",
      "[138]\ttrain-auc:0.766551\teval-auc:0.757978\n",
      "[139]\ttrain-auc:0.767078\teval-auc:0.758308\n",
      "[140]\ttrain-auc:0.767562\teval-auc:0.758759\n",
      "[141]\ttrain-auc:0.767791\teval-auc:0.758883\n",
      "[142]\ttrain-auc:0.768123\teval-auc:0.759045\n",
      "[143]\ttrain-auc:0.768376\teval-auc:0.759171\n",
      "[144]\ttrain-auc:0.768736\teval-auc:0.759449\n",
      "[145]\ttrain-auc:0.768975\teval-auc:0.759484\n",
      "[146]\ttrain-auc:0.769212\teval-auc:0.759729\n",
      "[147]\ttrain-auc:0.76948\teval-auc:0.759868\n",
      "[148]\ttrain-auc:0.769822\teval-auc:0.760112\n",
      "[149]\ttrain-auc:0.770029\teval-auc:0.760308\n",
      "[150]\ttrain-auc:0.770347\teval-auc:0.760521\n",
      "[151]\ttrain-auc:0.770661\teval-auc:0.760683\n",
      "[152]\ttrain-auc:0.770938\teval-auc:0.760912\n",
      "[153]\ttrain-auc:0.77131\teval-auc:0.76114\n",
      "[154]\ttrain-auc:0.771712\teval-auc:0.76144\n",
      "[155]\ttrain-auc:0.77206\teval-auc:0.761646\n",
      "[156]\ttrain-auc:0.77243\teval-auc:0.761925\n",
      "[157]\ttrain-auc:0.772701\teval-auc:0.762104\n",
      "[158]\ttrain-auc:0.772997\teval-auc:0.762285\n",
      "[159]\ttrain-auc:0.773244\teval-auc:0.762414\n",
      "[160]\ttrain-auc:0.773509\teval-auc:0.762595\n",
      "[161]\ttrain-auc:0.773792\teval-auc:0.762813\n",
      "[162]\ttrain-auc:0.77411\teval-auc:0.762997\n",
      "[163]\ttrain-auc:0.774478\teval-auc:0.763239\n",
      "[164]\ttrain-auc:0.774658\teval-auc:0.763412\n",
      "[165]\ttrain-auc:0.774951\teval-auc:0.763754\n",
      "[166]\ttrain-auc:0.775177\teval-auc:0.76387\n",
      "[167]\ttrain-auc:0.77551\teval-auc:0.764214\n",
      "[168]\ttrain-auc:0.775828\teval-auc:0.764403\n",
      "[169]\ttrain-auc:0.776071\teval-auc:0.764493\n",
      "[170]\ttrain-auc:0.776393\teval-auc:0.764685\n",
      "[171]\ttrain-auc:0.776645\teval-auc:0.764869\n",
      "[172]\ttrain-auc:0.77695\teval-auc:0.765011\n",
      "[173]\ttrain-auc:0.777111\teval-auc:0.765105\n",
      "[174]\ttrain-auc:0.777461\teval-auc:0.76528\n",
      "[175]\ttrain-auc:0.777687\teval-auc:0.765428\n",
      "[176]\ttrain-auc:0.777944\teval-auc:0.765584\n",
      "[177]\ttrain-auc:0.77833\teval-auc:0.765707\n",
      "[178]\ttrain-auc:0.778579\teval-auc:0.765953\n",
      "[179]\ttrain-auc:0.778779\teval-auc:0.766089\n",
      "[180]\ttrain-auc:0.77918\teval-auc:0.766278\n",
      "[181]\ttrain-auc:0.77936\teval-auc:0.766338\n",
      "[182]\ttrain-auc:0.779702\teval-auc:0.766564\n",
      "[183]\ttrain-auc:0.779944\teval-auc:0.766716\n",
      "[184]\ttrain-auc:0.780149\teval-auc:0.766891\n",
      "[185]\ttrain-auc:0.780479\teval-auc:0.76715\n",
      "[186]\ttrain-auc:0.780736\teval-auc:0.76731\n",
      "[187]\ttrain-auc:0.78109\teval-auc:0.767665\n",
      "[188]\ttrain-auc:0.78136\teval-auc:0.767835\n",
      "[189]\ttrain-auc:0.781645\teval-auc:0.767934\n",
      "[190]\ttrain-auc:0.781932\teval-auc:0.768031\n"
     ]
    },
    {
     "name": "stdout",
     "output_type": "stream",
     "text": [
      "[191]\ttrain-auc:0.782306\teval-auc:0.768404\n",
      "[192]\ttrain-auc:0.782584\teval-auc:0.768594\n",
      "[193]\ttrain-auc:0.782716\teval-auc:0.76856\n",
      "[194]\ttrain-auc:0.78307\teval-auc:0.768706\n",
      "[195]\ttrain-auc:0.78344\teval-auc:0.769013\n",
      "[196]\ttrain-auc:0.783701\teval-auc:0.769175\n",
      "[197]\ttrain-auc:0.783974\teval-auc:0.769309\n",
      "[198]\ttrain-auc:0.784242\teval-auc:0.769435\n",
      "[199]\ttrain-auc:0.784381\teval-auc:0.769608\n",
      "0.7696077384862317\n"
     ]
    }
   ],
   "source": [
    "%%time\n",
    "max_depth = 5\n",
    "subsample = 0.7\n",
    "colsample_bytree = 0.7\n",
    "params = {\n",
    "    'objective' : 'binary:logistic', \n",
    "    'booster' : 'gbtree',\n",
    "    'max_depth' : max_depth, \n",
    "    'subsample' : subsample,\n",
    "    'eval_metric' : 'auc', \n",
    "    'colsample_bytree' : colsample_bytree,\n",
    "    'silent' : 1, \n",
    "    'eta' : 0.1,\n",
    "    'nthread' : cores\n",
    "}\n",
    "num_boost_round = 200\n",
    "early_stopping_rounds = 10\n",
    "test_size = 0.15\n",
    "\n",
    "watchlist = [(dtrain, 'train'), (dvalid, 'eval')]\n",
    "gbm = xgb.train(params, dtrain, num_boost_round, evals = watchlist,\n",
    "                early_stopping_rounds = early_stopping_rounds, verbose_eval = True)\n",
    "test_prediction = gbm.predict(xgb.DMatrix(test_vecs_w2v))\n",
    "test_class = np.round(test_prediction)\n",
    "test_acc = accuracy_score(y_test, test_class)\n",
    "print (test_acc)\n",
    "gbm.save_model(saveClassifierPath+'XGBOost_'+train_x_by_m1_name)"
   ]
  },
  {
   "cell_type": "code",
   "execution_count": 38,
   "metadata": {},
   "outputs": [
    {
     "name": "stdout",
     "output_type": "stream",
     "text": [
      "Logistic Regression\n",
      "Random Forest\n",
      "Kernel SVM\n",
      "XGBoost\n"
     ]
    },
    {
     "data": {
      "image/png": "[encoded data removed]",
      "text/plain": [
       "<matplotlib.figure.Figure at 0x21223417550>"
      ]
     },
     "metadata": {},
     "output_type": "display_data"
    }
   ],
   "source": [
    "%%time\n",
    "Make_Roc_Curve(test_x_by_m1, test_y, classifier, classifier2, classifier3, gbm)"
   ]
  },
  {
   "cell_type": "code",
   "execution_count": null,
   "metadata": {},
   "outputs": [],
   "source": [
    "del classifier\n",
    "del classifier2\n",
    "del classifier3\n",
    "del gbm"
   ]
  },
  {
   "cell_type": "markdown",
   "metadata": {},
   "source": [
    "#### 분류모델 : Neural Network"
   ]
  },
  {
   "cell_type": "code",
   "execution_count": null,
   "metadata": {},
   "outputs": [],
   "source": [
    "model = Sequential()\n",
    "model.add(Dense(32, activation='relu', input_dim=1000))\n",
    "model.add(Dense(1, activation='sigmoid'))\n",
    "model.compile(optimizer='rmsprop',\n",
    "              loss='binary_crossentropy',\n",
    "              metrics=['accuracy'])\n",
    "history = model.fit(train_vecs_w2v, y_train, epochs=300, batch_size = 250000,  verbose=0,\n",
    "          validation_split=0.2,\n",
    "          callbacks=[TQDMNotebookCallback(show_inner=False)])\n",
    "score, acc = model.evaluate(test_vecs_w2v, y_test, verbose=0)\n",
    "print('Score: %1.4f' % score)\n",
    "print('Accuracy: %1.4f' % acc)"
   ]
  },
  {
   "cell_type": "code",
   "execution_count": null,
   "metadata": {},
   "outputs": [],
   "source": [
    "model.save(saveClassifierPath+'NeuralNetwork_4_'+train_x_by_m3_name)"
   ]
  },
  {
   "cell_type": "code",
   "execution_count": null,
   "metadata": {},
   "outputs": [],
   "source": [
    "plot_history(history)"
   ]
  },
  {
   "cell_type": "code",
   "execution_count": null,
   "metadata": {
    "scrolled": true
   },
   "outputs": [],
   "source": [
    "model = Sequential()\n",
    "model.add(Dense(128, activation='relu', input_dim=1000))\n",
    "model.add(Dense(64, activation='relu', kernel_regularizer=l2(0.001)))\n",
    "model.add(Dropout(0.1))\n",
    "model.add(Dense(32, activation='relu', kernel_regularizer=l2(0.001)))\n",
    "model.add(Dropout(0.1))\n",
    "model.add(Dense(1, activation='sigmoid'))\n",
    "model.compile(#optimizer='rmsprop',\n",
    "    optimizer='adadelta',\n",
    "              #loss='binary_crossentropy',\n",
    "    #optimizer=SGD(lr=0.2), \n",
    "    loss='binary_crossentropy',\n",
    "    metrics=['accuracy'])\n",
    "\n",
    "history = model.fit(train_vecs_w2v, y_train,epochs=300, batch_size = 250000,  verbose=0, validation_split=0.2,\n",
    "          callbacks=[TQDMNotebookCallback(show_inner=False)])\n",
    "score, acc = model.evaluate(test_vecs_w2v, y_test, verbose=0)\n",
    "print('Score: %1.4f' % score)\n",
    "print('Accuracy: %1.4f' % acc)"
   ]
  },
  {
   "cell_type": "code",
   "execution_count": null,
   "metadata": {},
   "outputs": [],
   "source": [
    "model.save(saveClassifierPath+'NeuralNetwork_4_'+train_x_by_m3_name)"
   ]
  },
  {
   "cell_type": "code",
   "execution_count": null,
   "metadata": {},
   "outputs": [],
   "source": [
    "plot_history(history)"
   ]
  },
  {
   "cell_type": "code",
   "execution_count": null,
   "metadata": {},
   "outputs": [],
   "source": [
    "del train_x_by_m3\n",
    "del train_x_by_m3_name\n",
    "del test_x_by_m3\n",
    "del test_x_by_m3_name"
   ]
  },
  {
   "cell_type": "code",
   "execution_count": null,
   "metadata": {},
   "outputs": [],
   "source": []
  }
 ],
 "metadata": {
  "kernelspec": {
   "display_name": "Python 3",
   "language": "python",
   "name": "python3"
  },
  "language_info": {
   "codemirror_mode": {
    "name": "ipython",
    "version": 3
   },
   "file_extension": ".py",
   "mimetype": "text/x-python",
   "name": "python",
   "nbconvert_exporter": "python",
   "pygments_lexer": "ipython3",
   "version": "3.6.4"
  }
 },
 "nbformat": 4,
 "nbformat_minor": 2
}
