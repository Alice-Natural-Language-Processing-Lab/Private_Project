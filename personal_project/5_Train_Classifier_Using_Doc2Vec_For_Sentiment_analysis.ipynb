{
 "cells": [
  {
   "cell_type": "markdown",
   "metadata": {},
   "source": [
    "# 만들어진 Doc2Vec model을 통한 감정분석 실시\n",
    "> * Positive or Negative"
   ]
  },
  {
   "cell_type": "code",
   "execution_count": 1,
   "metadata": {},
   "outputs": [
    {
     "name": "stderr",
     "output_type": "stream",
     "text": [
      "C:\\Users\\pc\\Anaconda3\\lib\\site-packages\\gensim\\utils.py:1167: UserWarning: detected Windows; aliasing chunkize to chunkize_serial\n",
      "  warnings.warn(\"detected Windows; aliasing chunkize to chunkize_serial\")\n",
      "C:\\Users\\pc\\Anaconda3\\lib\\site-packages\\h5py\\__init__.py:36: FutureWarning: Conversion of the second argument of issubdtype from `float` to `np.floating` is deprecated. In future, it will be treated as `np.float64 == np.dtype(float).type`.\n",
      "  from ._conv import register_converters as _register_converters\n",
      "Using TensorFlow backend.\n",
      "C:\\Users\\pc\\Anaconda3\\lib\\site-packages\\sklearn\\cross_validation.py:41: DeprecationWarning: This module was deprecated in version 0.18 in favor of the model_selection module into which all the refactored classes and functions are moved. Also note that the interface of the new CV iterators are different from that of this module. This module will be removed in 0.20.\n",
      "  \"This module will be removed in 0.20.\", DeprecationWarning)\n"
     ]
    }
   ],
   "source": [
    "import pickle\n",
    "import html\n",
    "import multiprocessing\n",
    "from collections import namedtuple, OrderedDict\n",
    "import re\n",
    "import sys\n",
    "import os\n",
    "\n",
    "os.environ['KERAS_BACKEND']='tensorflow'\n",
    "\n",
    "import numpy as np\n",
    "from tqdm import tqdm\n",
    "tqdm.pandas(desc=\"progress-bar\")\n",
    "import pandas as pd\n",
    "\n",
    "from gensim.models import doc2vec, KeyedVectors\n",
    "from gensim.models.doc2vec import TaggedDocument\n",
    "\n",
    "from konlpy.utils import pprint\n",
    "\n",
    "from sklearn.model_selection import train_test_split\n",
    "from sklearn.linear_model import LogisticRegression\n",
    "from sklearn.ensemble import RandomForestClassifier\n",
    "from sklearn.svm import SVC\n",
    "from sklearn.metrics import confusion_matrix, classification_report, roc_curve,  accuracy_score\n",
    "from sklearn.feature_extraction.text import TfidfVectorizer\n",
    "from sklearn.preprocessing import scale, MinMaxScaler\n",
    "from sklearn.manifold import TSNE\n",
    "\n",
    "import keras.backend.tensorflow_backend as K\n",
    "from keras.preprocessing import sequence\n",
    "from keras_tqdm import TQDMCallback, TQDMNotebookCallback\n",
    "from keras.models import Model, Sequential\n",
    "from keras.regularizers import l2\n",
    "from keras.optimizers import SGD\n",
    "from keras.utils import np_utils\n",
    "from keras.layers import Input, Flatten, Dense, Embedding, embeddings, merge, Dropout, Activation,  LSTM, Bidirectional, SimpleRNN, GRU\n",
    "from keras.layers.convolutional import Conv1D, Conv2D\n",
    "from keras.layers.pooling import MaxPooling1D, GlobalMaxPooling1D\n",
    "from keras.layers.normalization import BatchNormalization\n",
    "from keras.layers.core import SpatialDropout1D\n",
    "from keras.utils import np_utils\n",
    "from tensorflow.python.client import device_lib\n",
    "from keras.layers.merge import dot\n",
    "\n",
    "import xgboost as xgb\n",
    "\n",
    "import matplotlib.pyplot as plt\n",
    "\n",
    "import bokeh.plotting as bp\n",
    "from bokeh.models import HoverTool, BoxSelectTool\n",
    "from bokeh.plotting import figure, show, output_notebook"
   ]
  },
  {
   "cell_type": "code",
   "execution_count": 2,
   "metadata": {},
   "outputs": [
    {
     "name": "stdout",
     "output_type": "stream",
     "text": [
      "[name: \"/device:CPU:0\"\n",
      "device_type: \"CPU\"\n",
      "memory_limit: 268435456\n",
      "locality {\n",
      "}\n",
      "incarnation: 14048921442799603239\n",
      ", name: \"/device:GPU:0\"\n",
      "device_type: \"GPU\"\n",
      "memory_limit: 4984510873\n",
      "locality {\n",
      "  bus_id: 1\n",
      "}\n",
      "incarnation: 8209804069221882552\n",
      "physical_device_desc: \"device: 0, name: GeForce GTX 1060 6GB, pci bus id: 0000:09:00.0, compute capability: 6.1\"\n",
      "]\n"
     ]
    }
   ],
   "source": [
    "print (device_lib.list_local_devices())"
   ]
  },
  {
   "cell_type": "code",
   "execution_count": 3,
   "metadata": {},
   "outputs": [],
   "source": [
    "def Make_Roc_Curve(x, y, model1, model2, model3, model4):\n",
    "    print ('Logistic Regression')\n",
    "    fpr1, tpr1, thresholds1 = roc_curve(y, model1.predict(x))\n",
    "    print ('Random Forest')\n",
    "    fpr2, tpr2, thresholds2 = roc_curve(y, model2.predict(x))\n",
    "    print ('Kernel SVM')\n",
    "    fpr3, tpr3, thresholds3 = roc_curve(y, model3.predict(x))\n",
    "    print ('XGBoost')\n",
    "    import xgboost as xgb\n",
    "    fpr4, tpr4, thresholds4 = roc_curve(y, model4.predict(xgb.DMatrix(x)))\n",
    "    plt.plot(fpr1, tpr1, label=\"Logistic Regression\")\n",
    "    plt.plot(fpr2, tpr2, label=\"RandomForest\")\n",
    "    plt.plot(fpr3, tpr3, label=\"Kernel SVM\")\n",
    "    plt.plot(fpr4, tpr4, label='XGBoost')\n",
    "    plt.legend()\n",
    "    plt.plot([0, 1], [0, 1], 'k--', label=\"random guess\")\n",
    "    plt.xlabel('False Positive Rate (Fall-Out)')\n",
    "    plt.ylabel('True Positive Rate (Recall)')\n",
    "    plt.title('Receiver operating characteristic example')\n",
    "    plt.show()"
   ]
  },
  {
   "cell_type": "code",
   "execution_count": 4,
   "metadata": {},
   "outputs": [],
   "source": [
    "def plot_history(history):\n",
    "    \"\"\"Plot model history after `fit()`.\n",
    "    \"\"\"\n",
    "\n",
    "    # summarize history for accuracy\n",
    "    plt.plot(history.history['acc'])\n",
    "    plt.plot(history.history['val_acc'])\n",
    "    plt.title('model accuracy')\n",
    "    plt.ylabel('accuracy')\n",
    "    plt.xlabel('epoch')\n",
    "    plt.legend(['train', 'valid'], loc='upper left')\n",
    "    plt.show()\n",
    "\n",
    "    # summarize history for loss\n",
    "    plt.plot(history.history['loss'])\n",
    "    plt.plot(history.history['val_loss'])\n",
    "    plt.title('model loss')\n",
    "    plt.ylabel('loss')\n",
    "    plt.xlabel('epoch')\n",
    "    plt.legend(['train', 'valid'], loc='upper left')\n",
    "    plt.show()"
   ]
  },
  {
   "cell_type": "code",
   "execution_count": 5,
   "metadata": {},
   "outputs": [
    {
     "data": {
      "text/plain": [
       "'3.3.0'"
      ]
     },
     "execution_count": 5,
     "metadata": {},
     "output_type": "execute_result"
    }
   ],
   "source": [
    "import gensim\n",
    "gensim.__version__"
   ]
  },
  {
   "cell_type": "markdown",
   "metadata": {},
   "source": [
    "* windows에서 모델을 만들때 사용한 gensim의 버전이 3.3이었고, mac에서는 버전이 맞지 않아서 만들어둔 모델을 불러오지 못하였음."
   ]
  },
  {
   "cell_type": "markdown",
   "metadata": {},
   "source": [
    "## Doc2Vec"
   ]
  },
  {
   "cell_type": "code",
   "execution_count": 6,
   "metadata": {},
   "outputs": [],
   "source": [
    "TaggedDocument = namedtuple('TaggedDocument', 'words tags sentiment')"
   ]
  },
  {
   "cell_type": "code",
   "execution_count": 7,
   "metadata": {},
   "outputs": [],
   "source": [
    "def Get_Infer_Vector(docs, model):\n",
    "    return [model.infer_vector(doc.words) for doc in tqdm(docs)]"
   ]
  },
  {
   "cell_type": "code",
   "execution_count": 8,
   "metadata": {},
   "outputs": [],
   "source": [
    "if sys.platform =='darwin':\n",
    "    loadModelPath = '/Volumes/disk1/model/'\n",
    "elif sys.platform =='win32':\n",
    "    loadModelPath = 'd:/model/'\n",
    "saveTrainPath = './data/pre_data/train_test_Data2/'\n",
    "saveClassifierPath = './data/pre_data/classifier/'"
   ]
  },
  {
   "cell_type": "code",
   "execution_count": 9,
   "metadata": {},
   "outputs": [
    {
     "name": "stdout",
     "output_type": "stream",
     "text": [
      "12\n"
     ]
    }
   ],
   "source": [
    "cores = int(multiprocessing.cpu_count() )\n",
    "print (cores)"
   ]
  },
  {
   "cell_type": "markdown",
   "metadata": {},
   "source": [
    "### twitter"
   ]
  },
  {
   "cell_type": "markdown",
   "metadata": {},
   "source": [
    "#### Load Model"
   ]
  },
  {
   "cell_type": "code",
   "execution_count": 10,
   "metadata": {},
   "outputs": [],
   "source": [
    "model1 = doc2vec.Doc2Vec.load(loadModelPath+'doc2vec_size-1000_epoch-20_window-10_negative-7_hs-0_dm-1_dm_concat-0_dm_mean-1_by-ct.model')\n",
    "model2 = doc2vec.Doc2Vec.load(loadModelPath+'doc2vec_size-1000_epoch-20_window-5_negative-7_hs-0_dm-1_dm_concat-1_dm_mean-0_by-ct.model')\n",
    "model3 = doc2vec.Doc2Vec.load(loadModelPath+'doc2vec_size-1000_epoch-20_window-None_negative-7_hs-0_dm-0_dm_concat-0_dm_mean-0_by-ct.model')"
   ]
  },
  {
   "cell_type": "markdown",
   "metadata": {},
   "source": [
    "#### Word to Vector"
   ]
  },
  {
   "cell_type": "markdown",
   "metadata": {},
   "source": [
    "##### train set"
   ]
  },
  {
   "cell_type": "code",
   "execution_count": 11,
   "metadata": {},
   "outputs": [],
   "source": [
    "train = pickle.load(open('./data/pre_data/train_test_Data/pre_data_by_ct_train_for_doc2vec_sentiment_analysis.pickled','rb'))"
   ]
  },
  {
   "cell_type": "code",
   "execution_count": 12,
   "metadata": {},
   "outputs": [],
   "source": [
    "name1 = '-'.join(re.split('[\\(\\),\\/]',str(model1)))+'ct'\n",
    "if not os.path.isfile(saveTrainPath+'train_x_'+name1):\n",
    "    train_x_by_m1 = Get_Infer_Vector(train, model1)\n",
    "    \n",
    "    pickle.dump(train_x_by_m1,open(saveTrainPath+'train_x_'+name1,'wb'))\n",
    "    del train_x_by_m1\n",
    "    del name1\n",
    "    \n",
    "name2 = '-'.join(re.split('[\\(\\),\\/]',str(model2)))+'ct'\n",
    "if not os.path.isfile(saveTrainPath+'train_x_'+name2):\n",
    "    train_x_by_m2 = Get_Infer_Vector(train, model2)\n",
    "\n",
    "    pickle.dump(train_x_by_m2,open(saveTrainPath+'train_x_'+name2,'wb'))\n",
    "    del train_x_by_m2\n",
    "    del name2\n",
    "\n",
    "name3 = '-'.join(re.split('[\\(\\),\\/]',str(model3)))+'ct'\n",
    "if not os.path.isfile(saveTrainPath+'train_x_'+name3):\n",
    "    train_x_by_m3 = Get_Infer_Vector(train, model3)\n",
    "\n",
    "    pickle.dump(train_x_by_m3,open(saveTrainPath+'train_x_'+name3,'wb'))\n",
    "    del train_x_by_m3\n",
    "    del name3\n",
    "\n",
    "if not os.path.isfile(saveTrainPath+'train_senti_y_ct_for_sentiment_analysis'):\n",
    "    train_senti_y = [doc.sentiment for doc in tqdm(train)]\n",
    "    \n",
    "    pickle.dump(train_senti_y, open(saveTrainPath+'train_senti_y_ct_for_sentiment_analysis','wb'))\n",
    "    del train_senti_y\n",
    "    \n",
    "if not os.path.isfile(saveTrainPath+'train_tags_y_ct_for_sentiment_analysis'):\n",
    "    train_tags_y = [doc.tags for doc in tqdm(train)]\n",
    "    \n",
    "    pickle.dump(train_tags_y, open(saveTrainPath+'train_tags_y_ct_for_sentiment_analysis','wb'))\n",
    "    del train_tags_y\n",
    "\n",
    "if 'train' in locals():\n",
    "    del train"
   ]
  },
  {
   "cell_type": "markdown",
   "metadata": {},
   "source": [
    "##### test set"
   ]
  },
  {
   "cell_type": "code",
   "execution_count": 13,
   "metadata": {},
   "outputs": [],
   "source": [
    "test = pickle.load(open('./data/pre_data/train_test_Data/pre_data_by_ct_test_for_doc2vec_sentiment_analysis.pickled','rb'))"
   ]
  },
  {
   "cell_type": "code",
   "execution_count": 14,
   "metadata": {},
   "outputs": [],
   "source": [
    "name1 = '-'.join(re.split('[\\(\\),\\/]',str(model1)))+'ct'\n",
    "if not os.path.isfile(saveTrainPath+'test_x_'+name1):\n",
    "    test_x_by_m1 = Get_Infer_Vector(test, model1)\n",
    "    \n",
    "    pickle.dump(test_x_by_m1,open(saveTrainPath+'test_x_'+name1,'wb'))\n",
    "    del test_x_by_m1\n",
    "    del name1\n",
    "    \n",
    "name2 = '-'.join(re.split('[\\(\\),\\/]',str(model2)))+'ct'\n",
    "if not os.path.isfile(saveTrainPath+'test_x_'+name2):\n",
    "    test_x_by_m2 = Get_Infer_Vector(test, model2)\n",
    "\n",
    "    pickle.dump(test_x_by_m2,open(saveTrainPath+'test_x_'+name2,'wb'))\n",
    "    del test_x_by_m2\n",
    "    del name2\n",
    "\n",
    "name3 = '-'.join(re.split('[\\(\\),\\/]',str(model3)))+'ct'\n",
    "if not os.path.isfile(saveTrainPath+'test_x_'+name3):\n",
    "    test_x_by_m3 = Get_Infer_Vector(test, model3)\n",
    "\n",
    "    pickle.dump(test_x_by_m3,open(saveTrainPath+'test_x_'+name3,'wb'))\n",
    "    del test_x_by_m3\n",
    "    del name3\n",
    "\n",
    "if not os.path.isfile(saveTrainPath+'test_senti_y_ct_for_sentiment_analysis'):\n",
    "    test_senti_y = [doc.sentiment for doc in tqdm(test)]\n",
    "    \n",
    "    pickle.dump(test_senti_y, open(saveTrainPath+'test_senti_y_ct_for_sentiment_analysis','wb'))\n",
    "    del test_senti_y\n",
    "    \n",
    "if not os.path.isfile(saveTrainPath+'test_tags_y_ct_for_sentiment_analysis'):\n",
    "    test_tags_y = [doc.tags for doc in tqdm(test)]\n",
    "    \n",
    "    pickle.dump(test_tags_y, open(saveTrainPath+'test_tags_y_ct_for_sentiment_analysis','wb'))\n",
    "    del test_tags_y\n",
    "\n",
    "if 'test' in locals():\n",
    "    del test"
   ]
  },
  {
   "cell_type": "markdown",
   "metadata": {},
   "source": [
    "#### model1\n",
    "* Doc2Vec(dm/m,d1000,n7,w10,mc5,s0.001,t12)\n",
    "* size-1000\n",
    "* epoch-20\n",
    "* window-10\n",
    "* negative-7\n",
    "* hs-0\n",
    "* dm-1\n",
    "* dm_concat-0\n",
    "* dm_mean-1"
   ]
  },
  {
   "cell_type": "code",
   "execution_count": 15,
   "metadata": {},
   "outputs": [],
   "source": [
    "train_x_by_m1_name = 'train_x_Doc2Vec-dm-m-d1000-n7-w10-mc5-s0.001-t12-ct'\n",
    "train_x_by_m1 = pickle.load(open(saveTrainPath+train_x_by_m1_name,'rb'))\n",
    "train_y = pickle.load(open(saveTrainPath+'train_senti_y_ct_for_sentiment_analysis','rb'))"
   ]
  },
  {
   "cell_type": "code",
   "execution_count": 16,
   "metadata": {},
   "outputs": [],
   "source": [
    "test_x_by_m1_name = 'test_x_Doc2Vec-dm-m-d1000-n7-w10-mc5-s0.001-t12-ct'\n",
    "test_x_by_m1 = pickle.load(open(saveTrainPath+test_x_by_m1_name,'rb'))\n",
    "test_y = pickle.load(open(saveTrainPath+'test_senti_y_ct_for_sentiment_analysis','rb'))"
   ]
  },
  {
   "cell_type": "markdown",
   "metadata": {},
   "source": [
    "#### 분류 모델 : Logistic Regression"
   ]
  },
  {
   "cell_type": "code",
   "execution_count": 17,
   "metadata": {},
   "outputs": [
    {
     "name": "stderr",
     "output_type": "stream",
     "text": [
      "100%|██████████| 442359/442359 [00:00<00:00, 1920409.34it/s]\n",
      "100%|██████████| 49151/49151 [00:00<00:00, 1752803.54it/s]\n"
     ]
    }
   ],
   "source": [
    "train_y2 = [y[0] for y in tqdm(train_y)]\n",
    "test_y2 = [y[0] for y in tqdm(test_y)]"
   ]
  },
  {
   "cell_type": "code",
   "execution_count": 18,
   "metadata": {},
   "outputs": [
    {
     "name": "stderr",
     "output_type": "stream",
     "text": [
      "C:\\Users\\pc\\Anaconda3\\lib\\site-packages\\sklearn\\linear_model\\logistic.py:1228: UserWarning: 'n_jobs' > 1 does not have any effect when 'solver' is set to 'liblinear'. Got 'n_jobs' = 12.\n",
      "  \" = {}.\".format(self.n_jobs))\n"
     ]
    },
    {
     "name": "stdout",
     "output_type": "stream",
     "text": [
      "{'C': 1.0, 'class_weight': None, 'dual': False, 'fit_intercept': True, 'intercept_scaling': 1, 'max_iter': 250, 'multi_class': 'ovr', 'n_jobs': 12, 'penalty': 'l2', 'random_state': 1234, 'solver': 'liblinear', 'tol': 0.0001, 'verbose': 0, 'warm_start': False}\n",
      "score : 0.6916034261764765\n",
      "classification report\n",
      "             precision    recall  f1-score   support\n",
      "\n",
      "          0       0.71      0.67      0.69     25177\n",
      "          1       0.67      0.71      0.69     23974\n",
      "\n",
      "avg / total       0.69      0.69      0.69     49151\n",
      "\n",
      "Wall time: 11min 9s\n"
     ]
    }
   ],
   "source": [
    "%%time\n",
    "classifier = LogisticRegression(random_state=1234, max_iter = 250, n_jobs=cores)\n",
    "classifier.fit(train_x_by_m1, train_y2)\n",
    "print (classifier.get_params())\n",
    "print( 'score : {}'.format(classifier.score(test_x_by_m1, test_y2)))\n",
    "print ('classification report')\n",
    "print (classification_report(test_y2, classifier.predict(test_x_by_m1)))"
   ]
  },
  {
   "cell_type": "code",
   "execution_count": 19,
   "metadata": {},
   "outputs": [],
   "source": [
    "pickle.dump(classifier,open(saveClassifierPath+'LogisticRegression_'+train_x_by_m1_name, 'wb'))"
   ]
  },
  {
   "cell_type": "markdown",
   "metadata": {},
   "source": [
    "#### 분류모델 : RandomForest Classifier"
   ]
  },
  {
   "cell_type": "code",
   "execution_count": 20,
   "metadata": {},
   "outputs": [
    {
     "name": "stdout",
     "output_type": "stream",
     "text": [
      "{'bootstrap': True, 'class_weight': None, 'criterion': 'gini', 'max_depth': None, 'max_features': 'auto', 'max_leaf_nodes': None, 'min_impurity_decrease': 0.0, 'min_impurity_split': None, 'min_samples_leaf': 1, 'min_samples_split': 2, 'min_weight_fraction_leaf': 0.0, 'n_estimators': 75, 'n_jobs': 12, 'oob_score': False, 'random_state': 1234, 'verbose': 0, 'warm_start': False}\n",
      "score : 0.6223271144025554\n",
      "classification report\n",
      "             precision    recall  f1-score   support\n",
      "\n",
      "          0       0.62      0.66      0.64     25177\n",
      "          1       0.62      0.58      0.60     23974\n",
      "\n",
      "avg / total       0.62      0.62      0.62     49151\n",
      "\n",
      "Wall time: 6min 35s\n"
     ]
    }
   ],
   "source": [
    "%%time\n",
    "classifier2 = RandomForestClassifier(random_state=1234, n_estimators = 75, n_jobs=cores)\n",
    "classifier2.fit(train_x_by_m1, train_y2)\n",
    "print (classifier2.get_params())\n",
    "print( 'score : {}'.format(classifier2.score(test_x_by_m1, test_y2)))\n",
    "print ('classification report')\n",
    "print (classification_report(test_y2, classifier2.predict(test_x_by_m1)))"
   ]
  },
  {
   "cell_type": "code",
   "execution_count": 21,
   "metadata": {},
   "outputs": [],
   "source": [
    "pickle.dump(classifier2,open(saveClassifierPath+'RandomForestClassifier_'+train_x_by_m1_name, 'wb'))"
   ]
  },
  {
   "cell_type": "markdown",
   "metadata": {},
   "source": [
    "#### 분류모델 : C-Support Vector Classification"
   ]
  },
  {
   "cell_type": "code",
   "execution_count": 22,
   "metadata": {
    "scrolled": true
   },
   "outputs": [
    {
     "name": "stdout",
     "output_type": "stream",
     "text": [
      "[LibSVM]"
     ]
    },
    {
     "name": "stderr",
     "output_type": "stream",
     "text": [
      "C:\\Users\\pc\\Anaconda3\\lib\\site-packages\\sklearn\\svm\\base.py:218: ConvergenceWarning: Solver terminated early (max_iter=1500).  Consider pre-processing your data with StandardScaler or MinMaxScaler.\n",
      "  % self.max_iter, ConvergenceWarning)\n"
     ]
    },
    {
     "name": "stdout",
     "output_type": "stream",
     "text": [
      "{'C': 1.0, 'cache_size': 1024, 'class_weight': None, 'coef0': 0.0, 'decision_function_shape': 'ovr', 'degree': 3, 'gamma': 'auto', 'kernel': 'linear', 'max_iter': 1500, 'probability': False, 'random_state': None, 'shrinking': True, 'tol': 0.001, 'verbose': True}\n",
      "score : 0.5691033753128115\n",
      "classification report\n",
      "             precision    recall  f1-score   support\n",
      "\n",
      "          0       0.76      0.23      0.35     25177\n",
      "          1       0.53      0.93      0.68     23974\n",
      "\n",
      "avg / total       0.65      0.57      0.51     49151\n",
      "\n",
      "Wall time: 23min 51s\n"
     ]
    }
   ],
   "source": [
    "%%time\n",
    "scaling = MinMaxScaler(feature_range=(-1, 1)).fit(train_x_by_m1)\n",
    "train_x_by_m1_2 = scaling.transform(train_x_by_m1)\n",
    "test_x_by_m1_2 = scaling.transform(test_x_by_m1)\n",
    "classifier3 =  SVC(kernel = 'linear', \n",
    "        cache_size= 1024, max_iter = 1500, verbose = True) \n",
    "classifier3.fit(train_x_by_m1_2, train_y2)\n",
    "print (classifier3.get_params())\n",
    "print( 'score : {}'.format(classifier3.score(test_x_by_m1_2, test_y2)))\n",
    "print ('classification report')\n",
    "print (classification_report(test_y2, classifier3.predict(test_x_by_m1_2)))"
   ]
  },
  {
   "cell_type": "code",
   "execution_count": 23,
   "metadata": {},
   "outputs": [],
   "source": [
    "del scaling\n",
    "del train_x_by_m1_2\n",
    "del test_x_by_m1_2"
   ]
  },
  {
   "cell_type": "code",
   "execution_count": 24,
   "metadata": {},
   "outputs": [],
   "source": [
    "pickle.dump(classifier3,open(saveClassifierPath+'SVC_'+train_x_by_m1_name, 'wb'))"
   ]
  },
  {
   "cell_type": "markdown",
   "metadata": {},
   "source": [
    "#### 분류모델 : XGBOOST"
   ]
  },
  {
   "cell_type": "code",
   "execution_count": 25,
   "metadata": {
    "scrolled": false
   },
   "outputs": [
    {
     "name": "stderr",
     "output_type": "stream",
     "text": [
      "442359it [00:00, 461432.36it/s]\n",
      "C:\\Users\\pc\\Anaconda3\\lib\\site-packages\\sklearn\\preprocessing\\data.py:164: UserWarning: Numerical issues were encountered when centering the data and might not be solved. Dataset may contain too large values. You may need to prescale your features.\n",
      "  warnings.warn(\"Numerical issues were encountered \"\n",
      "C:\\Users\\pc\\Anaconda3\\lib\\site-packages\\sklearn\\preprocessing\\data.py:181: UserWarning: Numerical issues were encountered when scaling the data and might not be solved. The standard deviation of the data is probably very close to 0. \n",
      "  warnings.warn(\"Numerical issues were encountered \"\n",
      "49151it [00:00, 614206.87it/s]\n"
     ]
    },
    {
     "name": "stdout",
     "output_type": "stream",
     "text": [
      "Wall time: 7.33 s\n"
     ]
    }
   ],
   "source": [
    "%%time\n",
    "train_vecs_w2v = np.concatenate([z.reshape(1,-1) for z in tqdm(map(lambda x: x,train_x_by_m1))])\n",
    "train_vecs_w2v = scale(train_vecs_w2v)\n",
    "\n",
    "test_vecs_w2v = np.concatenate([z.reshape(1,-1) for z in tqdm(map(lambda x: x, test_x_by_m1))])\n",
    "test_vecs_w2v = scale(test_vecs_w2v)\n",
    "\n",
    "y_test = np.array(test_y)\n",
    "y_train = np.array(train_y)"
   ]
  },
  {
   "cell_type": "code",
   "execution_count": 26,
   "metadata": {},
   "outputs": [
    {
     "name": "stdout",
     "output_type": "stream",
     "text": [
      "Wall time: 7.4 s\n"
     ]
    }
   ],
   "source": [
    "%%time\n",
    "dtrain = xgb.DMatrix(train_vecs_w2v, y_train)\n",
    "dvalid = xgb.DMatrix(test_vecs_w2v, y_test)"
   ]
  },
  {
   "cell_type": "code",
   "execution_count": 27,
   "metadata": {
    "scrolled": true
   },
   "outputs": [
    {
     "name": "stdout",
     "output_type": "stream",
     "text": [
      "[0]\ttrain-auc:0.607793\teval-auc:0.610414\n",
      "Multiple eval metrics have been passed: 'eval-auc' will be used for early stopping.\n",
      "\n",
      "Will train until eval-auc hasn't improved in 10 rounds.\n",
      "[1]\ttrain-auc:0.620383\teval-auc:0.624273\n",
      "[2]\ttrain-auc:0.629441\teval-auc:0.63416\n",
      "[3]\ttrain-auc:0.636825\teval-auc:0.641988\n",
      "[4]\ttrain-auc:0.639517\teval-auc:0.644154\n",
      "[5]\ttrain-auc:0.64336\teval-auc:0.64685\n",
      "[6]\ttrain-auc:0.648082\teval-auc:0.651772\n",
      "[7]\ttrain-auc:0.649909\teval-auc:0.653717\n",
      "[8]\ttrain-auc:0.653058\teval-auc:0.656866\n",
      "[9]\ttrain-auc:0.656499\teval-auc:0.660032\n",
      "[10]\ttrain-auc:0.65983\teval-auc:0.66344\n",
      "[11]\ttrain-auc:0.662878\teval-auc:0.666622\n",
      "[12]\ttrain-auc:0.665189\teval-auc:0.668617\n",
      "[13]\ttrain-auc:0.667632\teval-auc:0.671249\n",
      "[14]\ttrain-auc:0.672056\teval-auc:0.675467\n",
      "[15]\ttrain-auc:0.674435\teval-auc:0.677681\n",
      "[16]\ttrain-auc:0.676552\teval-auc:0.679851\n",
      "[17]\ttrain-auc:0.678983\teval-auc:0.681274\n",
      "[18]\ttrain-auc:0.681106\teval-auc:0.683929\n",
      "[19]\ttrain-auc:0.683475\teval-auc:0.685759\n",
      "[20]\ttrain-auc:0.685404\teval-auc:0.687297\n",
      "[21]\ttrain-auc:0.687326\teval-auc:0.689252\n",
      "[22]\ttrain-auc:0.689138\teval-auc:0.690732\n",
      "[23]\ttrain-auc:0.691121\teval-auc:0.692679\n",
      "[24]\ttrain-auc:0.692818\teval-auc:0.694698\n",
      "[25]\ttrain-auc:0.694174\teval-auc:0.695725\n",
      "[26]\ttrain-auc:0.695578\teval-auc:0.697374\n",
      "[27]\ttrain-auc:0.696969\teval-auc:0.698692\n",
      "[28]\ttrain-auc:0.698914\teval-auc:0.70028\n",
      "[29]\ttrain-auc:0.700409\teval-auc:0.701955\n",
      "[30]\ttrain-auc:0.701946\teval-auc:0.703366\n",
      "[31]\ttrain-auc:0.703202\teval-auc:0.704632\n",
      "[32]\ttrain-auc:0.704819\teval-auc:0.706293\n",
      "[33]\ttrain-auc:0.705751\teval-auc:0.707338\n",
      "[34]\ttrain-auc:0.707045\teval-auc:0.708644\n",
      "[35]\ttrain-auc:0.708369\teval-auc:0.709968\n",
      "[36]\ttrain-auc:0.709603\teval-auc:0.710729\n",
      "[37]\ttrain-auc:0.710926\teval-auc:0.711908\n",
      "[38]\ttrain-auc:0.712125\teval-auc:0.712809\n",
      "[39]\ttrain-auc:0.713293\teval-auc:0.71374\n",
      "[40]\ttrain-auc:0.714622\teval-auc:0.715185\n",
      "[41]\ttrain-auc:0.715678\teval-auc:0.716287\n",
      "[42]\ttrain-auc:0.716829\teval-auc:0.717513\n",
      "[43]\ttrain-auc:0.718097\teval-auc:0.718483\n",
      "[44]\ttrain-auc:0.71924\teval-auc:0.719501\n",
      "[45]\ttrain-auc:0.720324\teval-auc:0.720375\n",
      "[46]\ttrain-auc:0.721449\teval-auc:0.721079\n",
      "[47]\ttrain-auc:0.722601\teval-auc:0.722333\n",
      "[48]\ttrain-auc:0.723866\teval-auc:0.723797\n",
      "[49]\ttrain-auc:0.724789\teval-auc:0.724712\n",
      "[50]\ttrain-auc:0.725738\teval-auc:0.725587\n",
      "[51]\ttrain-auc:0.726644\teval-auc:0.726497\n",
      "[52]\ttrain-auc:0.727474\teval-auc:0.726865\n",
      "[53]\ttrain-auc:0.728453\teval-auc:0.727823\n",
      "[54]\ttrain-auc:0.729158\teval-auc:0.728384\n",
      "[55]\ttrain-auc:0.730264\teval-auc:0.729365\n",
      "[56]\ttrain-auc:0.731117\teval-auc:0.730099\n",
      "[57]\ttrain-auc:0.732087\teval-auc:0.730807\n",
      "[58]\ttrain-auc:0.732941\teval-auc:0.731404\n",
      "[59]\ttrain-auc:0.733819\teval-auc:0.732228\n",
      "[60]\ttrain-auc:0.73476\teval-auc:0.732973\n",
      "[61]\ttrain-auc:0.73556\teval-auc:0.733979\n",
      "[62]\ttrain-auc:0.736346\teval-auc:0.734593\n",
      "[63]\ttrain-auc:0.737131\teval-auc:0.73525\n",
      "[64]\ttrain-auc:0.737816\teval-auc:0.73585\n",
      "[65]\ttrain-auc:0.738603\teval-auc:0.736608\n",
      "[66]\ttrain-auc:0.739394\teval-auc:0.737381\n",
      "[67]\ttrain-auc:0.740026\teval-auc:0.737914\n",
      "[68]\ttrain-auc:0.74099\teval-auc:0.738629\n",
      "[69]\ttrain-auc:0.741615\teval-auc:0.73912\n",
      "[70]\ttrain-auc:0.742359\teval-auc:0.739709\n",
      "[71]\ttrain-auc:0.743053\teval-auc:0.740079\n",
      "[72]\ttrain-auc:0.743707\teval-auc:0.740604\n",
      "[73]\ttrain-auc:0.744378\teval-auc:0.74106\n",
      "[74]\ttrain-auc:0.74497\teval-auc:0.74157\n",
      "[75]\ttrain-auc:0.745567\teval-auc:0.742131\n",
      "[76]\ttrain-auc:0.746306\teval-auc:0.742683\n",
      "[77]\ttrain-auc:0.746935\teval-auc:0.743202\n",
      "[78]\ttrain-auc:0.747579\teval-auc:0.743552\n",
      "[79]\ttrain-auc:0.74837\teval-auc:0.744094\n",
      "[80]\ttrain-auc:0.748909\teval-auc:0.744523\n",
      "[81]\ttrain-auc:0.749539\teval-auc:0.744978\n",
      "[82]\ttrain-auc:0.750201\teval-auc:0.745094\n",
      "[83]\ttrain-auc:0.750866\teval-auc:0.745465\n",
      "[84]\ttrain-auc:0.751394\teval-auc:0.745808\n",
      "[85]\ttrain-auc:0.751934\teval-auc:0.746118\n",
      "[86]\ttrain-auc:0.752637\teval-auc:0.746731\n",
      "[87]\ttrain-auc:0.753113\teval-auc:0.747144\n",
      "[88]\ttrain-auc:0.753795\teval-auc:0.747503\n",
      "[89]\ttrain-auc:0.754291\teval-auc:0.748066\n",
      "[90]\ttrain-auc:0.754753\teval-auc:0.748378\n",
      "[91]\ttrain-auc:0.755203\teval-auc:0.748793\n",
      "[92]\ttrain-auc:0.755704\teval-auc:0.74919\n",
      "[93]\ttrain-auc:0.756345\teval-auc:0.749703\n",
      "[94]\ttrain-auc:0.756791\teval-auc:0.750035\n",
      "[95]\ttrain-auc:0.757174\teval-auc:0.750317\n",
      "[96]\ttrain-auc:0.757687\teval-auc:0.750588\n",
      "[97]\ttrain-auc:0.75833\teval-auc:0.751135\n",
      "[98]\ttrain-auc:0.758814\teval-auc:0.751394\n",
      "[99]\ttrain-auc:0.759241\teval-auc:0.751605\n",
      "[100]\ttrain-auc:0.759776\teval-auc:0.751893\n",
      "[101]\ttrain-auc:0.760293\teval-auc:0.752417\n",
      "[102]\ttrain-auc:0.760821\teval-auc:0.752828\n",
      "[103]\ttrain-auc:0.761121\teval-auc:0.753063\n",
      "[104]\ttrain-auc:0.761579\teval-auc:0.753549\n",
      "[105]\ttrain-auc:0.76209\teval-auc:0.753935\n",
      "[106]\ttrain-auc:0.762565\teval-auc:0.754056\n",
      "[107]\ttrain-auc:0.76298\teval-auc:0.754403\n",
      "[108]\ttrain-auc:0.763585\teval-auc:0.754856\n",
      "[109]\ttrain-auc:0.764172\teval-auc:0.75543\n",
      "[110]\ttrain-auc:0.764613\teval-auc:0.755724\n",
      "[111]\ttrain-auc:0.765117\teval-auc:0.756103\n",
      "[112]\ttrain-auc:0.765373\teval-auc:0.756347\n",
      "[113]\ttrain-auc:0.765766\teval-auc:0.756593\n",
      "[114]\ttrain-auc:0.766235\teval-auc:0.756788\n",
      "[115]\ttrain-auc:0.766625\teval-auc:0.756896\n",
      "[116]\ttrain-auc:0.767053\teval-auc:0.757185\n",
      "[117]\ttrain-auc:0.767456\teval-auc:0.757323\n",
      "[118]\ttrain-auc:0.767921\teval-auc:0.757661\n",
      "[119]\ttrain-auc:0.768365\teval-auc:0.757946\n",
      "[120]\ttrain-auc:0.768853\teval-auc:0.758092\n",
      "[121]\ttrain-auc:0.76918\teval-auc:0.758375\n",
      "[122]\ttrain-auc:0.769564\teval-auc:0.758664\n",
      "[123]\ttrain-auc:0.769888\teval-auc:0.758982\n",
      "[124]\ttrain-auc:0.770261\teval-auc:0.759224\n",
      "[125]\ttrain-auc:0.770597\teval-auc:0.759403\n",
      "[126]\ttrain-auc:0.770953\teval-auc:0.759661\n",
      "[127]\ttrain-auc:0.771271\teval-auc:0.759859\n",
      "[128]\ttrain-auc:0.771504\teval-auc:0.759982\n",
      "[129]\ttrain-auc:0.771795\teval-auc:0.760083\n",
      "[130]\ttrain-auc:0.772196\teval-auc:0.76027\n",
      "[131]\ttrain-auc:0.772524\teval-auc:0.760383\n",
      "[132]\ttrain-auc:0.772965\teval-auc:0.760688\n",
      "[133]\ttrain-auc:0.773274\teval-auc:0.760967\n",
      "[134]\ttrain-auc:0.773722\teval-auc:0.761228\n",
      "[135]\ttrain-auc:0.774143\teval-auc:0.761511\n",
      "[136]\ttrain-auc:0.774496\teval-auc:0.761715\n",
      "[137]\ttrain-auc:0.774819\teval-auc:0.762036\n",
      "[138]\ttrain-auc:0.775195\teval-auc:0.762351\n",
      "[139]\ttrain-auc:0.77547\teval-auc:0.762474\n",
      "[140]\ttrain-auc:0.775835\teval-auc:0.762634\n",
      "[141]\ttrain-auc:0.77616\teval-auc:0.762812\n",
      "[142]\ttrain-auc:0.776528\teval-auc:0.762978\n",
      "[143]\ttrain-auc:0.776821\teval-auc:0.76321\n",
      "[144]\ttrain-auc:0.777144\teval-auc:0.763375\n",
      "[145]\ttrain-auc:0.777543\teval-auc:0.763515\n",
      "[146]\ttrain-auc:0.777779\teval-auc:0.763641\n",
      "[147]\ttrain-auc:0.77814\teval-auc:0.763801\n",
      "[148]\ttrain-auc:0.778475\teval-auc:0.763891\n",
      "[149]\ttrain-auc:0.778828\teval-auc:0.764159\n",
      "[150]\ttrain-auc:0.779178\teval-auc:0.764354\n",
      "[151]\ttrain-auc:0.779542\teval-auc:0.764708\n",
      "[152]\ttrain-auc:0.779844\teval-auc:0.764877\n",
      "[153]\ttrain-auc:0.780141\teval-auc:0.765133\n",
      "[154]\ttrain-auc:0.780573\teval-auc:0.765472\n",
      "[155]\ttrain-auc:0.78088\teval-auc:0.765729\n",
      "[156]\ttrain-auc:0.78129\teval-auc:0.76606\n",
      "[157]\ttrain-auc:0.781546\teval-auc:0.766123\n",
      "[158]\ttrain-auc:0.781726\teval-auc:0.76628\n",
      "[159]\ttrain-auc:0.782102\teval-auc:0.766495\n",
      "[160]\ttrain-auc:0.782357\teval-auc:0.766798\n",
      "[161]\ttrain-auc:0.782671\teval-auc:0.767\n",
      "[162]\ttrain-auc:0.782958\teval-auc:0.767098\n",
      "[163]\ttrain-auc:0.783206\teval-auc:0.767319\n",
      "[164]\ttrain-auc:0.783442\teval-auc:0.76757\n",
      "[165]\ttrain-auc:0.784021\teval-auc:0.767896\n",
      "[166]\ttrain-auc:0.784425\teval-auc:0.768146\n",
      "[167]\ttrain-auc:0.784751\teval-auc:0.768384\n",
      "[168]\ttrain-auc:0.785074\teval-auc:0.768698\n",
      "[169]\ttrain-auc:0.785327\teval-auc:0.768977\n",
      "[170]\ttrain-auc:0.785636\teval-auc:0.769203\n",
      "[171]\ttrain-auc:0.785844\teval-auc:0.769324\n",
      "[172]\ttrain-auc:0.786039\teval-auc:0.76941\n",
      "[173]\ttrain-auc:0.786351\teval-auc:0.769606\n",
      "[174]\ttrain-auc:0.786711\teval-auc:0.769839\n",
      "[175]\ttrain-auc:0.786974\teval-auc:0.770042\n",
      "[176]\ttrain-auc:0.787273\teval-auc:0.77028\n",
      "[177]\ttrain-auc:0.787476\teval-auc:0.770392\n",
      "[178]\ttrain-auc:0.787699\teval-auc:0.770512\n",
      "[179]\ttrain-auc:0.787949\teval-auc:0.770654\n",
      "[180]\ttrain-auc:0.788136\teval-auc:0.770778\n",
      "[181]\ttrain-auc:0.78832\teval-auc:0.770921\n",
      "[182]\ttrain-auc:0.78861\teval-auc:0.771096\n",
      "[183]\ttrain-auc:0.788837\teval-auc:0.771156\n",
      "[184]\ttrain-auc:0.789034\teval-auc:0.77123\n",
      "[185]\ttrain-auc:0.789231\teval-auc:0.771369\n",
      "[186]\ttrain-auc:0.789478\teval-auc:0.771545\n",
      "[187]\ttrain-auc:0.789672\teval-auc:0.771663\n",
      "[188]\ttrain-auc:0.789941\teval-auc:0.77181\n",
      "[189]\ttrain-auc:0.790169\teval-auc:0.771994\n",
      "[190]\ttrain-auc:0.790404\teval-auc:0.772128\n"
     ]
    },
    {
     "name": "stdout",
     "output_type": "stream",
     "text": [
      "[191]\ttrain-auc:0.79073\teval-auc:0.772233\n",
      "[192]\ttrain-auc:0.79104\teval-auc:0.772459\n",
      "[193]\ttrain-auc:0.791178\teval-auc:0.772469\n",
      "[194]\ttrain-auc:0.791385\teval-auc:0.772594\n",
      "[195]\ttrain-auc:0.791704\teval-auc:0.772756\n",
      "[196]\ttrain-auc:0.792013\teval-auc:0.772951\n",
      "[197]\ttrain-auc:0.792223\teval-auc:0.773116\n",
      "[198]\ttrain-auc:0.79255\teval-auc:0.7733\n",
      "[199]\ttrain-auc:0.792752\teval-auc:0.773341\n",
      "0.6881446969542837\n",
      "Wall time: 8min 50s\n"
     ]
    }
   ],
   "source": [
    "%%time\n",
    "max_depth = 5\n",
    "subsample = 0.7\n",
    "colsample_bytree = 0.7\n",
    "params = {\n",
    "    'objective' : 'binary:logistic', \n",
    "    'booster' : 'gbtree',\n",
    "    'max_depth' : max_depth, \n",
    "    'subsample' : subsample,\n",
    "    'eval_metric' : 'auc', \n",
    "    'colsample_bytree' : colsample_bytree,\n",
    "    'silent' : 1, \n",
    "    'eta' : 0.125,\n",
    "    'nthread' : cores\n",
    "}\n",
    "num_boost_round = 200\n",
    "early_stopping_rounds = 10\n",
    "test_size = 0.15\n",
    "\n",
    "watchlist = [(dtrain, 'train'), (dvalid, 'eval')]\n",
    "gbm = xgb.train(params, dtrain, num_boost_round, evals = watchlist,\n",
    "                early_stopping_rounds = early_stopping_rounds, verbose_eval = True)\n",
    "test_prediction = gbm.predict(xgb.DMatrix(test_vecs_w2v))\n",
    "test_class = np.round(test_prediction)\n",
    "test_acc = accuracy_score(y_test, test_class)\n",
    "print (test_acc)\n",
    "gbm.save_model(saveClassifierPath+'XGBoost_'+train_x_by_m1_name)"
   ]
  },
  {
   "cell_type": "code",
   "execution_count": 28,
   "metadata": {},
   "outputs": [
    {
     "name": "stdout",
     "output_type": "stream",
     "text": [
      "Logistic Regression\n",
      "Random Forest\n",
      "Kernel SVM\n",
      "XGBoost\n"
     ]
    },
    {
     "data": {
      "image/png": "[encoded data removed]",
      "text/plain": [
       "<matplotlib.figure.Figure at 0x1a5ee0d4780>"
      ]
     },
     "metadata": {},
     "output_type": "display_data"
    },
    {
     "name": "stdout",
     "output_type": "stream",
     "text": [
      "Wall time: 2min 26s\n"
     ]
    }
   ],
   "source": [
    "%%time\n",
    "Make_Roc_Curve(test_x_by_m1, test_y, classifier, classifier2, classifier3, gbm)"
   ]
  },
  {
   "cell_type": "code",
   "execution_count": 29,
   "metadata": {},
   "outputs": [],
   "source": [
    "del classifier\n",
    "del classifier2\n",
    "del classifier3\n",
    "del gbm"
   ]
  },
  {
   "cell_type": "markdown",
   "metadata": {},
   "source": [
    "#### 분류모델 :  Neural Network"
   ]
  },
  {
   "cell_type": "code",
   "execution_count": 30,
   "metadata": {},
   "outputs": [
    {
     "data": {
      "application/vnd.jupyter.widget-view+json": {
       "model_id": "68567b87a5754d139d451a2cd00b6d1f",
       "version_major": 2,
       "version_minor": 0
      },
      "text/html": [
       "<p>Failed to display Jupyter Widget of type <code>HBox</code>.</p>\n",
       "<p>\n",
       "  If you're reading this message in the Jupyter Notebook or JupyterLab Notebook, it may mean\n",
       "  that the widgets JavaScript is still loading. If this message persists, it\n",
       "  likely means that the widgets JavaScript library is either not installed or\n",
       "  not enabled. See the <a href=\"https://ipywidgets.readthedocs.io/en/stable/user_install.html\">Jupyter\n",
       "  Widgets Documentation</a> for setup instructions.\n",
       "</p>\n",
       "<p>\n",
       "  If you're reading this message in another frontend (for example, a static\n",
       "  rendering on GitHub or <a href=\"https://nbviewer.jupyter.org/\">NBViewer</a>),\n",
       "  it may mean that your frontend doesn't currently support widgets.\n",
       "</p>\n"
      ],
      "text/plain": [
       "HBox(children=(IntProgress(value=0, description='Training', max=300), HTML(value='')))"
      ]
     },
     "metadata": {},
     "output_type": "display_data"
    },
    {
     "name": "stdout",
     "output_type": "stream",
     "text": [
      "\n",
      "Score: 0.5222\n",
      "Accuracy: 0.7104\n"
     ]
    }
   ],
   "source": [
    "model = Sequential()\n",
    "model.add(Dense(32, activation='relu', input_dim=1000))\n",
    "model.add(Dense(1, activation='sigmoid'))\n",
    "model.compile(optimizer='rmsprop',\n",
    "              loss='binary_crossentropy',\n",
    "              metrics=['accuracy'])\n",
    "history = model.fit(train_vecs_w2v, y_train, epochs=300, batch_size = 250000,  verbose=0,\n",
    "          validation_split=0.2,\n",
    "          callbacks=[TQDMNotebookCallback(show_inner=False)])\n",
    "score, acc = model.evaluate(test_vecs_w2v, y_test, verbose=0)\n",
    "print('Score: %1.4f' % score)\n",
    "print('Accuracy: %1.4f' % acc)"
   ]
  },
  {
   "cell_type": "code",
   "execution_count": 31,
   "metadata": {},
   "outputs": [],
   "source": [
    "model.save(saveClassifierPath+'NeuralNetwork_1_'+train_x_by_m1_name)"
   ]
  },
  {
   "cell_type": "code",
   "execution_count": 32,
   "metadata": {},
   "outputs": [
    {
     "data": {
      "image/png": "[encoded data removed]",
      "text/plain": [
       "<matplotlib.figure.Figure at 0x1a3a1dbc8d0>"
      ]
     },
     "metadata": {},
     "output_type": "display_data"
    },
    {
     "data": {
      "image/png": "[encoded data removed]",
      "text/plain": [
       "<matplotlib.figure.Figure at 0x1a3a434fdd8>"
      ]
     },
     "metadata": {},
     "output_type": "display_data"
    }
   ],
   "source": [
    "plot_history(history)"
   ]
  },
  {
   "cell_type": "code",
   "execution_count": 33,
   "metadata": {
    "scrolled": true
   },
   "outputs": [
    {
     "data": {
      "application/vnd.jupyter.widget-view+json": {
       "model_id": "5a3247e9166b4241a8e76802cebb69c6",
       "version_major": 2,
       "version_minor": 0
      },
      "text/html": [
       "<p>Failed to display Jupyter Widget of type <code>HBox</code>.</p>\n",
       "<p>\n",
       "  If you're reading this message in the Jupyter Notebook or JupyterLab Notebook, it may mean\n",
       "  that the widgets JavaScript is still loading. If this message persists, it\n",
       "  likely means that the widgets JavaScript library is either not installed or\n",
       "  not enabled. See the <a href=\"https://ipywidgets.readthedocs.io/en/stable/user_install.html\">Jupyter\n",
       "  Widgets Documentation</a> for setup instructions.\n",
       "</p>\n",
       "<p>\n",
       "  If you're reading this message in another frontend (for example, a static\n",
       "  rendering on GitHub or <a href=\"https://nbviewer.jupyter.org/\">NBViewer</a>),\n",
       "  it may mean that your frontend doesn't currently support widgets.\n",
       "</p>\n"
      ],
      "text/plain": [
       "HBox(children=(IntProgress(value=0, description='Training', max=300), HTML(value='')))"
      ]
     },
     "metadata": {},
     "output_type": "display_data"
    },
    {
     "name": "stdout",
     "output_type": "stream",
     "text": [
      "\n",
      "Score: 0.5467\n",
      "Accuracy: 0.7059\n"
     ]
    }
   ],
   "source": [
    "model = Sequential()\n",
    "model.add(Dense(128, activation='relu', input_dim=1000))\n",
    "model.add(Dense(64, activation='relu', kernel_regularizer=l2(0.001)))\n",
    "model.add(Dropout(0.1))\n",
    "model.add(Dense(32, activation='relu', kernel_regularizer=l2(0.001)))\n",
    "model.add(Dropout(0.1))\n",
    "model.add(Dense(1, activation='sigmoid'))\n",
    "model.compile(#optimizer='rmsprop',\n",
    "    optimizer='adadelta',\n",
    "              #loss='binary_crossentropy',\n",
    "    #optimizer=SGD(lr=0.2), \n",
    "    loss='binary_crossentropy',\n",
    "    metrics=['accuracy'])\n",
    "\n",
    "history = model.fit(train_vecs_w2v, y_train, epochs=300, batch_size = 250000,  verbose=0, validation_split=0.2,\n",
    "          callbacks=[TQDMNotebookCallback(show_inner=False)])\n",
    "score, acc = model.evaluate(test_vecs_w2v, y_test, verbose=0)\n",
    "print('Score: %1.4f' % score)\n",
    "print('Accuracy: %1.4f' % acc)"
   ]
  },
  {
   "cell_type": "code",
   "execution_count": 34,
   "metadata": {},
   "outputs": [],
   "source": [
    "model.save(saveClassifierPath+'NeuralNetwork_2_'+train_x_by_m1_name)"
   ]
  },
  {
   "cell_type": "code",
   "execution_count": 35,
   "metadata": {},
   "outputs": [
    {
     "data": {
      "image/png": "[encoded data removed]",
      "text/plain": [
       "<matplotlib.figure.Figure at 0x1a60fe9b908>"
      ]
     },
     "metadata": {},
     "output_type": "display_data"
    },
    {
     "data": {
      "image/png": "[encoded data removed]",
      "text/plain": [
       "<matplotlib.figure.Figure at 0x1a547102e48>"
      ]
     },
     "metadata": {},
     "output_type": "display_data"
    }
   ],
   "source": [
    "plot_history(history)"
   ]
  },
  {
   "cell_type": "code",
   "execution_count": 36,
   "metadata": {},
   "outputs": [],
   "source": [
    "del train_x_by_m1\n",
    "del train_x_by_m1_name\n",
    "del test_x_by_m1\n",
    "del test_x_by_m1_name"
   ]
  },
  {
   "cell_type": "markdown",
   "metadata": {},
   "source": [
    "#### model2\n",
    "* Doc2Vec(dm/c,d1000,n7,w5,mc5,s0.001,t12)\n",
    "* size-1000\n",
    "* epoch-20\n",
    "* window-5\n",
    "* negative-7\n",
    "* hs-0\n",
    "* dm-1\n",
    "* dm_concat-1\n",
    "* dm_mean-0"
   ]
  },
  {
   "cell_type": "code",
   "execution_count": 37,
   "metadata": {},
   "outputs": [],
   "source": [
    "train_x_by_m2_name = 'train_x_Doc2Vec-dm-c-d1000-n7-w5-mc5-s0.001-t12-ct'\n",
    "train_x_by_m2 = pickle.load(open(saveTrainPath+train_x_by_m2_name,'rb'))\n",
    "train_y = pickle.load(open(saveTrainPath+'train_senti_y_ct_for_sentiment_analysis','rb'))"
   ]
  },
  {
   "cell_type": "code",
   "execution_count": 38,
   "metadata": {},
   "outputs": [],
   "source": [
    "test_x_by_m2_name = 'test_x_Doc2Vec-dm-c-d1000-n7-w5-mc5-s0.001-t12-ct'\n",
    "test_x_by_m2 = pickle.load(open(saveTrainPath+test_x_by_m2_name,'rb'))\n",
    "test_y = pickle.load(open(saveTrainPath+'test_senti_y_ct_for_sentiment_analysis','rb'))"
   ]
  },
  {
   "cell_type": "code",
   "execution_count": 39,
   "metadata": {},
   "outputs": [
    {
     "name": "stderr",
     "output_type": "stream",
     "text": [
      "100%|██████████| 442359/442359 [00:00<00:00, 1773800.40it/s]\n",
      "100%|██████████| 49151/49151 [00:00<00:00, 1752192.73it/s]\n"
     ]
    }
   ],
   "source": [
    "train_y2 = [y[0] for y in tqdm(train_y)]\n",
    "test_y2 = [y[0] for y in tqdm(test_y)]"
   ]
  },
  {
   "cell_type": "markdown",
   "metadata": {},
   "source": [
    "#### 분류 모델 : Logistic Regression"
   ]
  },
  {
   "cell_type": "code",
   "execution_count": 40,
   "metadata": {},
   "outputs": [
    {
     "name": "stderr",
     "output_type": "stream",
     "text": [
      "C:\\Users\\pc\\Anaconda3\\lib\\site-packages\\sklearn\\linear_model\\logistic.py:1228: UserWarning: 'n_jobs' > 1 does not have any effect when 'solver' is set to 'liblinear'. Got 'n_jobs' = 12.\n",
      "  \" = {}.\".format(self.n_jobs))\n"
     ]
    },
    {
     "name": "stdout",
     "output_type": "stream",
     "text": [
      "{'C': 1.0, 'class_weight': None, 'dual': False, 'fit_intercept': True, 'intercept_scaling': 1, 'max_iter': 250, 'multi_class': 'ovr', 'n_jobs': 12, 'penalty': 'l2', 'random_state': 1234, 'solver': 'liblinear', 'tol': 0.0001, 'verbose': 0, 'warm_start': False}\n",
      "score : 0.5074566132937275\n",
      "classification report\n",
      "             precision    recall  f1-score   support\n",
      "\n",
      "          0       0.51      0.95      0.66     25177\n",
      "          1       0.45      0.05      0.08     23974\n",
      "\n",
      "avg / total       0.48      0.51      0.38     49151\n",
      "\n",
      "Wall time: 26min 5s\n"
     ]
    }
   ],
   "source": [
    "%%time\n",
    "classifier = LogisticRegression(random_state=1234, max_iter = 250, n_jobs=cores)\n",
    "classifier.fit(train_x_by_m2, train_y2)\n",
    "print (classifier.get_params())\n",
    "print( 'score : {}'.format(classifier.score(test_x_by_m2, test_y2)))\n",
    "print ('classification report')\n",
    "print (classification_report(test_y2, classifier.predict(test_x_by_m2)))"
   ]
  },
  {
   "cell_type": "code",
   "execution_count": 41,
   "metadata": {},
   "outputs": [],
   "source": [
    "pickle.dump(classifier,open(saveClassifierPath+'LogisticRegression_'+train_x_by_m2_name, 'wb'))"
   ]
  },
  {
   "cell_type": "markdown",
   "metadata": {},
   "source": [
    "#### 분류모델 : RandomForest Classifier"
   ]
  },
  {
   "cell_type": "code",
   "execution_count": 42,
   "metadata": {},
   "outputs": [
    {
     "name": "stdout",
     "output_type": "stream",
     "text": [
      "{'bootstrap': True, 'class_weight': None, 'criterion': 'gini', 'max_depth': None, 'max_features': 'auto', 'max_leaf_nodes': None, 'min_impurity_decrease': 0.0, 'min_impurity_split': None, 'min_samples_leaf': 1, 'min_samples_split': 2, 'min_weight_fraction_leaf': 0.0, 'n_estimators': 75, 'n_jobs': 12, 'oob_score': False, 'random_state': 1234, 'verbose': 0, 'warm_start': False}\n",
      "score : 0.5312608085288194\n",
      "classification report\n",
      "             precision    recall  f1-score   support\n",
      "\n",
      "          0       0.54      0.53      0.54     25177\n",
      "          1       0.52      0.53      0.53     23974\n",
      "\n",
      "avg / total       0.53      0.53      0.53     49151\n",
      "\n",
      "Wall time: 9min 22s\n"
     ]
    }
   ],
   "source": [
    "%%time\n",
    "classifier2 = RandomForestClassifier(random_state=1234, n_estimators = 75, n_jobs=cores)\n",
    "classifier2.fit(train_x_by_m2, train_y2)\n",
    "print (classifier2.get_params())\n",
    "print( 'score : {}'.format(classifier2.score(test_x_by_m2, test_y2)))\n",
    "print ('classification report')\n",
    "print (classification_report(test_y2, classifier2.predict(test_x_by_m2)))"
   ]
  },
  {
   "cell_type": "code",
   "execution_count": 43,
   "metadata": {},
   "outputs": [],
   "source": [
    "pickle.dump(classifier2,open(saveClassifierPath+'RandomForestClassifier_'+train_x_by_m2_name, 'wb'))"
   ]
  },
  {
   "cell_type": "markdown",
   "metadata": {},
   "source": [
    "#### 분류모델 : C-Support Vector Classification"
   ]
  },
  {
   "cell_type": "code",
   "execution_count": 44,
   "metadata": {},
   "outputs": [
    {
     "name": "stdout",
     "output_type": "stream",
     "text": [
      "[LibSVM]"
     ]
    },
    {
     "name": "stderr",
     "output_type": "stream",
     "text": [
      "C:\\Users\\pc\\Anaconda3\\lib\\site-packages\\sklearn\\svm\\base.py:218: ConvergenceWarning: Solver terminated early (max_iter=1500).  Consider pre-processing your data with StandardScaler or MinMaxScaler.\n",
      "  % self.max_iter, ConvergenceWarning)\n"
     ]
    },
    {
     "name": "stdout",
     "output_type": "stream",
     "text": [
      "{'C': 1.0, 'cache_size': 1024, 'class_weight': None, 'coef0': 0.0, 'decision_function_shape': 'ovr', 'degree': 3, 'gamma': 'auto', 'kernel': 'linear', 'max_iter': 1500, 'probability': False, 'random_state': None, 'shrinking': True, 'tol': 0.001, 'verbose': True}\n",
      "score : 0.48957294866838924\n",
      "classification report\n",
      "             precision    recall  f1-score   support\n",
      "\n",
      "          0       0.61      0.01      0.02     25177\n",
      "          1       0.49      0.99      0.65     23974\n",
      "\n",
      "avg / total       0.55      0.49      0.33     49151\n",
      "\n",
      "Wall time: 8min 46s\n"
     ]
    }
   ],
   "source": [
    "%%time\n",
    "scaling = MinMaxScaler(feature_range=(-1, 1)).fit(train_x_by_m2)\n",
    "train_x_by_m2_2 = scaling.transform(train_x_by_m2)\n",
    "test_x_by_m2_2 = scaling.transform(test_x_by_m2)\n",
    "classifier3 =  SVC(kernel = 'linear', \n",
    "        cache_size= 1024, max_iter = 1500, verbose = True) \n",
    "classifier3.fit(train_x_by_m2_2, train_y2)\n",
    "print (classifier3.get_params())\n",
    "print( 'score : {}'.format(classifier3.score(test_x_by_m2_2, test_y2)))\n",
    "print ('classification report')\n",
    "print (classification_report(test_y2, classifier3.predict(test_x_by_m2_2)))"
   ]
  },
  {
   "cell_type": "code",
   "execution_count": 45,
   "metadata": {},
   "outputs": [],
   "source": [
    "del scaling\n",
    "del train_x_by_m2_2\n",
    "del test_x_by_m2_2"
   ]
  },
  {
   "cell_type": "code",
   "execution_count": 46,
   "metadata": {},
   "outputs": [],
   "source": [
    "pickle.dump(classifier3,open(saveClassifierPath+'SVC_'+train_x_by_m2_name, 'wb'))"
   ]
  },
  {
   "cell_type": "markdown",
   "metadata": {},
   "source": [
    "#### 분류모델 : XGBOOST"
   ]
  },
  {
   "cell_type": "code",
   "execution_count": 47,
   "metadata": {
    "scrolled": true
   },
   "outputs": [
    {
     "name": "stderr",
     "output_type": "stream",
     "text": [
      "442359it [00:08, 49450.30it/s]\n",
      "C:\\Users\\pc\\Anaconda3\\lib\\site-packages\\sklearn\\preprocessing\\data.py:181: UserWarning: Numerical issues were encountered when scaling the data and might not be solved. The standard deviation of the data is probably very close to 0. \n",
      "  warnings.warn(\"Numerical issues were encountered \"\n",
      "49151it [00:00, 522671.63it/s]\n"
     ]
    },
    {
     "name": "stdout",
     "output_type": "stream",
     "text": [
      "Wall time: 23.8 s\n"
     ]
    }
   ],
   "source": [
    "%%time\n",
    "train_vecs_w2v = np.concatenate([z.reshape(1,-1) for z in tqdm(map(lambda x: x,train_x_by_m2))])\n",
    "train_vecs_w2v = scale(train_vecs_w2v)\n",
    "\n",
    "test_vecs_w2v = np.concatenate([z.reshape(1,-1) for z in tqdm(map(lambda x: x, test_x_by_m2))])\n",
    "test_vecs_w2v = scale(test_vecs_w2v)\n",
    "\n",
    "y_test = np.array(test_y)\n",
    "y_train = np.array(train_y)"
   ]
  },
  {
   "cell_type": "code",
   "execution_count": 48,
   "metadata": {},
   "outputs": [
    {
     "name": "stdout",
     "output_type": "stream",
     "text": [
      "Wall time: 6.83 s\n"
     ]
    }
   ],
   "source": [
    "%%time\n",
    "dtrain = xgb.DMatrix(train_vecs_w2v, y_train)\n",
    "dvalid = xgb.DMatrix(test_vecs_w2v, y_test)"
   ]
  },
  {
   "cell_type": "code",
   "execution_count": 49,
   "metadata": {
    "scrolled": true
   },
   "outputs": [
    {
     "name": "stdout",
     "output_type": "stream",
     "text": [
      "[0]\ttrain-auc:0.551102\teval-auc:0.552167\n",
      "Multiple eval metrics have been passed: 'eval-auc' will be used for early stopping.\n",
      "\n",
      "Will train until eval-auc hasn't improved in 10 rounds.\n",
      "[1]\ttrain-auc:0.554097\teval-auc:0.554799\n",
      "[2]\ttrain-auc:0.555049\teval-auc:0.555529\n",
      "[3]\ttrain-auc:0.557052\teval-auc:0.557762\n",
      "[4]\ttrain-auc:0.557387\teval-auc:0.557806\n",
      "[5]\ttrain-auc:0.557809\teval-auc:0.557569\n",
      "[6]\ttrain-auc:0.558184\teval-auc:0.557579\n",
      "[7]\ttrain-auc:0.558783\teval-auc:0.558914\n",
      "[8]\ttrain-auc:0.558946\teval-auc:0.558934\n",
      "[9]\ttrain-auc:0.559766\teval-auc:0.558546\n",
      "[10]\ttrain-auc:0.561161\teval-auc:0.556688\n",
      "[11]\ttrain-auc:0.561692\teval-auc:0.557011\n",
      "[12]\ttrain-auc:0.561797\teval-auc:0.557932\n",
      "[13]\ttrain-auc:0.562785\teval-auc:0.557152\n",
      "[14]\ttrain-auc:0.563514\teval-auc:0.556364\n",
      "[15]\ttrain-auc:0.563838\teval-auc:0.556327\n",
      "[16]\ttrain-auc:0.564366\teval-auc:0.556988\n",
      "[17]\ttrain-auc:0.565085\teval-auc:0.556595\n",
      "[18]\ttrain-auc:0.565722\teval-auc:0.556751\n",
      "Stopping. Best iteration:\n",
      "[8]\ttrain-auc:0.558946\teval-auc:0.558934\n",
      "\n",
      "0.5432442880104169\n",
      "Wall time: 58.6 s\n"
     ]
    }
   ],
   "source": [
    "%%time\n",
    "max_depth = 5\n",
    "subsample = 0.7\n",
    "colsample_bytree = 0.7\n",
    "params = {\n",
    "    'objective' : 'binary:logistic', \n",
    "    'booster' : 'gbtree',\n",
    "    'max_depth' : max_depth, \n",
    "    'subsample' : subsample,\n",
    "    'eval_metric' : 'auc', \n",
    "    'colsample_bytree' : colsample_bytree,\n",
    "    'silent' : 1, \n",
    "    'eta' : 0.125,\n",
    "    'nthread' : cores\n",
    "}\n",
    "num_boost_round = 200\n",
    "early_stopping_rounds = 10\n",
    "test_size = 0.15\n",
    "\n",
    "watchlist = [(dtrain, 'train'), (dvalid, 'eval')]\n",
    "gbm = xgb.train(params, dtrain, num_boost_round, evals = watchlist,\n",
    "                early_stopping_rounds = early_stopping_rounds, verbose_eval = True)\n",
    "test_prediction = gbm.predict(xgb.DMatrix(test_vecs_w2v))\n",
    "test_class = np.round(test_prediction)\n",
    "test_acc = accuracy_score(y_test, test_class)\n",
    "print (test_acc)\n",
    "gbm.save_model(saveClassifierPath+'XGBoost_'+train_x_by_m2_name)"
   ]
  },
  {
   "cell_type": "code",
   "execution_count": 50,
   "metadata": {},
   "outputs": [
    {
     "name": "stdout",
     "output_type": "stream",
     "text": [
      "Logistic Regression\n",
      "Random Forest\n",
      "Kernel SVM\n",
      "XGBoost\n"
     ]
    },
    {
     "data": {
      "image/png": "[encoded data removed]",
      "text/plain": [
       "<matplotlib.figure.Figure at 0x1a60f107860>"
      ]
     },
     "metadata": {},
     "output_type": "display_data"
    },
    {
     "name": "stdout",
     "output_type": "stream",
     "text": [
      "Wall time: 1min 23s\n"
     ]
    }
   ],
   "source": [
    "%%time\n",
    "Make_Roc_Curve(test_x_by_m2, test_y, classifier, classifier2, classifier3, gbm)"
   ]
  },
  {
   "cell_type": "code",
   "execution_count": 51,
   "metadata": {},
   "outputs": [],
   "source": [
    "del classifier\n",
    "del classifier2\n",
    "del classifier3\n",
    "del gbm"
   ]
  },
  {
   "cell_type": "markdown",
   "metadata": {},
   "source": [
    "#### 분류모델 : Neural Network"
   ]
  },
  {
   "cell_type": "code",
   "execution_count": 52,
   "metadata": {},
   "outputs": [
    {
     "data": {
      "application/vnd.jupyter.widget-view+json": {
       "model_id": "f84728b0af2b4ee58c962665b78770cd",
       "version_major": 2,
       "version_minor": 0
      },
      "text/html": [
       "<p>Failed to display Jupyter Widget of type <code>HBox</code>.</p>\n",
       "<p>\n",
       "  If you're reading this message in the Jupyter Notebook or JupyterLab Notebook, it may mean\n",
       "  that the widgets JavaScript is still loading. If this message persists, it\n",
       "  likely means that the widgets JavaScript library is either not installed or\n",
       "  not enabled. See the <a href=\"https://ipywidgets.readthedocs.io/en/stable/user_install.html\">Jupyter\n",
       "  Widgets Documentation</a> for setup instructions.\n",
       "</p>\n",
       "<p>\n",
       "  If you're reading this message in another frontend (for example, a static\n",
       "  rendering on GitHub or <a href=\"https://nbviewer.jupyter.org/\">NBViewer</a>),\n",
       "  it may mean that your frontend doesn't currently support widgets.\n",
       "</p>\n"
      ],
      "text/plain": [
       "HBox(children=(IntProgress(value=0, description='Training', max=300), HTML(value='')))"
      ]
     },
     "metadata": {},
     "output_type": "display_data"
    },
    {
     "name": "stdout",
     "output_type": "stream",
     "text": [
      "\n",
      "Score: 0.6916\n",
      "Accuracy: 0.5376\n"
     ]
    }
   ],
   "source": [
    "model = Sequential()\n",
    "model.add(Dense(32, activation='relu', input_dim=1000))\n",
    "model.add(Dense(1, activation='sigmoid'))\n",
    "model.compile(optimizer='rmsprop',\n",
    "              loss='binary_crossentropy',\n",
    "              metrics=['accuracy'])\n",
    "history = model.fit(train_vecs_w2v, y_train, epochs=300, batch_size = 250000,  verbose=0,\n",
    "          validation_split=0.2,\n",
    "          callbacks=[TQDMNotebookCallback(show_inner=False)])\n",
    "score, acc = model.evaluate(test_vecs_w2v, y_test, verbose=0)\n",
    "print('Score: %1.4f' % score)\n",
    "print('Accuracy: %1.4f' % acc)"
   ]
  },
  {
   "cell_type": "code",
   "execution_count": 53,
   "metadata": {},
   "outputs": [],
   "source": [
    "model.save(saveClassifierPath+'NeuralNetwork_1_'+train_x_by_m2_name)"
   ]
  },
  {
   "cell_type": "code",
   "execution_count": 54,
   "metadata": {},
   "outputs": [
    {
     "data": {
      "image/png": "[encoded data removed]",
      "text/plain": [
       "<matplotlib.figure.Figure at 0x1a3a23526a0>"
      ]
     },
     "metadata": {},
     "output_type": "display_data"
    },
    {
     "data": {
      "image/png": "[encoded data removed]",
      "text/plain": [
       "<matplotlib.figure.Figure at 0x1a5fa331390>"
      ]
     },
     "metadata": {},
     "output_type": "display_data"
    }
   ],
   "source": [
    "plot_history(history)"
   ]
  },
  {
   "cell_type": "code",
   "execution_count": 55,
   "metadata": {
    "scrolled": true
   },
   "outputs": [
    {
     "data": {
      "application/vnd.jupyter.widget-view+json": {
       "model_id": "aad213bc93a34623bac5d088f9114577",
       "version_major": 2,
       "version_minor": 0
      },
      "text/html": [
       "<p>Failed to display Jupyter Widget of type <code>HBox</code>.</p>\n",
       "<p>\n",
       "  If you're reading this message in the Jupyter Notebook or JupyterLab Notebook, it may mean\n",
       "  that the widgets JavaScript is still loading. If this message persists, it\n",
       "  likely means that the widgets JavaScript library is either not installed or\n",
       "  not enabled. See the <a href=\"https://ipywidgets.readthedocs.io/en/stable/user_install.html\">Jupyter\n",
       "  Widgets Documentation</a> for setup instructions.\n",
       "</p>\n",
       "<p>\n",
       "  If you're reading this message in another frontend (for example, a static\n",
       "  rendering on GitHub or <a href=\"https://nbviewer.jupyter.org/\">NBViewer</a>),\n",
       "  it may mean that your frontend doesn't currently support widgets.\n",
       "</p>\n"
      ],
      "text/plain": [
       "HBox(children=(IntProgress(value=0, description='Training', max=300), HTML(value='')))"
      ]
     },
     "metadata": {},
     "output_type": "display_data"
    },
    {
     "name": "stdout",
     "output_type": "stream",
     "text": [
      "\n",
      "Score: 0.6980\n",
      "Accuracy: 0.5444\n"
     ]
    }
   ],
   "source": [
    "model = Sequential()\n",
    "model.add(Dense(128, activation='relu', input_dim=1000))\n",
    "model.add(Dense(64, activation='relu', kernel_regularizer=l2(0.001)))\n",
    "model.add(Dropout(0.1))\n",
    "model.add(Dense(32, activation='relu', kernel_regularizer=l2(0.001)))\n",
    "model.add(Dropout(0.1))\n",
    "model.add(Dense(1, activation='sigmoid'))\n",
    "model.compile(#optimizer='rmsprop',\n",
    "    optimizer='adadelta',\n",
    "              #loss='binary_crossentropy',\n",
    "    #optimizer=SGD(lr=0.2), \n",
    "    loss='binary_crossentropy',\n",
    "    metrics=['accuracy'])\n",
    "\n",
    "history = model.fit(train_vecs_w2v, y_train, epochs=300, batch_size = 250000,  verbose=0, validation_split=0.2,\n",
    "          callbacks=[TQDMNotebookCallback(show_inner=False)])\n",
    "score, acc = model.evaluate(test_vecs_w2v, y_test, verbose=0)\n",
    "print('Score: %1.4f' % score)\n",
    "print('Accuracy: %1.4f' % acc)"
   ]
  },
  {
   "cell_type": "code",
   "execution_count": 56,
   "metadata": {},
   "outputs": [],
   "source": [
    "model.save(saveClassifierPath+'NeuralNetwork_2_'+train_x_by_m2_name)"
   ]
  },
  {
   "cell_type": "code",
   "execution_count": 57,
   "metadata": {},
   "outputs": [
    {
     "data": {
      "image/png": "[encoded data removed]",
      "text/plain": [
       "<matplotlib.figure.Figure at 0x1a3a2352630>"
      ]
     },
     "metadata": {},
     "output_type": "display_data"
    },
    {
     "data": {
      "image/png": "[encoded data removed]",
      "text/plain": [
       "<matplotlib.figure.Figure at 0x1a607205f60>"
      ]
     },
     "metadata": {},
     "output_type": "display_data"
    }
   ],
   "source": [
    "plot_history(history)"
   ]
  },
  {
   "cell_type": "code",
   "execution_count": 58,
   "metadata": {},
   "outputs": [],
   "source": [
    "del train_x_by_m2\n",
    "del train_x_by_m2_name\n",
    "del test_x_by_m2\n",
    "del test_x_by_m2_name"
   ]
  },
  {
   "cell_type": "markdown",
   "metadata": {},
   "source": [
    "#### model3\n",
    "* Doc2Vec(dbow,d1000,n7,mc5,s0.001,t12)\n",
    "* size-1000\n",
    "* epoch-20\n",
    "* window-None\n",
    "* negative-7\n",
    "* hs-0\n",
    "* dm-0\n",
    "* dm_concat-0\n",
    "* dm_mean-0"
   ]
  },
  {
   "cell_type": "code",
   "execution_count": 59,
   "metadata": {},
   "outputs": [],
   "source": [
    "train_x_by_m3_name = 'train_x_Doc2Vec-dbow-d1000-n7-mc5-s0.001-t12-ct'\n",
    "train_x_by_m3 = pickle.load(open(saveTrainPath+train_x_by_m3_name,'rb'))\n",
    "train_y = pickle.load(open(saveTrainPath+'train_senti_y_ct_for_sentiment_analysis','rb'))"
   ]
  },
  {
   "cell_type": "code",
   "execution_count": 60,
   "metadata": {},
   "outputs": [],
   "source": [
    "test_x_by_m3_name = 'test_x_Doc2Vec-dbow-d1000-n7-mc5-s0.001-t12-ct'\n",
    "test_x_by_m3 = pickle.load(open(saveTrainPath+test_x_by_m3_name,'rb'))\n",
    "test_y = pickle.load(open(saveTrainPath+'test_senti_y_ct_for_sentiment_analysis','rb'))"
   ]
  },
  {
   "cell_type": "code",
   "execution_count": 61,
   "metadata": {},
   "outputs": [
    {
     "name": "stderr",
     "output_type": "stream",
     "text": [
      "100%|██████████| 442359/442359 [00:00<00:00, 1759734.25it/s]\n",
      "100%|██████████| 49151/49151 [00:00<00:00, 1692368.99it/s]\n"
     ]
    }
   ],
   "source": [
    "train_y2 = [y[0] for y in tqdm(train_y)]\n",
    "test_y2 = [y[0] for y in tqdm(test_y)]"
   ]
  },
  {
   "cell_type": "markdown",
   "metadata": {},
   "source": [
    "#### 분류 모델 : Logistic Regression"
   ]
  },
  {
   "cell_type": "code",
   "execution_count": 62,
   "metadata": {
    "scrolled": true
   },
   "outputs": [
    {
     "name": "stderr",
     "output_type": "stream",
     "text": [
      "C:\\Users\\pc\\Anaconda3\\lib\\site-packages\\sklearn\\linear_model\\logistic.py:1228: UserWarning: 'n_jobs' > 1 does not have any effect when 'solver' is set to 'liblinear'. Got 'n_jobs' = 12.\n",
      "  \" = {}.\".format(self.n_jobs))\n"
     ]
    },
    {
     "name": "stdout",
     "output_type": "stream",
     "text": [
      "{'C': 1.0, 'class_weight': None, 'dual': False, 'fit_intercept': True, 'intercept_scaling': 1, 'max_iter': 250, 'multi_class': 'ovr', 'n_jobs': 12, 'penalty': 'l2', 'random_state': 1234, 'solver': 'liblinear', 'tol': 0.0001, 'verbose': 0, 'warm_start': False}\n",
      "score : 0.8265752477060487\n",
      "classification report\n",
      "             precision    recall  f1-score   support\n",
      "\n",
      "          0       0.83      0.83      0.83     25177\n",
      "          1       0.82      0.83      0.82     23974\n",
      "\n",
      "avg / total       0.83      0.83      0.83     49151\n",
      "\n",
      "Wall time: 10min 10s\n"
     ]
    }
   ],
   "source": [
    "%%time\n",
    "classifier = LogisticRegression(random_state=1234, max_iter = 250, n_jobs=cores)\n",
    "classifier.fit(train_x_by_m3, train_y2)\n",
    "print (classifier.get_params())\n",
    "print( 'score : {}'.format(classifier.score(test_x_by_m3, test_y2)))\n",
    "print ('classification report')\n",
    "print (classification_report(test_y2, classifier.predict(test_x_by_m3)))"
   ]
  },
  {
   "cell_type": "code",
   "execution_count": 63,
   "metadata": {},
   "outputs": [],
   "source": [
    "pickle.dump(classifier,open(saveClassifierPath+'LogisticRegression_'+train_x_by_m3_name, 'wb'))"
   ]
  },
  {
   "cell_type": "markdown",
   "metadata": {},
   "source": [
    "#### 분류모델 : RandomForest Classifier"
   ]
  },
  {
   "cell_type": "code",
   "execution_count": 65,
   "metadata": {},
   "outputs": [
    {
     "name": "stdout",
     "output_type": "stream",
     "text": [
      "{'bootstrap': True, 'class_weight': None, 'criterion': 'gini', 'max_depth': None, 'max_features': 'auto', 'max_leaf_nodes': None, 'min_impurity_decrease': 0.0, 'min_impurity_split': None, 'min_samples_leaf': 1, 'min_samples_split': 2, 'min_weight_fraction_leaf': 0.0, 'n_estimators': 75, 'n_jobs': 12, 'oob_score': False, 'random_state': 1234, 'verbose': 0, 'warm_start': False}\n",
      "score : 0.7405139264714858\n",
      "classification report\n",
      "             precision    recall  f1-score   support\n",
      "\n",
      "          0       0.73      0.78      0.75     25177\n",
      "          1       0.75      0.70      0.73     23974\n",
      "\n",
      "avg / total       0.74      0.74      0.74     49151\n",
      "\n",
      "Wall time: 4min 50s\n"
     ]
    }
   ],
   "source": [
    "%%time\n",
    "classifier2 = RandomForestClassifier(random_state=1234, n_estimators = 75, n_jobs=cores)\n",
    "classifier2.fit(train_x_by_m3, train_y2)\n",
    "print (classifier2.get_params())\n",
    "print( 'score : {}'.format(classifier2.score(test_x_by_m3, test_y2)))\n",
    "print ('classification report')\n",
    "print (classification_report(test_y2, classifier2.predict(test_x_by_m3)))"
   ]
  },
  {
   "cell_type": "code",
   "execution_count": 66,
   "metadata": {},
   "outputs": [],
   "source": [
    "pickle.dump(classifier2,open(saveClassifierPath+'RandomForestClassifier_'+train_x_by_m3_name, 'wb'))"
   ]
  },
  {
   "cell_type": "markdown",
   "metadata": {},
   "source": [
    "#### 분류모델 : C-Support Vector Classification"
   ]
  },
  {
   "cell_type": "code",
   "execution_count": 67,
   "metadata": {},
   "outputs": [
    {
     "name": "stdout",
     "output_type": "stream",
     "text": [
      "[LibSVM]"
     ]
    },
    {
     "name": "stderr",
     "output_type": "stream",
     "text": [
      "C:\\Users\\pc\\Anaconda3\\lib\\site-packages\\sklearn\\svm\\base.py:218: ConvergenceWarning: Solver terminated early (max_iter=1500).  Consider pre-processing your data with StandardScaler or MinMaxScaler.\n",
      "  % self.max_iter, ConvergenceWarning)\n"
     ]
    },
    {
     "name": "stdout",
     "output_type": "stream",
     "text": [
      "{'C': 1.0, 'cache_size': 1024, 'class_weight': None, 'coef0': 0.0, 'decision_function_shape': 'ovr', 'degree': 3, 'gamma': 'auto', 'kernel': 'linear', 'max_iter': 1500, 'probability': False, 'random_state': None, 'shrinking': True, 'tol': 0.001, 'verbose': True}\n",
      "score : 0.6093873980183516\n",
      "classification report\n",
      "             precision    recall  f1-score   support\n",
      "\n",
      "          0       0.82      0.31      0.45     25177\n",
      "          1       0.56      0.93      0.70     23974\n",
      "\n",
      "avg / total       0.69      0.61      0.57     49151\n",
      "\n",
      "Wall time: 26min 24s\n"
     ]
    }
   ],
   "source": [
    "%%time\n",
    "scaling = MinMaxScaler(feature_range=(-1, 1)).fit(train_x_by_m3)\n",
    "train_x_by_m3_2 = scaling.transform(train_x_by_m3)\n",
    "test_x_by_m3_2 = scaling.transform(test_x_by_m3)\n",
    "classifier3 =  SVC(kernel = 'linear', \n",
    "        cache_size= 1024, max_iter = 1500, verbose = True) \n",
    "classifier3.fit(train_x_by_m3_2, train_y2)\n",
    "print (classifier3.get_params())\n",
    "print( 'score : {}'.format(classifier3.score(test_x_by_m3_2, test_y2)))\n",
    "print ('classification report')\n",
    "print (classification_report(test_y2, classifier3.predict(test_x_by_m3_2)))"
   ]
  },
  {
   "cell_type": "code",
   "execution_count": 68,
   "metadata": {},
   "outputs": [],
   "source": [
    "del scaling\n",
    "del train_x_by_m3_2\n",
    "del test_x_by_m3_2"
   ]
  },
  {
   "cell_type": "code",
   "execution_count": 69,
   "metadata": {},
   "outputs": [],
   "source": [
    "pickle.dump(classifier3,open(saveClassifierPath+'SVC_'+train_x_by_m3_name, 'wb'))"
   ]
  },
  {
   "cell_type": "markdown",
   "metadata": {},
   "source": [
    "#### 분류모델 : XGBOOST"
   ]
  },
  {
   "cell_type": "code",
   "execution_count": 70,
   "metadata": {
    "scrolled": true
   },
   "outputs": [
    {
     "name": "stderr",
     "output_type": "stream",
     "text": [
      "442359it [00:02, 148802.65it/s]\n",
      "C:\\Users\\pc\\Anaconda3\\lib\\site-packages\\sklearn\\preprocessing\\data.py:164: UserWarning: Numerical issues were encountered when centering the data and might not be solved. Dataset may contain too large values. You may need to prescale your features.\n",
      "  warnings.warn(\"Numerical issues were encountered \"\n",
      "C:\\Users\\pc\\Anaconda3\\lib\\site-packages\\sklearn\\preprocessing\\data.py:181: UserWarning: Numerical issues were encountered when scaling the data and might not be solved. The standard deviation of the data is probably very close to 0. \n",
      "  warnings.warn(\"Numerical issues were encountered \"\n",
      "49151it [00:00, 458666.85it/s]\n"
     ]
    },
    {
     "name": "stdout",
     "output_type": "stream",
     "text": [
      "Wall time: 11.6 s\n"
     ]
    }
   ],
   "source": [
    "%%time\n",
    "train_vecs_w2v = np.concatenate([z.reshape(1,-1) for z in tqdm(map(lambda x: x,train_x_by_m3))])\n",
    "train_vecs_w2v = scale(train_vecs_w2v)\n",
    "\n",
    "test_vecs_w2v = np.concatenate([z.reshape(1,-1) for z in tqdm(map(lambda x: x, test_x_by_m3))])\n",
    "test_vecs_w2v = scale(test_vecs_w2v)\n",
    "\n",
    "y_test = np.array(test_y)\n",
    "y_train = np.array(train_y)"
   ]
  },
  {
   "cell_type": "code",
   "execution_count": 71,
   "metadata": {},
   "outputs": [
    {
     "name": "stdout",
     "output_type": "stream",
     "text": [
      "Wall time: 7.27 s\n"
     ]
    }
   ],
   "source": [
    "%%time\n",
    "dtrain = xgb.DMatrix(train_vecs_w2v, y_train)\n",
    "dvalid = xgb.DMatrix(test_vecs_w2v, y_test)"
   ]
  },
  {
   "cell_type": "code",
   "execution_count": 72,
   "metadata": {
    "scrolled": true
   },
   "outputs": [
    {
     "name": "stdout",
     "output_type": "stream",
     "text": [
      "[0]\ttrain-auc:0.656758\teval-auc:0.652557\n",
      "Multiple eval metrics have been passed: 'eval-auc' will be used for early stopping.\n",
      "\n",
      "Will train until eval-auc hasn't improved in 10 rounds.\n",
      "[1]\ttrain-auc:0.701514\teval-auc:0.698299\n",
      "[2]\ttrain-auc:0.717162\teval-auc:0.713723\n",
      "[3]\ttrain-auc:0.735796\teval-auc:0.731943\n",
      "[4]\ttrain-auc:0.744426\teval-auc:0.739227\n",
      "[5]\ttrain-auc:0.749106\teval-auc:0.743804\n",
      "[6]\ttrain-auc:0.75519\teval-auc:0.750328\n",
      "[7]\ttrain-auc:0.762236\teval-auc:0.757715\n",
      "[8]\ttrain-auc:0.765335\teval-auc:0.760668\n",
      "[9]\ttrain-auc:0.771576\teval-auc:0.766599\n",
      "[10]\ttrain-auc:0.776279\teval-auc:0.771636\n",
      "[11]\ttrain-auc:0.779612\teval-auc:0.775177\n",
      "[12]\ttrain-auc:0.783353\teval-auc:0.778809\n",
      "[13]\ttrain-auc:0.787348\teval-auc:0.782533\n",
      "[14]\ttrain-auc:0.791368\teval-auc:0.786807\n",
      "[15]\ttrain-auc:0.794895\teval-auc:0.789878\n",
      "[16]\ttrain-auc:0.797552\teval-auc:0.792459\n",
      "[17]\ttrain-auc:0.800958\teval-auc:0.796025\n",
      "[18]\ttrain-auc:0.804419\teval-auc:0.799519\n",
      "[19]\ttrain-auc:0.807092\teval-auc:0.802207\n",
      "[20]\ttrain-auc:0.810197\teval-auc:0.804844\n",
      "[21]\ttrain-auc:0.812585\teval-auc:0.80711\n",
      "[22]\ttrain-auc:0.814813\teval-auc:0.809419\n",
      "[23]\ttrain-auc:0.817446\teval-auc:0.811616\n",
      "[24]\ttrain-auc:0.819512\teval-auc:0.813627\n",
      "[25]\ttrain-auc:0.821405\teval-auc:0.815104\n",
      "[26]\ttrain-auc:0.823302\teval-auc:0.817067\n",
      "[27]\ttrain-auc:0.825467\teval-auc:0.819282\n",
      "[28]\ttrain-auc:0.827009\teval-auc:0.820545\n",
      "[29]\ttrain-auc:0.828695\teval-auc:0.822047\n",
      "[30]\ttrain-auc:0.830667\teval-auc:0.824121\n",
      "[31]\ttrain-auc:0.832074\teval-auc:0.825465\n",
      "[32]\ttrain-auc:0.833876\teval-auc:0.827318\n",
      "[33]\ttrain-auc:0.835483\teval-auc:0.828969\n",
      "[34]\ttrain-auc:0.837122\teval-auc:0.830508\n",
      "[35]\ttrain-auc:0.838182\teval-auc:0.831515\n",
      "[36]\ttrain-auc:0.839576\teval-auc:0.832946\n",
      "[37]\ttrain-auc:0.840809\teval-auc:0.833875\n",
      "[38]\ttrain-auc:0.842016\teval-auc:0.834983\n",
      "[39]\ttrain-auc:0.843219\teval-auc:0.836083\n",
      "[40]\ttrain-auc:0.844364\teval-auc:0.837205\n",
      "[41]\ttrain-auc:0.845734\teval-auc:0.83845\n",
      "[42]\ttrain-auc:0.846792\teval-auc:0.839342\n",
      "[43]\ttrain-auc:0.848084\teval-auc:0.840783\n",
      "[44]\ttrain-auc:0.849245\teval-auc:0.841927\n",
      "[45]\ttrain-auc:0.85012\teval-auc:0.842744\n",
      "[46]\ttrain-auc:0.851128\teval-auc:0.843676\n",
      "[47]\ttrain-auc:0.852218\teval-auc:0.844854\n",
      "[48]\ttrain-auc:0.853285\teval-auc:0.845762\n",
      "[49]\ttrain-auc:0.85409\teval-auc:0.846367\n",
      "[50]\ttrain-auc:0.855026\teval-auc:0.847084\n",
      "[51]\ttrain-auc:0.855838\teval-auc:0.847925\n",
      "[52]\ttrain-auc:0.856689\teval-auc:0.848624\n",
      "[53]\ttrain-auc:0.857563\teval-auc:0.849376\n",
      "[54]\ttrain-auc:0.858577\teval-auc:0.850115\n",
      "[55]\ttrain-auc:0.859225\teval-auc:0.850775\n",
      "[56]\ttrain-auc:0.860044\teval-auc:0.851432\n",
      "[57]\ttrain-auc:0.860932\teval-auc:0.852345\n",
      "[58]\ttrain-auc:0.861794\teval-auc:0.853107\n",
      "[59]\ttrain-auc:0.862642\teval-auc:0.85406\n",
      "[60]\ttrain-auc:0.863469\teval-auc:0.854796\n",
      "[61]\ttrain-auc:0.86414\teval-auc:0.85541\n",
      "[62]\ttrain-auc:0.86492\teval-auc:0.856128\n",
      "[63]\ttrain-auc:0.865555\teval-auc:0.856578\n",
      "[64]\ttrain-auc:0.866218\teval-auc:0.857198\n",
      "[65]\ttrain-auc:0.867034\teval-auc:0.857991\n",
      "[66]\ttrain-auc:0.867635\teval-auc:0.858609\n",
      "[67]\ttrain-auc:0.868251\teval-auc:0.858986\n",
      "[68]\ttrain-auc:0.86878\teval-auc:0.859426\n",
      "[69]\ttrain-auc:0.86941\teval-auc:0.860056\n",
      "[70]\ttrain-auc:0.869952\teval-auc:0.860616\n",
      "[71]\ttrain-auc:0.870556\teval-auc:0.861106\n",
      "[72]\ttrain-auc:0.871057\teval-auc:0.861521\n",
      "[73]\ttrain-auc:0.871631\teval-auc:0.861923\n",
      "[74]\ttrain-auc:0.87227\teval-auc:0.86251\n",
      "[75]\ttrain-auc:0.872702\teval-auc:0.862846\n",
      "[76]\ttrain-auc:0.873251\teval-auc:0.863327\n",
      "[77]\ttrain-auc:0.873726\teval-auc:0.863735\n",
      "[78]\ttrain-auc:0.874266\teval-auc:0.864217\n",
      "[79]\ttrain-auc:0.874809\teval-auc:0.864635\n",
      "[80]\ttrain-auc:0.875305\teval-auc:0.865069\n",
      "[81]\ttrain-auc:0.875858\teval-auc:0.865561\n",
      "[82]\ttrain-auc:0.876435\teval-auc:0.865993\n",
      "[83]\ttrain-auc:0.876838\teval-auc:0.866347\n",
      "[84]\ttrain-auc:0.877374\teval-auc:0.866856\n",
      "[85]\ttrain-auc:0.877944\teval-auc:0.867337\n",
      "[86]\ttrain-auc:0.878378\teval-auc:0.867816\n",
      "[87]\ttrain-auc:0.878851\teval-auc:0.868233\n",
      "[88]\ttrain-auc:0.879286\teval-auc:0.86859\n",
      "[89]\ttrain-auc:0.879683\teval-auc:0.868896\n",
      "[90]\ttrain-auc:0.880069\teval-auc:0.869248\n",
      "[91]\ttrain-auc:0.880538\teval-auc:0.869654\n",
      "[92]\ttrain-auc:0.881026\teval-auc:0.869985\n",
      "[93]\ttrain-auc:0.881489\teval-auc:0.870348\n",
      "[94]\ttrain-auc:0.881928\teval-auc:0.870798\n",
      "[95]\ttrain-auc:0.882313\teval-auc:0.871188\n",
      "[96]\ttrain-auc:0.882707\teval-auc:0.871534\n",
      "[97]\ttrain-auc:0.883122\teval-auc:0.871803\n",
      "[98]\ttrain-auc:0.883469\teval-auc:0.87214\n",
      "[99]\ttrain-auc:0.88389\teval-auc:0.87247\n",
      "[100]\ttrain-auc:0.884285\teval-auc:0.872806\n",
      "[101]\ttrain-auc:0.884673\teval-auc:0.873089\n",
      "[102]\ttrain-auc:0.885043\teval-auc:0.873472\n",
      "[103]\ttrain-auc:0.88545\teval-auc:0.873756\n",
      "[104]\ttrain-auc:0.88588\teval-auc:0.874164\n",
      "[105]\ttrain-auc:0.886253\teval-auc:0.874452\n",
      "[106]\ttrain-auc:0.886586\teval-auc:0.87469\n",
      "[107]\ttrain-auc:0.886986\teval-auc:0.875045\n",
      "[108]\ttrain-auc:0.887348\teval-auc:0.875302\n",
      "[109]\ttrain-auc:0.887735\teval-auc:0.875633\n",
      "[110]\ttrain-auc:0.888187\teval-auc:0.875975\n",
      "[111]\ttrain-auc:0.888522\teval-auc:0.876221\n",
      "[112]\ttrain-auc:0.888837\teval-auc:0.876523\n",
      "[113]\ttrain-auc:0.889098\teval-auc:0.876774\n",
      "[114]\ttrain-auc:0.889484\teval-auc:0.877139\n",
      "[115]\ttrain-auc:0.889867\teval-auc:0.877558\n",
      "[116]\ttrain-auc:0.890209\teval-auc:0.877861\n",
      "[117]\ttrain-auc:0.89059\teval-auc:0.878111\n",
      "[118]\ttrain-auc:0.890875\teval-auc:0.878308\n",
      "[119]\ttrain-auc:0.891317\teval-auc:0.878641\n",
      "[120]\ttrain-auc:0.891654\teval-auc:0.878932\n",
      "[121]\ttrain-auc:0.891974\teval-auc:0.879239\n",
      "[122]\ttrain-auc:0.892355\teval-auc:0.879565\n",
      "[123]\ttrain-auc:0.89272\teval-auc:0.879834\n",
      "[124]\ttrain-auc:0.893071\teval-auc:0.880146\n",
      "[125]\ttrain-auc:0.893384\teval-auc:0.880452\n",
      "[126]\ttrain-auc:0.893746\teval-auc:0.880735\n",
      "[127]\ttrain-auc:0.893951\teval-auc:0.880917\n",
      "[128]\ttrain-auc:0.894197\teval-auc:0.881109\n",
      "[129]\ttrain-auc:0.89446\teval-auc:0.881419\n",
      "[130]\ttrain-auc:0.894764\teval-auc:0.881676\n",
      "[131]\ttrain-auc:0.895066\teval-auc:0.881914\n",
      "[132]\ttrain-auc:0.895363\teval-auc:0.882173\n",
      "[133]\ttrain-auc:0.895686\teval-auc:0.88246\n",
      "[134]\ttrain-auc:0.895967\teval-auc:0.882648\n",
      "[135]\ttrain-auc:0.896266\teval-auc:0.882868\n",
      "[136]\ttrain-auc:0.896586\teval-auc:0.883075\n",
      "[137]\ttrain-auc:0.896846\teval-auc:0.883326\n",
      "[138]\ttrain-auc:0.897153\teval-auc:0.88361\n",
      "[139]\ttrain-auc:0.897476\teval-auc:0.883891\n",
      "[140]\ttrain-auc:0.89771\teval-auc:0.884072\n",
      "[141]\ttrain-auc:0.897989\teval-auc:0.884291\n",
      "[142]\ttrain-auc:0.898282\teval-auc:0.884575\n",
      "[143]\ttrain-auc:0.898606\teval-auc:0.884814\n",
      "[144]\ttrain-auc:0.898863\teval-auc:0.885032\n",
      "[145]\ttrain-auc:0.899171\teval-auc:0.885214\n",
      "[146]\ttrain-auc:0.899469\teval-auc:0.885398\n",
      "[147]\ttrain-auc:0.899733\teval-auc:0.885567\n",
      "[148]\ttrain-auc:0.899981\teval-auc:0.885798\n",
      "[149]\ttrain-auc:0.900219\teval-auc:0.885996\n",
      "[150]\ttrain-auc:0.900524\teval-auc:0.886195\n",
      "[151]\ttrain-auc:0.900731\teval-auc:0.886371\n",
      "[152]\ttrain-auc:0.900964\teval-auc:0.886539\n",
      "[153]\ttrain-auc:0.90123\teval-auc:0.88672\n",
      "[154]\ttrain-auc:0.901496\teval-auc:0.886896\n",
      "[155]\ttrain-auc:0.901754\teval-auc:0.887075\n",
      "[156]\ttrain-auc:0.902042\teval-auc:0.887306\n",
      "[157]\ttrain-auc:0.902303\teval-auc:0.887496\n",
      "[158]\ttrain-auc:0.902482\teval-auc:0.887689\n",
      "[159]\ttrain-auc:0.902701\teval-auc:0.887871\n",
      "[160]\ttrain-auc:0.902973\teval-auc:0.888144\n",
      "[161]\ttrain-auc:0.903189\teval-auc:0.888303\n",
      "[162]\ttrain-auc:0.903418\teval-auc:0.888525\n",
      "[163]\ttrain-auc:0.90369\teval-auc:0.888672\n",
      "[164]\ttrain-auc:0.903918\teval-auc:0.888804\n",
      "[165]\ttrain-auc:0.904133\teval-auc:0.889019\n",
      "[166]\ttrain-auc:0.904342\teval-auc:0.889159\n",
      "[167]\ttrain-auc:0.904578\teval-auc:0.88928\n",
      "[168]\ttrain-auc:0.904808\teval-auc:0.889479\n",
      "[169]\ttrain-auc:0.905006\teval-auc:0.889631\n",
      "[170]\ttrain-auc:0.905238\teval-auc:0.889766\n",
      "[171]\ttrain-auc:0.905449\teval-auc:0.889928\n",
      "[172]\ttrain-auc:0.90564\teval-auc:0.890054\n",
      "[173]\ttrain-auc:0.905823\teval-auc:0.890187\n",
      "[174]\ttrain-auc:0.906019\teval-auc:0.890378\n",
      "[175]\ttrain-auc:0.906221\teval-auc:0.890532\n",
      "[176]\ttrain-auc:0.906485\teval-auc:0.890711\n",
      "[177]\ttrain-auc:0.906705\teval-auc:0.890898\n",
      "[178]\ttrain-auc:0.906937\teval-auc:0.891062\n",
      "[179]\ttrain-auc:0.907125\teval-auc:0.891205\n",
      "[180]\ttrain-auc:0.907271\teval-auc:0.891316\n",
      "[181]\ttrain-auc:0.907459\teval-auc:0.891481\n",
      "[182]\ttrain-auc:0.907648\teval-auc:0.891581\n",
      "[183]\ttrain-auc:0.907826\teval-auc:0.89175\n",
      "[184]\ttrain-auc:0.908034\teval-auc:0.89193\n",
      "[185]\ttrain-auc:0.908216\teval-auc:0.892058\n",
      "[186]\ttrain-auc:0.908356\teval-auc:0.892164\n",
      "[187]\ttrain-auc:0.908569\teval-auc:0.892291\n",
      "[188]\ttrain-auc:0.908759\teval-auc:0.892468\n",
      "[189]\ttrain-auc:0.908942\teval-auc:0.892588\n",
      "[190]\ttrain-auc:0.90911\teval-auc:0.892747\n"
     ]
    },
    {
     "name": "stdout",
     "output_type": "stream",
     "text": [
      "[191]\ttrain-auc:0.909291\teval-auc:0.8929\n",
      "[192]\ttrain-auc:0.909484\teval-auc:0.893079\n",
      "[193]\ttrain-auc:0.909634\teval-auc:0.893193\n",
      "[194]\ttrain-auc:0.909803\teval-auc:0.893304\n",
      "[195]\ttrain-auc:0.91\teval-auc:0.893459\n",
      "[196]\ttrain-auc:0.9102\teval-auc:0.893581\n",
      "[197]\ttrain-auc:0.910388\teval-auc:0.893726\n",
      "[198]\ttrain-auc:0.910598\teval-auc:0.893864\n",
      "[199]\ttrain-auc:0.910779\teval-auc:0.893976\n",
      "0.8086712376146976\n",
      "Wall time: 9min 1s\n"
     ]
    }
   ],
   "source": [
    "%%time\n",
    "max_depth = 5\n",
    "subsample = 0.7\n",
    "colsample_bytree = 0.7\n",
    "params = {\n",
    "    'objective' : 'binary:logistic', \n",
    "    'booster' : 'gbtree',\n",
    "    'max_depth' : max_depth, \n",
    "    'subsample' : subsample,\n",
    "    'eval_metric' : 'auc', \n",
    "    'colsample_bytree' : colsample_bytree,\n",
    "    'silent' : 1, \n",
    "    'eta' : 0.125,\n",
    "    'nthread' : cores\n",
    "}\n",
    "num_boost_round = 200\n",
    "early_stopping_rounds = 10\n",
    "test_size = 0.15\n",
    "\n",
    "watchlist = [(dtrain, 'train'), (dvalid, 'eval')]\n",
    "gbm = xgb.train(params, dtrain, num_boost_round, evals = watchlist,\n",
    "                early_stopping_rounds = early_stopping_rounds, verbose_eval = True)\n",
    "test_prediction = gbm.predict(xgb.DMatrix(test_vecs_w2v))\n",
    "test_class = np.round(test_prediction)\n",
    "test_acc = accuracy_score(y_test, test_class)\n",
    "print (test_acc)\n",
    "gbm.save_model(saveClassifierPath+'XGBoost_'+train_x_by_m3_name)"
   ]
  },
  {
   "cell_type": "code",
   "execution_count": 73,
   "metadata": {},
   "outputs": [
    {
     "name": "stdout",
     "output_type": "stream",
     "text": [
      "Logistic Regression\n",
      "Random Forest\n",
      "Kernel SVM\n",
      "XGBoost\n"
     ]
    },
    {
     "data": {
      "image/png": "[encoded data removed]",
      "text/plain": [
       "<matplotlib.figure.Figure at 0x1a1b7432550>"
      ]
     },
     "metadata": {},
     "output_type": "display_data"
    },
    {
     "name": "stdout",
     "output_type": "stream",
     "text": [
      "Wall time: 2min 56s\n"
     ]
    }
   ],
   "source": [
    "%%time\n",
    "Make_Roc_Curve(test_x_by_m3, test_y, classifier, classifier2, classifier3, gbm)"
   ]
  },
  {
   "cell_type": "code",
   "execution_count": 74,
   "metadata": {},
   "outputs": [],
   "source": [
    "del classifier\n",
    "del classifier2\n",
    "del classifier3\n",
    "del gbm"
   ]
  },
  {
   "cell_type": "markdown",
   "metadata": {},
   "source": [
    "#### 분류모델 : Neural Network"
   ]
  },
  {
   "cell_type": "code",
   "execution_count": 75,
   "metadata": {},
   "outputs": [
    {
     "data": {
      "application/vnd.jupyter.widget-view+json": {
       "model_id": "94dd847f086245c4ae4884b794dbbf1d",
       "version_major": 2,
       "version_minor": 0
      },
      "text/html": [
       "<p>Failed to display Jupyter Widget of type <code>HBox</code>.</p>\n",
       "<p>\n",
       "  If you're reading this message in the Jupyter Notebook or JupyterLab Notebook, it may mean\n",
       "  that the widgets JavaScript is still loading. If this message persists, it\n",
       "  likely means that the widgets JavaScript library is either not installed or\n",
       "  not enabled. See the <a href=\"https://ipywidgets.readthedocs.io/en/stable/user_install.html\">Jupyter\n",
       "  Widgets Documentation</a> for setup instructions.\n",
       "</p>\n",
       "<p>\n",
       "  If you're reading this message in another frontend (for example, a static\n",
       "  rendering on GitHub or <a href=\"https://nbviewer.jupyter.org/\">NBViewer</a>),\n",
       "  it may mean that your frontend doesn't currently support widgets.\n",
       "</p>\n"
      ],
      "text/plain": [
       "HBox(children=(IntProgress(value=0, description='Training', max=300), HTML(value='')))"
      ]
     },
     "metadata": {},
     "output_type": "display_data"
    },
    {
     "name": "stdout",
     "output_type": "stream",
     "text": [
      "\n",
      "Score: 0.3423\n",
      "Accuracy: 0.8474\n"
     ]
    }
   ],
   "source": [
    "model = Sequential()\n",
    "model.add(Dense(32, activation='relu', input_dim=1000))\n",
    "model.add(Dense(1, activation='sigmoid'))\n",
    "model.compile(optimizer='rmsprop',\n",
    "              loss='binary_crossentropy',\n",
    "              metrics=['accuracy'])\n",
    "history = model.fit(train_vecs_w2v, y_train, epochs=300, batch_size = 250000,  verbose=0,\n",
    "          validation_split=0.2,\n",
    "          callbacks=[TQDMNotebookCallback(show_inner=False)])\n",
    "score, acc = model.evaluate(test_vecs_w2v, y_test, verbose=0)\n",
    "print('Score: %1.4f' % score)\n",
    "print('Accuracy: %1.4f' % acc)"
   ]
  },
  {
   "cell_type": "code",
   "execution_count": 76,
   "metadata": {},
   "outputs": [],
   "source": [
    "model.save(saveClassifierPath+'NeuralNetwork_1_'+train_x_by_m3_name)"
   ]
  },
  {
   "cell_type": "code",
   "execution_count": 77,
   "metadata": {},
   "outputs": [
    {
     "data": {
      "image/png": "[encoded data removed]",
      "text/plain": [
       "<matplotlib.figure.Figure at 0x1a548b5c7b8>"
      ]
     },
     "metadata": {},
     "output_type": "display_data"
    },
    {
     "data": {
      "image/png": "[encoded data removed]",
      "text/plain": [
       "<matplotlib.figure.Figure at 0x1a301d3f5f8>"
      ]
     },
     "metadata": {},
     "output_type": "display_data"
    }
   ],
   "source": [
    "plot_history(history)"
   ]
  },
  {
   "cell_type": "code",
   "execution_count": 78,
   "metadata": {
    "scrolled": true
   },
   "outputs": [
    {
     "data": {
      "application/vnd.jupyter.widget-view+json": {
       "model_id": "39892e33c300407ea15be56f8f7cc0cb",
       "version_major": 2,
       "version_minor": 0
      },
      "text/html": [
       "<p>Failed to display Jupyter Widget of type <code>HBox</code>.</p>\n",
       "<p>\n",
       "  If you're reading this message in the Jupyter Notebook or JupyterLab Notebook, it may mean\n",
       "  that the widgets JavaScript is still loading. If this message persists, it\n",
       "  likely means that the widgets JavaScript library is either not installed or\n",
       "  not enabled. See the <a href=\"https://ipywidgets.readthedocs.io/en/stable/user_install.html\">Jupyter\n",
       "  Widgets Documentation</a> for setup instructions.\n",
       "</p>\n",
       "<p>\n",
       "  If you're reading this message in another frontend (for example, a static\n",
       "  rendering on GitHub or <a href=\"https://nbviewer.jupyter.org/\">NBViewer</a>),\n",
       "  it may mean that your frontend doesn't currently support widgets.\n",
       "</p>\n"
      ],
      "text/plain": [
       "HBox(children=(IntProgress(value=0, description='Training', max=300), HTML(value='')))"
      ]
     },
     "metadata": {},
     "output_type": "display_data"
    },
    {
     "name": "stdout",
     "output_type": "stream",
     "text": [
      "\n",
      "Score: 0.3625\n",
      "Accuracy: 0.8481\n"
     ]
    }
   ],
   "source": [
    "model = Sequential()\n",
    "model.add(Dense(128, activation='relu', input_dim=1000))\n",
    "model.add(Dense(64, activation='relu', kernel_regularizer=l2(0.001)))\n",
    "model.add(Dropout(0.1))\n",
    "model.add(Dense(32, activation='relu', kernel_regularizer=l2(0.001)))\n",
    "model.add(Dropout(0.1))\n",
    "model.add(Dense(1, activation='sigmoid'))\n",
    "model.compile(#optimizer='rmsprop',\n",
    "    optimizer='adadelta',\n",
    "              #loss='binary_crossentropy',\n",
    "    #optimizer=SGD(lr=0.2), \n",
    "    loss='binary_crossentropy',\n",
    "    metrics=['accuracy'])\n",
    "\n",
    "history = model.fit(train_vecs_w2v, y_train, epochs=300, batch_size = 250000,  verbose=0, validation_split=0.2,\n",
    "          callbacks=[TQDMNotebookCallback(show_inner=False)])\n",
    "score, acc = model.evaluate(test_vecs_w2v, y_test, verbose=0)\n",
    "print('Score: %1.4f' % score)\n",
    "print('Accuracy: %1.4f' % acc)"
   ]
  },
  {
   "cell_type": "code",
   "execution_count": 79,
   "metadata": {},
   "outputs": [],
   "source": [
    "model.save(saveClassifierPath+'NeuralNetwork_2_'+train_x_by_m3_name)"
   ]
  },
  {
   "cell_type": "code",
   "execution_count": 80,
   "metadata": {},
   "outputs": [
    {
     "data": {
      "image/png": "[encoded data removed]",
      "text/plain": [
       "<matplotlib.figure.Figure at 0x1a548ab7828>"
      ]
     },
     "metadata": {},
     "output_type": "display_data"
    },
    {
     "data": {
      "image/png": "[encoded data removed]",
      "text/plain": [
       "<matplotlib.figure.Figure at 0x1a3a2045630>"
      ]
     },
     "metadata": {},
     "output_type": "display_data"
    }
   ],
   "source": [
    "plot_history(history)"
   ]
  },
  {
   "cell_type": "code",
   "execution_count": 81,
   "metadata": {},
   "outputs": [],
   "source": [
    "del train_x_by_m3\n",
    "del train_x_by_m3_name\n",
    "del test_x_by_m3\n",
    "del test_x_by_m3_name"
   ]
  },
  {
   "cell_type": "markdown",
   "metadata": {},
   "source": [
    "#### mecab"
   ]
  },
  {
   "cell_type": "markdown",
   "metadata": {},
   "source": [
    "#### Load Model"
   ]
  },
  {
   "cell_type": "code",
   "execution_count": 10,
   "metadata": {},
   "outputs": [],
   "source": [
    "model1 = doc2vec.Doc2Vec.load(loadModelPath+'doc2vec_size-1000_epoch-20_window-10_negative-7_hs-0_dm-1_dm_concat-0_dm_mean-1_by-mecab.model')\n",
    "model2 = doc2vec.Doc2Vec.load(loadModelPath+'doc2vec_size-1000_epoch-20_window-5_negative-7_hs-0_dm-1_dm_concat-1_dm_mean-0_by-mecab.model')\n",
    "model3 = doc2vec.Doc2Vec.load(loadModelPath+'doc2vec_size-1000_epoch-20_window-None_negative-7_hs-0_dm-0_dm_concat-0_dm_mean-0_by-mecab.model')"
   ]
  },
  {
   "cell_type": "markdown",
   "metadata": {},
   "source": [
    "#### Word to Vector"
   ]
  },
  {
   "cell_type": "markdown",
   "metadata": {},
   "source": [
    "##### train set"
   ]
  },
  {
   "cell_type": "code",
   "execution_count": 11,
   "metadata": {},
   "outputs": [],
   "source": [
    "train = pickle.load(open('./data/pre_data/train_test_Data/pre_data_by_mecab_train_for_doc2vec_sentiment_analysis.pickled','rb'))"
   ]
  },
  {
   "cell_type": "code",
   "execution_count": 12,
   "metadata": {},
   "outputs": [],
   "source": [
    "name1 = '-'.join(re.split('[\\(\\),\\/]',str(model1)))+'mecab'\n",
    "if not os.path.isfile(saveTrainPath+'train_x_'+name1):\n",
    "    train_x_by_m1 = Get_Infer_Vector(train, model1)\n",
    "    \n",
    "    pickle.dump(train_x_by_m1,open(saveTrainPath+'train_x_'+name1,'wb'))\n",
    "    del train_x_by_m1\n",
    "    del name1\n",
    "    \n",
    "name2 = '-'.join(re.split('[\\(\\),\\/]',str(model2)))+'mecab'\n",
    "if not os.path.isfile(saveTrainPath+'train_x_'+name2):\n",
    "    train_x_by_m2 = Get_Infer_Vector(train, model2)\n",
    "\n",
    "    pickle.dump(train_x_by_m2,open(saveTrainPath+'train_x_'+name2,'wb'))\n",
    "    del train_x_by_m2\n",
    "    del name2\n",
    "\n",
    "name3 = '-'.join(re.split('[\\(\\),\\/]',str(model3)))+'mecab'\n",
    "if not os.path.isfile(saveTrainPath+'train_x_'+name3):\n",
    "    train_x_by_m3 = Get_Infer_Vector(train, model3)\n",
    "\n",
    "    pickle.dump(train_x_by_m3,open(saveTrainPath+'train_x_'+name3,'wb'))\n",
    "    del train_x_by_m3\n",
    "    del name3\n",
    "\n",
    "if not os.path.isfile(saveTrainPath+'train_senti_y_mecab_for_sentiment_analysis'):\n",
    "    train_senti_y = [doc.sentiment for doc in tqdm(train)]\n",
    "    \n",
    "    pickle.dump(train_senti_y, open(saveTrainPath+'train_senti_y_mecab_for_sentiment_analysis','wb'))\n",
    "    del train_senti_y\n",
    "    \n",
    "if not os.path.isfile(saveTrainPath+'train_tags_y_mecab_for_sentiment_analysis'):\n",
    "    train_tags_y = [doc.tags for doc in tqdm(train)]\n",
    "    \n",
    "    pickle.dump(train_tags_y, open(saveTrainPath+'train_tags_y_mecab_for_sentiment_analysis','wb'))\n",
    "    del train_tags_y\n",
    "\n",
    "if 'train' in locals():\n",
    "    del train"
   ]
  },
  {
   "cell_type": "markdown",
   "metadata": {},
   "source": [
    "##### test set"
   ]
  },
  {
   "cell_type": "code",
   "execution_count": 13,
   "metadata": {},
   "outputs": [],
   "source": [
    "test = pickle.load(open('./data/pre_data/train_test_Data/pre_data_by_mecab_test_for_doc2vec_sentiment_analysis.pickled','rb'))"
   ]
  },
  {
   "cell_type": "code",
   "execution_count": 14,
   "metadata": {},
   "outputs": [],
   "source": [
    "name1 = '-'.join(re.split('[\\(\\),\\/]',str(model1)))+'mecab'\n",
    "if not os.path.isfile(saveTrainPath+'test_x_'+name1):\n",
    "    test_x_by_m1 = Get_Infer_Vector(test, model1)\n",
    "    \n",
    "    pickle.dump(test_x_by_m1,open(saveTrainPath+'test_x_'+name1,'wb'))\n",
    "    del test_x_by_m1\n",
    "    del name1\n",
    "    \n",
    "name2 = '-'.join(re.split('[\\(\\),\\/]',str(model2)))+'mecab'\n",
    "if not os.path.isfile(saveTrainPath+'test_x_'+name2):\n",
    "    test_x_by_m2 = Get_Infer_Vector(test, model2)\n",
    "\n",
    "    pickle.dump(test_x_by_m2,open(saveTrainPath+'test_x_'+name2,'wb'))\n",
    "    del test_x_by_m2\n",
    "    del name2\n",
    "\n",
    "name3 = '-'.join(re.split('[\\(\\),\\/]',str(model3)))+'mecab'\n",
    "if not os.path.isfile(saveTrainPath+'test_x_'+name3):\n",
    "    test_x_by_m3 = Get_Infer_Vector(test, model3)\n",
    "\n",
    "    pickle.dump(test_x_by_m3,open(saveTrainPath+'test_x_'+name3,'wb'))\n",
    "    del test_x_by_m3\n",
    "    del name3\n",
    "\n",
    "if not os.path.isfile(saveTrainPath+'test_senti_y_mecab_for_sentiment_analysis'):\n",
    "    test_senti_y = [doc.sentiment for doc in tqdm(test)]\n",
    "    \n",
    "    pickle.dump(test_senti_y, open(saveTrainPath+'test_senti_y_mecab_for_sentiment_analysis','wb'))\n",
    "    del test_senti_y\n",
    "    \n",
    "if not os.path.isfile(saveTrainPath+'test_tags_y_mecab_for_sentiment_analysis'):\n",
    "    test_tags_y = [doc.tags for doc in tqdm(test)]\n",
    "    \n",
    "    pickle.dump(test_tags_y, open(saveTrainPath+'test_tags_y_mecab_for_sentiment_analysis','wb'))\n",
    "    del test_tags_y\n",
    "\n",
    "if 'test' in locals():\n",
    "    del test"
   ]
  },
  {
   "cell_type": "markdown",
   "metadata": {},
   "source": [
    "#### model1\n",
    "* Doc2Vec(dm/m,d1000,n7,w10,mc5,s0.001,t12)\n",
    "* size-1000\n",
    "* epoch-20\n",
    "* window-10\n",
    "* negative-7\n",
    "* hs-0\n",
    "* dm-1\n",
    "* dm_concat-0\n",
    "* dm_mean-1"
   ]
  },
  {
   "cell_type": "code",
   "execution_count": 15,
   "metadata": {},
   "outputs": [],
   "source": [
    "train_x_by_m1_name = 'train_x_Doc2Vec-dm-m-d1000-n7-w10-mc5-s0.001-t12-mecab'\n",
    "train_x_by_m1 = pickle.load(open(saveTrainPath+train_x_by_m1_name,'rb'))\n",
    "train_y = pickle.load(open(saveTrainPath+'train_senti_y_mecab_for_sentiment_analysis','rb'))"
   ]
  },
  {
   "cell_type": "code",
   "execution_count": 16,
   "metadata": {},
   "outputs": [],
   "source": [
    "test_x_by_m1_name = 'test_x_Doc2Vec-dm-m-d1000-n7-w10-mc5-s0.001-t12-mecab'\n",
    "test_x_by_m1 = pickle.load(open(saveTrainPath+test_x_by_m1_name,'rb'))\n",
    "test_y = pickle.load(open(saveTrainPath+'test_senti_y_mecab_for_sentiment_analysis','rb'))"
   ]
  },
  {
   "cell_type": "markdown",
   "metadata": {},
   "source": [
    "#### 분류 모델 : Logistic Regression"
   ]
  },
  {
   "cell_type": "code",
   "execution_count": 17,
   "metadata": {},
   "outputs": [
    {
     "name": "stderr",
     "output_type": "stream",
     "text": [
      "100%|██████████| 442359/442359 [00:00<00:00, 1752757.18it/s]\n",
      "100%|██████████| 49151/49151 [00:00<00:00, 1692341.20it/s]\n"
     ]
    }
   ],
   "source": [
    "train_y2 = [y[0] for y in tqdm(train_y)]\n",
    "test_y2 = [y[0] for y in tqdm(test_y)]"
   ]
  },
  {
   "cell_type": "code",
   "execution_count": 18,
   "metadata": {},
   "outputs": [
    {
     "name": "stderr",
     "output_type": "stream",
     "text": [
      "C:\\Users\\pc\\Anaconda3\\lib\\site-packages\\sklearn\\linear_model\\logistic.py:1228: UserWarning: 'n_jobs' > 1 does not have any effect when 'solver' is set to 'liblinear'. Got 'n_jobs' = 12.\n",
      "  \" = {}.\".format(self.n_jobs))\n"
     ]
    },
    {
     "name": "stdout",
     "output_type": "stream",
     "text": [
      "{'C': 1.0, 'class_weight': None, 'dual': False, 'fit_intercept': True, 'intercept_scaling': 1, 'max_iter': 250, 'multi_class': 'ovr', 'n_jobs': 12, 'penalty': 'l2', 'random_state': 1234, 'solver': 'liblinear', 'tol': 0.0001, 'verbose': 0, 'warm_start': False}\n",
      "score : 0.7035258692600354\n",
      "classification report\n",
      "             precision    recall  f1-score   support\n",
      "\n",
      "          0       0.72      0.69      0.70     25177\n",
      "          1       0.69      0.72      0.70     23974\n",
      "\n",
      "avg / total       0.70      0.70      0.70     49151\n",
      "\n",
      "Wall time: 2min\n"
     ]
    }
   ],
   "source": [
    "%%time\n",
    "classifier = LogisticRegression(random_state=1234, max_iter = 250, n_jobs=cores)\n",
    "classifier.fit(train_x_by_m1, train_y2)\n",
    "print (classifier.get_params())\n",
    "print( 'score : {}'.format(classifier.score(test_x_by_m1, test_y2)))\n",
    "print ('classification report')\n",
    "print (classification_report(test_y2, classifier.predict(test_x_by_m1)))"
   ]
  },
  {
   "cell_type": "code",
   "execution_count": 19,
   "metadata": {},
   "outputs": [],
   "source": [
    "pickle.dump(classifier,open(saveClassifierPath+'LogisticRegression_'+train_x_by_m1_name, 'wb'))"
   ]
  },
  {
   "cell_type": "markdown",
   "metadata": {},
   "source": [
    "#### 분류모델 : RandomForest Classifier"
   ]
  },
  {
   "cell_type": "code",
   "execution_count": 20,
   "metadata": {},
   "outputs": [
    {
     "name": "stdout",
     "output_type": "stream",
     "text": [
      "{'bootstrap': True, 'class_weight': None, 'criterion': 'gini', 'max_depth': None, 'max_features': 'auto', 'max_leaf_nodes': None, 'min_impurity_decrease': 0.0, 'min_impurity_split': None, 'min_samples_leaf': 1, 'min_samples_split': 2, 'min_weight_fraction_leaf': 0.0, 'n_estimators': 75, 'n_jobs': 12, 'oob_score': False, 'random_state': 1234, 'verbose': 0, 'warm_start': False}\n",
      "score : 0.6351244125246689\n",
      "classification report\n",
      "             precision    recall  f1-score   support\n",
      "\n",
      "          0       0.64      0.65      0.64     25177\n",
      "          1       0.63      0.62      0.63     23974\n",
      "\n",
      "avg / total       0.64      0.64      0.64     49151\n",
      "\n",
      "Wall time: 6min 20s\n"
     ]
    }
   ],
   "source": [
    "%%time\n",
    "classifier2 = RandomForestClassifier(random_state=1234, n_estimators = 75, n_jobs=cores)\n",
    "classifier2.fit(train_x_by_m1, train_y2)\n",
    "print (classifier2.get_params())\n",
    "print( 'score : {}'.format(classifier2.score(test_x_by_m1, test_y2)))\n",
    "print ('classification report')\n",
    "print (classification_report(test_y2, classifier2.predict(test_x_by_m1)))"
   ]
  },
  {
   "cell_type": "code",
   "execution_count": 21,
   "metadata": {},
   "outputs": [],
   "source": [
    "pickle.dump(classifier2,open(saveClassifierPath+'RandomForestClassifier_'+train_x_by_m1_name, 'wb'))"
   ]
  },
  {
   "cell_type": "markdown",
   "metadata": {},
   "source": [
    "#### 분류모델 : C-Support Vector Classification"
   ]
  },
  {
   "cell_type": "code",
   "execution_count": null,
   "metadata": {},
   "outputs": [
    {
     "name": "stdout",
     "output_type": "stream",
     "text": [
      "[LibSVM]"
     ]
    }
   ],
   "source": [
    "%%time\n",
    "scaling = MinMaxScaler(feature_range=(-1, 1)).fit(train_x_by_m1)\n",
    "train_x_by_m1_2 = scaling.transform(train_x_by_m1)\n",
    "test_x_by_m1_2 = scaling.transform(test_x_by_m1)\n",
    "classifier3 =  SVC(kernel = 'linear', \n",
    "        cache_size= 1024, max_iter = 1500, verbose = True) \n",
    "classifier3.fit(train_x_by_m1_2, train_y2)\n",
    "print (classifier3.get_params())\n",
    "print( 'score : {}'.format(classifier3.score(test_x_by_m1_2, test_y2)))\n",
    "print ('classification report')\n",
    "print (classification_report(test_y2, classifier3.predict(test_x_by_m1_2)))"
   ]
  },
  {
   "cell_type": "code",
   "execution_count": null,
   "metadata": {},
   "outputs": [],
   "source": [
    "del scaling\n",
    "del train_x_by_m1_2\n",
    "del test_x_by_m1_2"
   ]
  },
  {
   "cell_type": "code",
   "execution_count": null,
   "metadata": {},
   "outputs": [],
   "source": [
    "pickle.dump(classifier3,open(saveClassifierPath+'SVC_'+train_x_by_m1_name, 'wb'))"
   ]
  },
  {
   "cell_type": "markdown",
   "metadata": {},
   "source": [
    "#### 분류모델 : XGBOOST"
   ]
  },
  {
   "cell_type": "code",
   "execution_count": null,
   "metadata": {
    "scrolled": true
   },
   "outputs": [],
   "source": [
    "%%time\n",
    "train_vecs_w2v = np.concatenate([z.reshape(1,-1) for z in tqdm(map(lambda x: x,train_x_by_m1))])\n",
    "train_vecs_w2v = scale(train_vecs_w2v)\n",
    "\n",
    "test_vecs_w2v = np.concatenate([z.reshape(1,-1) for z in tqdm(map(lambda x: x, test_x_by_m1))])\n",
    "test_vecs_w2v = scale(test_vecs_w2v)\n",
    "\n",
    "y_test = np.array(test_y)\n",
    "y_train = np.array(train_y)"
   ]
  },
  {
   "cell_type": "code",
   "execution_count": null,
   "metadata": {},
   "outputs": [],
   "source": [
    "%%time\n",
    "dtrain = xgb.DMatrix(train_vecs_w2v, y_train)\n",
    "dvalid = xgb.DMatrix(test_vecs_w2v, y_test)"
   ]
  },
  {
   "cell_type": "code",
   "execution_count": null,
   "metadata": {
    "scrolled": true
   },
   "outputs": [],
   "source": [
    "%%time\n",
    "max_depth = 5\n",
    "subsample = 0.7\n",
    "colsample_bytree = 0.7\n",
    "params = {\n",
    "    'objective' : 'binary:logistic', \n",
    "    'booster' : 'gbtree',\n",
    "    'max_depth' : max_depth, \n",
    "    'subsample' : subsample,\n",
    "    'eval_metric' : 'auc', \n",
    "    'colsample_bytree' : colsample_bytree,\n",
    "    'silent' : 1, \n",
    "    'eta' : 0.125,\n",
    "    'nthread' : cores\n",
    "}\n",
    "num_boost_round = 200\n",
    "early_stopping_rounds = 10\n",
    "test_size = 0.15\n",
    "\n",
    "watchlist = [(dtrain, 'train'), (dvalid, 'eval')]\n",
    "gbm = xgb.train(params, dtrain, num_boost_round, evals = watchlist,\n",
    "                early_stopping_rounds = early_stopping_rounds, verbose_eval = True)\n",
    "test_prediction = gbm.predict(xgb.DMatrix(test_vecs_w2v))\n",
    "test_class = np.round(test_prediction)\n",
    "test_acc = accuracy_score(y_test, test_class)\n",
    "print (test_acc)\n",
    "gbm.save_model(saveClassifierPath+'XGBoost_'+train_x_by_m1_name)"
   ]
  },
  {
   "cell_type": "code",
   "execution_count": null,
   "metadata": {},
   "outputs": [],
   "source": [
    "%%time\n",
    "Make_Roc_Curve(test_x_by_m1, test_y, classifier, classifier2, classifier3, gbm)"
   ]
  },
  {
   "cell_type": "code",
   "execution_count": null,
   "metadata": {},
   "outputs": [],
   "source": [
    "del classifier\n",
    "del classifier2\n",
    "del classifier3\n",
    "del gbm"
   ]
  },
  {
   "cell_type": "markdown",
   "metadata": {},
   "source": [
    "#### 분류모델 : Neural Network"
   ]
  },
  {
   "cell_type": "code",
   "execution_count": null,
   "metadata": {},
   "outputs": [],
   "source": [
    "model = Sequential()\n",
    "model.add(Dense(32, activation='relu', input_dim=1000))\n",
    "model.add(Dense(1, activation='sigmoid'))\n",
    "model.compile(optimizer='rmsprop',\n",
    "              loss='binary_crossentropy',\n",
    "              metrics=['accuracy'])\n",
    "history = model.fit(train_vecs_w2v, y_train, epochs=300, batch_size = 250000,  verbose=0,\n",
    "          validation_split=0.2,\n",
    "          callbacks=[TQDMNotebookCallback(show_inner=False)])\n",
    "score, acc = model.evaluate(test_vecs_w2v, y_test, verbose=0)\n",
    "print('Score: %1.4f' % score)\n",
    "print('Accuracy: %1.4f' % acc)"
   ]
  },
  {
   "cell_type": "code",
   "execution_count": null,
   "metadata": {},
   "outputs": [],
   "source": [
    "model.save(saveClassifierPath+'NeuralNetwork_1_'+train_x_by_m1_name)"
   ]
  },
  {
   "cell_type": "code",
   "execution_count": null,
   "metadata": {},
   "outputs": [],
   "source": [
    "plot_history(history)"
   ]
  },
  {
   "cell_type": "code",
   "execution_count": null,
   "metadata": {
    "scrolled": true
   },
   "outputs": [],
   "source": [
    "model = Sequential()\n",
    "model.add(Dense(128, activation='relu', input_dim=1000))\n",
    "model.add(Dense(64, activation='relu', kernel_regularizer=l2(0.001)))\n",
    "model.add(Dropout(0.1))\n",
    "model.add(Dense(32, activation='relu', kernel_regularizer=l2(0.001)))\n",
    "model.add(Dropout(0.1))\n",
    "model.add(Dense(1, activation='sigmoid'))\n",
    "model.compile(#optimizer='rmsprop',\n",
    "    optimizer='adadelta',\n",
    "              #loss='binary_crossentropy',\n",
    "    #optimizer=SGD(lr=0.2), \n",
    "    loss='binary_crossentropy',\n",
    "    metrics=['accuracy'])\n",
    "\n",
    "history = model.fit(train_vecs_w2v, y_train, epochs=300, batch_size = 250000,  verbose=0, validation_split=0.2,\n",
    "          callbacks=[TQDMNotebookCallback(show_inner=False)])\n",
    "score, acc = model.evaluate(test_vecs_w2v, y_test, verbose=0)\n",
    "print('Score: %1.4f' % score)\n",
    "print('Accuracy: %1.4f' % acc)"
   ]
  },
  {
   "cell_type": "code",
   "execution_count": null,
   "metadata": {},
   "outputs": [],
   "source": [
    "model.save(saveClassifierPath+'NeuralNetwork_2_'+train_x_by_m1_name)"
   ]
  },
  {
   "cell_type": "code",
   "execution_count": null,
   "metadata": {},
   "outputs": [],
   "source": [
    "plot_history(history)"
   ]
  },
  {
   "cell_type": "code",
   "execution_count": null,
   "metadata": {},
   "outputs": [],
   "source": [
    "del train_x_by_m1\n",
    "del train_x_by_m1_name\n",
    "del test_x_by_m1\n",
    "del test_x_by_m1_name"
   ]
  },
  {
   "cell_type": "markdown",
   "metadata": {},
   "source": [
    "#### model2\n",
    "* Doc2Vec(dm/c,d1000,n7,w5,mc5,s0.001,t12)\n",
    "* size-1000\n",
    "* epoch-20\n",
    "* window-5\n",
    "* negative-7\n",
    "* hs-0\n",
    "* dm-1\n",
    "* dm_concat-1\n",
    "* dm_mean-0"
   ]
  },
  {
   "cell_type": "code",
   "execution_count": null,
   "metadata": {},
   "outputs": [],
   "source": [
    "train_x_by_m2_name = 'train_x_Doc2Vec-dm-c-d1000-n7-w5-mc5-s0.001-t12-mecab'\n",
    "train_x_by_m2 = pickle.load(open(saveTrainPath+train_x_by_m2_name,'rb'))\n",
    "train_y = pickle.load(open(saveTrainPath+'train_senti_y_mecab_for_sentiment_analysis','rb'))"
   ]
  },
  {
   "cell_type": "code",
   "execution_count": null,
   "metadata": {},
   "outputs": [],
   "source": [
    "test_x_by_m2_name = 'test_x_Doc2Vec-dm-c-d1000-n7-w5-mc5-s0.001-t12-mecab'\n",
    "test_x_by_m2 = pickle.load(open(saveTrainPath+test_x_by_m2_name,'rb'))\n",
    "test_y = pickle.load(open(saveTrainPath+'test_senti_y_mecab_for_sentiment_analysis','rb'))"
   ]
  },
  {
   "cell_type": "code",
   "execution_count": null,
   "metadata": {},
   "outputs": [],
   "source": [
    "train_y2 = [y[0] for y in tqdm(train_y)]\n",
    "test_y2 = [y[0] for y in tqdm(test_y)]"
   ]
  },
  {
   "cell_type": "markdown",
   "metadata": {},
   "source": [
    "#### 분류 모델 : Logistic Regression"
   ]
  },
  {
   "cell_type": "code",
   "execution_count": null,
   "metadata": {},
   "outputs": [],
   "source": [
    "%%time\n",
    "classifier = LogisticRegression(random_state=1234, max_iter = 250, n_jobs=cores)\n",
    "classifier.fit(train_x_by_m2, train_y2)\n",
    "print (classifier.get_params())\n",
    "print( 'score : {}'.format(classifier.score(test_x_by_m2, test_y2)))\n",
    "print ('classification report')\n",
    "print (classification_report(test_y2, classifier.predict(test_x_by_m2)))"
   ]
  },
  {
   "cell_type": "code",
   "execution_count": null,
   "metadata": {},
   "outputs": [],
   "source": [
    "pickle.dump(classifier,open(saveClassifierPath+'LogisticRegression_'+train_x_by_m2_name, 'wb'))"
   ]
  },
  {
   "cell_type": "markdown",
   "metadata": {},
   "source": [
    "#### 분류모델 : RandomForest Classifier"
   ]
  },
  {
   "cell_type": "code",
   "execution_count": null,
   "metadata": {},
   "outputs": [],
   "source": [
    "%%time\n",
    "classifier2 = RandomForestClassifier(random_state=1234, n_estimators = 75, n_jobs=cores)\n",
    "classifier2.fit(train_x_by_m2, train_y2)\n",
    "print (classifier2.get_params())\n",
    "print( 'score : {}'.format(classifier2.score(test_x_by_m2, test_y2)))\n",
    "print ('classification report')\n",
    "print (classification_report(test_y2, classifier2.predict(test_x_by_m2)))"
   ]
  },
  {
   "cell_type": "code",
   "execution_count": null,
   "metadata": {},
   "outputs": [],
   "source": [
    "pickle.dump(classifier2,open(saveClassifierPath+'RandomForestClassifier_'+train_x_by_m2_name, 'wb'))"
   ]
  },
  {
   "cell_type": "markdown",
   "metadata": {},
   "source": [
    "#### 분류모델 : C-Support Vector Classification"
   ]
  },
  {
   "cell_type": "code",
   "execution_count": null,
   "metadata": {},
   "outputs": [],
   "source": [
    "%%time\n",
    "scaling = MinMaxScaler(feature_range=(-1, 1)).fit(train_x_by_m2)\n",
    "train_x_by_m2_2 = scaling.transform(train_x_by_m2)\n",
    "test_x_by_m2_2 = scaling.transform(test_x_by_m2)\n",
    "classifier3 =  SVC(kernel = 'linear', \n",
    "        cache_size= 1024, max_iter = 1500, verbose = True) \n",
    "classifier3.fit(train_x_by_m2_2, train_y2)\n",
    "print (classifier3.get_params())\n",
    "print( 'score : {}'.format(classifier3.score(test_x_by_m2_2, test_y2)))\n",
    "print ('classification report')\n",
    "print (classification_report(test_y2, classifier3.predict(test_x_by_m2_2)))"
   ]
  },
  {
   "cell_type": "code",
   "execution_count": null,
   "metadata": {},
   "outputs": [],
   "source": [
    "del scaling\n",
    "del train_x_by_m2_2\n",
    "del test_x_by_m2_2"
   ]
  },
  {
   "cell_type": "code",
   "execution_count": null,
   "metadata": {},
   "outputs": [],
   "source": [
    "pickle.dump(classifier3,open(saveClassifierPath+'SVC_'+train_x_by_m2_name, 'wb'))"
   ]
  },
  {
   "cell_type": "markdown",
   "metadata": {},
   "source": [
    "#### 분류모델 : XGBOOST"
   ]
  },
  {
   "cell_type": "code",
   "execution_count": null,
   "metadata": {
    "scrolled": true
   },
   "outputs": [],
   "source": [
    "%%time\n",
    "train_vecs_w2v = np.concatenate([z.reshape(1,-1) for z in tqdm(map(lambda x: x,train_x_by_m2))])\n",
    "train_vecs_w2v = scale(train_vecs_w2v)\n",
    "\n",
    "test_vecs_w2v = np.concatenate([z.reshape(1,-1) for z in tqdm(map(lambda x: x, test_x_by_m2))])\n",
    "test_vecs_w2v = scale(test_vecs_w2v)\n",
    "\n",
    "y_test = np.array(test_y)\n",
    "y_train = np.array(train_y)"
   ]
  },
  {
   "cell_type": "code",
   "execution_count": null,
   "metadata": {},
   "outputs": [],
   "source": [
    "%%time\n",
    "dtrain = xgb.DMatrix(train_vecs_w2v, y_train)\n",
    "dvalid = xgb.DMatrix(test_vecs_w2v, y_test)"
   ]
  },
  {
   "cell_type": "code",
   "execution_count": null,
   "metadata": {
    "scrolled": true
   },
   "outputs": [],
   "source": [
    "%%time\n",
    "max_depth = 5\n",
    "subsample = 0.7\n",
    "colsample_bytree = 0.7\n",
    "params = {\n",
    "    'objective' : 'binary:logistic', \n",
    "    'booster' : 'gbtree',\n",
    "    'max_depth' : max_depth, \n",
    "    'subsample' : subsample,\n",
    "    'eval_metric' : 'auc', \n",
    "    'colsample_bytree' : colsample_bytree,\n",
    "    'silent' : 1, \n",
    "    'eta' : 0.125,\n",
    "    'nthread' : cores\n",
    "}\n",
    "num_boost_round = 200\n",
    "early_stopping_rounds = 10\n",
    "test_size = 0.15\n",
    "\n",
    "watchlist = [(dtrain, 'train'), (dvalid, 'eval')]\n",
    "gbm = xgb.train(params, dtrain, num_boost_round, evals = watchlist,\n",
    "                early_stopping_rounds = early_stopping_rounds, verbose_eval = True)\n",
    "test_prediction = gbm.predict(xgb.DMatrix(test_vecs_w2v))\n",
    "test_class = np.round(test_prediction)\n",
    "test_acc = accuracy_score(y_test, test_class)\n",
    "print (test_acc)\n",
    "gbm.save_model(saveClassifierPath+'XGBoost_'+train_x_by_m2_name)"
   ]
  },
  {
   "cell_type": "code",
   "execution_count": null,
   "metadata": {},
   "outputs": [],
   "source": [
    "%%time\n",
    "Make_Roc_Curve(test_x_by_m2, test_y, classifier, classifier2, classifier3, gbm)"
   ]
  },
  {
   "cell_type": "code",
   "execution_count": null,
   "metadata": {},
   "outputs": [],
   "source": [
    "del classifier\n",
    "del classifier2\n",
    "del classifier3\n",
    "del gbm"
   ]
  },
  {
   "cell_type": "markdown",
   "metadata": {},
   "source": [
    "#### 분류모델 : Neural Network"
   ]
  },
  {
   "cell_type": "code",
   "execution_count": null,
   "metadata": {},
   "outputs": [],
   "source": [
    "model = Sequential()\n",
    "model.add(Dense(32, activation='relu', input_dim=1000))\n",
    "model.add(Dense(1, activation='sigmoid'))\n",
    "model.compile(optimizer='rmsprop',\n",
    "              loss='binary_crossentropy',\n",
    "              metrics=['accuracy'])\n",
    "history = model.fit(train_vecs_w2v, y_train, epochs=300, batch_size = 250000,  verbose=0,\n",
    "          validation_split=0.2,\n",
    "          callbacks=[TQDMNotebookCallback(show_inner=False)])\n",
    "score, acc = model.evaluate(test_vecs_w2v, y_test, verbose=0)\n",
    "print('Score: %1.4f' % score)\n",
    "print('Accuracy: %1.4f' % acc)"
   ]
  },
  {
   "cell_type": "code",
   "execution_count": null,
   "metadata": {},
   "outputs": [],
   "source": [
    "model.save(saveClassifierPath+'NeuralNetwork_1_'+train_x_by_m2_name)"
   ]
  },
  {
   "cell_type": "code",
   "execution_count": null,
   "metadata": {},
   "outputs": [],
   "source": [
    "plot_history(history)"
   ]
  },
  {
   "cell_type": "code",
   "execution_count": null,
   "metadata": {
    "scrolled": true
   },
   "outputs": [],
   "source": [
    "model = Sequential()\n",
    "model.add(Dense(128, activation='relu', input_dim=1000))\n",
    "model.add(Dense(64, activation='relu', kernel_regularizer=l2(0.001)))\n",
    "model.add(Dropout(0.1))\n",
    "model.add(Dense(32, activation='relu', kernel_regularizer=l2(0.001)))\n",
    "model.add(Dropout(0.1))\n",
    "model.add(Dense(1, activation='sigmoid'))\n",
    "model.compile(#optimizer='rmsprop',\n",
    "    optimizer='adadelta',\n",
    "              #loss='binary_crossentropy',\n",
    "    #optimizer=SGD(lr=0.2), \n",
    "    loss='binary_crossentropy',\n",
    "    metrics=['accuracy'])\n",
    "\n",
    "history = model.fit(train_vecs_w2v, y_train, epochs=300, batch_size = 250000,  verbose=0, validation_split=0.2,\n",
    "          callbacks=[TQDMNotebookCallback(show_inner=False)])\n",
    "score, acc = model.evaluate(test_vecs_w2v, y_test, verbose=0)\n",
    "print('Score: %1.4f' % score)\n",
    "print('Accuracy: %1.4f' % acc)"
   ]
  },
  {
   "cell_type": "code",
   "execution_count": null,
   "metadata": {},
   "outputs": [],
   "source": [
    "model.save(saveClassifierPath+'NeuralNetwork_2_'+train_x_by_m2_name)"
   ]
  },
  {
   "cell_type": "code",
   "execution_count": null,
   "metadata": {},
   "outputs": [],
   "source": [
    "plot_history(history)"
   ]
  },
  {
   "cell_type": "code",
   "execution_count": null,
   "metadata": {},
   "outputs": [],
   "source": [
    "del train_x_by_m2\n",
    "del train_x_by_m2_name\n",
    "del test_x_by_m2\n",
    "del test_x_by_m2_name\n"
   ]
  },
  {
   "cell_type": "markdown",
   "metadata": {},
   "source": [
    "#### model3\n",
    "* Doc2Vec(dbow,d1000,n7,mc5,s0.001,t12)\n",
    "* size-1000\n",
    "* epoch-20\n",
    "* window-None\n",
    "* negative-7\n",
    "* hs-0\n",
    "* dm-0\n",
    "* dm_concat-0\n",
    "* dm_mean-0"
   ]
  },
  {
   "cell_type": "code",
   "execution_count": null,
   "metadata": {},
   "outputs": [],
   "source": [
    "train_x_by_m3_name = 'train_x_Doc2Vec-dbow-d1000-n7-mc5-s0.001-t12-mecab'\n",
    "train_x_by_m3 = pickle.load(open(saveTrainPath+train_x_by_m3_name,'rb'))\n",
    "train_y = pickle.load(open(saveTrainPath+'train_senti_y_mecab_for_sentiment_analysis','rb'))"
   ]
  },
  {
   "cell_type": "code",
   "execution_count": null,
   "metadata": {},
   "outputs": [],
   "source": [
    "test_x_by_m3_name = 'test_x_Doc2Vec-dbow-d1000-n7-mc5-s0.001-t12-mecab'\n",
    "test_x_by_m3 = pickle.load(open(saveTrainPath+test_x_by_m3_name,'rb'))\n",
    "test_y = pickle.load(open(saveTrainPath+'test_senti_y_mecab_for_sentiment_analysis','rb'))"
   ]
  },
  {
   "cell_type": "markdown",
   "metadata": {},
   "source": [
    "#### 분류 모델 : Logistic Regression"
   ]
  },
  {
   "cell_type": "code",
   "execution_count": null,
   "metadata": {},
   "outputs": [],
   "source": [
    "%%time\n",
    "classifier = LogisticRegression(random_state=1234, max_iter = 250, n_jobs=cores)\n",
    "classifier.fit(train_x_by_m3, train_y)\n",
    "print (classifier.get_params())\n",
    "print( 'score : {}'.format(classifier.score(test_x_by_m3, test_y)))\n",
    "print ('classification report')\n",
    "print (classification_report(test_y, classifier.predict(test_x_by_m3)))"
   ]
  },
  {
   "cell_type": "code",
   "execution_count": null,
   "metadata": {},
   "outputs": [],
   "source": [
    "pickle.dump(classifier,open(saveClassifierPath+'LogisticRegression_'+train_x_by_m3_name, 'wb'))"
   ]
  },
  {
   "cell_type": "markdown",
   "metadata": {},
   "source": [
    "#### 분류모델 : RandomForest Classifier"
   ]
  },
  {
   "cell_type": "code",
   "execution_count": null,
   "metadata": {},
   "outputs": [],
   "source": [
    "%%time\n",
    "classifier2 = RandomForestClassifier(random_state=1234, n_estimators = 75, n_jobs=cores)\n",
    "classifier2.fit(train_x_by_m3, train_y)\n",
    "print (classifier2.get_params())\n",
    "print( 'score : {}'.format(classifier2.score(test_x_by_m3, test_y)))\n",
    "print ('classification report')\n",
    "print (classification_report(test_y, classifier2.predict(test_x_by_m3)))"
   ]
  },
  {
   "cell_type": "code",
   "execution_count": null,
   "metadata": {},
   "outputs": [],
   "source": [
    "pickle.dump(classifier2,open(saveClassifierPath+'RandomForestClassifier_'+train_x_by_m3_name, 'wb'))"
   ]
  },
  {
   "cell_type": "markdown",
   "metadata": {},
   "source": [
    "#### 분류모델 : C-Support Vector Classification"
   ]
  },
  {
   "cell_type": "code",
   "execution_count": null,
   "metadata": {},
   "outputs": [],
   "source": [
    "%%time\n",
    "scaling = MinMaxScaler(feature_range=(-1, 1)).fit(train_x_by_m3)\n",
    "train_x_by_m3_2 = scaling.transform(train_x_by_m3)\n",
    "test_x_by_m3_2 = scaling.transform(test_x_by_m3)\n",
    "classifier3 =  SVC(kernel = 'linear', \n",
    "        cache_size= 1024, max_iter = 1500, verbose = True) \n",
    "classifier3.fit(train_x_by_m3_2, train_y)\n",
    "print (classifier3.get_params())\n",
    "print( 'score : {}'.format(classifier3.score(test_x_by_m3_2, test_y)))\n",
    "print ('classification report')\n",
    "print (classification_report(test_y, classifier3.predict(test_x_by_m3_2)))"
   ]
  },
  {
   "cell_type": "code",
   "execution_count": null,
   "metadata": {},
   "outputs": [],
   "source": [
    "del scaling\n",
    "del train_x_by_m3_2\n",
    "del test_x_by_m3_2"
   ]
  },
  {
   "cell_type": "code",
   "execution_count": null,
   "metadata": {},
   "outputs": [],
   "source": [
    "pickle.dump(classifier3,open(saveClassifierPath+'SVC_'+train_x_by_m3_name, 'wb'))"
   ]
  },
  {
   "cell_type": "markdown",
   "metadata": {},
   "source": [
    "#### 분류모델 : XGBOOST"
   ]
  },
  {
   "cell_type": "code",
   "execution_count": null,
   "metadata": {
    "scrolled": true
   },
   "outputs": [],
   "source": [
    "%%time\n",
    "train_vecs_w2v = np.concatenate([z.reshape(1,-1) for z in tqdm(map(lambda x: x,train_x_by_m3))])\n",
    "train_vecs_w2v = scale(train_vecs_w2v)\n",
    "\n",
    "test_vecs_w2v = np.concatenate([z.reshape(1,-1) for z in tqdm(map(lambda x: x, test_x_by_m3))])\n",
    "test_vecs_w2v = scale(test_vecs_w2v)\n",
    "\n",
    "y_test = np.array(test_y)\n",
    "y_train = np.array(train_y)"
   ]
  },
  {
   "cell_type": "code",
   "execution_count": null,
   "metadata": {},
   "outputs": [],
   "source": [
    "%%time\n",
    "dtrain = xgb.DMatrix(train_vecs_w2v, y_train)\n",
    "dvalid = xgb.DMatrix(test_vecs_w2v, y_test)"
   ]
  },
  {
   "cell_type": "code",
   "execution_count": null,
   "metadata": {
    "scrolled": true
   },
   "outputs": [],
   "source": [
    "%%time\n",
    "max_depth = 5\n",
    "subsample = 0.7\n",
    "colsample_bytree = 0.7\n",
    "params = {\n",
    "    'objective' : 'binary:logistic', \n",
    "    'booster' : 'gbtree',\n",
    "    'max_depth' : max_depth, \n",
    "    'subsample' : subsample,\n",
    "    'eval_metric' : 'auc', \n",
    "    'colsample_bytree' : colsample_bytree,\n",
    "    'silent' : 1, \n",
    "    'eta' : 0.125,\n",
    "    'nthread' : cores\n",
    "}\n",
    "num_boost_round = 200\n",
    "early_stopping_rounds = 10\n",
    "test_size = 0.15\n",
    "\n",
    "watchlist = [(dtrain, 'train'), (dvalid, 'eval')]\n",
    "gbm = xgb.train(params, dtrain, num_boost_round, evals = watchlist,\n",
    "                early_stopping_rounds = early_stopping_rounds, verbose_eval = True)\n",
    "test_prediction = gbm.predict(xgb.DMatrix(test_vecs_w2v))\n",
    "test_class = np.round(test_prediction)\n",
    "test_acc = accuracy_score(y_test, test_class)\n",
    "print (test_acc)\n",
    "gbm.save_model(saveClassifierPath+'XGBoost_'+train_x_by_m3_name)"
   ]
  },
  {
   "cell_type": "code",
   "execution_count": null,
   "metadata": {},
   "outputs": [],
   "source": [
    "%%time\n",
    "Make_Roc_Curve(test_x_by_m3, test_y, classifier, classifier2, classifier3, gbm)"
   ]
  },
  {
   "cell_type": "code",
   "execution_count": null,
   "metadata": {},
   "outputs": [],
   "source": [
    "del classifier\n",
    "del classifier2\n",
    "del classifier3\n",
    "del gbm"
   ]
  },
  {
   "cell_type": "markdown",
   "metadata": {},
   "source": [
    "#### 분류모델 : Neural Network"
   ]
  },
  {
   "cell_type": "code",
   "execution_count": null,
   "metadata": {},
   "outputs": [],
   "source": [
    "model = Sequential()\n",
    "model.add(Dense(32, activation='relu', input_dim=1000))\n",
    "model.add(Dense(1, activation='sigmoid'))\n",
    "model.compile(optimizer='rmsprop',\n",
    "              loss='binary_crossentropy',\n",
    "              metrics=['accuracy'])\n",
    "history = model.fit(train_vecs_w2v, y_train, epochs=300, batch_size = 250000,  verbose=0,\n",
    "          validation_split=0.2,\n",
    "          callbacks=[TQDMNotebookCallback(show_inner=False)])\n",
    "score, acc = model.evaluate(test_vecs_w2v, y_test, verbose=0)\n",
    "print('Score: %1.4f' % score)\n",
    "print('Accuracy: %1.4f' % acc)"
   ]
  },
  {
   "cell_type": "code",
   "execution_count": null,
   "metadata": {},
   "outputs": [],
   "source": [
    "model.save(saveClassifierPath+'NeuralNetwork_1_'+train_x_by_m3_name)"
   ]
  },
  {
   "cell_type": "code",
   "execution_count": null,
   "metadata": {},
   "outputs": [],
   "source": [
    "plot_history(history)"
   ]
  },
  {
   "cell_type": "code",
   "execution_count": null,
   "metadata": {
    "scrolled": true
   },
   "outputs": [],
   "source": [
    "model = Sequential()\n",
    "model.add(Dense(128, activation='relu', input_dim=1000))\n",
    "model.add(Dense(64, activation='relu', kernel_regularizer=l2(0.001)))\n",
    "model.add(Dropout(0.1))\n",
    "model.add(Dense(32, activation='relu', kernel_regularizer=l2(0.001)))\n",
    "model.add(Dropout(0.1))\n",
    "model.add(Dense(1, activation='sigmoid'))\n",
    "model.compile(#optimizer='rmsprop',\n",
    "    optimizer='adadelta',\n",
    "              #loss='binary_crossentropy',\n",
    "    #optimizer=SGD(lr=0.2), \n",
    "    loss='binary_crossentropy',\n",
    "    metrics=['accuracy'])\n",
    "\n",
    "history = model.fit(train_vecs_w2v, y_train,epochs=300, batch_size = 250000,  verbose=0, validation_split=0.2,\n",
    "          callbacks=[TQDMNotebookCallback(show_inner=False)])\n",
    "score, acc = model.evaluate(test_vecs_w2v, y_test, verbose=0)\n",
    "print('Score: %1.4f' % score)\n",
    "print('Accuracy: %1.4f' % acc)"
   ]
  },
  {
   "cell_type": "code",
   "execution_count": null,
   "metadata": {},
   "outputs": [],
   "source": [
    "model.save(saveClassifierPath+'NeuralNetwork_2_'+train_x_by_m3_name)"
   ]
  },
  {
   "cell_type": "code",
   "execution_count": null,
   "metadata": {},
   "outputs": [],
   "source": [
    "plot_history(history)"
   ]
  },
  {
   "cell_type": "code",
   "execution_count": null,
   "metadata": {},
   "outputs": [],
   "source": [
    "del train_x_by_m3\n",
    "del train_x_by_m3_name\n",
    "del test_x_by_m3\n",
    "del test_x_by_m3_name"
   ]
  },
  {
   "cell_type": "code",
   "execution_count": null,
   "metadata": {},
   "outputs": [],
   "source": []
  }
 ],
 "metadata": {
  "kernelspec": {
   "display_name": "Python 3",
   "language": "python",
   "name": "python3"
  },
  "language_info": {
   "codemirror_mode": {
    "name": "ipython",
    "version": 3
   },
   "file_extension": ".py",
   "mimetype": "text/x-python",
   "name": "python",
   "nbconvert_exporter": "python",
   "pygments_lexer": "ipython3",
   "version": "3.6.4"
  }
 },
 "nbformat": 4,
 "nbformat_minor": 2
}
