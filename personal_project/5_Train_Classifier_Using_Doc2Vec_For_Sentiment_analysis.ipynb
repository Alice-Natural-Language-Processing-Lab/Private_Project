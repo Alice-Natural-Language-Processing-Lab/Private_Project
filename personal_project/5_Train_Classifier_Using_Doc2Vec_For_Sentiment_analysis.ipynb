{
 "cells": [
  {
   "cell_type": "markdown",
   "metadata": {},
   "source": [
    "# 만들어진 Doc2Vec model을 통한 감정분석 실시\n",
    "> * Positive or Negative"
   ]
  },
  {
   "cell_type": "code",
   "execution_count": null,
   "metadata": {},
   "outputs": [],
   "source": [
    "import pickle\n",
    "import html\n",
    "import multiprocessing\n",
    "from collections import namedtuple, OrderedDict\n",
    "import re\n",
    "import sys\n",
    "\n",
    "import numpy as np\n",
    "from tqdm import tqdm\n",
    "tqdm.pandas(desc=\"progress-bar\")\n",
    "\n",
    "from gensim.models import doc2vec, KeyedVectors\n",
    "from gensim.models.doc2vec import TaggedDocument\n",
    "from gensim.test.test_doc2vec import ConcatenatedDoc2Vec\n",
    "\n",
    "from konlpy.utils import pprint\n",
    "\n",
    "from sklearn.model_selection import train_test_split\n",
    "from sklearn.linear_model import LogisticRegression\n",
    "from sklearn.ensemble import BaggingClassifier, RandomForestClassifier\n",
    "from sklearn.svm import SVC\n",
    "from sklearn.metrics import confusion_matrix, classification_report, roc_curve\n",
    "\n",
    "from sklearn.preprocessing import scale\n",
    "from keras_tqdm import TQDMCallback, TQDMNotebookCallback\n",
    "from keras.models import Model, Sequential\n",
    "from keras.regularizers import l2\n",
    "from keras.optimizers import SGD\n",
    "from keras.utils import np_utils\n",
    "from keras.layers import Input, Dense, Embedding, embeddings, merge, Dropout, Activation\n",
    "from keras.utils import np_utils\n",
    "\n",
    "import matplotlib.pyplot as plt"
   ]
  },
  {
   "cell_type": "code",
   "execution_count": 80,
   "metadata": {},
   "outputs": [],
   "source": [
    "def Make_Roc_Curve(x, y, model1, model2, model3):\n",
    "    fpr1, tpr1, thresholds1 = roc_curve(y, model1.predict(x))\n",
    "    fpr2, tpr2, thresholds2 = roc_curve(y, model2.predict(x))\n",
    "    fpr3, tpr3, thresholds3 = roc_curve(y, model3.predict(x))\n",
    "    plt.plot(fpr1, tpr1, label=\"Logistic Regression\")\n",
    "    plt.plot(fpr2, tpr2, label=\"RandomForest\")\n",
    "    plt.plot(fpr3, tpr3, label=\"Kernel SVM\")\n",
    "    plt.legend()\n",
    "    plt.plot([0, 1], [0, 1], 'k--', label=\"random guess\")\n",
    "    plt.xlabel('False Positive Rate (Fall-Out)')\n",
    "    plt.ylabel('True Positive Rate (Recall)')\n",
    "    plt.title('Receiver operating characteristic example')\n",
    "    plt.show()"
   ]
  },
  {
   "cell_type": "code",
   "execution_count": 2,
   "metadata": {},
   "outputs": [
    {
     "data": {
      "text/plain": [
       "'3.3.0'"
      ]
     },
     "execution_count": 2,
     "metadata": {},
     "output_type": "execute_result"
    }
   ],
   "source": [
    "import gensim\n",
    "gensim.__version__"
   ]
  },
  {
   "cell_type": "markdown",
   "metadata": {},
   "source": [
    "* windows에서 모델을 만들때 사용한 gensim의 버전이 3.3이었고, mac에서는 버전이 맞지 않아서 만들어둔 모델을 불러오지 못하였음."
   ]
  },
  {
   "cell_type": "markdown",
   "metadata": {},
   "source": [
    "## Doc2Vec"
   ]
  },
  {
   "cell_type": "code",
   "execution_count": 3,
   "metadata": {},
   "outputs": [],
   "source": [
    "TaggedDocument = namedtuple('TaggedDocument', 'words tags')"
   ]
  },
  {
   "cell_type": "code",
   "execution_count": null,
   "metadata": {},
   "outputs": [],
   "source": [
    "def Get_Infer_Vector(docs, model):\n",
    "    return [model.infer_vector(doc.words) for doc in tqdm(docs)]"
   ]
  },
  {
   "cell_type": "code",
   "execution_count": 122,
   "metadata": {},
   "outputs": [],
   "source": [
    "loadModelPath = '/Volumes/disk1/model/'\n",
    "saveTrainPath = './data/pre_data/train_test_Data2/'\n",
    "saveClassifierPath = './data/pre_data/classifier/'"
   ]
  },
  {
   "cell_type": "markdown",
   "metadata": {},
   "source": [
    "### twitter"
   ]
  },
  {
   "cell_type": "markdown",
   "metadata": {},
   "source": [
    "#### Load Model"
   ]
  },
  {
   "cell_type": "code",
   "execution_count": 114,
   "metadata": {},
   "outputs": [],
   "source": [
    "model1 = doc2vec.Doc2Vec.load(loadModelPath+'doc2vec_size-2000_epoch-20_window-10_negative-7_hs-0_dm-1_dm_concat-0_dm_mean-1_by-ct.model')\n",
    "model2 = doc2vec.Doc2Vec.load(loadModelPath+'doc2vec_size-2000_epoch-20_window-5_negative-7_hs-0_dm-1_dm_concat-1_dm_mean-0_by-ct.model')\n",
    "model3 = doc2vec.Doc2Vec.load(loadModelPath+'doc2vec_size-2000_epoch-20_window-None_negative-7_hs-0_dm-0_dm_concat-0_dm_mean-0_by-ct.model')"
   ]
  },
  {
   "cell_type": "markdown",
   "metadata": {},
   "source": [
    "#### Word to Vector"
   ]
  },
  {
   "cell_type": "markdown",
   "metadata": {},
   "source": [
    "##### train set"
   ]
  },
  {
   "cell_type": "code",
   "execution_count": 5,
   "metadata": {},
   "outputs": [],
   "source": [
    "train = pickle.load(open('./data/pre_data/train_test_Data/pre_by_ct_train.pickled','rb'))"
   ]
  },
  {
   "cell_type": "code",
   "execution_count": null,
   "metadata": {},
   "outputs": [],
   "source": [
    "train_x_by_m1 = Get_Infer_Vector(train, model1)\n",
    "name1 = '-'.join(re.split('[\\(\\),\\/]',str(model1)))+'ct'\n",
    "train_x_by_m2 = Get_Infer_Vector(train, model2)\n",
    "name2 = '-'.join(re.split('[\\(\\),\\/]',str(model2)))+'ct'\n",
    "train_x_by_m3 = Get_Infer_Vector(train, model3)\n",
    "name3 = '-'.join(re.split('[\\(\\),\\/]',str(model3)))+'ct'\n",
    "train_y = [doc.tags[0] for doc in tqdm(train)]\n",
    "\n",
    "pickle.dump(train_x_by_m1,open(saveTrainPath+'train_x_'+name1,'wb'))\n",
    "pickle.dump(train_x_by_m2,open(saveTrainPath+'train_x_'+name2,'wb'))\n",
    "pickle.dump(train_x_by_m3,open(saveTrainPath+'train_x_'+name3,'wb'))\n",
    "pickle.dump(train_y, open(saveTrainPath+'train_y_for_sentiment_analysis','wb'))"
   ]
  },
  {
   "cell_type": "code",
   "execution_count": null,
   "metadata": {},
   "outputs": [],
   "source": [
    "del train"
   ]
  },
  {
   "cell_type": "code",
   "execution_count": null,
   "metadata": {},
   "outputs": [],
   "source": [
    "del train_x_by_m1\n",
    "del name1\n",
    "del train_x_by_m2\n",
    "del name2\n",
    "del train_x_by_m3\n",
    "del name3\n",
    "del train_y"
   ]
  },
  {
   "cell_type": "markdown",
   "metadata": {},
   "source": [
    "##### test set"
   ]
  },
  {
   "cell_type": "code",
   "execution_count": 17,
   "metadata": {},
   "outputs": [],
   "source": [
    "test = pickle.load(open('./data/pre_data/train_test_Data/pre_by_ct_test.pickled','rb'))"
   ]
  },
  {
   "cell_type": "code",
   "execution_count": null,
   "metadata": {},
   "outputs": [],
   "source": [
    "test_x_by_m1 = Get_Infer_Vector(test, model1)\n",
    "name1 = '-'.join(re.split('[\\(\\),\\/]',str(model1)))+'ct'\n",
    "test_x_by_m2 = Get_Infer_Vector(test, model2)\n",
    "name2 = '-'.join(re.split('[\\(\\),\\/]',str(model2)))+'ct'\n",
    "test_x_by_m3 = Get_Infer_Vector(test, model3)\n",
    "name3 = '-'.join(re.split('[\\(\\),\\/]',str(model3)))+'ct'\n",
    "test_y = [doc.tags[0] for doc in tqdm(test)]\n",
    "\n",
    "pickle.dump(test_x_by_m1,open(saveTrainPath+'test_x_'+name1,'wb'))\n",
    "pickle.dump(test_x_by_m2,open(saveTrainPath+'test_x_'+name2,'wb'))\n",
    "pickle.dump(test_x_by_m3,open(saveTrainPath+'test_x_'+name3,'wb'))\n",
    "pickle.dump(test_y, open(savePath+'test_y_for_sentiment_analysis','wb'))"
   ]
  },
  {
   "cell_type": "code",
   "execution_count": null,
   "metadata": {},
   "outputs": [],
   "source": [
    "del test"
   ]
  },
  {
   "cell_type": "code",
   "execution_count": null,
   "metadata": {},
   "outputs": [],
   "source": [
    "del test_x_by_m1\n",
    "del name1\n",
    "del test_x_by_m2\n",
    "del name2\n",
    "del test_x_by_m3\n",
    "del name3\n",
    "del test_y"
   ]
  },
  {
   "cell_type": "code",
   "execution_count": null,
   "metadata": {},
   "outputs": [],
   "source": [
    "del model1\n",
    "del model2\n",
    "del model3"
   ]
  },
  {
   "cell_type": "markdown",
   "metadata": {},
   "source": [
    "#### model1\n",
    "* Doc2Vec(dm/m,d2000,n7,w10,mc5,s0.001,t12)\n",
    "* size-2000\n",
    "* epoch-20\n",
    "* window-10\n",
    "* negative-7\n",
    "* hs-0\n",
    "* dm-1\n",
    "* dm_concat-0\n",
    "* dm_mean-1"
   ]
  },
  {
   "cell_type": "code",
   "execution_count": 151,
   "metadata": {},
   "outputs": [],
   "source": [
    "train_x_by_m1_name = 'train_x_Doc2Vec-dm-m-d2000-n7-w10-mc5-s0.001-t12-ct'\n",
    "train_x_by_m1 = pickle.load(open(saveTrainPath+train_x_by_m1_name,'rb'))\n",
    "train_y = pickle.load(open(saveTrainPath+'train_y_for_sentiment_analysis','rb'))"
   ]
  },
  {
   "cell_type": "code",
   "execution_count": 152,
   "metadata": {},
   "outputs": [],
   "source": [
    "test_x_by_m1_name = 'test_x_Doc2Vec-dm-m-d2000-n7-w10-mc5-s0.001-t12-ct'\n",
    "test_x_by_m1 = pickle.load(open(saveTrainPath+test_x_by_m1_name,'rb'))\n",
    "test_y = pickle.load(open(saveTrainPath+'test_y_for_sentiment_analysis','rb'))"
   ]
  },
  {
   "cell_type": "markdown",
   "metadata": {},
   "source": [
    "#### 분류 모델 : Logistic Regression"
   ]
  },
  {
   "cell_type": "code",
   "execution_count": 160,
   "metadata": {},
   "outputs": [
    {
     "name": "stdout",
     "output_type": "stream",
     "text": [
      "{'C': 1.0, 'class_weight': None, 'dual': False, 'fit_intercept': True, 'intercept_scaling': 1, 'max_iter': 100, 'multi_class': 'ovr', 'n_jobs': 1, 'penalty': 'l2', 'random_state': 1234, 'solver': 'liblinear', 'tol': 0.0001, 'verbose': 0, 'warm_start': False}\n",
      "score : 0.62\n",
      "classification report\n",
      "             precision    recall  f1-score   support\n",
      "\n",
      "          0       0.68      0.56      0.61        54\n",
      "          1       0.57      0.70      0.63        46\n",
      "\n",
      "avg / total       0.63      0.62      0.62       100\n",
      "\n"
     ]
    }
   ],
   "source": [
    "classifier = LogisticRegression(random_state=1234)\n",
    "classifier.fit(train_x_by_m1, train_y)\n",
    "print (classifier.get_params())\n",
    "print( 'score : {}'.format(classifier.score(test_x_by_m1, test_y)))\n",
    "print ('classification report')\n",
    "print (classification_report(test_y, classifier.predict(test_x_by_m1)))"
   ]
  },
  {
   "cell_type": "code",
   "execution_count": 161,
   "metadata": {},
   "outputs": [],
   "source": [
    "pickle.dump(classifier,open(saveClassifierPath+'LogisticRegression_'+train_x_by_m1_name, 'wb'))"
   ]
  },
  {
   "cell_type": "markdown",
   "metadata": {},
   "source": [
    "#### 분류모델 : RandomForest Classifier"
   ]
  },
  {
   "cell_type": "code",
   "execution_count": 162,
   "metadata": {},
   "outputs": [
    {
     "name": "stdout",
     "output_type": "stream",
     "text": [
      "{'bootstrap': True, 'class_weight': None, 'criterion': 'gini', 'max_depth': None, 'max_features': 'auto', 'max_leaf_nodes': None, 'min_impurity_decrease': 0.0, 'min_impurity_split': None, 'min_samples_leaf': 1, 'min_samples_split': 2, 'min_weight_fraction_leaf': 0.0, 'n_estimators': 10, 'n_jobs': 1, 'oob_score': False, 'random_state': 1234, 'verbose': 0, 'warm_start': False}\n",
      "score : 0.55\n",
      "classification report\n",
      "             precision    recall  f1-score   support\n",
      "\n",
      "          0       0.57      0.67      0.62        54\n",
      "          1       0.51      0.41      0.46        46\n",
      "\n",
      "avg / total       0.54      0.55      0.54       100\n",
      "\n"
     ]
    }
   ],
   "source": [
    "classifier2 = RandomForestClassifier(random_state=1234)\n",
    "classifier2.fit(train_x_by_m1, train_y)\n",
    "print (classifier2.get_params())\n",
    "print( 'score : {}'.format(classifier2.score(test_x_by_m1, test_y)))\n",
    "print ('classification report')\n",
    "print (classification_report(test_y, classifier2.predict(test_x_by_m1)))"
   ]
  },
  {
   "cell_type": "code",
   "execution_count": 163,
   "metadata": {},
   "outputs": [],
   "source": [
    "pickle.dump(classifier2,open(saveClassifierPath+'RandomForestClassifier_'+train_x_by_m1_name, 'wb'))"
   ]
  },
  {
   "cell_type": "markdown",
   "metadata": {},
   "source": [
    "#### 분류모델 : C-Support Vector Classification"
   ]
  },
  {
   "cell_type": "code",
   "execution_count": 164,
   "metadata": {},
   "outputs": [
    {
     "name": "stdout",
     "output_type": "stream",
     "text": [
      "{'C': 1.0, 'cache_size': 200, 'class_weight': None, 'coef0': 0.0, 'decision_function_shape': 'ovr', 'degree': 3, 'gamma': 2, 'kernel': 'linear', 'max_iter': -1, 'probability': False, 'random_state': None, 'shrinking': True, 'tol': 0.001, 'verbose': False}\n",
      "score : 0.65\n",
      "classification report\n",
      "             precision    recall  f1-score   support\n",
      "\n",
      "          0       0.70      0.61      0.65        54\n",
      "          1       0.60      0.70      0.65        46\n",
      "\n",
      "avg / total       0.66      0.65      0.65       100\n",
      "\n"
     ]
    }
   ],
   "source": [
    "classifier3 = SVC(kernel = 'linear', gamma = 2)\n",
    "classifier3.fit(train_x_by_m1, train_y)\n",
    "print (classifier3.get_params())\n",
    "print( 'score : {}'.format(classifier3.score(test_x_by_m1, test_y)))\n",
    "print ('classification report')\n",
    "print (classification_report(test_y, classifier3.predict(test_x_by_m1)))"
   ]
  },
  {
   "cell_type": "code",
   "execution_count": 165,
   "metadata": {},
   "outputs": [],
   "source": [
    "pickle.dump(classifier3,open(saveClassifierPath+'SVC_'+train_x_by_m1_name, 'wb'))"
   ]
  },
  {
   "cell_type": "code",
   "execution_count": 166,
   "metadata": {},
   "outputs": [
    {
     "data": {
      "image/png": "[encoded data removed]",
      "text/plain": [
       "<matplotlib.figure.Figure at 0x1af7afda90>"
      ]
     },
     "metadata": {},
     "output_type": "display_data"
    }
   ],
   "source": [
    "Make_Roc_Curve(test_x_by_m1, test_y, classifier, classifier2, classifier3)"
   ]
  },
  {
   "cell_type": "code",
   "execution_count": null,
   "metadata": {},
   "outputs": [],
   "source": [
    "del classifier\n",
    "del classifier2\n",
    "del classifier3"
   ]
  },
  {
   "cell_type": "code",
   "execution_count": null,
   "metadata": {},
   "outputs": [],
   "source": []
  },
  {
   "cell_type": "code",
   "execution_count": 167,
   "metadata": {},
   "outputs": [],
   "source": [
    "del train_x_by_m1\n",
    "del train_x_by_m1_name\n",
    "del test_x_by_m1\n",
    "del test_x_by_m1_name"
   ]
  },
  {
   "cell_type": "markdown",
   "metadata": {},
   "source": [
    "#### model2\n",
    "* Doc2Vec(dm/c,d2000,n7,w5,mc5,s0.001,t12)\n",
    "* size-2000\n",
    "* epoch-20\n",
    "* window-5\n",
    "* negative-7\n",
    "* hs-0\n",
    "* dm-1\n",
    "* dm_concat-1\n",
    "* dm_mean-0"
   ]
  },
  {
   "cell_type": "code",
   "execution_count": 168,
   "metadata": {},
   "outputs": [],
   "source": [
    "train_x_by_m2_name = 'train_x_Doc2Vec-dm-c-d2000-n7-w5-mc5-s0.001-t12-ct'\n",
    "train_x_by_m2 = pickle.load(open(saveTrainPath+train_x_by_m2_name,'rb'))\n",
    "train_y = pickle.load(open(saveTrainPath+'train_y_for_sentiment_analysis','rb'))"
   ]
  },
  {
   "cell_type": "code",
   "execution_count": 169,
   "metadata": {},
   "outputs": [],
   "source": [
    "test_x_by_m2_name = 'test_x_Doc2Vec-dm-c-d2000-n7-w5-mc5-s0.001-t12-ct'\n",
    "test_x_by_m2 = pickle.load(open(saveTrainPath+test_x_by_m2_name,'rb'))\n",
    "test_y = pickle.load(open(saveTrainPath+'test_y_for_sentiment_analysis','rb'))"
   ]
  },
  {
   "cell_type": "markdown",
   "metadata": {},
   "source": [
    "#### 분류 모델 : Logistic Regression"
   ]
  },
  {
   "cell_type": "code",
   "execution_count": 170,
   "metadata": {},
   "outputs": [
    {
     "name": "stdout",
     "output_type": "stream",
     "text": [
      "{'C': 1.0, 'class_weight': None, 'dual': False, 'fit_intercept': True, 'intercept_scaling': 1, 'max_iter': 100, 'multi_class': 'ovr', 'n_jobs': 1, 'penalty': 'l2', 'random_state': 1234, 'solver': 'liblinear', 'tol': 0.0001, 'verbose': 0, 'warm_start': False}\n",
      "score : 0.57\n",
      "classification report\n",
      "             precision    recall  f1-score   support\n",
      "\n",
      "          0       0.61      0.57      0.59        54\n",
      "          1       0.53      0.57      0.55        46\n",
      "\n",
      "avg / total       0.57      0.57      0.57       100\n",
      "\n"
     ]
    }
   ],
   "source": [
    "classifier = LogisticRegression(random_state=1234)\n",
    "classifier.fit(train_x_by_m2, train_y)\n",
    "print (classifier.get_params())\n",
    "print( 'score : {}'.format(classifier.score(test_x_by_m2, test_y)))\n",
    "print ('classification report')\n",
    "print (classification_report(test_y, classifier.predict(test_x_by_m2)))"
   ]
  },
  {
   "cell_type": "code",
   "execution_count": 171,
   "metadata": {},
   "outputs": [],
   "source": [
    "pickle.dump(classifier,open(saveClassifierPath+'LogisticRegression_'+train_x_by_m2_name, 'wb'))"
   ]
  },
  {
   "cell_type": "markdown",
   "metadata": {},
   "source": [
    "#### 분류모델 : RandomForest Classifier"
   ]
  },
  {
   "cell_type": "code",
   "execution_count": 172,
   "metadata": {},
   "outputs": [
    {
     "name": "stdout",
     "output_type": "stream",
     "text": [
      "{'bootstrap': True, 'class_weight': None, 'criterion': 'gini', 'max_depth': None, 'max_features': 'auto', 'max_leaf_nodes': None, 'min_impurity_decrease': 0.0, 'min_impurity_split': None, 'min_samples_leaf': 1, 'min_samples_split': 2, 'min_weight_fraction_leaf': 0.0, 'n_estimators': 10, 'n_jobs': 1, 'oob_score': False, 'random_state': 1234, 'verbose': 0, 'warm_start': False}\n",
      "score : 0.46\n",
      "classification report\n",
      "             precision    recall  f1-score   support\n",
      "\n",
      "          0       0.50      0.61      0.55        54\n",
      "          1       0.38      0.28      0.33        46\n",
      "\n",
      "avg / total       0.45      0.46      0.45       100\n",
      "\n"
     ]
    }
   ],
   "source": [
    "classifier2 = RandomForestClassifier(random_state=1234)\n",
    "classifier2.fit(train_x_by_m2, train_y)\n",
    "print (classifier2.get_params())\n",
    "print( 'score : {}'.format(classifier2.score(test_x_by_m2, test_y)))\n",
    "print ('classification report')\n",
    "print (classification_report(test_y, classifier2.predict(test_x_by_m2)))"
   ]
  },
  {
   "cell_type": "code",
   "execution_count": 173,
   "metadata": {},
   "outputs": [],
   "source": [
    "pickle.dump(classifier2,open(saveClassifierPath+'RandomForestClassifier_'+train_x_by_m2_name, 'wb'))"
   ]
  },
  {
   "cell_type": "markdown",
   "metadata": {},
   "source": [
    "#### 분류모델 : C-Support Vector Classification"
   ]
  },
  {
   "cell_type": "code",
   "execution_count": 174,
   "metadata": {},
   "outputs": [
    {
     "name": "stdout",
     "output_type": "stream",
     "text": [
      "{'C': 1.0, 'cache_size': 200, 'class_weight': None, 'coef0': 0.0, 'decision_function_shape': 'ovr', 'degree': 3, 'gamma': 2, 'kernel': 'linear', 'max_iter': -1, 'probability': False, 'random_state': None, 'shrinking': True, 'tol': 0.001, 'verbose': False}\n",
      "score : 0.58\n",
      "classification report\n",
      "             precision    recall  f1-score   support\n",
      "\n",
      "          0       0.77      0.31      0.45        54\n",
      "          1       0.53      0.89      0.66        46\n",
      "\n",
      "avg / total       0.66      0.58      0.55       100\n",
      "\n"
     ]
    }
   ],
   "source": [
    "classifier3 = SVC(kernel = 'linear', gamma = 2)\n",
    "classifier3.fit(train_x_by_m2, train_y)\n",
    "print (classifier3.get_params())\n",
    "print( 'score : {}'.format(classifier3.score(test_x_by_m2, test_y)))\n",
    "print ('classification report')\n",
    "print (classification_report(test_y, classifier3.predict(test_x_by_m2)))"
   ]
  },
  {
   "cell_type": "code",
   "execution_count": 175,
   "metadata": {},
   "outputs": [],
   "source": [
    "pickle.dump(classifier3,open(saveClassifierPath+'SVC_'+train_x_by_m2_name, 'wb'))"
   ]
  },
  {
   "cell_type": "code",
   "execution_count": 176,
   "metadata": {},
   "outputs": [
    {
     "data": {
      "image/png": "[encoded data removed]",
      "text/plain": [
       "<matplotlib.figure.Figure at 0x1b01b20080>"
      ]
     },
     "metadata": {},
     "output_type": "display_data"
    }
   ],
   "source": [
    "Make_Roc_Curve(test_x_by_m2, test_y, classifier, classifier2, classifier3)"
   ]
  },
  {
   "cell_type": "code",
   "execution_count": 177,
   "metadata": {},
   "outputs": [],
   "source": [
    "del train_x_by_m2\n",
    "del train_x_by_m2_name\n",
    "del test_x_by_m2\n",
    "del test_x_by_m2_name\n",
    "del classifier\n",
    "del classifier2\n",
    "del classifier3"
   ]
  },
  {
   "cell_type": "markdown",
   "metadata": {},
   "source": [
    "#### model3\n",
    "* Doc2Vec(dbow,d2000,n7,mc5,s0.001,t12)\n",
    "* size-2000\n",
    "* epoch-20\n",
    "* window-None\n",
    "* negative-7\n",
    "* hs-0\n",
    "* dm-0\n",
    "* dm_concat-0\n",
    "* dm_mean-0"
   ]
  },
  {
   "cell_type": "code",
   "execution_count": 101,
   "metadata": {},
   "outputs": [
    {
     "data": {
      "text/plain": [
       "'Doc2Vec-dbow-d2000-n7-mc5-s0.001-t12-ct'"
      ]
     },
     "execution_count": 101,
     "metadata": {},
     "output_type": "execute_result"
    }
   ],
   "source": [
    "name3"
   ]
  },
  {
   "cell_type": "code",
   "execution_count": 178,
   "metadata": {},
   "outputs": [],
   "source": [
    "train_x_by_m3_name = 'train_x_Doc2Vec-dbow-d2000-n7-mc5-s0.001-t12-ct'\n",
    "train_x_by_m3 = pickle.load(open(savePath+train_x_by_m3_name,'rb'))\n",
    "train_y = pickle.load(open(savePath+'train_y_for_sentiment_analysis','rb'))"
   ]
  },
  {
   "cell_type": "code",
   "execution_count": 179,
   "metadata": {},
   "outputs": [],
   "source": [
    "test_x_by_m3_name = 'test_x_Doc2Vec-dbow-d2000-n7-mc5-s0.001-t12-ct'\n",
    "test_x_by_m3 = pickle.load(open(savePath+test_x_by_m3_name,'rb'))\n",
    "test_y = pickle.load(open(savePath+'test_y_for_sentiment_analysis','rb'))"
   ]
  },
  {
   "cell_type": "markdown",
   "metadata": {},
   "source": [
    "#### 분류 모델 : Logistic Regression"
   ]
  },
  {
   "cell_type": "code",
   "execution_count": 180,
   "metadata": {},
   "outputs": [
    {
     "name": "stdout",
     "output_type": "stream",
     "text": [
      "{'C': 1.0, 'class_weight': None, 'dual': False, 'fit_intercept': True, 'intercept_scaling': 1, 'max_iter': 100, 'multi_class': 'ovr', 'n_jobs': 1, 'penalty': 'l2', 'random_state': 1234, 'solver': 'liblinear', 'tol': 0.0001, 'verbose': 0, 'warm_start': False}\n",
      "score : 0.79\n",
      "classification report\n",
      "             precision    recall  f1-score   support\n",
      "\n",
      "          0       0.80      0.81      0.81        54\n",
      "          1       0.78      0.76      0.77        46\n",
      "\n",
      "avg / total       0.79      0.79      0.79       100\n",
      "\n"
     ]
    }
   ],
   "source": [
    "classifier = LogisticRegression(random_state=1234)\n",
    "classifier.fit(train_x_by_m3, train_y)\n",
    "print (classifier.get_params())\n",
    "print( 'score : {}'.format(classifier.score(test_x_by_m3, test_y)))\n",
    "print ('classification report')\n",
    "print (classification_report(test_y, classifier.predict(test_x_by_m3)))"
   ]
  },
  {
   "cell_type": "code",
   "execution_count": 181,
   "metadata": {},
   "outputs": [],
   "source": [
    "pickle.dump(classifier,open(saveClassifierPath+'LogisticRegression_'+train_x_by_m3_name, 'wb'))"
   ]
  },
  {
   "cell_type": "markdown",
   "metadata": {},
   "source": [
    "#### 분류모델 : RandomForest Classifier"
   ]
  },
  {
   "cell_type": "code",
   "execution_count": 182,
   "metadata": {},
   "outputs": [
    {
     "name": "stdout",
     "output_type": "stream",
     "text": [
      "{'bootstrap': True, 'class_weight': None, 'criterion': 'gini', 'max_depth': None, 'max_features': 'auto', 'max_leaf_nodes': None, 'min_impurity_decrease': 0.0, 'min_impurity_split': None, 'min_samples_leaf': 1, 'min_samples_split': 2, 'min_weight_fraction_leaf': 0.0, 'n_estimators': 10, 'n_jobs': 1, 'oob_score': False, 'random_state': 1234, 'verbose': 0, 'warm_start': False}\n",
      "score : 0.59\n",
      "classification report\n",
      "             precision    recall  f1-score   support\n",
      "\n",
      "          0       0.60      0.70      0.65        54\n",
      "          1       0.57      0.46      0.51        46\n",
      "\n",
      "avg / total       0.59      0.59      0.58       100\n",
      "\n"
     ]
    }
   ],
   "source": [
    "classifier2 = RandomForestClassifier(random_state=1234)\n",
    "classifier2.fit(train_x_by_m3, train_y)\n",
    "print (classifier2.get_params())\n",
    "print( 'score : {}'.format(classifier2.score(test_x_by_m3, test_y)))\n",
    "print ('classification report')\n",
    "print (classification_report(test_y, classifier2.predict(test_x_by_m3)))"
   ]
  },
  {
   "cell_type": "code",
   "execution_count": 183,
   "metadata": {},
   "outputs": [],
   "source": [
    "pickle.dump(classifier2,open(saveClassifierPath+'RandomForestClassifier_'+train_x_by_m3_name, 'wb'))"
   ]
  },
  {
   "cell_type": "markdown",
   "metadata": {},
   "source": [
    "#### 분류모델 : C-Support Vector Classification"
   ]
  },
  {
   "cell_type": "code",
   "execution_count": 184,
   "metadata": {},
   "outputs": [
    {
     "name": "stdout",
     "output_type": "stream",
     "text": [
      "{'C': 1.0, 'cache_size': 200, 'class_weight': None, 'coef0': 0.0, 'decision_function_shape': 'ovr', 'degree': 3, 'gamma': 2, 'kernel': 'linear', 'max_iter': -1, 'probability': False, 'random_state': None, 'shrinking': True, 'tol': 0.001, 'verbose': False}\n",
      "score : 0.73\n",
      "classification report\n",
      "             precision    recall  f1-score   support\n",
      "\n",
      "          0       0.76      0.72      0.74        54\n",
      "          1       0.69      0.74      0.72        46\n",
      "\n",
      "avg / total       0.73      0.73      0.73       100\n",
      "\n"
     ]
    }
   ],
   "source": [
    "classifier3 = SVC(kernel = 'linear', gamma = 2)\n",
    "classifier3.fit(train_x_by_m3, train_y)\n",
    "print (classifier3.get_params())\n",
    "print( 'score : {}'.format(classifier3.score(test_x_by_m3, test_y)))\n",
    "print ('classification report')\n",
    "print (classification_report(test_y, classifier3.predict(test_x_by_m3)))"
   ]
  },
  {
   "cell_type": "code",
   "execution_count": 185,
   "metadata": {},
   "outputs": [],
   "source": [
    "pickle.dump(classifier3,open(saveClassifierPath+'SVC_'+train_x_by_m3_name, 'wb'))"
   ]
  },
  {
   "cell_type": "code",
   "execution_count": 186,
   "metadata": {},
   "outputs": [
    {
     "data": {
      "image/png": "[encoded data removed]",
      "text/plain": [
       "<matplotlib.figure.Figure at 0x1af885f588>"
      ]
     },
     "metadata": {},
     "output_type": "display_data"
    }
   ],
   "source": [
    "Make_Roc_Curve(test_x_by_m3, test_y, classifier, classifier2, classifier3)"
   ]
  },
  {
   "cell_type": "code",
   "execution_count": 187,
   "metadata": {},
   "outputs": [],
   "source": [
    "del train_x_by_m3\n",
    "del train_x_by_m3_name\n",
    "del test_x_by_m3\n",
    "del test_x_by_m3_name\n",
    "del classifier\n",
    "del classifier2\n",
    "del classifier3"
   ]
  },
  {
   "cell_type": "markdown",
   "metadata": {},
   "source": [
    "#### mecab"
   ]
  },
  {
   "cell_type": "markdown",
   "metadata": {},
   "source": [
    "#### Load Model"
   ]
  },
  {
   "cell_type": "code",
   "execution_count": 188,
   "metadata": {},
   "outputs": [],
   "source": [
    "model1 = doc2vec.Doc2Vec.load(loadModelPath+'doc2vec_size-2000_epoch-20_window-10_negative-7_hs-0_dm-1_dm_concat-0_dm_mean-1_by-mecab.model')\n",
    "model2 = doc2vec.Doc2Vec.load(loadModelPath+'doc2vec_size-2000_epoch-20_window-5_negative-7_hs-0_dm-1_dm_concat-1_dm_mean-0_by-mecab.model')\n",
    "model3 = doc2vec.Doc2Vec.load(loadModelPath+'doc2vec_size-2000_epoch-20_window-None_negative-7_hs-0_dm-0_dm_concat-0_dm_mean-0_by-mecab.model')"
   ]
  },
  {
   "cell_type": "markdown",
   "metadata": {},
   "source": [
    "#### Word to Vector"
   ]
  },
  {
   "cell_type": "markdown",
   "metadata": {},
   "source": [
    "##### train set"
   ]
  },
  {
   "cell_type": "code",
   "execution_count": 189,
   "metadata": {},
   "outputs": [],
   "source": [
    "train = pickle.load(open('./data/pre_data/train_test_Data/pre_by_mecab_train.pickled','rb'))"
   ]
  },
  {
   "cell_type": "code",
   "execution_count": null,
   "metadata": {},
   "outputs": [],
   "source": [
    "train = train[:1000]"
   ]
  },
  {
   "cell_type": "code",
   "execution_count": null,
   "metadata": {},
   "outputs": [
    {
     "name": "stderr",
     "output_type": "stream",
     "text": [
      "100%|██████████| 1000/1000 [00:17<00:00, 55.95it/s]\n",
      " 27%|██▋       | 274/1000 [21:40<57:24,  4.74s/it]  "
     ]
    }
   ],
   "source": [
    "train_x_by_m1 = Get_Infer_Vector(train, model1)\n",
    "name1 = '-'.join(re.split('[\\(\\),\\/]',str(model1)))+'mecab'\n",
    "train_x_by_m2 = Get_Infer_Vector(train, model2)\n",
    "name2 = '-'.join(re.split('[\\(\\),\\/]',str(model2)))+'mecab'\n",
    "train_x_by_m3 = Get_Infer_Vector(train, model3)\n",
    "name3 = '-'.join(re.split('[\\(\\),\\/]',str(model3)))+'mecab'\n",
    "train_y = [doc.tags[0] for doc in tqdm(train)]\n",
    "\n",
    "pickle.dump(train_x_by_m1,open(saveTrainPath+'train_x_'+name1,'wb'))\n",
    "pickle.dump(train_x_by_m2,open(saveTrainPath+'train_x_'+name2,'wb'))\n",
    "pickle.dump(train_x_by_m3,open(saveTrainPath+'train_x_'+name3,'wb'))\n",
    "pickle.dump(train_y, open(saveTrainPath+'train_y_for_sentiment_analysis','wb'))"
   ]
  },
  {
   "cell_type": "code",
   "execution_count": null,
   "metadata": {},
   "outputs": [],
   "source": [
    "del train"
   ]
  },
  {
   "cell_type": "code",
   "execution_count": null,
   "metadata": {},
   "outputs": [],
   "source": [
    "del train_x_by_m1\n",
    "del name1\n",
    "del train_x_by_m2\n",
    "del name2\n",
    "del train_x_by_m3\n",
    "del name3\n",
    "del train_y"
   ]
  },
  {
   "cell_type": "markdown",
   "metadata": {},
   "source": [
    "##### test set"
   ]
  },
  {
   "cell_type": "code",
   "execution_count": null,
   "metadata": {},
   "outputs": [],
   "source": [
    "test = pickle.load(open('./data/pre_data/train_test_Data/pre_by_mecab_test.pickled','rb'))"
   ]
  },
  {
   "cell_type": "code",
   "execution_count": null,
   "metadata": {},
   "outputs": [],
   "source": [
    "test = test[:100]"
   ]
  },
  {
   "cell_type": "code",
   "execution_count": null,
   "metadata": {},
   "outputs": [],
   "source": [
    "test_x_by_m1 = Get_Infer_Vector(test, model1)\n",
    "name1 = '-'.join(re.split('[\\(\\),\\/]',str(model1)))+'mecab'\n",
    "test_x_by_m2 = Get_Infer_Vector(test, model2)\n",
    "name2 = '-'.join(re.split('[\\(\\),\\/]',str(model2)))+'mecab'\n",
    "test_x_by_m3 = Get_Infer_Vector(test, model3)\n",
    "name3 = '-'.join(re.split('[\\(\\),\\/]',str(model3)))+'mecab'\n",
    "test_y = [doc.tags[0] for doc in tqdm(test)]\n",
    "\n",
    "pickle.dump(test_x_by_m1,open(saveTrainPath+'test_x_'+name1,'wb'))\n",
    "pickle.dump(test_x_by_m2,open(saveTrainPath+'test_x_'+name2,'wb'))\n",
    "pickle.dump(test_x_by_m3,open(saveTrainPath+'test_x_'+name3,'wb'))\n",
    "pickle.dump(test_y, open(savePath+'test_y_for_sentiment_analysis','wb'))"
   ]
  },
  {
   "cell_type": "code",
   "execution_count": null,
   "metadata": {},
   "outputs": [],
   "source": [
    "del test"
   ]
  },
  {
   "cell_type": "code",
   "execution_count": null,
   "metadata": {},
   "outputs": [],
   "source": [
    "del test_x_by_m1\n",
    "del name1\n",
    "del test_x_by_m2\n",
    "del name2\n",
    "del test_x_by_m3\n",
    "del name3\n",
    "del test_y"
   ]
  },
  {
   "cell_type": "code",
   "execution_count": null,
   "metadata": {},
   "outputs": [],
   "source": [
    "del model1\n",
    "del model2\n",
    "del model3"
   ]
  },
  {
   "cell_type": "markdown",
   "metadata": {},
   "source": [
    "#### model1\n",
    "* Doc2Vec(dm/m,d2000,n7,w10,mc5,s0.001,t12)\n",
    "* size-2000\n",
    "* epoch-20\n",
    "* window-10\n",
    "* negative-7\n",
    "* hs-0\n",
    "* dm-1\n",
    "* dm_concat-0\n",
    "* dm_mean-1"
   ]
  },
  {
   "cell_type": "code",
   "execution_count": null,
   "metadata": {},
   "outputs": [],
   "source": [
    "train_x_by_m1_name = 'train_x_Doc2Vec-dm-m-d2000-n7-w10-mc5-s0.001-t12-mecab'\n",
    "train_x_by_m1 = pickle.load(open(saveTrainPath+train_x_by_m1_name,'rb'))\n",
    "train_y = pickle.load(open(saveTrainPath+'train_y_for_sentiment_analysis','rb'))"
   ]
  },
  {
   "cell_type": "code",
   "execution_count": null,
   "metadata": {},
   "outputs": [],
   "source": [
    "test_x_by_m1_name = 'test_x_Doc2Vec-dm-m-d2000-n7-w10-mc5-s0.001-t12-mecab'\n",
    "test_x_by_m1 = pickle.load(open(saveTrainPath+test_x_by_m1_name,'rb'))\n",
    "test_y = pickle.load(open(saveTrainPath+'test_y_for_sentiment_analysis','rb'))"
   ]
  },
  {
   "cell_type": "markdown",
   "metadata": {},
   "source": [
    "#### 분류 모델 : Logistic Regression"
   ]
  },
  {
   "cell_type": "code",
   "execution_count": null,
   "metadata": {},
   "outputs": [],
   "source": [
    "classifier = LogisticRegression(random_state=1234)\n",
    "classifier.fit(train_x_by_m1, train_y)\n",
    "print (classifier.get_params())\n",
    "print( 'score : {}'.format(classifier.score(test_x_by_m1, test_y)))\n",
    "print ('classification report')\n",
    "print (classification_report(test_y, classifier.predict(test_x_by_m1)))"
   ]
  },
  {
   "cell_type": "code",
   "execution_count": null,
   "metadata": {},
   "outputs": [],
   "source": [
    "pickle.dump(classifier,open(saveClassifierPath+'LogisticRegression_'+train_x_by_m1_name, 'wb'))"
   ]
  },
  {
   "cell_type": "markdown",
   "metadata": {},
   "source": [
    "#### 분류모델 : RandomForest Classifier"
   ]
  },
  {
   "cell_type": "code",
   "execution_count": null,
   "metadata": {},
   "outputs": [],
   "source": [
    "classifier2 = RandomForestClassifier(random_state=1234)\n",
    "classifier2.fit(train_x_by_m1, train_y)\n",
    "print (classifier2.get_params())\n",
    "print( 'score : {}'.format(classifier2.score(test_x_by_m1, test_y)))\n",
    "print ('classification report')\n",
    "print (classification_report(test_y, classifier2.predict(test_x_by_m1)))"
   ]
  },
  {
   "cell_type": "code",
   "execution_count": null,
   "metadata": {},
   "outputs": [],
   "source": [
    "pickle.dump(classifier2,open(saveClassifierPath+'RandomForestClassifier_'+train_x_by_m1_name, 'wb'))"
   ]
  },
  {
   "cell_type": "markdown",
   "metadata": {},
   "source": [
    "#### 분류모델 : C-Support Vector Classification"
   ]
  },
  {
   "cell_type": "code",
   "execution_count": null,
   "metadata": {},
   "outputs": [],
   "source": [
    "classifier3 = SVC(kernel = 'linear', gamma = 2)\n",
    "classifier3.fit(train_x_by_m1, train_y)\n",
    "print (classifier3.get_params())\n",
    "print( 'score : {}'.format(classifier3.score(test_x_by_m1, test_y)))\n",
    "print ('classification report')\n",
    "print (classification_report(test_y, classifier3.predict(test_x_by_m1)))"
   ]
  },
  {
   "cell_type": "code",
   "execution_count": null,
   "metadata": {},
   "outputs": [],
   "source": [
    "pickle.dump(classifier3,open(saveClassifierPath+'SVC_'+train_x_by_m1_name, 'wb'))"
   ]
  },
  {
   "cell_type": "code",
   "execution_count": null,
   "metadata": {},
   "outputs": [],
   "source": [
    "Make_Roc_Curve(test_x_by_m1, test_y, classifier, classifier2, classifier3)"
   ]
  },
  {
   "cell_type": "code",
   "execution_count": null,
   "metadata": {},
   "outputs": [],
   "source": [
    "del train_x_by_m1\n",
    "del train_x_by_m1_name\n",
    "del test_x_by_m1\n",
    "del test_x_by_m1_name\n",
    "del classifier\n",
    "del classifier2\n",
    "del classifier3"
   ]
  },
  {
   "cell_type": "markdown",
   "metadata": {},
   "source": [
    "#### model2\n",
    "* Doc2Vec(dm/c,d2000,n7,w5,mc5,s0.001,t12)\n",
    "* size-2000\n",
    "* epoch-20\n",
    "* window-5\n",
    "* negative-7\n",
    "* hs-0\n",
    "* dm-1\n",
    "* dm_concat-1\n",
    "* dm_mean-0"
   ]
  },
  {
   "cell_type": "code",
   "execution_count": null,
   "metadata": {},
   "outputs": [],
   "source": [
    "train_x_by_m2_name = 'train_x_Doc2Vec-dm-c-d2000-n7-w5-mc5-s0.001-t12-mecab'\n",
    "train_x_by_m2 = pickle.load(open(saveTrainPath+train_x_by_m2_name,'rb'))\n",
    "train_y = pickle.load(open(saveTrainPath+'train_y_for_sentiment_analysis','rb'))"
   ]
  },
  {
   "cell_type": "code",
   "execution_count": null,
   "metadata": {},
   "outputs": [],
   "source": [
    "test_x_by_m2_name = 'test_x_Doc2Vec-dm-c-d2000-n7-w5-mc5-s0.001-t12-mecab'\n",
    "test_x_by_m2 = pickle.load(open(saveTrainPath+test_x_by_m2_name,'rb'))\n",
    "test_y = pickle.load(open(saveTrainPath+'test_y_for_sentiment_analysis','rb'))"
   ]
  },
  {
   "cell_type": "markdown",
   "metadata": {},
   "source": [
    "#### 분류 모델 : Logistic Regression"
   ]
  },
  {
   "cell_type": "code",
   "execution_count": null,
   "metadata": {},
   "outputs": [],
   "source": [
    "classifier = LogisticRegression(random_state=1234)\n",
    "classifier.fit(train_x_by_m2, train_y)\n",
    "print (classifier.get_params())\n",
    "print( 'score : {}'.format(classifier.score(test_x_by_m2, test_y)))\n",
    "print ('classification report')\n",
    "print (classification_report(test_y, classifier.predict(test_x_by_m2)))"
   ]
  },
  {
   "cell_type": "code",
   "execution_count": null,
   "metadata": {},
   "outputs": [],
   "source": [
    "pickle.dump(classifier,open(saveClassifierPath+'LogisticRegression_'+train_x_by_m2_name, 'wb'))"
   ]
  },
  {
   "cell_type": "markdown",
   "metadata": {},
   "source": [
    "#### 분류모델 : RandomForest Classifier"
   ]
  },
  {
   "cell_type": "code",
   "execution_count": null,
   "metadata": {},
   "outputs": [],
   "source": [
    "classifier2 = RandomForestClassifier(random_state=1234)\n",
    "classifier2.fit(train_x_by_m2, train_y)\n",
    "print (classifier2.get_params())\n",
    "print( 'score : {}'.format(classifier2.score(test_x_by_m2, test_y)))\n",
    "print ('classification report')\n",
    "print (classification_report(test_y, classifier2.predict(test_x_by_m2)))"
   ]
  },
  {
   "cell_type": "code",
   "execution_count": null,
   "metadata": {},
   "outputs": [],
   "source": [
    "pickle.dump(classifier2,open(saveClassifierPath+'RandomForestClassifier_'+train_x_by_m2_name, 'wb'))"
   ]
  },
  {
   "cell_type": "markdown",
   "metadata": {},
   "source": [
    "#### 분류모델 : C-Support Vector Classification"
   ]
  },
  {
   "cell_type": "code",
   "execution_count": null,
   "metadata": {},
   "outputs": [],
   "source": [
    "classifier3 = SVC(kernel = 'linear', gamma = 2)\n",
    "classifier3.fit(train_x_by_m2, train_y)\n",
    "print (classifier3.get_params())\n",
    "print( 'score : {}'.format(classifier3.score(test_x_by_m2, test_y)))\n",
    "print ('classification report')\n",
    "print (classification_report(test_y, classifier3.predict(test_x_by_m2)))"
   ]
  },
  {
   "cell_type": "code",
   "execution_count": null,
   "metadata": {},
   "outputs": [],
   "source": [
    "pickle.dump(classifier3,open(saveClassifierPath+'SVC_'+train_x_by_m2_name, 'wb'))"
   ]
  },
  {
   "cell_type": "code",
   "execution_count": null,
   "metadata": {},
   "outputs": [],
   "source": [
    "Make_Roc_Curve(test_x_by_m2, test_y, classifier, classifier2, classifier3)"
   ]
  },
  {
   "cell_type": "code",
   "execution_count": null,
   "metadata": {},
   "outputs": [],
   "source": [
    "del train_x_by_m2\n",
    "del train_x_by_m2_name\n",
    "del test_x_by_m2\n",
    "del test_x_by_m2_name\n",
    "del classifier\n",
    "del classifier2\n",
    "del classifier3"
   ]
  },
  {
   "cell_type": "markdown",
   "metadata": {},
   "source": [
    "#### model3\n",
    "* Doc2Vec(dbow,d2000,n7,mc5,s0.001,t12)\n",
    "* size-2000\n",
    "* epoch-20\n",
    "* window-None\n",
    "* negative-7\n",
    "* hs-0\n",
    "* dm-0\n",
    "* dm_concat-0\n",
    "* dm_mean-0"
   ]
  },
  {
   "cell_type": "code",
   "execution_count": null,
   "metadata": {},
   "outputs": [],
   "source": [
    "name3"
   ]
  },
  {
   "cell_type": "code",
   "execution_count": null,
   "metadata": {},
   "outputs": [],
   "source": [
    "train_x_by_m3_name = 'train_x_Doc2Vec-dbow-d2000-n7-mc5-s0.001-t12-mecab'\n",
    "train_x_by_m3 = pickle.load(open(savePath+train_x_by_m3_name,'rb'))\n",
    "train_y = pickle.load(open(savePath+'train_y_for_sentiment_analysis','rb'))"
   ]
  },
  {
   "cell_type": "code",
   "execution_count": null,
   "metadata": {},
   "outputs": [],
   "source": [
    "test_x_by_m3_name = 'test_x_Doc2Vec-dbow-d2000-n7-mc5-s0.001-t12-mecab'\n",
    "test_x_by_m3 = pickle.load(open(savePath+test_x_by_m3_name,'rb'))\n",
    "test_y = pickle.load(open(savePath+'test_y_for_sentiment_analysis','rb'))"
   ]
  },
  {
   "cell_type": "markdown",
   "metadata": {},
   "source": [
    "#### 분류 모델 : Logistic Regression"
   ]
  },
  {
   "cell_type": "code",
   "execution_count": null,
   "metadata": {},
   "outputs": [],
   "source": [
    "classifier = LogisticRegression(random_state=1234)\n",
    "classifier.fit(train_x_by_m3, train_y)\n",
    "print (classifier.get_params())\n",
    "print( 'score : {}'.format(classifier.score(test_x_by_m3, test_y)))\n",
    "print ('classification report')\n",
    "print (classification_report(test_y, classifier.predict(test_x_by_m3)))"
   ]
  },
  {
   "cell_type": "code",
   "execution_count": null,
   "metadata": {},
   "outputs": [],
   "source": [
    "pickle.dump(classifier,open(saveClassifierPath+'LogisticRegression_'+train_x_by_m3_name, 'wb'))"
   ]
  },
  {
   "cell_type": "markdown",
   "metadata": {},
   "source": [
    "#### 분류모델 : RandomForest Classifier"
   ]
  },
  {
   "cell_type": "code",
   "execution_count": null,
   "metadata": {},
   "outputs": [],
   "source": [
    "classifier2 = RandomForestClassifier(random_state=1234)\n",
    "classifier2.fit(train_x_by_m3, train_y)\n",
    "print (classifier2.get_params())\n",
    "print( 'score : {}'.format(classifier2.score(test_x_by_m3, test_y)))\n",
    "print ('classification report')\n",
    "print (classification_report(test_y, classifier2.predict(test_x_by_m3)))"
   ]
  },
  {
   "cell_type": "code",
   "execution_count": null,
   "metadata": {},
   "outputs": [],
   "source": [
    "pickle.dump(classifier2,open(saveClassifierPath+'RandomForestClassifier_'+train_x_by_m3_name, 'wb'))"
   ]
  },
  {
   "cell_type": "markdown",
   "metadata": {},
   "source": [
    "#### 분류모델 : C-Support Vector Classification"
   ]
  },
  {
   "cell_type": "code",
   "execution_count": null,
   "metadata": {},
   "outputs": [],
   "source": [
    "classifier3 = SVC(kernel = 'linear', gamma = 2)\n",
    "classifier3.fit(train_x_by_m3, train_y)\n",
    "print (classifier3.get_params())\n",
    "print( 'score : {}'.format(classifier3.score(test_x_by_m3, test_y)))\n",
    "print ('classification report')\n",
    "print (classification_report(test_y, classifier3.predict(test_x_by_m3)))"
   ]
  },
  {
   "cell_type": "code",
   "execution_count": null,
   "metadata": {},
   "outputs": [],
   "source": [
    "pickle.dump(classifier3,open(saveClassifierPath+'SVC_'+train_x_by_m3_name, 'wb'))"
   ]
  },
  {
   "cell_type": "code",
   "execution_count": null,
   "metadata": {},
   "outputs": [],
   "source": [
    "Make_Roc_Curve(test_x_by_m3, test_y, classifier, classifier2, classifier3)"
   ]
  },
  {
   "cell_type": "code",
   "execution_count": null,
   "metadata": {},
   "outputs": [],
   "source": [
    "del train_x_by_m3\n",
    "del train_x_by_m3_name\n",
    "del test_x_by_m3\n",
    "del test_x_by_m3_name\n",
    "del classifier\n",
    "del classifier2\n",
    "del classifier3"
   ]
  },
  {
   "cell_type": "markdown",
   "metadata": {},
   "source": [
    "#### 분류모델 : "
   ]
  },
  {
   "cell_type": "code",
   "execution_count": null,
   "metadata": {
    "scrolled": true
   },
   "outputs": [],
   "source": [
    "\n",
    "train_vecs_w2v = np.concatenate([z.reshape(1,-1) for z in tqdm(map(lambda x: x,train_x_by_m3))])\n",
    "train_vecs_w2v = scale(train_vecs_w2v)\n",
    "\n",
    "test_vecs_w2v = np.concatenate([z.reshape(1,-1) for z in tqdm(map(lambda x: x, test2_x))])\n",
    "test_vecs_w2v = scale(test_vecs_w2v)\n",
    "\n",
    "\n",
    "y_test2 = np_utils.to_categorical(test2_y,2)\n",
    "y_train2 = np_utils.to_categorical(train2_y,2)"
   ]
  },
  {
   "cell_type": "code",
   "execution_count": null,
   "metadata": {},
   "outputs": [],
   "source": []
  },
  {
   "cell_type": "code",
   "execution_count": null,
   "metadata": {
    "scrolled": true
   },
   "outputs": [],
   "source": [
    "\n",
    "model = Sequential()\n",
    "model.add(Dense(128, activation='relu', input_dim=2000))\n",
    "model.add(Dense(64, activation='relu', kernel_regularizer=l2(0.001)))\n",
    "model.add(Dropout(0.1))\n",
    "model.add(Dense(32, activation='relu', kernel_regularizer=l2(0.001)))\n",
    "model.add(Dropout(0.1))\n",
    "model.add(Dense(2, activation='sigmoid'))\n",
    "model.compile(#optimizer='rmsprop',\n",
    "    optimizer='adadelta',\n",
    "              #loss='binary_crossentropy',\n",
    "    #optimizer=SGD(lr=0.2), \n",
    "    loss='binary_crossentropy',\n",
    "    metrics=['accuracy'])\n",
    "\n",
    "model.fit(train_vecs_w2v, y_train2,epochs=100, batch_size=50000, verbose=2)\n",
    "score = model.evaluate(test_vecs_w2v, y_test2, verbose=2)\n",
    "print (score[1])"
   ]
  },
  {
   "cell_type": "code",
   "execution_count": null,
   "metadata": {},
   "outputs": [],
   "source": [
    "mode2 = Sequential()\n",
    "mode2.add(Dense(64, activation='relu', input_dim=2000))\n",
    "mode2.add(Dropout(0.25))\n",
    "mode2.add(Dense(32, activation='relu'))\n",
    "mode2.add(Dropout(0.125))\n",
    "mode2.add(Dense(2, activation='softmax'))\n",
    "mode2.compile(loss='binary_crossentropy', optimizer='adam', metrics=['accuracy'])\n",
    "# Train model\n",
    "mode2.fit(train_vecs_w2v, y_train2,epochs=100, batch_size=50000, verbose=2)\n",
    "# Evaluate model\n",
    "score, acc = model.evaluate(test_vecs_w2v, y_test2, verbose=2)\n",
    "\n",
    "\n",
    "print('Score: %1.4f' % score)\n",
    "print('Accuracy: %1.4f' % acc)"
   ]
  },
  {
   "cell_type": "code",
   "execution_count": null,
   "metadata": {},
   "outputs": [],
   "source": [
    "embedding_layer = Embedding(input_dim=len(list(model2.docvecs)),\n",
    "                           output_dim = 2000)"
   ]
  },
  {
   "cell_type": "code",
   "execution_count": null,
   "metadata": {},
   "outputs": [],
   "source": [
    "from keras.layers import Activation\n",
    "nn_model = Sequential()\n",
    "nn_model.add(embedding_layer)\n",
    "nn_model.add(LSTM(2))\n",
    "nn_model.add(Dense(2))\n",
    "nn_model.add(Activation('sigmoid'))\n",
    "nn_model.compile(loss='binary_crossentropy',\n",
    "                 optimizer='adam',\n",
    "                 metrics=['accuracy'])\n",
    "print('Train...')\n",
    "nn_model.fit(train_vecs_w2v, y_train2,epochs=10, batch_size=25000)\n",
    "# Evaluate model\n",
    "score, acc = nn_model.evaluate(test_vecs_w2v, y_test2, verbose=2)"
   ]
  }
 ],
 "metadata": {
  "kernelspec": {
   "display_name": "Python 3",
   "language": "python",
   "name": "python3"
  },
  "language_info": {
   "codemirror_mode": {
    "name": "ipython",
    "version": 3
   },
   "file_extension": ".py",
   "mimetype": "text/x-python",
   "name": "python",
   "nbconvert_exporter": "python",
   "pygments_lexer": "ipython3",
   "version": "3.6.4"
  }
 },
 "nbformat": 4,
 "nbformat_minor": 2
}
