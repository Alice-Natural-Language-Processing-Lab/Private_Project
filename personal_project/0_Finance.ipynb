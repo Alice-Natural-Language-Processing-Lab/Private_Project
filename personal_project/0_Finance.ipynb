{
 "cells": [
  {
   "cell_type": "markdown",
   "metadata": {},
   "source": [
    "# 금융정보\n",
    "> * 코스피 지수\n",
    "> * 코스닥 지수\n",
    "> * 달러/원화 환율  \n",
    "\n",
    "기간 : 2017년 12월 01일 ~"
   ]
  },
  {
   "cell_type": "code",
   "execution_count": 1,
   "metadata": {},
   "outputs": [
    {
     "name": "stdout",
     "output_type": "stream",
     "text": [
      "KOSPI ^KS11 2018-02-03 2018-02-03\n",
      "KOSDAQ ^KQ11 2018-02-03 2018-02-03\n",
      "CURRENCY KRW=X 2018-02-03 2018-02-03\n",
      "0:00:04.348348\n"
     ]
    }
   ],
   "source": [
    "def Get_Finance_Info(target, symbol, date, nowdate):\n",
    "    from pandas_datareader import DataReader\n",
    "    print (target, symbol, date, nowdate)\n",
    "    value = True\n",
    "    while value:\n",
    "        try:\n",
    "            df = DataReader(symbol, \"yahoo\", date, nowdate)\n",
    "        except:\n",
    "            value = True\n",
    "        else:\n",
    "            value = False\n",
    "    return df.add_suffix('_'+target)\n",
    "\n",
    "def Get_Finance(date): \n",
    "    import pandas as pd\n",
    "    import chat_bot as cb\n",
    "    from datetime import datetime\n",
    "    nowdate = datetime.now().date()\n",
    "    date = datetime.strptime(str(date),'%Y%m%d').date()\n",
    "    target = {'KOSPI' : '^KS11',\n",
    "             'KOSDAQ' : '^KQ11',\n",
    "             'CURRENCY' : 'KRW=X'}\n",
    "    df = list(map(lambda x: Get_Finance_Info(x, target[x], date, nowdate), target))\n",
    "    df = pd.concat(df, axis = 1)\n",
    "    df = df.dropna()\n",
    "    df.reset_index(inplace = True)\n",
    "    df['Date'] = df.Date.dt.strftime('%Y.%m.%d')\n",
    "    slack = cb.Slacker(cb.slacktoken())\n",
    "    strNowDate = nowdate.strftime('%Y-%m-%d')\n",
    "    slack.chat.post_message('# notification',\n",
    "                            '''targetData : {}, {}, {}\n",
    "                            from : {}\n",
    "                            to : {} '''.format(*target, date, strNowDate))\n",
    "    return df\n",
    "\n",
    "from datetime import datetime\n",
    "import Database_Handler as dh\n",
    "startTime = datetime.now()\n",
    "dateIs = startTime.date().strftime('%Y%m%d')\n",
    "mongodb = dh.ToMongoDB(*dh.AWS_MongoDB_Information())\n",
    "dbname = 'hy_db'\n",
    "useDb = dh.Use_Database(mongodb, dbname)\n",
    "df_finance = Get_Finance(dateIs)\n",
    "df_finance.drop_duplicates(subset='Date', inplace = True)\n",
    "financeCollectionName = 'Finance2'\n",
    "useCollection_Finance = dh.Use_Collection(useDb, financeCollectionName)\n",
    "useCollection_Finance.insert_many(df_finance.to_dict('records'))\n",
    "endTime = datetime.now()\n",
    "runningTime= endTime - startTime\n",
    "print (runningTime)"
   ]
  }
 ],
 "metadata": {
  "kernelspec": {
   "display_name": "Python 3",
   "language": "python",
   "name": "python3"
  },
  "language_info": {
   "codemirror_mode": {
    "name": "ipython",
    "version": 3
   },
   "file_extension": ".py",
   "mimetype": "text/x-python",
   "name": "python",
   "nbconvert_exporter": "python",
   "pygments_lexer": "ipython3",
   "version": "3.6.4"
  }
 },
 "nbformat": 4,
 "nbformat_minor": 2
}
