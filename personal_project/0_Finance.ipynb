{
 "cells": [
  {
   "cell_type": "code",
   "execution_count": 21,
   "metadata": {},
   "outputs": [],
   "source": [
    "import matplotlib\n",
    "\n",
    "from matplotlib import font_manager, rc\n",
    "font_name = font_manager.FontProperties(fname=\"c:/Windows/Fonts/NanumBarunGothic.ttf\").get_name()\n",
    "rc('font', family=font_name)"
   ]
  },
  {
   "cell_type": "code",
   "execution_count": 1,
   "metadata": {},
   "outputs": [],
   "source": [
    "import pandas as pd\n",
    "from datetime import datetime\n",
    "import pandas_datareader\n",
    "import re\n",
    "%matplotlib inline"
   ]
  },
  {
   "cell_type": "code",
   "execution_count": 4,
   "metadata": {},
   "outputs": [],
   "source": [
    "df_kospi = pandas_datareader.DataReader(\"^KS11\", \"yahoo\", datetime(2017,12,1),datetime.today().date())\n",
    "df_kosdac = pandas_datareader.DataReader('^KQ11','yahoo',datetime(2017,12,1),datetime.today().date())"
   ]
  },
  {
   "cell_type": "code",
   "execution_count": 5,
   "metadata": {},
   "outputs": [],
   "source": [
    "x1 = pd.DataFrame(df_kosdac[['High','Low']])\n",
    "x1.rename({'High':'High_kosdac','Low':'Low_kosdac'},inplace = True,axis = 1)\n",
    "x2 = pd.DataFrame(df_kospi[['High','Low']])\n",
    "x2.rename({'High':'High_kospi','Low':'Low_kospi'},inplace = True,axis = 1)\n",
    "df_finance = pd.merge(x1, x2, right_index=True, left_index=True)"
   ]
  },
  {
   "cell_type": "code",
   "execution_count": 6,
   "metadata": {},
   "outputs": [
    {
     "data": {
      "text/html": [
       "<div>\n",
       "<style scoped>\n",
       "    .dataframe tbody tr th:only-of-type {\n",
       "        vertical-align: middle;\n",
       "    }\n",
       "\n",
       "    .dataframe tbody tr th {\n",
       "        vertical-align: top;\n",
       "    }\n",
       "\n",
       "    .dataframe thead th {\n",
       "        text-align: right;\n",
       "    }\n",
       "</style>\n",
       "<table border=\"1\" class=\"dataframe\">\n",
       "  <thead>\n",
       "    <tr style=\"text-align: right;\">\n",
       "      <th></th>\n",
       "      <th>High_kosdac</th>\n",
       "      <th>Low_kosdac</th>\n",
       "      <th>High_kospi</th>\n",
       "      <th>Low_kospi</th>\n",
       "    </tr>\n",
       "    <tr>\n",
       "      <th>Date</th>\n",
       "      <th></th>\n",
       "      <th></th>\n",
       "      <th></th>\n",
       "      <th></th>\n",
       "    </tr>\n",
       "  </thead>\n",
       "  <tbody>\n",
       "    <tr>\n",
       "      <th>2017-11-30</th>\n",
       "      <td>NaN</td>\n",
       "      <td>NaN</td>\n",
       "      <td>NaN</td>\n",
       "      <td>NaN</td>\n",
       "    </tr>\n",
       "    <tr>\n",
       "      <th>2017-12-01</th>\n",
       "      <td>788.150024</td>\n",
       "      <td>776.710022</td>\n",
       "      <td>2488.919922</td>\n",
       "      <td>2472.750000</td>\n",
       "    </tr>\n",
       "    <tr>\n",
       "      <th>2017-12-04</th>\n",
       "      <td>788.460022</td>\n",
       "      <td>778.200012</td>\n",
       "      <td>2501.669922</td>\n",
       "      <td>2476.290039</td>\n",
       "    </tr>\n",
       "    <tr>\n",
       "      <th>2017-12-05</th>\n",
       "      <td>783.609985</td>\n",
       "      <td>773.799988</td>\n",
       "      <td>2513.679932</td>\n",
       "      <td>2487.149902</td>\n",
       "    </tr>\n",
       "    <tr>\n",
       "      <th>2017-12-06</th>\n",
       "      <td>783.539978</td>\n",
       "      <td>765.250000</td>\n",
       "      <td>2510.469971</td>\n",
       "      <td>2474.290039</td>\n",
       "    </tr>\n",
       "  </tbody>\n",
       "</table>\n",
       "</div>"
      ],
      "text/plain": [
       "            High_kosdac  Low_kosdac   High_kospi    Low_kospi\n",
       "Date                                                         \n",
       "2017-11-30          NaN         NaN          NaN          NaN\n",
       "2017-12-01   788.150024  776.710022  2488.919922  2472.750000\n",
       "2017-12-04   788.460022  778.200012  2501.669922  2476.290039\n",
       "2017-12-05   783.609985  773.799988  2513.679932  2487.149902\n",
       "2017-12-06   783.539978  765.250000  2510.469971  2474.290039"
      ]
     },
     "execution_count": 6,
     "metadata": {},
     "output_type": "execute_result"
    }
   ],
   "source": [
    "df_finance.head()"
   ]
  },
  {
   "cell_type": "code",
   "execution_count": 7,
   "metadata": {},
   "outputs": [
    {
     "data": {
      "text/html": [
       "<div>\n",
       "<style scoped>\n",
       "    .dataframe tbody tr th:only-of-type {\n",
       "        vertical-align: middle;\n",
       "    }\n",
       "\n",
       "    .dataframe tbody tr th {\n",
       "        vertical-align: top;\n",
       "    }\n",
       "\n",
       "    .dataframe thead th {\n",
       "        text-align: right;\n",
       "    }\n",
       "</style>\n",
       "<table border=\"1\" class=\"dataframe\">\n",
       "  <thead>\n",
       "    <tr style=\"text-align: right;\">\n",
       "      <th></th>\n",
       "      <th>High_kosdac</th>\n",
       "      <th>Low_kosdac</th>\n",
       "      <th>High_kospi</th>\n",
       "      <th>Low_kospi</th>\n",
       "    </tr>\n",
       "    <tr>\n",
       "      <th>Date</th>\n",
       "      <th></th>\n",
       "      <th></th>\n",
       "      <th></th>\n",
       "      <th></th>\n",
       "    </tr>\n",
       "  </thead>\n",
       "  <tbody>\n",
       "    <tr>\n",
       "      <th>2018-01-25</th>\n",
       "      <td>898.599976</td>\n",
       "      <td>887.969971</td>\n",
       "      <td>2564.429932</td>\n",
       "      <td>2536.729980</td>\n",
       "    </tr>\n",
       "    <tr>\n",
       "      <th>2018-01-26</th>\n",
       "      <td>913.119995</td>\n",
       "      <td>895.320007</td>\n",
       "      <td>2574.760010</td>\n",
       "      <td>2553.530029</td>\n",
       "    </tr>\n",
       "    <tr>\n",
       "      <th>2018-01-29</th>\n",
       "      <td>929.349976</td>\n",
       "      <td>914.219971</td>\n",
       "      <td>2607.100098</td>\n",
       "      <td>2587.550049</td>\n",
       "    </tr>\n",
       "    <tr>\n",
       "      <th>2018-01-30</th>\n",
       "      <td>932.010010</td>\n",
       "      <td>918.789978</td>\n",
       "      <td>2599.169922</td>\n",
       "      <td>2567.070068</td>\n",
       "    </tr>\n",
       "    <tr>\n",
       "      <th>2018-01-31</th>\n",
       "      <td>917.780029</td>\n",
       "      <td>903.520020</td>\n",
       "      <td>2597.139893</td>\n",
       "      <td>2553.010010</td>\n",
       "    </tr>\n",
       "  </tbody>\n",
       "</table>\n",
       "</div>"
      ],
      "text/plain": [
       "            High_kosdac  Low_kosdac   High_kospi    Low_kospi\n",
       "Date                                                         \n",
       "2018-01-25   898.599976  887.969971  2564.429932  2536.729980\n",
       "2018-01-26   913.119995  895.320007  2574.760010  2553.530029\n",
       "2018-01-29   929.349976  914.219971  2607.100098  2587.550049\n",
       "2018-01-30   932.010010  918.789978  2599.169922  2567.070068\n",
       "2018-01-31   917.780029  903.520020  2597.139893  2553.010010"
      ]
     },
     "execution_count": 7,
     "metadata": {},
     "output_type": "execute_result"
    }
   ],
   "source": [
    "df_finance.tail()"
   ]
  },
  {
   "cell_type": "code",
   "execution_count": 8,
   "metadata": {},
   "outputs": [],
   "source": [
    "#_*_ coding:utf8 _*_\n",
    "import requests\n",
    "from bs4 import BeautifulSoup"
   ]
  },
  {
   "cell_type": "code",
   "execution_count": 9,
   "metadata": {
    "scrolled": false
   },
   "outputs": [],
   "source": [
    "datadict = dict()\n",
    "for num in range(1,100):\n",
    "    page = 'http://finance.naver.com/marketindex/exchangeDailyQuote.nhn?marketindexCd=FX_USDKRW&page='+str(num)\n",
    "    fp = requests.get(page)\n",
    "    res = BeautifulSoup(fp.content, 'html.parser')\n",
    "    soup = res.select('tbody > tr')\n",
    "    for d in soup:\n",
    "        date = d.find('td', class_='date').text\n",
    "        date = datetime.strptime(date,'%Y.%m.%d').date()\n",
    "        exchange = d.find('td', class_='num').text\n",
    "        exchange = float(re.sub(',','',exchange))\n",
    "        datadict[date] = exchange"
   ]
  },
  {
   "cell_type": "code",
   "execution_count": 10,
   "metadata": {},
   "outputs": [],
   "source": [
    "df_exchange = pd.DataFrame.from_dict(datadict,orient='index')\n",
    "df_exchange.rename({0:'환율'},inplace = True,axis=1)"
   ]
  },
  {
   "cell_type": "code",
   "execution_count": 11,
   "metadata": {},
   "outputs": [],
   "source": [
    "df_finance = pd.merge(df_finance, df_exchange, right_index=True, left_index=True)"
   ]
  },
  {
   "cell_type": "code",
   "execution_count": 12,
   "metadata": {},
   "outputs": [
    {
     "data": {
      "text/plain": [
       "<matplotlib.axes._subplots.AxesSubplot at 0x2ce930e6978>"
      ]
     },
     "execution_count": 12,
     "metadata": {},
     "output_type": "execute_result"
    },
    {
     "data": {
      "image/png": "[encoded data removed]",
      "text/plain": [
       "<matplotlib.figure.Figure at 0x2ce930f1080>"
      ]
     },
     "metadata": {},
     "output_type": "display_data"
    }
   ],
   "source": [
    "df_finance.plot(secondary_y=['환율'], mark_right=False)"
   ]
  },
  {
   "cell_type": "code",
   "execution_count": 13,
   "metadata": {},
   "outputs": [],
   "source": [
    "df_finance.to_csv('./data/finance_data_exchange_kospi_kosdaq.csv',header=True, index = True,encoding='utf-8')"
   ]
  },
  {
   "cell_type": "code",
   "execution_count": null,
   "metadata": {},
   "outputs": [],
   "source": []
  }
 ],
 "metadata": {
  "kernelspec": {
   "display_name": "Python 3",
   "language": "python",
   "name": "python3"
  },
  "language_info": {
   "codemirror_mode": {
    "name": "ipython",
    "version": 3
   },
   "file_extension": ".py",
   "mimetype": "text/x-python",
   "name": "python",
   "nbconvert_exporter": "python",
   "pygments_lexer": "ipython3",
   "version": "3.6.4"
  }
 },
 "nbformat": 4,
 "nbformat_minor": 2
}
