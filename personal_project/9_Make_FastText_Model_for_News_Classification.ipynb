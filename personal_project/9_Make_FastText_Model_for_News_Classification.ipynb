{
 "cells": [
  {
   "cell_type": "markdown",
   "metadata": {},
   "source": [
    "# News Classification Using fastText\n",
    "> * 네이버의 뉴스 기사를 이용하여 모델을 만들고 평가를 실시한뒤, 다음의 뉴스 기사를 이용하여 분류해보도록 한다. "
   ]
  },
  {
   "cell_type": "code",
   "execution_count": 14,
   "metadata": {},
   "outputs": [],
   "source": [
    "import pickle\n",
    "import html\n",
    "import multiprocessing\n",
    "from collections import namedtuple, OrderedDict\n",
    "import re\n",
    "import sys\n",
    "import os\n",
    "\n",
    "from numba import jit\n",
    "\n",
    "os.environ['KERAS_BACKEND']='tensorflow'\n",
    "\n",
    "import numpy as np\n",
    "from tqdm import tqdm\n",
    "tqdm.pandas(desc=\"progress-bar\")\n",
    "import pandas as pd\n",
    "\n",
    "from gensim.models import FastText, KeyedVectors\n",
    "from gensim.models.doc2vec import TaggedDocument\n",
    "\n",
    "from konlpy.utils import pprint\n",
    "\n",
    "from sklearn.model_selection import train_test_split\n",
    "from sklearn.linear_model import LogisticRegression\n",
    "from sklearn.ensemble import RandomForestClassifier\n",
    "from sklearn.svm import SVC\n",
    "from sklearn.metrics import confusion_matrix, classification_report, roc_curve,  accuracy_score\n",
    "from sklearn.feature_extraction.text import TfidfVectorizer\n",
    "from sklearn.preprocessing import scale, MinMaxScaler, LabelEncoder\n",
    "from sklearn.manifold import TSNE\n",
    "\n",
    "import keras.backend.tensorflow_backend as K\n",
    "from keras.preprocessing import sequence\n",
    "from keras_tqdm import TQDMCallback, TQDMNotebookCallback\n",
    "from keras.models import Model, Sequential\n",
    "from keras.regularizers import l2\n",
    "from keras.optimizers import SGD\n",
    "from keras.utils import np_utils\n",
    "from keras.layers import Input, Flatten, Dense, Embedding, embeddings, merge, Dropout, Activation,  LSTM, Bidirectional, SimpleRNN, GRU\n",
    "from keras.layers.convolutional import Conv1D, Conv2D\n",
    "from keras.layers.pooling import MaxPooling1D, GlobalMaxPooling1D\n",
    "from keras.layers.normalization import BatchNormalization\n",
    "from keras.layers.core import SpatialDropout1D\n",
    "from keras.utils import np_utils\n",
    "from tensorflow.python.client import device_lib\n",
    "from keras.layers.merge import dot\n",
    "\n",
    "import xgboost as xgb\n",
    "\n",
    "import matplotlib.pyplot as plt\n",
    "\n",
    "import bokeh.plotting as bp\n",
    "from bokeh.models import HoverTool, BoxSelectTool\n",
    "from bokeh.plotting import figure, show, output_notebook"
   ]
  },
  {
   "cell_type": "code",
   "execution_count": 15,
   "metadata": {},
   "outputs": [
    {
     "name": "stdout",
     "output_type": "stream",
     "text": [
      "[name: \"/device:CPU:0\"\n",
      "device_type: \"CPU\"\n",
      "memory_limit: 268435456\n",
      "locality {\n",
      "}\n",
      "incarnation: 15308735070563717577\n",
      "]\n"
     ]
    }
   ],
   "source": [
    "print (device_lib.list_local_devices())"
   ]
  },
  {
   "cell_type": "code",
   "execution_count": 16,
   "metadata": {},
   "outputs": [],
   "source": [
    "def Make_Roc_Curve(x, y, model1, model2, model3, model4):\n",
    "    print ('Logistic Regression')\n",
    "    fpr1, tpr1, thresholds1 = roc_curve(y, model1.predict(x))\n",
    "    print ('Random Forest')\n",
    "    fpr2, tpr2, thresholds2 = roc_curve(y, model2.predict(x))\n",
    "    print ('Kernel SVM')\n",
    "    fpr3, tpr3, thresholds3 = roc_curve(y, model3.predict(x))\n",
    "    print ('XGBoost')\n",
    "    import xgboost as xgb\n",
    "    fpr4, tpr4, thresholds4 = roc_curve(y, model4.predict(xgb.DMatrix(x)))\n",
    "    plt.plot(fpr1, tpr1, label=\"Logistic Regression\")\n",
    "    plt.plot(fpr2, tpr2, label=\"RandomForest\")\n",
    "    plt.plot(fpr3, tpr3, label=\"Kernel SVM\")\n",
    "    plt.plot(fpr4, tpr4, label='XGBoost')\n",
    "    plt.legend()\n",
    "    plt.plot([0, 1], [0, 1], 'k--', label=\"random guess\")\n",
    "    plt.xlabel('False Positive Rate (Fall-Out)')\n",
    "    plt.ylabel('True Positive Rate (Recall)')\n",
    "    plt.title('Receiver operating characteristic example')\n",
    "    plt.show()"
   ]
  },
  {
   "cell_type": "code",
   "execution_count": 17,
   "metadata": {},
   "outputs": [],
   "source": [
    "def plot_history(history):\n",
    "    \"\"\"Plot model history after `fit()`.\n",
    "    \"\"\"\n",
    "\n",
    "    # summarize history for accuracy\n",
    "    plt.plot(history.history['acc'])\n",
    "    plt.plot(history.history['val_acc'])\n",
    "    plt.title('model accuracy')\n",
    "    plt.ylabel('accuracy')\n",
    "    plt.xlabel('epoch')\n",
    "    plt.legend(['train', 'valid'], loc='upper left')\n",
    "    plt.show()\n",
    "\n",
    "    # summarize history for loss\n",
    "    plt.plot(history.history['loss'])\n",
    "    plt.plot(history.history['val_loss'])\n",
    "    plt.title('model loss')\n",
    "    plt.ylabel('loss')\n",
    "    plt.xlabel('epoch')\n",
    "    plt.legend(['train', 'valid'], loc='upper left')\n",
    "    plt.show()"
   ]
  },
  {
   "cell_type": "code",
   "execution_count": 18,
   "metadata": {},
   "outputs": [],
   "source": [
    "import multiprocessing\n",
    "cores = multiprocessing.cpu_count()\n",
    "def Make_FastText_Model(modelPath, data, size, epoch, sg, window, min_count, cbow_mean,\n",
    "                        workers, negative,word_ngrams, hs, tagger):\n",
    "    from tqdm import tqdm\n",
    "    tqdm.pandas(desc=\"progress-bar\")\n",
    "    from datetime import datetime\n",
    "    from gensim.models import FastText\n",
    "    start = datetime.now()\n",
    "    modelName = 'fastText_size-{}_epoch-{}_ngrams-{}_window-{}_negative-{}_hs-{}_sg-{}_cbow_mean-{}_min_count-{}_by-{}.model'.format(\n",
    "        size, epoch, word_ngrams, window, negative, hs, sg, cbow_mean, min_count, tagger)\n",
    "    modelName = modelPath+modelName\n",
    "    print (modelName)\n",
    "    fastText_model = FastText(size = size, sg = sg, cbow_mean = cbow_mean,\n",
    "                                  negative = negative, hs = hs, window = window, word_ngrams=word_ngrams, \n",
    "                                  workers = workers, iter=epoch, min_count = min_count)\n",
    "    fastText_model.build_vocab(tqdm(data))\n",
    "    fastText_model.train(tqdm(data), total_examples=fastText_model.corpus_count, epochs=fastText_model.iter) \n",
    "    fastText_model.init_sims(replace = True)\n",
    "    fastText_model.save(modelName)\n",
    "    end = datetime.now()\n",
    "    print (\"Total running time: \", end-start)\n",
    "    return fastText_model"
   ]
  },
  {
   "cell_type": "code",
   "execution_count": 19,
   "metadata": {},
   "outputs": [],
   "source": [
    "def nav_tokenizer(tagger, corpus, stopwords):\n",
    "    pos = tagger.pos(corpus)\n",
    "    pos = [t[0] for t in pos if not t[0] in stopwords]\n",
    "    return pos\n",
    "\n",
    "def MakeTaggedData(df, taggedDoc, tagger, stopwords, labelEncoder):\n",
    "    w2v_docs = list()\n",
    "    for idx in tqdm(df.index):\n",
    "        text = df.loc[idx,'title']+'.\\n'+df.loc[idx,'mainText']\n",
    "        pos = nav_tokenizer(tagger, text, stopwords)\n",
    "        category = df.loc[idx, 'category']\n",
    "        encodeCategory = labelEncoder.transform([category])\n",
    "        label = ['news_'+str(idx)]\n",
    "        w2v_docs.append(TaggedDocument(pos, label, encodeCategory))\n",
    "    return w2v_docs"
   ]
  },
  {
   "cell_type": "markdown",
   "metadata": {},
   "source": [
    "## Load Data"
   ]
  },
  {
   "cell_type": "code",
   "execution_count": 20,
   "metadata": {},
   "outputs": [
    {
     "name": "stdout",
     "output_type": "stream",
     "text": [
      "Naver : (15120, 11)\n",
      "Daum : (9372, 11)\n"
     ]
    }
   ],
   "source": [
    "#Naver\n",
    "naverData = pickle.load(open('./data/pre_data/stastics/for_statistics_Naver_from_mongodb.pickled','rb'))\n",
    "naverData = pd.DataFrame.from_dict(naverData, orient = 'index')\n",
    "naverData.reset_index(inplace = True)\n",
    "naverData.rename(columns = {'index' : 'id'}, inplace = True)\n",
    "#Daum\n",
    "daumData = pickle.load(open('./data/pre_data/stastics/for_statistics_daum_from_mongodb.pickled','rb'))\n",
    "daumData = pd.DataFrame.from_dict(daumData, orient = 'index')\n",
    "daumData.reset_index(inplace = True)\n",
    "daumData.rename(columns = {'index' : 'id'}, inplace = True)\n",
    "\n",
    "print ('Naver : {}'.format(naverData.shape))\n",
    "print ('Daum : {}'.format(daumData.shape))"
   ]
  },
  {
   "cell_type": "markdown",
   "metadata": {},
   "source": [
    "## Stopwords"
   ]
  },
  {
   "cell_type": "code",
   "execution_count": 21,
   "metadata": {},
   "outputs": [],
   "source": [
    "stopwords = open('./data/stopwordsList.txt',encoding='utf-8').readlines()\n",
    "stopwords = list(map(lambda x: x.strip(), stopwords))"
   ]
  },
  {
   "cell_type": "markdown",
   "metadata": {},
   "source": [
    "## Document Labeling"
   ]
  },
  {
   "cell_type": "code",
   "execution_count": 22,
   "metadata": {},
   "outputs": [],
   "source": [
    "TaggedDocument = namedtuple('TaggedDocument', 'words tags category')"
   ]
  },
  {
   "cell_type": "markdown",
   "metadata": {},
   "source": [
    "> * words : 기사에서 나온 단어들 or keywords\n",
    "> * tags : 문서 tag\n",
    "> * classes : category\n",
    ">> 기사분류가 daum보다 naver에서 더 세분화되어 있기 때문에 네이버의 category 분류를 이용하기로 함"
   ]
  },
  {
   "cell_type": "markdown",
   "metadata": {},
   "source": [
    "## Category"
   ]
  },
  {
   "cell_type": "code",
   "execution_count": 23,
   "metadata": {},
   "outputs": [
    {
     "name": "stdout",
     "output_type": "stream",
     "text": [
      "['IT/과학' '경제' '사회' '생활/문화' '세계' '스포츠' '연예' '정치']\n"
     ]
    }
   ],
   "source": [
    "if os.path.isfile('./data/pre_data/news_tagged_data/pre_data_category_label_encoder_by_ct_for_fastText_news_classification.pickled'):\n",
    "    le = pickle.load(open('./data/pre_data/news_tagged_data/pre_data_category_label_encoder_by_ct_for_fastText_news_classification.pickled','rb'))\n",
    "else:\n",
    "    le = LabelEncoder()\n",
    "    le.fit(naverData['category'])\n",
    "    pickle.dump(le, open('./data/pre_data/news_tagged_data/pre_data_category_label_encoder_by_ct_for_fastText_news_classification.pickled','wb'))\n",
    "print (le.classes_)"
   ]
  },
  {
   "cell_type": "markdown",
   "metadata": {},
   "source": [
    "## Tagging Twitter"
   ]
  },
  {
   "cell_type": "code",
   "execution_count": 24,
   "metadata": {},
   "outputs": [],
   "source": [
    "from ckonlpy.tag import Twitter\n",
    "ct = Twitter()"
   ]
  },
  {
   "cell_type": "markdown",
   "metadata": {},
   "source": [
    "### fastText 기본 포맷"
   ]
  },
  {
   "cell_type": "code",
   "execution_count": 25,
   "metadata": {},
   "outputs": [],
   "source": [
    "if os.path.isfile('./data/pre_data/news_tagged_data/pre_data_by_ct_for_fastText_news_classification.pickled'):\n",
    "    w2v_docs = pickle.load(open('./data/pre_data/news_tagged_data/pre_data_by_ct_for_fastText_news_classification.pickled', 'rb'))\n",
    "else:\n",
    "    w2v_docs = MakeTaggedData(naverData, TaggedDocument, ct, stopwords, le)\n",
    "    pickle.dump(w2v_docs, open('./data/pre_data/news_tagged_data/pre_data_by_ct_for_fastText_news_classification.pickled', 'wb'))"
   ]
  },
  {
   "cell_type": "code",
   "execution_count": 26,
   "metadata": {},
   "outputs": [],
   "source": [
    "if 'ct' in locals():\n",
    "    del ct"
   ]
  },
  {
   "cell_type": "markdown",
   "metadata": {},
   "source": [
    "### Train dataset & test dataset"
   ]
  },
  {
   "cell_type": "code",
   "execution_count": 27,
   "metadata": {},
   "outputs": [],
   "source": [
    "trainName = './data/pre_data/news_train_test_Data/pre_data_fastText_train_for_news_classification_by_ct.pickled'\n",
    "testName = './data/pre_data/news_train_test_Data/pre_data_fastText_test_for_news_classification_by_ct.pickled'"
   ]
  },
  {
   "cell_type": "code",
   "execution_count": 28,
   "metadata": {},
   "outputs": [],
   "source": [
    "if os.path.isfile(trainName) & os.path.isfile(testName):\n",
    "    train = pickle.load(open(trainName, 'rb'))\n",
    "    test = pickle.load(open(testName, 'rb'))\n",
    "else:\n",
    "    train, test = train_test_split(w2v_docs, test_size = 0.15)\n",
    "    pickle.dump(train,open(trainName,'wb'))\n",
    "    pickle.dump(test,open(testName,'wb'))"
   ]
  },
  {
   "cell_type": "code",
   "execution_count": 29,
   "metadata": {},
   "outputs": [],
   "source": [
    "if 'w2v_docs' in locals():\n",
    "    del w2v_docs"
   ]
  },
  {
   "cell_type": "code",
   "execution_count": 30,
   "metadata": {},
   "outputs": [
    {
     "name": "stderr",
     "output_type": "stream",
     "text": [
      "100%|██████████| 12852/12852 [00:00<00:00, 217113.65it/s]\n",
      "100%|██████████| 2268/2268 [00:00<00:00, 569860.51it/s]\n"
     ]
    }
   ],
   "source": [
    "x_train = [ x.words for x in tqdm(train)]\n",
    "x_test = [x.words for x in tqdm(test)]"
   ]
  },
  {
   "cell_type": "code",
   "execution_count": 31,
   "metadata": {},
   "outputs": [],
   "source": [
    "if 'train' in locals() and 'test' in locals():\n",
    "    del train\n",
    "    del test"
   ]
  },
  {
   "cell_type": "markdown",
   "metadata": {},
   "source": [
    "### Model 1"
   ]
  },
  {
   "cell_type": "code",
   "execution_count": 32,
   "metadata": {},
   "outputs": [],
   "source": [
    "modelPath = './news_model/'"
   ]
  },
  {
   "cell_type": "code",
   "execution_count": 33,
   "metadata": {},
   "outputs": [],
   "source": [
    "from konlpy.utils import pprint"
   ]
  },
  {
   "cell_type": "code",
   "execution_count": 38,
   "metadata": {},
   "outputs": [
    {
     "name": "stderr",
     "output_type": "stream",
     "text": [
      "  1%|▏         | 185/12852 [00:00<00:06, 1843.31it/s]"
     ]
    },
    {
     "name": "stdout",
     "output_type": "stream",
     "text": [
      "./news_model/fastText_size-500_epoch-20_ngrams-3_window-10_negative-7_hs-0_sg-0_cbow_mean-1_min_count-2_by-ct.model\n"
     ]
    },
    {
     "name": "stderr",
     "output_type": "stream",
     "text": [
      "100%|██████████| 12852/12852 [00:11<00:00, 1088.80it/s]\n",
      "  0%|          | 0/12852 [00:00<?, ?it/s]/Users/hyunyoun/anaconda3/lib/python3.6/site-packages/ipykernel_launcher.py:18: DeprecationWarning: Call to deprecated `iter` (Attribute will be removed in 4.0.0, use self.epochs instead).\n",
      "100%|██████████| 12852/12852 [02:10<00:00, 98.21it/s]\n"
     ]
    },
    {
     "name": "stdout",
     "output_type": "stream",
     "text": [
      "Total running time:  0:49:22.404405\n",
      "CPU times: user 1h 11min 25s, sys: 1min 23s, total: 1h 12min 48s\n",
      "Wall time: 49min 22s\n"
     ]
    }
   ],
   "source": [
    "%%time\n",
    "model = Make_FastText_Model(modelPath = modelPath, data = x_train, size = 500, epoch = 20, \n",
    "                   sg = 0, window = 10, workers = cores, negative = 7, min_count = 2, word_ngrams = 3, \n",
    "                    cbow_mean = 1, hs = 0, tagger = 'ct')"
   ]
  },
  {
   "cell_type": "code",
   "execution_count": 39,
   "metadata": {},
   "outputs": [],
   "source": [
    "del model"
   ]
  },
  {
   "cell_type": "markdown",
   "metadata": {},
   "source": [
    "###  Model 2"
   ]
  },
  {
   "cell_type": "code",
   "execution_count": 40,
   "metadata": {},
   "outputs": [
    {
     "name": "stderr",
     "output_type": "stream",
     "text": [
      "  1%|          | 127/12852 [00:00<00:10, 1262.09it/s]"
     ]
    },
    {
     "name": "stdout",
     "output_type": "stream",
     "text": [
      "./news_model/fastText_size-500_epoch-20_ngrams-3_window-10_negative-7_hs-0_sg-0_cbow_mean-0_min_count-2_by-ct.model\n"
     ]
    },
    {
     "name": "stderr",
     "output_type": "stream",
     "text": [
      "100%|██████████| 12852/12852 [00:07<00:00, 1663.64it/s]\n",
      "  0%|          | 0/12852 [00:00<?, ?it/s]/Users/hyunyoun/anaconda3/lib/python3.6/site-packages/ipykernel_launcher.py:18: DeprecationWarning: Call to deprecated `iter` (Attribute will be removed in 4.0.0, use self.epochs instead).\n",
      "100%|██████████| 12852/12852 [01:59<00:00, 107.14it/s]\n"
     ]
    },
    {
     "name": "stdout",
     "output_type": "stream",
     "text": [
      "Total running time:  0:55:06.021759\n",
      "CPU times: user 1h 8min 17s, sys: 1min 21s, total: 1h 9min 39s\n",
      "Wall time: 55min 6s\n"
     ]
    }
   ],
   "source": [
    "%%time\n",
    "model = Make_FastText_Model(modelPath = modelPath, data = x_train, size = 500, epoch = 20, \n",
    "                   sg = 0, window = 10, workers = cores, negative = 7, min_count = 2, word_ngrams = 3, \n",
    "                    cbow_mean = 0, hs = 0, tagger = 'ct')"
   ]
  },
  {
   "cell_type": "code",
   "execution_count": 41,
   "metadata": {},
   "outputs": [],
   "source": [
    "del model"
   ]
  },
  {
   "cell_type": "markdown",
   "metadata": {},
   "source": [
    "### Model 3"
   ]
  },
  {
   "cell_type": "code",
   "execution_count": 42,
   "metadata": {},
   "outputs": [
    {
     "name": "stderr",
     "output_type": "stream",
     "text": [
      "  3%|▎         | 377/12852 [00:00<00:03, 3391.88it/s]"
     ]
    },
    {
     "name": "stdout",
     "output_type": "stream",
     "text": [
      "./news_model/fastText_size-500_epoch-20_ngrams-3_window-10_negative-7_hs-0_sg-1_cbow_mean-0_min_count-2_by-ct.model\n"
     ]
    },
    {
     "name": "stderr",
     "output_type": "stream",
     "text": [
      "100%|██████████| 12852/12852 [00:05<00:00, 2415.60it/s]\n",
      "  0%|          | 0/12852 [00:00<?, ?it/s]/Users/hyunyoun/anaconda3/lib/python3.6/site-packages/ipykernel_launcher.py:18: DeprecationWarning: Call to deprecated `iter` (Attribute will be removed in 4.0.0, use self.epochs instead).\n",
      "100%|██████████| 12852/12852 [07:35<00:00, 28.24it/s]\n"
     ]
    },
    {
     "name": "stdout",
     "output_type": "stream",
     "text": [
      "Total running time:  2:12:42.513252\n",
      "CPU times: user 3h 21min 17s, sys: 2min 31s, total: 3h 23min 48s\n",
      "Wall time: 2h 12min 42s\n"
     ]
    }
   ],
   "source": [
    "%%time\n",
    "model = Make_FastText_Model(modelPath = modelPath, data = x_train, size = 500, epoch = 20, \n",
    "                   sg = 1, window = 10, workers = cores, negative = 7, min_count = 2, word_ngrams = 3, \n",
    "                    cbow_mean = 0, hs = 0, tagger = 'ct')\n"
   ]
  },
  {
   "cell_type": "code",
   "execution_count": 43,
   "metadata": {},
   "outputs": [],
   "source": [
    "del model "
   ]
  },
  {
   "cell_type": "markdown",
   "metadata": {},
   "source": [
    "## Tagging Mecab"
   ]
  },
  {
   "cell_type": "code",
   "execution_count": 44,
   "metadata": {},
   "outputs": [],
   "source": [
    "from konlpy.tag import Mecab\n",
    "mecab = Mecab()"
   ]
  },
  {
   "cell_type": "markdown",
   "metadata": {},
   "source": [
    "### fastText 기본 포맷"
   ]
  },
  {
   "cell_type": "code",
   "execution_count": 45,
   "metadata": {},
   "outputs": [],
   "source": [
    "if os.path.isfile('./data/pre_data/news_tagged_data/pre_data_by_mecab_for_fastText_news_classification.pickled'):\n",
    "    w2v_docs = pickle.load(open('./data/pre_data/news_tagged_data/pre_data_by_mecab_for_fastText_news_classification.pickled', 'rb'))\n",
    "else:\n",
    "    w2v_docs = MakeTaggedData(naverData, TaggedDocument, ct, stopwords, le)\n",
    "    pickle.dump(w2v_docs, open('./data/pre_data/news_tagged_data/pre_data_by_mecab_for_fastText_news_classification.pickled', 'wb'))"
   ]
  },
  {
   "cell_type": "code",
   "execution_count": 46,
   "metadata": {},
   "outputs": [],
   "source": [
    "if 'mecab' in locals():\n",
    "    del mecab"
   ]
  },
  {
   "cell_type": "markdown",
   "metadata": {},
   "source": [
    "### Train dataset & test dataset"
   ]
  },
  {
   "cell_type": "code",
   "execution_count": 47,
   "metadata": {},
   "outputs": [],
   "source": [
    "trainName = './data/pre_data/news_train_test_Data/pre_data_fastText_train_for_news_classification_by_mecab.pickled'\n",
    "testName = './data/pre_data/news_train_test_Data/pre_data_fastText_test_for_news_classification_by_mecab.pickled'"
   ]
  },
  {
   "cell_type": "code",
   "execution_count": 48,
   "metadata": {},
   "outputs": [],
   "source": [
    "if os.path.isfile(trainName) & os.path.isfile(testName):\n",
    "    train = pickle.load(open(trainName, 'rb'))\n",
    "    test = pickle.load(open(testName, 'rb'))\n",
    "else:\n",
    "    train, test = train_test_split(w2v_docs, test_size = 0.15)\n",
    "    pickle.dump(train,open(trainName,'wb'))\n",
    "    pickle.dump(test,open(testName,'wb'))"
   ]
  },
  {
   "cell_type": "code",
   "execution_count": 49,
   "metadata": {},
   "outputs": [],
   "source": [
    "if 'w2v_docs' in locals():\n",
    "    del w2v_docs"
   ]
  },
  {
   "cell_type": "code",
   "execution_count": 50,
   "metadata": {},
   "outputs": [
    {
     "name": "stderr",
     "output_type": "stream",
     "text": [
      "100%|██████████| 12852/12852 [00:00<00:00, 1167006.45it/s]\n",
      "100%|██████████| 2268/2268 [00:00<00:00, 1121646.21it/s]\n"
     ]
    }
   ],
   "source": [
    "x_train = [ x.words for x in tqdm(train)]\n",
    "x_test = [x.words for x in tqdm(test)]"
   ]
  },
  {
   "cell_type": "code",
   "execution_count": 51,
   "metadata": {},
   "outputs": [],
   "source": [
    "if 'train' in locals() and 'test' in locals():\n",
    "    del train\n",
    "    del test"
   ]
  },
  {
   "cell_type": "markdown",
   "metadata": {},
   "source": [
    "### Model 1"
   ]
  },
  {
   "cell_type": "code",
   "execution_count": 52,
   "metadata": {},
   "outputs": [],
   "source": [
    "modelPath = './news_model/'"
   ]
  },
  {
   "cell_type": "code",
   "execution_count": 53,
   "metadata": {},
   "outputs": [],
   "source": [
    "from konlpy.utils import pprint"
   ]
  },
  {
   "cell_type": "code",
   "execution_count": 54,
   "metadata": {},
   "outputs": [
    {
     "name": "stderr",
     "output_type": "stream",
     "text": [
      " 11%|█         | 1384/12852 [00:00<00:01, 6911.88it/s]"
     ]
    },
    {
     "name": "stdout",
     "output_type": "stream",
     "text": [
      "./news_model/fastText_size-500_epoch-20_ngrams-3_window-10_negative-7_hs-0_sg-0_cbow_mean-1_min_count-2_by-mecab.model\n"
     ]
    },
    {
     "name": "stderr",
     "output_type": "stream",
     "text": [
      "100%|██████████| 12852/12852 [00:01<00:00, 6471.69it/s]\n",
      "  0%|          | 0/12852 [00:00<?, ?it/s]/Users/hyunyoun/anaconda3/lib/python3.6/site-packages/ipykernel_launcher.py:18: DeprecationWarning: Call to deprecated `iter` (Attribute will be removed in 4.0.0, use self.epochs instead).\n",
      "100%|██████████| 12852/12852 [00:53<00:00, 242.42it/s]\n"
     ]
    },
    {
     "name": "stdout",
     "output_type": "stream",
     "text": [
      "Total running time:  0:37:34.288760\n",
      "CPU times: user 1h 6min 52s, sys: 1min 15s, total: 1h 8min 7s\n",
      "Wall time: 37min 34s\n"
     ]
    }
   ],
   "source": [
    "%%time\n",
    "model = Make_FastText_Model(modelPath = modelPath, data = x_train, size = 500, epoch = 20, \n",
    "                   sg = 0, window = 10, workers = cores, negative = 7, min_count = 2, word_ngrams = 3, \n",
    "                    cbow_mean = 1, hs = 0, tagger = 'mecab')"
   ]
  },
  {
   "cell_type": "code",
   "execution_count": 55,
   "metadata": {},
   "outputs": [],
   "source": [
    "del model"
   ]
  },
  {
   "cell_type": "markdown",
   "metadata": {},
   "source": [
    "###  Model 2"
   ]
  },
  {
   "cell_type": "code",
   "execution_count": 56,
   "metadata": {},
   "outputs": [
    {
     "name": "stderr",
     "output_type": "stream",
     "text": [
      "  0%|          | 53/12852 [00:00<00:24, 512.28it/s]"
     ]
    },
    {
     "name": "stdout",
     "output_type": "stream",
     "text": [
      "./news_model/fastText_size-500_epoch-20_ngrams-3_window-10_negative-7_hs-0_sg-0_cbow_mean-0_min_count-2_by-mecab.model\n"
     ]
    },
    {
     "name": "stderr",
     "output_type": "stream",
     "text": [
      "100%|██████████| 12852/12852 [00:14<00:00, 899.46it/s]\n",
      "  0%|          | 0/12852 [00:00<?, ?it/s]/Users/hyunyoun/anaconda3/lib/python3.6/site-packages/ipykernel_launcher.py:18: DeprecationWarning: Call to deprecated `iter` (Attribute will be removed in 4.0.0, use self.epochs instead).\n",
      "100%|██████████| 12852/12852 [03:18<00:00, 64.78it/s]\n"
     ]
    },
    {
     "name": "stdout",
     "output_type": "stream",
     "text": [
      "Total running time:  0:55:05.351004\n",
      "CPU times: user 1h 8min 19s, sys: 1min 42s, total: 1h 10min 1s\n",
      "Wall time: 55min 5s\n"
     ]
    }
   ],
   "source": [
    "%%time\n",
    "model = Make_FastText_Model(modelPath = modelPath, data = x_train, size = 500, epoch = 20, \n",
    "                   sg = 0, window = 10, workers = cores, negative = 7, min_count = 2, word_ngrams = 3, \n",
    "                    cbow_mean = 0, hs = 0, tagger = 'mecab')"
   ]
  },
  {
   "cell_type": "code",
   "execution_count": 57,
   "metadata": {},
   "outputs": [],
   "source": [
    "del model"
   ]
  },
  {
   "cell_type": "markdown",
   "metadata": {},
   "source": [
    "### Model 3"
   ]
  },
  {
   "cell_type": "code",
   "execution_count": 60,
   "metadata": {
    "scrolled": true
   },
   "outputs": [
    {
     "name": "stderr",
     "output_type": "stream",
     "text": [
      "\n",
      "  0%|          | 0/12852 [00:00<?, ?it/s]\u001b[A\n",
      "  5%|▌         | 649/12852 [00:00<00:01, 6410.00it/s]\u001b[A"
     ]
    },
    {
     "name": "stdout",
     "output_type": "stream",
     "text": [
      "./news_model/fastText_size-500_epoch-20_ngrams-3_window-10_negative-7_hs-0_sg-1_cbow_mean-0_min_count-2_by-mecab.model\n"
     ]
    },
    {
     "name": "stderr",
     "output_type": "stream",
     "text": [
      "\n",
      "  7%|▋         | 905/12852 [00:00<00:03, 3935.06it/s]\u001b[A\n",
      "  9%|▉         | 1147/12852 [00:00<00:03, 3595.79it/s]\u001b[A\n",
      " 11%|█         | 1363/12852 [00:00<00:03, 2949.40it/s]\u001b[A\n",
      " 12%|█▏        | 1558/12852 [00:00<00:04, 2621.05it/s]\u001b[A\n",
      " 14%|█▍        | 1798/12852 [00:00<00:04, 2585.51it/s]\u001b[A\n",
      " 16%|█▋        | 2097/12852 [00:00<00:04, 2639.55it/s]\u001b[A\n",
      " 18%|█▊        | 2331/12852 [00:00<00:04, 2606.21it/s]\u001b[A\n",
      " 20%|██        | 2616/12852 [00:00<00:03, 2622.78it/s]\u001b[A\n",
      " 22%|██▏       | 2863/12852 [00:01<00:03, 2552.05it/s]\u001b[A\n",
      " 24%|██▍       | 3094/12852 [00:01<00:03, 2493.62it/s]\u001b[A\n",
      " 26%|██▌       | 3314/12852 [00:01<00:03, 2427.34it/s]\u001b[A\n",
      " 27%|██▋       | 3521/12852 [00:01<00:03, 2381.47it/s]\u001b[A\n",
      " 29%|██▉       | 3722/12852 [00:02<00:05, 1779.27it/s]\u001b[A\n",
      " 30%|███       | 3873/12852 [00:02<00:05, 1651.39it/s]\u001b[A\n",
      " 31%|███       | 3997/12852 [00:02<00:05, 1617.08it/s]\u001b[A\n",
      " 32%|███▏      | 4113/12852 [00:02<00:05, 1508.54it/s]\u001b[A\n",
      " 33%|███▎      | 4208/12852 [00:02<00:05, 1479.64it/s]\u001b[A\n",
      " 33%|███▎      | 4299/12852 [00:02<00:05, 1455.33it/s]\u001b[A\n",
      " 34%|███▍      | 4394/12852 [00:03<00:05, 1438.71it/s]\u001b[A\n",
      " 35%|███▌      | 4526/12852 [00:03<00:05, 1434.84it/s]\u001b[A\n",
      " 36%|███▌      | 4629/12852 [00:03<00:06, 1370.37it/s]\u001b[A\n",
      " 37%|███▋      | 4715/12852 [00:03<00:06, 1343.04it/s]\u001b[A\n",
      " 37%|███▋      | 4809/12852 [00:03<00:06, 1333.01it/s]\u001b[A\n",
      " 38%|███▊      | 4893/12852 [00:03<00:06, 1258.66it/s]\u001b[A\n",
      " 39%|███▊      | 4961/12852 [00:04<00:06, 1240.22it/s]\u001b[A\n",
      " 39%|███▉      | 5027/12852 [00:04<00:06, 1226.38it/s]\u001b[A\n",
      " 40%|████      | 5192/12852 [00:04<00:06, 1235.27it/s]\u001b[A\n",
      " 41%|████▏     | 5312/12852 [00:04<00:06, 1230.45it/s]\u001b[A\n",
      " 42%|████▏     | 5414/12852 [00:04<00:06, 1218.40it/s]\u001b[A\n",
      " 43%|████▎     | 5559/12852 [00:04<00:05, 1223.19it/s]\u001b[A\n",
      " 44%|████▍     | 5668/12852 [00:04<00:05, 1220.18it/s]\u001b[A\n",
      " 45%|████▌     | 5823/12852 [00:04<00:05, 1227.08it/s]\u001b[A\n",
      " 46%|████▋     | 5970/12852 [00:04<00:05, 1231.99it/s]\u001b[A\n",
      " 48%|████▊     | 6158/12852 [00:04<00:05, 1242.88it/s]\u001b[A\n",
      " 49%|████▉     | 6354/12852 [00:05<00:05, 1259.07it/s]\u001b[A\n",
      " 51%|█████     | 6522/12852 [00:05<00:04, 1266.27it/s]\u001b[A\n",
      " 52%|█████▏    | 6686/12852 [00:05<00:04, 1258.52it/s]\u001b[A\n",
      " 53%|█████▎    | 6848/12852 [00:05<00:04, 1264.95it/s]\u001b[A\n",
      " 54%|█████▍    | 6998/12852 [00:05<00:04, 1252.15it/s]\u001b[A\n",
      " 56%|█████▌    | 7158/12852 [00:05<00:04, 1258.05it/s]\u001b[A\n",
      " 57%|█████▋    | 7297/12852 [00:05<00:04, 1236.78it/s]\u001b[A\n",
      " 58%|█████▊    | 7487/12852 [00:06<00:04, 1245.67it/s]\u001b[A\n",
      " 59%|█████▉    | 7625/12852 [00:06<00:04, 1239.35it/s]\u001b[A\n",
      " 61%|██████    | 7779/12852 [00:06<00:04, 1244.02it/s]\u001b[A\n",
      " 62%|██████▏   | 7984/12852 [00:06<00:03, 1256.47it/s]\u001b[A\n",
      " 64%|██████▍   | 8252/12852 [00:06<00:03, 1278.45it/s]\u001b[A\n",
      " 66%|██████▌   | 8441/12852 [00:06<00:03, 1277.71it/s]\u001b[A\n",
      " 68%|██████▊   | 8702/12852 [00:06<00:03, 1297.41it/s]\u001b[A\n",
      " 69%|██████▉   | 8898/12852 [00:06<00:03, 1289.10it/s]\u001b[A\n",
      " 71%|███████   | 9114/12852 [00:07<00:02, 1301.70it/s]\u001b[A\n",
      " 73%|███████▎  | 9361/12852 [00:07<00:02, 1317.96it/s]\u001b[A\n",
      " 75%|███████▍  | 9613/12852 [00:07<00:02, 1334.25it/s]\u001b[A\n",
      " 77%|███████▋  | 9872/12852 [00:07<00:02, 1351.70it/s]\u001b[A\n",
      " 79%|███████▊  | 10101/12852 [00:07<00:02, 1363.78it/s]\u001b[A\n",
      " 81%|████████  | 10356/12852 [00:07<00:01, 1379.65it/s]\u001b[A\n",
      " 83%|████████▎ | 10611/12852 [00:07<00:01, 1394.98it/s]\u001b[A\n",
      " 85%|████████▍ | 10876/12852 [00:07<00:01, 1411.29it/s]\u001b[A\n",
      " 87%|████████▋ | 11125/12852 [00:07<00:01, 1422.39it/s]\u001b[A\n",
      " 88%|████████▊ | 11364/12852 [00:07<00:01, 1434.31it/s]\u001b[A\n",
      " 90%|█████████ | 11603/12852 [00:08<00:00, 1440.96it/s]\u001b[A\n",
      " 92%|█████████▏| 11827/12852 [00:08<00:00, 1450.32it/s]\u001b[A\n",
      " 94%|█████████▍| 12049/12852 [00:08<00:00, 1459.34it/s]\u001b[A\n",
      " 95%|█████████▌| 12270/12852 [00:08<00:00, 1463.27it/s]\u001b[A\n",
      " 97%|█████████▋| 12485/12852 [00:08<00:00, 1471.32it/s]\u001b[A\n",
      " 99%|█████████▉| 12693/12852 [00:08<00:00, 1469.25it/s]\u001b[A\n",
      "100%|██████████| 12852/12852 [00:08<00:00, 1472.51it/s]\u001b[A\n",
      "  0%|          | 0/12852 [00:00<?, ?it/s]\u001b[A/Users/hyunyoun/anaconda3/lib/python3.6/site-packages/ipykernel_launcher.py:18: DeprecationWarning: Call to deprecated `iter` (Attribute will be removed in 4.0.0, use self.epochs instead).\n",
      "\n",
      "  1%|▏         | 182/12852 [00:00<00:23, 545.58it/s]\u001b[A\n",
      "  2%|▏         | 235/12852 [00:00<00:18, 684.12it/s]\u001b[A\n",
      "  2%|▏         | 279/12852 [00:01<00:59, 211.11it/s]\u001b[A\n",
      "  2%|▏         | 312/12852 [00:01<00:53, 234.97it/s]\u001b[A\n",
      "  3%|▎         | 344/12852 [00:02<01:22, 151.42it/s]\u001b[A\n",
      "  3%|▎         | 368/12852 [00:02<01:20, 155.63it/s]\u001b[A\n",
      "  3%|▎         | 400/12852 [00:03<01:38, 126.92it/s]\u001b[A\n",
      "  3%|▎         | 415/12852 [00:03<01:37, 127.80it/s]\u001b[A\n",
      "  4%|▎         | 461/12852 [00:03<01:30, 136.17it/s]\u001b[A\n",
      "  4%|▎         | 481/12852 [00:04<01:47, 115.58it/s]\u001b[A\n",
      "  4%|▍         | 496/12852 [00:04<01:45, 117.01it/s]\u001b[A\n",
      "  4%|▍         | 557/12852 [00:05<01:51, 110.39it/s]\u001b[A\n",
      "  5%|▍         | 600/12852 [00:05<01:45, 116.40it/s]\u001b[A\n",
      "  5%|▍         | 620/12852 [00:05<01:46, 115.16it/s]\u001b[A\n",
      "  5%|▍         | 638/12852 [00:06<01:57, 103.56it/s]\u001b[A\n",
      "  5%|▌         | 666/12852 [00:06<01:55, 105.40it/s]\u001b[A\n",
      "  6%|▌         | 707/12852 [00:07<02:01, 99.68it/s] \u001b[A\n",
      "  6%|▌         | 746/12852 [00:07<01:59, 101.57it/s]\u001b[A\n",
      "  6%|▌         | 764/12852 [00:07<01:59, 101.28it/s]\u001b[A\n",
      "  6%|▌         | 782/12852 [00:08<02:07, 94.64it/s] \u001b[A\n",
      "  6%|▋         | 824/12852 [00:08<02:05, 95.76it/s]\u001b[A\n",
      "  7%|▋         | 836/12852 [00:08<02:03, 97.10it/s]\u001b[A\n",
      "  7%|▋         | 862/12852 [00:09<02:12, 90.18it/s]\u001b[A\n",
      "  7%|▋         | 871/12852 [00:09<02:11, 91.08it/s]\u001b[A\n",
      "  7%|▋         | 937/12852 [00:10<02:11, 90.45it/s]\u001b[A\n",
      "  7%|▋         | 954/12852 [00:10<02:13, 89.12it/s]\u001b[A\n",
      "  7%|▋         | 963/12852 [00:10<02:12, 89.91it/s]\u001b[A\n",
      "  8%|▊         | 1002/12852 [00:11<02:14, 88.06it/s]\u001b[A\n",
      "  8%|▊         | 1024/12852 [00:11<02:13, 88.29it/s]\u001b[A\n",
      "  8%|▊         | 1032/12852 [00:11<02:15, 87.33it/s]\u001b[A\n",
      "  8%|▊         | 1071/12852 [00:12<02:17, 85.94it/s]\u001b[A\n",
      "  8%|▊         | 1089/12852 [00:12<02:17, 85.29it/s]\u001b[A\n",
      "  9%|▊         | 1097/12852 [00:12<02:16, 85.89it/s]\u001b[A\n",
      "  9%|▉         | 1147/12852 [00:13<02:17, 85.13it/s]\u001b[A\n",
      "  9%|▉         | 1160/12852 [00:13<02:18, 84.48it/s]\u001b[A\n",
      "  9%|▉         | 1168/12852 [00:13<02:17, 85.03it/s]\u001b[A\n",
      "  9%|▉         | 1213/12852 [00:14<02:18, 83.84it/s]\u001b[A\n",
      " 10%|▉         | 1221/12852 [00:14<02:18, 83.75it/s]\u001b[A\n",
      " 10%|▉         | 1275/12852 [00:14<02:13, 86.79it/s]\u001b[A\n",
      " 10%|█         | 1295/12852 [00:15<02:19, 83.05it/s]\u001b[A\n",
      " 10%|█         | 1310/12852 [00:15<02:19, 82.94it/s]\u001b[A\n",
      " 10%|█         | 1343/12852 [00:16<02:20, 81.70it/s]\u001b[A\n",
      " 11%|█         | 1384/12852 [00:16<02:18, 82.82it/s]\u001b[A\n",
      " 11%|█         | 1429/12852 [00:17<02:20, 81.58it/s]\u001b[A\n",
      " 11%|█         | 1439/12852 [00:17<02:19, 81.67it/s]\u001b[A\n",
      " 12%|█▏        | 1484/12852 [00:17<02:16, 83.16it/s]\u001b[A\n",
      " 12%|█▏        | 1500/12852 [00:18<02:20, 80.93it/s]\u001b[A\n",
      " 12%|█▏        | 1510/12852 [00:18<02:19, 81.04it/s]\u001b[A\n",
      " 12%|█▏        | 1552/12852 [00:18<02:17, 82.13it/s]\u001b[A\n",
      " 12%|█▏        | 1574/12852 [00:19<02:20, 79.99it/s]\u001b[A\n",
      " 12%|█▏        | 1583/12852 [00:19<02:20, 80.44it/s]\u001b[A\n",
      " 13%|█▎        | 1636/12852 [00:19<02:16, 82.09it/s]\u001b[A\n",
      " 13%|█▎        | 1661/12852 [00:20<02:17, 81.28it/s]\u001b[A\n",
      " 13%|█▎        | 1677/12852 [00:20<02:17, 81.48it/s]\u001b[A\n",
      " 13%|█▎        | 1697/12852 [00:20<02:16, 81.55it/s]\u001b[A\n",
      " 13%|█▎        | 1715/12852 [00:21<02:16, 81.60it/s]\u001b[A\n",
      " 13%|█▎        | 1735/12852 [00:21<02:18, 80.54it/s]\u001b[A\n",
      " 14%|█▎        | 1752/12852 [00:21<02:17, 80.75it/s]\u001b[A\n",
      " 14%|█▍        | 1768/12852 [00:21<02:17, 80.73it/s]\u001b[A\n",
      " 14%|█▍        | 1785/12852 [00:22<02:17, 80.56it/s]\u001b[A\n",
      " 14%|█▍        | 1806/12852 [00:22<02:18, 79.78it/s]\u001b[A\n",
      " 14%|█▍        | 1822/12852 [00:22<02:18, 79.69it/s]\u001b[A\n",
      " 14%|█▍        | 1845/12852 [00:23<02:17, 80.00it/s]\u001b[A\n",
      " 15%|█▍        | 1866/12852 [00:23<02:17, 79.96it/s]\u001b[A\n",
      " 15%|█▍        | 1878/12852 [00:23<02:18, 78.99it/s]\u001b[A\n",
      " 15%|█▍        | 1891/12852 [00:24<02:19, 78.79it/s]\u001b[A\n",
      " 15%|█▍        | 1906/12852 [00:24<02:18, 78.82it/s]\u001b[A\n",
      " 15%|█▍        | 1925/12852 [00:24<02:18, 78.78it/s]\u001b[A\n",
      " 15%|█▌        | 1945/12852 [00:24<02:19, 78.18it/s]\u001b[A\n",
      " 15%|█▌        | 1965/12852 [00:25<02:19, 78.16it/s]\u001b[A\n",
      " 15%|█▌        | 1972/12852 [00:25<02:19, 78.13it/s]\u001b[A\n",
      " 16%|█▌        | 2004/12852 [00:25<02:17, 78.66it/s]\u001b[A\n",
      " 16%|█▌        | 2022/12852 [00:25<02:18, 78.07it/s]\u001b[A\n"
     ]
    },
    {
     "name": "stderr",
     "output_type": "stream",
     "text": [
      " 16%|█▌        | 2043/12852 [00:26<02:18, 78.03it/s]\u001b[A\n",
      " 16%|█▌        | 2084/12852 [00:26<02:16, 78.62it/s]\u001b[A\n",
      " 16%|█▋        | 2102/12852 [00:26<02:17, 78.17it/s]\u001b[A\n",
      " 17%|█▋        | 2123/12852 [00:27<02:16, 78.44it/s]\u001b[A\n",
      " 17%|█▋        | 2144/12852 [00:27<02:16, 78.44it/s]\u001b[A\n",
      " 17%|█▋        | 2162/12852 [00:27<02:16, 78.55it/s]\u001b[A\n",
      " 17%|█▋        | 2179/12852 [00:27<02:16, 77.94it/s]\u001b[A\n",
      " 17%|█▋        | 2198/12852 [00:28<02:16, 78.20it/s]\u001b[A\n",
      " 17%|█▋        | 2222/12852 [00:28<02:15, 78.21it/s]\u001b[A\n",
      " 17%|█▋        | 2244/12852 [00:28<02:15, 78.41it/s]\u001b[A\n",
      " 18%|█▊        | 2259/12852 [00:29<02:16, 77.75it/s]\u001b[A\n",
      " 18%|█▊        | 2279/12852 [00:29<02:15, 77.99it/s]\u001b[A\n",
      " 18%|█▊        | 2295/12852 [00:29<02:15, 77.89it/s]\u001b[A\n",
      " 18%|█▊        | 2311/12852 [00:29<02:15, 77.85it/s]\u001b[A\n",
      " 18%|█▊        | 2327/12852 [00:30<02:16, 77.32it/s]\u001b[A\n",
      " 18%|█▊        | 2348/12852 [00:30<02:15, 77.57it/s]\u001b[A\n",
      " 18%|█▊        | 2368/12852 [00:30<02:15, 77.43it/s]\u001b[A\n",
      " 19%|█▊        | 2387/12852 [00:30<02:14, 77.59it/s]\u001b[A\n",
      " 19%|█▊        | 2408/12852 [00:31<02:15, 77.35it/s]\u001b[A\n",
      " 19%|█▉        | 2429/12852 [00:31<02:14, 77.51it/s]\u001b[A\n",
      " 19%|█▉        | 2446/12852 [00:31<02:14, 77.27it/s]\u001b[A\n",
      " 19%|█▉        | 2467/12852 [00:31<02:14, 77.49it/s]\u001b[A\n",
      " 19%|█▉        | 2486/12852 [00:32<02:14, 77.19it/s]\u001b[A\n",
      " 19%|█▉        | 2504/12852 [00:32<02:14, 77.19it/s]\u001b[A\n",
      " 20%|█▉        | 2526/12852 [00:32<02:13, 77.37it/s]\u001b[A\n",
      " 20%|█▉        | 2537/12852 [00:32<02:13, 77.18it/s]\u001b[A\n",
      " 20%|█▉        | 2556/12852 [00:33<02:13, 76.89it/s]\u001b[A\n",
      " 20%|██        | 2571/12852 [00:33<02:14, 76.59it/s]\u001b[A\n",
      " 20%|██        | 2590/12852 [00:33<02:13, 76.72it/s]\u001b[A\n",
      " 20%|██        | 2611/12852 [00:33<02:13, 76.95it/s]\u001b[A\n",
      " 20%|██        | 2627/12852 [00:34<02:13, 76.51it/s]\u001b[A\n",
      " 21%|██        | 2645/12852 [00:34<02:14, 76.10it/s]\u001b[A\n",
      " 21%|██        | 2683/12852 [00:35<02:12, 76.48it/s]\u001b[A\n",
      " 21%|██        | 2705/12852 [00:35<02:13, 76.16it/s]\u001b[A\n",
      " 21%|██        | 2731/12852 [00:36<02:13, 75.56it/s]\u001b[A\n",
      " 21%|██▏       | 2738/12852 [00:36<02:13, 75.55it/s]\u001b[A\n",
      " 22%|██▏       | 2770/12852 [00:36<02:13, 75.78it/s]\u001b[A\n",
      " 22%|██▏       | 2790/12852 [00:37<02:14, 74.93it/s]\u001b[A\n",
      " 22%|██▏       | 2796/12852 [00:37<02:14, 74.88it/s]\u001b[A\n",
      " 22%|██▏       | 2844/12852 [00:37<02:12, 75.56it/s]\u001b[A\n",
      " 22%|██▏       | 2868/12852 [00:38<02:13, 74.99it/s]\u001b[A\n",
      " 23%|██▎       | 2906/12852 [00:38<02:11, 75.61it/s]\u001b[A\n",
      " 23%|██▎       | 2919/12852 [00:38<02:11, 75.34it/s]\u001b[A\n",
      " 23%|██▎       | 2935/12852 [00:39<02:13, 74.49it/s]\u001b[A\n",
      " 23%|██▎       | 2942/12852 [00:39<02:13, 74.44it/s]\u001b[A\n",
      " 23%|██▎       | 2985/12852 [00:39<02:11, 74.79it/s]\u001b[A\n",
      " 23%|██▎       | 3005/12852 [00:40<02:12, 74.23it/s]\u001b[A\n",
      " 24%|██▎       | 3050/12852 [00:40<02:10, 75.06it/s]\u001b[A\n",
      " 24%|██▍       | 3075/12852 [00:40<02:10, 75.09it/s]\u001b[A\n",
      " 24%|██▍       | 3092/12852 [00:41<02:11, 74.16it/s]\u001b[A\n",
      " 24%|██▍       | 3100/12852 [00:41<02:11, 74.34it/s]\u001b[A\n",
      " 24%|██▍       | 3145/12852 [00:41<02:09, 74.96it/s]\u001b[A\n",
      " 25%|██▍       | 3164/12852 [00:42<02:10, 74.44it/s]\u001b[A\n",
      " 25%|██▍       | 3183/12852 [00:42<02:10, 74.30it/s]\u001b[A\n",
      " 25%|██▍       | 3198/12852 [00:42<02:09, 74.38it/s]\u001b[A\n",
      " 25%|██▌       | 3219/12852 [00:43<02:09, 74.53it/s]\u001b[A\n",
      " 25%|██▌       | 3243/12852 [00:43<02:09, 74.11it/s]\u001b[A\n",
      " 25%|██▌       | 3260/12852 [00:44<02:10, 73.53it/s]\u001b[A\n",
      " 25%|██▌       | 3267/12852 [00:44<02:10, 73.68it/s]\u001b[A\n",
      " 26%|██▌       | 3312/12852 [00:44<02:09, 73.89it/s]\u001b[A\n",
      " 26%|██▌       | 3328/12852 [00:45<02:09, 73.75it/s]\u001b[A\n",
      " 26%|██▌       | 3364/12852 [00:45<02:07, 74.16it/s]\u001b[A\n",
      " 26%|██▋       | 3382/12852 [00:45<02:08, 73.69it/s]\u001b[A\n",
      " 26%|██▋       | 3401/12852 [00:46<02:08, 73.48it/s]\u001b[A\n",
      " 27%|██▋       | 3409/12852 [00:46<02:08, 73.51it/s]\u001b[A\n",
      " 27%|██▋       | 3455/12852 [00:46<02:07, 73.67it/s]\u001b[A\n",
      " 27%|██▋       | 3473/12852 [00:47<02:07, 73.67it/s]\u001b[A\n",
      " 27%|██▋       | 3489/12852 [00:47<02:07, 73.57it/s]\u001b[A\n",
      " 27%|██▋       | 3497/12852 [00:47<02:06, 73.73it/s]\u001b[A\n",
      " 27%|██▋       | 3530/12852 [00:47<02:06, 73.65it/s]\u001b[A\n",
      " 28%|██▊       | 3545/12852 [00:48<02:06, 73.41it/s]\u001b[A\n",
      " 28%|██▊       | 3552/12852 [00:48<02:06, 73.42it/s]\u001b[A\n",
      " 28%|██▊       | 3603/12852 [00:48<02:05, 73.65it/s]\u001b[A\n",
      " 28%|██▊       | 3624/12852 [00:49<02:05, 73.39it/s]\u001b[A\n",
      " 28%|██▊       | 3631/12852 [00:49<02:05, 73.52it/s]\u001b[A\n",
      " 29%|██▊       | 3683/12852 [00:49<02:04, 73.85it/s]\u001b[A\n",
      " 29%|██▉       | 3704/12852 [00:50<02:04, 73.70it/s]\u001b[A\n",
      " 29%|██▉       | 3723/12852 [00:50<02:03, 73.86it/s]\u001b[A\n",
      " 29%|██▉       | 3753/12852 [00:50<02:03, 73.69it/s]\u001b[A\n",
      " 29%|██▉       | 3771/12852 [00:51<02:03, 73.67it/s]\u001b[A\n",
      " 29%|██▉       | 3789/12852 [00:51<02:03, 73.63it/s]\u001b[A\n",
      " 30%|██▉       | 3809/12852 [00:51<02:02, 73.78it/s]\u001b[A\n",
      " 30%|██▉       | 3835/12852 [00:51<02:02, 73.75it/s]\u001b[A\n",
      " 30%|██▉       | 3847/12852 [00:52<02:02, 73.61it/s]\u001b[A\n",
      " 30%|███       | 3866/12852 [00:52<02:02, 73.55it/s]\u001b[A\n",
      " 30%|███       | 3905/12852 [00:53<02:01, 73.62it/s]\u001b[A\n",
      " 31%|███       | 3929/12852 [00:53<02:01, 73.58it/s]\u001b[A\n",
      " 31%|███       | 3948/12852 [00:53<02:00, 73.67it/s]\u001b[A\n",
      " 31%|███       | 3970/12852 [00:53<02:00, 73.87it/s]\u001b[A\n",
      " 31%|███       | 3993/12852 [00:54<02:00, 73.65it/s]\u001b[A\n",
      " 31%|███       | 4010/12852 [00:54<02:00, 73.42it/s]\u001b[A\n",
      " 31%|███▏      | 4047/12852 [00:54<01:59, 73.86it/s]\u001b[A\n",
      " 32%|███▏      | 4068/12852 [00:55<01:59, 73.65it/s]\u001b[A\n",
      " 32%|███▏      | 4086/12852 [00:55<01:59, 73.53it/s]\u001b[A\n",
      " 32%|███▏      | 4127/12852 [00:55<01:57, 74.12it/s]\u001b[A\n",
      " 32%|███▏      | 4146/12852 [00:56<01:58, 73.71it/s]\u001b[A\n",
      " 32%|███▏      | 4165/12852 [00:56<01:57, 73.64it/s]\u001b[A\n",
      " 33%|███▎      | 4204/12852 [00:56<01:56, 74.00it/s]\u001b[A\n",
      " 33%|███▎      | 4219/12852 [00:57<01:57, 73.63it/s]\u001b[A\n",
      " 33%|███▎      | 4239/12852 [00:57<01:57, 73.60it/s]\u001b[A\n",
      " 33%|███▎      | 4262/12852 [00:57<01:56, 73.84it/s]\u001b[A\n",
      " 33%|███▎      | 4284/12852 [00:57<01:55, 73.91it/s]\u001b[A\n",
      " 33%|███▎      | 4301/12852 [00:58<01:56, 73.57it/s]\u001b[A\n",
      " 34%|███▎      | 4319/12852 [00:58<01:55, 73.61it/s]\u001b[A\n",
      " 34%|███▎      | 4328/12852 [00:58<01:55, 73.64it/s]\u001b[A\n",
      " 34%|███▍      | 4359/12852 [00:59<01:55, 73.81it/s]\u001b[A\n",
      " 34%|███▍      | 4379/12852 [00:59<01:55, 73.48it/s]\u001b[A\n",
      " 34%|███▍      | 4402/12852 [00:59<01:54, 73.68it/s]\u001b[A\n",
      " 35%|███▍      | 4444/12852 [01:00<01:53, 73.89it/s]\u001b[A\n",
      " 35%|███▍      | 4461/12852 [01:00<01:54, 73.47it/s]\u001b[A\n",
      " 35%|███▍      | 4469/12852 [01:00<01:54, 73.47it/s]\u001b[A\n",
      " 35%|███▌      | 4505/12852 [01:01<01:53, 73.80it/s]\u001b[A\n",
      " 35%|███▌      | 4527/12852 [01:01<01:52, 73.98it/s]\u001b[A\n",
      " 35%|███▌      | 4541/12852 [01:01<01:52, 73.55it/s]\u001b[A\n",
      " 35%|███▌      | 4554/12852 [01:01<01:52, 73.57it/s]\u001b[A\n",
      " 36%|███▌      | 4579/12852 [01:02<01:52, 73.74it/s]\u001b[A\n",
      " 36%|███▌      | 4603/12852 [01:02<01:51, 73.87it/s]\u001b[A\n",
      " 36%|███▌      | 4620/12852 [01:02<01:52, 73.34it/s]\u001b[A\n",
      " 36%|███▌      | 4629/12852 [01:03<01:52, 73.36it/s]\u001b[A\n",
      " 36%|███▋      | 4682/12852 [01:03<01:50, 73.91it/s]\u001b[A\n",
      " 37%|███▋      | 4699/12852 [01:04<01:51, 73.37it/s]\u001b[A\n",
      " 37%|███▋      | 4731/12852 [01:04<01:50, 73.69it/s]\u001b[A\n",
      " 37%|███▋      | 4754/12852 [01:04<01:49, 73.83it/s]\u001b[A\n",
      " 37%|███▋      | 4772/12852 [01:04<01:49, 73.65it/s]\u001b[A\n",
      " 37%|███▋      | 4794/12852 [01:05<01:49, 73.54it/s]\u001b[A\n",
      " 37%|███▋      | 4813/12852 [01:05<01:49, 73.52it/s]\u001b[A\n",
      " 38%|███▊      | 4845/12852 [01:05<01:48, 73.62it/s]\u001b[A\n",
      " 38%|███▊      | 4868/12852 [01:06<01:48, 73.30it/s]\u001b[A\n",
      " 38%|███▊      | 4876/12852 [01:06<01:48, 73.42it/s]\u001b[A\n",
      " 38%|███▊      | 4908/12852 [01:06<01:47, 73.73it/s]\u001b[A\n",
      " 38%|███▊      | 4927/12852 [01:06<01:47, 73.60it/s]\u001b[A\n",
      " 38%|███▊      | 4948/12852 [01:07<01:47, 73.40it/s]\u001b[A\n",
      " 39%|███▉      | 5006/12852 [01:08<01:46, 73.57it/s]\u001b[A\n",
      " 39%|███▉      | 5026/12852 [01:08<01:46, 73.34it/s]\u001b[A\n",
      " 39%|███▉      | 5061/12852 [01:08<01:45, 73.59it/s]\u001b[A\n",
      " 40%|███▉      | 5086/12852 [01:09<01:45, 73.42it/s]\u001b[A\n",
      " 40%|███▉      | 5109/12852 [01:09<01:45, 73.13it/s]\u001b[A\n",
      " 40%|███▉      | 5117/12852 [01:09<01:45, 73.24it/s]\u001b[A\n",
      " 40%|████      | 5171/12852 [01:10<01:44, 73.51it/s]\u001b[A\n",
      " 40%|████      | 5195/12852 [01:10<01:44, 73.47it/s]\u001b[A\n",
      " 41%|████      | 5210/12852 [01:10<01:43, 73.57it/s]\u001b[A\n",
      " 41%|████      | 5230/12852 [01:10<01:43, 73.68it/s]\u001b[A\n",
      " 41%|████      | 5249/12852 [01:11<01:43, 73.45it/s]\u001b[A\n",
      " 41%|████      | 5265/12852 [01:11<01:43, 73.37it/s]\u001b[A\n",
      " 41%|████      | 5279/12852 [01:12<01:43, 73.30it/s]\u001b[A\n",
      " 41%|████▏     | 5320/12852 [01:12<01:42, 73.26it/s]\u001b[A\n"
     ]
    },
    {
     "name": "stderr",
     "output_type": "stream",
     "text": [
      " 42%|████▏     | 5342/12852 [01:12<01:42, 73.27it/s]\u001b[A\n",
      " 42%|████▏     | 5365/12852 [01:13<01:42, 73.26it/s]\u001b[A\n",
      " 42%|████▏     | 5402/12852 [01:13<01:41, 73.24it/s]\u001b[A\n",
      " 42%|████▏     | 5423/12852 [01:14<01:41, 73.19it/s]\u001b[A\n",
      " 42%|████▏     | 5448/12852 [01:14<01:41, 73.29it/s]\u001b[A\n",
      " 42%|████▏     | 5457/12852 [01:14<01:40, 73.31it/s]\u001b[A\n",
      " 43%|████▎     | 5481/12852 [01:14<01:40, 73.13it/s]\u001b[A\n",
      " 43%|████▎     | 5497/12852 [01:15<01:40, 73.08it/s]\u001b[A\n",
      " 43%|████▎     | 5513/12852 [01:15<01:40, 72.89it/s]\u001b[A\n",
      " 43%|████▎     | 5558/12852 [01:16<01:39, 73.01it/s]\u001b[A\n",
      " 43%|████▎     | 5576/12852 [01:16<01:39, 73.02it/s]\u001b[A\n",
      " 44%|████▎     | 5596/12852 [01:16<01:39, 73.08it/s]\u001b[A\n",
      " 44%|████▎     | 5616/12852 [01:16<01:38, 73.11it/s]\u001b[A\n",
      " 44%|████▍     | 5631/12852 [01:17<01:39, 72.83it/s]\u001b[A\n",
      " 44%|████▍     | 5650/12852 [01:17<01:38, 72.93it/s]\u001b[A\n",
      " 44%|████▍     | 5666/12852 [01:17<01:38, 72.88it/s]\u001b[A\n",
      " 44%|████▍     | 5688/12852 [01:18<01:38, 72.89it/s]\u001b[A\n",
      " 44%|████▍     | 5710/12852 [01:18<01:38, 72.66it/s]\u001b[A\n",
      " 45%|████▍     | 5751/12852 [01:18<01:37, 72.84it/s]\u001b[A\n",
      " 45%|████▍     | 5772/12852 [01:19<01:37, 72.89it/s]\u001b[A\n",
      " 45%|████▌     | 5787/12852 [01:19<01:37, 72.58it/s]\u001b[A\n",
      " 45%|████▌     | 5826/12852 [01:20<01:36, 72.72it/s]\u001b[A\n",
      " 45%|████▌     | 5847/12852 [01:20<01:36, 72.81it/s]\u001b[A\n",
      " 46%|████▌     | 5867/12852 [01:20<01:36, 72.72it/s]\u001b[A\n",
      " 46%|████▌     | 5880/12852 [01:20<01:35, 72.74it/s]\u001b[A\n",
      " 46%|████▌     | 5888/12852 [01:21<01:36, 72.46it/s]\u001b[A\n",
      " 46%|████▌     | 5894/12852 [01:21<01:36, 72.37it/s]\u001b[A\n",
      " 46%|████▌     | 5931/12852 [01:21<01:35, 72.46it/s]\u001b[A\n",
      " 46%|████▋     | 5949/12852 [01:22<01:35, 72.48it/s]\u001b[A\n",
      " 46%|████▋     | 5967/12852 [01:22<01:35, 72.26it/s]\u001b[A\n",
      " 47%|████▋     | 6003/12852 [01:22<01:34, 72.38it/s]\u001b[A\n",
      " 47%|████▋     | 6024/12852 [01:23<01:34, 72.41it/s]\u001b[A\n",
      " 47%|████▋     | 6047/12852 [01:23<01:34, 72.25it/s]\u001b[A\n",
      " 47%|████▋     | 6092/12852 [01:24<01:33, 72.45it/s]\u001b[A\n",
      " 48%|████▊     | 6123/12852 [01:24<01:33, 72.24it/s]\u001b[A\n",
      " 48%|████▊     | 6151/12852 [01:25<01:32, 72.16it/s]\u001b[A\n",
      " 48%|████▊     | 6187/12852 [01:25<01:32, 72.11it/s]\u001b[A\n",
      " 48%|████▊     | 6194/12852 [01:25<01:32, 72.11it/s]\u001b[A\n",
      " 48%|████▊     | 6225/12852 [01:26<01:31, 72.12it/s]\u001b[A\n",
      " 49%|████▊     | 6261/12852 [01:26<01:31, 72.16it/s]\u001b[A\n",
      " 49%|████▉     | 6281/12852 [01:27<01:31, 72.18it/s]\u001b[A\n",
      " 49%|████▉     | 6303/12852 [01:27<01:30, 72.13it/s]\u001b[A\n",
      " 49%|████▉     | 6311/12852 [01:27<01:30, 72.13it/s]\u001b[A\n",
      " 50%|████▉     | 6364/12852 [01:28<01:29, 72.15it/s]\u001b[A\n",
      " 50%|████▉     | 6389/12852 [01:28<01:29, 72.24it/s]\u001b[A\n",
      " 50%|█████     | 6426/12852 [01:28<01:28, 72.43it/s]\u001b[A\n",
      " 50%|█████     | 6444/12852 [01:29<01:28, 72.06it/s]\u001b[A\n",
      " 50%|█████     | 6458/12852 [01:29<01:28, 72.04it/s]\u001b[A\n",
      " 51%|█████     | 6496/12852 [01:29<01:27, 72.27it/s]\u001b[A\n",
      " 51%|█████     | 6519/12852 [01:30<01:28, 71.95it/s]\u001b[A\n",
      " 51%|█████     | 6541/12852 [01:30<01:27, 71.99it/s]\u001b[A\n",
      " 51%|█████     | 6550/12852 [01:31<01:27, 71.94it/s]\u001b[A\n",
      " 51%|█████▏    | 6593/12852 [01:31<01:27, 71.84it/s]\u001b[A\n",
      " 51%|█████▏    | 6612/12852 [01:32<01:26, 71.83it/s]\u001b[A\n",
      " 52%|█████▏    | 6619/12852 [01:32<01:26, 71.83it/s]\u001b[A\n",
      " 52%|█████▏    | 6659/12852 [01:32<01:26, 71.77it/s]\u001b[A\n",
      " 52%|█████▏    | 6675/12852 [01:33<01:26, 71.62it/s]\u001b[A\n",
      " 52%|█████▏    | 6682/12852 [01:33<01:26, 71.63it/s]\u001b[A\n",
      " 52%|█████▏    | 6729/12852 [01:33<01:25, 71.63it/s]\u001b[A\n",
      " 52%|█████▏    | 6743/12852 [01:34<01:25, 71.59it/s]\u001b[A\n",
      " 53%|█████▎    | 6762/12852 [01:34<01:25, 71.57it/s]\u001b[A\n",
      " 53%|█████▎    | 6770/12852 [01:34<01:24, 71.65it/s]\u001b[A\n",
      " 53%|█████▎    | 6794/12852 [01:35<01:24, 71.46it/s]\u001b[A\n",
      " 53%|█████▎    | 6814/12852 [01:35<01:24, 71.37it/s]\u001b[A\n",
      " 53%|█████▎    | 6821/12852 [01:35<01:24, 71.37it/s]\u001b[A\n",
      " 53%|█████▎    | 6867/12852 [01:36<01:23, 71.42it/s]\u001b[A\n",
      " 54%|█████▎    | 6892/12852 [01:36<01:23, 71.48it/s]\u001b[A\n",
      " 54%|█████▍    | 6913/12852 [01:36<01:23, 71.45it/s]\u001b[A\n",
      " 54%|█████▍    | 6921/12852 [01:36<01:22, 71.53it/s]\u001b[A\n",
      " 54%|█████▍    | 6956/12852 [01:37<01:22, 71.42it/s]\u001b[A\n",
      " 54%|█████▍    | 6978/12852 [01:37<01:22, 71.34it/s]\u001b[A\n",
      " 54%|█████▍    | 6986/12852 [01:37<01:22, 71.35it/s]\u001b[A\n",
      " 55%|█████▍    | 7035/12852 [01:38<01:21, 71.45it/s]\u001b[A\n",
      " 55%|█████▍    | 7051/12852 [01:38<01:21, 71.35it/s]\u001b[A\n",
      " 55%|█████▌    | 7069/12852 [01:38<01:20, 71.43it/s]\u001b[A\n",
      " 55%|█████▌    | 7078/12852 [01:39<01:20, 71.45it/s]\u001b[A\n",
      " 55%|█████▌    | 7105/12852 [01:39<01:20, 71.36it/s]\u001b[A\n",
      " 55%|█████▌    | 7126/12852 [01:40<01:20, 71.25it/s]\u001b[A\n",
      " 56%|█████▌    | 7133/12852 [01:40<01:20, 71.19it/s]\u001b[A\n",
      " 56%|█████▌    | 7172/12852 [01:40<01:19, 71.22it/s]\u001b[A\n",
      " 56%|█████▌    | 7194/12852 [01:41<01:19, 71.18it/s]\u001b[A\n",
      " 56%|█████▋    | 7236/12852 [01:41<01:18, 71.40it/s]\u001b[A\n",
      " 56%|█████▋    | 7257/12852 [01:41<01:18, 71.32it/s]\u001b[A\n",
      " 57%|█████▋    | 7270/12852 [01:42<01:18, 71.15it/s]\u001b[A\n",
      " 57%|█████▋    | 7284/12852 [01:42<01:18, 71.17it/s]\u001b[A\n",
      " 57%|█████▋    | 7302/12852 [01:42<01:17, 71.22it/s]\u001b[A\n",
      " 57%|█████▋    | 7320/12852 [01:42<01:17, 71.10it/s]\u001b[A\n",
      " 57%|█████▋    | 7340/12852 [01:43<01:17, 71.01it/s]\u001b[A\n",
      " 57%|█████▋    | 7359/12852 [01:43<01:17, 71.07it/s]\u001b[A\n",
      " 57%|█████▋    | 7389/12852 [01:44<01:16, 71.02it/s]\u001b[A\n",
      " 58%|█████▊    | 7402/12852 [01:44<01:17, 70.72it/s]\u001b[A\n",
      " 58%|█████▊    | 7461/12852 [01:45<01:16, 70.91it/s]\u001b[A\n",
      " 58%|█████▊    | 7478/12852 [01:45<01:15, 70.77it/s]\u001b[A\n",
      " 58%|█████▊    | 7500/12852 [01:45<01:15, 70.88it/s]\u001b[A\n",
      " 59%|█████▊    | 7542/12852 [01:46<01:14, 70.87it/s]\u001b[A\n",
      " 59%|█████▉    | 7564/12852 [01:47<01:14, 70.66it/s]\u001b[A\n",
      " 59%|█████▉    | 7571/12852 [01:47<01:14, 70.72it/s]\u001b[A\n",
      " 59%|█████▉    | 7627/12852 [01:47<01:13, 71.09it/s]\u001b[A\n",
      " 59%|█████▉    | 7644/12852 [01:47<01:13, 71.24it/s]\u001b[A\n",
      " 60%|█████▉    | 7661/12852 [01:48<01:13, 70.65it/s]\u001b[A\n",
      " 60%|█████▉    | 7674/12852 [01:48<01:13, 70.77it/s]\u001b[A\n",
      " 60%|██████    | 7725/12852 [01:49<01:12, 70.74it/s]\u001b[A\n",
      " 60%|██████    | 7746/12852 [01:49<01:12, 70.84it/s]\u001b[A\n",
      " 60%|██████    | 7758/12852 [01:49<01:11, 70.89it/s]\u001b[A\n",
      " 61%|██████    | 7802/12852 [01:50<01:11, 70.74it/s]\u001b[A\n",
      " 61%|██████    | 7854/12852 [01:50<01:10, 71.05it/s]\u001b[A\n",
      " 61%|██████▏   | 7872/12852 [01:51<01:10, 70.60it/s]\u001b[A\n",
      " 61%|██████▏   | 7887/12852 [01:51<01:10, 70.60it/s]\u001b[A\n",
      " 61%|██████▏   | 7896/12852 [01:51<01:10, 70.58it/s]\u001b[A\n",
      " 62%|██████▏   | 7942/12852 [01:52<01:09, 70.54it/s]\u001b[A\n",
      " 62%|██████▏   | 7957/12852 [01:52<01:09, 70.55it/s]\u001b[A\n",
      " 62%|██████▏   | 7980/12852 [01:53<01:09, 70.60it/s]\u001b[A\n",
      " 62%|██████▏   | 7988/12852 [01:53<01:08, 70.61it/s]\u001b[A\n",
      " 62%|██████▏   | 8024/12852 [01:53<01:08, 70.55it/s]\u001b[A\n",
      " 63%|██████▎   | 8042/12852 [01:53<01:08, 70.58it/s]\u001b[A\n",
      " 63%|██████▎   | 8060/12852 [01:54<01:07, 70.57it/s]\u001b[A\n",
      " 63%|██████▎   | 8081/12852 [01:54<01:07, 70.61it/s]\u001b[A\n",
      " 63%|██████▎   | 8105/12852 [01:54<01:07, 70.53it/s]\u001b[A\n",
      " 63%|██████▎   | 8124/12852 [01:55<01:07, 70.56it/s]\u001b[A\n",
      " 63%|██████▎   | 8141/12852 [01:55<01:06, 70.61it/s]\u001b[A\n",
      " 63%|██████▎   | 8160/12852 [01:55<01:06, 70.54it/s]\u001b[A\n",
      " 64%|██████▎   | 8178/12852 [01:56<01:06, 70.43it/s]\u001b[A\n",
      " 64%|██████▍   | 8198/12852 [01:56<01:06, 70.48it/s]\u001b[A\n",
      " 64%|██████▍   | 8219/12852 [01:56<01:05, 70.55it/s]\u001b[A\n",
      " 64%|██████▍   | 8240/12852 [01:56<01:05, 70.52it/s]\u001b[A\n",
      " 64%|██████▍   | 8257/12852 [01:57<01:05, 70.42it/s]\u001b[A\n",
      " 64%|██████▍   | 8279/12852 [01:57<01:04, 70.45it/s]\u001b[A\n",
      " 65%|██████▍   | 8297/12852 [01:57<01:04, 70.48it/s]\u001b[A\n",
      " 65%|██████▍   | 8315/12852 [01:58<01:04, 70.45it/s]\u001b[A\n",
      " 65%|██████▍   | 8336/12852 [01:58<01:04, 70.41it/s]\u001b[A\n",
      " 65%|██████▌   | 8356/12852 [01:58<01:03, 70.41it/s]\u001b[A\n",
      " 65%|██████▌   | 8374/12852 [01:58<01:03, 70.43it/s]\u001b[A\n",
      " 65%|██████▌   | 8391/12852 [01:59<01:03, 70.41it/s]\u001b[A\n",
      " 65%|██████▌   | 8414/12852 [01:59<01:03, 70.39it/s]\u001b[A\n",
      " 66%|██████▌   | 8437/12852 [01:59<01:02, 70.41it/s]\u001b[A\n",
      " 66%|██████▌   | 8458/12852 [02:00<01:02, 70.45it/s]\u001b[A\n",
      " 66%|██████▌   | 8477/12852 [02:00<01:02, 70.40it/s]\u001b[A\n",
      " 66%|██████▌   | 8489/12852 [02:00<01:01, 70.39it/s]\u001b[A\n",
      " 66%|██████▌   | 8511/12852 [02:01<01:01, 70.33it/s]\u001b[A\n",
      " 66%|██████▋   | 8535/12852 [02:01<01:01, 70.41it/s]\u001b[A\n",
      " 67%|██████▋   | 8553/12852 [02:01<01:01, 70.39it/s]\u001b[A\n",
      " 67%|██████▋   | 8575/12852 [02:01<01:00, 70.40it/s]\u001b[A\n",
      " 67%|██████▋   | 8598/12852 [02:02<01:00, 70.37it/s]\u001b[A\n",
      " 67%|██████▋   | 8624/12852 [02:02<01:00, 70.45it/s]\u001b[A\n",
      " 67%|██████▋   | 8647/12852 [02:02<00:59, 70.48it/s]\u001b[A\n",
      " 67%|██████▋   | 8667/12852 [02:02<00:59, 70.52it/s]\u001b[A\n"
     ]
    },
    {
     "name": "stderr",
     "output_type": "stream",
     "text": [
      " 68%|██████▊   | 8685/12852 [02:03<00:59, 70.42it/s]\u001b[A\n",
      " 68%|██████▊   | 8699/12852 [02:03<00:58, 70.40it/s]\u001b[A\n",
      " 68%|██████▊   | 8719/12852 [02:03<00:58, 70.39it/s]\u001b[A\n",
      " 68%|██████▊   | 8737/12852 [02:04<00:58, 70.45it/s]\u001b[A\n",
      " 68%|██████▊   | 8755/12852 [02:04<00:58, 70.32it/s]\u001b[A\n",
      " 68%|██████▊   | 8768/12852 [02:04<00:58, 70.32it/s]\u001b[A\n",
      " 68%|██████▊   | 8784/12852 [02:04<00:57, 70.28it/s]\u001b[A\n",
      " 69%|██████▊   | 8806/12852 [02:05<00:57, 70.35it/s]\u001b[A\n",
      " 69%|██████▊   | 8829/12852 [02:05<00:57, 70.31it/s]\u001b[A\n",
      " 69%|██████▉   | 8848/12852 [02:05<00:56, 70.33it/s]\u001b[A\n",
      " 69%|██████▉   | 8866/12852 [02:06<00:56, 70.30it/s]\u001b[A\n",
      " 69%|██████▉   | 8888/12852 [02:06<00:56, 70.37it/s]\u001b[A\n",
      " 69%|██████▉   | 8903/12852 [02:06<00:56, 70.28it/s]\u001b[A\n",
      " 69%|██████▉   | 8920/12852 [02:06<00:55, 70.27it/s]\u001b[A\n",
      " 69%|██████▉   | 8930/12852 [02:07<00:55, 70.17it/s]\u001b[A\n",
      " 70%|██████▉   | 8946/12852 [02:07<00:55, 70.19it/s]\u001b[A\n",
      " 70%|██████▉   | 8964/12852 [02:07<00:55, 70.13it/s]\u001b[A\n",
      " 70%|██████▉   | 8986/12852 [02:08<00:55, 70.20it/s]\u001b[A\n",
      " 70%|███████   | 9007/12852 [02:08<00:54, 70.17it/s]\u001b[A\n",
      " 70%|███████   | 9015/12852 [02:08<00:54, 70.16it/s]\u001b[A\n",
      " 70%|███████   | 9042/12852 [02:08<00:54, 70.15it/s]\u001b[A\n",
      " 71%|███████   | 9062/12852 [02:09<00:53, 70.23it/s]\u001b[A\n",
      " 71%|███████   | 9076/12852 [02:09<00:53, 70.05it/s]\u001b[A\n",
      " 71%|███████   | 9109/12852 [02:09<00:53, 70.09it/s]\u001b[A\n",
      " 71%|███████   | 9148/12852 [02:10<00:52, 70.08it/s]\u001b[A\n",
      " 71%|███████▏  | 9168/12852 [02:10<00:52, 70.16it/s]\u001b[A\n",
      " 71%|███████▏  | 9189/12852 [02:10<00:52, 70.16it/s]\u001b[A\n",
      " 72%|███████▏  | 9230/12852 [02:11<00:51, 70.17it/s]\u001b[A\n",
      " 72%|███████▏  | 9239/12852 [02:11<00:51, 70.17it/s]\u001b[A\n",
      " 72%|███████▏  | 9269/12852 [02:11<00:51, 70.23it/s]\u001b[A\n",
      " 72%|███████▏  | 9280/12852 [02:11<00:50, 70.32it/s]\u001b[A\n",
      " 72%|███████▏  | 9307/12852 [02:12<00:50, 70.26it/s]\u001b[A\n",
      " 73%|███████▎  | 9326/12852 [02:12<00:50, 70.31it/s]\u001b[A\n",
      " 73%|███████▎  | 9346/12852 [02:13<00:49, 70.27it/s]\u001b[A\n",
      " 73%|███████▎  | 9374/12852 [02:13<00:49, 70.21it/s]\u001b[A\n",
      " 73%|███████▎  | 9388/12852 [02:13<00:49, 70.21it/s]\u001b[A\n",
      " 73%|███████▎  | 9400/12852 [02:13<00:49, 70.16it/s]\u001b[A\n",
      " 73%|███████▎  | 9407/12852 [02:14<00:49, 70.15it/s]\u001b[A\n",
      " 73%|███████▎  | 9437/12852 [02:14<00:48, 70.14it/s]\u001b[A\n",
      " 74%|███████▎  | 9455/12852 [02:14<00:48, 70.10it/s]\u001b[A\n",
      " 74%|███████▎  | 9470/12852 [02:15<00:48, 70.10it/s]\u001b[A\n",
      " 74%|███████▍  | 9495/12852 [02:15<00:47, 70.04it/s]\u001b[A\n",
      " 74%|███████▍  | 9513/12852 [02:15<00:47, 69.98it/s]\u001b[A\n",
      " 74%|███████▍  | 9536/12852 [02:16<00:47, 69.99it/s]\u001b[A\n",
      " 74%|███████▍  | 9568/12852 [02:16<00:46, 70.05it/s]\u001b[A\n",
      " 75%|███████▍  | 9584/12852 [02:16<00:46, 70.07it/s]\u001b[A\n",
      " 75%|███████▍  | 9604/12852 [02:17<00:46, 69.97it/s]\u001b[A\n",
      " 75%|███████▌  | 9639/12852 [02:17<00:45, 70.06it/s]\u001b[A\n",
      " 75%|███████▌  | 9659/12852 [02:17<00:45, 70.07it/s]\u001b[A\n",
      " 75%|███████▌  | 9675/12852 [02:18<00:45, 70.10it/s]\u001b[A\n",
      " 75%|███████▌  | 9692/12852 [02:18<00:45, 70.06it/s]\u001b[A\n",
      " 76%|███████▌  | 9714/12852 [02:18<00:44, 70.06it/s]\u001b[A\n",
      " 76%|███████▌  | 9734/12852 [02:18<00:44, 70.07it/s]\u001b[A\n",
      " 76%|███████▌  | 9758/12852 [02:19<00:44, 70.19it/s]\u001b[A\n",
      " 76%|███████▌  | 9781/12852 [02:19<00:43, 70.12it/s]\u001b[A\n",
      " 76%|███████▋  | 9804/12852 [02:19<00:43, 70.20it/s]\u001b[A\n",
      " 76%|███████▋  | 9819/12852 [02:19<00:43, 70.18it/s]\u001b[A\n",
      " 77%|███████▋  | 9842/12852 [02:20<00:42, 70.25it/s]\u001b[A\n",
      " 77%|███████▋  | 9864/12852 [02:20<00:42, 70.14it/s]\u001b[A\n",
      " 77%|███████▋  | 9885/12852 [02:20<00:42, 70.21it/s]\u001b[A\n",
      " 77%|███████▋  | 9903/12852 [02:20<00:41, 70.25it/s]\u001b[A\n",
      " 77%|███████▋  | 9921/12852 [02:21<00:41, 70.24it/s]\u001b[A\n",
      " 77%|███████▋  | 9947/12852 [02:21<00:41, 70.18it/s]\u001b[A\n",
      " 78%|███████▊  | 9986/12852 [02:22<00:40, 70.32it/s]\u001b[A\n",
      " 78%|███████▊  | 10005/12852 [02:22<00:40, 70.34it/s]\u001b[A\n",
      " 78%|███████▊  | 10023/12852 [02:22<00:40, 70.19it/s]\u001b[A\n",
      " 78%|███████▊  | 10031/12852 [02:22<00:40, 70.20it/s]\u001b[A\n",
      " 78%|███████▊  | 10057/12852 [02:23<00:39, 70.29it/s]\u001b[A\n",
      " 78%|███████▊  | 10067/12852 [02:23<00:39, 70.31it/s]\u001b[A\n",
      " 79%|███████▊  | 10089/12852 [02:23<00:39, 70.13it/s]\u001b[A\n",
      " 79%|███████▊  | 10108/12852 [02:24<00:39, 70.10it/s]\u001b[A\n",
      " 79%|███████▊  | 10118/12852 [02:24<00:38, 70.17it/s]\u001b[A\n",
      " 79%|███████▉  | 10170/12852 [02:24<00:38, 70.22it/s]\u001b[A\n",
      " 79%|███████▉  | 10190/12852 [02:25<00:37, 70.24it/s]\u001b[A\n",
      " 79%|███████▉  | 10200/12852 [02:25<00:37, 70.30it/s]\u001b[A\n",
      " 80%|███████▉  | 10224/12852 [02:25<00:37, 70.40it/s]\u001b[A\n",
      " 80%|███████▉  | 10240/12852 [02:25<00:37, 70.20it/s]\u001b[A\n",
      " 80%|███████▉  | 10258/12852 [02:26<00:36, 70.26it/s]\u001b[A\n",
      " 80%|████████  | 10297/12852 [02:26<00:36, 70.42it/s]\u001b[A\n",
      " 80%|████████  | 10316/12852 [02:26<00:35, 70.55it/s]\u001b[A\n",
      " 80%|████████  | 10335/12852 [02:26<00:35, 70.38it/s]\u001b[A\n",
      " 81%|████████  | 10349/12852 [02:27<00:35, 70.37it/s]\u001b[A\n",
      " 81%|████████  | 10376/12852 [02:27<00:35, 70.44it/s]\u001b[A\n",
      " 81%|████████  | 10400/12852 [02:27<00:34, 70.35it/s]\u001b[A\n",
      " 81%|████████  | 10425/12852 [02:28<00:34, 70.40it/s]\u001b[A\n",
      " 81%|████████  | 10435/12852 [02:28<00:34, 70.42it/s]\u001b[A\n",
      " 81%|████████▏ | 10458/12852 [02:28<00:33, 70.51it/s]\u001b[A\n",
      " 82%|████████▏ | 10476/12852 [02:28<00:33, 70.37it/s]\u001b[A\n",
      " 82%|████████▏ | 10492/12852 [02:29<00:33, 70.36it/s]\u001b[A\n",
      " 82%|████████▏ | 10535/12852 [02:29<00:32, 70.52it/s]\u001b[A\n",
      " 82%|████████▏ | 10556/12852 [02:29<00:32, 70.42it/s]\u001b[A\n",
      " 82%|████████▏ | 10573/12852 [02:30<00:32, 70.37it/s]\u001b[A\n",
      " 83%|████████▎ | 10619/12852 [02:30<00:31, 70.60it/s]\u001b[A\n",
      " 83%|████████▎ | 10638/12852 [02:30<00:31, 70.48it/s]\u001b[A\n",
      " 83%|████████▎ | 10658/12852 [02:31<00:31, 70.50it/s]\u001b[A\n",
      " 83%|████████▎ | 10696/12852 [02:31<00:30, 70.64it/s]\u001b[A\n",
      " 83%|████████▎ | 10719/12852 [02:31<00:30, 70.53it/s]\u001b[A\n",
      " 84%|████████▎ | 10739/12852 [02:32<00:29, 70.54it/s]\u001b[A\n",
      " 84%|████████▎ | 10748/12852 [02:32<00:29, 70.56it/s]\u001b[A\n",
      " 84%|████████▍ | 10773/12852 [02:32<00:29, 70.65it/s]\u001b[A\n",
      " 84%|████████▍ | 10788/12852 [02:32<00:29, 70.52it/s]\u001b[A\n",
      " 84%|████████▍ | 10813/12852 [02:33<00:28, 70.54it/s]\u001b[A\n",
      " 84%|████████▍ | 10835/12852 [02:33<00:28, 70.57it/s]\u001b[A\n",
      " 85%|████████▍ | 10875/12852 [02:34<00:28, 70.59it/s]\u001b[A\n",
      " 85%|████████▍ | 10891/12852 [02:34<00:27, 70.57it/s]\u001b[A\n",
      " 85%|████████▍ | 10914/12852 [02:34<00:27, 70.62it/s]\u001b[A\n",
      " 85%|████████▌ | 10950/12852 [02:35<00:26, 70.63it/s]\u001b[A\n",
      " 85%|████████▌ | 10968/12852 [02:35<00:26, 70.57it/s]\u001b[A\n",
      " 86%|████████▌ | 10999/12852 [02:35<00:26, 70.71it/s]\u001b[A\n",
      " 86%|████████▌ | 11016/12852 [02:36<00:26, 70.59it/s]\u001b[A\n",
      " 86%|████████▌ | 11038/12852 [02:36<00:25, 70.53it/s]\u001b[A\n",
      " 86%|████████▌ | 11046/12852 [02:36<00:25, 70.54it/s]\u001b[A\n",
      " 86%|████████▋ | 11101/12852 [02:37<00:24, 70.66it/s]\u001b[A\n",
      " 87%|████████▋ | 11118/12852 [02:37<00:24, 70.65it/s]\u001b[A\n",
      " 87%|████████▋ | 11139/12852 [02:37<00:24, 70.64it/s]\u001b[A\n",
      " 87%|████████▋ | 11148/12852 [02:37<00:24, 70.70it/s]\u001b[A\n",
      " 87%|████████▋ | 11181/12852 [02:38<00:23, 70.69it/s]\u001b[A\n",
      " 87%|████████▋ | 11202/12852 [02:38<00:23, 70.69it/s]\u001b[A\n",
      " 87%|████████▋ | 11211/12852 [02:38<00:23, 70.74it/s]\u001b[A\n",
      " 88%|████████▊ | 11246/12852 [02:38<00:22, 70.85it/s]\u001b[A\n",
      " 88%|████████▊ | 11264/12852 [02:39<00:22, 70.73it/s]\u001b[A\n",
      " 88%|████████▊ | 11290/12852 [02:39<00:22, 70.77it/s]\u001b[A\n",
      " 88%|████████▊ | 11329/12852 [02:39<00:21, 70.92it/s]\u001b[A\n",
      " 88%|████████▊ | 11344/12852 [02:40<00:21, 70.77it/s]\u001b[A\n",
      " 88%|████████▊ | 11361/12852 [02:40<00:21, 70.76it/s]\u001b[A\n",
      " 89%|████████▊ | 11404/12852 [02:40<00:20, 70.90it/s]\u001b[A\n",
      " 89%|████████▉ | 11422/12852 [02:41<00:20, 70.80it/s]\u001b[A\n",
      " 89%|████████▉ | 11439/12852 [02:41<00:19, 70.78it/s]\u001b[A\n",
      " 89%|████████▉ | 11474/12852 [02:41<00:19, 70.87it/s]\u001b[A\n",
      " 89%|████████▉ | 11492/12852 [02:42<00:19, 70.75it/s]\u001b[A\n",
      " 90%|████████▉ | 11514/12852 [02:42<00:18, 70.78it/s]\u001b[A\n",
      " 90%|████████▉ | 11524/12852 [02:42<00:18, 70.83it/s]\u001b[A\n",
      " 90%|████████▉ | 11551/12852 [02:42<00:18, 70.87it/s]\u001b[A\n",
      " 90%|█████████ | 11571/12852 [02:43<00:18, 70.73it/s]\u001b[A\n",
      " 90%|█████████ | 11579/12852 [02:43<00:17, 70.78it/s]\u001b[A\n",
      " 90%|█████████ | 11601/12852 [02:43<00:17, 70.84it/s]\u001b[A\n",
      " 90%|█████████ | 11619/12852 [02:44<00:17, 70.79it/s]\u001b[A\n",
      " 91%|█████████ | 11637/12852 [02:44<00:17, 70.73it/s]\u001b[A\n",
      " 91%|█████████ | 11660/12852 [02:44<00:16, 70.80it/s]\u001b[A\n",
      " 91%|█████████ | 11682/12852 [02:44<00:16, 70.84it/s]\u001b[A\n",
      " 91%|█████████ | 11701/12852 [02:45<00:16, 70.84it/s]\u001b[A\n",
      " 91%|█████████ | 11723/12852 [02:45<00:15, 70.78it/s]\u001b[A\n",
      " 91%|█████████▏| 11744/12852 [02:45<00:15, 70.82it/s]\u001b[A\n",
      " 92%|█████████▏| 11766/12852 [02:46<00:15, 70.87it/s]\u001b[A\n"
     ]
    },
    {
     "name": "stderr",
     "output_type": "stream",
     "text": [
      " 92%|█████████▏| 11808/12852 [02:46<00:14, 70.80it/s]\u001b[A\n",
      " 92%|█████████▏| 11853/12852 [02:46<00:14, 71.00it/s]\u001b[A\n",
      " 92%|█████████▏| 11873/12852 [02:47<00:13, 71.02it/s]\u001b[A\n",
      " 93%|█████████▎| 11893/12852 [02:47<00:13, 70.91it/s]\u001b[A\n",
      " 93%|█████████▎| 11912/12852 [02:48<00:13, 70.90it/s]\u001b[A\n",
      " 93%|█████████▎| 11921/12852 [02:48<00:13, 70.95it/s]\u001b[A\n",
      " 93%|█████████▎| 11954/12852 [02:48<00:12, 71.08it/s]\u001b[A\n",
      " 93%|█████████▎| 11977/12852 [02:48<00:12, 70.97it/s]\u001b[A\n",
      " 93%|█████████▎| 11998/12852 [02:48<00:12, 71.02it/s]\u001b[A\n",
      " 93%|█████████▎| 12015/12852 [02:49<00:11, 71.04it/s]\u001b[A\n",
      " 94%|█████████▎| 12034/12852 [02:49<00:11, 71.09it/s]\u001b[A\n",
      " 94%|█████████▍| 12058/12852 [02:50<00:11, 70.93it/s]\u001b[A\n",
      " 94%|█████████▍| 12067/12852 [02:50<00:11, 70.90it/s]\u001b[A\n",
      " 94%|█████████▍| 12135/12852 [02:50<00:10, 71.02it/s]\u001b[A\n",
      " 95%|█████████▍| 12149/12852 [02:51<00:09, 71.03it/s]\u001b[A\n",
      " 95%|█████████▍| 12186/12852 [02:51<00:09, 70.89it/s]\u001b[A\n",
      " 95%|█████████▍| 12207/12852 [02:52<00:09, 70.92it/s]\u001b[A\n",
      " 95%|█████████▌| 12217/12852 [02:52<00:08, 70.95it/s]\u001b[A\n",
      " 95%|█████████▌| 12254/12852 [02:52<00:08, 70.84it/s]\u001b[A\n",
      " 95%|█████████▌| 12262/12852 [02:52<00:08, 70.89it/s]\u001b[A\n",
      " 96%|█████████▌| 12292/12852 [02:53<00:07, 70.99it/s]\u001b[A\n",
      " 96%|█████████▌| 12325/12852 [02:53<00:07, 70.92it/s]\u001b[A\n",
      " 96%|█████████▋| 12376/12852 [02:54<00:06, 71.09it/s]\u001b[A\n",
      " 96%|█████████▋| 12394/12852 [02:54<00:06, 70.89it/s]\u001b[A\n",
      " 97%|█████████▋| 12455/12852 [02:55<00:05, 71.13it/s]\u001b[A\n",
      " 97%|█████████▋| 12473/12852 [02:55<00:05, 70.97it/s]\u001b[A\n",
      " 97%|█████████▋| 12489/12852 [02:56<00:05, 70.95it/s]\u001b[A\n",
      " 97%|█████████▋| 12500/12852 [02:56<00:04, 70.97it/s]\u001b[A\n",
      " 98%|█████████▊| 12547/12852 [02:56<00:04, 71.01it/s]\u001b[A\n",
      " 98%|█████████▊| 12564/12852 [02:56<00:04, 71.02it/s]\u001b[A\n",
      " 98%|█████████▊| 12573/12852 [02:57<00:03, 71.03it/s]\u001b[A\n",
      " 98%|█████████▊| 12601/12852 [02:57<00:03, 71.11it/s]\u001b[A\n",
      " 98%|█████████▊| 12618/12852 [02:57<00:03, 70.98it/s]\u001b[A\n",
      " 98%|█████████▊| 12630/12852 [02:58<00:03, 70.93it/s]\u001b[A\n",
      " 98%|█████████▊| 12638/12852 [02:58<00:03, 70.97it/s]\u001b[A\n",
      " 99%|█████████▊| 12661/12852 [02:58<00:02, 71.04it/s]\u001b[A\n",
      " 99%|█████████▊| 12683/12852 [02:58<00:02, 70.95it/s]\u001b[A\n",
      " 99%|█████████▉| 12696/12852 [02:59<00:02, 70.89it/s]\u001b[A\n",
      " 99%|█████████▉| 12704/12852 [02:59<00:02, 70.89it/s]\u001b[A\n",
      " 99%|█████████▉| 12754/12852 [02:59<00:01, 70.93it/s]\u001b[A\n",
      "100%|█████████▉| 12794/12852 [03:00<00:00, 71.00it/s]\u001b[A\n",
      "100%|█████████▉| 12832/12852 [03:00<00:00, 71.09it/s]\u001b[A\n",
      "100%|█████████▉| 12851/12852 [03:00<00:00, 71.07it/s]\u001b[A\n",
      "100%|██████████| 12852/12852 [03:00<00:00, 71.07it/s]\u001b[A"
     ]
    },
    {
     "name": "stdout",
     "output_type": "stream",
     "text": [
      "Total running time:  2:07:36.505677\n",
      "CPU times: user 3h 30min 52s, sys: 1min 32s, total: 3h 32min 25s\n",
      "Wall time: 2h 7min 36s\n"
     ]
    }
   ],
   "source": [
    "%%time\n",
    "model = Make_FastText_Model(modelPath = modelPath, data = x_train, size = 500, epoch = 20, \n",
    "                   sg = 1, window = 10, workers = cores, negative = 7, min_count = 2, word_ngrams = 3, \n",
    "                    cbow_mean = 0, hs = 0, tagger = 'mecab')\n"
   ]
  },
  {
   "cell_type": "code",
   "execution_count": 61,
   "metadata": {},
   "outputs": [],
   "source": [
    "del model "
   ]
  },
  {
   "cell_type": "code",
   "execution_count": null,
   "metadata": {},
   "outputs": [],
   "source": []
  },
  {
   "cell_type": "code",
   "execution_count": null,
   "metadata": {},
   "outputs": [],
   "source": []
  },
  {
   "cell_type": "code",
   "execution_count": null,
   "metadata": {},
   "outputs": [],
   "source": []
  }
 ],
 "metadata": {
  "kernelspec": {
   "display_name": "Python 3",
   "language": "python",
   "name": "python3"
  },
  "language_info": {
   "codemirror_mode": {
    "name": "ipython",
    "version": 3
   },
   "file_extension": ".py",
   "mimetype": "text/x-python",
   "name": "python",
   "nbconvert_exporter": "python",
   "pygments_lexer": "ipython3",
   "version": "3.6.4"
  }
 },
 "nbformat": 4,
 "nbformat_minor": 2
}
