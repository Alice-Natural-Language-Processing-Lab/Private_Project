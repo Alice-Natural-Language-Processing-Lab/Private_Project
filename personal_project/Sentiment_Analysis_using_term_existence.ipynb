{
 "cells": [
  {
   "cell_type": "markdown",
   "metadata": {},
   "source": [
    "# Sentiment Analysis\n",
    "> * Positive or Negative"
   ]
  },
  {
   "cell_type": "code",
   "execution_count": 1,
   "metadata": {},
   "outputs": [],
   "source": [
    "import os\n",
    "from glob import glob\n",
    "import pandas as pd\n",
    "import html\n",
    "import itertools\n",
    "import pickle\n",
    "import re\n",
    "from konlpy.tag import Mecab\n",
    "from konlpy.utils import pprint\n",
    "import numpy as np\n",
    "from ckonlpy.tag import Twitter as ctwitter\n",
    "from sklearn.model_selection import train_test_split"
   ]
  },
  {
   "cell_type": "markdown",
   "metadata": {},
   "source": [
    "## Term-existence"
   ]
  },
  {
   "cell_type": "markdown",
   "metadata": {},
   "source": [
    "### twitter"
   ]
  },
  {
   "cell_type": "code",
   "execution_count": null,
   "metadata": {},
   "outputs": [],
   "source": [
    "docs2 = pickle.load(open('./data/pre_data/pre_data_by_ct_for_sentiment_analysis.pickled','rb'))"
   ]
  },
  {
   "cell_type": "code",
   "execution_count": null,
   "metadata": {},
   "outputs": [],
   "source": [
    "train4, test4 = train_test_split(docs2, test_size=0.15, random_state=42)\n",
    "pickle.dump(train4, open('./data/pre_data/pre_data_train4_for_term_existence_by_ct.pickled','wb'))\n",
    "pickle.dump(test4, open('./data/pre_data/pre_data_test4_for_term_existence_by_ct.pickled','wb'))"
   ]
  },
  {
   "cell_type": "code",
   "execution_count": null,
   "metadata": {},
   "outputs": [],
   "source": [
    "tokens2 = [t for d in docs2 for t in d[0]]\n",
    "pickle.dump(tokens2, open('./data/pre_data/pre_data_tokens_by_ct.pickled','wb'))\n",
    "print(len(tokens2))"
   ]
  },
  {
   "cell_type": "code",
   "execution_count": null,
   "metadata": {},
   "outputs": [],
   "source": [
    "tokens2 = pickle.load(open('./data/pre_data/pre_data_tokens_by_ct.pickled','rb'))"
   ]
  },
  {
   "cell_type": "code",
   "execution_count": null,
   "metadata": {},
   "outputs": [],
   "source": [
    "import nltk\n",
    "text2 = nltk.Text(tokens2, name='rawdata2')\n",
    "pickle.dump(text2, open('./data/pre_data/pre_data_nltk_text_by_ct.pickled','wb'))\n",
    "print(text2)"
   ]
  },
  {
   "cell_type": "code",
   "execution_count": null,
   "metadata": {},
   "outputs": [],
   "source": [
    "import nltk\n",
    "text2 = pickle.load(open('./data/pre_data/pre_data_nltk_text_by_ct.pickled','rb'))"
   ]
  },
  {
   "cell_type": "code",
   "execution_count": null,
   "metadata": {},
   "outputs": [],
   "source": [
    "print(len(text2.tokens))                 # returns number of tokens\n",
    "print(len(set(text2.tokens)))            # returns number of unique tokens\n",
    "pprint(text2.vocab().most_common(10))"
   ]
  },
  {
   "cell_type": "code",
   "execution_count": null,
   "metadata": {},
   "outputs": [],
   "source": [
    "selected_words2 = [f[0] for f in text2.vocab().most_common(3000)]\n",
    "def term_exists2(doc):\n",
    "    return {'exists({})'.format(word): (word in set(doc)) for word in selected_words2}\n",
    "pickle.dump(selected_words2, open('./data/pre_data/pre_data_selected_words_by_ct.pickled','wb'))"
   ]
  },
  {
   "cell_type": "code",
   "execution_count": 2,
   "metadata": {},
   "outputs": [],
   "source": [
    "selected_words2 = pickle.load(open('./data/pre_data/pre_data_selected_words_by_ct.pickled','rb'))"
   ]
  },
  {
   "cell_type": "code",
   "execution_count": 3,
   "metadata": {},
   "outputs": [],
   "source": [
    "train4 = pickle.load(open('./data/pre_data/pre_data_train4_for_term_existence_by_ct.pickled','rb'))\n",
    "test4 = pickle.load(open('./data/pre_data/pre_data_test4_for_term_existence_by_ct.pickled','rb'))"
   ]
  },
  {
   "cell_type": "code",
   "execution_count": 4,
   "metadata": {},
   "outputs": [],
   "source": [
    "def term_exists2(doc):\n",
    "    return {'exists({})'.format(word): (word in set(doc)) for word in selected_words2}"
   ]
  },
  {
   "cell_type": "code",
   "execution_count": null,
   "metadata": {},
   "outputs": [],
   "source": [
    "train_xy2 = [(term_exists2(d), c) for d, c in train4[:15000]]\n",
    "pickle.dump(train_xy2, open('./data/pre_data/pre_data_term_exists_by_ct_train.pickled','wb'))"
   ]
  },
  {
   "cell_type": "code",
   "execution_count": 6,
   "metadata": {},
   "outputs": [],
   "source": [
    "test_xy2 = [(term_exists2(d), c) for d, c in test4[:10000]]\n",
    "pickle.dump(test_xy2, open('./data/pre_data/pre_data_term_exists_by_ct_test.pickled','wb'))"
   ]
  },
  {
   "cell_type": "code",
   "execution_count": 7,
   "metadata": {},
   "outputs": [],
   "source": [
    "train_xy2 = pickle.load(open('./data/pre_data/pre_data_term_exists_by_ct_train.pickled','rb'))\n",
    "test_xy2 = pickle.load(open('./data/pre_data/pre_data_term_exists_by_ct_test.pickled','rb'))"
   ]
  },
  {
   "cell_type": "code",
   "execution_count": 9,
   "metadata": {},
   "outputs": [
    {
     "name": "stdout",
     "output_type": "stream",
     "text": [
      "0.6116\n",
      "Most Informative Features\n",
      "       exists(com/Alpha) = True                1 : 0      =     71.4 : 1.0\n",
      "         exists(논쟁/Noun) = True                0 : 1      =     67.1 : 1.0\n",
      "         exists(전락/Noun) = True                0 : 1      =     49.2 : 1.0\n",
      "         exists(무단/Noun) = True                0 : 1      =     46.1 : 1.0\n",
      "         exists(전재/Noun) = True                0 : 1      =     45.6 : 1.0\n",
      "         exists(금지/Noun) = True                0 : 1      =     37.1 : 1.0\n",
      "         exists(반발/Noun) = True                0 : 1      =     36.4 : 1.0\n",
      "         exists(의혹/Noun) = True                0 : 1      =     35.4 : 1.0\n",
      "         exists(혐의/Noun) = True                0 : 1      =     33.2 : 1.0\n",
      "         exists(불법/Noun) = True                0 : 1      =     30.6 : 1.0\n",
      "         exists(배포/Noun) = True                0 : 1      =     30.6 : 1.0\n",
      "        exists(잘못된/Verb) = True                0 : 1      =     29.9 : 1.0\n",
      "         exists(비난/Noun) = True                0 : 1      =     29.8 : 1.0\n",
      "        exists(비판했/Verb) = True                0 : 1      =     29.4 : 1.0\n",
      "    exists(mk.co.kr/URL) = True                0 : 1      =     28.5 : 1.0\n",
      "         exists(비리/Noun) = True                0 : 1      =     27.7 : 1.0\n",
      "         exists(낭비/Noun) = True                0 : 1      =     26.2 : 1.0\n",
      "         exists(공세/Noun) = True                0 : 1      =     25.7 : 1.0\n",
      "         exists(파문/Noun) = True                0 : 1      =     25.4 : 1.0\n",
      "         exists(독재/Noun) = True                0 : 1      =     23.9 : 1.0\n",
      "          exists(불/Verb) = True                0 : 1      =     23.2 : 1.0\n",
      "         exists(잘못/Noun) = True                0 : 1      =     22.8 : 1.0\n",
      "         exists(위반/Noun) = True                0 : 1      =     22.5 : 1.0\n",
      "         exists(사퇴/Noun) = True                0 : 1      =     22.4 : 1.0\n",
      "         exists(최악/Noun) = True                0 : 1      =     22.1 : 1.0\n",
      "         exists(비판/Noun) = True                0 : 1      =     22.1 : 1.0\n",
      "         exists(추락/Noun) = True                0 : 1      =     21.3 : 1.0\n",
      "       exists(지역감정/Noun) = True                0 : 1      =     19.5 : 1.0\n",
      "         exists(이탈/Noun) = True                0 : 1      =     19.2 : 1.0\n",
      "         exists(불참/Noun) = True                0 : 1      =     19.1 : 1.0\n",
      "         exists(배제/Noun) = True                0 : 1      =     18.3 : 1.0\n",
      "        exists(악순환/Noun) = True                0 : 1      =     18.2 : 1.0\n",
      "         exists(파업/Noun) = True                0 : 1      =     18.0 : 1.0\n",
      "         exists(반박/Noun) = True                0 : 1      =     17.6 : 1.0\n",
      "         exists(폭탄/Noun) = True                0 : 1      =     16.6 : 1.0\n",
      "         exists(강행/Noun) = True                0 : 1      =     16.4 : 1.0\n",
      "       exists(비정규직/Noun) = True                0 : 1      =     15.6 : 1.0\n",
      "         exists(거부/Noun) = True                0 : 1      =     15.1 : 1.0\n",
      "        exists(실패했/Verb) = True                0 : 1      =     15.1 : 1.0\n",
      "         exists(논란/Noun) = True                0 : 1      =     14.4 : 1.0\n",
      "         exists(투쟁/Noun) = True                0 : 1      =     14.4 : 1.0\n",
      "         exists(유출/Noun) = True                0 : 1      =     14.2 : 1.0\n",
      "        exists(문제점/Noun) = True                0 : 1      =     13.8 : 1.0\n",
      "         exists(손실/Noun) = True                0 : 1      =     13.5 : 1.0\n",
      "         exists(악화/Noun) = True                0 : 1      =     13.4 : 1.0\n",
      "         exists(탈락/Noun) = True                0 : 1      =     13.2 : 1.0\n",
      "        exists(쓰레기/Noun) = True                0 : 1      =     12.9 : 1.0\n",
      "    exists(아깝/Adjective) = True                0 : 1      =     12.9 : 1.0\n",
      "   exists(재미없/Adjective) = True                0 : 1      =     12.5 : 1.0\n",
      "         exists(안된/Verb) = True                0 : 1      =     12.3 : 1.0\n"
     ]
    }
   ],
   "source": [
    "import nltk\n",
    "classifier2 = nltk.NaiveBayesClassifier.train(train_xy2)\n",
    "pickle.dump(classifier2, open('./data/pre_data/pre_data_classifier_by_ct.pickled','wb'))\n",
    "print(nltk.classify.accuracy(classifier2, test_xy2))\n",
    "# => 0.80418\n",
    "classifier2.show_most_informative_features(50)"
   ]
  },
  {
   "cell_type": "code",
   "execution_count": null,
   "metadata": {},
   "outputs": [],
   "source": []
  },
  {
   "cell_type": "markdown",
   "metadata": {},
   "source": [
    "### mecab"
   ]
  },
  {
   "cell_type": "code",
   "execution_count": null,
   "metadata": {},
   "outputs": [],
   "source": [
    "docs = pickle.load(open('./data/pre_data/pre_data_by_mecab_for_sentiment_analysis.pickled','rb'))"
   ]
  },
  {
   "cell_type": "code",
   "execution_count": null,
   "metadata": {},
   "outputs": [],
   "source": [
    "train3, test3 = train_test_split(docs, test_size=0.15, random_state=42)\n",
    "pickle.dump(train3, open('./data/pre_data/pre_data_train3_for_term_existence_by_mecab.pickled','wb'))\n",
    "pickle.dump(test3, open('./data/pre_data/pre_data_test3_for_term_existence_by_mecab.pickled','wb'))"
   ]
  },
  {
   "cell_type": "code",
   "execution_count": null,
   "metadata": {},
   "outputs": [],
   "source": [
    "tokens = [t for d in docs for t in d[0]]\n",
    "pickle.dump(tokens, open('./data/pre_data/pre_data_tokens_by_mecab.pickled','wb'))\n",
    "print(len(tokens))"
   ]
  },
  {
   "cell_type": "code",
   "execution_count": null,
   "metadata": {},
   "outputs": [],
   "source": [
    "tokens = pickle.load(open('./data/pre_data/pre_data_tokens_by_mecab.pickled','rb'))\n",
    "print(len(tokens))"
   ]
  },
  {
   "cell_type": "code",
   "execution_count": null,
   "metadata": {},
   "outputs": [],
   "source": [
    "import nltk\n",
    "text = nltk.Text(tokens, name='rawdata')\n",
    "pickle.dump(text, open('./data/pre_data/pre_data_nltk_text_by_mecab.pickled','wb'))\n",
    "print(text)"
   ]
  },
  {
   "cell_type": "code",
   "execution_count": null,
   "metadata": {},
   "outputs": [],
   "source": [
    "import nltk\n",
    "text = pickle.load(open('./data/pre_data/pre_data_nltk_text_by_mecab.pickled','rb'))\n",
    "print(text)"
   ]
  },
  {
   "cell_type": "code",
   "execution_count": null,
   "metadata": {},
   "outputs": [],
   "source": [
    "print(len(text.tokens))                 # returns number of tokens\n",
    "print(len(set(text.tokens)))            # returns number of unique tokens\n",
    "pprint(text.vocab().most_common(10))"
   ]
  },
  {
   "cell_type": "code",
   "execution_count": null,
   "metadata": {},
   "outputs": [],
   "source": [
    "selected_words = [f[0] for f in text.vocab().most_common(3000)]\n",
    "def term_exists(doc):\n",
    "    return {'exists({})'.format(word): (word in set(doc)) for word in selected_words}\n",
    "pickle.dump(selected_words, open('./data/pre_data/pre_data_selected_words_by_mecab.pickled','wb'))"
   ]
  },
  {
   "cell_type": "code",
   "execution_count": 10,
   "metadata": {},
   "outputs": [],
   "source": [
    "selected_words = pickle.load(open('./data/pre_data/pre_data_selected_words_by_mecab.pickled','rb'))"
   ]
  },
  {
   "cell_type": "code",
   "execution_count": 11,
   "metadata": {},
   "outputs": [],
   "source": [
    "train3 = pickle.load(open('./data/pre_data/pre_data_train3_for_term_existence_by_mecab.pickled','rb'))\n",
    "test3 = pickle.load(open('./data/pre_data/pre_data_test3_for_term_existence_by_mecab.pickled','rb'))"
   ]
  },
  {
   "cell_type": "code",
   "execution_count": 12,
   "metadata": {},
   "outputs": [],
   "source": [
    "def term_exists(doc):\n",
    "    return {'exists({})'.format(word): (word in set(doc)) for word in selected_words}"
   ]
  },
  {
   "cell_type": "code",
   "execution_count": 13,
   "metadata": {},
   "outputs": [],
   "source": [
    "train_xy = [(term_exists(d), c) for d, c in train3[:15000]]\n",
    "pickle.dump(train_xy, open('./data/pre_data/pre_data_term_exists_by_mecab_train.pickled','wb'))"
   ]
  },
  {
   "cell_type": "code",
   "execution_count": 14,
   "metadata": {},
   "outputs": [],
   "source": [
    "test_xy = [(term_exists(d), c) for d, c in test3[:10000]]\n",
    "pickle.dump(test_xy, open('./data/pre_data/pre_data_term_exists_by_mecab_test.pickled','wb'))"
   ]
  },
  {
   "cell_type": "code",
   "execution_count": 15,
   "metadata": {},
   "outputs": [],
   "source": [
    "train_xy = pickle.load(open('./data/pre_data/pre_data_term_exists_by_mecab_train.pickled','rb'))\n",
    "test_xy = pickle.load(open('./data/pre_data/pre_data_term_exists_by_mecab_test.pickled','rb'))"
   ]
  },
  {
   "cell_type": "code",
   "execution_count": 16,
   "metadata": {},
   "outputs": [
    {
     "name": "stdout",
     "output_type": "stream",
     "text": [
      "0.6113\n",
      "Most Informative Features\n",
      "          exists(논쟁/NNG) = True                0 : 1      =     66.5 : 1.0\n",
      "          exists(전락/NNG) = True                0 : 1      =     47.9 : 1.0\n",
      "          exists(무단/NNG) = True                0 : 1      =     46.0 : 1.0\n",
      "         exists(재배포/NNP) = True                0 : 1      =     45.6 : 1.0\n",
      "          exists(비난/NNG) = True                0 : 1      =     41.8 : 1.0\n",
      "          exists(전재/NNG) = True                0 : 1      =     41.2 : 1.0\n",
      "          exists(위반/NNG) = True                0 : 1      =     40.5 : 1.0\n",
      "          exists(파문/NNG) = True                0 : 1      =     36.8 : 1.0\n",
      "          exists(반발/NNG) = True                0 : 1      =     36.4 : 1.0\n",
      "          exists(의혹/NNG) = True                0 : 1      =     34.5 : 1.0\n",
      "          exists(혐의/NNG) = True                0 : 1      =     33.6 : 1.0\n",
      "          exists(금지/NNG) = True                0 : 1      =     33.3 : 1.0\n",
      "          exists(불법/NNG) = True                0 : 1      =     31.7 : 1.0\n",
      "          exists(구속/NNG) = True                0 : 1      =     28.8 : 1.0\n",
      "           exists(mk/SL) = True                0 : 1      =     28.5 : 1.0\n",
      "          exists(잘못/MAG) = True                0 : 1      =     28.4 : 1.0\n",
      "          exists(비리/NNG) = True                0 : 1      =     27.7 : 1.0\n",
      "          exists(사퇴/NNG) = True                0 : 1      =     27.4 : 1.0\n",
      "          exists(충돌/NNG) = True                0 : 1      =     26.5 : 1.0\n",
      "          exists(낭비/NNG) = True                0 : 1      =     24.7 : 1.0\n",
      "          exists(공세/NNG) = True                0 : 1      =     24.4 : 1.0\n",
      "         exists(악영향/NNG) = True                0 : 1      =     22.5 : 1.0\n",
      "          exists(강행/NNG) = True                0 : 1      =     20.8 : 1.0\n",
      "         exists(악순환/NNG) = True                0 : 1      =     20.5 : 1.0\n",
      "          exists(추락/NNG) = True                0 : 1      =     20.5 : 1.0\n",
      "          exists(최악/NNG) = True                0 : 1      =     20.2 : 1.0\n",
      "          exists(비판/NNG) = True                0 : 1      =     19.7 : 1.0\n",
      "          exists(불참/NNG) = True                0 : 1      =     19.1 : 1.0\n",
      "          exists(사망/NNG) = True                0 : 1      =     19.1 : 1.0\n",
      "          exists(배제/NNG) = True                0 : 1      =     18.4 : 1.0\n",
      "        exists(비정규직/NNG) = True                0 : 1      =     18.2 : 1.0\n",
      "          exists(이탈/NNG) = True                0 : 1      =     17.9 : 1.0\n",
      "          exists(반박/NNG) = True                0 : 1      =     17.8 : 1.0\n",
      "          exists(파업/NNG) = True                0 : 1      =     17.6 : 1.0\n",
      "          exists(폭탄/NNG) = True                0 : 1      =     16.6 : 1.0\n",
      "       exists(어려워/VA+EC) = True                0 : 1      =     16.1 : 1.0\n",
      "          exists(잘못/NNG) = True                0 : 1      =     15.2 : 1.0\n",
      "          exists(재미없/VA) = True                0 : 1      =     14.8 : 1.0\n",
      "          exists(논란/NNG) = True                0 : 1      =     14.7 : 1.0\n",
      "          exists(저항/NNG) = True                0 : 1      =     14.7 : 1.0\n",
      "         exists(문제점/NNG) = True                0 : 1      =     14.5 : 1.0\n",
      "        exists(경기침체/NNP) = True                0 : 1      =     14.2 : 1.0\n",
      "          exists(강제/NNG) = True                0 : 1      =     14.2 : 1.0\n",
      "          exists(악화/NNG) = True                0 : 1      =     13.8 : 1.0\n",
      "          exists(손실/NNG) = True                0 : 1      =     13.7 : 1.0\n",
      "          exists(피해/NNG) = True                0 : 1      =     13.3 : 1.0\n",
      "           exists(아깝/VA) = True                0 : 1      =     12.8 : 1.0\n",
      "          exists(좌절/NNG) = True                0 : 1      =     12.7 : 1.0\n",
      "          exists(탈락/NNG) = True                0 : 1      =     12.6 : 1.0\n",
      "         exists(쓰레기/NNG) = True                0 : 1      =     12.5 : 1.0\n"
     ]
    }
   ],
   "source": [
    "import nltk\n",
    "classifier = nltk.NaiveBayesClassifier.train(train_xy)\n",
    "pickle.dump(classifier, open('./data/pre_data/pre_data_classifier_by_mecab.pickled','wb'))\n",
    "print(nltk.classify.accuracy(classifier, test_xy))\n",
    "# => 0.80418\n",
    "classifier.show_most_informative_features(50)"
   ]
  },
  {
   "cell_type": "code",
   "execution_count": null,
   "metadata": {},
   "outputs": [],
   "source": []
  }
 ],
 "metadata": {
  "kernelspec": {
   "display_name": "Python 3",
   "language": "python",
   "name": "python3"
  },
  "language_info": {
   "codemirror_mode": {
    "name": "ipython",
    "version": 3
   },
   "file_extension": ".py",
   "mimetype": "text/x-python",
   "name": "python",
   "nbconvert_exporter": "python",
   "pygments_lexer": "ipython3",
   "version": "3.6.4"
  }
 },
 "nbformat": 4,
 "nbformat_minor": 2
}
