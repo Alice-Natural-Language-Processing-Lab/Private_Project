{
 "cells": [
  {
   "cell_type": "markdown",
   "metadata": {},
   "source": [
    "# Sentiment Analysis\n",
    "> * Positive or Negative"
   ]
  },
  {
   "cell_type": "code",
   "execution_count": 2,
   "metadata": {},
   "outputs": [
    {
     "name": "stderr",
     "output_type": "stream",
     "text": [
      "C:\\Users\\pc\\Anaconda3\\lib\\site-packages\\gensim\\utils.py:860: UserWarning: detected Windows; aliasing chunkize to chunkize_serial\n",
      "  warnings.warn(\"detected Windows; aliasing chunkize to chunkize_serial\")\n"
     ]
    }
   ],
   "source": [
    "import os\n",
    "from glob import glob\n",
    "import pandas as pd\n",
    "import html\n",
    "import itertools\n",
    "import pickle\n",
    "import re\n",
    "\n",
    "from collections import namedtuple\n",
    "from gensim.models import doc2vec\n",
    "import multiprocessing\n",
    "from konlpy.tag import Mecab\n",
    "from konlpy.utils import pprint\n",
    "import numpy as np\n",
    "from ckonlpy.tag import Twitter as ctwitter\n",
    "from sklearn.model_selection import train_test_split\n",
    "from sklearn.linear_model import LogisticRegression\n",
    "from gensim.models.doc2vec import TaggedDocument\n",
    "mecab = Mecab()\n",
    "ct = ctwitter()"
   ]
  },
  {
   "cell_type": "markdown",
   "metadata": {},
   "source": [
    "## Term-existence"
   ]
  },
  {
   "cell_type": "markdown",
   "metadata": {},
   "source": [
    "### mecab"
   ]
  },
  {
   "cell_type": "code",
   "execution_count": 5,
   "metadata": {},
   "outputs": [
    {
     "ename": "KeyboardInterrupt",
     "evalue": "",
     "output_type": "error",
     "traceback": [
      "\u001b[1;31m---------------------------------------------------------------------------\u001b[0m",
      "\u001b[1;31mKeyboardInterrupt\u001b[0m                         Traceback (most recent call last)",
      "\u001b[1;32m<ipython-input-5-63f2aa7d62c2>\u001b[0m in \u001b[0;36m<module>\u001b[1;34m()\u001b[0m\n\u001b[1;32m----> 1\u001b[1;33m \u001b[0mdocs\u001b[0m \u001b[1;33m=\u001b[0m \u001b[1;33m[\u001b[0m\u001b[1;33m(\u001b[0m\u001b[0mtokenize\u001b[0m\u001b[1;33m(\u001b[0m\u001b[0mtotalData\u001b[0m\u001b[1;33m.\u001b[0m\u001b[0mloc\u001b[0m\u001b[1;33m[\u001b[0m\u001b[0midx\u001b[0m\u001b[1;33m]\u001b[0m\u001b[1;33m[\u001b[0m\u001b[1;36m0\u001b[0m\u001b[1;33m]\u001b[0m\u001b[1;33m)\u001b[0m\u001b[1;33m,\u001b[0m \u001b[0mtotalData\u001b[0m\u001b[1;33m.\u001b[0m\u001b[0mloc\u001b[0m\u001b[1;33m[\u001b[0m\u001b[0midx\u001b[0m\u001b[1;33m]\u001b[0m\u001b[1;33m[\u001b[0m\u001b[1;36m1\u001b[0m\u001b[1;33m]\u001b[0m\u001b[1;33m)\u001b[0m \u001b[1;32mfor\u001b[0m \u001b[0midx\u001b[0m \u001b[1;32min\u001b[0m \u001b[0mtotalData\u001b[0m\u001b[1;33m.\u001b[0m\u001b[0mindex\u001b[0m\u001b[1;33m]\u001b[0m\u001b[1;33m\u001b[0m\u001b[0m\n\u001b[0m",
      "\u001b[1;32m<ipython-input-5-63f2aa7d62c2>\u001b[0m in \u001b[0;36m<listcomp>\u001b[1;34m(.0)\u001b[0m\n\u001b[1;32m----> 1\u001b[1;33m \u001b[0mdocs\u001b[0m \u001b[1;33m=\u001b[0m \u001b[1;33m[\u001b[0m\u001b[1;33m(\u001b[0m\u001b[0mtokenize\u001b[0m\u001b[1;33m(\u001b[0m\u001b[0mtotalData\u001b[0m\u001b[1;33m.\u001b[0m\u001b[0mloc\u001b[0m\u001b[1;33m[\u001b[0m\u001b[0midx\u001b[0m\u001b[1;33m]\u001b[0m\u001b[1;33m[\u001b[0m\u001b[1;36m0\u001b[0m\u001b[1;33m]\u001b[0m\u001b[1;33m)\u001b[0m\u001b[1;33m,\u001b[0m \u001b[0mtotalData\u001b[0m\u001b[1;33m.\u001b[0m\u001b[0mloc\u001b[0m\u001b[1;33m[\u001b[0m\u001b[0midx\u001b[0m\u001b[1;33m]\u001b[0m\u001b[1;33m[\u001b[0m\u001b[1;36m1\u001b[0m\u001b[1;33m]\u001b[0m\u001b[1;33m)\u001b[0m \u001b[1;32mfor\u001b[0m \u001b[0midx\u001b[0m \u001b[1;32min\u001b[0m \u001b[0mtotalData\u001b[0m\u001b[1;33m.\u001b[0m\u001b[0mindex\u001b[0m\u001b[1;33m]\u001b[0m\u001b[1;33m\u001b[0m\u001b[0m\n\u001b[0m",
      "\u001b[1;32m<ipython-input-4-7565bd6c7a8a>\u001b[0m in \u001b[0;36mtokenize\u001b[1;34m(doc)\u001b[0m\n\u001b[0;32m      1\u001b[0m \u001b[1;32mdef\u001b[0m \u001b[0mtokenize\u001b[0m\u001b[1;33m(\u001b[0m\u001b[0mdoc\u001b[0m\u001b[1;33m)\u001b[0m\u001b[1;33m:\u001b[0m\u001b[1;33m\u001b[0m\u001b[0m\n\u001b[1;32m----> 2\u001b[1;33m     \u001b[1;32mreturn\u001b[0m \u001b[1;33m[\u001b[0m\u001b[1;34m'/'\u001b[0m\u001b[1;33m.\u001b[0m\u001b[0mjoin\u001b[0m\u001b[1;33m(\u001b[0m\u001b[0mt\u001b[0m\u001b[1;33m)\u001b[0m \u001b[1;32mfor\u001b[0m \u001b[0mt\u001b[0m \u001b[1;32min\u001b[0m \u001b[0mmecab\u001b[0m\u001b[1;33m.\u001b[0m\u001b[0mpos\u001b[0m\u001b[1;33m(\u001b[0m\u001b[0mdoc\u001b[0m\u001b[1;33m)\u001b[0m\u001b[1;33m]\u001b[0m\u001b[1;33m\u001b[0m\u001b[0m\n\u001b[0m",
      "\u001b[1;32m~\\Anaconda3\\lib\\site-packages\\konlpy\\tag\\_mecab.py\u001b[0m in \u001b[0;36mpos\u001b[1;34m(self, phrase, flatten)\u001b[0m\n\u001b[0;32m     81\u001b[0m         \u001b[1;32melse\u001b[0m\u001b[1;33m:\u001b[0m\u001b[1;33m\u001b[0m\u001b[0m\n\u001b[0;32m     82\u001b[0m             \u001b[1;32mif\u001b[0m \u001b[0mflatten\u001b[0m\u001b[1;33m:\u001b[0m\u001b[1;33m\u001b[0m\u001b[0m\n\u001b[1;32m---> 83\u001b[1;33m                 \u001b[0mresult\u001b[0m \u001b[1;33m=\u001b[0m \u001b[0mself\u001b[0m\u001b[1;33m.\u001b[0m\u001b[0mtagger\u001b[0m\u001b[1;33m.\u001b[0m\u001b[0mparse\u001b[0m\u001b[1;33m(\u001b[0m\u001b[0mphrase\u001b[0m\u001b[1;33m)\u001b[0m\u001b[1;33m\u001b[0m\u001b[0m\n\u001b[0m\u001b[0;32m     84\u001b[0m                 \u001b[1;32mreturn\u001b[0m \u001b[0mparse\u001b[0m\u001b[1;33m(\u001b[0m\u001b[0mresult\u001b[0m\u001b[1;33m)\u001b[0m\u001b[1;33m\u001b[0m\u001b[0m\n\u001b[0;32m     85\u001b[0m             \u001b[1;32melse\u001b[0m\u001b[1;33m:\u001b[0m\u001b[1;33m\u001b[0m\u001b[0m\n",
      "\u001b[1;31mKeyboardInterrupt\u001b[0m: "
     ]
    }
   ],
   "source": [
    "docs = pickle.load(open('./data/pre_data/pre_data_by_mecab_for_sentiment_analysis.pickled','rb'))"
   ]
  },
  {
   "cell_type": "code",
   "execution_count": null,
   "metadata": {},
   "outputs": [],
   "source": [
    "tokens = [t for d in docs for t in d[0]]\n",
    "pickle.dump(tokens, open('./data/pre_data/pre_data_tokens_by_mecab.pickled','wb'))\n",
    "print(len(tokens))"
   ]
  },
  {
   "cell_type": "code",
   "execution_count": null,
   "metadata": {},
   "outputs": [],
   "source": [
    "import nltk\n",
    "text = nltk.Text(tokens, name='rawdata')\n",
    "pickle.dump(text, open('./data/pre_data/pre_data_nltk_text_by_mecab.pickled','wb'))\n",
    "print(text)"
   ]
  },
  {
   "cell_type": "code",
   "execution_count": null,
   "metadata": {},
   "outputs": [],
   "source": [
    "print(len(text.tokens))                 # returns number of tokens\n",
    "print(len(set(text.tokens)))            # returns number of unique tokens\n",
    "pprint(text.vocab().most_common(10))"
   ]
  },
  {
   "cell_type": "code",
   "execution_count": null,
   "metadata": {},
   "outputs": [],
   "source": [
    "selected_words = [f[0] for f in text.vocab().most_common(3000)]\n",
    "def term_exists(doc):\n",
    "    return {'exists({})'.format(word): (word in set(doc)) for word in selected_words}\n",
    "pickle.dump(selected_words, open('./data/pre_data/pre_data_selected_words_by_mecab.pickled','wb'))"
   ]
  },
  {
   "cell_type": "code",
   "execution_count": null,
   "metadata": {},
   "outputs": [],
   "source": [
    "train3 = pickle.load(open('./data/pre_data/pre_by_mecab_train.pickled','rb'))\n",
    "test3 = pickle.load(open('./data/pre_data/pre_by_mecab_test.pickled','rb'))"
   ]
  },
  {
   "cell_type": "code",
   "execution_count": null,
   "metadata": {},
   "outputs": [],
   "source": [
    "train_xy = [(term_exists(d), c) for d, c in train3]\n",
    "pickle.dump(train_xy, open('./data/pre_data/pre_data_term_exists_by_mecab_train.pickled','wb'))\n",
    "test_xy = [(term_exists(d), c) for d, c in test3]\n",
    "pickle.dump(test_xy, open('./data/pre_data/pre_data_term_exists_by_mecab_test.pickled','wb'))"
   ]
  },
  {
   "cell_type": "code",
   "execution_count": 13,
   "metadata": {},
   "outputs": [
    {
     "name": "stdout",
     "output_type": "stream",
     "text": [
      "0.624333333333\n",
      "Most Informative Features\n",
      "          exists(비난/NNG) = True                0 : 1      =    108.1 : 1.0\n",
      "         exists(재배포/NNP) = True                0 : 1      =     81.0 : 1.0\n",
      "          exists(무단/NNG) = True                0 : 1      =     80.8 : 1.0\n",
      "          exists(전재/NNG) = True                0 : 1      =     68.4 : 1.0\n",
      "          exists(금지/NNG) = True                0 : 1      =     52.6 : 1.0\n",
      "          exists(최악/NNG) = True                0 : 1      =     44.7 : 1.0\n",
      "            exists(ⓒ/SY) = True                0 : 1      =     43.0 : 1.0\n",
      "   exists(heraldcorp/SL) = True                1 : 0      =     40.8 : 1.0\n",
      "          exists(반발/NNG) = True                0 : 1      =     28.8 : 1.0\n",
      "          exists(공세/NNG) = True                0 : 1      =     28.4 : 1.0\n",
      "          exists(악재/NNG) = True                0 : 1      =     27.6 : 1.0\n",
      "          exists(비리/NNG) = True                0 : 1      =     27.2 : 1.0\n",
      "          exists(압박/NNG) = True                0 : 1      =     25.0 : 1.0\n",
      "          exists(의혹/NNG) = True                0 : 1      =     20.0 : 1.0\n",
      "          exists(독재/NNG) = True                0 : 1      =     18.3 : 1.0\n",
      "          exists(무시/NNG) = True                0 : 1      =     17.9 : 1.0\n",
      "          exists(피해/NNG) = True                0 : 1      =     17.8 : 1.0\n",
      "          exists(비판/NNG) = True                0 : 1      =     16.0 : 1.0\n",
      "          exists(별로/MAG) = True                0 : 1      =     15.8 : 1.0\n",
      "          exists(거부/NNG) = True                0 : 1      =     15.7 : 1.0\n",
      "          exists(계파/NNG) = True                0 : 1      =     15.6 : 1.0\n",
      "          exists(불만/NNG) = True                0 : 1      =     15.4 : 1.0\n",
      "          exists(혐의/NNG) = True                0 : 1      =     15.1 : 1.0\n",
      "          exists(재미없/VA) = True                0 : 1      =     14.2 : 1.0\n",
      "          exists(배제/NNG) = True                0 : 1      =     14.1 : 1.0\n",
      "           exists(mk/SL) = True                0 : 1      =     13.9 : 1.0\n",
      "        exists(못해/VX+EC) = True                0 : 1      =     13.8 : 1.0\n",
      "          exists(논란/NNG) = True                0 : 1      =     13.7 : 1.0\n",
      "          exists(사퇴/NNG) = True                0 : 1      =     12.6 : 1.0\n",
      "          exists(무리/NNG) = True                0 : 1      =     12.5 : 1.0\n",
      "          exists(불법/NNG) = True                0 : 1      =     11.5 : 1.0\n",
      "          exists(탈락/NNG) = True                0 : 1      =     11.3 : 1.0\n",
      "          exists(악화/NNG) = True                0 : 1      =     11.0 : 1.0\n",
      "          exists(부실/NNG) = True                0 : 1      =     10.9 : 1.0\n",
      "          exists(투쟁/NNG) = True                0 : 1      =     10.5 : 1.0\n",
      "          exists(패배/NNG) = True                0 : 1      =     10.1 : 1.0\n",
      "          exists(혼란/NNG) = True                0 : 1      =      9.9 : 1.0\n",
      "         exists(부작용/NNG) = True                0 : 1      =      9.9 : 1.0\n",
      "           exists(못하/VX) = True                0 : 1      =      9.9 : 1.0\n",
      "         exists(쓰레기/NNG) = True                0 : 1      =      9.8 : 1.0\n",
      "       exists(떨어졌/VV+EP) = True                0 : 1      =      9.8 : 1.0\n",
      "        exists(경기침체/NNP) = True                0 : 1      =      9.6 : 1.0\n",
      "          exists(위협/NNG) = True                0 : 1      =      9.3 : 1.0\n",
      "          exists(논쟁/NNG) = True                0 : 1      =      9.2 : 1.0\n",
      "          exists(응원/NNG) = True                1 : 0      =      8.7 : 1.0\n",
      "          exists(실망/NNG) = True                0 : 1      =      8.7 : 1.0\n",
      "           exists(심각/XR) = True                0 : 1      =      8.5 : 1.0\n",
      "           exists(어렵/VA) = True                0 : 1      =      7.9 : 1.0\n",
      "          exists(냐는/ETM) = True                0 : 1      =      7.8 : 1.0\n",
      "          exists(침체/NNG) = True                0 : 1      =      7.8 : 1.0\n",
      "          exists(불안/NNG) = True                0 : 1      =      7.6 : 1.0\n",
      "          exists(포기/NNG) = True                0 : 1      =      7.6 : 1.0\n",
      "          exists(실패/NNG) = True                0 : 1      =      7.5 : 1.0\n",
      "          exists(불편/NNG) = True                0 : 1      =      7.4 : 1.0\n",
      "          exists(갈등/NNG) = True                0 : 1      =      7.4 : 1.0\n",
      "          exists(제외/NNG) = True                0 : 1      =      7.3 : 1.0\n",
      "          exists(싸움/NNG) = True                0 : 1      =      7.3 : 1.0\n",
      "         exists(문제점/NNG) = True                0 : 1      =      7.2 : 1.0\n",
      "          exists(검찰/NNG) = True                0 : 1      =      7.2 : 1.0\n",
      "        exists(마이너스/NNG) = True                0 : 1      =      7.1 : 1.0\n",
      "       exists(못할/VX+ETM) = True                0 : 1      =      7.1 : 1.0\n",
      "          exists(재미있/VA) = True                1 : 0      =      6.9 : 1.0\n",
      "       exists(못한/VX+ETM) = True                0 : 1      =      6.9 : 1.0\n",
      "          exists(행위/NNG) = True                0 : 1      =      6.9 : 1.0\n",
      "          exists(잘못/MAG) = True                0 : 1      =      6.8 : 1.0\n",
      "          exists(떨어지/VV) = True                0 : 1      =      6.7 : 1.0\n",
      "          exists(한계/NNG) = True                0 : 1      =      6.7 : 1.0\n",
      "      exists(둘러싼/VV+ETM) = True                0 : 1      =      6.7 : 1.0\n",
      "          exists(노조/NNG) = True                0 : 1      =      6.5 : 1.0\n",
      "            exists(냐/EF) = True                0 : 1      =      6.4 : 1.0\n",
      "          exists(감동/NNG) = True                1 : 0      =      6.3 : 1.0\n",
      "           exists(재밌/VA) = True                1 : 0      =      6.3 : 1.0\n",
      "          exists(실력/NNG) = True                1 : 0      =      6.2 : 1.0\n",
      "          exists(신문/NNG) = True                0 : 1      =      6.1 : 1.0\n",
      "          exists(문제/NNG) = True                0 : 1      =      6.1 : 1.0\n",
      "            exists(뭐/IC) = True                0 : 1      =      6.1 : 1.0\n",
      "          exists(사태/NNG) = True                0 : 1      =      6.1 : 1.0\n",
      "          exists(고통/NNG) = True                0 : 1      =      6.0 : 1.0\n",
      "          exists(대립/NNG) = True                0 : 1      =      6.0 : 1.0\n",
      "         exists(어려움/NNG) = True                0 : 1      =      5.9 : 1.0\n",
      "        exists(마찬가지/NNG) = True                0 : 1      =      5.9 : 1.0\n",
      "          exists(실정/NNG) = True                0 : 1      =      5.9 : 1.0\n",
      "          exists(위축/NNG) = True                0 : 1      =      5.9 : 1.0\n",
      "            exists(냐/EC) = True                0 : 1      =      5.9 : 1.0\n",
      "          exists(자칫/MAG) = True                0 : 1      =      5.8 : 1.0\n",
      "          exists(행복/NNG) = True                1 : 0      =      5.7 : 1.0\n",
      "          exists(위험/NNG) = True                0 : 1      =      5.7 : 1.0\n",
      "          exists(제기/NNG) = True                0 : 1      =      5.7 : 1.0\n",
      "            exists(겪/VV) = True                0 : 1      =      5.7 : 1.0\n",
      "        exists(못했/VX+EP) = True                0 : 1      =      5.6 : 1.0\n",
      "          exists(반대/NNG) = True                0 : 1      =      5.6 : 1.0\n",
      "      exists(어려울/VA+ETM) = True                0 : 1      =      5.6 : 1.0\n",
      "          exists(우려/NNG) = True                0 : 1      =      5.6 : 1.0\n",
      "          exists(개입/NNG) = True                0 : 1      =      5.6 : 1.0\n",
      "          exists(태도/NNG) = True                0 : 1      =      5.6 : 1.0\n",
      "          exists(아베/NNP) = True                0 : 1      =      5.5 : 1.0\n",
      "          exists(의문/NNG) = True                0 : 1      =      5.5 : 1.0\n",
      "          exists(분열/NNG) = True                0 : 1      =      5.5 : 1.0\n",
      "           exists(미치/VV) = True                0 : 1      =      5.4 : 1.0\n",
      "           exists(무슨/MM) = True                0 : 1      =      5.3 : 1.0\n"
     ]
    }
   ],
   "source": [
    "classifier = nltk.NaiveBayesClassifier.train(train_xy)\n",
    "pickle.dump(classifier, open('./data/pre_data/pre_data_classifier_by_mecab.pickled','wb'))\n",
    "print(nltk.classify.accuracy(classifier, test_xy))\n",
    "# => 0.80418\n",
    "classifier.show_most_informative_features(50)"
   ]
  },
  {
   "cell_type": "markdown",
   "metadata": {},
   "source": [
    "### twitter"
   ]
  },
  {
   "cell_type": "code",
   "execution_count": 20,
   "metadata": {},
   "outputs": [
    {
     "ename": "KeyboardInterrupt",
     "evalue": "",
     "output_type": "error",
     "traceback": [
      "\u001b[0;31m---------------------------------------------------------------------------\u001b[0m",
      "\u001b[0;31mKeyboardInterrupt\u001b[0m                         Traceback (most recent call last)",
      "\u001b[0;32m<ipython-input-20-49330b47748b>\u001b[0m in \u001b[0;36m<module>\u001b[0;34m()\u001b[0m\n\u001b[0;32m----> 1\u001b[0;31m \u001b[0mdocs2\u001b[0m \u001b[0;34m=\u001b[0m \u001b[0;34m[\u001b[0m\u001b[0;34m(\u001b[0m\u001b[0mtokenize2\u001b[0m\u001b[0;34m(\u001b[0m\u001b[0mtotalData\u001b[0m\u001b[0;34m.\u001b[0m\u001b[0mloc\u001b[0m\u001b[0;34m[\u001b[0m\u001b[0midx\u001b[0m\u001b[0;34m]\u001b[0m\u001b[0;34m[\u001b[0m\u001b[0;36m0\u001b[0m\u001b[0;34m]\u001b[0m\u001b[0;34m)\u001b[0m\u001b[0;34m,\u001b[0m \u001b[0mtotalData\u001b[0m\u001b[0;34m.\u001b[0m\u001b[0mloc\u001b[0m\u001b[0;34m[\u001b[0m\u001b[0midx\u001b[0m\u001b[0;34m]\u001b[0m\u001b[0;34m[\u001b[0m\u001b[0;36m1\u001b[0m\u001b[0;34m]\u001b[0m\u001b[0;34m)\u001b[0m \u001b[0;32mfor\u001b[0m \u001b[0midx\u001b[0m \u001b[0;32min\u001b[0m \u001b[0mtotalData\u001b[0m\u001b[0;34m.\u001b[0m\u001b[0mindex\u001b[0m\u001b[0;34m]\u001b[0m\u001b[0;34m\u001b[0m\u001b[0m\n\u001b[0m",
      "\u001b[0;32m<ipython-input-20-49330b47748b>\u001b[0m in \u001b[0;36m<listcomp>\u001b[0;34m(.0)\u001b[0m\n\u001b[0;32m----> 1\u001b[0;31m \u001b[0mdocs2\u001b[0m \u001b[0;34m=\u001b[0m \u001b[0;34m[\u001b[0m\u001b[0;34m(\u001b[0m\u001b[0mtokenize2\u001b[0m\u001b[0;34m(\u001b[0m\u001b[0mtotalData\u001b[0m\u001b[0;34m.\u001b[0m\u001b[0mloc\u001b[0m\u001b[0;34m[\u001b[0m\u001b[0midx\u001b[0m\u001b[0;34m]\u001b[0m\u001b[0;34m[\u001b[0m\u001b[0;36m0\u001b[0m\u001b[0;34m]\u001b[0m\u001b[0;34m)\u001b[0m\u001b[0;34m,\u001b[0m \u001b[0mtotalData\u001b[0m\u001b[0;34m.\u001b[0m\u001b[0mloc\u001b[0m\u001b[0;34m[\u001b[0m\u001b[0midx\u001b[0m\u001b[0;34m]\u001b[0m\u001b[0;34m[\u001b[0m\u001b[0;36m1\u001b[0m\u001b[0;34m]\u001b[0m\u001b[0;34m)\u001b[0m \u001b[0;32mfor\u001b[0m \u001b[0midx\u001b[0m \u001b[0;32min\u001b[0m \u001b[0mtotalData\u001b[0m\u001b[0;34m.\u001b[0m\u001b[0mindex\u001b[0m\u001b[0;34m]\u001b[0m\u001b[0;34m\u001b[0m\u001b[0m\n\u001b[0m",
      "\u001b[0;32m<ipython-input-16-5122782186cc>\u001b[0m in \u001b[0;36mtokenize2\u001b[0;34m(doc)\u001b[0m\n\u001b[1;32m      1\u001b[0m \u001b[0;32mdef\u001b[0m \u001b[0mtokenize2\u001b[0m\u001b[0;34m(\u001b[0m\u001b[0mdoc\u001b[0m\u001b[0;34m)\u001b[0m\u001b[0;34m:\u001b[0m\u001b[0;34m\u001b[0m\u001b[0m\n\u001b[0;32m----> 2\u001b[0;31m     \u001b[0;32mreturn\u001b[0m \u001b[0;34m[\u001b[0m\u001b[0;34m'/'\u001b[0m\u001b[0;34m.\u001b[0m\u001b[0mjoin\u001b[0m\u001b[0;34m(\u001b[0m\u001b[0mt\u001b[0m\u001b[0;34m)\u001b[0m \u001b[0;32mfor\u001b[0m \u001b[0mt\u001b[0m \u001b[0;32min\u001b[0m \u001b[0mct\u001b[0m\u001b[0;34m.\u001b[0m\u001b[0mpos\u001b[0m\u001b[0;34m(\u001b[0m\u001b[0mdoc\u001b[0m\u001b[0;34m)\u001b[0m\u001b[0;34m]\u001b[0m\u001b[0;34m\u001b[0m\u001b[0m\n\u001b[0m",
      "\u001b[0;32m~/Documents/GitHub/Private_Project/personal_project/ckonlpy/tag/_twitter.py\u001b[0m in \u001b[0;36mpos\u001b[0;34m(self, phrase)\u001b[0m\n\u001b[1;32m     39\u001b[0m                 \u001b[0mtagged\u001b[0m \u001b[0;34m+=\u001b[0m \u001b[0mtagged0\u001b[0m\u001b[0;34m\u001b[0m\u001b[0m\n\u001b[1;32m     40\u001b[0m                 \u001b[0;32mcontinue\u001b[0m\u001b[0;34m\u001b[0m\u001b[0m\n\u001b[0;32m---> 41\u001b[0;31m             \u001b[0mtagged\u001b[0m \u001b[0;34m+=\u001b[0m \u001b[0mself\u001b[0m\u001b[0;34m.\u001b[0m\u001b[0m_base\u001b[0m\u001b[0;34m.\u001b[0m\u001b[0mpos\u001b[0m\u001b[0;34m(\u001b[0m\u001b[0meojeol\u001b[0m\u001b[0;34m)\u001b[0m\u001b[0;34m\u001b[0m\u001b[0m\n\u001b[0m\u001b[1;32m     42\u001b[0m         \u001b[0;32mreturn\u001b[0m \u001b[0mtagged\u001b[0m\u001b[0;34m\u001b[0m\u001b[0m\n\u001b[1;32m     43\u001b[0m \u001b[0;34m\u001b[0m\u001b[0m\n",
      "\u001b[0;32m~/anaconda3/lib/python3.6/site-packages/konlpy/tag/_twitter.py\u001b[0m in \u001b[0;36mpos\u001b[0;34m(self, phrase, norm, stem)\u001b[0m\n\u001b[1;32m     49\u001b[0m                     \u001b[0mphrase\u001b[0m\u001b[0;34m,\u001b[0m\u001b[0;34m\u001b[0m\u001b[0m\n\u001b[1;32m     50\u001b[0m                     \u001b[0mjpype\u001b[0m\u001b[0;34m.\u001b[0m\u001b[0mjava\u001b[0m\u001b[0;34m.\u001b[0m\u001b[0mlang\u001b[0m\u001b[0;34m.\u001b[0m\u001b[0mBoolean\u001b[0m\u001b[0;34m(\u001b[0m\u001b[0mnorm\u001b[0m\u001b[0;34m)\u001b[0m\u001b[0;34m,\u001b[0m\u001b[0;34m\u001b[0m\u001b[0m\n\u001b[0;32m---> 51\u001b[0;31m                     jpype.java.lang.Boolean(stem)).toArray()\n\u001b[0m\u001b[1;32m     52\u001b[0m         \u001b[0;32mreturn\u001b[0m \u001b[0;34m[\u001b[0m\u001b[0mtuple\u001b[0m\u001b[0;34m(\u001b[0m\u001b[0mt\u001b[0m\u001b[0;34m.\u001b[0m\u001b[0mrsplit\u001b[0m\u001b[0;34m(\u001b[0m\u001b[0;34m'/'\u001b[0m\u001b[0;34m,\u001b[0m \u001b[0;36m1\u001b[0m\u001b[0;34m)\u001b[0m\u001b[0;34m)\u001b[0m \u001b[0;32mfor\u001b[0m \u001b[0mt\u001b[0m \u001b[0;32min\u001b[0m \u001b[0mtokens\u001b[0m\u001b[0;34m]\u001b[0m\u001b[0;34m\u001b[0m\u001b[0m\n\u001b[1;32m     53\u001b[0m \u001b[0;34m\u001b[0m\u001b[0m\n",
      "\u001b[0;32m~/anaconda3/lib/python3.6/site-packages/jpype/_jclass.py\u001b[0m in \u001b[0;36m_javaGetAttr\u001b[0;34m(self, name)\u001b[0m\n\u001b[1;32m     85\u001b[0m \u001b[0;34m\u001b[0m\u001b[0m\n\u001b[1;32m     86\u001b[0m \u001b[0;34m\u001b[0m\u001b[0m\n\u001b[0;32m---> 87\u001b[0;31m \u001b[0;32mdef\u001b[0m \u001b[0m_javaGetAttr\u001b[0m\u001b[0;34m(\u001b[0m\u001b[0mself\u001b[0m\u001b[0;34m,\u001b[0m \u001b[0mname\u001b[0m\u001b[0;34m)\u001b[0m\u001b[0;34m:\u001b[0m\u001b[0;34m\u001b[0m\u001b[0m\n\u001b[0m\u001b[1;32m     88\u001b[0m     \u001b[0;32mtry\u001b[0m\u001b[0;34m:\u001b[0m\u001b[0;34m\u001b[0m\u001b[0m\n\u001b[1;32m     89\u001b[0m         \u001b[0mr\u001b[0m \u001b[0;34m=\u001b[0m \u001b[0mobject\u001b[0m\u001b[0;34m.\u001b[0m\u001b[0m__getattribute__\u001b[0m\u001b[0;34m(\u001b[0m\u001b[0mself\u001b[0m\u001b[0;34m,\u001b[0m \u001b[0mname\u001b[0m\u001b[0;34m)\u001b[0m\u001b[0;34m\u001b[0m\u001b[0m\n",
      "\u001b[0;31mKeyboardInterrupt\u001b[0m: "
     ]
    }
   ],
   "source": [
    "docs2 = pickle.load(open('./data/pre_data/pre_data_by_ct_for_sentiment_analysis.pickled','rb'))"
   ]
  },
  {
   "cell_type": "code",
   "execution_count": null,
   "metadata": {},
   "outputs": [],
   "source": [
    "tokens2 = [t for d in docs2 for t in d[0]]\n",
    "pickle.dump(tokens2, open('./data/pre_data/pre_data_tokens_by_ct.pickled','wb'))\n",
    "print(len(tokens2))"
   ]
  },
  {
   "cell_type": "code",
   "execution_count": null,
   "metadata": {},
   "outputs": [],
   "source": [
    "import nltk\n",
    "text2 = nltk.Text(tokens2, name='rawdata2')\n",
    "pickle.dump(text2, open('./data/pre_data/pre_data_nltk_text_by_ct.pickled','wb'))\n",
    "print(text2)"
   ]
  },
  {
   "cell_type": "code",
   "execution_count": null,
   "metadata": {},
   "outputs": [],
   "source": [
    "print(len(text2.tokens))                 # returns number of tokens\n",
    "print(len(set(text2.tokens)))            # returns number of unique tokens\n",
    "pprint(text2.vocab().most_common(10))"
   ]
  },
  {
   "cell_type": "code",
   "execution_count": null,
   "metadata": {},
   "outputs": [],
   "source": [
    "selected_words2 = [f[0] for f in text2.vocab().most_common(3000)]\n",
    "def term_exists2(doc):\n",
    "    return {'exists({})'.format(word): (word in set(doc2)) for word in selected_words2}\n",
    "pickle.dump(selected_words2, open('./data/pre_data/pre_data_selected_words_by_ct.pickled','wb'))"
   ]
  },
  {
   "cell_type": "code",
   "execution_count": null,
   "metadata": {},
   "outputs": [],
   "source": [
    "train4 = pickle.load(open('./data/pre_data/pre_by_ct_train.pickled','rb'))\n",
    "test4 = pickle.load(open('./data/pre_data/pre_by_ct_test.pickled','rb'))"
   ]
  },
  {
   "cell_type": "code",
   "execution_count": null,
   "metadata": {},
   "outputs": [],
   "source": [
    "train_xy2 = [(term_exists2(d), c) for d, c in train4]\n",
    "pickle.dump(train_xy2, open('./data/pre_data/pre_data_term_exists_by_ct_train.pickled','wb'))\n",
    "test_xy2 = [(term_exists2(d), c) for d, c in test4]\n",
    "pickle.dump(test_xy2, open('./data/pre_data/pre_data_term_exists_by_ct_test.pickled','wb'))"
   ]
  },
  {
   "cell_type": "code",
   "execution_count": null,
   "metadata": {},
   "outputs": [],
   "source": [
    "classifier2 = nltk.NaiveBayesClassifier.train(train_xy2)\n",
    "pickle.dump(classifier2, open('./data/pre_data/pre_data_classifier_by_ct.pickled','wb'))\n",
    "print(nltk.classify.accuracy(classifier2, test_xy2))\n",
    "# => 0.80418\n",
    "classifier2.show_most_informative_features(50)"
   ]
  },
  {
   "cell_type": "code",
   "execution_count": null,
   "metadata": {},
   "outputs": [],
   "source": []
  }
 ],
 "metadata": {
  "kernelspec": {
   "display_name": "Python 3",
   "language": "python",
   "name": "python3"
  },
  "language_info": {
   "codemirror_mode": {
    "name": "ipython",
    "version": 3
   },
   "file_extension": ".py",
   "mimetype": "text/x-python",
   "name": "python",
   "nbconvert_exporter": "python",
   "pygments_lexer": "ipython3",
   "version": "3.6.4"
  }
 },
 "nbformat": 4,
 "nbformat_minor": 2
}
