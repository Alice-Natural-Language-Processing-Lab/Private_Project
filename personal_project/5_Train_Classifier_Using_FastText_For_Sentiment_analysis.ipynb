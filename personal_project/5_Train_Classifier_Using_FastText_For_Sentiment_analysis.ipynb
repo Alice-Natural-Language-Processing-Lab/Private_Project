{
 "cells": [
  {
   "cell_type": "markdown",
   "metadata": {},
   "source": [
    "# 만들어진 FastText model을 통한 감정분석 실시\n",
    "> * Positive or Negative"
   ]
  },
  {
   "cell_type": "code",
   "execution_count": 1,
   "metadata": {},
   "outputs": [
    {
     "name": "stderr",
     "output_type": "stream",
     "text": [
      "C:\\Users\\pc\\Anaconda3\\lib\\site-packages\\gensim\\utils.py:1167: UserWarning: detected Windows; aliasing chunkize to chunkize_serial\n",
      "  warnings.warn(\"detected Windows; aliasing chunkize to chunkize_serial\")\n",
      "C:\\Users\\pc\\Anaconda3\\lib\\site-packages\\h5py\\__init__.py:36: FutureWarning: Conversion of the second argument of issubdtype from `float` to `np.floating` is deprecated. In future, it will be treated as `np.float64 == np.dtype(float).type`.\n",
      "  from ._conv import register_converters as _register_converters\n",
      "Using TensorFlow backend.\n"
     ]
    }
   ],
   "source": [
    "import pickle\n",
    "import html\n",
    "import multiprocessing\n",
    "from collections import namedtuple, OrderedDict\n",
    "import re\n",
    "import sys\n",
    "import os\n",
    "\n",
    "\n",
    "os.environ['KERAS_BACKEND']='tensorflow'\n",
    "\n",
    "import numpy as np\n",
    "from tqdm import tqdm\n",
    "tqdm.pandas(desc=\"progress-bar\")\n",
    "import pandas as pd\n",
    "\n",
    "from gensim.models import FastText, KeyedVectors\n",
    "from gensim.models.doc2vec import TaggedDocument\n",
    "\n",
    "from konlpy.utils import pprint\n",
    "\n",
    "from sklearn.model_selection import train_test_split\n",
    "from sklearn.linear_model import LogisticRegression\n",
    "from sklearn.ensemble import RandomForestClassifier\n",
    "from sklearn.svm import SVC\n",
    "from sklearn.metrics import confusion_matrix, classification_report, roc_curve\n",
    "from sklearn.feature_extraction.text import TfidfVectorizer\n",
    "from sklearn.preprocessing import scale, MinMaxScaler\n",
    "from sklearn.manifold import TSNE\n",
    "\n",
    "import keras.backend.tensorflow_backend as K\n",
    "from keras.preprocessing import sequence\n",
    "from keras_tqdm import TQDMCallback, TQDMNotebookCallback\n",
    "from keras.models import Model, Sequential\n",
    "from keras.regularizers import l2\n",
    "from keras.optimizers import SGD\n",
    "from keras.utils import np_utils\n",
    "from keras.layers import Input, Flatten, Dense, Embedding, embeddings, merge, Dropout, Activation,  LSTM, Bidirectional, SimpleRNN, GRU\n",
    "from keras.layers.convolutional import Conv1D, Conv2D\n",
    "from keras.layers.pooling import MaxPooling1D, GlobalMaxPooling1D\n",
    "from keras.layers.normalization import BatchNormalization\n",
    "from keras.layers.core import SpatialDropout1D\n",
    "from keras.utils import np_utils\n",
    "from tensorflow.python.client import device_lib\n",
    "from keras.layers.merge import dot\n",
    "\n",
    "import matplotlib.pyplot as plt\n",
    "\n",
    "import bokeh.plotting as bp\n",
    "from bokeh.models import HoverTool, BoxSelectTool\n",
    "from bokeh.plotting import figure, show, output_notebook"
   ]
  },
  {
   "cell_type": "code",
   "execution_count": 2,
   "metadata": {},
   "outputs": [
    {
     "name": "stdout",
     "output_type": "stream",
     "text": [
      "[name: \"/device:CPU:0\"\n",
      "device_type: \"CPU\"\n",
      "memory_limit: 268435456\n",
      "locality {\n",
      "}\n",
      "incarnation: 10707455079083500842\n",
      "]\n"
     ]
    }
   ],
   "source": [
    "print (device_lib.list_local_devices())"
   ]
  },
  {
   "cell_type": "code",
   "execution_count": 3,
   "metadata": {},
   "outputs": [],
   "source": [
    "def Make_Roc_Curve(x, y, model1, model2, model3):\n",
    "    fpr1, tpr1, thresholds1 = roc_curve(y, model1.predict(x))\n",
    "    fpr2, tpr2, thresholds2 = roc_curve(y, model2.predict(x))\n",
    "    fpr3, tpr3, thresholds3 = roc_curve(y, model3.predict(x))\n",
    "    plt.plot(fpr1, tpr1, label=\"Logistic Regression\")\n",
    "    plt.plot(fpr2, tpr2, label=\"RandomForest\")\n",
    "    plt.plot(fpr3, tpr3, label=\"Kernel SVM\")\n",
    "    plt.legend()\n",
    "    plt.plot([0, 1], [0, 1], 'k--', label=\"random guess\")\n",
    "    plt.xlabel('False Positive Rate (Fall-Out)')\n",
    "    plt.ylabel('True Positive Rate (Recall)')\n",
    "    plt.title('Receiver operating characteristic example')\n",
    "    plt.show()"
   ]
  },
  {
   "cell_type": "code",
   "execution_count": 4,
   "metadata": {},
   "outputs": [],
   "source": [
    "def plot_history(history):\n",
    "    \"\"\"Plot model history after `fit()`.\n",
    "    \"\"\"\n",
    "\n",
    "    # summarize history for accuracy\n",
    "    plt.plot(history.history['acc'])\n",
    "    plt.plot(history.history['val_acc'])\n",
    "    plt.title('model accuracy')\n",
    "    plt.ylabel('accuracy')\n",
    "    plt.xlabel('epoch')\n",
    "    plt.legend(['train', 'valid'], loc='upper left')\n",
    "    plt.show()\n",
    "\n",
    "    # summarize history for loss\n",
    "    plt.plot(history.history['loss'])\n",
    "    plt.plot(history.history['val_loss'])\n",
    "    plt.title('model loss')\n",
    "    plt.ylabel('loss')\n",
    "    plt.xlabel('epoch')\n",
    "    plt.legend(['train', 'valid'], loc='upper left')\n",
    "    plt.show()"
   ]
  },
  {
   "cell_type": "code",
   "execution_count": 5,
   "metadata": {},
   "outputs": [],
   "source": [
    "def Make_TSNE1(n_component, model, wv, limit):\n",
    "    from sklearn.manifold import TSNE\n",
    "    import matplotlib.pyplot as plt\n",
    "    import pandas as pd\n",
    "    from tqdm import tqdm\n",
    "    tqdm.pandas(desc=\"progress-bar\")\n",
    "    wv = wv[:limit]\n",
    "    tsne_model = TSNE(n_components=n_component,\n",
    "                       verbose = 1, random_state = 0)\n",
    "    tsne_w2v = tsne_model.fit_transform(wv)\n",
    "    tsne_df = pd.DataFrame(tsne_w2v, columns = ['x', 'y'])\n",
    "    tsne_df['words'] = list(model.wv.vocab.keys())[:limit]\n",
    "    i = 0\n",
    "    for i in tqdm(range(tsne_df['words'].size)):\n",
    "        plt.scatter(tsne_df['x'][i], tsne_df['y'][i])\n",
    "        plt.annotate(tsne_df['words'][i], \n",
    "                xy = (tsne_df['x'][i], tsne_df['y'][i]))\n",
    "    plt.show()"
   ]
  },
  {
   "cell_type": "code",
   "execution_count": 6,
   "metadata": {},
   "outputs": [],
   "source": [
    "def Make_TSNE2(n_component, model, wv, limit):\n",
    "    from sklearn.manifold import TSNE\n",
    "    import matplotlib.pyplot as plt\n",
    "    import pandas as pd\n",
    "    from tqdm import tqdm\n",
    "    import bokeh.plotting as bp\n",
    "    from bokeh.models import HoverTool, BoxSelectTool\n",
    "    from bokeh.plotting import figure, show, output_notebook\n",
    "    \n",
    "    output_notebook()\n",
    "    plot_tfidf = bp.figure(plot_width=500, plot_height=500, title=\"A map of word vectors\",\n",
    "    tools=\"pan,wheel_zoom,box_zoom,reset,hover,previewsave\",\n",
    "    x_axis_type=None, y_axis_type=None, min_border=1)\n",
    "\n",
    "    word_vectors = [model[w] for w in tqdm(list(model.wv.vocab.keys())[:limit])]\n",
    "\n",
    "    tsne_model = TSNE(n_components=n_component, verbose=1, random_state=0)\n",
    "    tsne_w2v = tsne_model.fit_transform(word_vectors)\n",
    "    # putting everything in a dataframe\n",
    "    tsne_df = pd.DataFrame(tsne_w2v, columns=['x', 'y'])\n",
    "    tsne_df['words'] = list(model.wv.vocab.keys())[:limit]\n",
    "\n",
    "    # plotting. the corresponding word appears when you hover on the data point.\n",
    "    plot_tfidf.scatter(x='x', y='y', source=tsne_df)\n",
    "    hover = plot_tfidf.select(dict(type=HoverTool))\n",
    "    hover.tooltips={\"word\": \"@words\"}\n",
    "    show(plot_tfidf)"
   ]
  },
  {
   "cell_type": "code",
   "execution_count": 7,
   "metadata": {},
   "outputs": [],
   "source": [
    "def Build_tfidf(data):\n",
    "    from sklearn.feature_extraction.text import TfidfVectorizer\n",
    "    vectorizer = TfidfVectorizer(analyzer = lambda x: x, min_df = 2)\n",
    "    vectorizer.fit_transform([x.words for x in tqdm(data)])\n",
    "    tfidf = dict(zip(vectorizer.get_feature_names(), vectorizer.idf_))\n",
    "    print ('vocab size : {}'.format(len(tfidf)))\n",
    "    return tfidf\n"
   ]
  },
  {
   "cell_type": "code",
   "execution_count": 8,
   "metadata": {},
   "outputs": [],
   "source": [
    "def buildWordVector(tokens, model, size, tfidf):\n",
    "    vec = np.zeros(size).reshape((1, size))\n",
    "    count = 0.\n",
    "    for word in tokens:\n",
    "        try:\n",
    "            vec += model[word].reshape((1, size)) * tfidf[word]\n",
    "            count += 1.\n",
    "        except KeyError: # handling the case where the token is not\n",
    "                         # in the corpus. useful for testing.\n",
    "            continue\n",
    "    if count != 0:\n",
    "        vec /= count\n",
    "    return vec"
   ]
  },
  {
   "cell_type": "code",
   "execution_count": 9,
   "metadata": {},
   "outputs": [],
   "source": [
    "if sys.platform =='darwin':\n",
    "    loadModelPath = '/Volumes/disk1/model/'\n",
    "elif sys.platform =='win32':\n",
    "    loadModelPath = 'd:/model/'\n",
    "saveTrainPath = './data/pre_data/train_test_Data2/'\n",
    "saveClassifierPath = './data/pre_data/classifier/'"
   ]
  },
  {
   "cell_type": "code",
   "execution_count": 10,
   "metadata": {},
   "outputs": [
    {
     "name": "stdout",
     "output_type": "stream",
     "text": [
      "6\n"
     ]
    }
   ],
   "source": [
    "cores = int(multiprocessing.cpu_count() / 2)\n",
    "print (cores)"
   ]
  },
  {
   "cell_type": "markdown",
   "metadata": {},
   "source": [
    "## Twitter"
   ]
  },
  {
   "cell_type": "markdown",
   "metadata": {},
   "source": [
    "###  Load FastText model을 만들기 위해 사용한 사용된 train set"
   ]
  },
  {
   "cell_type": "code",
   "execution_count": 11,
   "metadata": {},
   "outputs": [],
   "source": [
    "train = pickle.load(open('./data/pre_data/train_test_Data/pre_data_train_for_word2vec_sentiment_by_ct.pickled','rb'))"
   ]
  },
  {
   "cell_type": "code",
   "execution_count": 12,
   "metadata": {},
   "outputs": [
    {
     "name": "stderr",
     "output_type": "stream",
     "text": [
      "100%|██████████| 442359/442359 [00:00<00:00, 1380849.52it/s]\n"
     ]
    }
   ],
   "source": [
    "y_train = np.array([doc.tags[0] for doc in tqdm(train)])"
   ]
  },
  {
   "cell_type": "markdown",
   "metadata": {},
   "source": [
    "### train set을 사용하여 Tf-Idf vectorizer을 만듦"
   ]
  },
  {
   "cell_type": "code",
   "execution_count": 13,
   "metadata": {},
   "outputs": [
    {
     "name": "stderr",
     "output_type": "stream",
     "text": [
      "100%|██████████| 442359/442359 [00:00<00:00, 1477193.97it/s]\n"
     ]
    },
    {
     "name": "stdout",
     "output_type": "stream",
     "text": [
      "vocab size : 159386\n"
     ]
    }
   ],
   "source": [
    "tfidf = Build_tfidf(train)"
   ]
  },
  {
   "cell_type": "markdown",
   "metadata": {},
   "source": [
    "###  Load FastText model을 만들기 위해 사용한 사용된 testset"
   ]
  },
  {
   "cell_type": "code",
   "execution_count": 14,
   "metadata": {},
   "outputs": [],
   "source": [
    "test = pickle.load(open('./data/pre_data/train_test_Data/pre_data_test_for_word2vec_sentiment_by_ct.pickled','rb'))"
   ]
  },
  {
   "cell_type": "code",
   "execution_count": 15,
   "metadata": {},
   "outputs": [
    {
     "name": "stderr",
     "output_type": "stream",
     "text": [
      "100%|██████████| 49151/49151 [00:00<00:00, 1168529.07it/s]\n"
     ]
    }
   ],
   "source": [
    "y_test = np.array([doc.tags[0] for doc in tqdm(test)])"
   ]
  },
  {
   "cell_type": "markdown",
   "metadata": {},
   "source": [
    "### Load Model"
   ]
  },
  {
   "cell_type": "code",
   "execution_count": 16,
   "metadata": {},
   "outputs": [],
   "source": [
    "model1 = FastText.load(loadModelPath+'fastText_size-1000_epoch-20_ngrams-3_window-10_negative-7_hs-0_sg-0_cbow_mean-0_min_count-2_by-ct.model')\n",
    "model2 = FastText.load(loadModelPath+'fastText_size-1000_epoch-20_ngrams-3_window-10_negative-7_hs-0_sg-0_cbow_mean-1_min_count-2_by-ct.model')\n",
    "model3 = FastText.load(loadModelPath+'fastText_size-1000_epoch-20_ngrams-3_window-10_negative-7_hs-0_sg-1_cbow_mean-0_min_count-2_by-ct.model')"
   ]
  },
  {
   "cell_type": "code",
   "execution_count": 17,
   "metadata": {},
   "outputs": [
    {
     "name": "stdout",
     "output_type": "stream",
     "text": [
      "FastText(vocab=162897, size=1000, alpha=0.025)\n",
      "FastText(vocab=162897, size=1000, alpha=0.025)\n",
      "FastText(vocab=162897, size=1000, alpha=0.025)\n"
     ]
    }
   ],
   "source": [
    "print (str(model1))\n",
    "print (str(model2))\n",
    "print (str(model3))"
   ]
  },
  {
   "cell_type": "code",
   "execution_count": 18,
   "metadata": {
    "scrolled": true
   },
   "outputs": [
    {
     "name": "stderr",
     "output_type": "stream",
     "text": [
      "  0%|          | 0/162897 [00:00<?, ?it/s]C:\\Users\\pc\\Anaconda3\\lib\\site-packages\\ipykernel_launcher.py:1: DeprecationWarning: Call to deprecated `__getitem__` (Method will be removed in 4.0.0, use self.wv.__getitem__() instead).\n",
      "  \"\"\"Entry point for launching an IPython kernel.\n",
      "100%|██████████| 162897/162897 [00:03<00:00, 53332.82it/s]\n",
      "  0%|          | 0/162897 [00:00<?, ?it/s]C:\\Users\\pc\\Anaconda3\\lib\\site-packages\\ipykernel_launcher.py:2: DeprecationWarning: Call to deprecated `__getitem__` (Method will be removed in 4.0.0, use self.wv.__getitem__() instead).\n",
      "  \n",
      "100%|██████████| 162897/162897 [00:02<00:00, 57010.69it/s]\n",
      "  0%|          | 0/162897 [00:00<?, ?it/s]C:\\Users\\pc\\Anaconda3\\lib\\site-packages\\ipykernel_launcher.py:3: DeprecationWarning: Call to deprecated `__getitem__` (Method will be removed in 4.0.0, use self.wv.__getitem__() instead).\n",
      "  This is separate from the ipykernel package so we can avoid doing imports until\n",
      "100%|██████████| 162897/162897 [00:01<00:00, 102684.05it/s]\n"
     ]
    }
   ],
   "source": [
    "wv1 = [model1[w] for w in tqdm(model1.wv.vocab.keys())]\n",
    "wv2 = [model2[w] for w in tqdm(model2.wv.vocab.keys())]\n",
    "wv3 = [model3[w] for w in tqdm(model3.wv.vocab.keys())]"
   ]
  },
  {
   "cell_type": "code",
   "execution_count": null,
   "metadata": {},
   "outputs": [],
   "source": []
  },
  {
   "cell_type": "code",
   "execution_count": 19,
   "metadata": {},
   "outputs": [
    {
     "name": "stderr",
     "output_type": "stream",
     "text": [
      "0it [00:00, ?it/s]C:\\Users\\pc\\Anaconda3\\lib\\site-packages\\ipykernel_launcher.py:6: DeprecationWarning: Call to deprecated `__getitem__` (Method will be removed in 4.0.0, use self.wv.__getitem__() instead).\n",
      "  \n",
      "442359it [17:55, 411.17it/s]\n"
     ]
    },
    {
     "ename": "MemoryError",
     "evalue": "",
     "output_type": "error",
     "traceback": [
      "\u001b[1;31m---------------------------------------------------------------------------\u001b[0m",
      "\u001b[1;31mMemoryError\u001b[0m                               Traceback (most recent call last)",
      "\u001b[1;32m<timed exec>\u001b[0m in \u001b[0;36m<module>\u001b[1;34m()\u001b[0m\n",
      "\u001b[1;32m~\\Anaconda3\\lib\\site-packages\\sklearn\\preprocessing\\data.py\u001b[0m in \u001b[0;36mscale\u001b[1;34m(X, axis, with_mean, with_std, copy)\u001b[0m\n\u001b[0;32m    149\u001b[0m             \u001b[0mmean_\u001b[0m \u001b[1;33m=\u001b[0m \u001b[0mnp\u001b[0m\u001b[1;33m.\u001b[0m\u001b[0mmean\u001b[0m\u001b[1;33m(\u001b[0m\u001b[0mX\u001b[0m\u001b[1;33m,\u001b[0m \u001b[0maxis\u001b[0m\u001b[1;33m)\u001b[0m\u001b[1;33m\u001b[0m\u001b[0m\n\u001b[0;32m    150\u001b[0m         \u001b[1;32mif\u001b[0m \u001b[0mwith_std\u001b[0m\u001b[1;33m:\u001b[0m\u001b[1;33m\u001b[0m\u001b[0m\n\u001b[1;32m--> 151\u001b[1;33m             \u001b[0mscale_\u001b[0m \u001b[1;33m=\u001b[0m \u001b[0mnp\u001b[0m\u001b[1;33m.\u001b[0m\u001b[0mstd\u001b[0m\u001b[1;33m(\u001b[0m\u001b[0mX\u001b[0m\u001b[1;33m,\u001b[0m \u001b[0maxis\u001b[0m\u001b[1;33m)\u001b[0m\u001b[1;33m\u001b[0m\u001b[0m\n\u001b[0m\u001b[0;32m    152\u001b[0m         \u001b[1;31m# Xr is a view on the original array that enables easy use of\u001b[0m\u001b[1;33m\u001b[0m\u001b[1;33m\u001b[0m\u001b[0m\n\u001b[0;32m    153\u001b[0m         \u001b[1;31m# broadcasting on the axis in which we are interested in\u001b[0m\u001b[1;33m\u001b[0m\u001b[1;33m\u001b[0m\u001b[0m\n",
      "\u001b[1;32m~\\Anaconda3\\lib\\site-packages\\numpy\\core\\fromnumeric.py\u001b[0m in \u001b[0;36mstd\u001b[1;34m(a, axis, dtype, out, ddof, keepdims)\u001b[0m\n\u001b[0;32m   3073\u001b[0m \u001b[1;33m\u001b[0m\u001b[0m\n\u001b[0;32m   3074\u001b[0m     return _methods._std(a, axis=axis, dtype=dtype, out=out, ddof=ddof,\n\u001b[1;32m-> 3075\u001b[1;33m                          **kwargs)\n\u001b[0m\u001b[0;32m   3076\u001b[0m \u001b[1;33m\u001b[0m\u001b[0m\n\u001b[0;32m   3077\u001b[0m \u001b[1;33m\u001b[0m\u001b[0m\n",
      "\u001b[1;32m~\\Anaconda3\\lib\\site-packages\\numpy\\core\\_methods.py\u001b[0m in \u001b[0;36m_std\u001b[1;34m(a, axis, dtype, out, ddof, keepdims)\u001b[0m\n\u001b[0;32m    133\u001b[0m \u001b[1;32mdef\u001b[0m \u001b[0m_std\u001b[0m\u001b[1;33m(\u001b[0m\u001b[0ma\u001b[0m\u001b[1;33m,\u001b[0m \u001b[0maxis\u001b[0m\u001b[1;33m=\u001b[0m\u001b[1;32mNone\u001b[0m\u001b[1;33m,\u001b[0m \u001b[0mdtype\u001b[0m\u001b[1;33m=\u001b[0m\u001b[1;32mNone\u001b[0m\u001b[1;33m,\u001b[0m \u001b[0mout\u001b[0m\u001b[1;33m=\u001b[0m\u001b[1;32mNone\u001b[0m\u001b[1;33m,\u001b[0m \u001b[0mddof\u001b[0m\u001b[1;33m=\u001b[0m\u001b[1;36m0\u001b[0m\u001b[1;33m,\u001b[0m \u001b[0mkeepdims\u001b[0m\u001b[1;33m=\u001b[0m\u001b[1;32mFalse\u001b[0m\u001b[1;33m)\u001b[0m\u001b[1;33m:\u001b[0m\u001b[1;33m\u001b[0m\u001b[0m\n\u001b[0;32m    134\u001b[0m     ret = _var(a, axis=axis, dtype=dtype, out=out, ddof=ddof,\n\u001b[1;32m--> 135\u001b[1;33m                keepdims=keepdims)\n\u001b[0m\u001b[0;32m    136\u001b[0m \u001b[1;33m\u001b[0m\u001b[0m\n\u001b[0;32m    137\u001b[0m     \u001b[1;32mif\u001b[0m \u001b[0misinstance\u001b[0m\u001b[1;33m(\u001b[0m\u001b[0mret\u001b[0m\u001b[1;33m,\u001b[0m \u001b[0mmu\u001b[0m\u001b[1;33m.\u001b[0m\u001b[0mndarray\u001b[0m\u001b[1;33m)\u001b[0m\u001b[1;33m:\u001b[0m\u001b[1;33m\u001b[0m\u001b[0m\n",
      "\u001b[1;32m~\\Anaconda3\\lib\\site-packages\\numpy\\core\\_methods.py\u001b[0m in \u001b[0;36m_var\u001b[1;34m(a, axis, dtype, out, ddof, keepdims)\u001b[0m\n\u001b[0;32m    110\u001b[0m     \u001b[1;31m# Note that x may not be inexact and that we need it to be an array,\u001b[0m\u001b[1;33m\u001b[0m\u001b[1;33m\u001b[0m\u001b[0m\n\u001b[0;32m    111\u001b[0m     \u001b[1;31m# not a scalar.\u001b[0m\u001b[1;33m\u001b[0m\u001b[1;33m\u001b[0m\u001b[0m\n\u001b[1;32m--> 112\u001b[1;33m     \u001b[0mx\u001b[0m \u001b[1;33m=\u001b[0m \u001b[0masanyarray\u001b[0m\u001b[1;33m(\u001b[0m\u001b[0marr\u001b[0m \u001b[1;33m-\u001b[0m \u001b[0marrmean\u001b[0m\u001b[1;33m)\u001b[0m\u001b[1;33m\u001b[0m\u001b[0m\n\u001b[0m\u001b[0;32m    113\u001b[0m     \u001b[1;32mif\u001b[0m \u001b[0missubclass\u001b[0m\u001b[1;33m(\u001b[0m\u001b[0marr\u001b[0m\u001b[1;33m.\u001b[0m\u001b[0mdtype\u001b[0m\u001b[1;33m.\u001b[0m\u001b[0mtype\u001b[0m\u001b[1;33m,\u001b[0m \u001b[0mnt\u001b[0m\u001b[1;33m.\u001b[0m\u001b[0mcomplexfloating\u001b[0m\u001b[1;33m)\u001b[0m\u001b[1;33m:\u001b[0m\u001b[1;33m\u001b[0m\u001b[0m\n\u001b[0;32m    114\u001b[0m         \u001b[0mx\u001b[0m \u001b[1;33m=\u001b[0m \u001b[0mum\u001b[0m\u001b[1;33m.\u001b[0m\u001b[0mmultiply\u001b[0m\u001b[1;33m(\u001b[0m\u001b[0mx\u001b[0m\u001b[1;33m,\u001b[0m \u001b[0mum\u001b[0m\u001b[1;33m.\u001b[0m\u001b[0mconjugate\u001b[0m\u001b[1;33m(\u001b[0m\u001b[0mx\u001b[0m\u001b[1;33m)\u001b[0m\u001b[1;33m,\u001b[0m \u001b[0mout\u001b[0m\u001b[1;33m=\u001b[0m\u001b[0mx\u001b[0m\u001b[1;33m)\u001b[0m\u001b[1;33m.\u001b[0m\u001b[0mreal\u001b[0m\u001b[1;33m\u001b[0m\u001b[0m\n",
      "\u001b[1;31mMemoryError\u001b[0m: "
     ]
    }
   ],
   "source": [
    "%%time\n",
    "train_vecs_w2v = np.concatenate([buildWordVector(z, model1, 1000, tfidf) for z in tqdm(map(lambda x: x.words, train))])\n",
    "train_vecs_w2v = scale(train_vecs_w2v)\n",
    "\n",
    "test_vecs_w2v = np.concatenate([buildWordVector(z, model1, 1000, tfidf) for z in tqdm(map(lambda x: x.words, test))])\n",
    "test_vecs_w2v = scale(test_vecs_w2v)\n",
    "\n",
    "train_vecs_w2v.shape"
   ]
  },
  {
   "cell_type": "code",
   "execution_count": 20,
   "metadata": {},
   "outputs": [
    {
     "name": "stdout",
     "output_type": "stream",
     "text": [
      "[t-SNE] Computing 91 nearest neighbors...\n",
      "[t-SNE] Indexed 200 samples in 0.031s...\n",
      "[t-SNE] Computed neighbors for 200 samples in 0.079s...\n",
      "[t-SNE] Computed conditional probabilities for sample 200 / 200\n",
      "[t-SNE] Mean sigma: 0.198128\n",
      "[t-SNE] KL divergence after 250 iterations with early exaggeration: 125.156868\n",
      "[t-SNE] Error after 1000 iterations: 1.553657\n"
     ]
    },
    {
     "name": "stderr",
     "output_type": "stream",
     "text": [
      "100%|██████████| 200/200 [00:01<00:00, 142.95it/s]\n"
     ]
    },
    {
     "data": {
      "image/png": "[encoded data removed]",
      "text/plain": [
       "<matplotlib.figure.Figure at 0x212c64644a8>"
      ]
     },
     "metadata": {},
     "output_type": "display_data"
    }
   ],
   "source": [
    "Make_TSNE1(2, model1, wv1, 200)"
   ]
  },
  {
   "cell_type": "code",
   "execution_count": 21,
   "metadata": {
    "scrolled": false
   },
   "outputs": [
    {
     "data": {
      "text/html": [
       "\n",
       "    <div class=\"bk-root\">\n",
       "        <a href=\"https://bokeh.pydata.org\" target=\"_blank\" class=\"bk-logo bk-logo-small bk-logo-notebook\"></a>\n",
       "        <span id=\"8d62a412-7556-482a-9953-e818e3f65607\">Loading BokehJS ...</span>\n",
       "    </div>"
      ]
     },
     "metadata": {},
     "output_type": "display_data"
    },
    {
     "data": {
      "application/javascript": [
       "\n",
       "(function(root) {\n",
       "  function now() {\n",
       "    return new Date();\n",
       "  }\n",
       "\n",
       "  var force = true;\n",
       "\n",
       "  if (typeof (root._bokeh_onload_callbacks) === \"undefined\" || force === true) {\n",
       "    root._bokeh_onload_callbacks = [];\n",
       "    root._bokeh_is_loading = undefined;\n",
       "  }\n",
       "\n",
       "  var JS_MIME_TYPE = 'application/javascript';\n",
       "  var HTML_MIME_TYPE = 'text/html';\n",
       "  var EXEC_MIME_TYPE = 'application/vnd.bokehjs_exec.v0+json';\n",
       "  var CLASS_NAME = 'output_bokeh rendered_html';\n",
       "\n",
       "  /**\n",
       "   * Render data to the DOM node\n",
       "   */\n",
       "  function render(props, node) {\n",
       "    var script = document.createElement(\"script\");\n",
       "    node.appendChild(script);\n",
       "  }\n",
       "\n",
       "  /**\n",
       "   * Handle when an output is cleared or removed\n",
       "   */\n",
       "  function handleClearOutput(event, handle) {\n",
       "    var cell = handle.cell;\n",
       "\n",
       "    var id = cell.output_area._bokeh_element_id;\n",
       "    var server_id = cell.output_area._bokeh_server_id;\n",
       "    // Clean up Bokeh references\n",
       "    if (id !== undefined) {\n",
       "      Bokeh.index[id].model.document.clear();\n",
       "      delete Bokeh.index[id];\n",
       "    }\n",
       "\n",
       "    if (server_id !== undefined) {\n",
       "      // Clean up Bokeh references\n",
       "      var cmd = \"from bokeh.io.state import curstate; print(curstate().uuid_to_server['\" + server_id + \"'].get_sessions()[0].document.roots[0]._id)\";\n",
       "      cell.notebook.kernel.execute(cmd, {\n",
       "        iopub: {\n",
       "          output: function(msg) {\n",
       "            var element_id = msg.content.text.trim();\n",
       "            Bokeh.index[element_id].model.document.clear();\n",
       "            delete Bokeh.index[element_id];\n",
       "          }\n",
       "        }\n",
       "      });\n",
       "      // Destroy server and session\n",
       "      var cmd = \"import bokeh.io.notebook as ion; ion.destroy_server('\" + server_id + \"')\";\n",
       "      cell.notebook.kernel.execute(cmd);\n",
       "    }\n",
       "  }\n",
       "\n",
       "  /**\n",
       "   * Handle when a new output is added\n",
       "   */\n",
       "  function handleAddOutput(event, handle) {\n",
       "    var output_area = handle.output_area;\n",
       "    var output = handle.output;\n",
       "\n",
       "    // limit handleAddOutput to display_data with EXEC_MIME_TYPE content only\n",
       "    if ((output.output_type != \"display_data\") || (!output.data.hasOwnProperty(EXEC_MIME_TYPE))) {\n",
       "      return\n",
       "    }\n",
       "\n",
       "    var toinsert = output_area.element.find(\".\" + CLASS_NAME.split(' ')[0]);\n",
       "\n",
       "    if (output.metadata[EXEC_MIME_TYPE][\"id\"] !== undefined) {\n",
       "      toinsert[0].firstChild.textContent = output.data[JS_MIME_TYPE];\n",
       "      // store reference to embed id on output_area\n",
       "      output_area._bokeh_element_id = output.metadata[EXEC_MIME_TYPE][\"id\"];\n",
       "    }\n",
       "    if (output.metadata[EXEC_MIME_TYPE][\"server_id\"] !== undefined) {\n",
       "      var bk_div = document.createElement(\"div\");\n",
       "      bk_div.innerHTML = output.data[HTML_MIME_TYPE];\n",
       "      var script_attrs = bk_div.children[0].attributes;\n",
       "      for (var i = 0; i < script_attrs.length; i++) {\n",
       "        toinsert[0].firstChild.setAttribute(script_attrs[i].name, script_attrs[i].value);\n",
       "      }\n",
       "      // store reference to server id on output_area\n",
       "      output_area._bokeh_server_id = output.metadata[EXEC_MIME_TYPE][\"server_id\"];\n",
       "    }\n",
       "  }\n",
       "\n",
       "  function register_renderer(events, OutputArea) {\n",
       "\n",
       "    function append_mime(data, metadata, element) {\n",
       "      // create a DOM node to render to\n",
       "      var toinsert = this.create_output_subarea(\n",
       "        metadata,\n",
       "        CLASS_NAME,\n",
       "        EXEC_MIME_TYPE\n",
       "      );\n",
       "      this.keyboard_manager.register_events(toinsert);\n",
       "      // Render to node\n",
       "      var props = {data: data, metadata: metadata[EXEC_MIME_TYPE]};\n",
       "      render(props, toinsert[0]);\n",
       "      element.append(toinsert);\n",
       "      return toinsert\n",
       "    }\n",
       "\n",
       "    /* Handle when an output is cleared or removed */\n",
       "    events.on('clear_output.CodeCell', handleClearOutput);\n",
       "    events.on('delete.Cell', handleClearOutput);\n",
       "\n",
       "    /* Handle when a new output is added */\n",
       "    events.on('output_added.OutputArea', handleAddOutput);\n",
       "\n",
       "    /**\n",
       "     * Register the mime type and append_mime function with output_area\n",
       "     */\n",
       "    OutputArea.prototype.register_mime_type(EXEC_MIME_TYPE, append_mime, {\n",
       "      /* Is output safe? */\n",
       "      safe: true,\n",
       "      /* Index of renderer in `output_area.display_order` */\n",
       "      index: 0\n",
       "    });\n",
       "  }\n",
       "\n",
       "  // register the mime type if in Jupyter Notebook environment and previously unregistered\n",
       "  if (root.Jupyter !== undefined) {\n",
       "    var events = require('base/js/events');\n",
       "    var OutputArea = require('notebook/js/outputarea').OutputArea;\n",
       "\n",
       "    if (OutputArea.prototype.mime_types().indexOf(EXEC_MIME_TYPE) == -1) {\n",
       "      register_renderer(events, OutputArea);\n",
       "    }\n",
       "  }\n",
       "\n",
       "  \n",
       "  if (typeof (root._bokeh_timeout) === \"undefined\" || force === true) {\n",
       "    root._bokeh_timeout = Date.now() + 5000;\n",
       "    root._bokeh_failed_load = false;\n",
       "  }\n",
       "\n",
       "  var NB_LOAD_WARNING = {'data': {'text/html':\n",
       "     \"<div style='background-color: #fdd'>\\n\"+\n",
       "     \"<p>\\n\"+\n",
       "     \"BokehJS does not appear to have successfully loaded. If loading BokehJS from CDN, this \\n\"+\n",
       "     \"may be due to a slow or bad network connection. Possible fixes:\\n\"+\n",
       "     \"</p>\\n\"+\n",
       "     \"<ul>\\n\"+\n",
       "     \"<li>re-rerun `output_notebook()` to attempt to load from CDN again, or</li>\\n\"+\n",
       "     \"<li>use INLINE resources instead, as so:</li>\\n\"+\n",
       "     \"</ul>\\n\"+\n",
       "     \"<code>\\n\"+\n",
       "     \"from bokeh.resources import INLINE\\n\"+\n",
       "     \"output_notebook(resources=INLINE)\\n\"+\n",
       "     \"</code>\\n\"+\n",
       "     \"</div>\"}};\n",
       "\n",
       "  function display_loaded() {\n",
       "    var el = document.getElementById(\"8d62a412-7556-482a-9953-e818e3f65607\");\n",
       "    if (el != null) {\n",
       "      el.textContent = \"BokehJS is loading...\";\n",
       "    }\n",
       "    if (root.Bokeh !== undefined) {\n",
       "      if (el != null) {\n",
       "        el.textContent = \"BokehJS \" + root.Bokeh.version + \" successfully loaded.\";\n",
       "      }\n",
       "    } else if (Date.now() < root._bokeh_timeout) {\n",
       "      setTimeout(display_loaded, 100)\n",
       "    }\n",
       "  }\n",
       "\n",
       "\n",
       "  function run_callbacks() {\n",
       "    try {\n",
       "      root._bokeh_onload_callbacks.forEach(function(callback) { callback() });\n",
       "    }\n",
       "    finally {\n",
       "      delete root._bokeh_onload_callbacks\n",
       "    }\n",
       "    console.info(\"Bokeh: all callbacks have finished\");\n",
       "  }\n",
       "\n",
       "  function load_libs(js_urls, callback) {\n",
       "    root._bokeh_onload_callbacks.push(callback);\n",
       "    if (root._bokeh_is_loading > 0) {\n",
       "      console.log(\"Bokeh: BokehJS is being loaded, scheduling callback at\", now());\n",
       "      return null;\n",
       "    }\n",
       "    if (js_urls == null || js_urls.length === 0) {\n",
       "      run_callbacks();\n",
       "      return null;\n",
       "    }\n",
       "    console.log(\"Bokeh: BokehJS not loaded, scheduling load and callback at\", now());\n",
       "    root._bokeh_is_loading = js_urls.length;\n",
       "    for (var i = 0; i < js_urls.length; i++) {\n",
       "      var url = js_urls[i];\n",
       "      var s = document.createElement('script');\n",
       "      s.src = url;\n",
       "      s.async = false;\n",
       "      s.onreadystatechange = s.onload = function() {\n",
       "        root._bokeh_is_loading--;\n",
       "        if (root._bokeh_is_loading === 0) {\n",
       "          console.log(\"Bokeh: all BokehJS libraries loaded\");\n",
       "          run_callbacks()\n",
       "        }\n",
       "      };\n",
       "      s.onerror = function() {\n",
       "        console.warn(\"failed to load library \" + url);\n",
       "      };\n",
       "      console.log(\"Bokeh: injecting script tag for BokehJS library: \", url);\n",
       "      document.getElementsByTagName(\"head\")[0].appendChild(s);\n",
       "    }\n",
       "  };var element = document.getElementById(\"8d62a412-7556-482a-9953-e818e3f65607\");\n",
       "  if (element == null) {\n",
       "    console.log(\"Bokeh: ERROR: autoload.js configured with elementid '8d62a412-7556-482a-9953-e818e3f65607' but no matching script tag was found. \")\n",
       "    return false;\n",
       "  }\n",
       "\n",
       "  var js_urls = [\"https://cdn.pydata.org/bokeh/release/bokeh-0.12.13.min.js\", \"https://cdn.pydata.org/bokeh/release/bokeh-widgets-0.12.13.min.js\", \"https://cdn.pydata.org/bokeh/release/bokeh-tables-0.12.13.min.js\", \"https://cdn.pydata.org/bokeh/release/bokeh-gl-0.12.13.min.js\"];\n",
       "\n",
       "  var inline_js = [\n",
       "    function(Bokeh) {\n",
       "      Bokeh.set_log_level(\"info\");\n",
       "    },\n",
       "    \n",
       "    function(Bokeh) {\n",
       "      \n",
       "    },\n",
       "    function(Bokeh) {\n",
       "      console.log(\"Bokeh: injecting CSS: https://cdn.pydata.org/bokeh/release/bokeh-0.12.13.min.css\");\n",
       "      Bokeh.embed.inject_css(\"https://cdn.pydata.org/bokeh/release/bokeh-0.12.13.min.css\");\n",
       "      console.log(\"Bokeh: injecting CSS: https://cdn.pydata.org/bokeh/release/bokeh-widgets-0.12.13.min.css\");\n",
       "      Bokeh.embed.inject_css(\"https://cdn.pydata.org/bokeh/release/bokeh-widgets-0.12.13.min.css\");\n",
       "      console.log(\"Bokeh: injecting CSS: https://cdn.pydata.org/bokeh/release/bokeh-tables-0.12.13.min.css\");\n",
       "      Bokeh.embed.inject_css(\"https://cdn.pydata.org/bokeh/release/bokeh-tables-0.12.13.min.css\");\n",
       "    }\n",
       "  ];\n",
       "\n",
       "  function run_inline_js() {\n",
       "    \n",
       "    if ((root.Bokeh !== undefined) || (force === true)) {\n",
       "      for (var i = 0; i < inline_js.length; i++) {\n",
       "        inline_js[i].call(root, root.Bokeh);\n",
       "      }if (force === true) {\n",
       "        display_loaded();\n",
       "      }} else if (Date.now() < root._bokeh_timeout) {\n",
       "      setTimeout(run_inline_js, 100);\n",
       "    } else if (!root._bokeh_failed_load) {\n",
       "      console.log(\"Bokeh: BokehJS failed to load within specified timeout.\");\n",
       "      root._bokeh_failed_load = true;\n",
       "    } else if (force !== true) {\n",
       "      var cell = $(document.getElementById(\"8d62a412-7556-482a-9953-e818e3f65607\")).parents('.cell').data().cell;\n",
       "      cell.output_area.append_execute_result(NB_LOAD_WARNING)\n",
       "    }\n",
       "\n",
       "  }\n",
       "\n",
       "  if (root._bokeh_is_loading === 0) {\n",
       "    console.log(\"Bokeh: BokehJS loaded, going straight to plotting\");\n",
       "    run_inline_js();\n",
       "  } else {\n",
       "    load_libs(js_urls, function() {\n",
       "      console.log(\"Bokeh: BokehJS plotting callback run at\", now());\n",
       "      run_inline_js();\n",
       "    });\n",
       "  }\n",
       "}(window));"
      ],
      "application/vnd.bokehjs_load.v0+json": "\n(function(root) {\n  function now() {\n    return new Date();\n  }\n\n  var force = true;\n\n  if (typeof (root._bokeh_onload_callbacks) === \"undefined\" || force === true) {\n    root._bokeh_onload_callbacks = [];\n    root._bokeh_is_loading = undefined;\n  }\n\n  \n\n  \n  if (typeof (root._bokeh_timeout) === \"undefined\" || force === true) {\n    root._bokeh_timeout = Date.now() + 5000;\n    root._bokeh_failed_load = false;\n  }\n\n  var NB_LOAD_WARNING = {'data': {'text/html':\n     \"<div style='background-color: #fdd'>\\n\"+\n     \"<p>\\n\"+\n     \"BokehJS does not appear to have successfully loaded. If loading BokehJS from CDN, this \\n\"+\n     \"may be due to a slow or bad network connection. Possible fixes:\\n\"+\n     \"</p>\\n\"+\n     \"<ul>\\n\"+\n     \"<li>re-rerun `output_notebook()` to attempt to load from CDN again, or</li>\\n\"+\n     \"<li>use INLINE resources instead, as so:</li>\\n\"+\n     \"</ul>\\n\"+\n     \"<code>\\n\"+\n     \"from bokeh.resources import INLINE\\n\"+\n     \"output_notebook(resources=INLINE)\\n\"+\n     \"</code>\\n\"+\n     \"</div>\"}};\n\n  function display_loaded() {\n    var el = document.getElementById(\"8d62a412-7556-482a-9953-e818e3f65607\");\n    if (el != null) {\n      el.textContent = \"BokehJS is loading...\";\n    }\n    if (root.Bokeh !== undefined) {\n      if (el != null) {\n        el.textContent = \"BokehJS \" + root.Bokeh.version + \" successfully loaded.\";\n      }\n    } else if (Date.now() < root._bokeh_timeout) {\n      setTimeout(display_loaded, 100)\n    }\n  }\n\n\n  function run_callbacks() {\n    try {\n      root._bokeh_onload_callbacks.forEach(function(callback) { callback() });\n    }\n    finally {\n      delete root._bokeh_onload_callbacks\n    }\n    console.info(\"Bokeh: all callbacks have finished\");\n  }\n\n  function load_libs(js_urls, callback) {\n    root._bokeh_onload_callbacks.push(callback);\n    if (root._bokeh_is_loading > 0) {\n      console.log(\"Bokeh: BokehJS is being loaded, scheduling callback at\", now());\n      return null;\n    }\n    if (js_urls == null || js_urls.length === 0) {\n      run_callbacks();\n      return null;\n    }\n    console.log(\"Bokeh: BokehJS not loaded, scheduling load and callback at\", now());\n    root._bokeh_is_loading = js_urls.length;\n    for (var i = 0; i < js_urls.length; i++) {\n      var url = js_urls[i];\n      var s = document.createElement('script');\n      s.src = url;\n      s.async = false;\n      s.onreadystatechange = s.onload = function() {\n        root._bokeh_is_loading--;\n        if (root._bokeh_is_loading === 0) {\n          console.log(\"Bokeh: all BokehJS libraries loaded\");\n          run_callbacks()\n        }\n      };\n      s.onerror = function() {\n        console.warn(\"failed to load library \" + url);\n      };\n      console.log(\"Bokeh: injecting script tag for BokehJS library: \", url);\n      document.getElementsByTagName(\"head\")[0].appendChild(s);\n    }\n  };var element = document.getElementById(\"8d62a412-7556-482a-9953-e818e3f65607\");\n  if (element == null) {\n    console.log(\"Bokeh: ERROR: autoload.js configured with elementid '8d62a412-7556-482a-9953-e818e3f65607' but no matching script tag was found. \")\n    return false;\n  }\n\n  var js_urls = [\"https://cdn.pydata.org/bokeh/release/bokeh-0.12.13.min.js\", \"https://cdn.pydata.org/bokeh/release/bokeh-widgets-0.12.13.min.js\", \"https://cdn.pydata.org/bokeh/release/bokeh-tables-0.12.13.min.js\", \"https://cdn.pydata.org/bokeh/release/bokeh-gl-0.12.13.min.js\"];\n\n  var inline_js = [\n    function(Bokeh) {\n      Bokeh.set_log_level(\"info\");\n    },\n    \n    function(Bokeh) {\n      \n    },\n    function(Bokeh) {\n      console.log(\"Bokeh: injecting CSS: https://cdn.pydata.org/bokeh/release/bokeh-0.12.13.min.css\");\n      Bokeh.embed.inject_css(\"https://cdn.pydata.org/bokeh/release/bokeh-0.12.13.min.css\");\n      console.log(\"Bokeh: injecting CSS: https://cdn.pydata.org/bokeh/release/bokeh-widgets-0.12.13.min.css\");\n      Bokeh.embed.inject_css(\"https://cdn.pydata.org/bokeh/release/bokeh-widgets-0.12.13.min.css\");\n      console.log(\"Bokeh: injecting CSS: https://cdn.pydata.org/bokeh/release/bokeh-tables-0.12.13.min.css\");\n      Bokeh.embed.inject_css(\"https://cdn.pydata.org/bokeh/release/bokeh-tables-0.12.13.min.css\");\n    }\n  ];\n\n  function run_inline_js() {\n    \n    if ((root.Bokeh !== undefined) || (force === true)) {\n      for (var i = 0; i < inline_js.length; i++) {\n        inline_js[i].call(root, root.Bokeh);\n      }if (force === true) {\n        display_loaded();\n      }} else if (Date.now() < root._bokeh_timeout) {\n      setTimeout(run_inline_js, 100);\n    } else if (!root._bokeh_failed_load) {\n      console.log(\"Bokeh: BokehJS failed to load within specified timeout.\");\n      root._bokeh_failed_load = true;\n    } else if (force !== true) {\n      var cell = $(document.getElementById(\"8d62a412-7556-482a-9953-e818e3f65607\")).parents('.cell').data().cell;\n      cell.output_area.append_execute_result(NB_LOAD_WARNING)\n    }\n\n  }\n\n  if (root._bokeh_is_loading === 0) {\n    console.log(\"Bokeh: BokehJS loaded, going straight to plotting\");\n    run_inline_js();\n  } else {\n    load_libs(js_urls, function() {\n      console.log(\"Bokeh: BokehJS plotting callback run at\", now());\n      run_inline_js();\n    });\n  }\n}(window));"
     },
     "metadata": {},
     "output_type": "display_data"
    },
    {
     "name": "stderr",
     "output_type": "stream",
     "text": [
      "  0%|          | 0/200 [00:00<?, ?it/s]C:\\Users\\pc\\Anaconda3\\lib\\site-packages\\ipykernel_launcher.py:15: DeprecationWarning: Call to deprecated `__getitem__` (Method will be removed in 4.0.0, use self.wv.__getitem__() instead).\n",
      "  from ipykernel import kernelapp as app\n",
      "100%|██████████| 200/200 [00:00<00:00, 24391.16it/s]\n"
     ]
    },
    {
     "name": "stdout",
     "output_type": "stream",
     "text": [
      "[t-SNE] Computing 91 nearest neighbors...\n",
      "[t-SNE] Indexed 200 samples in 0.004s...\n",
      "[t-SNE] Computed neighbors for 200 samples in 0.056s...\n",
      "[t-SNE] Computed conditional probabilities for sample 200 / 200\n",
      "[t-SNE] Mean sigma: 0.198128\n",
      "[t-SNE] KL divergence after 250 iterations with early exaggeration: 125.156868\n",
      "[t-SNE] Error after 1000 iterations: 1.553657\n"
     ]
    },
    {
     "data": {
      "text/html": [
       "\n",
       "<div class=\"bk-root\">\n",
       "    <div class=\"bk-plotdiv\" id=\"6a4c7a54-f6d9-4b9e-a5f8-d7633cf02e68\"></div>\n",
       "</div>"
      ]
     },
     "metadata": {},
     "output_type": "display_data"
    },
    {
     "data": {
      "application/javascript": [
       "(function(root) {\n",
       "  function embed_document(root) {\n",
       "    \n",
       "  var docs_json = {\"cb11795c-81f9-4e3a-bd4e-9e37b3949531\":{\"roots\":{\"references\":[{\"attributes\":{},\"id\":\"dd88b9ee-8cc6-4ec0-ba72-4f82f3f0c1dd\",\"type\":\"LinearScale\"},{\"attributes\":{},\"id\":\"5a462018-a385-4293-bd03-cbf41da2ed6e\",\"type\":\"PanTool\"},{\"attributes\":{\"active_drag\":\"auto\",\"active_inspect\":\"auto\",\"active_scroll\":\"auto\",\"active_tap\":\"auto\",\"tools\":[{\"id\":\"5a462018-a385-4293-bd03-cbf41da2ed6e\",\"type\":\"PanTool\"},{\"id\":\"e3cea04c-b275-4cf1-a817-a56deaa381c6\",\"type\":\"WheelZoomTool\"},{\"id\":\"02c5451e-52b3-4bab-9426-a0b135db7cdb\",\"type\":\"BoxZoomTool\"},{\"id\":\"53c6848b-b53c-4100-b922-33dd83a0ab3d\",\"type\":\"ResetTool\"},{\"id\":\"b08e21f1-d088-4cc9-a7d4-0aeca7f3e061\",\"type\":\"HoverTool\"},{\"id\":\"5fc83c18-768d-467c-8566-9bb3cf905716\",\"type\":\"SaveTool\"}]},\"id\":\"7005eae2-a1bb-4066-8e37-36a0b1419972\",\"type\":\"Toolbar\"},{\"attributes\":{\"callback\":null,\"column_names\":[\"x\",\"y\",\"words\",\"index\"],\"data\":{\"index\":[0,1,2,3,4,5,6,7,8,9,10,11,12,13,14,15,16,17,18,19,20,21,22,23,24,25,26,27,28,29,30,31,32,33,34,35,36,37,38,39,40,41,42,43,44,45,46,47,48,49,50,51,52,53,54,55,56,57,58,59,60,61,62,63,64,65,66,67,68,69,70,71,72,73,74,75,76,77,78,79,80,81,82,83,84,85,86,87,88,89,90,91,92,93,94,95,96,97,98,99,100,101,102,103,104,105,106,107,108,109,110,111,112,113,114,115,116,117,118,119,120,121,122,123,124,125,126,127,128,129,130,131,132,133,134,135,136,137,138,139,140,141,142,143,144,145,146,147,148,149,150,151,152,153,154,155,156,157,158,159,160,161,162,163,164,165,166,167,168,169,170,171,172,173,174,175,176,177,178,179,180,181,182,183,184,185,186,187,188,189,190,191,192,193,194,195,196,197,198,199],\"words\":[\"\\ub2a5\",\"\\ud560\",\"\\ubaa9\\ud45c\\uce58\",\"\\ub97c\",\"\\ub0ae\\ucdb0\",\"\\uc7a1\\uc558\",\"\\ub2e4\",\"\\ud55c\\uad6d\",\"\\uac1c\\ubc1c\",\"\\uc5f0\\uad6c\\uc6d0\",\"KDI\",\",\",\"\\ud604\\ub300\\uacbd\\uc81c\\uc5f0\\uad6c\\uc6d0\",\"3\",\".\",\"6\",\"\\uc8fc\\uc694\",\"\\uad6d\\ucc45\",\"\\ubbfc\\uac04\",\"\\uc5f0\\uad6c\\uae30\\uad00\",\"\\ub4e4\",\"\\ube44\\uad50\",\"\\ud574\",\"0\",\"1\",\"4\",\"\\ub192\\uc544\",\"\\ubc84\\uac70\\uc6b4\",\"\\uc218\\uce58\",\"\\uc720\\ub7fd\",\"\\uc758\",\"\\uacbd\\uc81c\",\"\\uce68\\uccb4\",\"\\uc7a5\\uae30\",\"\\ud654\",\"\\uc640\",\"\\uc5d4\\uc800\",\"\\uac00\\uc18d\",\"\\uc911\\uad6d\",\"\\uc131\\uc7a5\\uc138\",\"\\ub454\\ud654\",\"\\uc720\\uac00\",\"\\uae09\\ub77d\",\"\\ub530\\ub978\",\"\\ub7ec\\uc2dc\\uc544\",\"\\uc2e0\\ud765\",\"\\uad6d\\uc758\",\"\\ubd88\\ud669\",\"\\uc704\\ud5d8\\uc131\",\"\\uc608\\uace0\",\"\\ub41c\",\"\\ubbf8\\uad6d\",\"\\uae08\\ub9ac\",\"\\uc778\\uc0c1\",\"\\ub4f1\\uc774\",\"\\ud558\\ubc29\",\"\\ub9ac\\uc2a4\\ud06c\",\"\\ub192\\uc774\",\"\\ub294\",\"\\uc694\\uc778\",\"\\uace0\\ud608\\uc555\",\"\\ube44\\uc720\",\"\\ub420\",\"\\uc218\",\"\\uac00\\uacc4\",\"\\ubd80\\ucc44\",\"\\uc99d\\uac00\",\"\\uc788\\uace0\",\"\\uc800\\ucd9c\\uc0b0\",\"\\u318d\",\"\\uace0\\ub839\\ud654\",\"\\ud65c\\ub825\",\"\\uc774\",\"\\uc810\\ucc28\",\"\\ub5a8\\uc5b4\\uc9c0\\ub294\",\"\\ub370\",\"\\ub300\\uc751\\ud560\",\"\\uad6c\\uc870\",\"\\uac1c\\ud601\",\"\\uc740\",\"\\uc0c1\\ub300\",\"\\uc801\",\"\\ub354\",\"\\ub514\\ub2e4\",\"\\ub300\\uc678\",\"\\uc5ec\\uac74\",\"\\uc6b0\\ud638\\uc801\",\"\\ubabb\",\"\\uc0c1\\ud669\",\"\\uc218\\ucd9c\",\"\\uc5d0\\ub9cc\",\"\\uc758\\uc874\\ud558\\ub2e4\",\"\\ubcf4\\ub2c8\",\"\\uc218\\ub144\\uac04\",\"\\uc800\\uc131\",\"\\ub2aa\",\"\\ud5e4\\uc5b4\",\"\\ub098\",\"\\uc624\\uc9c0\",\"\\ud588\",\"\\uc815\\ubd80\",\"\\uc0c8\\ud574\",\"\\uc911\\uc810\",\"\\uc81c\\ub85c\",\"\\ub0b4\\uc218\",\"\\uade0\\ud615\",\"\\ub0b4\",\"\\uc138\\uc6b4\",\"\\uac83\",\"\\ud0c0\\ub2f9\",\"\\ud2b9\\ud788\",\"\\uc815\\ub9ac\\ud574\\uace0\",\"\\uc694\\uac74\",\"\\uc644\\ud654\",\"\\ube44\\uc815\\uaddc\\uc9c1\",\"\\ucc98\\uc6b0\",\"\\uac1c\\uc120\",\"\\uc0ac\\uc548\",\"\\ub2e4\\ub8e8\\ub294\",\"\\ub178\\ub3d9\\uc2dc\\uc7a5\",\"\\uc798\\ubabb\",\"\\uc190\\ub300\",\"\\uba74\",\"\\ub4a4\",\"\\ud754\\ub4dc\\ub294\",\"\\ub1cc\\uad00\",\"\\ub178\\uc0ac\",\"\\ucabd\",\"\\ud76c\\uc0dd\",\"\\uac15\\uc694\\ud558\\ub294\",\"\\uc81c\\ub85c\\uc12c\",\"\\uac8c\\uc784\",\"\\uc9c0\",\"\\ub124\",\"\\uc0b4\",\"\\uc544\\uc57c\",\"\\ub098\\ub3c4\",\"\\ud3ec\\uc9c0\\ud2f0\\ube0c\",\"\\uc12c\",\"\\uc788\\ub3c4\",\"\\ub85d\",\"\\ub3c4\",\"\\uc0ac\\ud68c\\uc548\\uc804\\ub9dd\",\"\\ud655\\ucda9\",\"\\uc2e4\\ud6a8\\uc801\",\"\\uc9c0\\uc6d0\\ucc45\",\"\\uac15\",\"\\uad6c\\ud574\\uc57c\",\"\\uacf3\",\"200\",\"\\uc804\",\"\\uc870\\uc120\",\"\\uc815\\uc870\",\"\\uc784\\uae08\",\"\\ud601\\uc2e0\",\"\\uc801\\uc778\",\"\\ub18d\\uc5c5\",\"\\uc815\\ucc45\",\"\\ud3bc\",\"\\uccd0\",\"\\ubaa8\\ubc94\",\"\\ub3c4\\uc2dc\",\"\\uad6c\\ud604\",\"1962\",\"\\ub18d\\uc9c4\\uccad\",\"\\uc124\\ub9bd\",\".,\",\"\\ud574\\uc6b4\",\"\\ub300\\uc11c\",\"9\",\"\\uc77c\",\"29\",\"\\ud68c\",\"\\ubd81\\uadf9\\uacf0\",\"\\uc218\\uc601\",\"\\ucd95\\uc81c\",\"\\uad6d\",\"\\u00b7\",\"\\ub0b4\\uc678\",\"5\",\"\\uc5ec\\uba85\",\"\\ucc38\\uac00\\ud558\\ub294\",\"\\ud574\\uc6b4\\ub300\\ud574\\uc218\\uc695\\uc7a5\",\"\\ucc38\\uac00\",\"\\uc790\\uc640\",\"\\uad00\\uad11\\uac1d\",\"\\ubc15\",\"2\",\"\\uc77c\\uac04\",\"\\uac00\\uc871\",\"\\ucc38\\uc5ec\",\"\\uc990\\uae38\",\"\\uc804\\uc57c\\uc81c\",\"\\ud589\\uc0ac\",\"\\ub2e4\\ucc44\",\"\\ub85c\\uc6b4\",\"\\ud504\\ub85c\\uadf8\\ub7a8\",\"\\ubcf4\\uac15\",\"\\ud2b9\\uc9d5\",\"\\ubd80\\ub300\"],\"x\":{\"__ndarray__\":\"OwUuQgfF6MFYGwRC/x6Pweh+ocInKBfCUaCJQMts38DzXRTByvvBwg1gnkKdZm6+OGHIQStC50E3sHXA+pMsQumHukId7cbCwXE2wucVucJmb6rB3OoXw+b7hEFqqltCONFuwSJjpMEejILCGRx5wDVRJEOhTMZCUS3PwOGUacE5eu9CP5saw7CKD0L+uujBpzqJQKG5IsOBbZHBwn4HQzqalUKJoIhC9ESVwSGWiEIzTXnCjz01Qiz7ysIFgd5CUOQTQ+S5AcNqWmNBduxFQqqnDMC/E5LCQg3vwrOoDcMFR/1CbN9WworFFkG9vdhCFHGAwg27jcIbzpjB/1nmwYyzCkLzQFLBkRi4v3SU5EGVm+3C7Ul+wgRqskI13yVCSyjBP68Qm0Ksif5CEFVFwYDWJ8KYUV/CAlYDwWrIcEGE0yDD3V1BQXjnjUGdqN3BbKrjwd+JEMJTF6XAeFgtwkSVrUELaXdC889QQiSqFkEA7wnDUMYgwlie+8LfkY1CBqOnQkX49MBG1VhBpT+cQHdaBUJYmn7CIG9pQm9Yn8L/UslCTIimQgecGMLch2BBgQYwwQTtk8EMTTjCx+/CwhE6ZkJEhzFCdjyXwnf+mMJNA1dBuFSuwuTTtUJHZvHC/qDBQlgvBsJg4OVBtbo9wuoHVEJJAshB4jXWwrLcw8GO1v/Coab8QYJ3psJf93NAX5OoQOaxIEIslMjC3OMWwomhUEKyl+NCMl/EQj3jxMJeHrlAoHWxQah/FEMQsUzCJRL9wbaajcKBY+hBifNywgQLzsKswuJBIIsvQqrCU8JuCR1CSSCVQhuZhUJXY49BtioPREa+VMKVLx5DIriKwsObIsMKPaPCEFQbw8Na6kKrKgtDflLvwlxhlUCW2flCif6PQlZFXUKkrWJBxmtNwjABVcK3+tZC2cVgQrz1pkLCkLnCsrOtv7+ae0IQkQPCFfvcQckvqMKalNNC7jK6wso2usHe9ezCsviPwfBB1sHiMCZDjWqXQJhxzkIgUADCLHkOQnWvjEL/n/pAd3RNQsk5RUEDlnLCiVjFwSkoCEM=\",\"dtype\":\"float32\",\"shape\":[200]},\"y\":{\"__ndarray__\":\"bz9zws+2BsJlQsvCfimZQcbP2cL/vwHD0MmFv35eY8G92wHD87gqwqGyIEI8bgxByq+HQifbRcC55Om/e64zwStgrEGDRa1CGXq5Qixi0UKWp7ZA86fGwTbZFMG2zk4+4KOpwO+2g8EDc+/CBRTLwnpJJELCw0JCTzKSQX0qAkJ/EozCy8IiQpiUrEJU+GpBgoiDwlGRUkKMmn7CiOrFwsEwukIXVf5CcJsHQ4XNSMLY9RnC0YHowbLkxkDQR4nCVjx+wnDrnMI6OKbBGxwwwou4NkIjq7DChGWJQulA48JAq1pCmvIVQ8+lJ0GKUJhC3gjuQjCMP0LKEB/CKjTyQaFWREKSS4BCBbkTwgaB88G+y1vCk+7FwKhqT8LUZqDCrcq4wVo718IzC81CwGLUwfiMCsLqB7nBk/KfwoHcpz807VjBwGoSQgdvuUFpyyHDSLGpwk0xhMJJxKdCnWa2QWSCaMLnkAJCPyfxwsydP8KIbLZCAi3tQjCqMUILlHJCqFaKQsVfSsJmtKtCvEU4wTVrlUEqlhjDtYq7wpalm8EsygHDSm+bwndGYUAnk+fChW7mQIG2QEKtAxfB5q2Mwk1CoEIxnYJCaRyDwrOhUsLfXyBDzzYMQ1KLx787QPTBRp/TQvx/VULmzYLB2KjFwqDtQUIJGZTCK3fCwg8CskJscq+/Jw00wq1/3MGXfNRCFIiZQnYazUBSegbDFUwXQkY600Jsz+JAjScLQ8ApVEJwX21CPGIoQdU5l0LlunpC6sCOQtlHMUHiHAfD6nPbQdTPiMHO+QZCMkzvQU02LUITsiPDlVOBQRcr/cFID0BC4miMwpzREkFmOwzC94m7QpkYAUHaWIhCiLJowi4b8EGdXM9B+N6wQd5ZpUG95g/CZvWowJk3gMEDlAbCc+dVws60l8JApobB5YKBQVptusGFA2pAsKL9Qfpti8JHfJHBaE3ZQi3660Hp9AHC1oj7QZTWJUPRzPNChAfbQlfez8CwxyTAOoEcw4IkxsIUzDzCAw4DQ4eEEcPMxgJDyh0eQ1A9sMLN2JJCzinWwiiI38A=\",\"dtype\":\"float32\",\"shape\":[200]}}},\"id\":\"6559301d-4932-4ce8-a76e-9d409db32f9d\",\"type\":\"ColumnDataSource\"},{\"attributes\":{\"source\":{\"id\":\"6559301d-4932-4ce8-a76e-9d409db32f9d\",\"type\":\"ColumnDataSource\"}},\"id\":\"1fad1743-30b9-4d68-99c7-a05b0cad8301\",\"type\":\"CDSView\"},{\"attributes\":{\"bottom_units\":\"screen\",\"fill_alpha\":{\"value\":0.5},\"fill_color\":{\"value\":\"lightgrey\"},\"left_units\":\"screen\",\"level\":\"overlay\",\"line_alpha\":{\"value\":1.0},\"line_color\":{\"value\":\"black\"},\"line_dash\":[4,4],\"line_width\":{\"value\":2},\"plot\":null,\"render_mode\":\"css\",\"right_units\":\"screen\",\"top_units\":\"screen\"},\"id\":\"88afa576-4eeb-4cb6-8e19-3d9f9072158a\",\"type\":\"BoxAnnotation\"},{\"attributes\":{\"fill_color\":{\"value\":\"#1f77b4\"},\"line_color\":{\"value\":\"#1f77b4\"},\"x\":{\"field\":\"x\"},\"y\":{\"field\":\"y\"}},\"id\":\"0fb54ce9-da13-406c-b76c-4281bebbedb0\",\"type\":\"Circle\"},{\"attributes\":{\"min_border\":1,\"plot_height\":500,\"plot_width\":500,\"renderers\":[{\"id\":\"88afa576-4eeb-4cb6-8e19-3d9f9072158a\",\"type\":\"BoxAnnotation\"},{\"id\":\"97e3832d-14e4-4973-b301-ea52591058b3\",\"type\":\"GlyphRenderer\"}],\"title\":{\"id\":\"297dec94-0a26-4b36-baeb-efe33b90e2f8\",\"type\":\"Title\"},\"toolbar\":{\"id\":\"7005eae2-a1bb-4066-8e37-36a0b1419972\",\"type\":\"Toolbar\"},\"x_range\":{\"id\":\"bc88eee9-db5f-4b24-9473-7117568b1302\",\"type\":\"DataRange1d\"},\"x_scale\":{\"id\":\"e9f024b0-c781-47aa-9c1d-fcb1e5a1a9e4\",\"type\":\"LinearScale\"},\"y_range\":{\"id\":\"4448596e-ab38-437e-92fc-51c292e0c0a9\",\"type\":\"DataRange1d\"},\"y_scale\":{\"id\":\"dd88b9ee-8cc6-4ec0-ba72-4f82f3f0c1dd\",\"type\":\"LinearScale\"}},\"id\":\"965917f4-e596-4587-afbe-0cbb383f97fc\",\"subtype\":\"Figure\",\"type\":\"Plot\"},{\"attributes\":{},\"id\":\"e9f024b0-c781-47aa-9c1d-fcb1e5a1a9e4\",\"type\":\"LinearScale\"},{\"attributes\":{\"callback\":null},\"id\":\"4448596e-ab38-437e-92fc-51c292e0c0a9\",\"type\":\"DataRange1d\"},{\"attributes\":{\"callback\":null},\"id\":\"bc88eee9-db5f-4b24-9473-7117568b1302\",\"type\":\"DataRange1d\"},{\"attributes\":{},\"id\":\"53c6848b-b53c-4100-b922-33dd83a0ab3d\",\"type\":\"ResetTool\"},{\"attributes\":{\"plot\":null,\"text\":\"A map of word vectors\"},\"id\":\"297dec94-0a26-4b36-baeb-efe33b90e2f8\",\"type\":\"Title\"},{\"attributes\":{\"data_source\":{\"id\":\"6559301d-4932-4ce8-a76e-9d409db32f9d\",\"type\":\"ColumnDataSource\"},\"glyph\":{\"id\":\"0fb54ce9-da13-406c-b76c-4281bebbedb0\",\"type\":\"Circle\"},\"hover_glyph\":null,\"muted_glyph\":null,\"nonselection_glyph\":{\"id\":\"999054bf-28e5-4876-8c84-36962193dc19\",\"type\":\"Circle\"},\"selection_glyph\":null,\"view\":{\"id\":\"1fad1743-30b9-4d68-99c7-a05b0cad8301\",\"type\":\"CDSView\"}},\"id\":\"97e3832d-14e4-4973-b301-ea52591058b3\",\"type\":\"GlyphRenderer\"},{\"attributes\":{},\"id\":\"e3cea04c-b275-4cf1-a817-a56deaa381c6\",\"type\":\"WheelZoomTool\"},{\"attributes\":{\"callback\":null,\"tooltips\":[[\"word\",\"@words\"]]},\"id\":\"b08e21f1-d088-4cc9-a7d4-0aeca7f3e061\",\"type\":\"HoverTool\"},{\"attributes\":{\"fill_alpha\":{\"value\":0.1},\"fill_color\":{\"value\":\"#1f77b4\"},\"line_alpha\":{\"value\":0.1},\"line_color\":{\"value\":\"#1f77b4\"},\"x\":{\"field\":\"x\"},\"y\":{\"field\":\"y\"}},\"id\":\"999054bf-28e5-4876-8c84-36962193dc19\",\"type\":\"Circle\"},{\"attributes\":{\"overlay\":{\"id\":\"88afa576-4eeb-4cb6-8e19-3d9f9072158a\",\"type\":\"BoxAnnotation\"}},\"id\":\"02c5451e-52b3-4bab-9426-a0b135db7cdb\",\"type\":\"BoxZoomTool\"},{\"attributes\":{},\"id\":\"5fc83c18-768d-467c-8566-9bb3cf905716\",\"type\":\"SaveTool\"}],\"root_ids\":[\"965917f4-e596-4587-afbe-0cbb383f97fc\"]},\"title\":\"Bokeh Application\",\"version\":\"0.12.13\"}};\n",
       "  var render_items = [{\"docid\":\"cb11795c-81f9-4e3a-bd4e-9e37b3949531\",\"elementid\":\"6a4c7a54-f6d9-4b9e-a5f8-d7633cf02e68\",\"modelid\":\"965917f4-e596-4587-afbe-0cbb383f97fc\"}];\n",
       "  root.Bokeh.embed.embed_items_notebook(docs_json, render_items);\n",
       "\n",
       "  }\n",
       "  if (root.Bokeh !== undefined) {\n",
       "    embed_document(root);\n",
       "  } else {\n",
       "    var attempts = 0;\n",
       "    var timer = setInterval(function(root) {\n",
       "      if (root.Bokeh !== undefined) {\n",
       "        embed_document(root);\n",
       "        clearInterval(timer);\n",
       "      }\n",
       "      attempts++;\n",
       "      if (attempts > 100) {\n",
       "        console.log(\"Bokeh: ERROR: Unable to run BokehJS code because BokehJS library is missing\")\n",
       "        clearInterval(timer);\n",
       "      }\n",
       "    }, 10, root)\n",
       "  }\n",
       "})(window);"
      ],
      "application/vnd.bokehjs_exec.v0+json": ""
     },
     "metadata": {
      "application/vnd.bokehjs_exec.v0+json": {
       "id": "965917f4-e596-4587-afbe-0cbb383f97fc"
      }
     },
     "output_type": "display_data"
    }
   ],
   "source": [
    "Make_TSNE2(2, model1, wv1, 200)"
   ]
  },
  {
   "cell_type": "markdown",
   "metadata": {},
   "source": [
    "### model1"
   ]
  },
  {
   "cell_type": "code",
   "execution_count": null,
   "metadata": {},
   "outputs": [],
   "source": [
    "model = Sequential()\n",
    "model.add(Dense(32, activation='relu', input_dim=1000))\n",
    "model.add(Dense(1, activation='sigmoid'))\n",
    "model.compile(optimizer='rmsprop',\n",
    "              loss='binary_crossentropy',\n",
    "              metrics=['accuracy'])\n",
    "history = model.fit(train_vecs_w2v, y_train, epochs=100, batch_size=50000, verbose=0,\n",
    "          validation_split=0.2,\n",
    "          callbacks=[TQDMNotebookCallback(show_inner=False)])\n",
    "\n",
    "score, acc = model.evaluate(test_vecs_w2v, y_test, verbose=0)\n",
    "print('Score: %1.4f' % score)\n",
    "print('Accuracy: %1.4f' % acc)"
   ]
  },
  {
   "cell_type": "code",
   "execution_count": null,
   "metadata": {},
   "outputs": [],
   "source": [
    "model = Sequential()\n",
    "model.add(Dense(128, activation='relu', input_dim=1000))\n",
    "model.add(Dense(64, activation='relu', kernel_regularizer=l2(0.001)))\n",
    "model.add(Dropout(0.1))\n",
    "model.add(Dense(32, activation='relu', kernel_regularizer=l2(0.001)))\n",
    "model.add(Dropout(0.1))\n",
    "model.add(Dense(2, activation='sigmoid'))\n",
    "model.compile(#optimizer='rmsprop',\n",
    "    optimizer='adadelta',\n",
    "              #loss='binary_crossentropy',\n",
    "    #optimizer=SGD(lr=0.2), \n",
    "    loss='binary_crossentropy',\n",
    "    metrics=['accuracy'])\n",
    "\n",
    "history = model.fit(train_vecs_w2v, y_train, epochs=100, batch_size=50000, verbose=0, validation_split=0.2,\n",
    "          callbacks=[TQDMNotebookCallback(show_inner=False)])\n",
    "score, acc = model.evaluate(test_vecs_w2v, y_test, verbose=0)\n",
    "print('Score: %1.4f' % score)\n",
    "print('Accuracy: %1.4f' % acc)"
   ]
  },
  {
   "cell_type": "code",
   "execution_count": null,
   "metadata": {},
   "outputs": [],
   "source": [
    "plot_history(history)"
   ]
  },
  {
   "cell_type": "code",
   "execution_count": null,
   "metadata": {},
   "outputs": [],
   "source": []
  },
  {
   "cell_type": "code",
   "execution_count": null,
   "metadata": {},
   "outputs": [],
   "source": []
  }
 ],
 "metadata": {
  "kernelspec": {
   "display_name": "Python 3",
   "language": "python",
   "name": "python3"
  },
  "language_info": {
   "codemirror_mode": {
    "name": "ipython",
    "version": 3
   },
   "file_extension": ".py",
   "mimetype": "text/x-python",
   "name": "python",
   "nbconvert_exporter": "python",
   "pygments_lexer": "ipython3",
   "version": "3.6.4"
  }
 },
 "nbformat": 4,
 "nbformat_minor": 2
}
