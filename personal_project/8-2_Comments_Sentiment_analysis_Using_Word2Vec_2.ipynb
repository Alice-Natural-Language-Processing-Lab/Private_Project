{
 "cells": [
  {
   "cell_type": "markdown",
   "metadata": {},
   "source": [
    "# 수집된 뉴스 기사 및 댓글에 대한 감정 분석\n",
    "## * Word2Vec\n",
    "* 데이터 \n",
    "> 2017년 12월 1일부터 2018년 2월 1일까지 63일간 [네이버](http://www.naver.com)와 [다음](http://www.daum.net)의 랭킹뉴스와 뉴스의 댓글을 크롤링함."
   ]
  },
  {
   "cell_type": "code",
   "execution_count": 1,
   "metadata": {
    "scrolled": true
   },
   "outputs": [
    {
     "name": "stderr",
     "output_type": "stream",
     "text": [
      "/Users/hyunyoun/anaconda3/lib/python3.6/site-packages/h5py/__init__.py:36: FutureWarning: Conversion of the second argument of issubdtype from `float` to `np.floating` is deprecated. In future, it will be treated as `np.float64 == np.dtype(float).type`.\n",
      "  from ._conv import register_converters as _register_converters\n",
      "Using TensorFlow backend.\n"
     ]
    }
   ],
   "source": [
    "import pickle\n",
    "import html\n",
    "import multiprocessing\n",
    "from collections import namedtuple, OrderedDict\n",
    "import re\n",
    "import sys\n",
    "import os\n",
    "from glob import glob\n",
    "from numba import jit\n",
    "import warnings\n",
    "from IPython.display import clear_output\n",
    "os.environ['KERAS_BACKEND']='tensorflow'\n",
    "\n",
    "import numpy as np\n",
    "from tqdm import tqdm\n",
    "tqdm.pandas(desc=\"progress-bar\")\n",
    "import pandas as pd\n",
    "\n",
    "from gensim.models import Word2Vec, KeyedVectors\n",
    "from gensim.models.doc2vec import TaggedDocument\n",
    "\n",
    "from konlpy.utils import pprint\n",
    "\n",
    "from sklearn.model_selection import train_test_split\n",
    "from sklearn.linear_model import LogisticRegression\n",
    "from sklearn.ensemble import RandomForestClassifier\n",
    "from sklearn.svm import SVC\n",
    "from sklearn.metrics import confusion_matrix, classification_report, roc_curve,  accuracy_score\n",
    "from sklearn.feature_extraction.text import TfidfVectorizer\n",
    "from sklearn.preprocessing import scale, MinMaxScaler, LabelEncoder\n",
    "from sklearn.manifold import TSNE\n",
    "\n",
    "import keras.backend.tensorflow_backend as K\n",
    "from keras.preprocessing import sequence\n",
    "from keras_tqdm import TQDMCallback, TQDMNotebookCallback\n",
    "from keras.models import Model, Sequential\n",
    "from keras.regularizers import l2\n",
    "from keras.optimizers import SGD\n",
    "from keras.utils import np_utils\n",
    "from keras.layers import Input, Flatten, Dense, Embedding, embeddings, merge, Dropout, Activation,  LSTM, Bidirectional, SimpleRNN, GRU\n",
    "from keras.layers.convolutional import Conv1D, Conv2D\n",
    "from keras.layers.pooling import MaxPooling1D, GlobalMaxPooling1D\n",
    "from keras.layers.normalization import BatchNormalization\n",
    "from keras.layers.core import SpatialDropout1D\n",
    "from keras.utils import np_utils\n",
    "from tensorflow.python.client import device_lib\n",
    "from keras.layers.merge import dot\n",
    "\n",
    "import xgboost as xgb\n",
    "\n",
    "import matplotlib.pyplot as plt\n",
    "\n",
    "import bokeh.plotting as bp\n",
    "from bokeh.models import HoverTool, BoxSelectTool\n",
    "from bokeh.plotting import figure, show, output_notebook"
   ]
  },
  {
   "cell_type": "code",
   "execution_count": 2,
   "metadata": {},
   "outputs": [],
   "source": [
    "import Database_Handler as dh\n",
    "import Basic_Module as bm"
   ]
  },
  {
   "cell_type": "code",
   "execution_count": 3,
   "metadata": {},
   "outputs": [],
   "source": [
    "from ckonlpy.tag import Twitter\n",
    "from konlpy.tag import Mecab\n",
    "ct = Twitter()\n",
    "mecab = Mecab()"
   ]
  },
  {
   "cell_type": "markdown",
   "metadata": {},
   "source": [
    "## Stopwords"
   ]
  },
  {
   "cell_type": "code",
   "execution_count": 4,
   "metadata": {},
   "outputs": [],
   "source": [
    "stopwords = open('./data/stopwordsList.txt',encoding='utf-8').readlines()\n",
    "stopwords = list(map(lambda x: x.strip(), stopwords))"
   ]
  },
  {
   "cell_type": "markdown",
   "metadata": {},
   "source": [
    "## TaggedDocument"
   ]
  },
  {
   "cell_type": "code",
   "execution_count": 5,
   "metadata": {},
   "outputs": [],
   "source": [
    "TaggedDocument = namedtuple('TaggedDocument', 'words tags sentiment')"
   ]
  },
  {
   "cell_type": "markdown",
   "metadata": {},
   "source": [
    "## Load Data"
   ]
  },
  {
   "cell_type": "markdown",
   "metadata": {},
   "source": [
    "#### Path"
   ]
  },
  {
   "cell_type": "code",
   "execution_count": 6,
   "metadata": {},
   "outputs": [],
   "source": [
    "if sys.platform =='darwin':\n",
    "    loadModelPath = '/Volumes/disk1/model/'\n",
    "    classifierPath = '/Volumes/disk1/data/pre_data/classifier/'\n",
    "    news_senti_outcome = '/Volumes/disk1/outcome_for_News_sentiment_analysis/'\n",
    "    daumCommentsPath = '/Volumes/disk1/data/daum_Comments/'\n",
    "    naverCommentsPath = '/Volumes/disk1/data/naver_Comments/'\n",
    "    outcomeDaumCommentsPath = '/Volumes/disk1/outcome_comments_for_daum/'\n",
    "    outcomeNaverCommentsPath = '/Volumes/disk1/outcome_comments_for_naver/'\n",
    "    outcome_predata = '/Volumes/disk1/pre_data_for_comments/'\n",
    "    outcome_tagged_data = '/Volumes/disk1/pre_data_for_comments2/'\n",
    "    outcome_vectorized_data = '/Volumes/disk1/pre_data_for_comments3/'\n",
    "elif sys.platform =='win32':\n",
    "    loadModelPath = 'd:/model/'\n",
    "    classifierPath = 'd:/data/pre_data/classifier/'\n",
    "    newsPath = './data/pre_data/news_sentiment/'\n",
    "    news_senti_outcome = './outcome_for_News_sentiment_analysis/'\n",
    "    daumCommentsPath = 'd:/data/daum_Comments/'\n",
    "    naverCommentsPath = 'd:/data/naver_Comments/'\n",
    "    outcomeDaumCommentsPath = 'd:/outcome_comments_for_daum/'\n",
    "    outcomeNaverCommentsPath = 'd:/outcome_comments_for_naver/'\n",
    "    outcome_predata = 'd:/pre_data_for_comments/'\n",
    "    outcome_tagged_data = 'd:/pre_data_for_comments2/'\n",
    "    outcome_vectorized_data = 'd:/pre_data_for_comments3/'"
   ]
  },
  {
   "cell_type": "markdown",
   "metadata": {},
   "source": [
    "#### News"
   ]
  },
  {
   "cell_type": "code",
   "execution_count": 7,
   "metadata": {},
   "outputs": [
    {
     "data": {
      "text/plain": [
       "['naver_news_sentiment_analysis.csv', 'daum_news_sentiment_analysis.csv']"
      ]
     },
     "execution_count": 7,
     "metadata": {},
     "output_type": "execute_result"
    }
   ],
   "source": [
    "os.listdir(news_senti_outcome)"
   ]
  },
  {
   "cell_type": "code",
   "execution_count": 8,
   "metadata": {},
   "outputs": [
    {
     "name": "stdout",
     "output_type": "stream",
     "text": [
      "(15015, 14)\n"
     ]
    },
    {
     "data": {
      "text/html": [
       "<div>\n",
       "<style scoped>\n",
       "    .dataframe tbody tr th:only-of-type {\n",
       "        vertical-align: middle;\n",
       "    }\n",
       "\n",
       "    .dataframe tbody tr th {\n",
       "        vertical-align: top;\n",
       "    }\n",
       "\n",
       "    .dataframe thead th {\n",
       "        text-align: right;\n",
       "    }\n",
       "</style>\n",
       "<table border=\"1\" class=\"dataframe\">\n",
       "  <thead>\n",
       "    <tr style=\"text-align: right;\">\n",
       "      <th></th>\n",
       "      <th>category</th>\n",
       "      <th>date</th>\n",
       "      <th>press</th>\n",
       "      <th>number_of_comment</th>\n",
       "      <th>number_of_crawled_comment</th>\n",
       "      <th>rank</th>\n",
       "      <th>title</th>\n",
       "      <th>mainText</th>\n",
       "      <th>keywords</th>\n",
       "      <th>extracted_keywords</th>\n",
       "      <th>negative</th>\n",
       "      <th>positive</th>\n",
       "      <th>Decision</th>\n",
       "      <th>site</th>\n",
       "    </tr>\n",
       "    <tr>\n",
       "      <th>id</th>\n",
       "      <th></th>\n",
       "      <th></th>\n",
       "      <th></th>\n",
       "      <th></th>\n",
       "      <th></th>\n",
       "      <th></th>\n",
       "      <th></th>\n",
       "      <th></th>\n",
       "      <th></th>\n",
       "      <th></th>\n",
       "      <th></th>\n",
       "      <th></th>\n",
       "      <th></th>\n",
       "      <th></th>\n",
       "    </tr>\n",
       "  </thead>\n",
       "  <tbody>\n",
       "    <tr>\n",
       "      <th>5a29c445588c132954d1973a</th>\n",
       "      <td>정치</td>\n",
       "      <td>2017.12.07</td>\n",
       "      <td>연합뉴스</td>\n",
       "      <td>1713</td>\n",
       "      <td>1465</td>\n",
       "      <td>1</td>\n",
       "      <td>北외무성 \"전쟁 바라지 않지만 결코 피하지 않을 것\"</td>\n",
       "      <td>美고위인사 대북언급 비난하며 \"전쟁 기정사실화\" 위협  며칠 새 이어지는 북한 군민...</td>\n",
       "      <td>['외무성', '핵전쟁', '대변인']</td>\n",
       "      <td>{'미국', '조선반도', '핵전쟁', '북한', '중앙', '도화선', '고위',...</td>\n",
       "      <td>86.0</td>\n",
       "      <td>22.0</td>\n",
       "      <td>negative</td>\n",
       "      <td>Naver</td>\n",
       "    </tr>\n",
       "    <tr>\n",
       "      <th>5a29c445588c132954d1973b</th>\n",
       "      <td>정치</td>\n",
       "      <td>2017.12.07</td>\n",
       "      <td>한국일보</td>\n",
       "      <td>2551</td>\n",
       "      <td>2062</td>\n",
       "      <td>2</td>\n",
       "      <td>예산전쟁, 예결위 간사ㆍ호남이 웃었다</td>\n",
       "      <td>예결위 간사들이 최대 수혜자..당 지도부 내 몫 챙기기도 여전   황주홍ㆍ김도읍 등...</td>\n",
       "      <td>['예산', '예결위', 'soc']</td>\n",
       "      <td>{'호남', '예산안', '의원', '정부안', '증액', '지역구', '국민의당'}</td>\n",
       "      <td>46.0</td>\n",
       "      <td>62.0</td>\n",
       "      <td>positive</td>\n",
       "      <td>Naver</td>\n",
       "    </tr>\n",
       "    <tr>\n",
       "      <th>5a29c445588c132954d1973c</th>\n",
       "      <td>정치</td>\n",
       "      <td>2017.12.07</td>\n",
       "      <td>뉴시스</td>\n",
       "      <td>610</td>\n",
       "      <td>536</td>\n",
       "      <td>3</td>\n",
       "      <td>혐의 부인에 20시간 조사…檢, 최경환 구속 카드 꺼내나</td>\n",
       "      <td>【서울=뉴시스】 최진석 기자 = 박근혜 정부 시절 국가정보원 특수활동비 수수 의혹 ...</td>\n",
       "      <td>['최경환', '구속영장', '국가정보원']</td>\n",
       "      <td>{'구속영장 청구', '조사', '의원', '정기국회', '국정원장', '검찰', ...</td>\n",
       "      <td>77.0</td>\n",
       "      <td>31.0</td>\n",
       "      <td>negative</td>\n",
       "      <td>Naver</td>\n",
       "    </tr>\n",
       "    <tr>\n",
       "      <th>5a29c445588c132954d1973d</th>\n",
       "      <td>정치</td>\n",
       "      <td>2017.12.07</td>\n",
       "      <td>연합뉴스</td>\n",
       "      <td>145</td>\n",
       "      <td>133</td>\n",
       "      <td>4</td>\n",
       "      <td>최재형 감사원장 후보자 \"독립성 강화는 임명권자의 뜻\"</td>\n",
       "      <td>감사원장에 내정된 최재형 사법연수원장(고양=연합뉴스) 이희열 기자 = 7일 감사원장...</td>\n",
       "      <td>['이슈 · 최재형 감사원장 내정', '감사원장', '최재형', '감사원']</td>\n",
       "      <td>{'공직 사회', '법관', '생활', '감사원장', '지명', '후보자'}</td>\n",
       "      <td>39.0</td>\n",
       "      <td>69.0</td>\n",
       "      <td>positive</td>\n",
       "      <td>Naver</td>\n",
       "    </tr>\n",
       "    <tr>\n",
       "      <th>5a29c445588c132954d1973e</th>\n",
       "      <td>정치</td>\n",
       "      <td>2017.12.07</td>\n",
       "      <td>동아일보</td>\n",
       "      <td>1074</td>\n",
       "      <td>932</td>\n",
       "      <td>5</td>\n",
       "      <td>B-1B 한반도에 뜨자, 평양 비운 김정은</td>\n",
       "      <td>[동아일보] 북중 접경지 양강도 삼지연 시찰… 방북 유엔 사무차장 면담 안할듯 B-...</td>\n",
       "      <td>['김정은', 'b-1b', '한반도']</td>\n",
       "      <td>{'공장', '양강도', '사무차장', '삼지연', '시찰', '훈련', '접경',...</td>\n",
       "      <td>72.0</td>\n",
       "      <td>36.0</td>\n",
       "      <td>negative</td>\n",
       "      <td>Naver</td>\n",
       "    </tr>\n",
       "  </tbody>\n",
       "</table>\n",
       "</div>"
      ],
      "text/plain": [
       "                         category        date press  number_of_comment  \\\n",
       "id                                                                       \n",
       "5a29c445588c132954d1973a       정치  2017.12.07  연합뉴스               1713   \n",
       "5a29c445588c132954d1973b       정치  2017.12.07  한국일보               2551   \n",
       "5a29c445588c132954d1973c       정치  2017.12.07   뉴시스                610   \n",
       "5a29c445588c132954d1973d       정치  2017.12.07  연합뉴스                145   \n",
       "5a29c445588c132954d1973e       정치  2017.12.07  동아일보               1074   \n",
       "\n",
       "                          number_of_crawled_comment  rank  \\\n",
       "id                                                          \n",
       "5a29c445588c132954d1973a                       1465     1   \n",
       "5a29c445588c132954d1973b                       2062     2   \n",
       "5a29c445588c132954d1973c                        536     3   \n",
       "5a29c445588c132954d1973d                        133     4   \n",
       "5a29c445588c132954d1973e                        932     5   \n",
       "\n",
       "                                                    title  \\\n",
       "id                                                          \n",
       "5a29c445588c132954d1973a    北외무성 \"전쟁 바라지 않지만 결코 피하지 않을 것\"   \n",
       "5a29c445588c132954d1973b             예산전쟁, 예결위 간사ㆍ호남이 웃었다   \n",
       "5a29c445588c132954d1973c  혐의 부인에 20시간 조사…檢, 최경환 구속 카드 꺼내나   \n",
       "5a29c445588c132954d1973d   최재형 감사원장 후보자 \"독립성 강화는 임명권자의 뜻\"   \n",
       "5a29c445588c132954d1973e          B-1B 한반도에 뜨자, 평양 비운 김정은   \n",
       "\n",
       "                                                                   mainText  \\\n",
       "id                                                                            \n",
       "5a29c445588c132954d1973a  美고위인사 대북언급 비난하며 \"전쟁 기정사실화\" 위협  며칠 새 이어지는 북한 군민...   \n",
       "5a29c445588c132954d1973b  예결위 간사들이 최대 수혜자..당 지도부 내 몫 챙기기도 여전   황주홍ㆍ김도읍 등...   \n",
       "5a29c445588c132954d1973c  【서울=뉴시스】 최진석 기자 = 박근혜 정부 시절 국가정보원 특수활동비 수수 의혹 ...   \n",
       "5a29c445588c132954d1973d  감사원장에 내정된 최재형 사법연수원장(고양=연합뉴스) 이희열 기자 = 7일 감사원장...   \n",
       "5a29c445588c132954d1973e  [동아일보] 북중 접경지 양강도 삼지연 시찰… 방북 유엔 사무차장 면담 안할듯 B-...   \n",
       "\n",
       "                                                            keywords  \\\n",
       "id                                                                     \n",
       "5a29c445588c132954d1973a                       ['외무성', '핵전쟁', '대변인']   \n",
       "5a29c445588c132954d1973b                        ['예산', '예결위', 'soc']   \n",
       "5a29c445588c132954d1973c                    ['최경환', '구속영장', '국가정보원']   \n",
       "5a29c445588c132954d1973d  ['이슈 · 최재형 감사원장 내정', '감사원장', '최재형', '감사원']   \n",
       "5a29c445588c132954d1973e                      ['김정은', 'b-1b', '한반도']   \n",
       "\n",
       "                                                         extracted_keywords  \\\n",
       "id                                                                            \n",
       "5a29c445588c132954d1973a  {'미국', '조선반도', '핵전쟁', '북한', '중앙', '도화선', '고위',...   \n",
       "5a29c445588c132954d1973b    {'호남', '예산안', '의원', '정부안', '증액', '지역구', '국민의당'}   \n",
       "5a29c445588c132954d1973c  {'구속영장 청구', '조사', '의원', '정기국회', '국정원장', '검찰', ...   \n",
       "5a29c445588c132954d1973d         {'공직 사회', '법관', '생활', '감사원장', '지명', '후보자'}   \n",
       "5a29c445588c132954d1973e  {'공장', '양강도', '사무차장', '삼지연', '시찰', '훈련', '접경',...   \n",
       "\n",
       "                          negative  positive  Decision   site  \n",
       "id                                                             \n",
       "5a29c445588c132954d1973a      86.0      22.0  negative  Naver  \n",
       "5a29c445588c132954d1973b      46.0      62.0  positive  Naver  \n",
       "5a29c445588c132954d1973c      77.0      31.0  negative  Naver  \n",
       "5a29c445588c132954d1973d      39.0      69.0  positive  Naver  \n",
       "5a29c445588c132954d1973e      72.0      36.0  negative  Naver  "
      ]
     },
     "execution_count": 8,
     "metadata": {},
     "output_type": "execute_result"
    }
   ],
   "source": [
    "# Naver\n",
    "naverData = pd.read_csv(os.path.join(news_senti_outcome, 'naver_news_sentiment_analysis.csv'), index_col=0, header= 0, encoding = 'utf-8')\n",
    "naverData['site'] = ['Naver'] * naverData.shape[0]\n",
    "reNaverData = naverData[naverData.number_of_crawled_comment != 0]\n",
    "print (reNaverData.shape)\n",
    "reNaverData.head()"
   ]
  },
  {
   "cell_type": "code",
   "execution_count": 9,
   "metadata": {},
   "outputs": [
    {
     "name": "stdout",
     "output_type": "stream",
     "text": [
      "(9369, 14)\n"
     ]
    },
    {
     "data": {
      "text/html": [
       "<div>\n",
       "<style scoped>\n",
       "    .dataframe tbody tr th:only-of-type {\n",
       "        vertical-align: middle;\n",
       "    }\n",
       "\n",
       "    .dataframe tbody tr th {\n",
       "        vertical-align: top;\n",
       "    }\n",
       "\n",
       "    .dataframe thead th {\n",
       "        text-align: right;\n",
       "    }\n",
       "</style>\n",
       "<table border=\"1\" class=\"dataframe\">\n",
       "  <thead>\n",
       "    <tr style=\"text-align: right;\">\n",
       "      <th></th>\n",
       "      <th>category</th>\n",
       "      <th>date</th>\n",
       "      <th>press</th>\n",
       "      <th>number_of_comment</th>\n",
       "      <th>number_of_crawled_comment</th>\n",
       "      <th>rank</th>\n",
       "      <th>title</th>\n",
       "      <th>mainText</th>\n",
       "      <th>keywords</th>\n",
       "      <th>extracted_keywords</th>\n",
       "      <th>negative</th>\n",
       "      <th>positive</th>\n",
       "      <th>Decision</th>\n",
       "      <th>site</th>\n",
       "    </tr>\n",
       "    <tr>\n",
       "      <th>id</th>\n",
       "      <th></th>\n",
       "      <th></th>\n",
       "      <th></th>\n",
       "      <th></th>\n",
       "      <th></th>\n",
       "      <th></th>\n",
       "      <th></th>\n",
       "      <th></th>\n",
       "      <th></th>\n",
       "      <th></th>\n",
       "      <th></th>\n",
       "      <th></th>\n",
       "      <th></th>\n",
       "      <th></th>\n",
       "    </tr>\n",
       "  </thead>\n",
       "  <tbody>\n",
       "    <tr>\n",
       "      <th>5a2a61bf588c13481c229d1e</th>\n",
       "      <td>뉴스</td>\n",
       "      <td>2017.12.07</td>\n",
       "      <td>세계일보</td>\n",
       "      <td>1093</td>\n",
       "      <td>903</td>\n",
       "      <td>1</td>\n",
       "      <td>\"밤이 무섭다\"..비아그라 공장 연기에 남성들 부작용 호소</td>\n",
       "      <td>주민들은 공장에서 배출된 연기가 '남성이 매우 건강해지는 부작용'을 일으킨다며, ...</td>\n",
       "      <td>['부작용', '비아그라', '아일랜드']</td>\n",
       "      <td>{'건강', '부작용', '공장', '남성들', '지역', '세보 효과', '연기'}</td>\n",
       "      <td>50.0</td>\n",
       "      <td>58.0</td>\n",
       "      <td>positive</td>\n",
       "      <td>daum</td>\n",
       "    </tr>\n",
       "    <tr>\n",
       "      <th>5a2a61bf588c13481c229d1f</th>\n",
       "      <td>뉴스</td>\n",
       "      <td>2017.12.07</td>\n",
       "      <td>헬스조선</td>\n",
       "      <td>603</td>\n",
       "      <td>386</td>\n",
       "      <td>2</td>\n",
       "      <td>식후 커피·늦은 양치질..점심식사 후 하면 안 좋은 습관 3가지</td>\n",
       "      <td>점심식사를 마친 후 후식으로 커피를 마시는 사람들이 많다. 실제로 직장이 밀집돼 ...</td>\n",
       "      <td>['커피', '낮잠', '음식물']</td>\n",
       "      <td>{'건강', '커피', '자세', '치아', '철분', '디스크', '점심 식사',...</td>\n",
       "      <td>81.0</td>\n",
       "      <td>27.0</td>\n",
       "      <td>negative</td>\n",
       "      <td>daum</td>\n",
       "    </tr>\n",
       "    <tr>\n",
       "      <th>5a2a61bf588c13481c229d20</th>\n",
       "      <td>뉴스</td>\n",
       "      <td>2017.12.07</td>\n",
       "      <td>연합뉴스</td>\n",
       "      <td>1067</td>\n",
       "      <td>807</td>\n",
       "      <td>3</td>\n",
       "      <td>'십년지기 생매장' 진짜 이유는..\"'청부 통정' 알려질까 봐\"</td>\n",
       "      <td>(성남=연합뉴스) 최해민 기자 = 십년지기 지인을 산 채로 묻어 살해한 50대 여...</td>\n",
       "      <td>['살인혐의', '철원', '검찰송치']</td>\n",
       "      <td>{'앙심', '남편', '성관계', '주변', '진술', '지인', '범행', '아...</td>\n",
       "      <td>99.0</td>\n",
       "      <td>9.0</td>\n",
       "      <td>negative</td>\n",
       "      <td>daum</td>\n",
       "    </tr>\n",
       "    <tr>\n",
       "      <th>5a2a61bf588c13481c229d21</th>\n",
       "      <td>뉴스</td>\n",
       "      <td>2017.12.07</td>\n",
       "      <td>헤럴드경제</td>\n",
       "      <td>418</td>\n",
       "      <td>368</td>\n",
       "      <td>4</td>\n",
       "      <td>신영자, 억 소리나는 갑질</td>\n",
       "      <td>신영자, 적용안된 혐의→검찰 상고에서 인정\\n신영자, 얼마를 어떻게 받았나  [헤럴...</td>\n",
       "      <td>['신영자', '갑질', '롯데백화점']</td>\n",
       "      <td>{'네이처리퍼블릭', '롯데', '징역', '유통업체', '신영자 이사장', '검찰...</td>\n",
       "      <td>77.0</td>\n",
       "      <td>31.0</td>\n",
       "      <td>negative</td>\n",
       "      <td>daum</td>\n",
       "    </tr>\n",
       "    <tr>\n",
       "      <th>5a2a61bf588c13481c229d22</th>\n",
       "      <td>뉴스</td>\n",
       "      <td>2017.12.07</td>\n",
       "      <td>연합뉴스</td>\n",
       "      <td>434</td>\n",
       "      <td>367</td>\n",
       "      <td>5</td>\n",
       "      <td>\"배신하지마\" 20대女 살인 피의자 유치장서 공범 남친에 쪽지</td>\n",
       "      <td>(청주=연합뉴스) 이승민 기자 = 지난 9월 청주의 한 하천에서 20대 여성을 둔기...</td>\n",
       "      <td>['공범', '살인', '과자']</td>\n",
       "      <td>{'폭행', '혐의', '과자', '범행', '쪽지', '남자친구', '경찰', '...</td>\n",
       "      <td>102.0</td>\n",
       "      <td>6.0</td>\n",
       "      <td>negative</td>\n",
       "      <td>daum</td>\n",
       "    </tr>\n",
       "  </tbody>\n",
       "</table>\n",
       "</div>"
      ],
      "text/plain": [
       "                         category        date  press  number_of_comment  \\\n",
       "id                                                                        \n",
       "5a2a61bf588c13481c229d1e       뉴스  2017.12.07   세계일보               1093   \n",
       "5a2a61bf588c13481c229d1f       뉴스  2017.12.07   헬스조선                603   \n",
       "5a2a61bf588c13481c229d20       뉴스  2017.12.07   연합뉴스               1067   \n",
       "5a2a61bf588c13481c229d21       뉴스  2017.12.07  헤럴드경제                418   \n",
       "5a2a61bf588c13481c229d22       뉴스  2017.12.07   연합뉴스                434   \n",
       "\n",
       "                          number_of_crawled_comment  rank  \\\n",
       "id                                                          \n",
       "5a2a61bf588c13481c229d1e                        903     1   \n",
       "5a2a61bf588c13481c229d1f                        386     2   \n",
       "5a2a61bf588c13481c229d20                        807     3   \n",
       "5a2a61bf588c13481c229d21                        368     4   \n",
       "5a2a61bf588c13481c229d22                        367     5   \n",
       "\n",
       "                                                        title  \\\n",
       "id                                                              \n",
       "5a2a61bf588c13481c229d1e     \"밤이 무섭다\"..비아그라 공장 연기에 남성들 부작용 호소   \n",
       "5a2a61bf588c13481c229d1f  식후 커피·늦은 양치질..점심식사 후 하면 안 좋은 습관 3가지   \n",
       "5a2a61bf588c13481c229d20  '십년지기 생매장' 진짜 이유는..\"'청부 통정' 알려질까 봐\"   \n",
       "5a2a61bf588c13481c229d21                       신영자, 억 소리나는 갑질   \n",
       "5a2a61bf588c13481c229d22   \"배신하지마\" 20대女 살인 피의자 유치장서 공범 남친에 쪽지   \n",
       "\n",
       "                                                                   mainText  \\\n",
       "id                                                                            \n",
       "5a2a61bf588c13481c229d1e   주민들은 공장에서 배출된 연기가 '남성이 매우 건강해지는 부작용'을 일으킨다며, ...   \n",
       "5a2a61bf588c13481c229d1f   점심식사를 마친 후 후식으로 커피를 마시는 사람들이 많다. 실제로 직장이 밀집돼 ...   \n",
       "5a2a61bf588c13481c229d20   (성남=연합뉴스) 최해민 기자 = 십년지기 지인을 산 채로 묻어 살해한 50대 여...   \n",
       "5a2a61bf588c13481c229d21  신영자, 적용안된 혐의→검찰 상고에서 인정\\n신영자, 얼마를 어떻게 받았나  [헤럴...   \n",
       "5a2a61bf588c13481c229d22  (청주=연합뉴스) 이승민 기자 = 지난 9월 청주의 한 하천에서 20대 여성을 둔기...   \n",
       "\n",
       "                                         keywords  \\\n",
       "id                                                  \n",
       "5a2a61bf588c13481c229d1e  ['부작용', '비아그라', '아일랜드']   \n",
       "5a2a61bf588c13481c229d1f      ['커피', '낮잠', '음식물']   \n",
       "5a2a61bf588c13481c229d20   ['살인혐의', '철원', '검찰송치']   \n",
       "5a2a61bf588c13481c229d21   ['신영자', '갑질', '롯데백화점']   \n",
       "5a2a61bf588c13481c229d22       ['공범', '살인', '과자']   \n",
       "\n",
       "                                                         extracted_keywords  \\\n",
       "id                                                                            \n",
       "5a2a61bf588c13481c229d1e    {'건강', '부작용', '공장', '남성들', '지역', '세보 효과', '연기'}   \n",
       "5a2a61bf588c13481c229d1f  {'건강', '커피', '자세', '치아', '철분', '디스크', '점심 식사',...   \n",
       "5a2a61bf588c13481c229d20  {'앙심', '남편', '성관계', '주변', '진술', '지인', '범행', '아...   \n",
       "5a2a61bf588c13481c229d21  {'네이처리퍼블릭', '롯데', '징역', '유통업체', '신영자 이사장', '검찰...   \n",
       "5a2a61bf588c13481c229d22  {'폭행', '혐의', '과자', '범행', '쪽지', '남자친구', '경찰', '...   \n",
       "\n",
       "                          negative  positive  Decision  site  \n",
       "id                                                            \n",
       "5a2a61bf588c13481c229d1e      50.0      58.0  positive  daum  \n",
       "5a2a61bf588c13481c229d1f      81.0      27.0  negative  daum  \n",
       "5a2a61bf588c13481c229d20      99.0       9.0  negative  daum  \n",
       "5a2a61bf588c13481c229d21      77.0      31.0  negative  daum  \n",
       "5a2a61bf588c13481c229d22     102.0       6.0  negative  daum  "
      ]
     },
     "execution_count": 9,
     "metadata": {},
     "output_type": "execute_result"
    }
   ],
   "source": [
    "# Daum\n",
    "daumData = pd.read_csv(os.path.join(news_senti_outcome, 'daum_news_sentiment_analysis.csv'), index_col=0, header= 0, encoding = 'utf-8')\n",
    "daumData['site'] = ['daum'] * daumData.shape[0]\n",
    "reDaumData = daumData[daumData.number_of_crawled_comment != 0]\n",
    "print (reDaumData.shape)\n",
    "reDaumData.head()"
   ]
  },
  {
   "cell_type": "markdown",
   "metadata": {},
   "source": [
    "### 뉴스별 댓글에 따른 분석 진행\n",
    "* Doc2Vec의 첫번째 jupyter notebook으로 진행을 했을때 죽었으므로 fastText도 죽을 것으로 짐작되어 코드를 수정함"
   ]
  },
  {
   "cell_type": "code",
   "execution_count": 10,
   "metadata": {},
   "outputs": [
    {
     "data": {
      "text/plain": [
       "['predata_for_daum_news_comment.csv',\n",
       " 'predata_for_naver_news_comment.csv',\n",
       " 'filtered_predata_for_naver_news_comment.csv',\n",
       " 'filtered_predata_for_daum_news_comment.csv']"
      ]
     },
     "execution_count": 10,
     "metadata": {},
     "output_type": "execute_result"
    }
   ],
   "source": [
    "os.listdir(outcome_predata)"
   ]
  },
  {
   "cell_type": "code",
   "execution_count": 11,
   "metadata": {},
   "outputs": [
    {
     "name": "stderr",
     "output_type": "stream",
     "text": [
      "/Users/hyunyoun/anaconda3/lib/python3.6/site-packages/numpy/lib/arraysetops.py:472: FutureWarning: elementwise comparison failed; returning scalar instead, but in the future will perform elementwise comparison\n",
      "  mask |= (ar1 == a)\n"
     ]
    },
    {
     "name": "stdout",
     "output_type": "stream",
     "text": [
      "(11888645, 8)\n",
      "CPU times: user 50.9 s, sys: 9.08 s, total: 1min\n",
      "Wall time: 1min 6s\n"
     ]
    }
   ],
   "source": [
    "%%time\n",
    "predata_naver = outcome_predata +  'filtered_predata_for_naver_news_comment.csv'\n",
    "dfNaver = pd.read_csv(predata_naver, header = 0, index_col = 0, encoding = 'utf-8')\n",
    "print (dfNaver.shape)"
   ]
  },
  {
   "cell_type": "code",
   "execution_count": 12,
   "metadata": {},
   "outputs": [],
   "source": [
    "#dfNaver = dfNaver[dfNaver._id == '5a29c445588c132954d1973a']"
   ]
  },
  {
   "cell_type": "code",
   "execution_count": 13,
   "metadata": {},
   "outputs": [],
   "source": [
    "extDfNaver = dfNaver.loc[:,['_id', 'category', 'date', 'rank', 'site', '공감', '비공감']]"
   ]
  },
  {
   "cell_type": "code",
   "execution_count": 14,
   "metadata": {},
   "outputs": [
    {
     "name": "stderr",
     "output_type": "stream",
     "text": [
      "/Users/hyunyoun/anaconda3/lib/python3.6/site-packages/numpy/lib/arraysetops.py:472: FutureWarning: elementwise comparison failed; returning scalar instead, but in the future will perform elementwise comparison\n",
      "  mask |= (ar1 == a)\n"
     ]
    },
    {
     "name": "stdout",
     "output_type": "stream",
     "text": [
      "(4924599, 8)\n",
      "CPU times: user 20.1 s, sys: 3.06 s, total: 23.2 s\n",
      "Wall time: 32.7 s\n"
     ]
    }
   ],
   "source": [
    "%%time\n",
    "predata_daum = outcome_predata +  'filtered_predata_for_daum_news_comment.csv'\n",
    "dfDaum = pd.read_csv(predata_daum, header = 0, index_col = 0, encoding = 'utf-8')\n",
    "print (dfDaum.shape)"
   ]
  },
  {
   "cell_type": "code",
   "execution_count": 15,
   "metadata": {},
   "outputs": [],
   "source": [
    "#dfDaum = dfDaum[dfDaum._id =='5a2a61bf588c13481c229d1e']"
   ]
  },
  {
   "cell_type": "code",
   "execution_count": 16,
   "metadata": {},
   "outputs": [],
   "source": [
    "extDfDaum = dfDaum.loc[:,['_id', 'category', 'date', 'rank', 'site', '공감', '비공감']]"
   ]
  },
  {
   "cell_type": "markdown",
   "metadata": {},
   "source": [
    "## Word2Vec Model"
   ]
  },
  {
   "cell_type": "code",
   "execution_count": 17,
   "metadata": {},
   "outputs": [],
   "source": [
    "def PipeLineForSentimentUsingWord2Vec(extCommentsDf, token, tfidf, size, model, classifierDict, outcomeFileName):\n",
    "    import pandas as pd\n",
    "    from glob import glob\n",
    "    import Basic_Module as bm\n",
    "    import os\n",
    "    wv, inferVector_by_model = bm.Make_Pre_Data_For_DAUM(model, tfidf, size, token)\n",
    "    predict_Outcome = dict(map(lambda x: bm.PredictSentiment(inferVector_by_model, x, classifierDict[x]), classifierDict))\n",
    "    predict_Outcome = pd.DataFrame.from_dict(predict_Outcome)\n",
    "    predict_Outcome = extCommentsDf.merge(predict_Outcome,\n",
    "                                   left_index = True, right_index = True)\n",
    "    predict_Outcome.to_csv(outcomeFileName, index=None, encoding='utf-8')\n",
    "    "
   ]
  },
  {
   "cell_type": "markdown",
   "metadata": {},
   "source": [
    "##### Load Model"
   ]
  },
  {
   "cell_type": "code",
   "execution_count": 18,
   "metadata": {},
   "outputs": [
    {
     "name": "stdout",
     "output_type": "stream",
     "text": [
      "ct\n"
     ]
    }
   ],
   "source": [
    "taggerName_ct = 'ct'\n",
    "print ( '{}'.format(taggerName_ct))\n",
    "model1_ct = Word2Vec.load(loadModelPath+'word2vec_size-1000_epoch-20_window-10_negative-7_hs-0_sg-0_cbow_mean-0_min_count-2_by-ct.model')\n",
    "model1_ct_Name = bm.Return_ModelName('word2vec', model1_ct, taggerName_ct)\n",
    "\n",
    "model2_ct = Word2Vec.load(loadModelPath+'word2vec_size-1000_epoch-20_window-10_negative-7_hs-0_sg-0_cbow_mean-1_min_count-2_by-ct.model')\n",
    "model2_ct_Name = bm.Return_ModelName('word2vec', model2_ct, taggerName_ct)\n",
    "\n",
    "model3_ct = Word2Vec.load(loadModelPath+'word2vec_size-1000_epoch-20_window-10_negative-7_hs-0_sg-1_cbow_mean-0_min_count-2_by-ct.model')\n",
    "model3_ct_Name = bm.Return_ModelName('word2vec', model3_ct, taggerName_ct)"
   ]
  },
  {
   "cell_type": "code",
   "execution_count": 19,
   "metadata": {},
   "outputs": [
    {
     "name": "stdout",
     "output_type": "stream",
     "text": [
      "mecab\n"
     ]
    }
   ],
   "source": [
    "taggerName_mecab = 'mecab'\n",
    "print ( '{}'.format(taggerName_mecab))\n",
    "model1_mecab = Word2Vec.load(loadModelPath+'word2vec_size-1000_epoch-20_window-10_negative-7_hs-0_sg-0_cbow_mean-0_min_count-2_by-mecab.model')\n",
    "model1_mecab_Name = bm.Return_ModelName('word2vec', model1_mecab, taggerName_mecab)\n",
    "\n",
    "model2_mecab = Word2Vec.load(loadModelPath+'word2vec_size-1000_epoch-20_window-10_negative-7_hs-0_sg-0_cbow_mean-1_min_count-2_by-mecab.model')\n",
    "model2_mecab_Name = bm.Return_ModelName('word2vec', model2_mecab, taggerName_mecab)\n",
    "\n",
    "model3_mecab = Word2Vec.load(loadModelPath+'word2vec_size-1000_epoch-20_window-10_negative-7_hs-0_sg-1_cbow_mean-0_min_count-2_by-mecab.model')\n",
    "model3_mecab_Name = bm.Return_ModelName('word2vec', model3_mecab, taggerName_mecab)"
   ]
  },
  {
   "cell_type": "markdown",
   "metadata": {},
   "source": [
    "#### Train data set으로부터 TF-IDF Vectorizer을 만듦"
   ]
  },
  {
   "cell_type": "code",
   "execution_count": 20,
   "metadata": {
    "scrolled": true
   },
   "outputs": [
    {
     "name": "stderr",
     "output_type": "stream",
     "text": [
      "100%|██████████| 442359/442359 [00:00<00:00, 1383045.05it/s]\n"
     ]
    },
    {
     "name": "stdout",
     "output_type": "stream",
     "text": [
      "(442359, 159113)\n",
      "vocab size : 159113\n"
     ]
    }
   ],
   "source": [
    "trainName_ct = './data/pre_data/train_test_Data/pre_data_train_for_word2vec_sentiment_by_ct.pickled'\n",
    "train_ct = pickle.load(open(trainName_ct, 'rb'))\n",
    "tfidf_ct = bm.Build_tfidf(train_ct)\n",
    "del train_ct"
   ]
  },
  {
   "cell_type": "code",
   "execution_count": 21,
   "metadata": {
    "scrolled": true
   },
   "outputs": [
    {
     "name": "stderr",
     "output_type": "stream",
     "text": [
      "100%|██████████| 442359/442359 [00:00<00:00, 864549.93it/s] \n"
     ]
    },
    {
     "name": "stdout",
     "output_type": "stream",
     "text": [
      "(442359, 161590)\n",
      "vocab size : 161590\n"
     ]
    }
   ],
   "source": [
    "trainName = './data/pre_data/train_test_Data/pre_data_train_for_word2vec_sentiment_by_mecab.pickled'\n",
    "train_mecab = pickle.load(open(trainName, 'rb'))\n",
    "tfidf_mecab = bm.Build_tfidf(train_mecab)\n",
    "del train_mecab"
   ]
  },
  {
   "cell_type": "markdown",
   "metadata": {},
   "source": [
    "##### Load Classifier"
   ]
  },
  {
   "cell_type": "code",
   "execution_count": 22,
   "metadata": {},
   "outputs": [],
   "source": [
    "classifier_by_model1_ct = glob(classifierPath+'*'+model1_ct_Name)\n",
    "load_Classifier_by_model1_ct_Dict = dict(map(lambda x:bm.LoadClassifier(x), classifier_by_model1_ct))\n",
    "\n",
    "classifier_by_model2_ct = glob(classifierPath+'*'+model2_ct_Name)\n",
    "load_Classifier_by_model2_ct_Dict = dict(map(lambda x:bm.LoadClassifier(x), classifier_by_model2_ct))\n",
    "\n",
    "classifier_by_model3_ct = glob(classifierPath+'*'+model3_ct_Name)\n",
    "load_Classifier_by_model3_ct_Dict = dict(map(lambda x:bm.LoadClassifier(x), classifier_by_model3_ct))"
   ]
  },
  {
   "cell_type": "code",
   "execution_count": 24,
   "metadata": {},
   "outputs": [],
   "source": [
    "classifier_by_model1_mecab = glob(classifierPath+'*'+model1_mecab_Name)\n",
    "load_Classifier_by_model1_mecab_Dict = dict(map(lambda x:bm.LoadClassifier(x), classifier_by_model1_mecab))\n",
    "\n",
    "classifier_by_model2_mecab = glob(classifierPath+'*'+model2_mecab_Name)\n",
    "load_Classifier_by_model2_mecab_Dict = dict(map(lambda x:bm.LoadClassifier(x), classifier_by_model2_mecab))\n",
    "\n",
    "classifier_by_model3_mecab = glob(classifierPath+'*'+model3_mecab_Name)\n",
    "load_Classifier_by_model3_mecab_Dict = dict(map(lambda x:bm.LoadClassifier(x), classifier_by_model3_mecab))"
   ]
  },
  {
   "cell_type": "code",
   "execution_count": 25,
   "metadata": {
    "scrolled": false
   },
   "outputs": [
    {
     "name": "stderr",
     "output_type": "stream",
     "text": [
      "\r",
      "  0%|          | 0/1465 [00:00<?, ?it/s]"
     ]
    },
    {
     "name": "stdout",
     "output_type": "stream",
     "text": [
      "5a29c445588c132954d1973a\n"
     ]
    },
    {
     "name": "stderr",
     "output_type": "stream",
     "text": [
      "100%|██████████| 1465/1465 [00:12<00:00, 119.81it/s]\n",
      " 11%|█         | 17243/162640 [00:00<00:01, 85816.82it/s]"
     ]
    },
    {
     "name": "stdout",
     "output_type": "stream",
     "text": [
      "Word2Vec(vocab=162640, size=1000, alpha=0.025)\n"
     ]
    },
    {
     "name": "stderr",
     "output_type": "stream",
     "text": [
      "100%|██████████| 162640/162640 [00:02<00:00, 65992.06it/s]\n",
      "4it [00:00, 32.76it/s]"
     ]
    },
    {
     "name": "stdout",
     "output_type": "stream",
     "text": [
      "running time : 0:00:02.467286\n",
      "Vectorizing Data\n"
     ]
    },
    {
     "name": "stderr",
     "output_type": "stream",
     "text": [
      "1465it [00:02, 507.26it/s]\n",
      "1465it [00:00, 556178.07it/s]\n",
      "1465it [00:00, 604075.44it/s]\n"
     ]
    },
    {
     "name": "stdout",
     "output_type": "stream",
     "text": [
      "scaling Data\n",
      "total running time : 0:00:05.410572\n"
     ]
    },
    {
     "name": "stderr",
     "output_type": "stream",
     "text": [
      "1465it [00:00, 481895.96it/s]\n",
      "  6%|▋         | 10492/162640 [00:00<00:01, 104894.09it/s]"
     ]
    },
    {
     "name": "stdout",
     "output_type": "stream",
     "text": [
      "Word2Vec(vocab=162640, size=1000, alpha=0.025)\n"
     ]
    },
    {
     "name": "stderr",
     "output_type": "stream",
     "text": [
      "100%|██████████| 162640/162640 [00:01<00:00, 126179.85it/s]\n",
      "8it [00:00, 71.03it/s]"
     ]
    },
    {
     "name": "stdout",
     "output_type": "stream",
     "text": [
      "running time : 0:00:01.291412\n",
      "Vectorizing Data\n"
     ]
    },
    {
     "name": "stderr",
     "output_type": "stream",
     "text": [
      "1465it [00:02, 522.25it/s]\n",
      "1465it [00:00, 748526.66it/s]\n"
     ]
    },
    {
     "name": "stdout",
     "output_type": "stream",
     "text": [
      "scaling Data\n",
      "total running time : 0:00:04.132617\n"
     ]
    },
    {
     "name": "stderr",
     "output_type": "stream",
     "text": [
      "1465it [00:00, 415628.74it/s]\n",
      "1465it [00:00, 643756.45it/s]\n",
      "  7%|▋         | 10732/162640 [00:00<00:01, 107299.64it/s]"
     ]
    },
    {
     "name": "stdout",
     "output_type": "stream",
     "text": [
      "Word2Vec(vocab=162640, size=1000, alpha=0.025)\n"
     ]
    },
    {
     "name": "stderr",
     "output_type": "stream",
     "text": [
      "100%|██████████| 162640/162640 [00:01<00:00, 117337.76it/s]\n",
      "8it [00:00, 70.94it/s]"
     ]
    },
    {
     "name": "stdout",
     "output_type": "stream",
     "text": [
      "running time : 0:00:01.388346\n",
      "Vectorizing Data\n"
     ]
    },
    {
     "name": "stderr",
     "output_type": "stream",
     "text": [
      "1465it [00:02, 544.31it/s]\n",
      "1465it [00:00, 771457.04it/s]\n"
     ]
    },
    {
     "name": "stdout",
     "output_type": "stream",
     "text": [
      "scaling Data\n",
      "total running time : 0:00:04.115012\n"
     ]
    },
    {
     "name": "stderr",
     "output_type": "stream",
     "text": [
      "1465it [00:00, 695962.78it/s]\n",
      "1465it [00:00, 730376.25it/s]\n",
      "100%|██████████| 1465/1465 [00:04<00:00, 345.27it/s]\n",
      " 13%|█▎        | 21241/165361 [00:00<00:01, 106191.30it/s]"
     ]
    },
    {
     "name": "stdout",
     "output_type": "stream",
     "text": [
      "Word2Vec(vocab=165361, size=1000, alpha=0.025)\n"
     ]
    },
    {
     "name": "stderr",
     "output_type": "stream",
     "text": [
      "100%|██████████| 165361/165361 [00:01<00:00, 121831.93it/s]\n",
      "3it [00:00, 26.75it/s]"
     ]
    },
    {
     "name": "stdout",
     "output_type": "stream",
     "text": [
      "running time : 0:00:01.360087\n",
      "Vectorizing Data\n"
     ]
    },
    {
     "name": "stderr",
     "output_type": "stream",
     "text": [
      "1465it [00:03, 371.15it/s]\n",
      "1465it [00:00, 762269.61it/s]\n"
     ]
    },
    {
     "name": "stdout",
     "output_type": "stream",
     "text": [
      "scaling Data\n",
      "total running time : 0:00:05.341683\n"
     ]
    },
    {
     "name": "stderr",
     "output_type": "stream",
     "text": [
      "1465it [00:00, 666810.13it/s]\n",
      "1465it [00:00, 617863.79it/s]\n",
      " 15%|█▌        | 25211/165361 [00:00<00:01, 125708.65it/s]"
     ]
    },
    {
     "name": "stdout",
     "output_type": "stream",
     "text": [
      "Word2Vec(vocab=165361, size=1000, alpha=0.025)\n"
     ]
    },
    {
     "name": "stderr",
     "output_type": "stream",
     "text": [
      "100%|██████████| 165361/165361 [00:01<00:00, 128322.51it/s]\n",
      "8it [00:00, 74.04it/s]"
     ]
    },
    {
     "name": "stdout",
     "output_type": "stream",
     "text": [
      "running time : 0:00:01.291495\n",
      "Vectorizing Data\n"
     ]
    },
    {
     "name": "stderr",
     "output_type": "stream",
     "text": [
      "1465it [00:02, 550.42it/s]\n",
      "1465it [00:00, 645650.45it/s]\n"
     ]
    },
    {
     "name": "stdout",
     "output_type": "stream",
     "text": [
      "scaling Data\n",
      "total running time : 0:00:03.986926\n"
     ]
    },
    {
     "name": "stderr",
     "output_type": "stream",
     "text": [
      "1465it [00:00, 709135.07it/s]\n",
      "1465it [00:00, 614281.25it/s]\n",
      " 15%|█▌        | 24902/165361 [00:00<00:01, 124492.01it/s]"
     ]
    },
    {
     "name": "stdout",
     "output_type": "stream",
     "text": [
      "Word2Vec(vocab=165361, size=1000, alpha=0.025)\n"
     ]
    },
    {
     "name": "stderr",
     "output_type": "stream",
     "text": [
      "100%|██████████| 165361/165361 [00:01<00:00, 136229.76it/s]\n",
      "10it [00:00, 98.83it/s]"
     ]
    },
    {
     "name": "stdout",
     "output_type": "stream",
     "text": [
      "running time : 0:00:01.217121\n",
      "Vectorizing Data\n"
     ]
    },
    {
     "name": "stderr",
     "output_type": "stream",
     "text": [
      "1465it [00:02, 586.03it/s]\n",
      "1465it [00:00, 704662.31it/s]\n"
     ]
    },
    {
     "name": "stdout",
     "output_type": "stream",
     "text": [
      "scaling Data\n",
      "total running time : 0:00:03.750636\n"
     ]
    },
    {
     "name": "stderr",
     "output_type": "stream",
     "text": [
      "1465it [00:00, 572714.64it/s]\n",
      "1465it [00:00, 737388.14it/s]\n"
     ]
    }
   ],
   "source": [
    "warnings.filterwarnings('ignore')\n",
    "TaggedDocument = namedtuple('TaggedDocument', 'words tags sentiment')\n",
    "for idx in reNaverData.index:\n",
    "    clear_output()\n",
    "    data = reNaverData.loc[idx]\n",
    "    newsId = data.name\n",
    "    print (newsId)\n",
    "    siteInfo = data.site\n",
    "    if os.path.isdir(os.path.join(outcomeNaverCommentsPath, newsId)):\n",
    "        outcomePath = os.path.join(outcomeNaverCommentsPath, newsId)\n",
    "    else:\n",
    "        os.mkdir(os.path.join(outcomeNaverCommentsPath, newsId))\n",
    "        outcomePath = os.path.join(outcomeNaverCommentsPath, newsId)\n",
    "    commentsFile = naverCommentsPath + newsId + '.csv'\n",
    "    commentsDf = pd.read_csv(commentsFile, encoding='utf-8', header=0)\n",
    "    commentsDf.dropna(inplace = True)\n",
    "    extCommentsDf = commentsDf.loc[:,['category', 'comments', 'date', 'rank', 'site', '공감', '비공감']]\n",
    "    # twitter\n",
    "    tagged_naver_ct = bm.MakeTaggedData_For_Comments(commentsDf, TaggedDocument, ct, stopwords)\n",
    "    \n",
    "    outcomeFileName1_ct = os.path.join(outcomePath, 'outcome_comments_sentiment_{}_{}'.format(siteInfo, model1_ct_Name))\n",
    "    if not os.path.isfile(outcomeFileName1_ct):\n",
    "        PipeLineForSentimentUsingWord2Vec(extCommentsDf, tagged_naver_ct, tfidf_ct, 1000, model1_ct, load_Classifier_by_model1_ct_Dict, outcomeFileName1_ct)\n",
    "    outcomeFileName2_ct = os.path.join(outcomePath, 'outcome_comments_sentiment_{}_{}'.format(siteInfo, model2_ct_Name))\n",
    "    if not os.path.isfile(outcomeFileName2_ct):\n",
    "        PipeLineForSentimentUsingWord2Vec(extCommentsDf, tagged_naver_ct, tfidf_ct, 1000, model2_ct, load_Classifier_by_model2_ct_Dict, outcomeFileName2_ct)\n",
    "    outcomeFileName3_ct = os.path.join(outcomePath, 'outcome_comments_sentiment_{}_{}'.format(siteInfo, model3_ct_Name))\n",
    "    if not os.path.isfile(outcomeFileName3_ct):\n",
    "        PipeLineForSentimentUsingWord2Vec(extCommentsDf, tagged_naver_ct, tfidf_ct, 1000, model3_ct, load_Classifier_by_model3_ct_Dict, outcomeFileName3_ct)\n",
    "    del tagged_naver_ct\n",
    "    # Mecab\n",
    "    tagged_naver_mecab = bm.MakeTaggedData_For_Comments(commentsDf, TaggedDocument, mecab, stopwords)\n",
    "    \n",
    "    outcomeFileName1_mecab = os.path.join(outcomePath, 'outcome_comments_sentiment_{}_{}'.format(siteInfo, model1_mecab_Name))\n",
    "    if not os.path.isfile(outcomeFileName1_mecab):\n",
    "        PipeLineForSentimentUsingWord2Vec(extCommentsDf, tagged_naver_mecab, tfidf_mecab, 1000, model1_mecab, load_Classifier_by_model1_mecab_Dict, outcomeFileName1_mecab)\n",
    "    outcomeFileName2_mecab = os.path.join(outcomePath, 'outcome_comments_sentiment_{}_{}'.format(siteInfo, model2_mecab_Name))\n",
    "    if not os.path.isfile(outcomeFileName2_mecab):\n",
    "        PipeLineForSentimentUsingWord2Vec(extCommentsDf, tagged_naver_mecab, tfidf_mecab, 1000, model2_mecab, load_Classifier_by_model2_mecab_Dict, outcomeFileName2_mecab)\n",
    "    outcomeFileName3_mecab = os.path.join(outcomePath, 'outcome_comments_sentiment_{}_{}'.format(siteInfo, model3_mecab_Name))\n",
    "    if not os.path.isfile(outcomeFileName3_mecab):\n",
    "        PipeLineForSentimentUsingWord2Vec(extCommentsDf, tagged_naver_mecab, tfidf_mecab, 1000, model3_mecab, load_Classifier_by_model3_mecab_Dict, outcomeFileName3_mecab)\n",
    "    del tagged_naver_mecab\n",
    "    del commentsDf, extCommentsDf"
   ]
  },
  {
   "cell_type": "code",
   "execution_count": 26,
   "metadata": {
    "scrolled": false
   },
   "outputs": [
    {
     "name": "stderr",
     "output_type": "stream",
     "text": [
      "  0%|          | 1/903 [00:00<02:26,  6.17it/s]"
     ]
    },
    {
     "name": "stdout",
     "output_type": "stream",
     "text": [
      "5a2a61bf588c13481c229d1e\n"
     ]
    },
    {
     "name": "stderr",
     "output_type": "stream",
     "text": [
      "100%|██████████| 903/903 [00:02<00:00, 311.42it/s]\n",
      " 19%|█▉        | 31221/162640 [00:00<00:00, 156087.84it/s]"
     ]
    },
    {
     "name": "stdout",
     "output_type": "stream",
     "text": [
      "Word2Vec(vocab=162640, size=1000, alpha=0.025)\n"
     ]
    },
    {
     "name": "stderr",
     "output_type": "stream",
     "text": [
      "100%|██████████| 162640/162640 [00:01<00:00, 147443.14it/s]\n",
      "32it [00:00, 286.92it/s]"
     ]
    },
    {
     "name": "stdout",
     "output_type": "stream",
     "text": [
      "running time : 0:00:01.105565\n",
      "Vectorizing Data\n"
     ]
    },
    {
     "name": "stderr",
     "output_type": "stream",
     "text": [
      "903it [00:01, 648.76it/s]\n",
      "903it [00:00, 723625.62it/s]\n",
      "903it [00:00, 774372.63it/s]\n",
      "903it [00:00, 738295.62it/s]\n"
     ]
    },
    {
     "name": "stdout",
     "output_type": "stream",
     "text": [
      "scaling Data\n",
      "total running time : 0:00:02.521551\n"
     ]
    },
    {
     "name": "stderr",
     "output_type": "stream",
     "text": [
      "  9%|▊         | 13935/162640 [00:00<00:01, 139310.94it/s]"
     ]
    },
    {
     "name": "stdout",
     "output_type": "stream",
     "text": [
      "Word2Vec(vocab=162640, size=1000, alpha=0.025)\n"
     ]
    },
    {
     "name": "stderr",
     "output_type": "stream",
     "text": [
      "100%|██████████| 162640/162640 [00:01<00:00, 137894.16it/s]\n",
      "37it [00:00, 356.16it/s]"
     ]
    },
    {
     "name": "stdout",
     "output_type": "stream",
     "text": [
      "running time : 0:00:01.181891\n",
      "Vectorizing Data\n"
     ]
    },
    {
     "name": "stderr",
     "output_type": "stream",
     "text": [
      "903it [00:01, 676.46it/s]\n",
      "903it [00:00, 235406.58it/s]\n"
     ]
    },
    {
     "name": "stdout",
     "output_type": "stream",
     "text": [
      "scaling Data\n",
      "total running time : 0:00:02.598031\n"
     ]
    },
    {
     "name": "stderr",
     "output_type": "stream",
     "text": [
      "903it [00:00, 467125.86it/s]\n",
      "903it [00:00, 642813.39it/s]\n",
      "  6%|▌         | 9443/162640 [00:00<00:01, 94406.23it/s]"
     ]
    },
    {
     "name": "stdout",
     "output_type": "stream",
     "text": [
      "Word2Vec(vocab=162640, size=1000, alpha=0.025)\n"
     ]
    },
    {
     "name": "stderr",
     "output_type": "stream",
     "text": [
      "100%|██████████| 162640/162640 [00:01<00:00, 105156.37it/s]\n",
      "25it [00:00, 218.00it/s]"
     ]
    },
    {
     "name": "stdout",
     "output_type": "stream",
     "text": [
      "running time : 0:00:01.550466\n",
      "Vectorizing Data\n"
     ]
    },
    {
     "name": "stderr",
     "output_type": "stream",
     "text": [
      "903it [00:01, 569.36it/s]\n",
      "903it [00:00, 713268.65it/s]\n",
      "903it [00:00, 658115.81it/s]\n"
     ]
    },
    {
     "name": "stdout",
     "output_type": "stream",
     "text": [
      "scaling Data\n",
      "total running time : 0:00:03.177965\n"
     ]
    },
    {
     "name": "stderr",
     "output_type": "stream",
     "text": [
      "903it [00:00, 56218.74it/s]\n",
      "100%|██████████| 903/903 [00:01<00:00, 633.46it/s]\n",
      "  9%|▊         | 14415/165361 [00:00<00:01, 143501.11it/s]"
     ]
    },
    {
     "name": "stdout",
     "output_type": "stream",
     "text": [
      "Word2Vec(vocab=165361, size=1000, alpha=0.025)\n"
     ]
    },
    {
     "name": "stderr",
     "output_type": "stream",
     "text": [
      "100%|██████████| 165361/165361 [00:01<00:00, 141738.80it/s]\n",
      "37it [00:00, 354.12it/s]"
     ]
    },
    {
     "name": "stdout",
     "output_type": "stream",
     "text": [
      "running time : 0:00:01.169180\n",
      "Vectorizing Data\n"
     ]
    },
    {
     "name": "stderr",
     "output_type": "stream",
     "text": [
      "903it [00:01, 486.87it/s]\n",
      "903it [00:00, 559529.70it/s]\n",
      "903it [00:00, 536239.06it/s]\n"
     ]
    },
    {
     "name": "stdout",
     "output_type": "stream",
     "text": [
      "scaling Data\n",
      "total running time : 0:00:03.073292\n"
     ]
    },
    {
     "name": "stderr",
     "output_type": "stream",
     "text": [
      "903it [00:00, 601279.01it/s]\n",
      " 14%|█▎        | 22525/165361 [00:00<00:01, 112553.59it/s]"
     ]
    },
    {
     "name": "stdout",
     "output_type": "stream",
     "text": [
      "Word2Vec(vocab=165361, size=1000, alpha=0.025)\n"
     ]
    },
    {
     "name": "stderr",
     "output_type": "stream",
     "text": [
      "100%|██████████| 165361/165361 [00:01<00:00, 136883.85it/s]\n",
      "38it [00:00, 376.45it/s]"
     ]
    },
    {
     "name": "stdout",
     "output_type": "stream",
     "text": [
      "running time : 0:00:01.210069\n",
      "Vectorizing Data\n"
     ]
    },
    {
     "name": "stderr",
     "output_type": "stream",
     "text": [
      "903it [00:01, 724.07it/s]\n",
      "903it [00:00, 639449.01it/s]\n",
      "903it [00:00, 467876.04it/s]\n"
     ]
    },
    {
     "name": "stdout",
     "output_type": "stream",
     "text": [
      "scaling Data\n",
      "total running time : 0:00:02.487541\n"
     ]
    },
    {
     "name": "stderr",
     "output_type": "stream",
     "text": [
      "903it [00:00, 658230.19it/s]\n",
      " 16%|█▌        | 26068/165361 [00:00<00:01, 130291.82it/s]"
     ]
    },
    {
     "name": "stdout",
     "output_type": "stream",
     "text": [
      "Word2Vec(vocab=165361, size=1000, alpha=0.025)\n"
     ]
    },
    {
     "name": "stderr",
     "output_type": "stream",
     "text": [
      "100%|██████████| 165361/165361 [00:01<00:00, 130695.98it/s]\n",
      "160it [00:00, 1578.11it/s]"
     ]
    },
    {
     "name": "stdout",
     "output_type": "stream",
     "text": [
      "running time : 0:00:01.267492\n",
      "Vectorizing Data\n"
     ]
    },
    {
     "name": "stderr",
     "output_type": "stream",
     "text": [
      "903it [00:00, 1608.46it/s]\n",
      "903it [00:00, 560855.40it/s]\n",
      "903it [00:00, 373922.06it/s]\n"
     ]
    },
    {
     "name": "stdout",
     "output_type": "stream",
     "text": [
      "scaling Data\n",
      "total running time : 0:00:01.854748\n"
     ]
    },
    {
     "name": "stderr",
     "output_type": "stream",
     "text": [
      "903it [00:00, 504456.12it/s]\n"
     ]
    }
   ],
   "source": [
    "warnings.filterwarnings('ignore')\n",
    "TaggedDocument = namedtuple('TaggedDocument', 'words tags sentiment')\n",
    "for idx in reDaumData.index:\n",
    "    clear_output()\n",
    "    data = reDaumData.loc[idx]\n",
    "    newsId = data.name\n",
    "    print (newsId)\n",
    "    siteInfo = data.site\n",
    "    if os.path.isdir(os.path.join(outcomeDaumCommentsPath, newsId)):\n",
    "        outcomePath = os.path.join(outcomeDaumCommentsPath, newsId)\n",
    "    else:\n",
    "        os.mkdir(os.path.join(outcomeDaumCommentsPath, newsId))\n",
    "        outcomePath = os.path.join(outcomeDaumCommentsPath, newsId)\n",
    "    commentsFile = daumCommentsPath + newsId + '.csv'\n",
    "    commentsDf = pd.read_csv(commentsFile, encoding='utf-8', header=0)\n",
    "    commentsDf.dropna(inplace = True)\n",
    "    extCommentsDf = commentsDf.loc[:,['category', 'comments', 'date', 'rank', 'site', '공감', '비공감']]\n",
    "    # twitter\n",
    "    tagged_daum_ct = bm.MakeTaggedData_For_Comments(commentsDf, TaggedDocument, ct, stopwords)\n",
    "    \n",
    "    outcomeFileName1_ct = os.path.join(outcomePath, 'outcome_comments_sentiment_{}_{}'.format(siteInfo, model1_ct_Name))\n",
    "    if not os.path.isfile(outcomeFileName1_ct):\n",
    "        PipeLineForSentimentUsingWord2Vec(extCommentsDf, tagged_daum_ct, tfidf_ct, 1000, model1_ct, load_Classifier_by_model1_ct_Dict, outcomeFileName1_ct)\n",
    "    outcomeFileName2_ct = os.path.join(outcomePath, 'outcome_comments_sentiment_{}_{}'.format(siteInfo, model2_ct_Name))\n",
    "    if not os.path.isfile(outcomeFileName2_ct):\n",
    "        PipeLineForSentimentUsingWord2Vec(extCommentsDf, tagged_daum_ct, tfidf_ct, 1000, model2_ct, load_Classifier_by_model2_ct_Dict, outcomeFileName2_ct)\n",
    "    outcomeFileName3_ct = os.path.join(outcomePath, 'outcome_comments_sentiment_{}_{}'.format(siteInfo, model3_ct_Name))\n",
    "    if not os.path.isfile(outcomeFileName3_ct):\n",
    "        PipeLineForSentimentUsingWord2Vec(extCommentsDf, tagged_daum_ct, tfidf_ct, 1000, model3_ct, load_Classifier_by_model3_ct_Dict, outcomeFileName3_ct)\n",
    "    del tagged_daum_ct\n",
    "    # Mecab\n",
    "    tagged_daum_mecab = bm.MakeTaggedData_For_Comments(commentsDf, TaggedDocument, mecab, stopwords)\n",
    "    \n",
    "    outcomeFileName1_mecab = os.path.join(outcomePath, 'outcome_comments_sentiment_{}_{}'.format(siteInfo, model1_mecab_Name))\n",
    "    if not os.path.isfile(outcomeFileName1_mecab):\n",
    "        PipeLineForSentimentUsingWord2Vec(extCommentsDf, tagged_daum_mecab, tfidf_mecab, 1000, model1_mecab, load_Classifier_by_model1_mecab_Dict, outcomeFileName1_mecab)\n",
    "    outcomeFileName2_mecab = os.path.join(outcomePath, 'outcome_comments_sentiment_{}_{}'.format(siteInfo, model2_mecab_Name))\n",
    "    if not os.path.isfile(outcomeFileName2_mecab):\n",
    "        PipeLineForSentimentUsingWord2Vec(extCommentsDf, tagged_daum_mecab, tfidf_mecab, 1000, model2_mecab, load_Classifier_by_model2_mecab_Dict, outcomeFileName2_mecab)\n",
    "    outcomeFileName3_mecab = os.path.join(outcomePath, 'outcome_comments_sentiment_{}_{}'.format(siteInfo, model3_mecab_Name))\n",
    "    if not os.path.isfile(outcomeFileName3_mecab):\n",
    "        PipeLineForSentimentUsingWord2Vec(extCommentsDf, tagged_daum_mecab, tfidf_mecab, 1000, model3_mecab, load_Classifier_by_model3_mecab_Dict, outcomeFileName3_mecab)\n",
    "    del tagged_daum_mecab\n",
    "    del commentsDf, extCommentsDf"
   ]
  },
  {
   "cell_type": "code",
   "execution_count": null,
   "metadata": {},
   "outputs": [],
   "source": []
  }
 ],
 "metadata": {
  "kernelspec": {
   "display_name": "Python 3",
   "language": "python",
   "name": "python3"
  },
  "language_info": {
   "codemirror_mode": {
    "name": "ipython",
    "version": 3
   },
   "file_extension": ".py",
   "mimetype": "text/x-python",
   "name": "python",
   "nbconvert_exporter": "python",
   "pygments_lexer": "ipython3",
   "version": "3.6.4"
  },
  "widgets": {
   "application/vnd.jupyter.widget-state+json": {
    "state": {},
    "version_major": 2,
    "version_minor": 0
   }
  }
 },
 "nbformat": 4,
 "nbformat_minor": 2
}
