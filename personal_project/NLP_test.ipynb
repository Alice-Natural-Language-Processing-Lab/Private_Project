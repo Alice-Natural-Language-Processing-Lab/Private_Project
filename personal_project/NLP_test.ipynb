{
 "cells": [
  {
   "cell_type": "code",
   "execution_count": 1,
   "metadata": {
    "collapsed": true
   },
   "outputs": [],
   "source": [
    "from glob import glob \n",
    "import pandas as pd"
   ]
  },
  {
   "cell_type": "code",
   "execution_count": 2,
   "metadata": {},
   "outputs": [
    {
     "data": {
      "text/plain": [
       "4"
      ]
     },
     "execution_count": 2,
     "metadata": {},
     "output_type": "execute_result"
    }
   ],
   "source": [
    "fileList = glob('./data/news/mainissue/*')\n",
    "len(fileList)"
   ]
  },
  {
   "cell_type": "code",
   "execution_count": 13,
   "metadata": {
    "scrolled": false
   },
   "outputs": [
    {
     "name": "stdout",
     "output_type": "stream",
     "text": [
      "./data/news/mainissue/2016년상반기_일별_주요이슈.csv\n",
      "['Unnamed: 0' '일자' '순위' '토픽' '토픽키워드']\n",
      "./data/news/mainissue/2014년하반기_일별_주요이슈.csv\n",
      "['Unnamed: 0' '일자' '순위' '토픽' '토픽키워드']\n",
      "./data/news/mainissue/2015년+일별주요이슈.csv\n",
      "['Unnamed: 0' '일자' '순위' '토픽' '토픽키워드']\n",
      "./data/news/mainissue/2014년 상반기 일별 주요이슈.csv\n",
      "['Unnamed: 0' '일자\\t' '순위' '토픽' '토픽키워드']\n"
     ]
    }
   ],
   "source": [
    "fileList = glob('./data/news/mainissue/*')\n",
    "len(fileList)\n",
    "listIs = list()\n",
    "for i in fileList:\n",
    "    print (i)\n",
    "    df = pd.read_csv(i,engine='python')\n",
    "    print (df.columns.values)\n",
    "    df.fillna(np.nan)\n",
    "    f = list(filter(lambda x: x[1] in ['중요키워드','키워드','keword','토픽키워드','토픽 키워드'], enumerate(df.columns.values)))\n",
    "    if not len(f) == 0:\n",
    "        listIs += list(df[df.columns[f[0][0]]].values)"
   ]
  },
  {
   "cell_type": "code",
   "execution_count": 27,
   "metadata": {},
   "outputs": [],
   "source": [
    "listIs = list(map(lambda x: ' '.join(x.split('_')), list(filter(lambda x: type(x)!=float, listIs))))"
   ]
  },
  {
   "cell_type": "code",
   "execution_count": 8,
   "metadata": {
    "collapsed": true
   },
   "outputs": [],
   "source": [
    "def Extract_keywords_From_text(path):\n",
    "    fileList = glob('./data/news/mainissue/*')\n",
    "    listIs = list()\n",
    "    for i in fileList:\n",
    "        df = pd.read_csv(i,engine='python')\n",
    "        f = list(filter(lambda x: x[1] in ['중요키워드','키워드','keword','토픽키워드','토픽 키워드'], enumerate(df.columns.values)))\n",
    "        if not len(f) == 0:\n",
    "            listIs += list(df[df.columns[f[0][0]]].values)\n",
    "    return listIs"
   ]
  },
  {
   "cell_type": "code",
   "execution_count": 114,
   "metadata": {
    "collapsed": true
   },
   "outputs": [],
   "source": [
    "fileList2 = glob.glob('./data/news/4th_industry/*')"
   ]
  },
  {
   "cell_type": "code",
   "execution_count": 115,
   "metadata": {
    "collapsed": true,
    "scrolled": false
   },
   "outputs": [],
   "source": [
    "listIs2 = list()\n",
    "for i2 in fileList2:\n",
    "    x = pd.read_csv(i2)"
   ]
  },
  {
   "cell_type": "code",
   "execution_count": 116,
   "metadata": {},
   "outputs": [
    {
     "data": {
      "text/plain": [
       "Index(['Unnamed: 0', '주소', '일자', '언론사', '기고자', '제목', '통합 분류1', '통합 분류2',\n",
       "       '통합 분류3', '사건/사고 분류1', '사건/사고 분류2', '사건/사고 분류3', '개체명(인물)',\n",
       "       '개체명(기업/기관)', '개체명(지역)', '중요키워드'],\n",
       "      dtype='object')"
      ]
     },
     "execution_count": 116,
     "metadata": {},
     "output_type": "execute_result"
    }
   ],
   "source": [
    "x.columns"
   ]
  },
  {
   "cell_type": "code",
   "execution_count": 117,
   "metadata": {
    "scrolled": false
   },
   "outputs": [
    {
     "data": {
      "text/plain": [
       "0       천안,지역_공약,천안_지역공약,동서_지역,심상정_후보,수도권,동서,안철수_후보,홍준...\n",
       "1       스마일게이트,스마일게이트멤버십,대학생_창작,기획_지원_프로그램,대학생,맞춤형_창작,...\n",
       "2       일자리,구체적_방안,공약_평가,팀장,경실련_공약,경실련,경실련_공약_평가단,노동자,...\n",
       "3       객관식_평가,중심_평가,객관식,객관식_평가_폐지,평가_전문가,초등학교_객관식,서술형...\n",
       "4       산업혁명,경북대학교,4차,대연캠퍼스,한국지리정보학회,조명희,조명희_경북대학교_융복합...\n",
       "5       5개,지역_기업들,관계자,4차,글로벌마케팅_역량강화_세미나,산업혁명,송도국제도시,미...\n",
       "6       글로벌_기업,기업_지원,글로벌_산업,글로벌_시장,4차_산업혁명_시대,4차,글로벌_시...\n",
       "7       충청투데이,세종시,대전본사,산업혁명,순환도로,가짜뉴스,독자위원회,맥키스컴퍼니,충청투...\n",
       "8       마을공동체,공동체,지역_공동체,주민_공동체,공동체_운동,지역_공동체_사례,서원구,산...\n",
       "9       행복교육지구,연계_교육,지역_특성화_교육,정주여건,도교육청,충북_행복교육지구,정주여...\n",
       "10      학교_현장,바탕교육,대전시교육청_바탕교육_강화,대전시교육청_바탕교육,기초교육_강화,...\n",
       "11      일자리,일자리_공약,실제_대선,비정규직_일자리,일자리_창출,재벌_개혁_공약,실제_대...\n",
       "12      4차,4차_산업혁명,산업혁명,소프트웨어_교육,4차_산업혁명_대비_공약,4차_산업혁명...\n",
       "13      전문평가위원,사업_전문평가위원,조달청,전문평가위원_구성,정양호,전문평가위원_150명...\n",
       "14      중소기업,박성택,중소서비스산업,중기중앙회,4차,산업혁명,토론회,4차_산업혁명,여의도...\n",
       "15      중국,4차,1만,사드,한스미디어,한스미디어_사드,중국_의존도,한스미디어_사드_보복,...\n",
       "16      고객_서비스,전산시스템_개편,업무_처리,6월_예정,전산시스템,고객_대상_업무,서비스...\n",
       "17      사업_방향,4차_산업혁명,사업_방향_논의,4차,기후변화,사업계획_워크숍,구례,조사설...\n",
       "18      불평등,소득_대책_추진,심상정,심상정_불평등,소득_대책,심상정_불평등_해소,대선후보...\n",
       "19      데이터_수집,4차_산업혁명,4차,데이터_수집_장비,방대한_데이터,빅데이터,4차_산업...\n",
       "20      택시_요금,자동차_택시,비행_택시,서울,자동차,요금_미터기,비행기_택시,서울_시내,...\n",
       "21      동아리_활동,2학년,1학년,활동_친구들,동아리_부원,수학_원리,동아리_부장,4차_산...\n",
       "22      블록체인,금맥,1만,금맥_경매,전문가,블록체,대한민국,부동산,저자_황선도,2만,대한...\n",
       "23      네트워크,임직원,kt,5g_네트워크,황창규_kt_회장,kt_임직원,회장_국정,서울,...\n",
       "24      광주,산업_육성,4차_산업,광주_공약,4차,자동차,육성_사업,지역_산업_육성,미래_...\n",
       "25      영화_미녀,영화_주인공,실사판_영화_미녀,사랑_이야기,실사판_영화,개스톤,영화_주인...\n",
       "26      한전,기업경영대상,한국기업경영학회,조환익_사장_기업경영대상,신산업,조환익_사장,에너...\n",
       "27      한전,글로벌_에너지,글로벌_1위,조환익,신산업,1위,에너지_신산업,안정_공급도,기업...\n",
       "28      한전,조환익_한전_사장,글로벌_에너지,조환익_한전,글로벌_1위,한국기업경영학회,1위...\n",
       "29      지배구조,기업_설명회,kt_회장,kt,투자자,황창규,지배구조_개선,네트워크,5g,기...\n",
       "                              ...                        \n",
       "8120    중국,실크로드,한국,유라시아_열차,유럽,중국_경제,중국횡단철도,유라시아,횡단_열차,...\n",
       "8121    농업_분야,전문가,일자리,농업_연관_분야,유망_일자리,청년_농산업_일자리,농업_진출...\n",
       "8122    교육_기부_활동,교육_활동,봉사_활동,교육_기부,2학년,인성_교육,할머니들,기부_동...\n",
       "8123    한일차세대학술포럼,연구자,한일,아주대,차세대,1일_한일차세대학술포럼,한일_양국,일본...\n",
       "8124    상주,농업기술원,기술원,상주_사벌면,농업인,연계성,4천,경북도,경북농업_발전,4차,...\n",
       "8125    인구_감소,소비_감소,한국,저출산,생산가능인구,생산가능인구_감소,한국_경제,인구절벽...\n",
       "8126    기업들,창업_기업,스타트업_기업,기업_육성,산업혁명,4차,창업_생태,4차_산업혁명,...\n",
       "8127    중소기업,스타트업_노하우,김기사,4월_기보,스타트업,카카오_이사,1회,4차,스타트업...\n",
       "8128    카드사,미국,카드업계,지표_관리,진웅섭,진웅섭_카드업계,건전성_지표_관리,불완전판매...\n",
       "8129    인구_정책,저출산_정책,저출산,이민_정책,지원_정책,정책_마련,인구_감소,한국_사회...\n",
       "8130    4차,산업혁명,4차_산업혁명,송희경_의원,중국,국회_4차,규제_프리존,송희경_국회,...\n",
       "8131    국가산단,기업_유치,12월_국가산단,번째_국가산단_승인,대기업_유치,경남도,2020...\n",
       "8132    밀양,밀양_나노융합,나노융합,밀양_나노융합_국가산단,밀양시,국가산단,상용화,내년_나...\n",
       "8133    산업단지,설명회,회원사,산단공,충청권_산업단지,충청,대표_윤길영,삼성,이용한,아이비...\n",
       "8134    광주,미디어_테크놀로지,미디어_테크놀로지_도입,정론지,무등일보,치평동,엄소장,4차,...\n",
       "8135    교육_혁명,인성_교육,교육감,대입_수능시험_개편,시대_학력_중심,성적_중심,교육_현...\n",
       "8136    전북도,혁신도시,사업_아이템,대선공약,5대,새만금,후속사업_발굴,지역_대선공약,전문...\n",
       "8137    광산업,한국광산업진흥회,전시회,한국,전시회_개최,한국_개최,독일,내년도_전시회,ol...\n",
       "8138    1조,투자_영역,내년도_정부,4차_산업혁명_투자_영역,r&d_사업,내년도_r&d,예...\n",
       "8139    부산대,대학_평가,국립대학_부산대,국립대학,전국_대학,대한민국,중심_대학,지역_거점...\n",
       "8140    수학_학습,수학_실력,수학_프로그램,통합_교육,김정수학학원,심화_실력,계통_수학,중...\n",
       "8141    김인규_총장,경기대_총장,교육_계획,김인규,경기대,대표이사_김인규_경기대_총장,김인...\n",
       "8142    포스텍,구미시,클러스터,첨단기업_입주,포항,신약_산업,유치_기업,반도체,포스텍_나노...\n",
       "8143    김제,김제_시민,부시장,이후천_김제,이후천_김제_부시장_취임,이후천,국무총리,팀장,...\n",
       "8144    교육과정,개정_교육과정,학교_교육과정,교육과정_운영,학교_교육과정_편성,교육과정_준...\n",
       "8145    이연주,교육장,공주교대,학생_진로교육,10시_공주교대,강연회,제4차_산업혁명시대,이...\n",
       "8146    대전시,인사_단행,승진_발탁,9명,국과장급_37명_인사_단행,승진_배치,대전시_국장...\n",
       "8147    대전시,21면,6면,2면,4면,문재인,충남,11면,7면,3면,1면,내포신도시,중도일...\n",
       "8148    4차,4차_산업혁명,산업혁명,직장인,4차_산업혁명_관심,2위,부장급_3.7점,3점,...\n",
       "8149    로보틱스_산업,글로벌_로보틱스_산업,글로벌_로보틱스,로보틱스,동부_글로벌,집중_투자...\n",
       "Name: 중요키워드, Length: 8150, dtype: object"
      ]
     },
     "execution_count": 117,
     "metadata": {},
     "output_type": "execute_result"
    }
   ],
   "source": [
    "x['중요키워드']"
   ]
  },
  {
   "cell_type": "code",
   "execution_count": 94,
   "metadata": {},
   "outputs": [
    {
     "data": {
      "text/plain": [
       "8923"
      ]
     },
     "execution_count": 94,
     "metadata": {},
     "output_type": "execute_result"
    }
   ],
   "source": [
    "f"
   ]
  },
  {
   "cell_type": "code",
   "execution_count": 57,
   "metadata": {
    "collapsed": true
   },
   "outputs": [],
   "source": [
    "from ckonlpy.tag import Twitter\n",
    "from konlpy.tag import Twitter as Original_Twitter"
   ]
  },
  {
   "cell_type": "code",
   "execution_count": 58,
   "metadata": {
    "collapsed": true
   },
   "outputs": [],
   "source": [
    "tager_t = Twitter()"
   ]
  },
  {
   "cell_type": "code",
   "execution_count": 59,
   "metadata": {
    "collapsed": true
   },
   "outputs": [],
   "source": [
    "tager_t.add_dictionary(list(map(lambda x: ' '.join(x.split('_')), set(listIs))), 'Noun')"
   ]
  },
  {
   "cell_type": "code",
   "execution_count": null,
   "metadata": {
    "collapsed": true
   },
   "outputs": [],
   "source": [
    "tager_t.pos()"
   ]
  },
  {
   "cell_type": "code",
   "execution_count": 4,
   "metadata": {
    "collapsed": true
   },
   "outputs": [],
   "source": [
    "text = df['document'].as_matrix()\n",
    "y = df['label'].as_matrix()"
   ]
  },
  {
   "cell_type": "code",
   "execution_count": 7,
   "metadata": {
    "collapsed": true
   },
   "outputs": [],
   "source": [
    "twitter_tag = Twitter()\n",
    "mecab_tag = Mecab()"
   ]
  },
  {
   "cell_type": "code",
   "execution_count": 8,
   "metadata": {
    "collapsed": true
   },
   "outputs": [],
   "source": [
    "def Twitter_tokenizer(text):\n",
    "    return twitter_tag.morphs(text)"
   ]
  },
  {
   "cell_type": "code",
   "execution_count": 10,
   "metadata": {
    "collapsed": true
   },
   "outputs": [],
   "source": [
    "def Mecab_tokenizer(text):\n",
    "    return mecab_tag.morphs(text)"
   ]
  },
  {
   "cell_type": "code",
   "execution_count": 11,
   "metadata": {
    "collapsed": true
   },
   "outputs": [],
   "source": [
    "from sklearn.feature_extraction.text import TfidfVectorizer, CountVectorizer\n",
    "from sklearn.linear_model import LogisticRegression\n",
    "from sklearn.pipeline import make_pipeline\n",
    "from sklearn.model_selection import GridSearchCV"
   ]
  },
  {
   "cell_type": "code",
   "execution_count": 12,
   "metadata": {
    "collapsed": true
   },
   "outputs": [],
   "source": [
    "twit_pipe = make_pipeline(TfidfVectorizer(tokenizer=Twitter_tokenizer), LogisticRegression())\n",
    "mecab_pip = make_pipeline(TfidfVectorizer(tokenizer=Mecab_tokenizer), LogisticRegression())"
   ]
  },
  {
   "cell_type": "code",
   "execution_count": 14,
   "metadata": {
    "collapsed": true
   },
   "outputs": [],
   "source": [
    "param_grid = {'tfidfvectorizer__min_df': [3,6,7],\n",
    "             'tfidfvectorizer__ngram_range': [(1,1), (1,2), (1,3)], \n",
    "             'logisticregression__C':[0.1, 1, 10, 100]}"
   ]
  },
  {
   "cell_type": "code",
   "execution_count": 15,
   "metadata": {
    "collapsed": true
   },
   "outputs": [],
   "source": [
    "twit_grid = GridSearchCV(twit_pipe, param_grid)"
   ]
  },
  {
   "cell_type": "code",
   "execution_count": null,
   "metadata": {
    "collapsed": true
   },
   "outputs": [],
   "source": [
    "twit_grid.fit(text, y)"
   ]
  },
  {
   "cell_type": "code",
   "execution_count": null,
   "metadata": {
    "collapsed": true
   },
   "outputs": [],
   "source": [
    "mecab_grid = GridSearchCV(mecab_pip, param_grid)"
   ]
  },
  {
   "cell_type": "code",
   "execution_count": null,
   "metadata": {
    "collapsed": true
   },
   "outputs": [],
   "source": [
    "mecab_grid(text,y)"
   ]
  },
  {
   "cell_type": "code",
   "execution_count": null,
   "metadata": {
    "collapsed": true
   },
   "outputs": [],
   "source": []
  }
 ],
 "metadata": {
  "kernelspec": {
   "display_name": "Python 3",
   "language": "python",
   "name": "python3"
  },
  "language_info": {
   "codemirror_mode": {
    "name": "ipython",
    "version": 3
   },
   "file_extension": ".py",
   "mimetype": "text/x-python",
   "name": "python",
   "nbconvert_exporter": "python",
   "pygments_lexer": "ipython3",
   "version": "3.6.3"
  }
 },
 "nbformat": 4,
 "nbformat_minor": 2
}
